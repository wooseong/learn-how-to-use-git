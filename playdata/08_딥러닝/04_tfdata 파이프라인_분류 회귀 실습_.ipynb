{
 "cells": [
  {
   "cell_type": "markdown",
   "metadata": {
    "slideshow": {
     "slide_type": "slide"
    }
   },
   "source": [
    "# tf.data 모듈\n",
    "- 데이터 입력 파이프라인을 위한 모듈\n",
    "    - 모델 학습/평가를 위한 데이터셋을 제공(feeding)하기 위한 모듈\n",
    "   - raw dataset 에서 입력을 위한 **전처리**, **배치 크키**, **shuffling**등을 한번에 처리할 수 있게 한다.\n",
    "- tf.data.Dataset 추상클래스에서 상속된 여러가지 클래스들을 제공\n",
    "    - 입력 소스의 제공 형태, 어떤 처리를 하는지에 따라 다양한 하위클래스들이 제공된다."
   ]
  },
  {
   "cell_type": "markdown",
   "metadata": {
    "slideshow": {
     "slide_type": "fragment"
    }
   },
   "source": [
    "## Dataset API 사용\n",
    "1. **Dataset 생성**\n",
    "    - raw dataset을 지정 (Loading)\n",
    "    - from_tensor_slices(), from_generator() 클래스 메소드, tf.data.TFRecordDataset 클래스등를 사용해 메모리나 파일에 있는 데이터를 Dataset으로 만든다.\n",
    "    - **from_tensor_slices()**: 메모리의 리스트, 넘파이배열, 텐서플로 자료형에서 데이터를 생성한다."
   ]
  },
  {
   "cell_type": "markdown",
   "metadata": {
    "slideshow": {
     "slide_type": "fragment"
    }
   },
   "source": [
    "2. **제공 데이터 전처리**\n",
    "    - **map(함수)**: Dataset이 제공하는 원소를 처리해서 변환된 원소를 제공하도록 한다.\n",
    "        - 함수: 원소를 어떻게 변환할 지 정의한 함수를 매개변수로 전달한다.\n",
    "            - 매개변수: Dataset이 제공하는 원소를 받을 변수. \n",
    "            - 반환값: Dataset이 제공한 원소를 변경처리한 값.\n",
    "    - **filter(함수)**: Dataset이 제공하는 원소중 특정 조건을 만족하는(True)인 원소들만 제공한다.\n",
    "        - 함수: 원소가 특정조건을 만족하는지 여부를 확인하는 로직을 정의한 함수를 매개변수로 전달한다.\n",
    "            - 매개변수: Dataset이 제공하는 원소를 받을 변수.\n",
    "            - 반환값: Dataset이 제공한 원소가 특정조건을 만족하는지 여부(bool)"
   ]
  },
  {
   "cell_type": "markdown",
   "metadata": {
    "slideshow": {
     "slide_type": "fragment"
    }
   },
   "source": [
    "3. **데이터 제공 설정 관련**\n",
    "    - **batch(size)**: 학습/평가시 한번에 제공할 batch size 지정\n",
    "        - size: int. batch size 지정\n",
    "        - drop_remainder: bool. True일 경우 마지막 제공시 남은 데이터수가 batch size보다 작으면 제공하지 않는다.\n",
    "    - **shuffle(buffer 크기)**: dataset의 원소들의 순서를 섞는다. \n",
    "        - buffer 크기: int. buffer 크기는 섞는 공간의 크기로  **데이터보다 크거나 같으면** 완전셔플, **적으면 일부만 가져와서 섞어** 완전셔플이 안된다.\n",
    "        - 데이터 사이즈가 너무 커서 메모리가 부족할 경우 버퍼크기를 적게 준다.\n",
    "        - 메모리가 충분하다면 데이터의 개수와 동일하게 주면된다.\n",
    "    - **repeat(count)**: 전체 데이터를 한번 다 제공한 뒤 다시 데이터를 제공한다.\n",
    "        - count: 몇번 제공할지 반복 횟수\n",
    "        - shuffle이 적용된 Dataset의 경우 다음 반복 제공마다 shuffle을 진행한다. (에폭단위)\n",
    "        "
   ]
  },
  {
   "cell_type": "markdown",
   "metadata": {
    "slideshow": {
     "slide_type": "fragment"
    }
   },
   "source": [
    "- 각 tf.data 함수들은 각 기능에 맞게 데이터를 처리하는 Dataset 객체를 반환한다."
   ]
  },
  {
   "cell_type": "markdown",
   "metadata": {
    "slideshow": {
     "slide_type": "fragment"
    }
   },
   "source": [
    "### Dataset 메소드\n",
    "- take(개수): 지정한 개수만큼의 데이터만 제공한다."
   ]
  },
  {
   "cell_type": "code",
   "execution_count": 1,
   "metadata": {
    "ExecuteTime": {
     "end_time": "2023-02-20T03:36:33.442893Z",
     "start_time": "2023-02-20T03:36:29.769303Z"
    }
   },
   "outputs": [],
   "source": [
    "import tensorflow as tf\n",
    "import numpy as np"
   ]
  },
  {
   "cell_type": "markdown",
   "metadata": {
    "slideshow": {
     "slide_type": "fragment"
    }
   },
   "source": [
    "##### Tensor Type\n",
    ">- TensorFlow의 기본 data 자료구조.\n",
    ">- numpy가 ndarray를 이용해 데이터를 관리하듯이 tensorflow를 Tensor를 이용해 데이터를 관리한다.\n",
    ">    - Tesorflow의 모델이 학습, 평가할때 사용하는 데이터셋(train dataset, validation dataset, test dataset)은 tf.Tensor 타입이어야 한다.\n",
    ">        - 학습/평가(model.fit(), model.evaluate()) 할때 ndarray를 입력 데이터셋으로 넣어주면 내부적으로 tf.Tensor로 변형해서 처리.\n",
    ">        - tf.Tensor는 데이터셋을 ndarray로 가지고 있다."
   ]
  },
  {
   "cell_type": "code",
   "execution_count": 2,
   "metadata": {
    "ExecuteTime": {
     "end_time": "2023-02-20T03:41:27.700779Z",
     "start_time": "2023-02-20T03:41:27.648827Z"
    }
   },
   "outputs": [
    {
     "data": {
      "text/plain": [
       "<tf.Tensor: shape=(3,), dtype=float32, numpy=array([1., 2., 3.], dtype=float32)>"
      ]
     },
     "execution_count": 2,
     "metadata": {},
     "output_type": "execute_result"
    }
   ],
   "source": [
    "t = tf.constant([1,2,3], dtype='float32')\n",
    "t"
   ]
  },
  {
   "cell_type": "code",
   "execution_count": 4,
   "metadata": {
    "ExecuteTime": {
     "end_time": "2023-02-20T03:42:13.997058Z",
     "start_time": "2023-02-20T03:42:13.990424Z"
    }
   },
   "outputs": [
    {
     "data": {
      "text/plain": [
       "(TensorShape([3]), tf.float32)"
      ]
     },
     "execution_count": 4,
     "metadata": {},
     "output_type": "execute_result"
    }
   ],
   "source": [
    "t.shape, t.dtype"
   ]
  },
  {
   "cell_type": "code",
   "execution_count": 5,
   "metadata": {
    "ExecuteTime": {
     "end_time": "2023-02-20T03:42:51.746896Z",
     "start_time": "2023-02-20T03:42:51.726339Z"
    }
   },
   "outputs": [
    {
     "data": {
      "text/plain": [
       "array([1., 2., 3.], dtype=float32)"
      ]
     },
     "execution_count": 5,
     "metadata": {},
     "output_type": "execute_result"
    }
   ],
   "source": [
    "# Tensor -> ndarray로 변환\n",
    "a = t.numpy()\n",
    "a"
   ]
  },
  {
   "cell_type": "code",
   "execution_count": 6,
   "metadata": {
    "ExecuteTime": {
     "end_time": "2023-02-20T03:43:35.847593Z",
     "start_time": "2023-02-20T03:43:35.831974Z"
    }
   },
   "outputs": [
    {
     "data": {
      "text/plain": [
       "<tf.Tensor: shape=(10,), dtype=int32, numpy=array([0, 1, 2, 3, 4, 5, 6, 7, 8, 9])>"
      ]
     },
     "execution_count": 6,
     "metadata": {},
     "output_type": "execute_result"
    }
   ],
   "source": [
    "# ndarray/list => Tensor\n",
    "tf.constant(np.arange(10))"
   ]
  },
  {
   "cell_type": "code",
   "execution_count": 8,
   "metadata": {
    "ExecuteTime": {
     "end_time": "2023-02-20T03:43:54.379639Z",
     "start_time": "2023-02-20T03:43:54.359411Z"
    }
   },
   "outputs": [
    {
     "data": {
      "text/plain": [
       "<tf.Tensor: shape=(3,), dtype=float32, numpy=array([1., 2., 3.], dtype=float32)>"
      ]
     },
     "execution_count": 8,
     "metadata": {},
     "output_type": "execute_result"
    }
   ],
   "source": [
    "tf.convert_to_tensor(a)"
   ]
  },
  {
   "cell_type": "markdown",
   "metadata": {
    "slideshow": {
     "slide_type": "slide"
    }
   },
   "source": [
    "## Dataset 예제"
   ]
  },
  {
   "cell_type": "code",
   "execution_count": 9,
   "metadata": {
    "ExecuteTime": {
     "end_time": "2023-02-20T05:07:58.445802Z",
     "start_time": "2023-02-20T05:07:58.436367Z"
    }
   },
   "outputs": [
    {
     "data": {
      "text/plain": [
       "array([0, 1, 2, 3, 4, 5, 6, 7, 8, 9])"
      ]
     },
     "execution_count": 9,
     "metadata": {},
     "output_type": "execute_result"
    }
   ],
   "source": [
    "# 0 ~ 9 정수 => input data\n",
    "raw_data1 = np.arange(10)\n",
    "raw_data1"
   ]
  },
  {
   "cell_type": "code",
   "execution_count": 10,
   "metadata": {
    "ExecuteTime": {
     "end_time": "2023-02-20T05:09:46.458005Z",
     "start_time": "2023-02-20T05:09:46.435937Z"
    }
   },
   "outputs": [
    {
     "name": "stdout",
     "output_type": "stream",
     "text": [
      "<class 'tensorflow.python.data.ops.from_tensor_slices_op.TensorSliceDataset'>\n"
     ]
    }
   ],
   "source": [
    "# DataSet 을 생성 -> 대상 raw dataset 메모리에 있는 ndarray일때.\n",
    "dataset = tf.data.Dataset.from_tensor_slices(raw_data1)  # ndarray 데이터셋을 Dataset 파이프라인으로 읽어오는 역할\n",
    "print(type(dataset))"
   ]
  },
  {
   "cell_type": "code",
   "execution_count": 11,
   "metadata": {
    "ExecuteTime": {
     "end_time": "2023-02-20T05:12:50.376037Z",
     "start_time": "2023-02-20T05:12:50.322029Z"
    }
   },
   "outputs": [
    {
     "name": "stdout",
     "output_type": "stream",
     "text": [
      "tf.Tensor(0, shape=(), dtype=int32)\n",
      "tf.Tensor(1, shape=(), dtype=int32)\n",
      "tf.Tensor(2, shape=(), dtype=int32)\n",
      "tf.Tensor(3, shape=(), dtype=int32)\n",
      "tf.Tensor(4, shape=(), dtype=int32)\n",
      "tf.Tensor(5, shape=(), dtype=int32)\n",
      "tf.Tensor(6, shape=(), dtype=int32)\n",
      "tf.Tensor(7, shape=(), dtype=int32)\n",
      "tf.Tensor(8, shape=(), dtype=int32)\n",
      "tf.Tensor(9, shape=(), dtype=int32)\n"
     ]
    }
   ],
   "source": [
    "# Dataset -> Iterable타입 => for in\n",
    "for data in dataset:\n",
    "    print(data)"
   ]
  },
  {
   "cell_type": "code",
   "execution_count": 13,
   "metadata": {
    "ExecuteTime": {
     "end_time": "2023-02-20T05:15:55.384433Z",
     "start_time": "2023-02-20T05:15:55.354444Z"
    }
   },
   "outputs": [
    {
     "name": "stdout",
     "output_type": "stream",
     "text": [
      "tf.Tensor(0, shape=(), dtype=int32)\n",
      "tf.Tensor(1, shape=(), dtype=int32)\n",
      "tf.Tensor(2, shape=(), dtype=int32)\n",
      "tf.Tensor(3, shape=(), dtype=int32)\n",
      "tf.Tensor(4, shape=(), dtype=int32)\n"
     ]
    }
   ],
   "source": [
    "for data in dataset.take(5):  # dataset에서 3개만 조회\n",
    "    print(data)"
   ]
  },
  {
   "cell_type": "code",
   "execution_count": null,
   "metadata": {},
   "outputs": [],
   "source": []
  },
  {
   "cell_type": "markdown",
   "metadata": {
    "slideshow": {
     "slide_type": "slide"
    }
   },
   "source": [
    "##### x, y 묶어서 제공\n",
    "- 두개 이상의 데이터셋을 묶어서 제공할 경우 Tuple로 묶어준다.\n",
    "    - Dataset이 feeding 할 때는 같은 index의 값들을 tuple로 묶어서 제공 (zip()과 동일)"
   ]
  },
  {
   "cell_type": "code",
   "execution_count": 15,
   "metadata": {
    "ExecuteTime": {
     "end_time": "2023-02-20T05:17:31.910196Z",
     "start_time": "2023-02-20T05:17:31.890335Z"
    }
   },
   "outputs": [
    {
     "name": "stdout",
     "output_type": "stream",
     "text": [
      "[0 1 2 3 4 5 6 7 8 9] 10\n",
      "[10 11 12 13 14 15 16 17 18 19] 10\n"
     ]
    }
   ],
   "source": [
    "raw_data2 = np.arange(10, 20)\n",
    "print(raw_data1, len(raw_data1))   # X\n",
    "print(raw_data2, len(raw_data2))   # y"
   ]
  },
  {
   "cell_type": "code",
   "execution_count": 16,
   "metadata": {
    "ExecuteTime": {
     "end_time": "2023-02-20T05:20:30.967956Z",
     "start_time": "2023-02-20T05:20:30.939381Z"
    }
   },
   "outputs": [
    {
     "name": "stdout",
     "output_type": "stream",
     "text": [
      "(<tf.Tensor: shape=(), dtype=int32, numpy=0>, <tf.Tensor: shape=(), dtype=int32, numpy=10>)\n"
     ]
    }
   ],
   "source": [
    "dataset2 = tf.data.Dataset.from_tensor_slices( (raw_data1, raw_data2) )\n",
    "for data in dataset2.take(1):  # 두 dataset(raw_data1, raw_data2)의 같은 index의 값들을 묶어서 튜플로 반환.\n",
    "    print(data)"
   ]
  },
  {
   "cell_type": "code",
   "execution_count": 17,
   "metadata": {
    "ExecuteTime": {
     "end_time": "2023-02-20T05:22:03.227148Z",
     "start_time": "2023-02-20T05:22:03.213707Z"
    }
   },
   "outputs": [
    {
     "name": "stdout",
     "output_type": "stream",
     "text": [
      "tf.Tensor(0, shape=(), dtype=int32) ====== tf.Tensor(10, shape=(), dtype=int32)\n",
      "tf.Tensor(1, shape=(), dtype=int32) ====== tf.Tensor(11, shape=(), dtype=int32)\n",
      "tf.Tensor(2, shape=(), dtype=int32) ====== tf.Tensor(12, shape=(), dtype=int32)\n",
      "tf.Tensor(3, shape=(), dtype=int32) ====== tf.Tensor(13, shape=(), dtype=int32)\n",
      "tf.Tensor(4, shape=(), dtype=int32) ====== tf.Tensor(14, shape=(), dtype=int32)\n",
      "tf.Tensor(5, shape=(), dtype=int32) ====== tf.Tensor(15, shape=(), dtype=int32)\n",
      "tf.Tensor(6, shape=(), dtype=int32) ====== tf.Tensor(16, shape=(), dtype=int32)\n",
      "tf.Tensor(7, shape=(), dtype=int32) ====== tf.Tensor(17, shape=(), dtype=int32)\n",
      "tf.Tensor(8, shape=(), dtype=int32) ====== tf.Tensor(18, shape=(), dtype=int32)\n",
      "tf.Tensor(9, shape=(), dtype=int32) ====== tf.Tensor(19, shape=(), dtype=int32)\n"
     ]
    }
   ],
   "source": [
    "for x, y in dataset2:\n",
    "    print(x, y, sep=' ====== ')"
   ]
  },
  {
   "cell_type": "markdown",
   "metadata": {
    "slideshow": {
     "slide_type": "slide"
    }
   },
   "source": [
    "##### shuffle\n",
    "- 데이터셋을 섞는다."
   ]
  },
  {
   "cell_type": "code",
   "execution_count": 18,
   "metadata": {
    "ExecuteTime": {
     "end_time": "2023-02-20T05:23:23.196501Z",
     "start_time": "2023-02-20T05:23:23.179256Z"
    }
   },
   "outputs": [
    {
     "name": "stdout",
     "output_type": "stream",
     "text": [
      "tf.Tensor(0, shape=(), dtype=int32)\n",
      "tf.Tensor(1, shape=(), dtype=int32)\n",
      "tf.Tensor(2, shape=(), dtype=int32)\n",
      "tf.Tensor(3, shape=(), dtype=int32)\n",
      "tf.Tensor(4, shape=(), dtype=int32)\n",
      "tf.Tensor(5, shape=(), dtype=int32)\n",
      "tf.Tensor(6, shape=(), dtype=int32)\n",
      "tf.Tensor(7, shape=(), dtype=int32)\n",
      "tf.Tensor(8, shape=(), dtype=int32)\n",
      "tf.Tensor(9, shape=(), dtype=int32)\n"
     ]
    }
   ],
   "source": [
    "for data in dataset:\n",
    "    print(data)"
   ]
  },
  {
   "cell_type": "code",
   "execution_count": 22,
   "metadata": {
    "ExecuteTime": {
     "end_time": "2023-02-20T05:36:03.945902Z",
     "start_time": "2023-02-20T05:36:03.916339Z"
    }
   },
   "outputs": [
    {
     "name": "stdout",
     "output_type": "stream",
     "text": [
      "<class 'tensorflow.python.data.ops.dataset_ops.ShuffleDataset'>\n"
     ]
    }
   ],
   "source": [
    "raw_data1 = np.arange(10)\n",
    "dataset = tf.data.Dataset.from_tensor_slices(raw_data1)\n",
    "dataset3 = dataset.shuffle(3)  # dataset을 섞어준다. 데이터셋을 처음 읽을때 한번 섞는다. \n",
    "# 10: buffer size => 지정한 개수만큼만 섞는다.\n",
    "print(type(dataset3))"
   ]
  },
  {
   "cell_type": "code",
   "execution_count": 23,
   "metadata": {
    "ExecuteTime": {
     "end_time": "2023-02-20T05:36:06.223191Z",
     "start_time": "2023-02-20T05:36:06.196828Z"
    }
   },
   "outputs": [
    {
     "name": "stdout",
     "output_type": "stream",
     "text": [
      "tf.Tensor(0, shape=(), dtype=int32)\n",
      "tf.Tensor(1, shape=(), dtype=int32)\n",
      "tf.Tensor(3, shape=(), dtype=int32)\n",
      "tf.Tensor(2, shape=(), dtype=int32)\n",
      "tf.Tensor(4, shape=(), dtype=int32)\n",
      "tf.Tensor(6, shape=(), dtype=int32)\n",
      "tf.Tensor(8, shape=(), dtype=int32)\n",
      "tf.Tensor(5, shape=(), dtype=int32)\n",
      "tf.Tensor(7, shape=(), dtype=int32)\n",
      "tf.Tensor(9, shape=(), dtype=int32)\n"
     ]
    }
   ],
   "source": [
    "for data in dataset3:\n",
    "    print(data)"
   ]
  },
  {
   "cell_type": "markdown",
   "metadata": {
    "slideshow": {
     "slide_type": "slide"
    }
   },
   "source": [
    "##### batch\n",
    "- drop_remainder: boolean(기본-False)\n",
    "    - batch로 제공할 데이터의 개수가 설정한 batch_size 보다 적으면 제공하지 않는다.\n",
    "    - Train dataset을 만들때 True로 설정하여 항상 일정한 batch size로 학습할 수 있도록 한다. drop 되는 데이터는 다른 epoch을 반복할 때 사용된다."
   ]
  },
  {
   "cell_type": "code",
   "execution_count": 25,
   "metadata": {
    "ExecuteTime": {
     "end_time": "2023-02-20T05:38:30.030526Z",
     "start_time": "2023-02-20T05:38:30.004621Z"
    }
   },
   "outputs": [
    {
     "name": "stdout",
     "output_type": "stream",
     "text": [
      "<class 'tensorflow.python.data.ops.dataset_ops.BatchDataset'>\n",
      "tf.Tensor([0 1 2 3 4], shape=(5,), dtype=int32)\n",
      "tf.Tensor([5 6 7 8 9], shape=(5,), dtype=int32)\n"
     ]
    }
   ],
   "source": [
    "dataset4 = dataset.batch(5)   # batch size 설정 => 한번에 지정한 개수만큼 제공.\n",
    "print(type(dataset4))\n",
    "for data in dataset4:\n",
    "    print(data)"
   ]
  },
  {
   "cell_type": "code",
   "execution_count": 27,
   "metadata": {
    "ExecuteTime": {
     "end_time": "2023-02-20T05:40:32.695537Z",
     "start_time": "2023-02-20T05:40:32.676627Z"
    }
   },
   "outputs": [
    {
     "name": "stdout",
     "output_type": "stream",
     "text": [
      "tf.Tensor([0 1 2], shape=(3,), dtype=int32)\n",
      "tf.Tensor([3 4 5], shape=(3,), dtype=int32)\n",
      "tf.Tensor([6 7 8], shape=(3,), dtype=int32)\n"
     ]
    }
   ],
   "source": [
    "dataset5 = dataset.batch(3, drop_remainder=True) # 읽어올 데이터의 개수가 batch_size보다 적으면 제공하지 않는다. => train dataset 생성할때 설정.\n",
    "for data in dataset5:\n",
    "    print(data)"
   ]
  },
  {
   "cell_type": "markdown",
   "metadata": {
    "slideshow": {
     "slide_type": "slide"
    }
   },
   "source": [
    "##### repeat"
   ]
  },
  {
   "cell_type": "code",
   "execution_count": 30,
   "metadata": {
    "ExecuteTime": {
     "end_time": "2023-02-20T05:45:17.907350Z",
     "start_time": "2023-02-20T05:45:17.876687Z"
    },
    "collapsed": true
   },
   "outputs": [
    {
     "name": "stdout",
     "output_type": "stream",
     "text": [
      "<class 'tensorflow.python.data.ops.dataset_ops.RepeatDataset'>\n",
      "tf.Tensor(0, shape=(), dtype=int32)\n",
      "tf.Tensor(1, shape=(), dtype=int32)\n",
      "tf.Tensor(2, shape=(), dtype=int32)\n",
      "tf.Tensor(3, shape=(), dtype=int32)\n",
      "tf.Tensor(4, shape=(), dtype=int32)\n",
      "tf.Tensor(5, shape=(), dtype=int32)\n",
      "tf.Tensor(6, shape=(), dtype=int32)\n",
      "tf.Tensor(7, shape=(), dtype=int32)\n",
      "tf.Tensor(8, shape=(), dtype=int32)\n",
      "tf.Tensor(9, shape=(), dtype=int32)\n",
      "tf.Tensor(0, shape=(), dtype=int32)\n",
      "tf.Tensor(1, shape=(), dtype=int32)\n",
      "tf.Tensor(2, shape=(), dtype=int32)\n",
      "tf.Tensor(3, shape=(), dtype=int32)\n",
      "tf.Tensor(4, shape=(), dtype=int32)\n",
      "tf.Tensor(5, shape=(), dtype=int32)\n",
      "tf.Tensor(6, shape=(), dtype=int32)\n",
      "tf.Tensor(7, shape=(), dtype=int32)\n",
      "tf.Tensor(8, shape=(), dtype=int32)\n",
      "tf.Tensor(9, shape=(), dtype=int32)\n",
      "tf.Tensor(0, shape=(), dtype=int32)\n",
      "tf.Tensor(1, shape=(), dtype=int32)\n",
      "tf.Tensor(2, shape=(), dtype=int32)\n",
      "tf.Tensor(3, shape=(), dtype=int32)\n",
      "tf.Tensor(4, shape=(), dtype=int32)\n",
      "tf.Tensor(5, shape=(), dtype=int32)\n",
      "tf.Tensor(6, shape=(), dtype=int32)\n",
      "tf.Tensor(7, shape=(), dtype=int32)\n",
      "tf.Tensor(8, shape=(), dtype=int32)\n",
      "tf.Tensor(9, shape=(), dtype=int32)\n",
      "tf.Tensor(0, shape=(), dtype=int32)\n",
      "tf.Tensor(1, shape=(), dtype=int32)\n",
      "tf.Tensor(2, shape=(), dtype=int32)\n",
      "tf.Tensor(3, shape=(), dtype=int32)\n",
      "tf.Tensor(4, shape=(), dtype=int32)\n",
      "tf.Tensor(5, shape=(), dtype=int32)\n",
      "tf.Tensor(6, shape=(), dtype=int32)\n",
      "tf.Tensor(7, shape=(), dtype=int32)\n",
      "tf.Tensor(8, shape=(), dtype=int32)\n",
      "tf.Tensor(9, shape=(), dtype=int32)\n",
      "tf.Tensor(0, shape=(), dtype=int32)\n",
      "tf.Tensor(1, shape=(), dtype=int32)\n",
      "tf.Tensor(2, shape=(), dtype=int32)\n",
      "tf.Tensor(3, shape=(), dtype=int32)\n",
      "tf.Tensor(4, shape=(), dtype=int32)\n",
      "tf.Tensor(5, shape=(), dtype=int32)\n",
      "tf.Tensor(6, shape=(), dtype=int32)\n",
      "tf.Tensor(7, shape=(), dtype=int32)\n",
      "tf.Tensor(8, shape=(), dtype=int32)\n",
      "tf.Tensor(9, shape=(), dtype=int32)\n"
     ]
    }
   ],
   "source": [
    "dataset6 = dataset.repeat(5)  # 지정한 횟수만큼 데이터를 반복해서 제공한다. (default: 1 - 한번)\n",
    "print(type(dataset6))\n",
    "for data in dataset6:\n",
    "    print(data)"
   ]
  },
  {
   "cell_type": "code",
   "execution_count": 41,
   "metadata": {
    "ExecuteTime": {
     "end_time": "2023-02-20T05:54:04.952294Z",
     "start_time": "2023-02-20T05:54:04.923447Z"
    }
   },
   "outputs": [
    {
     "name": "stdout",
     "output_type": "stream",
     "text": [
      "tf.Tensor([0 7 5], shape=(3,), dtype=int32)\n",
      "tf.Tensor([2 6 3], shape=(3,), dtype=int32)\n",
      "tf.Tensor([8 9 1], shape=(3,), dtype=int32)\n",
      "tf.Tensor([4], shape=(1,), dtype=int32)\n",
      "tf.Tensor([2 4 0], shape=(3,), dtype=int32)\n",
      "tf.Tensor([8 7 6], shape=(3,), dtype=int32)\n",
      "tf.Tensor([1 3 5], shape=(3,), dtype=int32)\n",
      "tf.Tensor([9], shape=(1,), dtype=int32)\n",
      "tf.Tensor([6 8 4], shape=(3,), dtype=int32)\n",
      "tf.Tensor([7 5 1], shape=(3,), dtype=int32)\n",
      "tf.Tensor([3 0 2], shape=(3,), dtype=int32)\n",
      "tf.Tensor([9], shape=(1,), dtype=int32)\n"
     ]
    }
   ],
   "source": [
    "dataset7 = tf.data.Dataset.from_tensor_slices(raw_data1).shuffle(10).batch(3).repeat(3) # 데이터셋을 반복할때 마다 shuffle\n",
    "for data in dataset7:\n",
    "    print(data)"
   ]
  },
  {
   "cell_type": "markdown",
   "metadata": {
    "slideshow": {
     "slide_type": "slide"
    }
   },
   "source": [
    "##### map"
   ]
  },
  {
   "cell_type": "code",
   "execution_count": 43,
   "metadata": {
    "ExecuteTime": {
     "end_time": "2023-02-20T06:14:18.975993Z",
     "start_time": "2023-02-20T06:14:18.924909Z"
    },
    "scrolled": true
   },
   "outputs": [
    {
     "name": "stdout",
     "output_type": "stream",
     "text": [
      "<class 'tensorflow.python.data.ops.dataset_ops.MapDataset'>\n",
      "tf.Tensor(0, shape=(), dtype=int32)\n",
      "tf.Tensor(2, shape=(), dtype=int32)\n",
      "tf.Tensor(4, shape=(), dtype=int32)\n",
      "tf.Tensor(6, shape=(), dtype=int32)\n",
      "tf.Tensor(8, shape=(), dtype=int32)\n",
      "tf.Tensor(10, shape=(), dtype=int32)\n",
      "tf.Tensor(12, shape=(), dtype=int32)\n",
      "tf.Tensor(14, shape=(), dtype=int32)\n",
      "tf.Tensor(16, shape=(), dtype=int32)\n",
      "tf.Tensor(18, shape=(), dtype=int32)\n"
     ]
    }
   ],
   "source": [
    "dataset8 = dataset.map(lambda x: x * 2)\n",
    "print(type(dataset8))\n",
    "for data in dataset8:\n",
    "    print(data)"
   ]
  },
  {
   "cell_type": "code",
   "execution_count": 47,
   "metadata": {
    "ExecuteTime": {
     "end_time": "2023-02-20T06:17:36.942009Z",
     "start_time": "2023-02-20T06:17:36.861093Z"
    }
   },
   "outputs": [
    {
     "name": "stdout",
     "output_type": "stream",
     "text": [
      "tf.Tensor(0, shape=(), dtype=int32) tf.Tensor(10, shape=(), dtype=int32)\n",
      "tf.Tensor(1, shape=(), dtype=int32) tf.Tensor(11, shape=(), dtype=int32)\n",
      "tf.Tensor(4, shape=(), dtype=int32) tf.Tensor(12, shape=(), dtype=int32)\n",
      "tf.Tensor(9, shape=(), dtype=int32) tf.Tensor(13, shape=(), dtype=int32)\n",
      "tf.Tensor(16, shape=(), dtype=int32) tf.Tensor(14, shape=(), dtype=int32)\n",
      "tf.Tensor(25, shape=(), dtype=int32) tf.Tensor(15, shape=(), dtype=int32)\n",
      "tf.Tensor(36, shape=(), dtype=int32) tf.Tensor(16, shape=(), dtype=int32)\n",
      "tf.Tensor(49, shape=(), dtype=int32) tf.Tensor(17, shape=(), dtype=int32)\n",
      "tf.Tensor(64, shape=(), dtype=int32) tf.Tensor(18, shape=(), dtype=int32)\n",
      "tf.Tensor(81, shape=(), dtype=int32) tf.Tensor(19, shape=(), dtype=int32)\n"
     ]
    }
   ],
   "source": [
    "# 두개의 dataset(x,y)을 묶은 Dataset객체\n",
    "def map_func(x, y):\n",
    "    return x**2, y   # X는 제곱, y는 그대로 반환.\n",
    "\n",
    "dataset9 = dataset2.map(map_func)\n",
    "for x, y in dataset9:\n",
    "    print(x, y)"
   ]
  },
  {
   "cell_type": "markdown",
   "metadata": {
    "slideshow": {
     "slide_type": "slide"
    }
   },
   "source": [
    "##### filter"
   ]
  },
  {
   "cell_type": "code",
   "execution_count": 49,
   "metadata": {
    "ExecuteTime": {
     "end_time": "2023-02-20T06:19:58.264243Z",
     "start_time": "2023-02-20T06:19:58.214205Z"
    }
   },
   "outputs": [
    {
     "name": "stdout",
     "output_type": "stream",
     "text": [
      "<class 'tensorflow.python.data.ops.filter_op.FilterDataset'>\n",
      "tf.Tensor(0, shape=(), dtype=int32)\n",
      "tf.Tensor(2, shape=(), dtype=int32)\n",
      "tf.Tensor(4, shape=(), dtype=int32)\n",
      "tf.Tensor(6, shape=(), dtype=int32)\n",
      "tf.Tensor(8, shape=(), dtype=int32)\n"
     ]
    }
   ],
   "source": [
    "def filter_func(x):\n",
    "    return x % 2 == 0  # 2의 배수: True\n",
    "\n",
    "dataset11 = dataset.filter(filter_func)\n",
    "print(type(dataset11))\n",
    "for data in dataset11:\n",
    "    print(data)"
   ]
  },
  {
   "cell_type": "markdown",
   "metadata": {
    "slideshow": {
     "slide_type": "slide"
    }
   },
   "source": [
    "# 문제 유형별 MLP 네트워크\n",
    "- MLP(Multi Layer Perceptron), ANN(Artificial Neural Network), DNN (Deep Neural Network)\n",
    "    - Fully Connected Layer(Dense)로 구성된 네트워크"
   ]
  },
  {
   "cell_type": "code",
   "execution_count": 50,
   "metadata": {
    "ExecuteTime": {
     "end_time": "2023-02-20T06:26:38.962800Z",
     "start_time": "2023-02-20T06:26:23.503137Z"
    },
    "collapsed": true
   },
   "outputs": [
    {
     "name": "stdout",
     "output_type": "stream",
     "text": [
      "Collecting scikit-learn\n",
      "  Using cached scikit_learn-1.2.1-cp39-cp39-win_amd64.whl (8.4 MB)\n",
      "Requirement already satisfied: numpy>=1.17.3 in c:\\users\\playdata\\anaconda3\\envs\\tf\\lib\\site-packages (from scikit-learn) (1.24.2)\n",
      "Collecting threadpoolctl>=2.0.0\n",
      "  Using cached threadpoolctl-3.1.0-py3-none-any.whl (14 kB)\n",
      "Collecting scipy>=1.3.2\n",
      "  Downloading scipy-1.10.1-cp39-cp39-win_amd64.whl (42.5 MB)\n",
      "     --------------------------------------- 42.5/42.5 MB 50.4 MB/s eta 0:00:00\n",
      "Collecting joblib>=1.1.1\n",
      "  Using cached joblib-1.2.0-py3-none-any.whl (297 kB)\n",
      "Installing collected packages: threadpoolctl, scipy, joblib, scikit-learn\n",
      "Successfully installed joblib-1.2.0 scikit-learn-1.2.1 scipy-1.10.1 threadpoolctl-3.1.0\n"
     ]
    }
   ],
   "source": [
    "!pip install scikit-learn --upgrade"
   ]
  },
  {
   "cell_type": "markdown",
   "metadata": {
    "slideshow": {
     "slide_type": "fragment"
    }
   },
   "source": [
    "# Regression(회귀)\n",
    "\n",
    "## Boston Housing Dataset\n",
    "보스턴 주택가격 dataset은 다음과 같은 속성을 바탕으로 해당 타운 주택 가격의 중앙값을 예측하는 문제.\n",
    "- CRIM: 범죄율\n",
    "- ZN: 25,000 평방피트당 주거지역 비율\n",
    "- INDUS: 비소매 상업지구 비율\n",
    "- CHAS: 찰스강에 인접해 있는지 여부(인접:1, 아니면:0)\n",
    "- NOX: 일산화질소 농도(단위: 0.1ppm)\n",
    "- RM: 주택당 방의 수\n",
    "- AGE: 1940년 이전에 건설된 주택의 비율\n",
    "- DIS: 5개의 보스턴 직업고용센터와의 거리(가중 평균)\n",
    "- RAD: 고속도로 접근성\n",
    "- TAX: 재산세율\n",
    "- PTRATIO: 학생/교사 비율\n",
    "- B: 흑인 비율\n",
    "- LSTAT: 하위 계층 비율\n",
    "<br><br>\n",
    "- **Target**\n",
    "    - MEDV: 타운의 주택가격 중앙값(단위: 1,000달러)"
   ]
  },
  {
   "cell_type": "code",
   "execution_count": 1,
   "metadata": {
    "ExecuteTime": {
     "end_time": "2023-02-21T00:22:20.205916Z",
     "start_time": "2023-02-21T00:22:11.380300Z"
    }
   },
   "outputs": [],
   "source": [
    "import tensorflow as tf\n",
    "from tensorflow import keras\n",
    "from tensorflow.keras import layers\n",
    "\n",
    "import numpy as np\n",
    "import matplotlib.pyplot as plt\n",
    "\n",
    "from sklearn.preprocessing import StandardScaler\n",
    "\n",
    "import random"
   ]
  },
  {
   "cell_type": "code",
   "execution_count": 2,
   "metadata": {
    "ExecuteTime": {
     "end_time": "2023-02-21T00:22:20.236471Z",
     "start_time": "2023-02-21T00:22:20.222832Z"
    }
   },
   "outputs": [],
   "source": [
    "# random seed값 설정\n",
    "tf.random.set_seed(0)\n",
    "np.random.seed(0)\n",
    "random.seed(0)"
   ]
  },
  {
   "cell_type": "markdown",
   "metadata": {
    "slideshow": {
     "slide_type": "slide"
    }
   },
   "source": [
    "##### 데이터 로딩"
   ]
  },
  {
   "cell_type": "code",
   "execution_count": 3,
   "metadata": {
    "ExecuteTime": {
     "end_time": "2023-02-21T00:22:20.299332Z",
     "start_time": "2023-02-21T00:22:20.259810Z"
    }
   },
   "outputs": [
    {
     "name": "stdout",
     "output_type": "stream",
     "text": [
      "(404, 13) (404,)\n",
      "(102, 13) (102,)\n"
     ]
    }
   ],
   "source": [
    "(train_X, y_train), (test_X, y_test) = keras.datasets.boston_housing.load_data()\n",
    "print(train_X.shape, y_train.shape)\n",
    "print(test_X.shape, y_test.shape)"
   ]
  },
  {
   "cell_type": "code",
   "execution_count": null,
   "metadata": {},
   "outputs": [],
   "source": [
    "# y-> MinMaxScaling => 0 ~ 1  output layer 의 activation 을 sigmoid"
   ]
  },
  {
   "cell_type": "code",
   "execution_count": 9,
   "metadata": {
    "ExecuteTime": {
     "end_time": "2023-02-21T00:34:49.191418Z",
     "start_time": "2023-02-21T00:34:49.176891Z"
    }
   },
   "outputs": [
    {
     "name": "stdout",
     "output_type": "stream",
     "text": [
      "[  1.23247   0.        8.14      0.        0.538     6.142    91.7\n",
      "   3.9769    4.      307.       21.      396.9      18.72   ]\n",
      "15.2\n"
     ]
    }
   ],
   "source": [
    "print(train_X[0])\n",
    "print(y_train[0])"
   ]
  },
  {
   "cell_type": "markdown",
   "metadata": {
    "slideshow": {
     "slide_type": "slide"
    }
   },
   "source": [
    "##### 하이퍼파라미터, 변수 정의"
   ]
  },
  {
   "cell_type": "code",
   "execution_count": 10,
   "metadata": {
    "ExecuteTime": {
     "end_time": "2023-02-21T00:34:49.530571Z",
     "start_time": "2023-02-21T00:34:49.509275Z"
    }
   },
   "outputs": [],
   "source": [
    "#하이퍼파라미터 변수\n",
    "\n",
    "# 학습율 => 경사하강법에서 구한 gradient(경사-미분계수)에 곱해주는 값으로 0 ~ 1 사이 실수를 지정한다. optimizer 생성때 설정.\n",
    "LEARNING_RATE = 0.001  \n",
    "N_EPOCH = 200 # 에폭수\n",
    "N_BATCH = 400 # Train 배치사이즈\n",
    "N_BATCH_VAL = 50 # Validation/evaluation 배치 사이즈. ==> 교차검증 폴더 데이터 수."
   ]
  },
  {
   "cell_type": "markdown",
   "metadata": {
    "slideshow": {
     "slide_type": "fragment"
    }
   },
   "source": [
    "##### X, y 전처리\n",
    "- MLP는 선형모델을 기반으로 하므로 Feature scaling을 해준다."
   ]
  },
  {
   "cell_type": "code",
   "execution_count": 11,
   "metadata": {
    "ExecuteTime": {
     "end_time": "2023-02-21T00:34:50.184991Z",
     "start_time": "2023-02-21T00:34:50.161694Z"
    }
   },
   "outputs": [],
   "source": [
    "scaler = StandardScaler()\n",
    "X_train = scaler.fit_transform(train_X)\n",
    "X_test = scaler.transform(test_X)"
   ]
  },
  {
   "cell_type": "code",
   "execution_count": 12,
   "metadata": {
    "ExecuteTime": {
     "end_time": "2023-02-21T00:34:50.712851Z",
     "start_time": "2023-02-21T00:34:50.700040Z"
    }
   },
   "outputs": [
    {
     "data": {
      "text/plain": [
       "(2.6016254395785847e-15, 0.9999999999999993)"
      ]
     },
     "execution_count": 12,
     "metadata": {},
     "output_type": "execute_result"
    }
   ],
   "source": [
    "X_train.mean(), X_train.std()"
   ]
  },
  {
   "cell_type": "code",
   "execution_count": 13,
   "metadata": {
    "ExecuteTime": {
     "end_time": "2023-02-21T00:34:52.707974Z",
     "start_time": "2023-02-21T00:34:52.703816Z"
    }
   },
   "outputs": [],
   "source": [
    "# 회귀: y는 그대로 사용."
   ]
  },
  {
   "cell_type": "markdown",
   "metadata": {
    "slideshow": {
     "slide_type": "slide"
    }
   },
   "source": [
    "##### Dataset 생성\n",
    "\n",
    "- validation/test set의 pipe line은 동일하게 구성한다.\n",
    "- train dataset은 shuffle을 추가하고 batch에 drop_remainder=True를 설정한다.\n",
    "- map, filter 를 pipe line에 추가할 경우 train/validation/test set에 모두 동일하게 적용한다."
   ]
  },
  {
   "cell_type": "code",
   "execution_count": 14,
   "metadata": {
    "ExecuteTime": {
     "end_time": "2023-02-21T00:34:53.122939Z",
     "start_time": "2023-02-21T00:34:53.074016Z"
    }
   },
   "outputs": [],
   "source": [
    "train_dataset = tf.data.Dataset.from_tensor_slices((X_train, y_train)) \\\n",
    "                               .shuffle(X_train.shape[0])\\\n",
    "                               .batch(N_BATCH, drop_remainder=True)\n",
    "\n",
    "test_dataset = tf.data.Dataset.from_tensor_slices((X_test, y_test)).batch(N_BATCH_VAL)\n",
    "#  test/validation set은 1. shuffle 안한다. (평균결과로 평가하기 때문에.) \n",
    "#                        2. batch->drop_remainder=False(기본)으로 설정."
   ]
  },
  {
   "cell_type": "code",
   "execution_count": 66,
   "metadata": {
    "ExecuteTime": {
     "end_time": "2023-02-20T06:53:12.146779Z",
     "start_time": "2023-02-20T06:53:12.127435Z"
    }
   },
   "outputs": [
    {
     "name": "stdout",
     "output_type": "stream",
     "text": [
      "에폭당 step수: 1\n",
      "에폭당 step수: 3\n"
     ]
    }
   ],
   "source": [
    "print('에폭당 step수:', len(train_dataset))\n",
    "print('에폭당 step수:', len(test_dataset))"
   ]
  },
  {
   "cell_type": "code",
   "execution_count": 67,
   "metadata": {
    "ExecuteTime": {
     "end_time": "2023-02-20T06:53:12.146779Z",
     "start_time": "2023-02-20T06:53:12.127435Z"
    }
   },
   "outputs": [
    {
     "data": {
      "text/plain": [
       "(102, 13)"
      ]
     },
     "execution_count": 67,
     "metadata": {},
     "output_type": "execute_result"
    }
   ],
   "source": [
    "X_test.shape"
   ]
  },
  {
   "cell_type": "markdown",
   "metadata": {
    "slideshow": {
     "slide_type": "slide"
    }
   },
   "source": [
    "##### 모델 구현\n",
    "\n",
    "1. 모델 객체 생성 - Sequential\n",
    "2. 모델에 Layer들 추가\n",
    "    - Input Layer 추가\n",
    "        - 입력 데이터의 shape을 지정한다.\n",
    "        1. InputLayer 객체를 생성해서 추가한다.\n",
    "        2. 첫번째 Hidden Layer에 input_shape 매개변수에 shape을 지정하여 추가한다.\n",
    "    - Hidden Layer들 추가\n",
    "        - Layer의 개수와 Layer의 Unit의 개수는 튜닝대상으로 성능에 영향을 준다.\n",
    "        - 활성함수는 ReLU 를 사용한다.\n",
    "        - Layer의 개수와 Unit 개수가 많을 수록 복잡한 모델, 적을 수록 단순한 모델이된다.\n",
    "    - Output Layer 추가\n",
    "        - 풀려는 문제에 따라 unit개수와 활성함수를 지정한다."
   ]
  },
  {
   "cell_type": "code",
   "execution_count": 70,
   "metadata": {
    "ExecuteTime": {
     "end_time": "2023-02-20T07:29:01.595816Z",
     "start_time": "2023-02-20T07:29:01.586525Z"
    }
   },
   "outputs": [],
   "source": [
    "def get_model_boston(lr=0.01):\n",
    "    model = keras.Sequential()\n",
    "    # 첫번째 hidden layer에 input shape을 지정하고 InputLayer 추가를 생략.\n",
    "    # Activation 함수 Layer(layers.ReLU())는 Dense Layer 생성시 activation 속성에 추가 가능.\n",
    "    model.add(layers.Dense(units=32, activation='relu', input_shape=(13, )))\n",
    "    model.add(layers.Dense(units=16, activation='relu'))\n",
    "    model.add(layers.Dense(units=8, activation='relu'))\n",
    "    \n",
    "    # 회귀 output layer: unit개수-예측하려는 값의 개수.  \n",
    "    #            활성함수 - 보통: None. 값의 범위를 맞추기 위해 logistic함수(sigmoid-0~1)나 tanh(-1~1)을 사용할 수 있다.\n",
    "    # y: 1개(집값의 중위수)\n",
    "    model.add(layers.Dense(units=1)) #activation : None\n",
    "    \n",
    "    # 컴파일\n",
    "    model.compile(optimizer=keras.optimizers.Adam(learning_rate=lr), # default값으로 생성된 것을 사용할 경우 문자열로 지정.\n",
    "                  loss='mse')\n",
    "    return model"
   ]
  },
  {
   "cell_type": "code",
   "execution_count": 82,
   "metadata": {
    "ExecuteTime": {
     "end_time": "2023-02-20T07:44:56.270329Z",
     "start_time": "2023-02-20T07:44:56.177815Z"
    }
   },
   "outputs": [
    {
     "name": "stdout",
     "output_type": "stream",
     "text": [
      "Model: \"sequential_2\"\n",
      "_________________________________________________________________\n",
      " Layer (type)                Output Shape              Param #   \n",
      "=================================================================\n",
      " dense_8 (Dense)             (None, 32)                448       \n",
      "                                                                 \n",
      " dense_9 (Dense)             (None, 16)                528       \n",
      "                                                                 \n",
      " dense_10 (Dense)            (None, 8)                 136       \n",
      "                                                                 \n",
      " dense_11 (Dense)            (None, 1)                 9         \n",
      "                                                                 \n",
      "=================================================================\n",
      "Total params: 1,121\n",
      "Trainable params: 1,121\n",
      "Non-trainable params: 0\n",
      "_________________________________________________________________\n"
     ]
    }
   ],
   "source": [
    "# model_boston = get_model_boston(LEARNING_RATE)\n",
    "model_boston = get_model_boston()\n",
    "# 딥러닝 모델의 구조 확인\n",
    "model_boston.summary()"
   ]
  },
  {
   "cell_type": "code",
   "execution_count": 73,
   "metadata": {
    "ExecuteTime": {
     "end_time": "2023-02-20T07:32:45.102508Z",
     "start_time": "2023-02-20T07:32:45.080819Z"
    }
   },
   "outputs": [
    {
     "data": {
      "text/plain": [
       "448"
      ]
     },
     "execution_count": 73,
     "metadata": {},
     "output_type": "execute_result"
    }
   ],
   "source": [
    "# 유닛당 파라미터(weight, bias) 개수\n",
    "# 입력 feature개수(weight수) + 1(bias)\n",
    "\n",
    "# 첫번째 layer의 파라미터 수\n",
    "# 입력 feature: 13 (input_shape), units: 32\n",
    "(13+1)*32"
   ]
  },
  {
   "cell_type": "code",
   "execution_count": 75,
   "metadata": {
    "ExecuteTime": {
     "end_time": "2023-02-20T07:34:04.709358Z",
     "start_time": "2023-02-20T07:34:04.177460Z"
    },
    "scrolled": true
   },
   "outputs": [
    {
     "data": {
      "image/png": "[encoded data removed]",
      "text/plain": [
       "<IPython.core.display.Image object>"
      ]
     },
     "execution_count": 75,
     "metadata": {},
     "output_type": "execute_result"
    }
   ],
   "source": [
    "keras.utils.plot_model(model_boston, show_shapes=True)"
   ]
  },
  {
   "cell_type": "markdown",
   "metadata": {
    "slideshow": {
     "slide_type": "slide"
    }
   },
   "source": [
    "##### 학습(Train)"
   ]
  },
  {
   "cell_type": "code",
   "execution_count": 83,
   "metadata": {
    "ExecuteTime": {
     "end_time": "2023-02-20T07:45:24.452075Z",
     "start_time": "2023-02-20T07:45:11.417912Z"
    },
    "collapsed": true
   },
   "outputs": [
    {
     "name": "stdout",
     "output_type": "stream",
     "text": [
      "Epoch 1/200\n",
      "1/1 [==============================] - 1s 721ms/step - loss: 556.0840 - val_loss: 569.0878\n",
      "Epoch 2/200\n",
      "1/1 [==============================] - 0s 48ms/step - loss: 542.0179 - val_loss: 547.7905\n",
      "Epoch 3/200\n",
      "1/1 [==============================] - 0s 56ms/step - loss: 519.0252 - val_loss: 523.1669\n",
      "Epoch 4/200\n",
      "1/1 [==============================] - 0s 51ms/step - loss: 493.7372 - val_loss: 494.4103\n",
      "Epoch 5/200\n",
      "1/1 [==============================] - 0s 56ms/step - loss: 461.7959 - val_loss: 460.8763\n",
      "Epoch 6/200\n",
      "1/1 [==============================] - 0s 52ms/step - loss: 430.8162 - val_loss: 422.6938\n",
      "Epoch 7/200\n",
      "1/1 [==============================] - 0s 55ms/step - loss: 393.7028 - val_loss: 379.8684\n",
      "Epoch 8/200\n",
      "1/1 [==============================] - 0s 53ms/step - loss: 351.6821 - val_loss: 333.0395\n",
      "Epoch 9/200\n",
      "1/1 [==============================] - 0s 61ms/step - loss: 306.4962 - val_loss: 283.7104\n",
      "Epoch 10/200\n",
      "1/1 [==============================] - 0s 44ms/step - loss: 257.7911 - val_loss: 234.3712\n",
      "Epoch 11/200\n",
      "1/1 [==============================] - 0s 53ms/step - loss: 209.8988 - val_loss: 188.8692\n",
      "Epoch 12/200\n",
      "1/1 [==============================] - 0s 53ms/step - loss: 168.2706 - val_loss: 151.0762\n",
      "Epoch 13/200\n",
      "1/1 [==============================] - 0s 54ms/step - loss: 133.9837 - val_loss: 124.7021\n",
      "Epoch 14/200\n",
      "1/1 [==============================] - 0s 32ms/step - loss: 111.0923 - val_loss: 112.7314\n",
      "Epoch 15/200\n",
      "1/1 [==============================] - 0s 29ms/step - loss: 103.7878 - val_loss: 114.0600\n",
      "Epoch 16/200\n",
      "1/1 [==============================] - 0s 32ms/step - loss: 106.4518 - val_loss: 122.1860\n",
      "Epoch 17/200\n",
      "1/1 [==============================] - 0s 65ms/step - loss: 119.1303 - val_loss: 127.0415\n",
      "Epoch 18/200\n",
      "1/1 [==============================] - 0s 47ms/step - loss: 124.7986 - val_loss: 122.6348\n",
      "Epoch 19/200\n",
      "1/1 [==============================] - 0s 63ms/step - loss: 120.4695 - val_loss: 109.8822\n",
      "Epoch 20/200\n",
      "1/1 [==============================] - 0s 43ms/step - loss: 106.8309 - val_loss: 93.1652\n",
      "Epoch 21/200\n",
      "1/1 [==============================] - 0s 37ms/step - loss: 88.7789 - val_loss: 77.0304\n",
      "Epoch 22/200\n",
      "1/1 [==============================] - 0s 23ms/step - loss: 71.2010 - val_loss: 64.5020\n",
      "Epoch 23/200\n",
      "1/1 [==============================] - 0s 52ms/step - loss: 57.6783 - val_loss: 56.6463\n",
      "Epoch 24/200\n",
      "1/1 [==============================] - 0s 52ms/step - loss: 48.6577 - val_loss: 52.9947\n",
      "Epoch 25/200\n",
      "1/1 [==============================] - 0s 70ms/step - loss: 42.9793 - val_loss: 52.2409\n",
      "Epoch 26/200\n",
      "1/1 [==============================] - 0s 74ms/step - loss: 42.7794 - val_loss: 52.9695\n",
      "Epoch 27/200\n",
      "1/1 [==============================] - 0s 44ms/step - loss: 42.8952 - val_loss: 53.8704\n",
      "Epoch 28/200\n",
      "1/1 [==============================] - 0s 76ms/step - loss: 43.2516 - val_loss: 54.1302\n",
      "Epoch 29/200\n",
      "1/1 [==============================] - 0s 55ms/step - loss: 42.2024 - val_loss: 53.3419\n",
      "Epoch 30/200\n",
      "1/1 [==============================] - 0s 76ms/step - loss: 42.4674 - val_loss: 51.4349\n",
      "Epoch 31/200\n",
      "1/1 [==============================] - 0s 77ms/step - loss: 40.7234 - val_loss: 48.6912\n",
      "Epoch 32/200\n",
      "1/1 [==============================] - 0s 70ms/step - loss: 38.5189 - val_loss: 45.5565\n",
      "Epoch 33/200\n",
      "1/1 [==============================] - 0s 55ms/step - loss: 35.6230 - val_loss: 42.4358\n",
      "Epoch 34/200\n",
      "1/1 [==============================] - 0s 57ms/step - loss: 33.0150 - val_loss: 39.7699\n",
      "Epoch 35/200\n",
      "1/1 [==============================] - 0s 54ms/step - loss: 31.8491 - val_loss: 37.8228\n",
      "Epoch 36/200\n",
      "1/1 [==============================] - 0s 46ms/step - loss: 30.2111 - val_loss: 36.5999\n",
      "Epoch 37/200\n",
      "1/1 [==============================] - 0s 48ms/step - loss: 30.7821 - val_loss: 35.8711\n",
      "Epoch 38/200\n",
      "1/1 [==============================] - 0s 71ms/step - loss: 30.8206 - val_loss: 35.2426\n",
      "Epoch 39/200\n",
      "1/1 [==============================] - 0s 62ms/step - loss: 31.1815 - val_loss: 34.3845\n",
      "Epoch 40/200\n",
      "1/1 [==============================] - 0s 35ms/step - loss: 30.7994 - val_loss: 33.1111\n",
      "Epoch 41/200\n",
      "1/1 [==============================] - 0s 43ms/step - loss: 29.7379 - val_loss: 31.4778\n",
      "Epoch 42/200\n",
      "1/1 [==============================] - 0s 37ms/step - loss: 28.7431 - val_loss: 29.7173\n",
      "Epoch 43/200\n",
      "1/1 [==============================] - 0s 37ms/step - loss: 27.0545 - val_loss: 28.1128\n",
      "Epoch 44/200\n",
      "1/1 [==============================] - 0s 34ms/step - loss: 25.2024 - val_loss: 26.9038\n",
      "Epoch 45/200\n",
      "1/1 [==============================] - 0s 22ms/step - loss: 23.4985 - val_loss: 26.1788\n",
      "Epoch 46/200\n",
      "1/1 [==============================] - 0s 27ms/step - loss: 22.4685 - val_loss: 25.8948\n",
      "Epoch 47/200\n",
      "1/1 [==============================] - 0s 30ms/step - loss: 21.1925 - val_loss: 25.9069\n",
      "Epoch 48/200\n",
      "1/1 [==============================] - 0s 32ms/step - loss: 21.2188 - val_loss: 26.0344\n",
      "Epoch 49/200\n",
      "1/1 [==============================] - 0s 36ms/step - loss: 20.9406 - val_loss: 26.1192\n",
      "Epoch 50/200\n",
      "1/1 [==============================] - 0s 38ms/step - loss: 20.8279 - val_loss: 26.0300\n",
      "Epoch 51/200\n",
      "1/1 [==============================] - 0s 50ms/step - loss: 20.3954 - val_loss: 25.7507\n",
      "Epoch 52/200\n",
      "1/1 [==============================] - 0s 49ms/step - loss: 20.0268 - val_loss: 25.3393\n",
      "Epoch 53/200\n",
      "1/1 [==============================] - 0s 72ms/step - loss: 19.4150 - val_loss: 24.8894\n",
      "Epoch 54/200\n",
      "1/1 [==============================] - 0s 58ms/step - loss: 18.6589 - val_loss: 24.5244\n",
      "Epoch 55/200\n",
      "1/1 [==============================] - 0s 68ms/step - loss: 18.1935 - val_loss: 24.3174\n",
      "Epoch 56/200\n",
      "1/1 [==============================] - 0s 50ms/step - loss: 17.8013 - val_loss: 24.3138\n",
      "Epoch 57/200\n",
      "1/1 [==============================] - 0s 70ms/step - loss: 17.4608 - val_loss: 24.4805\n",
      "Epoch 58/200\n",
      "1/1 [==============================] - 0s 75ms/step - loss: 17.2703 - val_loss: 24.7563\n",
      "Epoch 59/200\n",
      "1/1 [==============================] - 0s 67ms/step - loss: 16.8423 - val_loss: 25.0602\n",
      "Epoch 60/200\n",
      "1/1 [==============================] - 0s 22ms/step - loss: 17.1107 - val_loss: 25.2903\n",
      "Epoch 61/200\n",
      "1/1 [==============================] - 0s 29ms/step - loss: 16.9545 - val_loss: 25.3969\n",
      "Epoch 62/200\n",
      "1/1 [==============================] - 0s 25ms/step - loss: 16.6066 - val_loss: 25.3816\n",
      "Epoch 63/200\n",
      "1/1 [==============================] - 0s 25ms/step - loss: 16.3130 - val_loss: 25.2769\n",
      "Epoch 64/200\n",
      "1/1 [==============================] - 0s 41ms/step - loss: 15.8862 - val_loss: 25.1317\n",
      "Epoch 65/200\n",
      "1/1 [==============================] - 0s 51ms/step - loss: 15.5309 - val_loss: 24.9851\n",
      "Epoch 66/200\n",
      "1/1 [==============================] - 0s 55ms/step - loss: 15.3152 - val_loss: 24.8575\n",
      "Epoch 67/200\n",
      "1/1 [==============================] - 0s 60ms/step - loss: 15.0203 - val_loss: 24.7452\n",
      "Epoch 68/200\n",
      "1/1 [==============================] - 0s 77ms/step - loss: 12.9286 - val_loss: 24.6118\n",
      "Epoch 69/200\n",
      "1/1 [==============================] - 0s 37ms/step - loss: 14.3349 - val_loss: 24.4659\n",
      "Epoch 70/200\n",
      "1/1 [==============================] - 0s 63ms/step - loss: 14.4270 - val_loss: 24.2992\n",
      "Epoch 71/200\n",
      "1/1 [==============================] - 0s 41ms/step - loss: 14.2480 - val_loss: 24.1120\n",
      "Epoch 72/200\n",
      "1/1 [==============================] - 0s 40ms/step - loss: 13.9846 - val_loss: 23.9133\n",
      "Epoch 73/200\n",
      "1/1 [==============================] - 0s 47ms/step - loss: 13.7742 - val_loss: 23.7251\n",
      "Epoch 74/200\n",
      "1/1 [==============================] - 0s 40ms/step - loss: 13.6116 - val_loss: 23.5701\n",
      "Epoch 75/200\n",
      "1/1 [==============================] - 0s 51ms/step - loss: 13.2758 - val_loss: 23.4410\n",
      "Epoch 76/200\n",
      "1/1 [==============================] - 0s 46ms/step - loss: 13.1629 - val_loss: 23.3377\n",
      "Epoch 77/200\n",
      "1/1 [==============================] - 0s 50ms/step - loss: 13.0427 - val_loss: 23.2546\n",
      "Epoch 78/200\n",
      "1/1 [==============================] - 0s 47ms/step - loss: 12.7603 - val_loss: 23.1858\n",
      "Epoch 79/200\n",
      "1/1 [==============================] - 0s 49ms/step - loss: 12.7644 - val_loss: 23.1151\n",
      "Epoch 80/200\n",
      "1/1 [==============================] - 0s 55ms/step - loss: 12.6240 - val_loss: 23.0292\n",
      "Epoch 81/200\n",
      "1/1 [==============================] - 0s 59ms/step - loss: 12.5246 - val_loss: 22.9457\n"
     ]
    },
    {
     "name": "stdout",
     "output_type": "stream",
     "text": [
      "Epoch 82/200\n",
      "1/1 [==============================] - 0s 50ms/step - loss: 12.3955 - val_loss: 22.8672\n",
      "Epoch 83/200\n",
      "1/1 [==============================] - 0s 46ms/step - loss: 12.1427 - val_loss: 22.8017\n",
      "Epoch 84/200\n",
      "1/1 [==============================] - 0s 24ms/step - loss: 12.0650 - val_loss: 22.7459\n",
      "Epoch 85/200\n",
      "1/1 [==============================] - 0s 46ms/step - loss: 11.9803 - val_loss: 22.6984\n",
      "Epoch 86/200\n",
      "1/1 [==============================] - 0s 24ms/step - loss: 11.8631 - val_loss: 22.6656\n",
      "Epoch 87/200\n",
      "1/1 [==============================] - 0s 47ms/step - loss: 11.7702 - val_loss: 22.6488\n",
      "Epoch 88/200\n",
      "1/1 [==============================] - 0s 45ms/step - loss: 11.4920 - val_loss: 22.6488\n",
      "Epoch 89/200\n",
      "1/1 [==============================] - 0s 36ms/step - loss: 11.5868 - val_loss: 22.6570\n",
      "Epoch 90/200\n",
      "1/1 [==============================] - 0s 43ms/step - loss: 11.4913 - val_loss: 22.6795\n",
      "Epoch 91/200\n",
      "1/1 [==============================] - 0s 48ms/step - loss: 11.2141 - val_loss: 22.7197\n",
      "Epoch 92/200\n",
      "1/1 [==============================] - 0s 51ms/step - loss: 11.2574 - val_loss: 22.7899\n",
      "Epoch 93/200\n",
      "1/1 [==============================] - 0s 61ms/step - loss: 11.1963 - val_loss: 22.8843\n",
      "Epoch 94/200\n",
      "1/1 [==============================] - 0s 31ms/step - loss: 11.0898 - val_loss: 22.9939\n",
      "Epoch 95/200\n",
      "1/1 [==============================] - 0s 44ms/step - loss: 10.7770 - val_loss: 23.1222\n",
      "Epoch 96/200\n",
      "1/1 [==============================] - 0s 24ms/step - loss: 10.9755 - val_loss: 23.2563\n",
      "Epoch 97/200\n",
      "1/1 [==============================] - 0s 47ms/step - loss: 10.9252 - val_loss: 23.3804\n",
      "Epoch 98/200\n",
      "1/1 [==============================] - 0s 42ms/step - loss: 10.8847 - val_loss: 23.4896\n",
      "Epoch 99/200\n",
      "1/1 [==============================] - 0s 37ms/step - loss: 10.8203 - val_loss: 23.5813\n",
      "Epoch 100/200\n",
      "1/1 [==============================] - 0s 51ms/step - loss: 10.7391 - val_loss: 23.6433\n",
      "Epoch 101/200\n",
      "1/1 [==============================] - 0s 35ms/step - loss: 10.6008 - val_loss: 23.6829\n",
      "Epoch 102/200\n",
      "1/1 [==============================] - 0s 45ms/step - loss: 10.6363 - val_loss: 23.7112\n",
      "Epoch 103/200\n",
      "1/1 [==============================] - 0s 40ms/step - loss: 10.5332 - val_loss: 23.7136\n",
      "Epoch 104/200\n",
      "1/1 [==============================] - 0s 62ms/step - loss: 10.3695 - val_loss: 23.6858\n",
      "Epoch 105/200\n",
      "1/1 [==============================] - 0s 45ms/step - loss: 10.4545 - val_loss: 23.6401\n",
      "Epoch 106/200\n",
      "1/1 [==============================] - 0s 42ms/step - loss: 10.4281 - val_loss: 23.5859\n",
      "Epoch 107/200\n",
      "1/1 [==============================] - 0s 49ms/step - loss: 10.3931 - val_loss: 23.5325\n",
      "Epoch 108/200\n",
      "1/1 [==============================] - 0s 26ms/step - loss: 10.3405 - val_loss: 23.4778\n",
      "Epoch 109/200\n",
      "1/1 [==============================] - 0s 37ms/step - loss: 10.3131 - val_loss: 23.4265\n",
      "Epoch 110/200\n",
      "1/1 [==============================] - 0s 46ms/step - loss: 10.2399 - val_loss: 23.3772\n",
      "Epoch 111/200\n",
      "1/1 [==============================] - 0s 50ms/step - loss: 9.8750 - val_loss: 23.3306\n",
      "Epoch 112/200\n",
      "1/1 [==============================] - 0s 37ms/step - loss: 10.1601 - val_loss: 23.2855\n",
      "Epoch 113/200\n",
      "1/1 [==============================] - 0s 37ms/step - loss: 10.0993 - val_loss: 23.2550\n",
      "Epoch 114/200\n",
      "1/1 [==============================] - 0s 43ms/step - loss: 10.1043 - val_loss: 23.2283\n",
      "Epoch 115/200\n",
      "1/1 [==============================] - 0s 40ms/step - loss: 9.8939 - val_loss: 23.2088\n",
      "Epoch 116/200\n",
      "1/1 [==============================] - 0s 36ms/step - loss: 9.9616 - val_loss: 23.1777\n",
      "Epoch 117/200\n",
      "1/1 [==============================] - 0s 32ms/step - loss: 9.9621 - val_loss: 23.1444\n",
      "Epoch 118/200\n",
      "1/1 [==============================] - 0s 22ms/step - loss: 8.4916 - val_loss: 23.0663\n",
      "Epoch 119/200\n",
      "1/1 [==============================] - 0s 51ms/step - loss: 9.8768 - val_loss: 22.9965\n",
      "Epoch 120/200\n",
      "1/1 [==============================] - 0s 52ms/step - loss: 9.8337 - val_loss: 22.9514\n",
      "Epoch 121/200\n",
      "1/1 [==============================] - 0s 29ms/step - loss: 9.8003 - val_loss: 22.9287\n",
      "Epoch 122/200\n",
      "1/1 [==============================] - 0s 62ms/step - loss: 9.8327 - val_loss: 22.9182\n",
      "Epoch 123/200\n",
      "1/1 [==============================] - 0s 65ms/step - loss: 9.6924 - val_loss: 22.9176\n",
      "Epoch 124/200\n",
      "1/1 [==============================] - 0s 45ms/step - loss: 9.7328 - val_loss: 22.9231\n",
      "Epoch 125/200\n",
      "1/1 [==============================] - 0s 58ms/step - loss: 9.7433 - val_loss: 22.9371\n",
      "Epoch 126/200\n",
      "1/1 [==============================] - 0s 61ms/step - loss: 9.6879 - val_loss: 22.9487\n",
      "Epoch 127/200\n",
      "1/1 [==============================] - 0s 21ms/step - loss: 9.5757 - val_loss: 22.9498\n",
      "Epoch 128/200\n",
      "1/1 [==============================] - 0s 52ms/step - loss: 9.5253 - val_loss: 22.9661\n",
      "Epoch 129/200\n",
      "1/1 [==============================] - 0s 38ms/step - loss: 9.5463 - val_loss: 22.9909\n",
      "Epoch 130/200\n",
      "1/1 [==============================] - 0s 61ms/step - loss: 8.9911 - val_loss: 22.9809\n",
      "Epoch 131/200\n",
      "1/1 [==============================] - 0s 42ms/step - loss: 9.5466 - val_loss: 22.9683\n",
      "Epoch 132/200\n",
      "1/1 [==============================] - 0s 41ms/step - loss: 9.4876 - val_loss: 22.9527\n",
      "Epoch 133/200\n",
      "1/1 [==============================] - 0s 54ms/step - loss: 9.4468 - val_loss: 22.9226\n",
      "Epoch 134/200\n",
      "1/1 [==============================] - 0s 48ms/step - loss: 9.4723 - val_loss: 22.8851\n",
      "Epoch 135/200\n",
      "1/1 [==============================] - 0s 69ms/step - loss: 9.4051 - val_loss: 22.8342\n",
      "Epoch 136/200\n",
      "1/1 [==============================] - 0s 57ms/step - loss: 9.2982 - val_loss: 22.7870\n",
      "Epoch 137/200\n",
      "1/1 [==============================] - 0s 49ms/step - loss: 9.3443 - val_loss: 22.7393\n",
      "Epoch 138/200\n",
      "1/1 [==============================] - 0s 44ms/step - loss: 9.3365 - val_loss: 22.6949\n",
      "Epoch 139/200\n",
      "1/1 [==============================] - 0s 62ms/step - loss: 9.2672 - val_loss: 22.6553\n",
      "Epoch 140/200\n",
      "1/1 [==============================] - 0s 32ms/step - loss: 9.2807 - val_loss: 22.6202\n",
      "Epoch 141/200\n",
      "1/1 [==============================] - 0s 49ms/step - loss: 9.0830 - val_loss: 22.5882\n",
      "Epoch 142/200\n",
      "1/1 [==============================] - 0s 40ms/step - loss: 8.6972 - val_loss: 22.5305\n",
      "Epoch 143/200\n",
      "1/1 [==============================] - 0s 58ms/step - loss: 9.1528 - val_loss: 22.4792\n",
      "Epoch 144/200\n",
      "1/1 [==============================] - 0s 47ms/step - loss: 9.2079 - val_loss: 22.4406\n",
      "Epoch 145/200\n",
      "1/1 [==============================] - 0s 64ms/step - loss: 9.1587 - val_loss: 22.4074\n",
      "Epoch 146/200\n",
      "1/1 [==============================] - 0s 54ms/step - loss: 9.1354 - val_loss: 22.3792\n",
      "Epoch 147/200\n",
      "1/1 [==============================] - 0s 39ms/step - loss: 8.7396 - val_loss: 22.2956\n",
      "Epoch 148/200\n",
      "1/1 [==============================] - 0s 46ms/step - loss: 9.0984 - val_loss: 22.2249\n",
      "Epoch 149/200\n",
      "1/1 [==============================] - 0s 49ms/step - loss: 9.0561 - val_loss: 22.1712\n",
      "Epoch 150/200\n",
      "1/1 [==============================] - 0s 26ms/step - loss: 9.0475 - val_loss: 22.1316\n",
      "Epoch 151/200\n",
      "1/1 [==============================] - 0s 44ms/step - loss: 9.0267 - val_loss: 22.1039\n",
      "Epoch 152/200\n",
      "1/1 [==============================] - 0s 58ms/step - loss: 8.9797 - val_loss: 22.0790\n",
      "Epoch 153/200\n",
      "1/1 [==============================] - 0s 54ms/step - loss: 8.9019 - val_loss: 22.0619\n",
      "Epoch 154/200\n",
      "1/1 [==============================] - 0s 44ms/step - loss: 8.9659 - val_loss: 22.0492\n",
      "Epoch 155/200\n",
      "1/1 [==============================] - 0s 46ms/step - loss: 8.9307 - val_loss: 22.0289\n",
      "Epoch 156/200\n",
      "1/1 [==============================] - 0s 57ms/step - loss: 8.9101 - val_loss: 22.0142\n",
      "Epoch 157/200\n",
      "1/1 [==============================] - 0s 52ms/step - loss: 8.8452 - val_loss: 21.9954\n",
      "Epoch 158/200\n",
      "1/1 [==============================] - 0s 46ms/step - loss: 8.7430 - val_loss: 21.9679\n",
      "Epoch 159/200\n",
      "1/1 [==============================] - 0s 39ms/step - loss: 8.5422 - val_loss: 21.9843\n",
      "Epoch 160/200\n",
      "1/1 [==============================] - 0s 50ms/step - loss: 8.8270 - val_loss: 21.9942\n",
      "Epoch 161/200\n",
      "1/1 [==============================] - 0s 45ms/step - loss: 8.7134 - val_loss: 22.0107\n",
      "Epoch 162/200\n",
      "1/1 [==============================] - 0s 51ms/step - loss: 8.7946 - val_loss: 22.0213\n"
     ]
    },
    {
     "name": "stdout",
     "output_type": "stream",
     "text": [
      "Epoch 163/200\n",
      "1/1 [==============================] - 0s 51ms/step - loss: 8.6453 - val_loss: 22.0390\n",
      "Epoch 164/200\n",
      "1/1 [==============================] - 0s 27ms/step - loss: 8.7058 - val_loss: 22.0377\n",
      "Epoch 165/200\n",
      "1/1 [==============================] - 0s 44ms/step - loss: 8.6801 - val_loss: 22.0264\n",
      "Epoch 166/200\n",
      "1/1 [==============================] - 0s 25ms/step - loss: 8.6757 - val_loss: 22.0060\n",
      "Epoch 167/200\n",
      "1/1 [==============================] - 0s 27ms/step - loss: 8.6528 - val_loss: 21.9705\n",
      "Epoch 168/200\n",
      "1/1 [==============================] - 0s 46ms/step - loss: 8.6193 - val_loss: 21.9291\n",
      "Epoch 169/200\n",
      "1/1 [==============================] - 0s 48ms/step - loss: 8.6017 - val_loss: 21.8718\n",
      "Epoch 170/200\n",
      "1/1 [==============================] - 0s 42ms/step - loss: 8.5953 - val_loss: 21.8064\n",
      "Epoch 171/200\n",
      "1/1 [==============================] - 0s 22ms/step - loss: 8.4770 - val_loss: 21.7481\n",
      "Epoch 172/200\n",
      "1/1 [==============================] - 0s 41ms/step - loss: 8.5662 - val_loss: 21.7011\n",
      "Epoch 173/200\n",
      "1/1 [==============================] - 0s 44ms/step - loss: 8.5255 - val_loss: 21.6580\n",
      "Epoch 174/200\n",
      "1/1 [==============================] - 0s 44ms/step - loss: 8.4933 - val_loss: 21.6202\n",
      "Epoch 175/200\n",
      "1/1 [==============================] - 0s 23ms/step - loss: 8.4894 - val_loss: 21.5928\n",
      "Epoch 176/200\n",
      "1/1 [==============================] - 0s 44ms/step - loss: 8.4719 - val_loss: 21.5758\n",
      "Epoch 177/200\n",
      "1/1 [==============================] - 0s 53ms/step - loss: 8.3521 - val_loss: 21.5646\n",
      "Epoch 178/200\n",
      "1/1 [==============================] - 0s 54ms/step - loss: 8.4080 - val_loss: 21.5538\n",
      "Epoch 179/200\n",
      "1/1 [==============================] - 0s 51ms/step - loss: 8.3548 - val_loss: 21.5497\n",
      "Epoch 180/200\n",
      "1/1 [==============================] - 0s 50ms/step - loss: 8.3396 - val_loss: 21.5562\n",
      "Epoch 181/200\n",
      "1/1 [==============================] - 0s 58ms/step - loss: 8.3785 - val_loss: 21.5622\n",
      "Epoch 182/200\n",
      "1/1 [==============================] - 0s 46ms/step - loss: 8.3542 - val_loss: 21.5622\n",
      "Epoch 183/200\n",
      "1/1 [==============================] - 0s 24ms/step - loss: 8.3512 - val_loss: 21.5502\n",
      "Epoch 184/200\n",
      "1/1 [==============================] - 0s 52ms/step - loss: 8.2553 - val_loss: 21.5432\n",
      "Epoch 185/200\n",
      "1/1 [==============================] - 0s 46ms/step - loss: 8.3112 - val_loss: 21.5283\n",
      "Epoch 186/200\n",
      "1/1 [==============================] - 0s 51ms/step - loss: 8.2550 - val_loss: 21.5125\n",
      "Epoch 187/200\n",
      "1/1 [==============================] - 0s 45ms/step - loss: 8.2066 - val_loss: 21.4891\n",
      "Epoch 188/200\n",
      "1/1 [==============================] - 0s 64ms/step - loss: 8.2002 - val_loss: 21.4766\n",
      "Epoch 189/200\n",
      "1/1 [==============================] - 0s 69ms/step - loss: 8.2607 - val_loss: 21.4611\n",
      "Epoch 190/200\n",
      "1/1 [==============================] - 0s 66ms/step - loss: 8.2267 - val_loss: 21.4427\n",
      "Epoch 191/200\n",
      "1/1 [==============================] - 0s 45ms/step - loss: 8.1780 - val_loss: 21.4255\n",
      "Epoch 192/200\n",
      "1/1 [==============================] - 0s 54ms/step - loss: 7.7580 - val_loss: 21.3346\n",
      "Epoch 193/200\n",
      "1/1 [==============================] - 0s 44ms/step - loss: 8.1437 - val_loss: 21.2609\n",
      "Epoch 194/200\n",
      "1/1 [==============================] - 0s 43ms/step - loss: 8.1415 - val_loss: 21.2006\n",
      "Epoch 195/200\n",
      "1/1 [==============================] - 0s 40ms/step - loss: 8.1298 - val_loss: 21.1404\n",
      "Epoch 196/200\n",
      "1/1 [==============================] - 0s 35ms/step - loss: 8.0215 - val_loss: 21.0971\n",
      "Epoch 197/200\n",
      "1/1 [==============================] - 0s 27ms/step - loss: 8.1023 - val_loss: 21.0707\n",
      "Epoch 198/200\n",
      "1/1 [==============================] - 0s 30ms/step - loss: 8.0455 - val_loss: 21.0700\n",
      "Epoch 199/200\n",
      "1/1 [==============================] - 0s 48ms/step - loss: 8.0215 - val_loss: 21.0755\n",
      "Epoch 200/200\n",
      "1/1 [==============================] - 0s 24ms/step - loss: 8.0381 - val_loss: 21.0940\n"
     ]
    }
   ],
   "source": [
    "# train_dataset 생성->X, y를 제공\n",
    "hist = model_boston.fit(train_dataset, ### (X_train, y_train) + shuffle + batch_size\n",
    "                        epochs=N_EPOCH, \n",
    "                        validation_data=test_dataset   # Dataset을 이용할 경우 validation_split을 사용할 수 없다.\n",
    "                        )"
   ]
  },
  {
   "cell_type": "markdown",
   "metadata": {
    "slideshow": {
     "slide_type": "slide"
    }
   },
   "source": [
    "##### 결과 시각화\n",
    "- 학습 시 epoch별 검증 결과를 시각화한다."
   ]
  },
  {
   "cell_type": "code",
   "execution_count": 80,
   "metadata": {
    "ExecuteTime": {
     "end_time": "2023-02-20T07:40:31.181182Z",
     "start_time": "2023-02-20T07:40:31.170598Z"
    }
   },
   "outputs": [
    {
     "data": {
      "text/plain": [
       "dict_keys(['loss', 'val_loss'])"
      ]
     },
     "execution_count": 80,
     "metadata": {},
     "output_type": "execute_result"
    }
   ],
   "source": [
    "hist.history.keys()"
   ]
  },
  {
   "cell_type": "code",
   "execution_count": 85,
   "metadata": {
    "ExecuteTime": {
     "end_time": "2023-02-20T07:46:13.673718Z",
     "start_time": "2023-02-20T07:46:13.440815Z"
    }
   },
   "outputs": [
    {
     "data": {
      "image/png": "[encoded data removed]",
      "text/plain": [
       "<Figure size 540x380 with 1 Axes>"
      ]
     },
     "metadata": {},
     "output_type": "display_data"
    }
   ],
   "source": [
    "# hist.history : 에폭별 검증 결과\n",
    "# hist.epoch : 에폭리스트\n",
    "plt.plot(hist.epoch, hist.history['loss'], label='Train set')\n",
    "plt.plot(hist.epoch, hist.history['val_loss'], label='Validation set')\n",
    "\n",
    "plt.title('에폭별 MSE loss')\n",
    "plt.ylim(0, 30)\n",
    "plt.legend()\n",
    "plt.show()"
   ]
  },
  {
   "cell_type": "markdown",
   "metadata": {
    "slideshow": {
     "slide_type": "slide"
    }
   },
   "source": [
    "##### 최종 테스트"
   ]
  },
  {
   "cell_type": "code",
   "execution_count": 86,
   "metadata": {
    "ExecuteTime": {
     "end_time": "2023-02-20T07:47:25.440023Z",
     "start_time": "2023-02-20T07:47:25.410760Z"
    }
   },
   "outputs": [
    {
     "name": "stdout",
     "output_type": "stream",
     "text": [
      "3/3 [==============================] - 0s 3ms/step - loss: 21.0940\n"
     ]
    }
   ],
   "source": [
    "loss = model_boston.evaluate(test_dataset)"
   ]
  },
  {
   "cell_type": "markdown",
   "metadata": {
    "slideshow": {
     "slide_type": "slide"
    }
   },
   "source": [
    "##### 모델 네트워크 저장"
   ]
  },
  {
   "cell_type": "code",
   "execution_count": 6,
   "metadata": {
    "ExecuteTime": {
     "end_time": "2023-02-21T00:34:29.412474Z",
     "start_time": "2023-02-21T00:34:29.394141Z"
    }
   },
   "outputs": [],
   "source": [
    "import os\n",
    "path = 'saved_model'\n",
    "os.makedirs(path, exist_ok=True)\n",
    "saved_dir = os.path.join(path, 'boston_model')"
   ]
  },
  {
   "cell_type": "code",
   "execution_count": 89,
   "metadata": {
    "ExecuteTime": {
     "end_time": "2023-02-20T07:50:43.046003Z",
     "start_time": "2023-02-20T07:50:42.105631Z"
    }
   },
   "outputs": [
    {
     "name": "stdout",
     "output_type": "stream",
     "text": [
      "saved_model\\boston_model\n"
     ]
    },
    {
     "name": "stderr",
     "output_type": "stream",
     "text": [
      "WARNING:absl:Found untraced functions such as _update_step_xla while saving (showing 1 of 1). These functions will not be directly callable after loading.\n"
     ]
    },
    {
     "name": "stdout",
     "output_type": "stream",
     "text": [
      "INFO:tensorflow:Assets written to: saved_model\\boston_model\\assets\n"
     ]
    },
    {
     "name": "stderr",
     "output_type": "stream",
     "text": [
      "INFO:tensorflow:Assets written to: saved_model\\boston_model\\assets\n"
     ]
    }
   ],
   "source": [
    "\n",
    "print(saved_dir)\n",
    "model_boston.save(saved_dir)"
   ]
  },
  {
   "cell_type": "markdown",
   "metadata": {
    "slideshow": {
     "slide_type": "slide"
    }
   },
   "source": [
    "##### 새로운 데이터 추론"
   ]
  },
  {
   "cell_type": "code",
   "execution_count": 15,
   "metadata": {
    "ExecuteTime": {
     "end_time": "2023-02-21T00:34:58.493842Z",
     "start_time": "2023-02-21T00:34:57.912155Z"
    }
   },
   "outputs": [
    {
     "name": "stdout",
     "output_type": "stream",
     "text": [
      "3/3 [==============================] - 0s 5ms/step - loss: 21.0940\n"
     ]
    },
    {
     "data": {
      "text/plain": [
       "21.0939998626709"
      ]
     },
     "execution_count": 15,
     "metadata": {},
     "output_type": "execute_result"
    }
   ],
   "source": [
    "# 저장된 모델을 불러와서 추론\n",
    "saved_model = keras.models.load_model(saved_dir)\n",
    "saved_model.evaluate(test_dataset)"
   ]
  },
  {
   "cell_type": "code",
   "execution_count": 16,
   "metadata": {
    "ExecuteTime": {
     "end_time": "2023-02-21T00:35:10.394005Z",
     "start_time": "2023-02-21T00:35:10.170196Z"
    }
   },
   "outputs": [
    {
     "name": "stdout",
     "output_type": "stream",
     "text": [
      "1/1 [==============================] - 0s 131ms/step\n",
      "[[ 8.611946]\n",
      " [17.257828]\n",
      " [21.979933]\n",
      " [32.22189 ]\n",
      " [24.80038 ]]\n"
     ]
    }
   ],
   "source": [
    "X_new = X_test[:5]\n",
    "pred = saved_model.predict(X_new)\n",
    "print(pred)"
   ]
  },
  {
   "cell_type": "code",
   "execution_count": 92,
   "metadata": {
    "ExecuteTime": {
     "end_time": "2023-02-20T07:54:06.246499Z",
     "start_time": "2023-02-20T07:54:06.226023Z"
    }
   },
   "outputs": [
    {
     "data": {
      "text/plain": [
       "array([ 7.2, 18.8, 19. , 27. , 22.2])"
      ]
     },
     "execution_count": 92,
     "metadata": {},
     "output_type": "execute_result"
    }
   ],
   "source": [
    "y_test[:5]"
   ]
  },
  {
   "cell_type": "markdown",
   "metadata": {
    "slideshow": {
     "slide_type": "slide"
    }
   },
   "source": [
    "# 분류 (Classification)\n",
    "\n",
    "## Fashion MNIST Dataset - 다중분류(Multi-Class Classification) 문제"
   ]
  },
  {
   "cell_type": "markdown",
   "metadata": {
    "slideshow": {
     "slide_type": "fragment"
    }
   },
   "source": [
    "10개의 범주(category)와 70,000개의 흑백 이미지로 구성된 [패션 MNIST](https://github.com/zalandoresearch/fashion-mnist) 데이터셋. \n",
    "이미지는 해상도(28x28 픽셀)가 낮고 다음처럼 개별 의류 품목을 나타낸다:\n",
    "\n",
    "<table>\n",
    "  <tr><td>\n",
    "    <img src=\"https://tensorflow.org/images/fashion-mnist-sprite.png\"\n",
    "         alt=\"Fashion MNIST sprite\"  width=\"600\">\n",
    "  </td></tr>\n",
    "  <tr><td align=\"center\">\n",
    "    <b>그림</b> <a href=\"https://github.com/zalandoresearch/fashion-mnist\">패션-MNIST 샘플</a> (Zalando, MIT License).<br/>&nbsp;\n",
    "  </td></tr>\n",
    "</table>"
   ]
  },
  {
   "cell_type": "markdown",
   "metadata": {
    "slideshow": {
     "slide_type": "fragment"
    }
   },
   "source": [
    "이미지는 28x28 크기이며 Gray scale이다. *레이블*(label)은 0에서 9까지의 정수 배열이다. 아래 표는 이미지에 있는 의류의 **클래스**(class)들이다.\n",
    "\n",
    "<table>\n",
    "  <tr>\n",
    "    <th>레이블</th>\n",
    "    <th>클래스</th>\n",
    "  </tr>\n",
    "  <tr>\n",
    "    <td>0</td>\n",
    "    <td>T-shirt/top</td>\n",
    "  </tr>\n",
    "  <tr>\n",
    "    <td>1</td>\n",
    "    <td>Trousers</td>\n",
    "  </tr>\n",
    "    <tr>\n",
    "    <td>2</td>\n",
    "    <td>Pullover</td>\n",
    "  </tr>\n",
    "    <tr>\n",
    "    <td>3</td>\n",
    "    <td>Dress</td>\n",
    "  </tr>\n",
    "    <tr>\n",
    "    <td>4</td>\n",
    "    <td>Coat</td>\n",
    "  </tr>\n",
    "    <tr>\n",
    "    <td>5</td>\n",
    "    <td>Sandal</td>\n",
    "  </tr>\n",
    "    <tr>\n",
    "    <td>6</td>\n",
    "    <td>Shirt</td>\n",
    "  </tr>\n",
    "    <tr>\n",
    "    <td>7</td>\n",
    "    <td>Sneaker</td>\n",
    "  </tr>\n",
    "    <tr>\n",
    "    <td>8</td>\n",
    "    <td>Bag</td>\n",
    "  </tr>\n",
    "    <tr>\n",
    "    <td>9</td>\n",
    "    <td>Ankle boot</td>\n",
    "  </tr>\n",
    "</table>\n",
    "\n",
    "각 이미지는 하나의 레이블에 매핑되어 있다. 데이터셋에 클래스 이름이 들어있지 않기 때문에 나중에 이미지를 출력할 때 사용하기 위해 별도의 변수를 만들어 저장한다."
   ]
  },
  {
   "cell_type": "code",
   "execution_count": 43,
   "metadata": {
    "ExecuteTime": {
     "end_time": "2023-02-21T01:44:22.079946Z",
     "start_time": "2023-02-21T01:44:22.066887Z"
    }
   },
   "outputs": [],
   "source": [
    "import tensorflow as tf\n",
    "from tensorflow import keras\n",
    "from tensorflow.keras import layers, models, optimizers\n",
    "\n",
    "import numpy as np\n",
    "import matplotlib.pyplot as plt\n",
    "\n",
    "import os\n",
    "import random\n",
    "\n",
    "# seed 값 설정\n",
    "random.seed(0)\n",
    "np.random.seed(0)\n",
    "tf.random.set_seed(0)"
   ]
  },
  {
   "cell_type": "code",
   "execution_count": 44,
   "metadata": {
    "ExecuteTime": {
     "end_time": "2023-02-21T01:44:22.594309Z",
     "start_time": "2023-02-21T01:44:22.575133Z"
    },
    "slideshow": {
     "slide_type": "fragment"
    }
   },
   "outputs": [],
   "source": [
    "class_names = np.array(['T-shirt/top', 'Trousers', 'Pullover', 'Dress', 'Coat', 'Sandal', 'Shirt', 'Sneaker', 'Bag', 'Ankle boot'])"
   ]
  },
  {
   "cell_type": "markdown",
   "metadata": {
    "slideshow": {
     "slide_type": "slide"
    }
   },
   "source": [
    "##### Data 로딩"
   ]
  },
  {
   "cell_type": "code",
   "execution_count": 45,
   "metadata": {
    "ExecuteTime": {
     "end_time": "2023-02-21T01:44:24.049358Z",
     "start_time": "2023-02-21T01:44:23.658528Z"
    }
   },
   "outputs": [
    {
     "data": {
      "text/plain": [
       "((60000, 28, 28), (60000,), (10000, 28, 28), (10000,))"
      ]
     },
     "execution_count": 45,
     "metadata": {},
     "output_type": "execute_result"
    }
   ],
   "source": [
    "(train_image, y_train), (test_image, y_test) = keras.datasets.fashion_mnist.load_data()\n",
    "train_image.shape, y_train.shape, test_image.shape, y_test.shape"
   ]
  },
  {
   "cell_type": "code",
   "execution_count": 46,
   "metadata": {
    "ExecuteTime": {
     "end_time": "2023-02-21T01:44:24.391046Z",
     "start_time": "2023-02-21T01:44:24.369434Z"
    },
    "scrolled": true
   },
   "outputs": [
    {
     "data": {
      "text/plain": [
       "(array([0, 1, 2, 3, 4, 5, 6, 7, 8, 9], dtype=uint8),\n",
       " array([6000, 6000, 6000, 6000, 6000, 6000, 6000, 6000, 6000, 6000],\n",
       "       dtype=int64))"
      ]
     },
     "execution_count": 46,
     "metadata": {},
     "output_type": "execute_result"
    }
   ],
   "source": [
    "np.unique(y_train, return_counts=True)"
   ]
  },
  {
   "cell_type": "markdown",
   "metadata": {
    "slideshow": {
     "slide_type": "fragment"
    }
   },
   "source": [
    "##### validatation dataset set  분리\n",
    "- Train set을 Train/validation set으로 분리"
   ]
  },
  {
   "cell_type": "code",
   "execution_count": 47,
   "metadata": {
    "ExecuteTime": {
     "end_time": "2023-02-21T01:44:25.935997Z",
     "start_time": "2023-02-21T01:44:25.865432Z"
    }
   },
   "outputs": [
    {
     "data": {
      "text/plain": [
       "((48000, 28, 28), (12000, 28, 28))"
      ]
     },
     "execution_count": 47,
     "metadata": {},
     "output_type": "execute_result"
    }
   ],
   "source": [
    "from sklearn.model_selection import train_test_split\n",
    "train_image, val_image, y_train, y_val = train_test_split(train_image, y_train, test_size=0.2, \n",
    "                                                         stratify=y_train, random_state=0)\n",
    "train_image.shape, val_image.shape"
   ]
  },
  {
   "cell_type": "markdown",
   "metadata": {
    "slideshow": {
     "slide_type": "slide"
    }
   },
   "source": [
    "##### 이미지 확인"
   ]
  },
  {
   "cell_type": "code",
   "execution_count": 48,
   "metadata": {
    "ExecuteTime": {
     "end_time": "2023-02-21T01:44:29.662610Z",
     "start_time": "2023-02-21T01:44:27.354909Z"
    }
   },
   "outputs": [
    {
     "data": {
      "image/png": "[encoded data removed]",
      "text/plain": [
       "<Figure size 700x700 with 15 Axes>"
      ]
     },
     "metadata": {},
     "output_type": "display_data"
    }
   ],
   "source": [
    "cnt = 15  # 확인할 이미지개수 (5배수)\n",
    "plt.figure(figsize=(7,7))\n",
    "for i in range(cnt):\n",
    "    plt.subplot(5, int(cnt/5), i+1)\n",
    "    plt.imshow(train_image[i], cmap='Greys')  # gray: 0-black, 255: white,  Greys: 0-white, 255-black\n",
    "    label = class_names[y_train[i]]\n",
    "    plt.title(label)\n",
    "    \n",
    "plt.tight_layout()\n",
    "plt.show()"
   ]
  },
  {
   "cell_type": "markdown",
   "metadata": {
    "slideshow": {
     "slide_type": "slide"
    }
   },
   "source": [
    "#### 하이퍼파라미터, 변수 설정"
   ]
  },
  {
   "cell_type": "code",
   "execution_count": 49,
   "metadata": {
    "ExecuteTime": {
     "end_time": "2023-02-21T01:44:30.750491Z",
     "start_time": "2023-02-21T01:44:30.738297Z"
    }
   },
   "outputs": [],
   "source": [
    "LEARNING_RATE = 0.001  # 학습률\n",
    "N_EPOCH = 100          # 에폭수\n",
    "N_BATCH = 1000         # 배치 사이즈"
   ]
  },
  {
   "cell_type": "code",
   "execution_count": 50,
   "metadata": {
    "ExecuteTime": {
     "end_time": "2023-02-21T01:44:31.373521Z",
     "start_time": "2023-02-21T01:44:31.363424Z"
    }
   },
   "outputs": [],
   "source": [
    "# y_train => one hot encoding"
   ]
  },
  {
   "cell_type": "markdown",
   "metadata": {
    "slideshow": {
     "slide_type": "fragment"
    }
   },
   "source": [
    "#### X, y  전처리\n",
    "- y값 처리\n",
    "    1. 다중 분류에서 label encoding 형식의 label을 one hot encoding 처리 ==> loss: categorical_crossentropy\n",
    "    2. label encoding 형식의 label을 그대로 모델에 전달. => loss: sparse_categorical_crossentropy\n",
    "        - one hot encoding 처리를 loss가 대신 한다."
   ]
  },
  {
   "cell_type": "code",
   "execution_count": 51,
   "metadata": {
    "ExecuteTime": {
     "end_time": "2023-02-21T01:44:32.256674Z",
     "start_time": "2023-02-21T01:44:32.242825Z"
    }
   },
   "outputs": [],
   "source": [
    "# 2번 방식을 사용. (y를 그대로 유지)"
   ]
  },
  {
   "cell_type": "markdown",
   "metadata": {
    "slideshow": {
     "slide_type": "fragment"
    }
   },
   "source": [
    "- x값(이미지) 처리\n",
    "    - dtype을 uint8에서 float32로 변환한다.\n",
    "    - 0 ~ 1 정규화. X/255.0으로 나눈다."
   ]
  },
  {
   "cell_type": "code",
   "execution_count": 52,
   "metadata": {
    "ExecuteTime": {
     "end_time": "2023-02-21T01:44:34.230566Z",
     "start_time": "2023-02-21T01:44:34.042560Z"
    }
   },
   "outputs": [],
   "source": [
    "X_train = train_image.astype('float32')/255.0\n",
    "X_val = val_image.astype('float32')/255.0\n",
    "X_test = test_image.astype('float32')/255.0"
   ]
  },
  {
   "cell_type": "code",
   "execution_count": 53,
   "metadata": {
    "ExecuteTime": {
     "end_time": "2023-02-21T01:44:36.047454Z",
     "start_time": "2023-02-21T01:44:36.009514Z"
    }
   },
   "outputs": [
    {
     "name": "stdout",
     "output_type": "stream",
     "text": [
      "0 255\n",
      "0.0 1.0\n"
     ]
    }
   ],
   "source": [
    "print(train_image.min(), train_image.max())\n",
    "print(X_train.min(), X_train.max())"
   ]
  },
  {
   "cell_type": "code",
   "execution_count": 54,
   "metadata": {
    "ExecuteTime": {
     "end_time": "2023-02-21T01:44:49.102989Z",
     "start_time": "2023-02-21T01:44:49.081975Z"
    }
   },
   "outputs": [
    {
     "data": {
      "text/plain": [
       "((48000, 28, 28), (12000, 28, 28), (10000, 28, 28))"
      ]
     },
     "execution_count": 54,
     "metadata": {},
     "output_type": "execute_result"
    }
   ],
   "source": [
    "X_train.shape, X_val.shape, X_test.shape"
   ]
  },
  {
   "cell_type": "markdown",
   "metadata": {
    "slideshow": {
     "slide_type": "slide"
    }
   },
   "source": [
    "##### Dataset 생성"
   ]
  },
  {
   "cell_type": "code",
   "execution_count": 56,
   "metadata": {
    "ExecuteTime": {
     "end_time": "2023-02-21T01:45:08.842157Z",
     "start_time": "2023-02-21T01:45:08.794140Z"
    }
   },
   "outputs": [],
   "source": [
    "train_dataset = tf.data.Dataset.from_tensor_slices((X_train, y_train))\\\n",
    "                               .shuffle(X_train.shape[0]).batch(N_BATCH, drop_remainder=True)\n",
    "\n",
    "# validation/test dataset을 동일한 구조로 생성한다.\n",
    "val_dataset = tf.data.Dataset.from_tensor_slices((X_val, y_val)).batch(N_BATCH)\n",
    "test_dataset = tf.data.Dataset.from_tensor_slices((X_test, y_test)).batch(N_BATCH)"
   ]
  },
  {
   "cell_type": "code",
   "execution_count": 57,
   "metadata": {
    "ExecuteTime": {
     "end_time": "2023-02-21T01:45:09.852929Z",
     "start_time": "2023-02-21T01:45:09.832801Z"
    }
   },
   "outputs": [
    {
     "data": {
      "text/plain": [
       "(48, 12, 10)"
      ]
     },
     "execution_count": 57,
     "metadata": {},
     "output_type": "execute_result"
    }
   ],
   "source": [
    "# 에폭당 step 수 계산\n",
    "len(train_dataset), len(val_dataset), len(test_dataset)"
   ]
  },
  {
   "cell_type": "markdown",
   "metadata": {
    "slideshow": {
     "slide_type": "slide"
    }
   },
   "source": [
    "##### 모델 생성 및 컴파일"
   ]
  },
  {
   "cell_type": "code",
   "execution_count": 62,
   "metadata": {
    "ExecuteTime": {
     "end_time": "2023-02-21T01:59:36.450031Z",
     "start_time": "2023-02-21T01:59:36.429193Z"
    }
   },
   "outputs": [],
   "source": [
    "def get_model_fashion(lr=0.01):\n",
    "    model = keras.Sequential()\n",
    "    # Hidden Layer (첫번째 Hidden Layer에 input shape을 지정)\n",
    "    model.add(layers.Flatten(input_shape=(28, 28)))  # 28 x 28 2차원배열 => 784, 1차원 배열로 flatten\n",
    "    \n",
    "    # Dense Layer의 Unit개수는 점점 줄여나가는 패턴을 사용.\n",
    "    model.add(layers.Dense(256, activation='relu'))\n",
    "    model.add(layers.Dense(128, activation='relu'))\n",
    "    model.add(layers.Dense(64, activation='relu'))\n",
    "    model.add(layers.Dense(32, activation='relu'))\n",
    "    \n",
    "    # output layer\n",
    "    # 다중분류 : unit수 - y의 class개수, activation: softmax -> 각 출력값이 class별 확률이 되도록 처리.\n",
    "    model.add(layers.Dense(10, activation='softmax', name='output'))\n",
    "    \n",
    "    # 컴파일\n",
    "    # 다중분류 loss함수:\n",
    "#             y가 one hot encoding이 안된 경우: sparse_categorical_crossentropy\n",
    "#             y를 one hot encoding 한 경우: categorical_crossentropy\n",
    "    model.compile(optimizer=optimizers.Adam(learning_rate=lr), \n",
    "                  loss='sparse_categorical_crossentropy',   \n",
    "                  metrics=['accuracy']\n",
    "                 )\n",
    "    return model"
   ]
  },
  {
   "cell_type": "code",
   "execution_count": 67,
   "metadata": {
    "ExecuteTime": {
     "end_time": "2023-02-21T02:06:42.175989Z",
     "start_time": "2023-02-21T02:06:42.060735Z"
    }
   },
   "outputs": [
    {
     "name": "stdout",
     "output_type": "stream",
     "text": [
      "Model: \"sequential_2\"\n",
      "_________________________________________________________________\n",
      " Layer (type)                Output Shape              Param #   \n",
      "=================================================================\n",
      " flatten_2 (Flatten)         (None, 784)               0         \n",
      "                                                                 \n",
      " dense_8 (Dense)             (None, 256)               200960    \n",
      "                                                                 \n",
      " dense_9 (Dense)             (None, 128)               32896     \n",
      "                                                                 \n",
      " dense_10 (Dense)            (None, 64)                8256      \n",
      "                                                                 \n",
      " dense_11 (Dense)            (None, 32)                2080      \n",
      "                                                                 \n",
      " output (Dense)              (None, 10)                330       \n",
      "                                                                 \n",
      "=================================================================\n",
      "Total params: 244,522\n",
      "Trainable params: 244,522\n",
      "Non-trainable params: 0\n",
      "_________________________________________________________________\n"
     ]
    }
   ],
   "source": [
    "model_fashion = get_model_fashion(LEARNING_RATE)\n",
    "model_fashion.summary()"
   ]
  },
  {
   "cell_type": "code",
   "execution_count": 64,
   "metadata": {
    "ExecuteTime": {
     "end_time": "2023-02-21T02:00:53.260587Z",
     "start_time": "2023-02-21T02:00:52.768835Z"
    },
    "collapsed": true
   },
   "outputs": [
    {
     "data": {
      "image/png": "[encoded data removed]",
      "text/plain": [
       "<IPython.core.display.Image object>"
      ]
     },
     "execution_count": 64,
     "metadata": {},
     "output_type": "execute_result"
    }
   ],
   "source": [
    "keras.utils.plot_model(model_fashion, show_shapes=True)"
   ]
  },
  {
   "cell_type": "markdown",
   "metadata": {
    "slideshow": {
     "slide_type": "slide"
    }
   },
   "source": [
    "##### Train(학습)"
   ]
  },
  {
   "cell_type": "code",
   "execution_count": 68,
   "metadata": {
    "ExecuteTime": {
     "end_time": "2023-02-21T02:08:47.880367Z",
     "start_time": "2023-02-21T02:07:05.953553Z"
    },
    "scrolled": true
   },
   "outputs": [
    {
     "name": "stdout",
     "output_type": "stream",
     "text": [
      "Epoch 1/100\n",
      "48/48 [==============================] - 2s 18ms/step - loss: 0.9184 - accuracy: 0.6963 - val_loss: 0.5417 - val_accuracy: 0.8114\n",
      "Epoch 2/100\n",
      "48/48 [==============================] - 1s 16ms/step - loss: 0.4840 - accuracy: 0.8318 - val_loss: 0.4705 - val_accuracy: 0.8321\n",
      "Epoch 3/100\n",
      "48/48 [==============================] - 1s 18ms/step - loss: 0.4347 - accuracy: 0.8484 - val_loss: 0.4209 - val_accuracy: 0.8464\n",
      "Epoch 4/100\n",
      "48/48 [==============================] - 1s 17ms/step - loss: 0.3884 - accuracy: 0.8633 - val_loss: 0.3900 - val_accuracy: 0.8584\n",
      "Epoch 5/100\n",
      "48/48 [==============================] - 1s 18ms/step - loss: 0.3637 - accuracy: 0.8721 - val_loss: 0.3736 - val_accuracy: 0.8632\n",
      "Epoch 6/100\n",
      "48/48 [==============================] - 1s 17ms/step - loss: 0.3399 - accuracy: 0.8811 - val_loss: 0.3568 - val_accuracy: 0.8712\n",
      "Epoch 7/100\n",
      "48/48 [==============================] - 1s 17ms/step - loss: 0.3312 - accuracy: 0.8821 - val_loss: 0.3481 - val_accuracy: 0.8727\n",
      "Epoch 8/100\n",
      "48/48 [==============================] - 1s 16ms/step - loss: 0.3129 - accuracy: 0.8868 - val_loss: 0.3261 - val_accuracy: 0.8819\n",
      "Epoch 9/100\n",
      "48/48 [==============================] - 1s 16ms/step - loss: 0.3069 - accuracy: 0.8895 - val_loss: 0.3307 - val_accuracy: 0.8805\n",
      "Epoch 10/100\n",
      "48/48 [==============================] - 1s 16ms/step - loss: 0.2925 - accuracy: 0.8942 - val_loss: 0.3585 - val_accuracy: 0.8680\n",
      "Epoch 11/100\n",
      "48/48 [==============================] - 1s 17ms/step - loss: 0.2903 - accuracy: 0.8955 - val_loss: 0.3191 - val_accuracy: 0.8837\n",
      "Epoch 12/100\n",
      "48/48 [==============================] - 1s 16ms/step - loss: 0.2811 - accuracy: 0.8976 - val_loss: 0.3387 - val_accuracy: 0.8788\n",
      "Epoch 13/100\n",
      "48/48 [==============================] - 1s 17ms/step - loss: 0.2709 - accuracy: 0.9010 - val_loss: 0.3274 - val_accuracy: 0.8828\n",
      "Epoch 14/100\n",
      "48/48 [==============================] - 1s 17ms/step - loss: 0.2609 - accuracy: 0.9047 - val_loss: 0.3229 - val_accuracy: 0.8797\n",
      "Epoch 15/100\n",
      "48/48 [==============================] - 1s 17ms/step - loss: 0.2548 - accuracy: 0.9072 - val_loss: 0.3309 - val_accuracy: 0.8777\n",
      "Epoch 16/100\n",
      "48/48 [==============================] - 1s 18ms/step - loss: 0.2506 - accuracy: 0.9080 - val_loss: 0.3220 - val_accuracy: 0.8826\n",
      "Epoch 17/100\n",
      "48/48 [==============================] - 1s 17ms/step - loss: 0.2386 - accuracy: 0.9124 - val_loss: 0.3120 - val_accuracy: 0.8857\n",
      "Epoch 18/100\n",
      "48/48 [==============================] - 1s 19ms/step - loss: 0.2266 - accuracy: 0.9175 - val_loss: 0.3101 - val_accuracy: 0.8873\n",
      "Epoch 19/100\n",
      "48/48 [==============================] - 1s 16ms/step - loss: 0.2283 - accuracy: 0.9160 - val_loss: 0.3203 - val_accuracy: 0.8839\n",
      "Epoch 20/100\n",
      "48/48 [==============================] - 1s 18ms/step - loss: 0.2254 - accuracy: 0.9181 - val_loss: 0.3100 - val_accuracy: 0.8903\n",
      "Epoch 21/100\n",
      "48/48 [==============================] - 1s 19ms/step - loss: 0.2127 - accuracy: 0.9222 - val_loss: 0.3045 - val_accuracy: 0.8904\n",
      "Epoch 22/100\n",
      "48/48 [==============================] - 1s 21ms/step - loss: 0.2123 - accuracy: 0.9220 - val_loss: 0.3177 - val_accuracy: 0.8874\n",
      "Epoch 23/100\n",
      "48/48 [==============================] - 1s 21ms/step - loss: 0.2041 - accuracy: 0.9238 - val_loss: 0.3171 - val_accuracy: 0.8867\n",
      "Epoch 24/100\n",
      "48/48 [==============================] - 1s 22ms/step - loss: 0.2029 - accuracy: 0.9253 - val_loss: 0.3159 - val_accuracy: 0.8868\n",
      "Epoch 25/100\n",
      "48/48 [==============================] - 1s 20ms/step - loss: 0.1932 - accuracy: 0.9293 - val_loss: 0.3004 - val_accuracy: 0.8942\n",
      "Epoch 26/100\n",
      "48/48 [==============================] - 1s 21ms/step - loss: 0.1873 - accuracy: 0.9307 - val_loss: 0.3213 - val_accuracy: 0.8907\n",
      "Epoch 27/100\n",
      "48/48 [==============================] - 1s 20ms/step - loss: 0.1804 - accuracy: 0.9330 - val_loss: 0.3163 - val_accuracy: 0.8901\n",
      "Epoch 28/100\n",
      "48/48 [==============================] - 1s 20ms/step - loss: 0.1792 - accuracy: 0.9338 - val_loss: 0.3135 - val_accuracy: 0.8911\n",
      "Epoch 29/100\n",
      "48/48 [==============================] - 1s 19ms/step - loss: 0.1738 - accuracy: 0.9358 - val_loss: 0.3303 - val_accuracy: 0.8876\n",
      "Epoch 30/100\n",
      "48/48 [==============================] - 1s 19ms/step - loss: 0.1771 - accuracy: 0.9349 - val_loss: 0.3137 - val_accuracy: 0.8913\n",
      "Epoch 31/100\n",
      "48/48 [==============================] - 1s 20ms/step - loss: 0.1638 - accuracy: 0.9394 - val_loss: 0.3282 - val_accuracy: 0.8897\n",
      "Epoch 32/100\n",
      "48/48 [==============================] - 1s 21ms/step - loss: 0.1661 - accuracy: 0.9382 - val_loss: 0.3293 - val_accuracy: 0.8880\n",
      "Epoch 33/100\n",
      "48/48 [==============================] - 1s 19ms/step - loss: 0.1572 - accuracy: 0.9424 - val_loss: 0.3358 - val_accuracy: 0.8887\n",
      "Epoch 34/100\n",
      "48/48 [==============================] - 1s 19ms/step - loss: 0.1515 - accuracy: 0.9433 - val_loss: 0.3353 - val_accuracy: 0.8888\n",
      "Epoch 35/100\n",
      "48/48 [==============================] - 1s 20ms/step - loss: 0.1459 - accuracy: 0.9472 - val_loss: 0.3458 - val_accuracy: 0.8922\n",
      "Epoch 36/100\n",
      "48/48 [==============================] - 1s 19ms/step - loss: 0.1504 - accuracy: 0.9452 - val_loss: 0.3360 - val_accuracy: 0.8937\n",
      "Epoch 37/100\n",
      "48/48 [==============================] - 1s 21ms/step - loss: 0.1418 - accuracy: 0.9478 - val_loss: 0.3450 - val_accuracy: 0.8923\n",
      "Epoch 38/100\n",
      "48/48 [==============================] - 1s 19ms/step - loss: 0.1366 - accuracy: 0.9486 - val_loss: 0.3623 - val_accuracy: 0.8858\n",
      "Epoch 39/100\n",
      "48/48 [==============================] - 1s 20ms/step - loss: 0.1330 - accuracy: 0.9510 - val_loss: 0.3414 - val_accuracy: 0.8934\n",
      "Epoch 40/100\n",
      "48/48 [==============================] - 1s 19ms/step - loss: 0.1316 - accuracy: 0.9526 - val_loss: 0.3486 - val_accuracy: 0.8923\n",
      "Epoch 41/100\n",
      "48/48 [==============================] - 1s 21ms/step - loss: 0.1336 - accuracy: 0.9516 - val_loss: 0.3484 - val_accuracy: 0.8921\n",
      "Epoch 42/100\n",
      "48/48 [==============================] - 1s 20ms/step - loss: 0.1241 - accuracy: 0.9539 - val_loss: 0.3655 - val_accuracy: 0.8921\n",
      "Epoch 43/100\n",
      "48/48 [==============================] - 1s 20ms/step - loss: 0.1201 - accuracy: 0.9559 - val_loss: 0.3578 - val_accuracy: 0.8914\n",
      "Epoch 44/100\n",
      "48/48 [==============================] - 1s 20ms/step - loss: 0.1241 - accuracy: 0.9540 - val_loss: 0.3652 - val_accuracy: 0.8898\n",
      "Epoch 45/100\n",
      "48/48 [==============================] - 1s 19ms/step - loss: 0.1131 - accuracy: 0.9582 - val_loss: 0.3647 - val_accuracy: 0.8934\n",
      "Epoch 46/100\n",
      "48/48 [==============================] - 1s 20ms/step - loss: 0.1029 - accuracy: 0.9636 - val_loss: 0.3695 - val_accuracy: 0.8945\n",
      "Epoch 47/100\n",
      "48/48 [==============================] - 1s 20ms/step - loss: 0.1077 - accuracy: 0.9601 - val_loss: 0.3799 - val_accuracy: 0.8892\n",
      "Epoch 48/100\n",
      "48/48 [==============================] - 1s 20ms/step - loss: 0.1051 - accuracy: 0.9621 - val_loss: 0.3998 - val_accuracy: 0.8877\n",
      "Epoch 49/100\n",
      "48/48 [==============================] - 1s 19ms/step - loss: 0.1009 - accuracy: 0.9633 - val_loss: 0.3929 - val_accuracy: 0.8924\n",
      "Epoch 50/100\n",
      "48/48 [==============================] - 1s 20ms/step - loss: 0.0981 - accuracy: 0.9642 - val_loss: 0.3962 - val_accuracy: 0.8906\n",
      "Epoch 51/100\n",
      "48/48 [==============================] - 1s 21ms/step - loss: 0.1009 - accuracy: 0.9619 - val_loss: 0.4276 - val_accuracy: 0.8852\n",
      "Epoch 52/100\n",
      "48/48 [==============================] - 1s 20ms/step - loss: 0.0959 - accuracy: 0.9645 - val_loss: 0.3931 - val_accuracy: 0.8917\n",
      "Epoch 53/100\n",
      "48/48 [==============================] - 1s 20ms/step - loss: 0.0939 - accuracy: 0.9654 - val_loss: 0.4224 - val_accuracy: 0.8911\n",
      "Epoch 54/100\n",
      "48/48 [==============================] - 1s 20ms/step - loss: 0.0959 - accuracy: 0.9647 - val_loss: 0.3974 - val_accuracy: 0.8932\n",
      "Epoch 55/100\n",
      "48/48 [==============================] - 1s 20ms/step - loss: 0.0954 - accuracy: 0.9651 - val_loss: 0.4093 - val_accuracy: 0.8898\n",
      "Epoch 56/100\n",
      "48/48 [==============================] - 1s 19ms/step - loss: 0.0920 - accuracy: 0.9658 - val_loss: 0.4250 - val_accuracy: 0.8913\n",
      "Epoch 57/100\n",
      "48/48 [==============================] - 1s 20ms/step - loss: 0.0846 - accuracy: 0.9691 - val_loss: 0.4258 - val_accuracy: 0.8898\n",
      "Epoch 58/100\n"
     ]
    },
    {
     "name": "stdout",
     "output_type": "stream",
     "text": [
      "48/48 [==============================] - 1s 19ms/step - loss: 0.0784 - accuracy: 0.9712 - val_loss: 0.4457 - val_accuracy: 0.8859\n",
      "Epoch 59/100\n",
      "48/48 [==============================] - 1s 18ms/step - loss: 0.0856 - accuracy: 0.9688 - val_loss: 0.4507 - val_accuracy: 0.8892\n",
      "Epoch 60/100\n",
      "48/48 [==============================] - 1s 18ms/step - loss: 0.0854 - accuracy: 0.9686 - val_loss: 0.4602 - val_accuracy: 0.8901\n",
      "Epoch 61/100\n",
      "48/48 [==============================] - 1s 18ms/step - loss: 0.0771 - accuracy: 0.9715 - val_loss: 0.4894 - val_accuracy: 0.8818\n",
      "Epoch 62/100\n",
      "48/48 [==============================] - 1s 18ms/step - loss: 0.0801 - accuracy: 0.9705 - val_loss: 0.4713 - val_accuracy: 0.8892\n",
      "Epoch 63/100\n",
      "48/48 [==============================] - 1s 18ms/step - loss: 0.0729 - accuracy: 0.9731 - val_loss: 0.4736 - val_accuracy: 0.8911\n",
      "Epoch 64/100\n",
      "48/48 [==============================] - 1s 18ms/step - loss: 0.0813 - accuracy: 0.9699 - val_loss: 0.4618 - val_accuracy: 0.8892\n",
      "Epoch 65/100\n",
      "48/48 [==============================] - 1s 19ms/step - loss: 0.0737 - accuracy: 0.9728 - val_loss: 0.5111 - val_accuracy: 0.8808\n",
      "Epoch 66/100\n",
      "48/48 [==============================] - 1s 19ms/step - loss: 0.0690 - accuracy: 0.9753 - val_loss: 0.4904 - val_accuracy: 0.8893\n",
      "Epoch 67/100\n",
      "48/48 [==============================] - 1s 18ms/step - loss: 0.0612 - accuracy: 0.9778 - val_loss: 0.4795 - val_accuracy: 0.8932\n",
      "Epoch 68/100\n",
      "48/48 [==============================] - 1s 19ms/step - loss: 0.0686 - accuracy: 0.9746 - val_loss: 0.4739 - val_accuracy: 0.8905\n",
      "Epoch 69/100\n",
      "48/48 [==============================] - 1s 18ms/step - loss: 0.0738 - accuracy: 0.9729 - val_loss: 0.5262 - val_accuracy: 0.8858\n",
      "Epoch 70/100\n",
      "48/48 [==============================] - 1s 19ms/step - loss: 0.0669 - accuracy: 0.9749 - val_loss: 0.5099 - val_accuracy: 0.8912\n",
      "Epoch 71/100\n",
      "48/48 [==============================] - 1s 18ms/step - loss: 0.0565 - accuracy: 0.9797 - val_loss: 0.5056 - val_accuracy: 0.8923\n",
      "Epoch 72/100\n",
      "48/48 [==============================] - 1s 19ms/step - loss: 0.0535 - accuracy: 0.9804 - val_loss: 0.5300 - val_accuracy: 0.8841\n",
      "Epoch 73/100\n",
      "48/48 [==============================] - 1s 18ms/step - loss: 0.0586 - accuracy: 0.9791 - val_loss: 0.5478 - val_accuracy: 0.8900\n",
      "Epoch 74/100\n",
      "48/48 [==============================] - 1s 18ms/step - loss: 0.0541 - accuracy: 0.9800 - val_loss: 0.5240 - val_accuracy: 0.8909\n",
      "Epoch 75/100\n",
      "48/48 [==============================] - 1s 19ms/step - loss: 0.0497 - accuracy: 0.9826 - val_loss: 0.5293 - val_accuracy: 0.8904\n",
      "Epoch 76/100\n",
      "48/48 [==============================] - 1s 17ms/step - loss: 0.0523 - accuracy: 0.9815 - val_loss: 0.5802 - val_accuracy: 0.8816\n",
      "Epoch 77/100\n",
      "48/48 [==============================] - 1s 18ms/step - loss: 0.0544 - accuracy: 0.9801 - val_loss: 0.5639 - val_accuracy: 0.8873\n",
      "Epoch 78/100\n",
      "48/48 [==============================] - 1s 18ms/step - loss: 0.0495 - accuracy: 0.9823 - val_loss: 0.5540 - val_accuracy: 0.8902\n",
      "Epoch 79/100\n",
      "48/48 [==============================] - 1s 19ms/step - loss: 0.0547 - accuracy: 0.9799 - val_loss: 0.5551 - val_accuracy: 0.8886\n",
      "Epoch 80/100\n",
      "48/48 [==============================] - 1s 18ms/step - loss: 0.0462 - accuracy: 0.9836 - val_loss: 0.5957 - val_accuracy: 0.8866\n",
      "Epoch 81/100\n",
      "48/48 [==============================] - 1s 19ms/step - loss: 0.0524 - accuracy: 0.9809 - val_loss: 0.5663 - val_accuracy: 0.8895\n",
      "Epoch 82/100\n",
      "48/48 [==============================] - 1s 18ms/step - loss: 0.0487 - accuracy: 0.9823 - val_loss: 0.5515 - val_accuracy: 0.8853\n",
      "Epoch 83/100\n",
      "48/48 [==============================] - 1s 18ms/step - loss: 0.0474 - accuracy: 0.9822 - val_loss: 0.6088 - val_accuracy: 0.8902\n",
      "Epoch 84/100\n",
      "48/48 [==============================] - 1s 19ms/step - loss: 0.0526 - accuracy: 0.9801 - val_loss: 0.5755 - val_accuracy: 0.8876\n",
      "Epoch 85/100\n",
      "48/48 [==============================] - 1s 19ms/step - loss: 0.0452 - accuracy: 0.9834 - val_loss: 0.5739 - val_accuracy: 0.8905\n",
      "Epoch 86/100\n",
      "48/48 [==============================] - 1s 18ms/step - loss: 0.0497 - accuracy: 0.9818 - val_loss: 0.6022 - val_accuracy: 0.8777\n",
      "Epoch 87/100\n",
      "48/48 [==============================] - 1s 19ms/step - loss: 0.0642 - accuracy: 0.9759 - val_loss: 0.6021 - val_accuracy: 0.8868\n",
      "Epoch 88/100\n",
      "48/48 [==============================] - 1s 18ms/step - loss: 0.0443 - accuracy: 0.9838 - val_loss: 0.5773 - val_accuracy: 0.8932\n",
      "Epoch 89/100\n",
      "48/48 [==============================] - 1s 18ms/step - loss: 0.0415 - accuracy: 0.9854 - val_loss: 0.5941 - val_accuracy: 0.8908\n",
      "Epoch 90/100\n",
      "48/48 [==============================] - 1s 18ms/step - loss: 0.0438 - accuracy: 0.9835 - val_loss: 0.6130 - val_accuracy: 0.8923\n",
      "Epoch 91/100\n",
      "48/48 [==============================] - 1s 18ms/step - loss: 0.0490 - accuracy: 0.9818 - val_loss: 0.6239 - val_accuracy: 0.8874\n",
      "Epoch 92/100\n",
      "48/48 [==============================] - 1s 18ms/step - loss: 0.0452 - accuracy: 0.9832 - val_loss: 0.6066 - val_accuracy: 0.8916\n",
      "Epoch 93/100\n",
      "48/48 [==============================] - 1s 18ms/step - loss: 0.0386 - accuracy: 0.9862 - val_loss: 0.6174 - val_accuracy: 0.8870\n",
      "Epoch 94/100\n",
      "48/48 [==============================] - 1s 18ms/step - loss: 0.0391 - accuracy: 0.9853 - val_loss: 0.6434 - val_accuracy: 0.8868\n",
      "Epoch 95/100\n",
      "48/48 [==============================] - 1s 21ms/step - loss: 0.0316 - accuracy: 0.9887 - val_loss: 0.6847 - val_accuracy: 0.8867\n",
      "Epoch 96/100\n",
      "48/48 [==============================] - 1s 19ms/step - loss: 0.0359 - accuracy: 0.9867 - val_loss: 0.6605 - val_accuracy: 0.8847\n",
      "Epoch 97/100\n",
      "48/48 [==============================] - 1s 19ms/step - loss: 0.0427 - accuracy: 0.9846 - val_loss: 0.6586 - val_accuracy: 0.8898\n",
      "Epoch 98/100\n",
      "48/48 [==============================] - 1s 19ms/step - loss: 0.0339 - accuracy: 0.9876 - val_loss: 0.6774 - val_accuracy: 0.8901\n",
      "Epoch 99/100\n",
      "48/48 [==============================] - 1s 19ms/step - loss: 0.0285 - accuracy: 0.9901 - val_loss: 0.6511 - val_accuracy: 0.8903\n",
      "Epoch 100/100\n",
      "48/48 [==============================] - 1s 18ms/step - loss: 0.0299 - accuracy: 0.9896 - val_loss: 0.6678 - val_accuracy: 0.8892\n"
     ]
    }
   ],
   "source": [
    "hist = model_fashion.fit(train_dataset, epochs=N_EPOCH, validation_data=val_dataset)"
   ]
  },
  {
   "cell_type": "markdown",
   "metadata": {
    "slideshow": {
     "slide_type": "fragment"
    }
   },
   "source": [
    "##### 결과 시각화\n",
    "- 학습 시 epoch별 검증 결과를 시각화한다."
   ]
  },
  {
   "cell_type": "code",
   "execution_count": 70,
   "metadata": {
    "ExecuteTime": {
     "end_time": "2023-02-21T02:29:42.099456Z",
     "start_time": "2023-02-21T02:29:42.080523Z"
    }
   },
   "outputs": [
    {
     "data": {
      "text/plain": [
       "dict_keys(['loss', 'accuracy', 'val_loss', 'val_accuracy'])"
      ]
     },
     "execution_count": 70,
     "metadata": {},
     "output_type": "execute_result"
    }
   ],
   "source": [
    "hist.history.keys()"
   ]
  },
  {
   "cell_type": "code",
   "execution_count": 71,
   "metadata": {
    "ExecuteTime": {
     "end_time": "2023-02-21T02:30:52.154171Z",
     "start_time": "2023-02-21T02:30:52.146643Z"
    },
    "collapsed": true
   },
   "outputs": [
    {
     "data": {
      "text/plain": [
       "[0,\n",
       " 1,\n",
       " 2,\n",
       " 3,\n",
       " 4,\n",
       " 5,\n",
       " 6,\n",
       " 7,\n",
       " 8,\n",
       " 9,\n",
       " 10,\n",
       " 11,\n",
       " 12,\n",
       " 13,\n",
       " 14,\n",
       " 15,\n",
       " 16,\n",
       " 17,\n",
       " 18,\n",
       " 19,\n",
       " 20,\n",
       " 21,\n",
       " 22,\n",
       " 23,\n",
       " 24,\n",
       " 25,\n",
       " 26,\n",
       " 27,\n",
       " 28,\n",
       " 29,\n",
       " 30,\n",
       " 31,\n",
       " 32,\n",
       " 33,\n",
       " 34,\n",
       " 35,\n",
       " 36,\n",
       " 37,\n",
       " 38,\n",
       " 39,\n",
       " 40,\n",
       " 41,\n",
       " 42,\n",
       " 43,\n",
       " 44,\n",
       " 45,\n",
       " 46,\n",
       " 47,\n",
       " 48,\n",
       " 49,\n",
       " 50,\n",
       " 51,\n",
       " 52,\n",
       " 53,\n",
       " 54,\n",
       " 55,\n",
       " 56,\n",
       " 57,\n",
       " 58,\n",
       " 59,\n",
       " 60,\n",
       " 61,\n",
       " 62,\n",
       " 63,\n",
       " 64,\n",
       " 65,\n",
       " 66,\n",
       " 67,\n",
       " 68,\n",
       " 69,\n",
       " 70,\n",
       " 71,\n",
       " 72,\n",
       " 73,\n",
       " 74,\n",
       " 75,\n",
       " 76,\n",
       " 77,\n",
       " 78,\n",
       " 79,\n",
       " 80,\n",
       " 81,\n",
       " 82,\n",
       " 83,\n",
       " 84,\n",
       " 85,\n",
       " 86,\n",
       " 87,\n",
       " 88,\n",
       " 89,\n",
       " 90,\n",
       " 91,\n",
       " 92,\n",
       " 93,\n",
       " 94,\n",
       " 95,\n",
       " 96,\n",
       " 97,\n",
       " 98,\n",
       " 99]"
      ]
     },
     "execution_count": 71,
     "metadata": {},
     "output_type": "execute_result"
    }
   ],
   "source": [
    "hist.epoch"
   ]
  },
  {
   "cell_type": "code",
   "execution_count": 74,
   "metadata": {
    "ExecuteTime": {
     "end_time": "2023-02-21T02:34:49.991204Z",
     "start_time": "2023-02-21T02:34:49.466753Z"
    }
   },
   "outputs": [
    {
     "data": {
      "image/png": "[encoded data removed]",
      "text/plain": [
       "<Figure size 1000x500 with 2 Axes>"
      ]
     },
     "metadata": {},
     "output_type": "display_data"
    }
   ],
   "source": [
    "plt.figure(figsize=(10, 5))\n",
    "plt.subplot(1, 2, 1)\n",
    "plt.plot(hist.epoch, hist.history['loss'], label=\"train\")\n",
    "plt.plot(hist.epoch, hist.history['val_loss'], label='validation')\n",
    "plt.title('Loss')\n",
    "plt.xlabel('에폭수')\n",
    "plt.ylabel('loss')\n",
    "plt.legend()\n",
    "\n",
    "plt.subplot(1, 2, 2)\n",
    "plt.plot(hist.epoch, hist.history['accuracy'], label='train')\n",
    "plt.plot(hist.epoch, hist.history['val_accuracy'], label='validation')\n",
    "plt.title('Accuracy')\n",
    "plt.xlabel('에폭수')\n",
    "plt.ylabel('accuracy')\n",
    "plt.legend()\n",
    "\n",
    "plt.tight_layout()\n",
    "plt.show()"
   ]
  },
  {
   "cell_type": "code",
   "execution_count": 76,
   "metadata": {
    "ExecuteTime": {
     "end_time": "2023-02-21T02:44:38.660760Z",
     "start_time": "2023-02-21T02:44:15.826839Z"
    },
    "collapsed": true
   },
   "outputs": [
    {
     "name": "stdout",
     "output_type": "stream",
     "text": [
      "Epoch 1/20\n",
      "48/48 [==============================] - 2s 22ms/step - loss: 0.9572 - accuracy: 0.6797 - val_loss: 0.5419 - val_accuracy: 0.8051\n",
      "Epoch 2/20\n",
      "48/48 [==============================] - 1s 17ms/step - loss: 0.4921 - accuracy: 0.8285 - val_loss: 0.4910 - val_accuracy: 0.8217\n",
      "Epoch 3/20\n",
      "48/48 [==============================] - 1s 17ms/step - loss: 0.4321 - accuracy: 0.8496 - val_loss: 0.4307 - val_accuracy: 0.8460\n",
      "Epoch 4/20\n",
      "48/48 [==============================] - 1s 17ms/step - loss: 0.3961 - accuracy: 0.8619 - val_loss: 0.3888 - val_accuracy: 0.8613\n",
      "Epoch 5/20\n",
      "48/48 [==============================] - 1s 16ms/step - loss: 0.3752 - accuracy: 0.8658 - val_loss: 0.3817 - val_accuracy: 0.8620\n",
      "Epoch 6/20\n",
      "48/48 [==============================] - 1s 17ms/step - loss: 0.3514 - accuracy: 0.8750 - val_loss: 0.3605 - val_accuracy: 0.8718\n",
      "Epoch 7/20\n",
      "48/48 [==============================] - 1s 17ms/step - loss: 0.3323 - accuracy: 0.8818 - val_loss: 0.3490 - val_accuracy: 0.8729\n",
      "Epoch 8/20\n",
      "48/48 [==============================] - 1s 16ms/step - loss: 0.3294 - accuracy: 0.8827 - val_loss: 0.3449 - val_accuracy: 0.8765\n",
      "Epoch 9/20\n",
      "48/48 [==============================] - 1s 24ms/step - loss: 0.3142 - accuracy: 0.8866 - val_loss: 0.3386 - val_accuracy: 0.8763\n",
      "Epoch 10/20\n",
      "48/48 [==============================] - 1s 25ms/step - loss: 0.2984 - accuracy: 0.8917 - val_loss: 0.3500 - val_accuracy: 0.8734\n",
      "Epoch 11/20\n",
      "48/48 [==============================] - 1s 23ms/step - loss: 0.2913 - accuracy: 0.8954 - val_loss: 0.3463 - val_accuracy: 0.8758\n",
      "Epoch 12/20\n",
      "48/48 [==============================] - 1s 22ms/step - loss: 0.2905 - accuracy: 0.8942 - val_loss: 0.3251 - val_accuracy: 0.8821\n",
      "Epoch 13/20\n",
      "48/48 [==============================] - 1s 23ms/step - loss: 0.2740 - accuracy: 0.8997 - val_loss: 0.3428 - val_accuracy: 0.8744\n",
      "Epoch 14/20\n",
      "48/48 [==============================] - 1s 24ms/step - loss: 0.2745 - accuracy: 0.9004 - val_loss: 0.3236 - val_accuracy: 0.8828\n",
      "Epoch 15/20\n",
      "48/48 [==============================] - 1s 21ms/step - loss: 0.2626 - accuracy: 0.9036 - val_loss: 0.3399 - val_accuracy: 0.8778\n",
      "Epoch 16/20\n",
      "48/48 [==============================] - 1s 23ms/step - loss: 0.2590 - accuracy: 0.9050 - val_loss: 0.3087 - val_accuracy: 0.8885\n",
      "Epoch 17/20\n",
      "48/48 [==============================] - 1s 21ms/step - loss: 0.2409 - accuracy: 0.9121 - val_loss: 0.3214 - val_accuracy: 0.8839\n",
      "Epoch 18/20\n",
      "48/48 [==============================] - 1s 22ms/step - loss: 0.2400 - accuracy: 0.9115 - val_loss: 0.3279 - val_accuracy: 0.8827\n",
      "Epoch 19/20\n",
      "48/48 [==============================] - 1s 22ms/step - loss: 0.2405 - accuracy: 0.9118 - val_loss: 0.3187 - val_accuracy: 0.8860\n",
      "Epoch 20/20\n",
      "48/48 [==============================] - 1s 23ms/step - loss: 0.2259 - accuracy: 0.9173 - val_loss: 0.3090 - val_accuracy: 0.8894\n"
     ]
    }
   ],
   "source": [
    "model_fashion2 = get_model_fashion(LEARNING_RATE)\n",
    "\n",
    "hist = model_fashion2.fit(train_dataset, epochs=20, validation_data=val_dataset)"
   ]
  },
  {
   "cell_type": "code",
   "execution_count": 77,
   "metadata": {
    "ExecuteTime": {
     "end_time": "2023-02-21T02:45:13.366927Z",
     "start_time": "2023-02-21T02:45:12.924182Z"
    },
    "collapsed": true
   },
   "outputs": [
    {
     "data": {
      "image/png": "[encoded data removed]",
      "text/plain": [
       "<Figure size 1000x500 with 2 Axes>"
      ]
     },
     "metadata": {},
     "output_type": "display_data"
    }
   ],
   "source": [
    "plt.figure(figsize=(10, 5))\n",
    "plt.subplot(1, 2, 1)\n",
    "plt.plot(hist.epoch, hist.history['loss'], label=\"train\")\n",
    "plt.plot(hist.epoch, hist.history['val_loss'], label='validation')\n",
    "plt.title('Loss')\n",
    "plt.xlabel('에폭수')\n",
    "plt.ylabel('loss')\n",
    "plt.legend()\n",
    "\n",
    "plt.subplot(1, 2, 2)\n",
    "plt.plot(hist.epoch, hist.history['accuracy'], label='train')\n",
    "plt.plot(hist.epoch, hist.history['val_accuracy'], label='validation')\n",
    "plt.title('Accuracy')\n",
    "plt.xlabel('에폭수')\n",
    "plt.ylabel('accuracy')\n",
    "plt.legend()\n",
    "\n",
    "plt.tight_layout()\n",
    "plt.show()"
   ]
  },
  {
   "cell_type": "markdown",
   "metadata": {
    "slideshow": {
     "slide_type": "slide"
    }
   },
   "source": [
    "#### 최종평가"
   ]
  },
  {
   "cell_type": "code",
   "execution_count": 78,
   "metadata": {
    "ExecuteTime": {
     "end_time": "2023-02-21T02:47:01.522117Z",
     "start_time": "2023-02-21T02:47:01.340898Z"
    }
   },
   "outputs": [
    {
     "name": "stdout",
     "output_type": "stream",
     "text": [
      "10/10 [==============================] - 0s 11ms/step - loss: 0.3364 - accuracy: 0.8811\n"
     ]
    }
   ],
   "source": [
    "# test set\n",
    "loss, acc = model_fashion2.evaluate(test_dataset)"
   ]
  },
  {
   "cell_type": "code",
   "execution_count": 80,
   "metadata": {
    "ExecuteTime": {
     "end_time": "2023-02-21T02:47:23.246077Z",
     "start_time": "2023-02-21T02:47:23.227685Z"
    }
   },
   "outputs": [
    {
     "name": "stdout",
     "output_type": "stream",
     "text": [
      "0.33641037344932556 ,  0.8810999989509583\n"
     ]
    }
   ],
   "source": [
    "print(loss, acc, sep=\" , \")"
   ]
  },
  {
   "cell_type": "markdown",
   "metadata": {
    "slideshow": {
     "slide_type": "fragment"
    }
   },
   "source": [
    "#### 모델저장"
   ]
  },
  {
   "cell_type": "code",
   "execution_count": 81,
   "metadata": {
    "ExecuteTime": {
     "end_time": "2023-02-21T02:48:40.850529Z",
     "start_time": "2023-02-21T02:48:40.835399Z"
    }
   },
   "outputs": [],
   "source": [
    "save_dir_fashion = 'saved_model/fashion_mnist_model'"
   ]
  },
  {
   "cell_type": "code",
   "execution_count": 82,
   "metadata": {
    "ExecuteTime": {
     "end_time": "2023-02-21T02:48:48.648820Z",
     "start_time": "2023-02-21T02:48:47.633581Z"
    }
   },
   "outputs": [
    {
     "name": "stderr",
     "output_type": "stream",
     "text": [
      "WARNING:absl:Found untraced functions such as _update_step_xla while saving (showing 1 of 1). These functions will not be directly callable after loading.\n"
     ]
    },
    {
     "name": "stdout",
     "output_type": "stream",
     "text": [
      "INFO:tensorflow:Assets written to: saved_model/fashion_mnist_model\\assets\n"
     ]
    },
    {
     "name": "stderr",
     "output_type": "stream",
     "text": [
      "INFO:tensorflow:Assets written to: saved_model/fashion_mnist_model\\assets\n"
     ]
    }
   ],
   "source": [
    "model_fashion2.save(save_dir_fashion)"
   ]
  },
  {
   "cell_type": "markdown",
   "metadata": {
    "slideshow": {
     "slide_type": "slide"
    }
   },
   "source": [
    "#### 새로운 데이터 추론"
   ]
  },
  {
   "cell_type": "code",
   "execution_count": 84,
   "metadata": {
    "ExecuteTime": {
     "end_time": "2023-02-21T02:50:55.101500Z",
     "start_time": "2023-02-21T02:50:54.515764Z"
    }
   },
   "outputs": [
    {
     "name": "stdout",
     "output_type": "stream",
     "text": [
      "10/10 [==============================] - 0s 9ms/step - loss: 0.3364 - accuracy: 0.8811\n"
     ]
    },
    {
     "data": {
      "text/plain": [
       "[0.33641037344932556, 0.8810999989509583]"
      ]
     },
     "execution_count": 84,
     "metadata": {},
     "output_type": "execute_result"
    }
   ],
   "source": [
    "# 저장된 모델을 loading해서 추론\n",
    "saved_model_fashion = models.load_model(save_dir_fashion)\n",
    "saved_model_fashion.evaluate(test_dataset)"
   ]
  },
  {
   "cell_type": "code",
   "execution_count": 86,
   "metadata": {
    "ExecuteTime": {
     "end_time": "2023-02-21T02:51:44.473595Z",
     "start_time": "2023-02-21T02:51:44.465605Z"
    }
   },
   "outputs": [
    {
     "data": {
      "text/plain": [
       "(10, 28, 28)"
      ]
     },
     "execution_count": 86,
     "metadata": {},
     "output_type": "execute_result"
    }
   ],
   "source": [
    "new_X = X_test[1000:1010]\n",
    "new_X.shape"
   ]
  },
  {
   "cell_type": "code",
   "execution_count": 87,
   "metadata": {
    "ExecuteTime": {
     "end_time": "2023-02-21T02:52:34.249570Z",
     "start_time": "2023-02-21T02:52:34.106343Z"
    }
   },
   "outputs": [
    {
     "name": "stdout",
     "output_type": "stream",
     "text": [
      "1/1 [==============================] - 0s 81ms/step\n"
     ]
    },
    {
     "data": {
      "text/plain": [
       "(10, 10)"
      ]
     },
     "execution_count": 87,
     "metadata": {},
     "output_type": "execute_result"
    }
   ],
   "source": [
    "pred = saved_model_fashion.predict(new_X)\n",
    "pred.shape"
   ]
  },
  {
   "cell_type": "code",
   "execution_count": 101,
   "metadata": {
    "ExecuteTime": {
     "end_time": "2023-02-21T03:00:23.469118Z",
     "start_time": "2023-02-21T03:00:23.451611Z"
    }
   },
   "outputs": [
    {
     "data": {
      "text/plain": [
       "array([[3.1611094e-01, 2.2959384e-07, 6.0149031e-03, 1.1704685e-03,\n",
       "        5.8252193e-05, 1.3237215e-07, 6.7639112e-01, 7.7706922e-08,\n",
       "        2.5345394e-04, 3.4605765e-07],\n",
       "       [1.4920206e-05, 1.0623071e-05, 5.1499926e-05, 9.9983954e-01,\n",
       "        4.9447801e-05, 2.3944308e-08, 3.2583786e-05, 2.3394307e-13,\n",
       "        1.2912368e-06, 1.0482919e-09],\n",
       "       [1.5696109e-08, 1.7494456e-11, 5.5994754e-11, 5.8236083e-08,\n",
       "        1.0774816e-11, 9.9989450e-01, 3.5056857e-08, 7.8547039e-08,\n",
       "        1.3212620e-10, 1.0540162e-04],\n",
       "       [1.0862628e-10, 8.6707731e-11, 1.5149058e-12, 1.1420959e-07,\n",
       "        5.3145657e-09, 9.9999988e-01, 3.9088888e-10, 8.6982238e-10,\n",
       "        4.4801811e-09, 5.2029629e-09],\n",
       "       [1.0842747e-03, 5.7861598e-05, 4.0092486e-01, 2.8862832e-03,\n",
       "        2.5021383e-01, 1.4583374e-05, 3.4394521e-01, 4.4441440e-05,\n",
       "        7.6941121e-04, 5.9220420e-05],\n",
       "       [1.8219925e-02, 2.9422095e-02, 1.6158265e-01, 1.7678112e-01,\n",
       "        5.3348184e-01, 5.5670691e-05, 7.2339945e-02, 1.1816879e-05,\n",
       "        8.0450205e-03, 5.9939397e-05],\n",
       "       [7.4011510e-08, 2.1287073e-08, 1.8805271e-09, 5.4591112e-07,\n",
       "        1.1624094e-07, 9.9999535e-01, 8.1569020e-08, 2.9072132e-06,\n",
       "        9.4374292e-07, 1.9059932e-08],\n",
       "       [3.5488404e-06, 3.1704217e-09, 7.5936873e-06, 5.4072391e-10,\n",
       "        3.9560245e-08, 5.6747908e-06, 1.9372224e-06, 3.2397355e-03,\n",
       "        2.0554967e-06, 9.9673945e-01],\n",
       "       [1.0628471e-01, 1.8759096e-03, 2.6690871e-01, 3.8128085e-02,\n",
       "        2.9867088e-02, 6.4775784e-05, 5.5420834e-01, 2.7169392e-04,\n",
       "        1.9519735e-03, 4.3873003e-04],\n",
       "       [6.8448042e-03, 1.0861527e-03, 2.2102757e-04, 9.9155372e-01,\n",
       "        1.9430598e-05, 2.8450715e-06, 2.5863817e-04, 1.6520305e-10,\n",
       "        1.2512944e-05, 8.2382002e-07]], dtype=float32)"
      ]
     },
     "execution_count": 101,
     "metadata": {},
     "output_type": "execute_result"
    }
   ],
   "source": [
    "pred"
   ]
  },
  {
   "cell_type": "code",
   "execution_count": 95,
   "metadata": {
    "ExecuteTime": {
     "end_time": "2023-02-21T02:57:28.997373Z",
     "start_time": "2023-02-21T02:57:28.989004Z"
    }
   },
   "outputs": [
    {
     "data": {
      "text/plain": [
       "(array([6, 3, 5, 5, 2, 4, 5, 9, 6, 3], dtype=int64),\n",
       " array(['Shirt', 'Dress', 'Sandal', 'Sandal', 'Pullover', 'Coat', 'Sandal',\n",
       "        'Ankle boot', 'Shirt', 'Dress'], dtype='<U11'),\n",
       " array([67.639114, 99.983955, 99.98945 , 99.999985, 40.092487, 53.348183,\n",
       "        99.999535, 99.67394 , 55.420834, 99.15537 ], dtype=float32))"
      ]
     },
     "execution_count": 95,
     "metadata": {},
     "output_type": "execute_result"
    }
   ],
   "source": [
    "# 모델 추론결과에 대한 후처리 작업\n",
    "label = np.argmax(pred, axis=-1)# label 값을 조회\n",
    "label_name = class_names[label]\n",
    "proba = np.max(pred, axis=-1)    # 얼마 확률로 label을 추론했는지 확률값 조회\n",
    "label,  label_name, proba*100"
   ]
  },
  {
   "cell_type": "code",
   "execution_count": 105,
   "metadata": {
    "ExecuteTime": {
     "end_time": "2023-02-21T03:15:59.568719Z",
     "start_time": "2023-02-21T03:15:59.555259Z"
    }
   },
   "outputs": [
    {
     "name": "stdout",
     "output_type": "stream",
     "text": [
      "1. Shirt - 67%\n",
      "2. Dress - 99%\n",
      "3. Sandal - 99%\n",
      "4. Sandal - 99%\n",
      "5. Pullover - 40%\n",
      "6. Coat - 53%\n",
      "7. Sandal - 99%\n",
      "8. Ankle boot - 99%\n",
      "9. Shirt - 55%\n",
      "10. Dress - 99%\n"
     ]
    }
   ],
   "source": [
    "for idx, (n, p) in enumerate(zip(label_name, proba), start=1):\n",
    "    print(f\"{idx}. {n} - {int(p*100)}%\")"
   ]
  },
  {
   "cell_type": "code",
   "execution_count": 100,
   "metadata": {
    "ExecuteTime": {
     "end_time": "2023-02-21T02:59:38.569943Z",
     "start_time": "2023-02-21T02:59:38.563420Z"
    }
   },
   "outputs": [
    {
     "data": {
      "text/plain": [
       "array(['T-shirt/top', 'Dress', 'Sandal', 'Sandal', 'Shirt', 'T-shirt/top',\n",
       "       'Sandal', 'Ankle boot', 'Shirt', 'Dress'], dtype='<U11')"
      ]
     },
     "execution_count": 100,
     "metadata": {},
     "output_type": "execute_result"
    }
   ],
   "source": [
    "class_names[y_test[1000:1010]]"
   ]
  },
  {
   "cell_type": "markdown",
   "metadata": {
    "slideshow": {
     "slide_type": "slide"
    }
   },
   "source": [
    "## 위스콘신 유방암 데이터셋 - 이진분류(Binary Classification) 문제\n",
    "\n",
    "- **이진 분류 문제 처리 모델의 두가지 방법**\n",
    "    1. positive(1)일 확률을 출력하도록 구현\n",
    "        - output layer: units=1, activation='sigmoid'\n",
    "        - loss: binary_crossentropy\n",
    "    2. negative(0)일 확률과 positive(1)일 확률을 출력하도록 구현 => 다중분류 처리 방식으로 해결\n",
    "        - output layer: units=2, activation='softmax', y(정답)은 one hot encoding 처리\n",
    "        - loss: categorical_crossentropy\n",
    "        \n",
    "- 위스콘신 대학교에서 제공한 종양의 악성/양성여부 분류를 위한 데이터셋\n",
    "- Feature\n",
    "    - 종양에 대한 다양한 측정값들\n",
    "- Target의 class\n",
    "    - 0 - malignant(악성종양)\n",
    "    - 1 - benign(양성종양)"
   ]
  },
  {
   "cell_type": "code",
   "execution_count": 106,
   "metadata": {
    "ExecuteTime": {
     "end_time": "2023-02-21T03:26:57.528545Z",
     "start_time": "2023-02-21T03:26:57.489375Z"
    }
   },
   "outputs": [],
   "source": [
    "import tensorflow as tf\n",
    "from tensorflow import keras\n",
    "from tensorflow.keras import layers, models, optimizers\n",
    "\n",
    "from sklearn.datasets import load_breast_cancer\n",
    "from sklearn.model_selection import train_test_split\n",
    "from sklearn.preprocessing import StandardScaler\n",
    "\n",
    "import random\n",
    "import numpy as np\n",
    "import matplotlib.pyplot as plt\n",
    "\n",
    "random.seed(0)\n",
    "np.random.seed(0)\n",
    "tf.random.set_seed(0)"
   ]
  },
  {
   "cell_type": "markdown",
   "metadata": {
    "slideshow": {
     "slide_type": "slide"
    }
   },
   "source": [
    "##### 데이터 로딩, train/validation/test set 나누기"
   ]
  },
  {
   "cell_type": "code",
   "execution_count": 107,
   "metadata": {
    "ExecuteTime": {
     "end_time": "2023-02-21T03:28:22.885642Z",
     "start_time": "2023-02-21T03:28:22.858825Z"
    }
   },
   "outputs": [
    {
     "data": {
      "text/plain": [
       "((569, 30), (569,))"
      ]
     },
     "execution_count": 107,
     "metadata": {},
     "output_type": "execute_result"
    }
   ],
   "source": [
    "X, y = load_breast_cancer(return_X_y=True)\n",
    "X.shape, y.shape"
   ]
  },
  {
   "cell_type": "code",
   "execution_count": 108,
   "metadata": {
    "ExecuteTime": {
     "end_time": "2023-02-21T03:28:40.136054Z",
     "start_time": "2023-02-21T03:28:40.114719Z"
    }
   },
   "outputs": [
    {
     "data": {
      "text/plain": [
       "array([0, 1])"
      ]
     },
     "execution_count": 108,
     "metadata": {},
     "output_type": "execute_result"
    }
   ],
   "source": [
    "np.unique(y)"
   ]
  },
  {
   "cell_type": "code",
   "execution_count": 109,
   "metadata": {
    "ExecuteTime": {
     "end_time": "2023-02-21T03:31:11.269476Z",
     "start_time": "2023-02-21T03:31:11.246930Z"
    }
   },
   "outputs": [],
   "source": [
    "# Test set 분리\n",
    "X_train, X_test, y_train, y_test = train_test_split(X, y, test_size=0.2, stratify=y, random_state=0)\n",
    "# Train / Validation 분리\n",
    "X_train, X_val, y_train, y_val = train_test_split(X_train, y_train, test_size=0.2, stratify=y_train, random_state=0)"
   ]
  },
  {
   "cell_type": "code",
   "execution_count": 110,
   "metadata": {
    "ExecuteTime": {
     "end_time": "2023-02-21T03:31:21.803800Z",
     "start_time": "2023-02-21T03:31:21.786135Z"
    }
   },
   "outputs": [
    {
     "data": {
      "text/plain": [
       "((364, 30), (91, 30), (114, 30))"
      ]
     },
     "execution_count": 110,
     "metadata": {},
     "output_type": "execute_result"
    }
   ],
   "source": [
    "X_train.shape, X_val.shape, X_test.shape"
   ]
  },
  {
   "cell_type": "markdown",
   "metadata": {
    "slideshow": {
     "slide_type": "slide"
    }
   },
   "source": [
    "#### 하이퍼파라미터, 변수 정의"
   ]
  },
  {
   "cell_type": "code",
   "execution_count": 111,
   "metadata": {
    "ExecuteTime": {
     "end_time": "2023-02-21T03:32:36.251490Z",
     "start_time": "2023-02-21T03:32:36.245262Z"
    }
   },
   "outputs": [],
   "source": [
    "LEARNING_RATE = 0.001\n",
    "N_EPOCH = 200\n",
    "N_BATCH = 100\n",
    "N_BATCH_VAL_TEST = 50"
   ]
  },
  {
   "cell_type": "markdown",
   "metadata": {
    "slideshow": {
     "slide_type": "fragment"
    }
   },
   "source": [
    "#### 데이터 전처리\n",
    "- y (label) 처리\n",
    "    - 이진 분류\n",
    "        - 양성의 확률을 출력하도록 모델을 구성하는 경우 그대로 사용.\n",
    "        - 양성일 확률, 음성일 확률을 출력하도록 모델을 구성하는 경우(다중분류 방식으로 처리) one hot encoding 처리한다.\n",
    "- X (feature) 처리\n",
    "    - 문자열(범주형): one hot encoding\n",
    "    - 연속형(수치형): feature scaling"
   ]
  },
  {
   "cell_type": "code",
   "execution_count": 112,
   "metadata": {
    "ExecuteTime": {
     "end_time": "2023-02-21T03:34:23.252950Z",
     "start_time": "2023-02-21T03:34:23.244952Z"
    }
   },
   "outputs": [],
   "source": [
    "# Feature scaling\n",
    "scaler = StandardScaler()\n",
    "X_train_scaled = scaler.fit_transform(X_train)\n",
    "X_val_scaled = scaler.transform(X_val)\n",
    "X_test_scaled = scaler.transform(X_test)"
   ]
  },
  {
   "cell_type": "markdown",
   "metadata": {
    "slideshow": {
     "slide_type": "slide"
    }
   },
   "source": [
    "#### Dataset 생성\n"
   ]
  },
  {
   "cell_type": "code",
   "execution_count": 113,
   "metadata": {
    "ExecuteTime": {
     "end_time": "2023-02-21T05:10:08.876601Z",
     "start_time": "2023-02-21T05:10:08.837346Z"
    }
   },
   "outputs": [],
   "source": [
    "train_size = X_train_scaled.shape[0]\n",
    "train_dataset = tf.data.Dataset.from_tensor_slices((X_train_scaled, y_train))\\\n",
    "                               .shuffle(train_size).batch(N_BATCH, drop_remainder=True)\n",
    "\n",
    "val_dataset = tf.data.Dataset.from_tensor_slices((X_val_scaled, y_val)).batch(N_BATCH_VAL_TEST)\n",
    "test_dataset = tf.data.Dataset.from_tensor_slices((X_test_scaled, y_test)).batch(N_BATCH_VAL_TEST)"
   ]
  },
  {
   "cell_type": "markdown",
   "metadata": {
    "slideshow": {
     "slide_type": "slide"
    }
   },
   "source": [
    "#### model 생성, 컴파일"
   ]
  },
  {
   "cell_type": "code",
   "execution_count": 117,
   "metadata": {
    "ExecuteTime": {
     "end_time": "2023-02-21T05:13:32.856335Z",
     "start_time": "2023-02-21T05:13:32.837030Z"
    }
   },
   "outputs": [
    {
     "data": {
      "text/plain": [
       "(364, 30)"
      ]
     },
     "execution_count": 117,
     "metadata": {},
     "output_type": "execute_result"
    }
   ],
   "source": [
    "X_train_scaled.shape"
   ]
  },
  {
   "cell_type": "code",
   "execution_count": 120,
   "metadata": {
    "ExecuteTime": {
     "end_time": "2023-02-21T05:20:18.109173Z",
     "start_time": "2023-02-21T05:20:18.102088Z"
    }
   },
   "outputs": [],
   "source": [
    "from tensorflow.keras.metrics import Recall, Precision\n",
    "def get_model_cancer(lr=0.01):\n",
    "    model = keras.Sequential()\n",
    "    #Hidden layer\n",
    "    model.add(layers.Dense(32, activation='relu', input_shape=(30, )))\n",
    "    model.add(layers.Dense(16, activation='relu'))\n",
    "    # Output Layer\n",
    "    # 이진분류(양성인가?): unit개수-1개(positive-양성- 확률), activation: \"sigmoid\"\n",
    "    model.add(layers.Dense(1, activation='sigmoid', name='output_layer'))  # Layer이름 규칙: 변수명 규칙과 동일\n",
    "    \n",
    "    # 컴파일 - 이진분류의 loss함수: binary_crossentropy\n",
    "    model.compile(optimizer=optimizers.Adam(learning_rate=lr), \n",
    "                  loss='binary_crossentropy', \n",
    "                  metrics=['accuracy', Recall()])\n",
    "    \n",
    "    return model"
   ]
  },
  {
   "cell_type": "code",
   "execution_count": 121,
   "metadata": {
    "ExecuteTime": {
     "end_time": "2023-02-21T05:21:31.267372Z",
     "start_time": "2023-02-21T05:21:31.132924Z"
    }
   },
   "outputs": [
    {
     "name": "stdout",
     "output_type": "stream",
     "text": [
      "Model: \"sequential_5\"\n",
      "_________________________________________________________________\n",
      " Layer (type)                Output Shape              Param #   \n",
      "=================================================================\n",
      " dense_20 (Dense)            (None, 32)                992       \n",
      "                                                                 \n",
      " dense_21 (Dense)            (None, 16)                528       \n",
      "                                                                 \n",
      " output_layer (Dense)        (None, 1)                 17        \n",
      "                                                                 \n",
      "=================================================================\n",
      "Total params: 1,537\n",
      "Trainable params: 1,537\n",
      "Non-trainable params: 0\n",
      "_________________________________________________________________\n"
     ]
    }
   ],
   "source": [
    "model_cancer = get_model_cancer(LEARNING_RATE)\n",
    "model_cancer.summary()"
   ]
  },
  {
   "cell_type": "code",
   "execution_count": 123,
   "metadata": {
    "ExecuteTime": {
     "end_time": "2023-02-21T05:23:03.717695Z",
     "start_time": "2023-02-21T05:23:03.525884Z"
    },
    "collapsed": true
   },
   "outputs": [
    {
     "data": {
      "image/png": "[encoded data removed]",
      "text/plain": [
       "<IPython.core.display.Image object>"
      ]
     },
     "execution_count": 123,
     "metadata": {},
     "output_type": "execute_result"
    }
   ],
   "source": [
    "keras.utils.plot_model(model_cancer, show_shapes=True, to_file='model_cancer.png')"
   ]
  },
  {
   "cell_type": "markdown",
   "metadata": {
    "slideshow": {
     "slide_type": "slide"
    }
   },
   "source": [
    "#### Train(학습)"
   ]
  },
  {
   "cell_type": "code",
   "execution_count": 124,
   "metadata": {
    "ExecuteTime": {
     "end_time": "2023-02-21T05:24:15.491778Z",
     "start_time": "2023-02-21T05:24:02.764908Z"
    }
   },
   "outputs": [
    {
     "name": "stdout",
     "output_type": "stream",
     "text": [
      "Epoch 1/200\n",
      "3/3 [==============================] - 1s 111ms/step - loss: 0.5983 - accuracy: 0.7333 - recall: 0.8783 - val_loss: 0.5505 - val_accuracy: 0.7692 - val_recall: 0.8596\n",
      "Epoch 2/200\n",
      "3/3 [==============================] - 0s 14ms/step - loss: 0.5256 - accuracy: 0.8033 - recall: 0.9000 - val_loss: 0.5011 - val_accuracy: 0.8242 - val_recall: 0.8947\n",
      "Epoch 3/200\n",
      "3/3 [==============================] - 0s 23ms/step - loss: 0.4835 - accuracy: 0.8200 - recall: 0.9180 - val_loss: 0.4584 - val_accuracy: 0.8681 - val_recall: 0.9298\n",
      "Epoch 4/200\n",
      "3/3 [==============================] - 0s 34ms/step - loss: 0.4224 - accuracy: 0.8733 - recall: 0.9430 - val_loss: 0.4215 - val_accuracy: 0.8681 - val_recall: 0.9298\n",
      "Epoch 5/200\n",
      "3/3 [==============================] - 0s 16ms/step - loss: 0.3915 - accuracy: 0.8833 - recall: 0.9471 - val_loss: 0.3881 - val_accuracy: 0.8571 - val_recall: 0.9123\n",
      "Epoch 6/200\n",
      "3/3 [==============================] - 0s 22ms/step - loss: 0.3635 - accuracy: 0.8900 - recall: 0.9405 - val_loss: 0.3578 - val_accuracy: 0.8791 - val_recall: 0.9474\n",
      "Epoch 7/200\n",
      "3/3 [==============================] - 0s 20ms/step - loss: 0.3243 - accuracy: 0.9233 - recall: 0.9683 - val_loss: 0.3303 - val_accuracy: 0.9011 - val_recall: 0.9474\n",
      "Epoch 8/200\n",
      "3/3 [==============================] - 0s 17ms/step - loss: 0.3055 - accuracy: 0.9233 - recall: 0.9679 - val_loss: 0.3055 - val_accuracy: 0.9011 - val_recall: 0.9474\n",
      "Epoch 9/200\n",
      "3/3 [==============================] - 0s 30ms/step - loss: 0.2814 - accuracy: 0.9300 - recall: 0.9738 - val_loss: 0.2824 - val_accuracy: 0.9121 - val_recall: 0.9474\n",
      "Epoch 10/200\n",
      "3/3 [==============================] - 0s 31ms/step - loss: 0.2662 - accuracy: 0.9333 - recall: 0.9639 - val_loss: 0.2608 - val_accuracy: 0.9231 - val_recall: 0.9474\n",
      "Epoch 11/200\n",
      "3/3 [==============================] - 0s 19ms/step - loss: 0.2471 - accuracy: 0.9433 - recall: 0.9740 - val_loss: 0.2407 - val_accuracy: 0.9341 - val_recall: 0.9649\n",
      "Epoch 12/200\n",
      "3/3 [==============================] - 0s 17ms/step - loss: 0.2435 - accuracy: 0.9433 - recall: 0.9740 - val_loss: 0.2218 - val_accuracy: 0.9451 - val_recall: 0.9649\n",
      "Epoch 13/200\n",
      "3/3 [==============================] - 0s 26ms/step - loss: 0.2190 - accuracy: 0.9500 - recall: 0.9785 - val_loss: 0.2047 - val_accuracy: 0.9451 - val_recall: 0.9649\n",
      "Epoch 14/200\n",
      "3/3 [==============================] - 0s 16ms/step - loss: 0.1980 - accuracy: 0.9600 - recall: 0.9842 - val_loss: 0.1888 - val_accuracy: 0.9560 - val_recall: 0.9825\n",
      "Epoch 15/200\n",
      "3/3 [==============================] - 0s 21ms/step - loss: 0.1896 - accuracy: 0.9633 - recall: 0.9835 - val_loss: 0.1745 - val_accuracy: 0.9560 - val_recall: 0.9825\n",
      "Epoch 16/200\n",
      "3/3 [==============================] - 0s 19ms/step - loss: 0.1757 - accuracy: 0.9700 - recall: 0.9844 - val_loss: 0.1616 - val_accuracy: 0.9670 - val_recall: 1.0000\n",
      "Epoch 17/200\n",
      "3/3 [==============================] - 0s 20ms/step - loss: 0.1783 - accuracy: 0.9667 - recall: 0.9836 - val_loss: 0.1498 - val_accuracy: 0.9670 - val_recall: 1.0000\n",
      "Epoch 18/200\n",
      "3/3 [==============================] - 0s 18ms/step - loss: 0.1722 - accuracy: 0.9667 - recall: 0.9841 - val_loss: 0.1390 - val_accuracy: 0.9780 - val_recall: 1.0000\n",
      "Epoch 19/200\n",
      "3/3 [==============================] - 0s 24ms/step - loss: 0.1564 - accuracy: 0.9667 - recall: 0.9840 - val_loss: 0.1293 - val_accuracy: 0.9890 - val_recall: 1.0000\n",
      "Epoch 20/200\n",
      "3/3 [==============================] - 0s 21ms/step - loss: 0.1505 - accuracy: 0.9667 - recall: 0.9840 - val_loss: 0.1205 - val_accuracy: 0.9890 - val_recall: 1.0000\n",
      "Epoch 21/200\n",
      "3/3 [==============================] - 0s 22ms/step - loss: 0.1432 - accuracy: 0.9667 - recall: 0.9780 - val_loss: 0.1124 - val_accuracy: 0.9890 - val_recall: 1.0000\n",
      "Epoch 22/200\n",
      "3/3 [==============================] - 0s 24ms/step - loss: 0.1353 - accuracy: 0.9700 - recall: 0.9842 - val_loss: 0.1050 - val_accuracy: 0.9890 - val_recall: 1.0000\n",
      "Epoch 23/200\n",
      "3/3 [==============================] - 0s 20ms/step - loss: 0.1338 - accuracy: 0.9700 - recall: 0.9786 - val_loss: 0.0983 - val_accuracy: 0.9890 - val_recall: 1.0000\n",
      "Epoch 24/200\n",
      "3/3 [==============================] - 0s 22ms/step - loss: 0.1079 - accuracy: 0.9800 - recall: 0.9792 - val_loss: 0.0921 - val_accuracy: 0.9890 - val_recall: 1.0000\n",
      "Epoch 25/200\n",
      "3/3 [==============================] - 0s 17ms/step - loss: 0.1005 - accuracy: 0.9767 - recall: 0.9789 - val_loss: 0.0861 - val_accuracy: 0.9890 - val_recall: 1.0000\n",
      "Epoch 26/200\n",
      "3/3 [==============================] - 0s 18ms/step - loss: 0.0984 - accuracy: 0.9833 - recall: 0.9834 - val_loss: 0.0803 - val_accuracy: 0.9890 - val_recall: 1.0000\n",
      "Epoch 27/200\n",
      "3/3 [==============================] - 0s 21ms/step - loss: 0.1047 - accuracy: 0.9800 - recall: 0.9845 - val_loss: 0.0751 - val_accuracy: 0.9890 - val_recall: 1.0000\n",
      "Epoch 28/200\n",
      "3/3 [==============================] - 0s 23ms/step - loss: 0.0935 - accuracy: 0.9833 - recall: 0.9892 - val_loss: 0.0704 - val_accuracy: 1.0000 - val_recall: 1.0000\n",
      "Epoch 29/200\n",
      "3/3 [==============================] - 0s 25ms/step - loss: 0.0860 - accuracy: 0.9867 - recall: 0.9945 - val_loss: 0.0661 - val_accuracy: 1.0000 - val_recall: 1.0000\n",
      "Epoch 30/200\n",
      "3/3 [==============================] - 0s 25ms/step - loss: 0.0933 - accuracy: 0.9800 - recall: 0.9894 - val_loss: 0.0624 - val_accuracy: 1.0000 - val_recall: 1.0000\n",
      "Epoch 31/200\n",
      "3/3 [==============================] - 0s 14ms/step - loss: 0.0889 - accuracy: 0.9833 - recall: 0.9947 - val_loss: 0.0589 - val_accuracy: 1.0000 - val_recall: 1.0000\n",
      "Epoch 32/200\n",
      "3/3 [==============================] - 0s 25ms/step - loss: 0.0806 - accuracy: 0.9833 - recall: 0.9894 - val_loss: 0.0556 - val_accuracy: 1.0000 - val_recall: 1.0000\n",
      "Epoch 33/200\n",
      "3/3 [==============================] - 0s 16ms/step - loss: 0.0808 - accuracy: 0.9867 - recall: 0.9894 - val_loss: 0.0526 - val_accuracy: 1.0000 - val_recall: 1.0000\n",
      "Epoch 34/200\n",
      "3/3 [==============================] - 0s 22ms/step - loss: 0.0778 - accuracy: 0.9900 - recall: 1.0000 - val_loss: 0.0501 - val_accuracy: 1.0000 - val_recall: 1.0000\n",
      "Epoch 35/200\n",
      "3/3 [==============================] - 0s 23ms/step - loss: 0.0799 - accuracy: 0.9800 - recall: 0.9889 - val_loss: 0.0479 - val_accuracy: 1.0000 - val_recall: 1.0000\n",
      "Epoch 36/200\n",
      "3/3 [==============================] - 0s 17ms/step - loss: 0.0715 - accuracy: 0.9833 - recall: 0.9895 - val_loss: 0.0458 - val_accuracy: 1.0000 - val_recall: 1.0000\n",
      "Epoch 37/200\n",
      "3/3 [==============================] - 0s 20ms/step - loss: 0.0736 - accuracy: 0.9833 - recall: 0.9895 - val_loss: 0.0439 - val_accuracy: 1.0000 - val_recall: 1.0000\n",
      "Epoch 38/200\n",
      "3/3 [==============================] - 0s 18ms/step - loss: 0.0748 - accuracy: 0.9833 - recall: 0.9895 - val_loss: 0.0420 - val_accuracy: 1.0000 - val_recall: 1.0000\n",
      "Epoch 39/200\n",
      "3/3 [==============================] - 0s 21ms/step - loss: 0.0716 - accuracy: 0.9833 - recall: 0.9896 - val_loss: 0.0403 - val_accuracy: 1.0000 - val_recall: 1.0000\n",
      "Epoch 40/200\n",
      "3/3 [==============================] - 0s 18ms/step - loss: 0.0578 - accuracy: 0.9867 - recall: 0.9891 - val_loss: 0.0388 - val_accuracy: 1.0000 - val_recall: 1.0000\n",
      "Epoch 41/200\n",
      "3/3 [==============================] - 0s 20ms/step - loss: 0.0530 - accuracy: 0.9900 - recall: 0.9946 - val_loss: 0.0373 - val_accuracy: 1.0000 - val_recall: 1.0000\n",
      "Epoch 42/200\n",
      "3/3 [==============================] - 0s 24ms/step - loss: 0.0652 - accuracy: 0.9867 - recall: 0.9947 - val_loss: 0.0359 - val_accuracy: 1.0000 - val_recall: 1.0000\n",
      "Epoch 43/200\n",
      "3/3 [==============================] - 0s 15ms/step - loss: 0.0621 - accuracy: 0.9867 - recall: 0.9948 - val_loss: 0.0348 - val_accuracy: 1.0000 - val_recall: 1.0000\n",
      "Epoch 44/200\n",
      "3/3 [==============================] - 0s 21ms/step - loss: 0.0583 - accuracy: 0.9900 - recall: 0.9947 - val_loss: 0.0337 - val_accuracy: 1.0000 - val_recall: 1.0000\n",
      "Epoch 45/200\n",
      "3/3 [==============================] - 0s 20ms/step - loss: 0.0593 - accuracy: 0.9867 - recall: 0.9893 - val_loss: 0.0327 - val_accuracy: 1.0000 - val_recall: 1.0000\n",
      "Epoch 46/200\n",
      "3/3 [==============================] - 0s 25ms/step - loss: 0.0587 - accuracy: 0.9867 - recall: 0.9894 - val_loss: 0.0317 - val_accuracy: 1.0000 - val_recall: 1.0000\n"
     ]
    },
    {
     "name": "stdout",
     "output_type": "stream",
     "text": [
      "Epoch 47/200\n",
      "3/3 [==============================] - 0s 21ms/step - loss: 0.0651 - accuracy: 0.9833 - recall: 0.9895 - val_loss: 0.0307 - val_accuracy: 1.0000 - val_recall: 1.0000\n",
      "Epoch 48/200\n",
      "3/3 [==============================] - 0s 48ms/step - loss: 0.0608 - accuracy: 0.9833 - recall: 0.9897 - val_loss: 0.0298 - val_accuracy: 1.0000 - val_recall: 1.0000\n",
      "Epoch 49/200\n",
      "3/3 [==============================] - 0s 20ms/step - loss: 0.0547 - accuracy: 0.9900 - recall: 0.9949 - val_loss: 0.0290 - val_accuracy: 1.0000 - val_recall: 1.0000\n",
      "Epoch 50/200\n",
      "3/3 [==============================] - 0s 24ms/step - loss: 0.0549 - accuracy: 0.9833 - recall: 0.9898 - val_loss: 0.0282 - val_accuracy: 1.0000 - val_recall: 1.0000\n",
      "Epoch 51/200\n",
      "3/3 [==============================] - 0s 22ms/step - loss: 0.0515 - accuracy: 0.9867 - recall: 0.9946 - val_loss: 0.0276 - val_accuracy: 1.0000 - val_recall: 1.0000\n",
      "Epoch 52/200\n",
      "3/3 [==============================] - 0s 14ms/step - loss: 0.0513 - accuracy: 0.9833 - recall: 0.9895 - val_loss: 0.0271 - val_accuracy: 1.0000 - val_recall: 1.0000\n",
      "Epoch 53/200\n",
      "3/3 [==============================] - 0s 19ms/step - loss: 0.0427 - accuracy: 0.9900 - recall: 0.9947 - val_loss: 0.0265 - val_accuracy: 1.0000 - val_recall: 1.0000\n",
      "Epoch 54/200\n",
      "3/3 [==============================] - 0s 30ms/step - loss: 0.0423 - accuracy: 0.9867 - recall: 0.9894 - val_loss: 0.0259 - val_accuracy: 1.0000 - val_recall: 1.0000\n",
      "Epoch 55/200\n",
      "3/3 [==============================] - 0s 18ms/step - loss: 0.0503 - accuracy: 0.9867 - recall: 0.9895 - val_loss: 0.0253 - val_accuracy: 1.0000 - val_recall: 1.0000\n",
      "Epoch 56/200\n",
      "3/3 [==============================] - 0s 18ms/step - loss: 0.0499 - accuracy: 0.9900 - recall: 0.9947 - val_loss: 0.0247 - val_accuracy: 1.0000 - val_recall: 1.0000\n",
      "Epoch 57/200\n",
      "3/3 [==============================] - 0s 18ms/step - loss: 0.0543 - accuracy: 0.9867 - recall: 0.9946 - val_loss: 0.0241 - val_accuracy: 1.0000 - val_recall: 1.0000\n",
      "Epoch 58/200\n",
      "3/3 [==============================] - 0s 16ms/step - loss: 0.0471 - accuracy: 0.9900 - recall: 0.9948 - val_loss: 0.0236 - val_accuracy: 1.0000 - val_recall: 1.0000\n",
      "Epoch 59/200\n",
      "3/3 [==============================] - 0s 27ms/step - loss: 0.0508 - accuracy: 0.9867 - recall: 0.9945 - val_loss: 0.0231 - val_accuracy: 1.0000 - val_recall: 1.0000\n",
      "Epoch 60/200\n",
      "3/3 [==============================] - 0s 18ms/step - loss: 0.0479 - accuracy: 0.9900 - recall: 0.9947 - val_loss: 0.0228 - val_accuracy: 1.0000 - val_recall: 1.0000\n",
      "Epoch 61/200\n",
      "3/3 [==============================] - 0s 22ms/step - loss: 0.0430 - accuracy: 0.9900 - recall: 0.9947 - val_loss: 0.0224 - val_accuracy: 1.0000 - val_recall: 1.0000\n",
      "Epoch 62/200\n",
      "3/3 [==============================] - 0s 17ms/step - loss: 0.0414 - accuracy: 0.9900 - recall: 0.9948 - val_loss: 0.0220 - val_accuracy: 1.0000 - val_recall: 1.0000\n",
      "Epoch 63/200\n",
      "3/3 [==============================] - 0s 16ms/step - loss: 0.0468 - accuracy: 0.9900 - recall: 0.9947 - val_loss: 0.0217 - val_accuracy: 1.0000 - val_recall: 1.0000\n",
      "Epoch 64/200\n",
      "3/3 [==============================] - 0s 30ms/step - loss: 0.0466 - accuracy: 0.9900 - recall: 1.0000 - val_loss: 0.0213 - val_accuracy: 1.0000 - val_recall: 1.0000\n",
      "Epoch 65/200\n",
      "3/3 [==============================] - 0s 21ms/step - loss: 0.0466 - accuracy: 0.9900 - recall: 1.0000 - val_loss: 0.0211 - val_accuracy: 1.0000 - val_recall: 1.0000\n",
      "Epoch 66/200\n",
      "3/3 [==============================] - 0s 19ms/step - loss: 0.0442 - accuracy: 0.9900 - recall: 1.0000 - val_loss: 0.0208 - val_accuracy: 1.0000 - val_recall: 1.0000\n",
      "Epoch 67/200\n",
      "3/3 [==============================] - 0s 18ms/step - loss: 0.0351 - accuracy: 0.9933 - recall: 1.0000 - val_loss: 0.0205 - val_accuracy: 1.0000 - val_recall: 1.0000\n",
      "Epoch 68/200\n",
      "3/3 [==============================] - 0s 21ms/step - loss: 0.0332 - accuracy: 0.9933 - recall: 1.0000 - val_loss: 0.0201 - val_accuracy: 1.0000 - val_recall: 1.0000\n",
      "Epoch 69/200\n",
      "3/3 [==============================] - 0s 19ms/step - loss: 0.0390 - accuracy: 0.9900 - recall: 1.0000 - val_loss: 0.0198 - val_accuracy: 1.0000 - val_recall: 1.0000\n",
      "Epoch 70/200\n",
      "3/3 [==============================] - 0s 18ms/step - loss: 0.0314 - accuracy: 0.9933 - recall: 1.0000 - val_loss: 0.0195 - val_accuracy: 1.0000 - val_recall: 1.0000\n",
      "Epoch 71/200\n",
      "3/3 [==============================] - 0s 20ms/step - loss: 0.0433 - accuracy: 0.9933 - recall: 1.0000 - val_loss: 0.0192 - val_accuracy: 1.0000 - val_recall: 1.0000\n",
      "Epoch 72/200\n",
      "3/3 [==============================] - 0s 14ms/step - loss: 0.0418 - accuracy: 0.9933 - recall: 1.0000 - val_loss: 0.0190 - val_accuracy: 1.0000 - val_recall: 1.0000\n",
      "Epoch 73/200\n",
      "3/3 [==============================] - 0s 21ms/step - loss: 0.0405 - accuracy: 0.9933 - recall: 1.0000 - val_loss: 0.0188 - val_accuracy: 1.0000 - val_recall: 1.0000\n",
      "Epoch 74/200\n",
      "3/3 [==============================] - 0s 17ms/step - loss: 0.0284 - accuracy: 0.9967 - recall: 1.0000 - val_loss: 0.0185 - val_accuracy: 1.0000 - val_recall: 1.0000\n",
      "Epoch 75/200\n",
      "3/3 [==============================] - 0s 21ms/step - loss: 0.0384 - accuracy: 0.9933 - recall: 1.0000 - val_loss: 0.0182 - val_accuracy: 1.0000 - val_recall: 1.0000\n",
      "Epoch 76/200\n",
      "3/3 [==============================] - 0s 27ms/step - loss: 0.0311 - accuracy: 0.9967 - recall: 1.0000 - val_loss: 0.0180 - val_accuracy: 1.0000 - val_recall: 1.0000\n",
      "Epoch 77/200\n",
      "3/3 [==============================] - 0s 24ms/step - loss: 0.0373 - accuracy: 0.9933 - recall: 1.0000 - val_loss: 0.0178 - val_accuracy: 1.0000 - val_recall: 1.0000\n",
      "Epoch 78/200\n",
      "3/3 [==============================] - 0s 13ms/step - loss: 0.0317 - accuracy: 0.9967 - recall: 1.0000 - val_loss: 0.0176 - val_accuracy: 1.0000 - val_recall: 1.0000\n",
      "Epoch 79/200\n",
      "3/3 [==============================] - 0s 17ms/step - loss: 0.0372 - accuracy: 0.9933 - recall: 1.0000 - val_loss: 0.0174 - val_accuracy: 1.0000 - val_recall: 1.0000\n",
      "Epoch 80/200\n",
      "3/3 [==============================] - 0s 17ms/step - loss: 0.0334 - accuracy: 0.9933 - recall: 1.0000 - val_loss: 0.0173 - val_accuracy: 1.0000 - val_recall: 1.0000\n",
      "Epoch 81/200\n",
      "3/3 [==============================] - 0s 17ms/step - loss: 0.0356 - accuracy: 0.9933 - recall: 1.0000 - val_loss: 0.0172 - val_accuracy: 1.0000 - val_recall: 1.0000\n",
      "Epoch 82/200\n",
      "3/3 [==============================] - 0s 16ms/step - loss: 0.0377 - accuracy: 0.9933 - recall: 1.0000 - val_loss: 0.0171 - val_accuracy: 1.0000 - val_recall: 1.0000\n",
      "Epoch 83/200\n",
      "3/3 [==============================] - 0s 17ms/step - loss: 0.0369 - accuracy: 0.9933 - recall: 1.0000 - val_loss: 0.0171 - val_accuracy: 1.0000 - val_recall: 1.0000\n",
      "Epoch 84/200\n",
      "3/3 [==============================] - 0s 23ms/step - loss: 0.0359 - accuracy: 0.9933 - recall: 1.0000 - val_loss: 0.0170 - val_accuracy: 1.0000 - val_recall: 1.0000\n",
      "Epoch 85/200\n",
      "3/3 [==============================] - 0s 19ms/step - loss: 0.0345 - accuracy: 0.9933 - recall: 1.0000 - val_loss: 0.0169 - val_accuracy: 1.0000 - val_recall: 1.0000\n",
      "Epoch 86/200\n",
      "3/3 [==============================] - 0s 33ms/step - loss: 0.0346 - accuracy: 0.9933 - recall: 1.0000 - val_loss: 0.0168 - val_accuracy: 1.0000 - val_recall: 1.0000\n",
      "Epoch 87/200\n",
      "3/3 [==============================] - 0s 22ms/step - loss: 0.0260 - accuracy: 0.9967 - recall: 1.0000 - val_loss: 0.0166 - val_accuracy: 1.0000 - val_recall: 1.0000\n",
      "Epoch 88/200\n",
      "3/3 [==============================] - 0s 25ms/step - loss: 0.0355 - accuracy: 0.9933 - recall: 1.0000 - val_loss: 0.0165 - val_accuracy: 1.0000 - val_recall: 1.0000\n",
      "Epoch 89/200\n",
      "3/3 [==============================] - 0s 22ms/step - loss: 0.0342 - accuracy: 0.9933 - recall: 1.0000 - val_loss: 0.0165 - val_accuracy: 1.0000 - val_recall: 1.0000\n",
      "Epoch 90/200\n",
      "3/3 [==============================] - 0s 17ms/step - loss: 0.0238 - accuracy: 0.9967 - recall: 1.0000 - val_loss: 0.0163 - val_accuracy: 1.0000 - val_recall: 1.0000\n",
      "Epoch 91/200\n",
      "3/3 [==============================] - 0s 17ms/step - loss: 0.0297 - accuracy: 0.9933 - recall: 1.0000 - val_loss: 0.0162 - val_accuracy: 1.0000 - val_recall: 1.0000\n",
      "Epoch 92/200\n",
      "3/3 [==============================] - 0s 17ms/step - loss: 0.0334 - accuracy: 0.9933 - recall: 1.0000 - val_loss: 0.0160 - val_accuracy: 1.0000 - val_recall: 1.0000\n"
     ]
    },
    {
     "name": "stdout",
     "output_type": "stream",
     "text": [
      "Epoch 93/200\n",
      "3/3 [==============================] - 0s 19ms/step - loss: 0.0320 - accuracy: 0.9933 - recall: 1.0000 - val_loss: 0.0159 - val_accuracy: 1.0000 - val_recall: 1.0000\n",
      "Epoch 94/200\n",
      "3/3 [==============================] - 0s 20ms/step - loss: 0.0313 - accuracy: 0.9933 - recall: 1.0000 - val_loss: 0.0158 - val_accuracy: 1.0000 - val_recall: 1.0000\n",
      "Epoch 95/200\n",
      "3/3 [==============================] - 0s 29ms/step - loss: 0.0310 - accuracy: 0.9933 - recall: 1.0000 - val_loss: 0.0158 - val_accuracy: 1.0000 - val_recall: 1.0000\n",
      "Epoch 96/200\n",
      "3/3 [==============================] - 0s 19ms/step - loss: 0.0282 - accuracy: 0.9933 - recall: 1.0000 - val_loss: 0.0157 - val_accuracy: 1.0000 - val_recall: 1.0000\n",
      "Epoch 97/200\n",
      "3/3 [==============================] - 0s 20ms/step - loss: 0.0303 - accuracy: 0.9933 - recall: 1.0000 - val_loss: 0.0156 - val_accuracy: 1.0000 - val_recall: 1.0000\n",
      "Epoch 98/200\n",
      "3/3 [==============================] - 0s 24ms/step - loss: 0.0296 - accuracy: 0.9933 - recall: 1.0000 - val_loss: 0.0156 - val_accuracy: 1.0000 - val_recall: 1.0000\n",
      "Epoch 99/200\n",
      "3/3 [==============================] - 0s 26ms/step - loss: 0.0285 - accuracy: 0.9933 - recall: 1.0000 - val_loss: 0.0155 - val_accuracy: 1.0000 - val_recall: 1.0000\n",
      "Epoch 100/200\n",
      "3/3 [==============================] - 0s 23ms/step - loss: 0.0280 - accuracy: 0.9933 - recall: 1.0000 - val_loss: 0.0155 - val_accuracy: 1.0000 - val_recall: 1.0000\n",
      "Epoch 101/200\n",
      "3/3 [==============================] - 0s 31ms/step - loss: 0.0267 - accuracy: 0.9933 - recall: 1.0000 - val_loss: 0.0154 - val_accuracy: 1.0000 - val_recall: 1.0000\n",
      "Epoch 102/200\n",
      "3/3 [==============================] - 0s 18ms/step - loss: 0.0259 - accuracy: 0.9933 - recall: 1.0000 - val_loss: 0.0154 - val_accuracy: 1.0000 - val_recall: 1.0000\n",
      "Epoch 103/200\n",
      "3/3 [==============================] - 0s 20ms/step - loss: 0.0241 - accuracy: 0.9933 - recall: 1.0000 - val_loss: 0.0154 - val_accuracy: 1.0000 - val_recall: 1.0000\n",
      "Epoch 104/200\n",
      "3/3 [==============================] - 0s 21ms/step - loss: 0.0222 - accuracy: 0.9967 - recall: 1.0000 - val_loss: 0.0154 - val_accuracy: 1.0000 - val_recall: 1.0000\n",
      "Epoch 105/200\n",
      "3/3 [==============================] - 0s 27ms/step - loss: 0.0249 - accuracy: 0.9933 - recall: 1.0000 - val_loss: 0.0154 - val_accuracy: 1.0000 - val_recall: 1.0000\n",
      "Epoch 106/200\n",
      "3/3 [==============================] - 0s 14ms/step - loss: 0.0258 - accuracy: 0.9933 - recall: 1.0000 - val_loss: 0.0155 - val_accuracy: 1.0000 - val_recall: 1.0000\n",
      "Epoch 107/200\n",
      "3/3 [==============================] - 0s 17ms/step - loss: 0.0171 - accuracy: 0.9967 - recall: 1.0000 - val_loss: 0.0155 - val_accuracy: 1.0000 - val_recall: 1.0000\n",
      "Epoch 108/200\n",
      "3/3 [==============================] - 0s 23ms/step - loss: 0.0207 - accuracy: 0.9967 - recall: 1.0000 - val_loss: 0.0155 - val_accuracy: 1.0000 - val_recall: 1.0000\n",
      "Epoch 109/200\n",
      "3/3 [==============================] - 0s 17ms/step - loss: 0.0222 - accuracy: 0.9933 - recall: 1.0000 - val_loss: 0.0155 - val_accuracy: 1.0000 - val_recall: 1.0000\n",
      "Epoch 110/200\n",
      "3/3 [==============================] - 0s 14ms/step - loss: 0.0231 - accuracy: 0.9933 - recall: 1.0000 - val_loss: 0.0153 - val_accuracy: 1.0000 - val_recall: 1.0000\n",
      "Epoch 111/200\n",
      "3/3 [==============================] - 0s 21ms/step - loss: 0.0139 - accuracy: 1.0000 - recall: 1.0000 - val_loss: 0.0152 - val_accuracy: 1.0000 - val_recall: 1.0000\n",
      "Epoch 112/200\n",
      "3/3 [==============================] - 0s 19ms/step - loss: 0.0179 - accuracy: 0.9967 - recall: 1.0000 - val_loss: 0.0151 - val_accuracy: 1.0000 - val_recall: 1.0000\n",
      "Epoch 113/200\n",
      "3/3 [==============================] - 0s 15ms/step - loss: 0.0225 - accuracy: 0.9933 - recall: 1.0000 - val_loss: 0.0152 - val_accuracy: 1.0000 - val_recall: 1.0000\n",
      "Epoch 114/200\n",
      "3/3 [==============================] - 0s 16ms/step - loss: 0.0217 - accuracy: 0.9933 - recall: 1.0000 - val_loss: 0.0152 - val_accuracy: 1.0000 - val_recall: 1.0000\n",
      "Epoch 115/200\n",
      "3/3 [==============================] - 0s 19ms/step - loss: 0.0232 - accuracy: 0.9933 - recall: 1.0000 - val_loss: 0.0152 - val_accuracy: 1.0000 - val_recall: 1.0000\n",
      "Epoch 116/200\n",
      "3/3 [==============================] - 0s 19ms/step - loss: 0.0145 - accuracy: 0.9967 - recall: 1.0000 - val_loss: 0.0150 - val_accuracy: 1.0000 - val_recall: 1.0000\n",
      "Epoch 117/200\n",
      "3/3 [==============================] - 0s 19ms/step - loss: 0.0207 - accuracy: 0.9933 - recall: 1.0000 - val_loss: 0.0148 - val_accuracy: 1.0000 - val_recall: 1.0000\n",
      "Epoch 118/200\n",
      "3/3 [==============================] - 0s 17ms/step - loss: 0.0217 - accuracy: 0.9933 - recall: 1.0000 - val_loss: 0.0146 - val_accuracy: 1.0000 - val_recall: 1.0000\n",
      "Epoch 119/200\n",
      "3/3 [==============================] - 0s 17ms/step - loss: 0.0203 - accuracy: 0.9933 - recall: 1.0000 - val_loss: 0.0144 - val_accuracy: 1.0000 - val_recall: 1.0000\n",
      "Epoch 120/200\n",
      "3/3 [==============================] - 0s 18ms/step - loss: 0.0205 - accuracy: 0.9933 - recall: 1.0000 - val_loss: 0.0142 - val_accuracy: 1.0000 - val_recall: 1.0000\n",
      "Epoch 121/200\n",
      "3/3 [==============================] - 0s 19ms/step - loss: 0.0199 - accuracy: 0.9933 - recall: 1.0000 - val_loss: 0.0142 - val_accuracy: 1.0000 - val_recall: 1.0000\n",
      "Epoch 122/200\n",
      "3/3 [==============================] - 0s 15ms/step - loss: 0.0163 - accuracy: 0.9967 - recall: 1.0000 - val_loss: 0.0141 - val_accuracy: 1.0000 - val_recall: 1.0000\n",
      "Epoch 123/200\n",
      "3/3 [==============================] - 0s 18ms/step - loss: 0.0196 - accuracy: 0.9933 - recall: 1.0000 - val_loss: 0.0140 - val_accuracy: 1.0000 - val_recall: 1.0000\n",
      "Epoch 124/200\n",
      "3/3 [==============================] - 0s 19ms/step - loss: 0.0149 - accuracy: 0.9967 - recall: 1.0000 - val_loss: 0.0141 - val_accuracy: 1.0000 - val_recall: 1.0000\n",
      "Epoch 125/200\n",
      "3/3 [==============================] - 0s 23ms/step - loss: 0.0196 - accuracy: 0.9933 - recall: 1.0000 - val_loss: 0.0140 - val_accuracy: 1.0000 - val_recall: 1.0000\n",
      "Epoch 126/200\n",
      "3/3 [==============================] - 0s 14ms/step - loss: 0.0162 - accuracy: 0.9967 - recall: 1.0000 - val_loss: 0.0140 - val_accuracy: 1.0000 - val_recall: 1.0000\n",
      "Epoch 127/200\n",
      "3/3 [==============================] - 0s 30ms/step - loss: 0.0193 - accuracy: 0.9933 - recall: 1.0000 - val_loss: 0.0141 - val_accuracy: 0.9890 - val_recall: 1.0000\n",
      "Epoch 128/200\n",
      "3/3 [==============================] - 0s 22ms/step - loss: 0.0146 - accuracy: 0.9967 - recall: 1.0000 - val_loss: 0.0141 - val_accuracy: 0.9890 - val_recall: 1.0000\n",
      "Epoch 129/200\n",
      "3/3 [==============================] - 0s 16ms/step - loss: 0.0195 - accuracy: 0.9933 - recall: 1.0000 - val_loss: 0.0142 - val_accuracy: 0.9890 - val_recall: 1.0000\n",
      "Epoch 130/200\n",
      "3/3 [==============================] - 0s 16ms/step - loss: 0.0179 - accuracy: 0.9933 - recall: 1.0000 - val_loss: 0.0142 - val_accuracy: 0.9890 - val_recall: 1.0000\n",
      "Epoch 131/200\n",
      "3/3 [==============================] - 0s 19ms/step - loss: 0.0177 - accuracy: 0.9933 - recall: 1.0000 - val_loss: 0.0141 - val_accuracy: 0.9890 - val_recall: 1.0000\n",
      "Epoch 132/200\n",
      "3/3 [==============================] - 0s 19ms/step - loss: 0.0186 - accuracy: 0.9933 - recall: 1.0000 - val_loss: 0.0141 - val_accuracy: 0.9890 - val_recall: 1.0000\n",
      "Epoch 133/200\n",
      "3/3 [==============================] - 0s 23ms/step - loss: 0.0159 - accuracy: 0.9933 - recall: 1.0000 - val_loss: 0.0139 - val_accuracy: 0.9890 - val_recall: 1.0000\n",
      "Epoch 134/200\n",
      "3/3 [==============================] - 0s 15ms/step - loss: 0.0187 - accuracy: 0.9933 - recall: 1.0000 - val_loss: 0.0139 - val_accuracy: 0.9890 - val_recall: 1.0000\n",
      "Epoch 135/200\n",
      "3/3 [==============================] - 0s 19ms/step - loss: 0.0165 - accuracy: 0.9933 - recall: 1.0000 - val_loss: 0.0138 - val_accuracy: 0.9890 - val_recall: 1.0000\n",
      "Epoch 136/200\n",
      "3/3 [==============================] - 0s 19ms/step - loss: 0.0165 - accuracy: 0.9933 - recall: 1.0000 - val_loss: 0.0137 - val_accuracy: 0.9890 - val_recall: 1.0000\n",
      "Epoch 137/200\n",
      "3/3 [==============================] - 0s 20ms/step - loss: 0.0173 - accuracy: 0.9933 - recall: 1.0000 - val_loss: 0.0135 - val_accuracy: 0.9890 - val_recall: 1.0000\n",
      "Epoch 138/200\n"
     ]
    },
    {
     "name": "stdout",
     "output_type": "stream",
     "text": [
      "3/3 [==============================] - 0s 21ms/step - loss: 0.0174 - accuracy: 0.9933 - recall: 1.0000 - val_loss: 0.0135 - val_accuracy: 0.9890 - val_recall: 1.0000\n",
      "Epoch 139/200\n",
      "3/3 [==============================] - 0s 15ms/step - loss: 0.0121 - accuracy: 0.9967 - recall: 1.0000 - val_loss: 0.0135 - val_accuracy: 0.9890 - val_recall: 1.0000\n",
      "Epoch 140/200\n",
      "3/3 [==============================] - 0s 12ms/step - loss: 0.0159 - accuracy: 0.9933 - recall: 1.0000 - val_loss: 0.0134 - val_accuracy: 0.9890 - val_recall: 1.0000\n",
      "Epoch 141/200\n",
      "3/3 [==============================] - 0s 14ms/step - loss: 0.0142 - accuracy: 0.9933 - recall: 1.0000 - val_loss: 0.0134 - val_accuracy: 0.9890 - val_recall: 1.0000\n",
      "Epoch 142/200\n",
      "3/3 [==============================] - 0s 23ms/step - loss: 0.0163 - accuracy: 0.9933 - recall: 1.0000 - val_loss: 0.0134 - val_accuracy: 0.9890 - val_recall: 1.0000\n",
      "Epoch 143/200\n",
      "3/3 [==============================] - 0s 20ms/step - loss: 0.0148 - accuracy: 0.9933 - recall: 1.0000 - val_loss: 0.0134 - val_accuracy: 0.9890 - val_recall: 1.0000\n",
      "Epoch 144/200\n",
      "3/3 [==============================] - 0s 17ms/step - loss: 0.0149 - accuracy: 0.9933 - recall: 1.0000 - val_loss: 0.0134 - val_accuracy: 0.9890 - val_recall: 1.0000\n",
      "Epoch 145/200\n",
      "3/3 [==============================] - 0s 20ms/step - loss: 0.0151 - accuracy: 0.9933 - recall: 1.0000 - val_loss: 0.0134 - val_accuracy: 0.9890 - val_recall: 1.0000\n",
      "Epoch 146/200\n",
      "3/3 [==============================] - 0s 18ms/step - loss: 0.0155 - accuracy: 0.9933 - recall: 1.0000 - val_loss: 0.0134 - val_accuracy: 0.9890 - val_recall: 1.0000\n",
      "Epoch 147/200\n",
      "3/3 [==============================] - 0s 14ms/step - loss: 0.0145 - accuracy: 0.9933 - recall: 1.0000 - val_loss: 0.0133 - val_accuracy: 0.9890 - val_recall: 1.0000\n",
      "Epoch 148/200\n",
      "3/3 [==============================] - 0s 21ms/step - loss: 0.0146 - accuracy: 0.9933 - recall: 1.0000 - val_loss: 0.0133 - val_accuracy: 0.9890 - val_recall: 1.0000\n",
      "Epoch 149/200\n",
      "3/3 [==============================] - 0s 27ms/step - loss: 0.0140 - accuracy: 0.9933 - recall: 1.0000 - val_loss: 0.0133 - val_accuracy: 0.9890 - val_recall: 1.0000\n",
      "Epoch 150/200\n",
      "3/3 [==============================] - 0s 30ms/step - loss: 0.0145 - accuracy: 0.9933 - recall: 1.0000 - val_loss: 0.0133 - val_accuracy: 0.9890 - val_recall: 1.0000\n",
      "Epoch 151/200\n",
      "3/3 [==============================] - 0s 18ms/step - loss: 0.0121 - accuracy: 0.9967 - recall: 1.0000 - val_loss: 0.0133 - val_accuracy: 0.9890 - val_recall: 1.0000\n",
      "Epoch 152/200\n",
      "3/3 [==============================] - 0s 19ms/step - loss: 0.0133 - accuracy: 0.9933 - recall: 1.0000 - val_loss: 0.0133 - val_accuracy: 0.9890 - val_recall: 1.0000\n",
      "Epoch 153/200\n",
      "3/3 [==============================] - 0s 17ms/step - loss: 0.0119 - accuracy: 0.9967 - recall: 1.0000 - val_loss: 0.0133 - val_accuracy: 0.9890 - val_recall: 1.0000\n",
      "Epoch 154/200\n",
      "3/3 [==============================] - 0s 18ms/step - loss: 0.0098 - accuracy: 0.9967 - recall: 1.0000 - val_loss: 0.0134 - val_accuracy: 0.9890 - val_recall: 1.0000\n",
      "Epoch 155/200\n",
      "3/3 [==============================] - 0s 17ms/step - loss: 0.0134 - accuracy: 0.9933 - recall: 1.0000 - val_loss: 0.0134 - val_accuracy: 0.9890 - val_recall: 1.0000\n",
      "Epoch 156/200\n",
      "3/3 [==============================] - 0s 19ms/step - loss: 0.0138 - accuracy: 0.9933 - recall: 1.0000 - val_loss: 0.0134 - val_accuracy: 0.9890 - val_recall: 1.0000\n",
      "Epoch 157/200\n",
      "3/3 [==============================] - 0s 16ms/step - loss: 0.0123 - accuracy: 0.9933 - recall: 1.0000 - val_loss: 0.0133 - val_accuracy: 0.9890 - val_recall: 1.0000\n",
      "Epoch 158/200\n",
      "3/3 [==============================] - 0s 17ms/step - loss: 0.0067 - accuracy: 1.0000 - recall: 1.0000 - val_loss: 0.0134 - val_accuracy: 0.9890 - val_recall: 1.0000\n",
      "Epoch 159/200\n",
      "3/3 [==============================] - 0s 24ms/step - loss: 0.0128 - accuracy: 0.9933 - recall: 1.0000 - val_loss: 0.0134 - val_accuracy: 0.9890 - val_recall: 1.0000\n",
      "Epoch 160/200\n",
      "3/3 [==============================] - 0s 17ms/step - loss: 0.0123 - accuracy: 0.9933 - recall: 1.0000 - val_loss: 0.0135 - val_accuracy: 0.9890 - val_recall: 1.0000\n",
      "Epoch 161/200\n",
      "3/3 [==============================] - 0s 17ms/step - loss: 0.0124 - accuracy: 0.9933 - recall: 1.0000 - val_loss: 0.0136 - val_accuracy: 0.9890 - val_recall: 1.0000\n",
      "Epoch 162/200\n",
      "3/3 [==============================] - 0s 15ms/step - loss: 0.0122 - accuracy: 0.9933 - recall: 1.0000 - val_loss: 0.0136 - val_accuracy: 0.9890 - val_recall: 1.0000\n",
      "Epoch 163/200\n",
      "3/3 [==============================] - 0s 18ms/step - loss: 0.0120 - accuracy: 0.9933 - recall: 1.0000 - val_loss: 0.0136 - val_accuracy: 0.9890 - val_recall: 1.0000\n",
      "Epoch 164/200\n",
      "3/3 [==============================] - 0s 17ms/step - loss: 0.0116 - accuracy: 0.9933 - recall: 1.0000 - val_loss: 0.0137 - val_accuracy: 0.9890 - val_recall: 1.0000\n",
      "Epoch 165/200\n",
      "3/3 [==============================] - 0s 23ms/step - loss: 0.0126 - accuracy: 0.9933 - recall: 1.0000 - val_loss: 0.0138 - val_accuracy: 0.9890 - val_recall: 1.0000\n",
      "Epoch 166/200\n",
      "3/3 [==============================] - 0s 20ms/step - loss: 0.0123 - accuracy: 0.9933 - recall: 1.0000 - val_loss: 0.0139 - val_accuracy: 0.9890 - val_recall: 1.0000\n",
      "Epoch 167/200\n",
      "3/3 [==============================] - 0s 13ms/step - loss: 0.0101 - accuracy: 0.9967 - recall: 1.0000 - val_loss: 0.0140 - val_accuracy: 0.9890 - val_recall: 1.0000\n",
      "Epoch 168/200\n",
      "3/3 [==============================] - 0s 17ms/step - loss: 0.0112 - accuracy: 0.9933 - recall: 1.0000 - val_loss: 0.0140 - val_accuracy: 0.9890 - val_recall: 1.0000\n",
      "Epoch 169/200\n",
      "3/3 [==============================] - 0s 18ms/step - loss: 0.0089 - accuracy: 0.9967 - recall: 1.0000 - val_loss: 0.0140 - val_accuracy: 0.9890 - val_recall: 1.0000\n",
      "Epoch 170/200\n",
      "3/3 [==============================] - 0s 14ms/step - loss: 0.0117 - accuracy: 0.9933 - recall: 1.0000 - val_loss: 0.0140 - val_accuracy: 0.9890 - val_recall: 1.0000\n",
      "Epoch 171/200\n",
      "3/3 [==============================] - 0s 23ms/step - loss: 0.0080 - accuracy: 1.0000 - recall: 1.0000 - val_loss: 0.0140 - val_accuracy: 0.9890 - val_recall: 1.0000\n",
      "Epoch 172/200\n",
      "3/3 [==============================] - 0s 19ms/step - loss: 0.0091 - accuracy: 0.9967 - recall: 1.0000 - val_loss: 0.0140 - val_accuracy: 0.9890 - val_recall: 1.0000\n",
      "Epoch 173/200\n",
      "3/3 [==============================] - 0s 17ms/step - loss: 0.0089 - accuracy: 0.9967 - recall: 1.0000 - val_loss: 0.0141 - val_accuracy: 0.9890 - val_recall: 1.0000\n",
      "Epoch 174/200\n",
      "3/3 [==============================] - 0s 19ms/step - loss: 0.0103 - accuracy: 0.9967 - recall: 1.0000 - val_loss: 0.0141 - val_accuracy: 0.9890 - val_recall: 1.0000\n",
      "Epoch 175/200\n",
      "3/3 [==============================] - 0s 17ms/step - loss: 0.0109 - accuracy: 0.9967 - recall: 1.0000 - val_loss: 0.0141 - val_accuracy: 0.9890 - val_recall: 1.0000\n",
      "Epoch 176/200\n",
      "3/3 [==============================] - 0s 16ms/step - loss: 0.0110 - accuracy: 0.9967 - recall: 1.0000 - val_loss: 0.0141 - val_accuracy: 0.9890 - val_recall: 1.0000\n",
      "Epoch 177/200\n",
      "3/3 [==============================] - 0s 17ms/step - loss: 0.0072 - accuracy: 1.0000 - recall: 1.0000 - val_loss: 0.0141 - val_accuracy: 0.9890 - val_recall: 1.0000\n",
      "Epoch 178/200\n",
      "3/3 [==============================] - 0s 18ms/step - loss: 0.0072 - accuracy: 1.0000 - recall: 1.0000 - val_loss: 0.0141 - val_accuracy: 0.9890 - val_recall: 1.0000\n",
      "Epoch 179/200\n",
      "3/3 [==============================] - 0s 11ms/step - loss: 0.0107 - accuracy: 0.9967 - recall: 1.0000 - val_loss: 0.0141 - val_accuracy: 0.9890 - val_recall: 1.0000\n",
      "Epoch 180/200\n",
      "3/3 [==============================] - 0s 24ms/step - loss: 0.0095 - accuracy: 0.9967 - recall: 1.0000 - val_loss: 0.0141 - val_accuracy: 0.9890 - val_recall: 1.0000\n",
      "Epoch 181/200\n",
      "3/3 [==============================] - 0s 15ms/step - loss: 0.0106 - accuracy: 0.9967 - recall: 1.0000 - val_loss: 0.0141 - val_accuracy: 0.9890 - val_recall: 1.0000\n",
      "Epoch 182/200\n",
      "3/3 [==============================] - 0s 19ms/step - loss: 0.0080 - accuracy: 0.9967 - recall: 1.0000 - val_loss: 0.0142 - val_accuracy: 0.9890 - val_recall: 1.0000\n",
      "Epoch 183/200\n"
     ]
    },
    {
     "name": "stdout",
     "output_type": "stream",
     "text": [
      "3/3 [==============================] - 0s 18ms/step - loss: 0.0093 - accuracy: 0.9967 - recall: 1.0000 - val_loss: 0.0142 - val_accuracy: 0.9890 - val_recall: 1.0000\n",
      "Epoch 184/200\n",
      "3/3 [==============================] - 0s 30ms/step - loss: 0.0074 - accuracy: 0.9967 - recall: 1.0000 - val_loss: 0.0142 - val_accuracy: 0.9890 - val_recall: 1.0000\n",
      "Epoch 185/200\n",
      "3/3 [==============================] - 0s 11ms/step - loss: 0.0099 - accuracy: 0.9967 - recall: 1.0000 - val_loss: 0.0143 - val_accuracy: 0.9890 - val_recall: 1.0000\n",
      "Epoch 186/200\n",
      "3/3 [==============================] - 0s 18ms/step - loss: 0.0093 - accuracy: 0.9967 - recall: 1.0000 - val_loss: 0.0142 - val_accuracy: 0.9890 - val_recall: 1.0000\n",
      "Epoch 187/200\n",
      "3/3 [==============================] - 0s 15ms/step - loss: 0.0061 - accuracy: 1.0000 - recall: 1.0000 - val_loss: 0.0142 - val_accuracy: 0.9890 - val_recall: 1.0000\n",
      "Epoch 188/200\n",
      "3/3 [==============================] - 0s 19ms/step - loss: 0.0089 - accuracy: 0.9967 - recall: 1.0000 - val_loss: 0.0142 - val_accuracy: 0.9890 - val_recall: 1.0000\n",
      "Epoch 189/200\n",
      "3/3 [==============================] - 0s 19ms/step - loss: 0.0092 - accuracy: 0.9967 - recall: 1.0000 - val_loss: 0.0142 - val_accuracy: 0.9890 - val_recall: 1.0000\n",
      "Epoch 190/200\n",
      "3/3 [==============================] - 0s 19ms/step - loss: 0.0088 - accuracy: 0.9967 - recall: 1.0000 - val_loss: 0.0141 - val_accuracy: 0.9890 - val_recall: 1.0000\n",
      "Epoch 191/200\n",
      "3/3 [==============================] - 0s 16ms/step - loss: 0.0090 - accuracy: 0.9967 - recall: 1.0000 - val_loss: 0.0141 - val_accuracy: 0.9890 - val_recall: 1.0000\n",
      "Epoch 192/200\n",
      "3/3 [==============================] - 0s 18ms/step - loss: 0.0086 - accuracy: 0.9967 - recall: 1.0000 - val_loss: 0.0140 - val_accuracy: 0.9890 - val_recall: 1.0000\n",
      "Epoch 193/200\n",
      "3/3 [==============================] - 0s 17ms/step - loss: 0.0060 - accuracy: 1.0000 - recall: 1.0000 - val_loss: 0.0140 - val_accuracy: 0.9890 - val_recall: 1.0000\n",
      "Epoch 194/200\n",
      "3/3 [==============================] - 0s 21ms/step - loss: 0.0085 - accuracy: 0.9967 - recall: 1.0000 - val_loss: 0.0140 - val_accuracy: 0.9890 - val_recall: 1.0000\n",
      "Epoch 195/200\n",
      "3/3 [==============================] - 0s 19ms/step - loss: 0.0056 - accuracy: 1.0000 - recall: 1.0000 - val_loss: 0.0140 - val_accuracy: 0.9890 - val_recall: 1.0000\n",
      "Epoch 196/200\n",
      "3/3 [==============================] - 0s 21ms/step - loss: 0.0051 - accuracy: 1.0000 - recall: 1.0000 - val_loss: 0.0140 - val_accuracy: 0.9890 - val_recall: 1.0000\n",
      "Epoch 197/200\n",
      "3/3 [==============================] - 0s 19ms/step - loss: 0.0031 - accuracy: 1.0000 - recall: 1.0000 - val_loss: 0.0141 - val_accuracy: 0.9890 - val_recall: 1.0000\n",
      "Epoch 198/200\n",
      "3/3 [==============================] - 0s 18ms/step - loss: 0.0082 - accuracy: 0.9967 - recall: 1.0000 - val_loss: 0.0143 - val_accuracy: 0.9890 - val_recall: 1.0000\n",
      "Epoch 199/200\n",
      "3/3 [==============================] - 0s 20ms/step - loss: 0.0087 - accuracy: 0.9967 - recall: 1.0000 - val_loss: 0.0144 - val_accuracy: 0.9890 - val_recall: 1.0000\n",
      "Epoch 200/200\n",
      "3/3 [==============================] - 0s 24ms/step - loss: 0.0030 - accuracy: 1.0000 - recall: 1.0000 - val_loss: 0.0145 - val_accuracy: 0.9890 - val_recall: 1.0000\n"
     ]
    }
   ],
   "source": [
    "hist = model_cancer.fit(train_dataset, epochs=N_EPOCH, validation_data=val_dataset)"
   ]
  },
  {
   "cell_type": "markdown",
   "metadata": {
    "slideshow": {
     "slide_type": "fragment"
    }
   },
   "source": [
    "#### 결과 시각화"
   ]
  },
  {
   "cell_type": "code",
   "execution_count": 126,
   "metadata": {
    "ExecuteTime": {
     "end_time": "2023-02-21T05:26:58.492795Z",
     "start_time": "2023-02-21T05:26:57.972839Z"
    }
   },
   "outputs": [
    {
     "data": {
      "image/png": "[encoded data removed]",
      "text/plain": [
       "<Figure size 1000x500 with 2 Axes>"
      ]
     },
     "metadata": {},
     "output_type": "display_data"
    }
   ],
   "source": [
    "plt.figure(figsize=(10, 5))\n",
    "plt.subplot(1, 2, 1)\n",
    "plt.plot(hist.epoch, hist.history['loss'], label=\"train\")\n",
    "plt.plot(hist.epoch, hist.history['val_loss'], label='validation')\n",
    "plt.title('Loss')\n",
    "plt.ylim(0, 0.1)\n",
    "plt.xlabel('에폭수')\n",
    "plt.ylabel('loss')\n",
    "plt.legend()\n",
    "\n",
    "plt.subplot(1, 2, 2)\n",
    "plt.plot(hist.epoch, hist.history['accuracy'], label='train')\n",
    "plt.plot(hist.epoch, hist.history['val_accuracy'], label='validation')\n",
    "plt.title('Accuracy')\n",
    "plt.xlabel('에폭수')\n",
    "plt.ylabel('accuracy')\n",
    "plt.legend()\n",
    "\n",
    "plt.tight_layout()\n",
    "plt.show()"
   ]
  },
  {
   "cell_type": "markdown",
   "metadata": {
    "slideshow": {
     "slide_type": "slide"
    }
   },
   "source": [
    "#### 최종평가"
   ]
  },
  {
   "cell_type": "code",
   "execution_count": 128,
   "metadata": {
    "ExecuteTime": {
     "end_time": "2023-02-21T05:30:21.011083Z",
     "start_time": "2023-02-21T05:30:20.965228Z"
    }
   },
   "outputs": [
    {
     "name": "stdout",
     "output_type": "stream",
     "text": [
      "3/3 [==============================] - 0s 3ms/step - loss: 0.1495 - accuracy: 0.9649 - recall: 0.9861\n",
      "0.14952515065670013 0.9649122953414917 0.9861111044883728\n"
     ]
    }
   ],
   "source": [
    "loss, acc, recall = model_cancer.evaluate(test_dataset)\n",
    "print(loss, acc, recall)"
   ]
  },
  {
   "cell_type": "markdown",
   "metadata": {
    "slideshow": {
     "slide_type": "fragment"
    }
   },
   "source": [
    "#### 모델저장"
   ]
  },
  {
   "cell_type": "code",
   "execution_count": 129,
   "metadata": {
    "ExecuteTime": {
     "end_time": "2023-02-21T05:31:40.080348Z",
     "start_time": "2023-02-21T05:31:40.061096Z"
    }
   },
   "outputs": [],
   "source": [
    "save_dir_path = 'saved_model/cancer_model'"
   ]
  },
  {
   "cell_type": "code",
   "execution_count": 130,
   "metadata": {
    "ExecuteTime": {
     "end_time": "2023-02-21T05:31:55.933706Z",
     "start_time": "2023-02-21T05:31:55.246175Z"
    }
   },
   "outputs": [
    {
     "name": "stderr",
     "output_type": "stream",
     "text": [
      "WARNING:absl:Found untraced functions such as _update_step_xla while saving (showing 1 of 1). These functions will not be directly callable after loading.\n"
     ]
    },
    {
     "name": "stdout",
     "output_type": "stream",
     "text": [
      "INFO:tensorflow:Assets written to: saved_model/cancer_model\\assets\n"
     ]
    },
    {
     "name": "stderr",
     "output_type": "stream",
     "text": [
      "INFO:tensorflow:Assets written to: saved_model/cancer_model\\assets\n"
     ]
    }
   ],
   "source": [
    "model_cancer.save(save_dir_path)"
   ]
  },
  {
   "cell_type": "markdown",
   "metadata": {
    "slideshow": {
     "slide_type": "slide"
    }
   },
   "source": [
    "#### 새로운 데이터 추론"
   ]
  },
  {
   "cell_type": "code",
   "execution_count": 131,
   "metadata": {
    "ExecuteTime": {
     "end_time": "2023-02-21T05:33:17.488342Z",
     "start_time": "2023-02-21T05:33:17.157817Z"
    }
   },
   "outputs": [
    {
     "name": "stdout",
     "output_type": "stream",
     "text": [
      "3/3 [==============================] - 0s 4ms/step - loss: 0.6476 - accuracy: 0.6316 - recall_1: 1.0000\n"
     ]
    },
    {
     "data": {
      "text/plain": [
       "[0.647607684135437, 0.6315789222717285, 1.0]"
      ]
     },
     "execution_count": 131,
     "metadata": {},
     "output_type": "execute_result"
    }
   ],
   "source": [
    "saved_model = get_model_cancer(LEARNING_RATE)\n",
    "saved_model.evaluate(test_dataset)"
   ]
  },
  {
   "cell_type": "code",
   "execution_count": 135,
   "metadata": {
    "ExecuteTime": {
     "end_time": "2023-02-21T05:35:54.872777Z",
     "start_time": "2023-02-21T05:35:54.390199Z"
    }
   },
   "outputs": [
    {
     "name": "stdout",
     "output_type": "stream",
     "text": [
      "3/3 [==============================] - 0s 3ms/step - loss: 0.1495 - accuracy: 0.9649 - recall: 0.9861\n"
     ]
    },
    {
     "data": {
      "text/plain": [
       "[0.14952515065670013, 0.9649122953414917, 0.9861111044883728]"
      ]
     },
     "execution_count": 135,
     "metadata": {},
     "output_type": "execute_result"
    }
   ],
   "source": [
    "saved_model = models.load_model(save_dir_path)\n",
    "saved_model.evaluate(test_dataset)"
   ]
  },
  {
   "cell_type": "code",
   "execution_count": 136,
   "metadata": {
    "ExecuteTime": {
     "end_time": "2023-02-21T05:37:11.508752Z",
     "start_time": "2023-02-21T05:37:11.365190Z"
    }
   },
   "outputs": [
    {
     "name": "stdout",
     "output_type": "stream",
     "text": [
      "1/1 [==============================] - 0s 67ms/step\n"
     ]
    },
    {
     "data": {
      "text/plain": [
       "(10, 1)"
      ]
     },
     "execution_count": 136,
     "metadata": {},
     "output_type": "execute_result"
    }
   ],
   "source": [
    "new_X = X_test_scaled[:10]\n",
    "pred = saved_model.predict(new_X)\n",
    "pred.shape"
   ]
  },
  {
   "cell_type": "code",
   "execution_count": 138,
   "metadata": {
    "ExecuteTime": {
     "end_time": "2023-02-21T05:37:49.313930Z",
     "start_time": "2023-02-21T05:37:49.292088Z"
    },
    "collapsed": true
   },
   "outputs": [
    {
     "name": "stdout",
     "output_type": "stream",
     "text": [
      "[[2.7873166e-04]\n",
      " [2.7264950e-16]\n",
      " [2.8394373e-07]\n",
      " [9.9997908e-01]\n",
      " [2.0943791e-05]\n",
      " [9.9809438e-01]\n",
      " [6.7332920e-05]\n",
      " [9.9990022e-01]\n",
      " [9.9999464e-01]\n",
      " [1.4204730e-12]]\n",
      "[[0.   ]\n",
      " [0.   ]\n",
      " [0.   ]\n",
      " [1.   ]\n",
      " [0.   ]\n",
      " [0.998]\n",
      " [0.   ]\n",
      " [1.   ]\n",
      " [1.   ]\n",
      " [0.   ]]\n"
     ]
    }
   ],
   "source": [
    "print(pred)\n",
    "print(np.round(pred, 3))"
   ]
  },
  {
   "cell_type": "markdown",
   "metadata": {},
   "source": [
    "##### 모델출력결과 후처리"
   ]
  },
  {
   "cell_type": "code",
   "execution_count": 140,
   "metadata": {
    "ExecuteTime": {
     "end_time": "2023-02-21T05:40:25.456431Z",
     "start_time": "2023-02-21T05:40:25.444100Z"
    }
   },
   "outputs": [
    {
     "data": {
      "text/plain": [
       "array([['악성종양 - 0'],\n",
       "       ['악성종양 - 0'],\n",
       "       ['악성종양 - 0'],\n",
       "       ['양성종양 - 1'],\n",
       "       ['악성종양 - 0'],\n",
       "       ['양성종양 - 1'],\n",
       "       ['악성종양 - 0'],\n",
       "       ['양성종양 - 1'],\n",
       "       ['양성종양 - 1'],\n",
       "       ['악성종양 - 0']], dtype='<U8')"
      ]
     },
     "execution_count": 140,
     "metadata": {},
     "output_type": "execute_result"
    }
   ],
   "source": [
    "np.where(pred >= 0.5, '양성종양 - 1', '악성종양 - 0')"
   ]
  },
  {
   "cell_type": "code",
   "execution_count": 141,
   "metadata": {
    "ExecuteTime": {
     "end_time": "2023-02-21T05:40:33.530253Z",
     "start_time": "2023-02-21T05:40:33.517625Z"
    }
   },
   "outputs": [
    {
     "data": {
      "text/plain": [
       "array([0, 0, 0, 1, 0, 1, 0, 1, 1, 0])"
      ]
     },
     "execution_count": 141,
     "metadata": {},
     "output_type": "execute_result"
    }
   ],
   "source": [
    "y_test[:10]"
   ]
  },
  {
   "cell_type": "code",
   "execution_count": null,
   "metadata": {},
   "outputs": [],
   "source": []
  },
  {
   "cell_type": "code",
   "execution_count": null,
   "metadata": {},
   "outputs": [],
   "source": []
  },
  {
   "cell_type": "code",
   "execution_count": null,
   "metadata": {},
   "outputs": [],
   "source": []
  },
  {
   "cell_type": "code",
   "execution_count": null,
   "metadata": {},
   "outputs": [],
   "source": []
  }
 ],
 "metadata": {
  "kernelspec": {
   "display_name": "Python 3 (ipykernel)",
   "language": "python",
   "name": "python3"
  },
  "language_info": {
   "codemirror_mode": {
    "name": "ipython",
    "version": 3
   },
   "file_extension": ".py",
   "mimetype": "text/x-python",
   "name": "python",
   "nbconvert_exporter": "python",
   "pygments_lexer": "ipython3",
   "version": "3.9.16"
  },
  "toc": {
   "base_numbering": 1,
   "nav_menu": {},
   "number_sections": false,
   "sideBar": true,
   "skip_h1_title": false,
   "title_cell": "Table of Contents",
   "title_sidebar": "Contents",
   "toc_cell": false,
   "toc_position": {},
   "toc_section_display": true,
   "toc_window_display": false
  },
  "varInspector": {
   "cols": {
    "lenName": 16,
    "lenType": 16,
    "lenVar": 40
   },
   "kernels_config": {
    "python": {
     "delete_cmd_postfix": "",
     "delete_cmd_prefix": "del ",
     "library": "var_list.py",
     "varRefreshCmd": "print(var_dic_list())"
    },
    "r": {
     "delete_cmd_postfix": ") ",
     "delete_cmd_prefix": "rm(",
     "library": "var_list.r",
     "varRefreshCmd": "cat(var_dic_list()) "
    }
   },
   "types_to_exclude": [
    "module",
    "function",
    "builtin_function_or_method",
    "instance",
    "_Feature"
   ],
   "window_display": false
  }
 },
 "nbformat": 4,
 "nbformat_minor": 2
}
