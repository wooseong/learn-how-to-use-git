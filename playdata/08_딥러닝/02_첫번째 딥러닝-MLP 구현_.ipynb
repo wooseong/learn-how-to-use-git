{
 "cells": [
  {
   "cell_type": "markdown",
   "metadata": {
    "slideshow": {
     "slide_type": "slide"
    }
   },
   "source": [
    "# Keras 개발 Process"
   ]
  },
  {
   "cell_type": "markdown",
   "metadata": {
    "slideshow": {
     "slide_type": "fragment"
    }
   },
   "source": [
    "1. 입력 텐서(X)와 출력 텐서(y)로 이뤄진 **훈련 데이터를 정의**"
   ]
  },
  {
   "cell_type": "markdown",
   "metadata": {
    "slideshow": {
     "slide_type": "fragment"
    }
   },
   "source": [
    "2. 입력과 출력을 연결하는 Layer(층)으로 이뤄진 **네트워크(모델)을 정의**\n",
    "    - Sequential 방식: 순서대로 쌓아올린 네트워크로 이뤄진 모델을 생성하는 방식\n",
    "    - Functional API 방식: 다양한 구조의 네트워크로 이뤄진 모델을 생성하는 방식\n",
    "    - Subclass 방식: 네트워크를 정의하는 클래스를 구현.\n",
    "    "
   ]
  },
  {
   "cell_type": "markdown",
   "metadata": {
    "slideshow": {
     "slide_type": "fragment"
    }
   },
   "source": [
    "3. **모델 Compile(컴파일)**\n",
    "    - 모델이 Train(학습)할때 사용할 손실함수(Loss Function), 최적화기법(Optimizer), 학습과정을 모니터링할 평가지표(Metrics)를 설정\n",
    "    \n",
    "    > Compile: 실행할 수 있는 상태로 만들어 주는 것."
   ]
  },
  {
   "cell_type": "markdown",
   "metadata": {
    "slideshow": {
     "slide_type": "fragment"
    }
   },
   "source": [
    "4. **Training(학습/훈련)**\n",
    "    - Train dataset을 이용해 모델을 Train 시킨다."
   ]
  },
  {
   "cell_type": "markdown",
   "metadata": {
    "slideshow": {
     "slide_type": "slide"
    }
   },
   "source": [
    "# MNIST 이미지 분류 \n",
    "- ### [MNIST](https://ko.wikipedia.org/wiki/MNIST_%EB%8D%B0%EC%9D%B4%ED%84%B0%EB%B2%A0%EC%9D%B4%EC%8A%A4)(Modified National Institute of Standards and Technology) database\n",
    "- 흑백 손글씨 숫자 0-9까지 10개의 범주로 구분해놓은 데이터셋\n",
    "- 하나의 이미지는 28 * 28 pixel 의 크기\n",
    "- 6만개의 Train 이미지와 1만개의 Test 이미지로 구성됨."
   ]
  },
  {
   "cell_type": "markdown",
   "metadata": {},
   "source": [
    "##### import"
   ]
  },
  {
   "cell_type": "code",
   "execution_count": 1,
   "metadata": {
    "ExecuteTime": {
     "end_time": "2023-02-17T00:55:45.740317Z",
     "start_time": "2023-02-17T00:55:42.124956Z"
    }
   },
   "outputs": [
    {
     "name": "stdout",
     "output_type": "stream",
     "text": [
      "2.11.0\n"
     ]
    }
   ],
   "source": [
    "import random\n",
    "import numpy as np\n",
    "import tensorflow as tf\n",
    "from tensorflow import keras\n",
    "\n",
    "print(tf.__version__)\n",
    " # seed값 설정\n",
    "np.random.seed(0)\n",
    "tf.random.set_seed(0)\n",
    "random.seed(0)"
   ]
  },
  {
   "cell_type": "markdown",
   "metadata": {
    "ExecuteTime": {
     "end_time": "2021-08-30T05:02:52.852140Z",
     "start_time": "2021-08-30T05:02:52.563117Z"
    },
    "slideshow": {
     "slide_type": "slide"
    }
   },
   "source": [
    "##### MNIST dataset Loading"
   ]
  },
  {
   "cell_type": "code",
   "execution_count": 2,
   "metadata": {
    "ExecuteTime": {
     "end_time": "2023-02-17T00:55:47.759942Z",
     "start_time": "2023-02-17T00:55:47.517288Z"
    }
   },
   "outputs": [],
   "source": [
    "(train_image, train_label), (test_image, test_label) = keras.datasets.mnist.load_data()"
   ]
  },
  {
   "cell_type": "code",
   "execution_count": 3,
   "metadata": {
    "ExecuteTime": {
     "end_time": "2023-02-17T00:55:47.963012Z",
     "start_time": "2023-02-17T00:55:47.940116Z"
    }
   },
   "outputs": [
    {
     "data": {
      "text/plain": [
       "((60000, 28, 28), (60000,), (10000, 28, 28), (10000,))"
      ]
     },
     "execution_count": 3,
     "metadata": {},
     "output_type": "execute_result"
    }
   ],
   "source": [
    "train_image.shape, train_label.shape, test_image.shape, test_label.shape\n",
    "# (60000, 28, 28) : (개수, 데이터shape-28,28), (60000, )"
   ]
  },
  {
   "cell_type": "code",
   "execution_count": 4,
   "metadata": {
    "ExecuteTime": {
     "end_time": "2023-02-17T00:55:48.736071Z",
     "start_time": "2023-02-17T00:55:48.716496Z"
    }
   },
   "outputs": [
    {
     "data": {
      "text/plain": [
       "array([5, 0, 4, 1, 9], dtype=uint8)"
      ]
     },
     "execution_count": 4,
     "metadata": {},
     "output_type": "execute_result"
    }
   ],
   "source": [
    "#y값 확인\n",
    "train_label[:5]"
   ]
  },
  {
   "cell_type": "code",
   "execution_count": 5,
   "metadata": {
    "ExecuteTime": {
     "end_time": "2023-02-17T00:55:50.325325Z",
     "start_time": "2023-02-17T00:55:49.238259Z"
    }
   },
   "outputs": [
    {
     "data": {
      "image/png": "[encoded data removed]",
      "text/plain": [
       "<Figure size 1000x500 with 10 Axes>"
      ]
     },
     "metadata": {},
     "output_type": "display_data"
    }
   ],
   "source": [
    "# X값-image 확인\n",
    "import matplotlib.pyplot as plt\n",
    "plt.figure(figsize=(10,5))\n",
    "\n",
    "for i in range(10):\n",
    "    plt.subplot(2, 5, i+1)\n",
    "    plt.imshow(train_image[i], cmap='gray')\n",
    "    plt.title(f'{train_label[i]}', fontsize=20)\n",
    "    plt.axis('off')\n",
    "\n",
    "plt.tight_layout()\n",
    "plt.show()"
   ]
  },
  {
   "cell_type": "code",
   "execution_count": 6,
   "metadata": {
    "ExecuteTime": {
     "end_time": "2023-02-17T00:55:50.898594Z",
     "start_time": "2023-02-17T00:55:50.882999Z"
    }
   },
   "outputs": [
    {
     "data": {
      "text/plain": [
       "(0, 255)"
      ]
     },
     "execution_count": 6,
     "metadata": {},
     "output_type": "execute_result"
    }
   ],
   "source": [
    "train_image[0].min(), train_image[0].max()"
   ]
  },
  {
   "cell_type": "markdown",
   "metadata": {
    "slideshow": {
     "slide_type": "slide"
    }
   },
   "source": [
    "## 데이터 준비\n",
    "- X (Input Data Image)\n",
    "    - 0 ~ 1 사이의 값으로 정규화 시킨다.\n",
    "- y (Output Data)\n",
    "    - one hot encoding 처리\n",
    "        - Label이 다중분류(Multi class classification)일 경우 One Hot Encoding 한다.\n",
    "            - 딥러닝 모델이 각 Label별 확률을 출력하도록 정의 되기 때문에 y(정답)도 같은 형태로 만들어 줘야 한다.\n",
    "    - Keras의 onehot encoding 처리 함수\n",
    "        - tensorflow.keras.utils.to_categorical()"
   ]
  },
  {
   "cell_type": "markdown",
   "metadata": {
    "ExecuteTime": {
     "end_time": "2021-08-30T05:07:46.170159Z",
     "start_time": "2021-08-30T05:07:45.800170Z"
    },
    "slideshow": {
     "slide_type": "fragment"
    }
   },
   "source": [
    "##### input image(X)를 정규화. \n",
    "- 이미지를 0 ~ 1 로 정규화 하고 타입을 float32로 변환"
   ]
  },
  {
   "cell_type": "code",
   "execution_count": 7,
   "metadata": {
    "ExecuteTime": {
     "end_time": "2023-02-17T00:55:52.199807Z",
     "start_time": "2023-02-17T00:55:52.188691Z"
    }
   },
   "outputs": [
    {
     "data": {
      "text/plain": [
       "dtype('uint8')"
      ]
     },
     "execution_count": 7,
     "metadata": {},
     "output_type": "execute_result"
    }
   ],
   "source": [
    "train_image.dtype"
   ]
  },
  {
   "cell_type": "code",
   "execution_count": 8,
   "metadata": {
    "ExecuteTime": {
     "end_time": "2023-02-17T00:55:52.724980Z",
     "start_time": "2023-02-17T00:55:52.571253Z"
    }
   },
   "outputs": [],
   "source": [
    "X_train = train_image.astype(\"float32\")/255\n",
    "X_test = test_image.astype('float32')/255"
   ]
  },
  {
   "cell_type": "markdown",
   "metadata": {
    "ExecuteTime": {
     "end_time": "2021-08-30T05:08:02.687904Z",
     "start_time": "2021-08-30T05:08:02.678864Z"
    },
    "slideshow": {
     "slide_type": "slide"
    }
   },
   "source": [
    "##### label(y)를 one hot encoding"
   ]
  },
  {
   "cell_type": "code",
   "execution_count": 9,
   "metadata": {
    "ExecuteTime": {
     "end_time": "2023-02-17T00:55:53.361001Z",
     "start_time": "2023-02-17T00:55:53.349292Z"
    }
   },
   "outputs": [
    {
     "data": {
      "text/plain": [
       "(array([0, 1, 2, 3, 4, 5, 6, 7, 8, 9], dtype=uint8),\n",
       " array([5923, 6742, 5958, 6131, 5842, 5421, 5918, 6265, 5851, 5949],\n",
       "       dtype=int64))"
      ]
     },
     "execution_count": 9,
     "metadata": {},
     "output_type": "execute_result"
    }
   ],
   "source": [
    "np.unique(train_label, return_counts=True)"
   ]
  },
  {
   "cell_type": "code",
   "execution_count": 10,
   "metadata": {
    "ExecuteTime": {
     "end_time": "2023-02-17T00:55:53.644566Z",
     "start_time": "2023-02-17T00:55:53.619907Z"
    }
   },
   "outputs": [
    {
     "data": {
      "text/plain": [
       "((60000, 10), (10000, 10))"
      ]
     },
     "execution_count": 10,
     "metadata": {},
     "output_type": "execute_result"
    }
   ],
   "source": [
    "y_train = keras.utils.to_categorical(train_label, num_classes=10)\n",
    "y_test = keras.utils.to_categorical(test_label)\n",
    "\n",
    "y_train.shape, y_test.shape"
   ]
  },
  {
   "cell_type": "code",
   "execution_count": 11,
   "metadata": {
    "ExecuteTime": {
     "end_time": "2023-02-17T00:55:53.937690Z",
     "start_time": "2023-02-17T00:55:53.916442Z"
    }
   },
   "outputs": [
    {
     "data": {
      "text/plain": [
       "array([5, 0, 4, 1, 9], dtype=uint8)"
      ]
     },
     "execution_count": 11,
     "metadata": {},
     "output_type": "execute_result"
    }
   ],
   "source": [
    "train_label[:5]"
   ]
  },
  {
   "cell_type": "code",
   "execution_count": 12,
   "metadata": {
    "ExecuteTime": {
     "end_time": "2023-02-17T00:55:54.278181Z",
     "start_time": "2023-02-17T00:55:54.259230Z"
    }
   },
   "outputs": [
    {
     "data": {
      "text/plain": [
       "array([[0., 0., 0., 0., 0., 1., 0., 0., 0., 0.],\n",
       "       [1., 0., 0., 0., 0., 0., 0., 0., 0., 0.],\n",
       "       [0., 0., 0., 0., 1., 0., 0., 0., 0., 0.],\n",
       "       [0., 1., 0., 0., 0., 0., 0., 0., 0., 0.],\n",
       "       [0., 0., 0., 0., 0., 0., 0., 0., 0., 1.]], dtype=float32)"
      ]
     },
     "execution_count": 12,
     "metadata": {},
     "output_type": "execute_result"
    }
   ],
   "source": [
    "y_train[:5]"
   ]
  },
  {
   "cell_type": "markdown",
   "metadata": {
    "slideshow": {
     "slide_type": "slide"
    }
   },
   "source": [
    "## 네트워크(모델) 정의\n",
    "- Network : 전체 모델 구조"
   ]
  },
  {
   "cell_type": "code",
   "execution_count": 13,
   "metadata": {
    "ExecuteTime": {
     "end_time": "2023-02-17T00:55:54.927986Z",
     "start_time": "2023-02-17T00:55:54.828280Z"
    }
   },
   "outputs": [],
   "source": [
    "model = keras.Sequential()  # (빈)모델생성\n",
    "# 모델에 Layer 들을 추가한다.(쌓는다.)\n",
    "# 각 레이어는 이전 Layer의 출력결과를 입력으로 받아서 처리한 뒤에 출력한다.\n",
    "# Layer는 Unit/Node/Neuron 들로 구성된다. -> feature들을 입력받아서 처리후 출력하는 함수.\n",
    "\n",
    "# 첫번째 Layer를 추가 -> 첫번째: InputLayer를 추가. -> (모델의) 입력 데이터의 shape을 설정하는 역할.\n",
    "model.add(keras.layers.InputLayer((28, 28))) \n",
    "\n",
    "model.add(keras.layers.Flatten())  # 입력데이터를 1차원 배열로 변환.\n",
    "\n",
    "model.add(keras.layers.Dense(units=256)) # unit 256개로 이뤄진 Layer를 생성. 각 unit은 선형회귀(W*X + B) 계산을 처리.\n",
    "\n",
    "model.add(keras.layers.ReLU())  # max(X, 0) -> Activation(활성) 함수. => 비선형함수를 사용.\n",
    "\n",
    "model.add(keras.layers.Dense(units=128))\n",
    "\n",
    "model.add(keras.layers.ReLU())\n",
    "\n",
    "model.add(keras.layers.Dense(units=10))\n",
    "\n",
    "model.add(keras.layers.Softmax(name='output'))  # Output Layer->모델의 출력 결과를 출력하는 Layer"
   ]
  },
  {
   "cell_type": "code",
   "execution_count": 14,
   "metadata": {
    "ExecuteTime": {
     "end_time": "2023-02-17T00:55:55.518074Z",
     "start_time": "2023-02-17T00:55:55.460157Z"
    }
   },
   "outputs": [],
   "source": [
    "model2 = keras.Sequential([\n",
    "    keras.layers.InputLayer((28,28)), \n",
    "    keras.layers.Flatten(),\n",
    "    keras.layers.Dense(256),\n",
    "    keras.layers.ReLU(),\n",
    "    keras.layers.Dense(10),\n",
    "    keras.layers.Softmax()\n",
    "])\n"
   ]
  },
  {
   "cell_type": "code",
   "execution_count": 15,
   "metadata": {
    "ExecuteTime": {
     "end_time": "2023-02-17T00:55:55.934212Z",
     "start_time": "2023-02-17T00:55:55.899147Z"
    }
   },
   "outputs": [
    {
     "name": "stdout",
     "output_type": "stream",
     "text": [
      "Model: \"sequential\"\n",
      "_________________________________________________________________\n",
      " Layer (type)                Output Shape              Param #   \n",
      "=================================================================\n",
      " flatten (Flatten)           (None, 784)               0         \n",
      "                                                                 \n",
      " dense (Dense)               (None, 256)               200960    \n",
      "                                                                 \n",
      " re_lu (ReLU)                (None, 256)               0         \n",
      "                                                                 \n",
      " dense_1 (Dense)             (None, 128)               32896     \n",
      "                                                                 \n",
      " re_lu_1 (ReLU)              (None, 128)               0         \n",
      "                                                                 \n",
      " dense_2 (Dense)             (None, 10)                1290      \n",
      "                                                                 \n",
      " output (Softmax)            (None, 10)                0         \n",
      "                                                                 \n",
      "=================================================================\n",
      "Total params: 235,146\n",
      "Trainable params: 235,146\n",
      "Non-trainable params: 0\n",
      "_________________________________________________________________\n"
     ]
    }
   ],
   "source": [
    "# 모델의 구조를 확인\n",
    "model.summary()"
   ]
  },
  {
   "cell_type": "code",
   "execution_count": 16,
   "metadata": {
    "ExecuteTime": {
     "end_time": "2023-02-17T00:55:56.523042Z",
     "start_time": "2023-02-17T00:55:56.316356Z"
    }
   },
   "outputs": [
    {
     "data": {
      "image/png": "[encoded data removed]",
      "text/plain": [
       "<IPython.core.display.Image object>"
      ]
     },
     "execution_count": 16,
     "metadata": {},
     "output_type": "execute_result"
    }
   ],
   "source": [
    "# 모델구조를 시각화 - graphviz\n",
    "# pip install graphviz pydot pydotplus\n",
    "keras.utils.plot_model(model, \n",
    "                       show_shapes=True  # 각 Layer의 input/output의 shape을 확인\n",
    "                       , to_file='model_shapes.png'  # 저장할 파일명. 생략하면 model.png로 저장\n",
    "                      )"
   ]
  },
  {
   "cell_type": "markdown",
   "metadata": {
    "slideshow": {
     "slide_type": "slide"
    }
   },
   "source": [
    "## 컴파일 단계\n",
    "- 정의된 딥러닝 모델을 학습할 수 있는 상태로 만들어 주기 위해 다음을 추가적으로 설정 한다.\n",
    "    - Optimizer\n",
    "    - 손실함수\n",
    "    - 평가지표"
   ]
  },
  {
   "cell_type": "code",
   "execution_count": 17,
   "metadata": {
    "ExecuteTime": {
     "end_time": "2023-02-17T00:55:57.253912Z",
     "start_time": "2023-02-17T00:55:57.222377Z"
    }
   },
   "outputs": [],
   "source": [
    "model.compile(optimizer='adam', \n",
    "             loss='categorical_crossentropy', \n",
    "             metrics=['accuracy'] # 학습로그, 모델 평가 할때 loss(loss함수가 계산한 오차값)와 같이 나올 평가지표\n",
    "             )"
   ]
  },
  {
   "cell_type": "markdown",
   "metadata": {
    "slideshow": {
     "slide_type": "slide"
    }
   },
   "source": [
    "## 학습 (fit)\n",
    "- model.fit()\n",
    "    - 모델 학습 메소드. \n",
    "    - 학습과정의 Log를 History 객체로 반환한다.\n",
    "- History : train 시 에폭별 평가지표값들을 모아서 제공.    "
   ]
  },
  {
   "cell_type": "code",
   "execution_count": 18,
   "metadata": {
    "ExecuteTime": {
     "end_time": "2023-02-17T00:56:19.959162Z",
     "start_time": "2023-02-17T00:55:58.077055Z"
    },
    "scrolled": true
   },
   "outputs": [
    {
     "name": "stdout",
     "output_type": "stream",
     "text": [
      "Epoch 1/10\n",
      "420/420 [==============================] - 3s 6ms/step - loss: 0.3010 - accuracy: 0.9130 - val_loss: 0.1614 - val_accuracy: 0.9531\n",
      "Epoch 2/10\n",
      "420/420 [==============================] - 2s 6ms/step - loss: 0.1165 - accuracy: 0.9654 - val_loss: 0.1221 - val_accuracy: 0.9646\n",
      "Epoch 3/10\n",
      "420/420 [==============================] - 2s 5ms/step - loss: 0.0737 - accuracy: 0.9781 - val_loss: 0.1032 - val_accuracy: 0.9698\n",
      "Epoch 4/10\n",
      "420/420 [==============================] - 2s 5ms/step - loss: 0.0510 - accuracy: 0.9843 - val_loss: 0.0996 - val_accuracy: 0.9712\n",
      "Epoch 5/10\n",
      "420/420 [==============================] - 2s 5ms/step - loss: 0.0353 - accuracy: 0.9889 - val_loss: 0.1119 - val_accuracy: 0.9687\n",
      "Epoch 6/10\n",
      "420/420 [==============================] - 2s 5ms/step - loss: 0.0279 - accuracy: 0.9918 - val_loss: 0.0958 - val_accuracy: 0.9734\n",
      "Epoch 7/10\n",
      "420/420 [==============================] - 2s 4ms/step - loss: 0.0221 - accuracy: 0.9932 - val_loss: 0.0975 - val_accuracy: 0.9745\n",
      "Epoch 8/10\n",
      "420/420 [==============================] - 2s 4ms/step - loss: 0.0173 - accuracy: 0.9947 - val_loss: 0.1092 - val_accuracy: 0.9731\n",
      "Epoch 9/10\n",
      "420/420 [==============================] - 2s 4ms/step - loss: 0.0143 - accuracy: 0.9955 - val_loss: 0.1104 - val_accuracy: 0.9737\n",
      "Epoch 10/10\n",
      "420/420 [==============================] - 2s 4ms/step - loss: 0.0135 - accuracy: 0.9955 - val_loss: 0.1267 - val_accuracy: 0.9719\n"
     ]
    }
   ],
   "source": [
    "history = model.fit(X_train, y_train,   # train dataset\n",
    "                      epochs=10,  # train dataset을 몇 번 반복해서 학습할 것인지.\n",
    "                      batch_size=100, # 파라미터(wegith-학습대상)를 업데이터 하기 위한 데이터 단위. 업데이트 단위: step. 1 step에 입력할 데이터개수: batch_size\n",
    "                      validation_split=0.3   # train set중 validation으로 사용할 데이터 비율.(전체중 70은 train에 30은 검증에 사용하겠다.)\n",
    "                     )"
   ]
  },
  {
   "cell_type": "code",
   "execution_count": 19,
   "metadata": {
    "ExecuteTime": {
     "end_time": "2023-02-17T00:38:29.389660Z",
     "start_time": "2023-02-17T00:38:29.377208Z"
    }
   },
   "outputs": [],
   "source": [
    "# Epoch 1/10   # 현재 에폭/전체 에폭수 => 몇번째 에폭 결과.\n",
    "# 420/420 [==============================] - 4s 8ms/step - loss: 0.3090 - accuracy: 0.9111 - val_loss: 0.1656 - val_accuracy: 0.9514\n",
    "\n",
    "# 420/420: 현재학습중인step/전체step      \n",
    "# 4s: 에폭당 걸린 학습시간 \n",
    "# 8ms: 스텝당 걸린 학습시간\n",
    "\n",
    "# train set 평가결과\n",
    "# loss: 0.3090 - loss(손실-오차값)\n",
    "# accuracy: 0.9111 - 컴파일 때 지정한 metrics의 결과.\n",
    "    \n",
    "# validation set 평가 결과\n",
    "# val_loss: 0.1656 - val_accuracy: 0.9514"
   ]
  },
  {
   "cell_type": "code",
   "execution_count": 20,
   "metadata": {
    "ExecuteTime": {
     "end_time": "2023-02-17T00:38:29.404831Z",
     "start_time": "2023-02-17T00:38:29.393737Z"
    }
   },
   "outputs": [],
   "source": [
    " # model2는 compile안한 모델\n",
    "# model2.fit(X_train, y_train,   # train dataset\n",
    "#                   epochs=8,  # train dataset을 몇 번 반복해서 학습할 것인지.\n",
    "#                   batch_size=100, # 파라미터(wegith-학습대상)를 업데이터 하기 위한 데이터 단위. 업데이트 단위: step. 1 step에 입력할 데이터개수: batch_size\n",
    "#                   validation_split=0.3   # train set중 validation으로 사용할 데이터 비율.(전체중 70은 train에 30은 검증에 사용하겠다.)\n",
    "#                  )"
   ]
  },
  {
   "cell_type": "markdown",
   "metadata": {
    "slideshow": {
     "slide_type": "slide"
    }
   },
   "source": [
    "##### History 시각화"
   ]
  },
  {
   "cell_type": "code",
   "execution_count": 19,
   "metadata": {
    "ExecuteTime": {
     "end_time": "2023-02-17T00:56:40.056708Z",
     "start_time": "2023-02-17T00:56:40.045876Z"
    }
   },
   "outputs": [
    {
     "name": "stdout",
     "output_type": "stream",
     "text": [
      "<class 'keras.callbacks.History'>\n",
      "학습 에폭리스트:  [0, 1, 2, 3, 4, 5, 6, 7, 8, 9]\n",
      "에폭수, 에폭당 step수:  {'verbose': 1, 'epochs': 10, 'steps': 420}\n"
     ]
    }
   ],
   "source": [
    "print(type(history))  # 학습 과정의 평가지표들 등의 정보를 저장한 객체.\n",
    "print(\"학습 에폭리스트: \", history.epoch)\n",
    "print(\"에폭수, 에폭당 step수: \", history.params)"
   ]
  },
  {
   "cell_type": "code",
   "execution_count": 22,
   "metadata": {
    "ExecuteTime": {
     "end_time": "2023-02-17T00:38:29.451458Z",
     "start_time": "2023-02-17T00:38:29.421292Z"
    }
   },
   "outputs": [],
   "source": [
    "history.history"
   ]
  },
  {
   "cell_type": "code",
   "execution_count": 20,
   "metadata": {
    "ExecuteTime": {
     "end_time": "2023-02-17T00:56:44.123978Z",
     "start_time": "2023-02-17T00:56:43.660625Z"
    },
    "scrolled": true
   },
   "outputs": [
    {
     "data": {
      "image/png": "[encoded data removed]",
      "text/plain": [
       "<Figure size 1500x600 with 2 Axes>"
      ]
     },
     "metadata": {},
     "output_type": "display_data"
    }
   ],
   "source": [
    "import matplotlib.pyplot as plt\n",
    "\n",
    "plt.rcParams['font.family'] = 'malgun gothic'\n",
    "plt.rcParams['axes.unicode_minus'] = False\n",
    "\n",
    "plt.figure(figsize=(15, 6))\n",
    "plt.suptitle('학습 평가 결과')  #figure 제목\n",
    "\n",
    "plt.subplot(1, 2, 1)\n",
    "plt.plot(history.history['loss'], label='train loss')\n",
    "plt.plot(history.history['val_loss'], label='val loss')\n",
    "plt.title('Loss')\n",
    "# plt.ylim(0.09, 0.15)\n",
    "plt.legend()\n",
    "\n",
    "plt.subplot(1, 2, 2)\n",
    "plt.plot(history.history['accuracy'], label='train acc')\n",
    "plt.plot(history.history['val_accuracy'], label='val acc')\n",
    "plt.title('Accuracy')\n",
    "\n",
    "plt.legend()\n",
    "plt.tight_layout()\n",
    "plt.show()"
   ]
  },
  {
   "cell_type": "markdown",
   "metadata": {
    "slideshow": {
     "slide_type": "slide"
    }
   },
   "source": [
    "## 테스트셋 평가"
   ]
  },
  {
   "cell_type": "code",
   "execution_count": 21,
   "metadata": {
    "ExecuteTime": {
     "end_time": "2023-02-17T01:12:34.831428Z",
     "start_time": "2023-02-17T01:12:33.773392Z"
    }
   },
   "outputs": [
    {
     "name": "stdout",
     "output_type": "stream",
     "text": [
      "313/313 [==============================] - 1s 3ms/step - loss: 0.1031 - accuracy: 0.9749\n"
     ]
    }
   ],
   "source": [
    "result = model.evaluate(X_test, y_test)   #loss, compile시 지정한 metrics 로 평가."
   ]
  },
  {
   "cell_type": "code",
   "execution_count": 22,
   "metadata": {
    "ExecuteTime": {
     "end_time": "2023-02-17T01:13:06.404896Z",
     "start_time": "2023-02-17T01:13:06.388290Z"
    }
   },
   "outputs": [
    {
     "data": {
      "text/plain": [
       "[0.10311970114707947, 0.9749000072479248]"
      ]
     },
     "execution_count": 22,
     "metadata": {},
     "output_type": "execute_result"
    }
   ],
   "source": [
    "result"
   ]
  },
  {
   "cell_type": "markdown",
   "metadata": {
    "slideshow": {
     "slide_type": "slide"
    }
   },
   "source": [
    "## 새로운 데이터 추론\n",
    "- 새로운 데이터를 추론하기 전에 학습데이터에 했던 전처리과정을 동일하게 적용 한 뒤 추론한다."
   ]
  },
  {
   "cell_type": "markdown",
   "metadata": {
    "slideshow": {
     "slide_type": "fragment"
    }
   },
   "source": [
    "### 추론 메소드\n",
    "- predict()\n",
    "    - **분류:** 각 클래스 별 확률 반환\n",
    "    - **회귀:** 최종 예측 결과\n",
    "- 분류문제일때 predict() 결과에서 class label 출력하기    \n",
    "    - 이진 분류(binary classification)\n",
    "        - `numpy.where(model.predict(x) > 0.5, 1, 0).astype(\"int32\")`\n",
    "    - 다중클래스 분류(multi-class classification)\n",
    "        - `numpy.argmax(model.predict(x), axis=1)`"
   ]
  },
  {
   "cell_type": "code",
   "execution_count": 23,
   "metadata": {
    "ExecuteTime": {
     "end_time": "2023-02-17T01:13:56.461859Z",
     "start_time": "2023-02-17T01:13:56.453475Z"
    }
   },
   "outputs": [
    {
     "data": {
      "text/plain": [
       "(3, 28, 28)"
      ]
     },
     "execution_count": 23,
     "metadata": {},
     "output_type": "execute_result"
    }
   ],
   "source": [
    "X_new = X_test[:3]\n",
    "X_new.shape"
   ]
  },
  {
   "cell_type": "code",
   "execution_count": 24,
   "metadata": {
    "ExecuteTime": {
     "end_time": "2023-02-17T01:14:06.333685Z",
     "start_time": "2023-02-17T01:14:06.165342Z"
    }
   },
   "outputs": [
    {
     "name": "stdout",
     "output_type": "stream",
     "text": [
      "1/1 [==============================] - 0s 100ms/step\n"
     ]
    }
   ],
   "source": [
    "pred = model.predict(X_new) # 추론: (개수, 데이터 shape)"
   ]
  },
  {
   "cell_type": "code",
   "execution_count": 26,
   "metadata": {
    "ExecuteTime": {
     "end_time": "2023-02-17T01:15:20.673654Z",
     "start_time": "2023-02-17T01:15:20.661306Z"
    }
   },
   "outputs": [
    {
     "name": "stdout",
     "output_type": "stream",
     "text": [
      "(3, 10)\n"
     ]
    },
    {
     "data": {
      "text/plain": [
       "array([[0., 0., 0., 0., 0., 0., 0., 1., 0., 0.],\n",
       "       [0., 0., 1., 0., 0., 0., 0., 0., 0., 0.],\n",
       "       [0., 1., 0., 0., 0., 0., 0., 0., 0., 0.]], dtype=float32)"
      ]
     },
     "execution_count": 26,
     "metadata": {},
     "output_type": "execute_result"
    }
   ],
   "source": [
    "print(pred.shape)\n",
    "np.round(pred, 3)"
   ]
  },
  {
   "cell_type": "code",
   "execution_count": 28,
   "metadata": {
    "ExecuteTime": {
     "end_time": "2023-02-17T01:17:33.267609Z",
     "start_time": "2023-02-17T01:17:33.248186Z"
    }
   },
   "outputs": [
    {
     "data": {
      "text/plain": [
       "array([7, 2, 1], dtype=int64)"
      ]
     },
     "execution_count": 28,
     "metadata": {},
     "output_type": "execute_result"
    }
   ],
   "source": [
    "np.argmax(pred, axis=1)"
   ]
  },
  {
   "cell_type": "code",
   "execution_count": 29,
   "metadata": {
    "ExecuteTime": {
     "end_time": "2023-02-17T01:17:35.712721Z",
     "start_time": "2023-02-17T01:17:35.693851Z"
    }
   },
   "outputs": [
    {
     "data": {
      "text/plain": [
       "array([7, 2, 1], dtype=int64)"
      ]
     },
     "execution_count": 29,
     "metadata": {},
     "output_type": "execute_result"
    }
   ],
   "source": [
    "np.argmax(y_test[:3], axis=-1)  # axis=-1 ==> 마지막 축"
   ]
  },
  {
   "cell_type": "markdown",
   "metadata": {},
   "source": [
    "# TODO\n",
    "1. opencv로 그림판으로 그린 숫자이미지들을 읽는다. (grayscale)\n",
    "\n",
    "2. 28 X 28 로 resize \n",
    "\n",
    "3. 모델을 이용해서 추론"
   ]
  },
  {
   "cell_type": "code",
   "execution_count": 31,
   "metadata": {
    "ExecuteTime": {
     "end_time": "2023-02-17T01:19:11.346701Z",
     "start_time": "2023-02-17T01:19:07.997544Z"
    },
    "collapsed": true
   },
   "outputs": [
    {
     "name": "stdout",
     "output_type": "stream",
     "text": [
      "Collecting opencv-contrib-python\n",
      "  Using cached opencv_contrib_python-4.7.0.68-cp37-abi3-win_amd64.whl (44.9 MB)\n",
      "Requirement already satisfied: numpy>=1.17.0 in c:\\users\\playdata\\anaconda3\\envs\\tf\\lib\\site-packages (from opencv-contrib-python) (1.24.2)\n",
      "Installing collected packages: opencv-contrib-python\n",
      "Successfully installed opencv-contrib-python-4.7.0.68\n"
     ]
    }
   ],
   "source": [
    "!pip install opencv-contrib-python"
   ]
  },
  {
   "cell_type": "code",
   "execution_count": 39,
   "metadata": {
    "ExecuteTime": {
     "end_time": "2023-02-17T01:25:00.612439Z",
     "start_time": "2023-02-17T01:25:00.597060Z"
    }
   },
   "outputs": [
    {
     "data": {
      "text/plain": [
       "((48, 51), numpy.ndarray, (28, 28), (28, 28), (28, 28))"
      ]
     },
     "execution_count": 39,
     "metadata": {},
     "output_type": "execute_result"
    }
   ],
   "source": [
    "import cv2\n",
    "\n",
    "two_tmp = cv2.imread('test_img/two.png', cv2.IMREAD_GRAYSCALE)\n",
    "five_tmp = cv2.imread('test_img/five.png', cv2.IMREAD_GRAYSCALE)\n",
    "eight_tmp = cv2.imread('test_img/eight.png', cv2.IMREAD_GRAYSCALE)\n",
    "\n",
    "two = cv2.resize(two_tmp, (28,28), interpolation=cv2.INTER_AREA)\n",
    "five = cv2.resize(five_tmp, (28,28), interpolation=cv2.INTER_AREA)\n",
    "eight = cv2.resize(eight_tmp, (28,28), interpolation=cv2.INTER_AREA)\n",
    "\n",
    "two_tmp.shape, type(two_tmp), two.shape, five.shape, eight.shape"
   ]
  },
  {
   "cell_type": "code",
   "execution_count": 41,
   "metadata": {
    "ExecuteTime": {
     "end_time": "2023-02-17T01:26:23.430181Z",
     "start_time": "2023-02-17T01:26:05.150515Z"
    }
   },
   "outputs": [],
   "source": [
    "cv2.imshow('frame', two)\n",
    "cv2.waitKey(0)\n",
    "cv2.imshow('frame', five)\n",
    "cv2.waitKey(0)\n",
    "cv2.imshow('frame', eight)\n",
    "cv2.waitKey(0)\n",
    "cv2.destroyAllWindows()"
   ]
  },
  {
   "cell_type": "markdown",
   "metadata": {},
   "source": [
    "#### 이미지 전처리\n",
    "- float으로 변환, scaling"
   ]
  },
  {
   "cell_type": "code",
   "execution_count": 46,
   "metadata": {
    "ExecuteTime": {
     "end_time": "2023-02-17T01:30:21.207921Z",
     "start_time": "2023-02-17T01:30:21.199287Z"
    }
   },
   "outputs": [
    {
     "data": {
      "text/plain": [
       "(3, 28, 28)"
      ]
     },
     "execution_count": 46,
     "metadata": {},
     "output_type": "execute_result"
    }
   ],
   "source": [
    "new_data = np.array([two.astype('float32')/255, \n",
    "                     five.astype('float32')/255, \n",
    "                     eight.astype('float32')/255])\n",
    "new_data.shape"
   ]
  },
  {
   "cell_type": "code",
   "execution_count": 48,
   "metadata": {
    "ExecuteTime": {
     "end_time": "2023-02-17T01:30:35.471914Z",
     "start_time": "2023-02-17T01:30:35.452669Z"
    }
   },
   "outputs": [
    {
     "data": {
      "text/plain": [
       "(1.0, 0.0)"
      ]
     },
     "execution_count": 48,
     "metadata": {},
     "output_type": "execute_result"
    }
   ],
   "source": [
    "new_data.max(), new_data.min()"
   ]
  },
  {
   "cell_type": "code",
   "execution_count": 50,
   "metadata": {
    "ExecuteTime": {
     "end_time": "2023-02-17T01:30:53.620669Z",
     "start_time": "2023-02-17T01:30:53.510291Z"
    }
   },
   "outputs": [
    {
     "name": "stdout",
     "output_type": "stream",
     "text": [
      "1/1 [==============================] - 0s 27ms/step\n",
      "(3, 10)\n"
     ]
    },
    {
     "data": {
      "text/plain": [
       "array([[0.   , 0.   , 1.   , 0.   , 0.   , 0.   , 0.   , 0.   , 0.   ,\n",
       "        0.   ],\n",
       "       [0.   , 0.   , 0.   , 0.   , 0.   , 0.987, 0.   , 0.   , 0.012,\n",
       "        0.   ],\n",
       "       [0.001, 0.005, 0.011, 0.823, 0.   , 0.018, 0.09 , 0.   , 0.051,\n",
       "        0.   ]], dtype=float32)"
      ]
     },
     "execution_count": 50,
     "metadata": {},
     "output_type": "execute_result"
    }
   ],
   "source": [
    "pred = model.predict(new_data)\n",
    "print(pred.shape)\n",
    "np.round(pred, 3)"
   ]
  },
  {
   "cell_type": "code",
   "execution_count": 51,
   "metadata": {
    "ExecuteTime": {
     "end_time": "2023-02-17T01:31:23.516634Z",
     "start_time": "2023-02-17T01:31:23.509100Z"
    }
   },
   "outputs": [
    {
     "data": {
      "text/plain": [
       "array([2, 5, 3], dtype=int64)"
      ]
     },
     "execution_count": 51,
     "metadata": {},
     "output_type": "execute_result"
    }
   ],
   "source": [
    "np.argmax(pred, axis=-1)"
   ]
  },
  {
   "cell_type": "code",
   "execution_count": null,
   "metadata": {},
   "outputs": [],
   "source": []
  },
  {
   "cell_type": "code",
   "execution_count": null,
   "metadata": {},
   "outputs": [],
   "source": []
  },
  {
   "cell_type": "code",
   "execution_count": null,
   "metadata": {},
   "outputs": [],
   "source": []
  },
  {
   "cell_type": "code",
   "execution_count": null,
   "metadata": {},
   "outputs": [],
   "source": []
  },
  {
   "cell_type": "code",
   "execution_count": null,
   "metadata": {},
   "outputs": [],
   "source": []
  },
  {
   "cell_type": "code",
   "execution_count": null,
   "metadata": {},
   "outputs": [],
   "source": []
  }
 ],
 "metadata": {
  "kernelspec": {
   "display_name": "Python 3 (ipykernel)",
   "language": "python",
   "name": "python3"
  },
  "language_info": {
   "codemirror_mode": {
    "name": "ipython",
    "version": 3
   },
   "file_extension": ".py",
   "mimetype": "text/x-python",
   "name": "python",
   "nbconvert_exporter": "python",
   "pygments_lexer": "ipython3",
   "version": "3.9.16"
  },
  "toc": {
   "base_numbering": 1,
   "nav_menu": {},
   "number_sections": false,
   "sideBar": true,
   "skip_h1_title": false,
   "title_cell": "Table of Contents",
   "title_sidebar": "Contents",
   "toc_cell": false,
   "toc_position": {},
   "toc_section_display": true,
   "toc_window_display": false
  },
  "varInspector": {
   "cols": {
    "lenName": 16,
    "lenType": 16,
    "lenVar": 40
   },
   "kernels_config": {
    "python": {
     "delete_cmd_postfix": "",
     "delete_cmd_prefix": "del ",
     "library": "var_list.py",
     "varRefreshCmd": "print(var_dic_list())"
    },
    "r": {
     "delete_cmd_postfix": ") ",
     "delete_cmd_prefix": "rm(",
     "library": "var_list.r",
     "varRefreshCmd": "cat(var_dic_list()) "
    }
   },
   "types_to_exclude": [
    "module",
    "function",
    "builtin_function_or_method",
    "instance",
    "_Feature"
   ],
   "window_display": false
  }
 },
 "nbformat": 4,
 "nbformat_minor": 2
}
