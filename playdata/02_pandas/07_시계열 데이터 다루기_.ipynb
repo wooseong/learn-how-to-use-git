{
 "cells": [
  {
   "cell_type": "markdown",
   "id": "760af56f",
   "metadata": {
    "slideshow": {
     "slide_type": "slide"
    }
   },
   "source": [
    "# 시계열 데이터개요\n",
    "\n",
    "- 시계열 데이터란\n",
    "    - 시간의 흐름에 따라 수집된 데이터를 말한다.\n",
    "    - 일반적으로는 시간의 간격이 균등한 **고정 빈도(fixed frequency)** 데이터가 대부분이지만 불규칙적인 데이터셋도 될 수 있다.                                    \n",
    "    - 판다스는 날짜를 조작하고 다른 시구간에 대해 집계하고 다른 시간대를 샘플링 하는등의 시계열 데이터 분석을 위한 다양한 기능을 제공한다."
   ]
  },
  {
   "cell_type": "markdown",
   "id": "8724dc8d",
   "metadata": {
    "slideshow": {
     "slide_type": "slide"
    }
   },
   "source": [
    "# 파이썬과 판다스의  날짜/시간 데이터 다루기\n",
    "\n",
    "- **파이썬**은 `datetime` 모듈을 이용해 일시를 처리한다. datetime 모듈은 날짜/시간 관련 타입으로 `date, time, datetime` 세개의 클래스를 제공한다.\n",
    "- **판다스**는 `Timestamp` 단일 타입으로 일시를 처리한다. `Timestamp`는 나노초(10억분의 1초)의 정밀도를 가진다.\n",
    "- 파이썬, 판다스 모두 timedelta를 이용해 일시의 차이를 관리한다."
   ]
  },
  {
   "cell_type": "markdown",
   "id": "cd6c1307",
   "metadata": {
    "slideshow": {
     "slide_type": "subslide"
    }
   },
   "source": [
    "## 파이썬 datatime module\n",
    "|클래스|설명|\n",
    "|:-|-:|\n",
    "|**date**|날짜타입 - 년/월/일을 저장|\n",
    "|**time**|시간타입 - 시/분/초/마이크로초를 저장|\n",
    "|**datetime**|날짜,시간을 저장|\n",
    "|**timedelta**|두 datetime 간의 차이를 일/초/마이크로초로 표현|\n",
    "|**tzinfo**|타임존-시간대-를 표현|"
   ]
  },
  {
   "cell_type": "markdown",
   "id": "0b64b0a6",
   "metadata": {
    "slideshow": {
     "slide_type": "fragment"
    }
   },
   "source": [
    "### 날짜 시간 객체 생성"
   ]
  },
  {
   "cell_type": "code",
   "execution_count": 7,
   "id": "9ee72e34",
   "metadata": {
    "ExecuteTime": {
     "end_time": "2023-01-12T05:44:36.842428Z",
     "start_time": "2023-01-12T05:44:36.825579Z"
    }
   },
   "outputs": [
    {
     "name": "stdout",
     "output_type": "stream",
     "text": [
      "date: 2023-01-02\n",
      "time: 14:40:20.999999\n",
      "datetime: 2022-12-30 11:30:10.999999\n",
      "2022 30 10\n"
     ]
    }
   ],
   "source": [
    "import datetime  # datetime 모듈 import\n",
    "d = datetime.date(year=2023, month=1, day=2)  # 날짜\n",
    "t = datetime.time(hour=14, minute=40, second=20, microsecond=999999) # 시간\n",
    "dt = datetime.datetime(year=2022, month=12, day=30, hour=11, minute=30, second=10, microsecond=999999)\n",
    "# 마이크로 초: 1/100만 초\n",
    "print(f\"date: {d}\\ntime: {t}\\ndatetime: {dt}\")\n",
    "print(dt.year, dt.day, dt.second)"
   ]
  },
  {
   "cell_type": "code",
   "execution_count": 10,
   "id": "347feea7",
   "metadata": {
    "ExecuteTime": {
     "end_time": "2023-01-12T05:47:02.323897Z",
     "start_time": "2023-01-12T05:47:02.312634Z"
    }
   },
   "outputs": [
    {
     "name": "stdout",
     "output_type": "stream",
     "text": [
      "현재날짜: 2023-01-12\n",
      "현재 일시: 2023-01-12 14:47:02.313633\n"
     ]
    }
   ],
   "source": [
    "from datetime import datetime, time, date\n",
    "# 실행시점의 날짜, 일시 조회\n",
    "print('현재날짜:', date.today())\n",
    "print('현재 일시:', datetime.now())"
   ]
  },
  {
   "cell_type": "markdown",
   "id": "a8eb826d",
   "metadata": {
    "slideshow": {
     "slide_type": "subslide"
    }
   },
   "source": [
    "### timedetla 를 이용한 계산\n",
    "- datetime간의 간격을 표현한다.\n",
    "    - 특정 날짜나 시간에서 일정 기간을 더하거나 뺀 일시를 계산할 때 사용\n",
    "    - 날짜/시간 간의 차이를 계산한 결과로 사용 (두 일시간의 뺄셈의 결과)\n",
    "    - 차이를 day, second, microsends로 표현한다.\n",
    "    - 객체 생성시  weeks, days, hours, minutes, seconds, milliseconds, microseconds 를 넣어 차이를 표현한다."
   ]
  },
  {
   "cell_type": "code",
   "execution_count": 17,
   "id": "ed6981b7",
   "metadata": {
    "ExecuteTime": {
     "end_time": "2023-01-12T06:18:51.123311Z",
     "start_time": "2023-01-12T06:18:51.116384Z"
    }
   },
   "outputs": [
    {
     "name": "stdout",
     "output_type": "stream",
     "text": [
      "2023-01-12 15:18:51.119370\n",
      "2022-12-26 10:08:20.919370\n",
      "2023-01-29 20:29:21.319370\n"
     ]
    }
   ],
   "source": [
    "from datetime import timedelta\n",
    "tdelta = timedelta(days=1)  # 1일차\n",
    "tdelta = timedelta(weeks=1) # 1주일차\n",
    "tdelta = timedelta(weeks=2, days=3, hours=5, minutes=10, seconds=30, milliseconds=100, microseconds=100000)\n",
    "c = datetime.now()\n",
    "print(c)\n",
    "print(c - tdelta)\n",
    "print(c + tdelta)"
   ]
  },
  {
   "cell_type": "code",
   "execution_count": 19,
   "id": "750f0b07",
   "metadata": {
    "ExecuteTime": {
     "end_time": "2023-01-12T06:19:53.062990Z",
     "start_time": "2023-01-12T06:19:53.042338Z"
    }
   },
   "outputs": [
    {
     "data": {
      "text/plain": [
       "datetime.timedelta(days=376)"
      ]
     },
     "execution_count": 19,
     "metadata": {},
     "output_type": "execute_result"
    }
   ],
   "source": [
    "date(2023, 1, 12) - date(2022, 1, 1) # 날짜 차이를 timedelta"
   ]
  },
  {
   "cell_type": "code",
   "execution_count": 20,
   "id": "34a08d27",
   "metadata": {
    "ExecuteTime": {
     "end_time": "2023-01-12T06:20:24.412845Z",
     "start_time": "2023-01-12T06:20:24.382577Z"
    }
   },
   "outputs": [
    {
     "data": {
      "text/plain": [
       "datetime.timedelta(days=376, seconds=18002, microseconds=384577)"
      ]
     },
     "execution_count": 20,
     "metadata": {},
     "output_type": "execute_result"
    }
   ],
   "source": [
    "datetime.now() - datetime(2022, 1, 1, 10, 20, 22)"
   ]
  },
  {
   "cell_type": "markdown",
   "id": "3459ecda",
   "metadata": {
    "slideshow": {
     "slide_type": "subslide"
    }
   },
   "source": [
    "### datetime 과 문자열간 변환\n",
    "\n",
    "- strftime()\n",
    "    - datetime, date, time 객체를 지정한 형식의 문자열로 변환\n",
    "- strptime()\n",
    "    - 일시 형태의 문자열로 부터 datetime 객체를 생성한다.\n",
    "- 요소를 나타내는 주요 형식문자\n",
    "    - %Y, %m, %d : 년, 월, 일\n",
    "    - %H, %M, %S : 시, 분, 초\n",
    "    - https://docs.python.org/ko/3/library/datetime.html#strftime-and-strptime-format-codes"
   ]
  },
  {
   "cell_type": "code",
   "execution_count": 62,
   "id": "773029e9",
   "metadata": {
    "ExecuteTime": {
     "end_time": "2023-01-12T07:12:17.073948Z",
     "start_time": "2023-01-12T07:12:17.062005Z"
    }
   },
   "outputs": [
    {
     "name": "stdout",
     "output_type": "stream",
     "text": [
      "목\n",
      "2023-01-12\n",
      "2023년 01월 12일 Thu 목요일\n",
      "2023-01-12 16:12:17.065159\n",
      "2023/01/12 16, 04 PM\n"
     ]
    }
   ],
   "source": [
    "today = date.today()\n",
    "\n",
    "# dow = [\"월요일\", \"화요일\"]\n",
    "dow = list('월화수목금토일')\n",
    "print(dow[today.weekday()])  # date.weekday(), datetime.weekday() => 요일을 정수반환 (0: 월, 6:일)\n",
    "\n",
    "\n",
    "print(today)\n",
    "print(today.strftime(f\"%Y년 %m월 %d일 %a {dow[today.weekday()]}요일\"))\n",
    "curr = datetime.now()\n",
    "print(curr)\n",
    "print(curr.strftime('%Y/%m/%d %H, %I %p'))"
   ]
  },
  {
   "cell_type": "code",
   "execution_count": 28,
   "id": "501058df",
   "metadata": {
    "ExecuteTime": {
     "end_time": "2023-01-12T06:36:07.139389Z",
     "start_time": "2023-01-12T06:36:07.129786Z"
    }
   },
   "outputs": [
    {
     "data": {
      "text/plain": [
       "datetime.datetime(2000, 10, 30, 0, 0)"
      ]
     },
     "execution_count": 28,
     "metadata": {},
     "output_type": "execute_result"
    }
   ],
   "source": [
    "s = \"2000년 10월 30일\"\n",
    "#  문자열 -> datetime\n",
    "datetime.strptime(s, \"%Y년 %m월 %d일\")"
   ]
  },
  {
   "cell_type": "markdown",
   "id": "8a5b5f26",
   "metadata": {
    "slideshow": {
     "slide_type": "slide"
    }
   },
   "source": [
    "## 판다스 Timestamp\n",
    "- 날짜 시간을 나노초(10억분의 1초) 단위의 정밀도로 표현한다.\n",
    "- 다양한 방식으로 객체를 생성할 수 있다.\n",
    "    - 직접 원하는 일시를 넣어 생성\n",
    "    - 일시 형태의 문자열을 이용해 생성\n",
    "    - unix time 부터 계산하여 생성 - 1970년 1월 1일 0시 0분 0초 0나노초\n"
   ]
  },
  {
   "cell_type": "code",
   "execution_count": 34,
   "id": "89d53be1",
   "metadata": {
    "ExecuteTime": {
     "end_time": "2023-01-12T06:41:58.059618Z",
     "start_time": "2023-01-12T06:41:58.037939Z"
    }
   },
   "outputs": [
    {
     "data": {
      "text/plain": [
       "Timestamp('2020-11-21 17:30:10.000001001')"
      ]
     },
     "execution_count": 34,
     "metadata": {},
     "output_type": "execute_result"
    }
   ],
   "source": [
    "import pandas as pd\n",
    "# 직접 원하는 일시를 넣어서 생성\n",
    "pd.Timestamp(year=2020, month=11, day=21)\n",
    "pd.Timestamp(year=2020, month=11, day=21, hour=17)\n",
    "pd.Timestamp(year=2020, month=11, day=21, hour=17, minute=30)\n",
    "pd.Timestamp(year=2020, month=11, day=21, hour=17, minute=30, second=10, microsecond=1, nanosecond=1)"
   ]
  },
  {
   "cell_type": "code",
   "execution_count": 39,
   "id": "fb14a522",
   "metadata": {
    "ExecuteTime": {
     "end_time": "2023-01-12T06:45:46.561917Z",
     "start_time": "2023-01-12T06:45:46.540222Z"
    }
   },
   "outputs": [
    {
     "data": {
      "text/plain": [
       "Timestamp('2023-01-12 12:23:30.121100')"
      ]
     },
     "execution_count": 39,
     "metadata": {},
     "output_type": "execute_result"
    }
   ],
   "source": [
    "# 문자열 생성 \n",
    "# 날짜: `/`나 `-` 로 구분자를 사용, 시간: `:`을 구분자로 사용\n",
    "pd.Timestamp('2023/1/2')\n",
    "pd.Timestamp('2023/1/12 12:23')\n",
    "pd.Timestamp('2023/1/12 12:23:30.1211')\n",
    "pd.Timestamp('2023-1-12T12:23:30.1211')  #날짜와 시간 구분: 공백이나 T"
   ]
  },
  {
   "cell_type": "code",
   "execution_count": 43,
   "id": "8171f9e7",
   "metadata": {
    "ExecuteTime": {
     "end_time": "2023-01-12T06:48:04.008352Z",
     "start_time": "2023-01-12T06:48:04.001723Z"
    }
   },
   "outputs": [
    {
     "data": {
      "text/plain": [
       "Timestamp('1970-03-12 00:00:00')"
      ]
     },
     "execution_count": 43,
     "metadata": {},
     "output_type": "execute_result"
    }
   ],
   "source": [
    "# 유닉스 타입을 기준으로 경과한 날짜.\n",
    "pd.Timestamp(100)  # 100나노초 경과한 일시\n",
    "pd.Timestamp(10, unit='Y') # 10년\n",
    "pd.Timestamp(10, unit=\"M\") # 10개월\n",
    "pd.Timestamp(10, unit='W') # 10주"
   ]
  },
  {
   "cell_type": "markdown",
   "id": "f156ff64",
   "metadata": {
    "slideshow": {
     "slide_type": "subslide"
    }
   },
   "source": [
    "### to_datetime()\n",
    "- 날짜와 관련된 다양한 값들을 Timestamp로 변환한다.\n",
    "- Series나 리스트의 값들을 한번에 변환할 수 있다. "
   ]
  },
  {
   "cell_type": "code",
   "execution_count": 65,
   "id": "fcd81b07",
   "metadata": {
    "ExecuteTime": {
     "end_time": "2023-01-12T07:19:02.209807Z",
     "start_time": "2023-01-12T07:19:02.193485Z"
    },
    "slideshow": {
     "slide_type": "fragment"
    }
   },
   "outputs": [
    {
     "data": {
      "text/plain": [
       "0   1970-01-11\n",
       "1   1970-04-11\n",
       "2   1972-09-27\n",
       "3   1997-05-19\n",
       "dtype: datetime64[ns]"
      ]
     },
     "execution_count": 65,
     "metadata": {},
     "output_type": "execute_result"
    }
   ],
   "source": [
    "s1 = pd.Series([10, 100, 1000, 10000])\n",
    "pd.to_datetime(s1, unit='D')"
   ]
  },
  {
   "cell_type": "code",
   "execution_count": null,
   "id": "4e52e160",
   "metadata": {
    "ExecuteTime": {
     "end_time": "2023-01-12T07:25:43.734216Z",
     "start_time": "2023-01-12T07:25:43.724885Z"
    }
   },
   "outputs": [],
   "source": [
    "s2 = pd.Series(['2000-01-01', '2001-03-10', '2023-01-12', 'aklsdlsd']) \n",
    "result = pd.to_datetime(s2,\n",
    "              errors='coerce') \n",
    "#errors: 변환못하는 문자열일 경우 어떻게 처리할지 지정. ignore-무시, coerce: NaT결측치 처리, raise:Exception발생-기본값 \n",
    "result"
   ]
  },
  {
   "cell_type": "code",
   "execution_count": 78,
   "id": "024d1b1b",
   "metadata": {
    "ExecuteTime": {
     "end_time": "2023-01-12T07:29:07.230289Z",
     "start_time": "2023-01-12T07:29:07.207475Z"
    }
   },
   "outputs": [
    {
     "data": {
      "text/plain": [
       "0   2000-01-01\n",
       "1   2001-03-10\n",
       "2   2023-01-12\n",
       "dtype: datetime64[ns]"
      ]
     },
     "execution_count": 78,
     "metadata": {},
     "output_type": "execute_result"
    }
   ],
   "source": [
    "s3 = pd.Series(['2000년 01월 01일', '2001년 03월 10일', '2023년 01월 12일']) \n",
    "pd.to_datetime(s3, format='%Y년 %m월 %d일') # parsing안되는 형식의 일시는 그 형식을 지정해 준다."
   ]
  },
  {
   "cell_type": "code",
   "execution_count": 79,
   "id": "69eafa84",
   "metadata": {
    "ExecuteTime": {
     "end_time": "2023-01-12T07:30:05.685781Z",
     "start_time": "2023-01-12T07:30:05.662751Z"
    }
   },
   "outputs": [
    {
     "name": "stdout",
     "output_type": "stream",
     "text": [
      "<class 'pandas.core.frame.DataFrame'>\n",
      "RangeIndex: 1258 entries, 0 to 1257\n",
      "Data columns (total 7 columns):\n",
      " #   Column     Non-Null Count  Dtype  \n",
      "---  ------     --------------  -----  \n",
      " 0   Date       1258 non-null   object \n",
      " 1   Open       1258 non-null   float64\n",
      " 2   High       1258 non-null   float64\n",
      " 3   Low        1258 non-null   float64\n",
      " 4   Close      1258 non-null   float64\n",
      " 5   Volume     1258 non-null   int64  \n",
      " 6   Adj Close  1258 non-null   float64\n",
      "dtypes: float64(5), int64(1), object(1)\n",
      "memory usage: 68.9+ KB\n"
     ]
    }
   ],
   "source": [
    "df = pd.read_csv('data/walmart_stock.csv')\n",
    "df.info()"
   ]
  },
  {
   "cell_type": "code",
   "execution_count": 80,
   "id": "9f0dabd4",
   "metadata": {
    "ExecuteTime": {
     "end_time": "2023-01-12T07:31:31.995813Z",
     "start_time": "2023-01-12T07:31:31.974688Z"
    }
   },
   "outputs": [
    {
     "data": {
      "text/html": [
       "<div>\n",
       "<style scoped>\n",
       "    .dataframe tbody tr th:only-of-type {\n",
       "        vertical-align: middle;\n",
       "    }\n",
       "\n",
       "    .dataframe tbody tr th {\n",
       "        vertical-align: top;\n",
       "    }\n",
       "\n",
       "    .dataframe thead th {\n",
       "        text-align: right;\n",
       "    }\n",
       "</style>\n",
       "<table border=\"1\" class=\"dataframe\">\n",
       "  <thead>\n",
       "    <tr style=\"text-align: right;\">\n",
       "      <th></th>\n",
       "      <th>Date</th>\n",
       "      <th>Open</th>\n",
       "      <th>High</th>\n",
       "      <th>Low</th>\n",
       "      <th>Close</th>\n",
       "      <th>Volume</th>\n",
       "      <th>Adj Close</th>\n",
       "    </tr>\n",
       "  </thead>\n",
       "  <tbody>\n",
       "    <tr>\n",
       "      <th>0</th>\n",
       "      <td>2012-01-03</td>\n",
       "      <td>59.970001</td>\n",
       "      <td>61.060001</td>\n",
       "      <td>59.869999</td>\n",
       "      <td>60.330002</td>\n",
       "      <td>12668800</td>\n",
       "      <td>52.619235</td>\n",
       "    </tr>\n",
       "    <tr>\n",
       "      <th>1</th>\n",
       "      <td>2012-01-04</td>\n",
       "      <td>60.209999</td>\n",
       "      <td>60.349998</td>\n",
       "      <td>59.470001</td>\n",
       "      <td>59.709999</td>\n",
       "      <td>9593300</td>\n",
       "      <td>52.078475</td>\n",
       "    </tr>\n",
       "    <tr>\n",
       "      <th>2</th>\n",
       "      <td>2012-01-05</td>\n",
       "      <td>59.349998</td>\n",
       "      <td>59.619999</td>\n",
       "      <td>58.369999</td>\n",
       "      <td>59.419998</td>\n",
       "      <td>12768200</td>\n",
       "      <td>51.825539</td>\n",
       "    </tr>\n",
       "    <tr>\n",
       "      <th>3</th>\n",
       "      <td>2012-01-06</td>\n",
       "      <td>59.419998</td>\n",
       "      <td>59.450001</td>\n",
       "      <td>58.869999</td>\n",
       "      <td>59.000000</td>\n",
       "      <td>8069400</td>\n",
       "      <td>51.459220</td>\n",
       "    </tr>\n",
       "    <tr>\n",
       "      <th>4</th>\n",
       "      <td>2012-01-09</td>\n",
       "      <td>59.029999</td>\n",
       "      <td>59.549999</td>\n",
       "      <td>58.919998</td>\n",
       "      <td>59.180000</td>\n",
       "      <td>6679300</td>\n",
       "      <td>51.616215</td>\n",
       "    </tr>\n",
       "  </tbody>\n",
       "</table>\n",
       "</div>"
      ],
      "text/plain": [
       "         Date       Open       High        Low      Close    Volume  Adj Close\n",
       "0  2012-01-03  59.970001  61.060001  59.869999  60.330002  12668800  52.619235\n",
       "1  2012-01-04  60.209999  60.349998  59.470001  59.709999   9593300  52.078475\n",
       "2  2012-01-05  59.349998  59.619999  58.369999  59.419998  12768200  51.825539\n",
       "3  2012-01-06  59.419998  59.450001  58.869999  59.000000   8069400  51.459220\n",
       "4  2012-01-09  59.029999  59.549999  58.919998  59.180000   6679300  51.616215"
      ]
     },
     "execution_count": 80,
     "metadata": {},
     "output_type": "execute_result"
    }
   ],
   "source": [
    "df.head()"
   ]
  },
  {
   "cell_type": "code",
   "execution_count": 83,
   "id": "a31b4e8a",
   "metadata": {
    "ExecuteTime": {
     "end_time": "2023-01-12T07:33:12.238410Z",
     "start_time": "2023-01-12T07:33:12.225106Z"
    }
   },
   "outputs": [],
   "source": [
    "df2 = df.copy()"
   ]
  },
  {
   "cell_type": "code",
   "execution_count": 84,
   "id": "f80463fd",
   "metadata": {
    "ExecuteTime": {
     "end_time": "2023-01-12T07:33:30.729398Z",
     "start_time": "2023-01-12T07:33:30.708966Z"
    },
    "collapsed": true
   },
   "outputs": [
    {
     "name": "stdout",
     "output_type": "stream",
     "text": [
      "<class 'pandas.core.frame.DataFrame'>\n",
      "RangeIndex: 1258 entries, 0 to 1257\n",
      "Data columns (total 7 columns):\n",
      " #   Column     Non-Null Count  Dtype         \n",
      "---  ------     --------------  -----         \n",
      " 0   Date       1258 non-null   datetime64[ns]\n",
      " 1   Open       1258 non-null   float64       \n",
      " 2   High       1258 non-null   float64       \n",
      " 3   Low        1258 non-null   float64       \n",
      " 4   Close      1258 non-null   float64       \n",
      " 5   Volume     1258 non-null   int64         \n",
      " 6   Adj Close  1258 non-null   float64       \n",
      "dtypes: datetime64[ns](1), float64(5), int64(1)\n",
      "memory usage: 68.9 KB\n"
     ]
    }
   ],
   "source": [
    "# Date: object -> datetime 타입의 컬럼으로 변환\n",
    "df['Date'] = pd.to_datetime(df['Date'])\n",
    "df.info()"
   ]
  },
  {
   "cell_type": "code",
   "execution_count": 88,
   "id": "18f84cd4",
   "metadata": {
    "ExecuteTime": {
     "end_time": "2023-01-12T07:36:06.132207Z",
     "start_time": "2023-01-12T07:36:06.109785Z"
    },
    "collapsed": true
   },
   "outputs": [
    {
     "name": "stdout",
     "output_type": "stream",
     "text": [
      "<class 'pandas.core.frame.DataFrame'>\n",
      "RangeIndex: 1258 entries, 0 to 1257\n",
      "Data columns (total 7 columns):\n",
      " #   Column     Non-Null Count  Dtype         \n",
      "---  ------     --------------  -----         \n",
      " 0   Date       1258 non-null   datetime64[ns]\n",
      " 1   Open       1258 non-null   float64       \n",
      " 2   High       1258 non-null   float64       \n",
      " 3   Low        1258 non-null   float64       \n",
      " 4   Close      1258 non-null   float64       \n",
      " 5   Volume     1258 non-null   int64         \n",
      " 6   Adj Close  1258 non-null   float64       \n",
      "dtypes: datetime64[ns](1), float64(5), int64(1)\n",
      "memory usage: 68.9 KB\n"
     ]
    }
   ],
   "source": [
    "df2['Date'] = df2['Date'].astype(\"datetime64\")\n",
    "df2.info()"
   ]
  },
  {
   "cell_type": "code",
   "execution_count": 89,
   "id": "adbb0064",
   "metadata": {
    "ExecuteTime": {
     "end_time": "2023-01-12T07:39:21.209588Z",
     "start_time": "2023-01-12T07:39:21.187961Z"
    }
   },
   "outputs": [
    {
     "name": "stdout",
     "output_type": "stream",
     "text": [
      "<class 'pandas.core.frame.DataFrame'>\n",
      "RangeIndex: 1258 entries, 0 to 1257\n",
      "Data columns (total 7 columns):\n",
      " #   Column     Non-Null Count  Dtype         \n",
      "---  ------     --------------  -----         \n",
      " 0   Date       1258 non-null   datetime64[ns]\n",
      " 1   Open       1258 non-null   float64       \n",
      " 2   High       1258 non-null   float64       \n",
      " 3   Low        1258 non-null   float64       \n",
      " 4   Close      1258 non-null   float64       \n",
      " 5   Volume     1258 non-null   int64         \n",
      " 6   Adj Close  1258 non-null   float64       \n",
      "dtypes: datetime64[ns](1), float64(5), int64(1)\n",
      "memory usage: 68.9 KB\n"
     ]
    }
   ],
   "source": [
    "df3 = pd.read_csv('data/walmart_stock.csv', parse_dates=[0])  # 0번째 컬럼은 datetime 타입으로 변환해라.\n",
    "df3.info()"
   ]
  },
  {
   "cell_type": "markdown",
   "id": "c4a54404",
   "metadata": {
    "slideshow": {
     "slide_type": "subslide"
    }
   },
   "source": [
    "### Timestamp 간 연산 및 TimeDelta\n",
    "- element-wise  연산"
   ]
  },
  {
   "cell_type": "code",
   "execution_count": 92,
   "id": "b7f72000",
   "metadata": {
    "ExecuteTime": {
     "end_time": "2023-01-12T07:43:53.883553Z",
     "start_time": "2023-01-12T07:43:53.868927Z"
    },
    "slideshow": {
     "slide_type": "fragment"
    }
   },
   "outputs": [
    {
     "data": {
      "text/plain": [
       "dtype('<M8[ns]')"
      ]
     },
     "execution_count": 92,
     "metadata": {},
     "output_type": "execute_result"
    }
   ],
   "source": [
    "s1 = pd.to_datetime(pd.Series(['2010-01-01', '2010-03-01', '2010-06-01']))\n",
    "s2 = pd.to_datetime(pd.Series(['2012-01-01', '2012-03-01', '2012-06-01']))\n",
    "s2.dtype"
   ]
  },
  {
   "cell_type": "code",
   "execution_count": 94,
   "id": "9be10da0",
   "metadata": {
    "ExecuteTime": {
     "end_time": "2023-01-12T07:44:37.565510Z",
     "start_time": "2023-01-12T07:44:37.552089Z"
    }
   },
   "outputs": [
    {
     "data": {
      "text/plain": [
       "0   730 days\n",
       "1   731 days\n",
       "2   731 days\n",
       "dtype: timedelta64[ns]"
      ]
     },
     "execution_count": 94,
     "metadata": {},
     "output_type": "execute_result"
    }
   ],
   "source": [
    "result = s2 - s1 # 같은 index의 원소끼리의 날짜 차이 계산\n",
    "result"
   ]
  },
  {
   "cell_type": "code",
   "execution_count": 95,
   "id": "fc4f5962",
   "metadata": {
    "ExecuteTime": {
     "end_time": "2023-01-12T07:44:45.954365Z",
     "start_time": "2023-01-12T07:44:45.947231Z"
    }
   },
   "outputs": [
    {
     "data": {
      "text/plain": [
       "Timedelta('730 days 00:00:00')"
      ]
     },
     "execution_count": 95,
     "metadata": {},
     "output_type": "execute_result"
    }
   ],
   "source": [
    "result[0]"
   ]
  },
  {
   "cell_type": "code",
   "execution_count": 99,
   "id": "8f180847",
   "metadata": {
    "ExecuteTime": {
     "end_time": "2023-01-12T08:07:56.662749Z",
     "start_time": "2023-01-12T08:07:56.647722Z"
    }
   },
   "outputs": [
    {
     "data": {
      "text/plain": [
       "0   2009-12-15\n",
       "1   2010-02-12\n",
       "2   2010-05-15\n",
       "dtype: datetime64[ns]"
      ]
     },
     "execution_count": 99,
     "metadata": {},
     "output_type": "execute_result"
    }
   ],
   "source": [
    "# TimeDelta 객체 생성\n",
    "# 간격: days, seconds, millseconds, microseconds, minutes, hours, weeks)\n",
    "t_delta = pd.Timedelta(days=3)\n",
    "t_delta = pd.Timedelta(weeks=2, days=3)\n",
    "s1 + t_delta  # s1의 날짜에서 3일후 날짜를 계산 => element-wise 연산\n",
    "s1 - t_delta"
   ]
  },
  {
   "cell_type": "markdown",
   "id": "b7743ec6",
   "metadata": {
    "slideshow": {
     "slide_type": "slide"
    }
   },
   "source": [
    "# 시계열 데이터셋\n",
    "\n",
    "- 판다스에서 시계열 데이터셋의 가장 기본적인 형태는 Index가 datetime 타입인 Series나 DataFrame 객체이다.\n",
    "    - DateTimeIndex: datetime 타입의 index 타입"
   ]
  },
  {
   "cell_type": "code",
   "execution_count": 12,
   "id": "7f5090fe",
   "metadata": {
    "ExecuteTime": {
     "end_time": "2023-01-13T01:02:00.588011Z",
     "start_time": "2023-01-13T01:02:00.564017Z"
    },
    "collapsed": true,
    "slideshow": {
     "slide_type": "fragment"
    }
   },
   "outputs": [
    {
     "name": "stdout",
     "output_type": "stream",
     "text": [
      "<class 'pandas.core.series.Series'>\n",
      "DatetimeIndex: 24 entries, 2022-01-01 to 2023-03-04\n",
      "Series name: None\n",
      "Non-Null Count  Dtype  \n",
      "--------------  -----  \n",
      "24 non-null     float64\n",
      "dtypes: float64(1)\n",
      "memory usage: 384.0 bytes\n"
     ]
    },
    {
     "data": {
      "text/plain": [
       "2022-01-01    1.764052\n",
       "2022-01-02    0.400157\n",
       "2022-01-03    0.978738\n",
       "2022-01-04    2.240893\n",
       "2022-02-01    1.867558\n",
       "2022-02-02   -0.977278\n",
       "2022-02-03    0.950088\n",
       "2022-02-04   -0.151357\n",
       "2022-03-01   -0.103219\n",
       "2022-03-02    0.410599\n",
       "2022-03-03    0.144044\n",
       "2022-03-04    1.454274\n",
       "2023-01-01    0.761038\n",
       "2023-01-02    0.121675\n",
       "2023-01-03    0.443863\n",
       "2023-01-04    0.333674\n",
       "2023-02-01    1.494079\n",
       "2023-02-02   -0.205158\n",
       "2023-02-03    0.313068\n",
       "2023-02-04   -0.854096\n",
       "2023-03-01   -2.552990\n",
       "2023-03-02    0.653619\n",
       "2023-03-03    0.864436\n",
       "2023-03-04   -0.742165\n",
       "dtype: float64"
      ]
     },
     "execution_count": 12,
     "metadata": {},
     "output_type": "execute_result"
    }
   ],
   "source": [
    "from datetime import datetime\n",
    "import pandas as pd\n",
    "import numpy as np\n",
    "\n",
    "dates = [\n",
    "    datetime(2022, 1, 1),datetime(2022, 1, 2),\n",
    "    datetime(2022, 1, 3),datetime(2022, 1, 4),\n",
    "    datetime(2022, 2, 1),datetime(2022, 2, 2),\n",
    "    datetime(2022, 2, 3),datetime(2022, 2, 4),\n",
    "    datetime(2022, 3, 1),datetime(2022, 3, 2),\n",
    "    datetime(2022, 3, 3),datetime(2022, 3, 4),\n",
    "    datetime(2023, 1, 1),datetime(2023, 1, 2),\n",
    "    datetime(2023, 1, 3),datetime(2023, 1, 4),\n",
    "    datetime(2023, 2, 1),datetime(2023, 2, 2),\n",
    "    datetime(2023, 2, 3),datetime(2023, 2, 4),\n",
    "    datetime(2023, 3, 1),datetime(2023, 3, 2),\n",
    "    datetime(2023, 3, 3),datetime(2023, 3, 4),\n",
    "]\n",
    "np.random.seed(0)\n",
    "values = np.random.standard_normal(size=24)  # 표준정규분포(평균:0, 표준편차:1) 난수\n",
    "\n",
    "s = pd.Series(values, index=dates)\n",
    "s.info()\n",
    "s"
   ]
  },
  {
   "cell_type": "code",
   "execution_count": 2,
   "id": "907358a9",
   "metadata": {
    "ExecuteTime": {
     "end_time": "2023-01-13T00:25:37.078655Z",
     "start_time": "2023-01-13T00:25:37.068544Z"
    },
    "collapsed": true
   },
   "outputs": [
    {
     "data": {
      "text/plain": [
       "DatetimeIndex(['2022-01-01', '2022-01-02', '2022-01-03', '2022-01-04',\n",
       "               '2022-02-01', '2022-02-02', '2022-02-03', '2022-02-04',\n",
       "               '2022-03-01', '2022-03-02', '2022-03-03', '2022-03-04',\n",
       "               '2023-01-01', '2023-01-02', '2023-01-03', '2023-01-04',\n",
       "               '2023-02-01', '2023-02-02', '2023-02-03', '2023-02-04',\n",
       "               '2023-03-01', '2023-03-02', '2023-03-03', '2023-03-04'],\n",
       "              dtype='datetime64[ns]', freq=None)"
      ]
     },
     "execution_count": 2,
     "metadata": {},
     "output_type": "execute_result"
    }
   ],
   "source": [
    "s.index"
   ]
  },
  {
   "cell_type": "code",
   "execution_count": 105,
   "id": "e0c313d7",
   "metadata": {
    "ExecuteTime": {
     "end_time": "2023-01-12T08:21:33.582920Z",
     "start_time": "2023-01-12T08:21:33.572626Z"
    }
   },
   "outputs": [
    {
     "data": {
      "text/plain": [
       "Timestamp('2022-01-01 00:00:00')"
      ]
     },
     "execution_count": 105,
     "metadata": {},
     "output_type": "execute_result"
    }
   ],
   "source": [
    "s.index[0]  #DateTimeIndex의 원소들은  Timestamp 타입."
   ]
  },
  {
   "cell_type": "markdown",
   "id": "8b37f70c",
   "metadata": {
    "slideshow": {
     "slide_type": "subslide"
    }
   },
   "source": [
    "## DatatimeIndex indexing 과 slicing\n",
    "- Index가 Datetime 타입일 경우(DatetimeIndex) 날짜 시간의 각 요소들(ex: 년도, 월, 시간등등)을 이용해 다양한 조회가 가능하다."
   ]
  },
  {
   "cell_type": "code",
   "execution_count": 3,
   "id": "f43ba1c6",
   "metadata": {
    "ExecuteTime": {
     "end_time": "2023-01-13T00:26:52.681017Z",
     "start_time": "2023-01-13T00:26:52.648884Z"
    }
   },
   "outputs": [
    {
     "data": {
      "text/plain": [
       "0.4001572083672233"
      ]
     },
     "execution_count": 3,
     "metadata": {},
     "output_type": "execute_result"
    }
   ],
   "source": [
    "# indexing - 문자열로 조회\n",
    "# s[pd.Timestamp(2022, 1, 1)]\n",
    "s['2022-01-02']"
   ]
  },
  {
   "cell_type": "code",
   "execution_count": 5,
   "id": "e0a069f0",
   "metadata": {
    "ExecuteTime": {
     "end_time": "2023-01-13T00:27:15.765809Z",
     "start_time": "2023-01-13T00:27:15.746297Z"
    }
   },
   "outputs": [
    {
     "data": {
      "text/plain": [
       "2022-02-01    1.867558\n",
       "2022-02-02   -0.977278\n",
       "2022-02-03    0.950088\n",
       "2022-02-04   -0.151357\n",
       "dtype: float64"
      ]
     },
     "execution_count": 5,
     "metadata": {},
     "output_type": "execute_result"
    }
   ],
   "source": [
    "# 부분일치 조회\n",
    "s['2022']  # 2022년 원소들\n",
    "s['2022-02'] # 2022년 2월 원소들"
   ]
  },
  {
   "cell_type": "code",
   "execution_count": 23,
   "id": "80bfe592",
   "metadata": {
    "ExecuteTime": {
     "end_time": "2023-01-13T01:05:15.593215Z",
     "start_time": "2023-01-13T01:05:15.562473Z"
    }
   },
   "outputs": [
    {
     "data": {
      "text/plain": [
       "array([ True,  True,  True,  True,  True,  True,  True,  True,  True,\n",
       "        True,  True,  True,  True,  True,  True,  True,  True,  True,\n",
       "        True,  True,  True,  True,  True,  True])"
      ]
     },
     "execution_count": 23,
     "metadata": {},
     "output_type": "execute_result"
    }
   ],
   "source": [
    "s.index.year.isin([2022,2023])"
   ]
  },
  {
   "cell_type": "code",
   "execution_count": 28,
   "id": "fffd5d5a",
   "metadata": {
    "ExecuteTime": {
     "end_time": "2023-01-13T01:06:39.577612Z",
     "start_time": "2023-01-13T01:06:39.567564Z"
    },
    "collapsed": true
   },
   "outputs": [
    {
     "data": {
      "text/plain": [
       "2022-02-01    1.867558\n",
       "2022-02-02   -0.977278\n",
       "2022-02-03    0.950088\n",
       "2022-02-04   -0.151357\n",
       "2023-02-01    1.494079\n",
       "2023-02-02   -0.205158\n",
       "2023-02-03    0.313068\n",
       "2023-02-04   -0.854096\n",
       "dtype: float64"
      ]
     },
     "execution_count": 28,
     "metadata": {},
     "output_type": "execute_result"
    }
   ],
   "source": [
    "s[(s.index.month == 2) & s.index.year.isin([2022,2023])]"
   ]
  },
  {
   "cell_type": "code",
   "execution_count": 29,
   "id": "a688d364",
   "metadata": {
    "ExecuteTime": {
     "end_time": "2023-01-13T01:07:21.928529Z",
     "start_time": "2023-01-13T01:07:21.915137Z"
    },
    "collapsed": true
   },
   "outputs": [
    {
     "data": {
      "text/plain": [
       "2022-01-03    0.978738\n",
       "2022-02-03    0.950088\n",
       "2022-03-03    0.144044\n",
       "2023-01-03    0.443863\n",
       "2023-02-03    0.313068\n",
       "2023-03-03    0.864436\n",
       "dtype: float64"
      ]
     },
     "execution_count": 29,
     "metadata": {},
     "output_type": "execute_result"
    }
   ],
   "source": [
    "s[s.index.day == 3]"
   ]
  },
  {
   "cell_type": "markdown",
   "id": "d16307c7",
   "metadata": {
    "slideshow": {
     "slide_type": "subslide"
    }
   },
   "source": [
    "### slicing\n",
    "- 부분 매칭(날짜/시간의 특정 요소만으로 매칭)으로 slicing이 가능하다."
   ]
  },
  {
   "cell_type": "code",
   "execution_count": 7,
   "id": "b1a04cf6",
   "metadata": {
    "ExecuteTime": {
     "end_time": "2023-01-13T00:28:00.480129Z",
     "start_time": "2023-01-13T00:28:00.458032Z"
    }
   },
   "outputs": [
    {
     "data": {
      "text/plain": [
       "2022-02-02   -0.977278\n",
       "2022-03-01   -0.103219\n",
       "2022-03-04    1.454274\n",
       "2023-01-03    0.443863\n",
       "dtype: float64"
      ]
     },
     "execution_count": 7,
     "metadata": {},
     "output_type": "execute_result"
    }
   ],
   "source": [
    "s['2022-02-02':'2023-01-03']  #start, stop 포함.\n",
    "s['2022-02-02':'2023-01-03':3]"
   ]
  },
  {
   "cell_type": "code",
   "execution_count": 115,
   "id": "8315dff0",
   "metadata": {
    "ExecuteTime": {
     "end_time": "2023-01-12T08:28:54.316406Z",
     "start_time": "2023-01-12T08:28:54.308435Z"
    },
    "collapsed": true
   },
   "outputs": [
    {
     "data": {
      "text/plain": [
       "2022-01-01    1.764052\n",
       "2022-01-02    0.400157\n",
       "2022-01-03    0.978738\n",
       "2022-01-04    2.240893\n",
       "2022-02-01    1.867558\n",
       "2022-02-02   -0.977278\n",
       "2022-02-03    0.950088\n",
       "2022-02-04   -0.151357\n",
       "2022-03-01   -0.103219\n",
       "2022-03-02    0.410599\n",
       "2022-03-03    0.144044\n",
       "2022-03-04    1.454274\n",
       "2023-01-01    0.761038\n",
       "2023-01-02    0.121675\n",
       "2023-01-03    0.443863\n",
       "2023-01-04    0.333674\n",
       "2023-02-01    1.494079\n",
       "2023-02-02   -0.205158\n",
       "2023-02-03    0.313068\n",
       "2023-02-04   -0.854096\n",
       "dtype: float64"
      ]
     },
     "execution_count": 115,
     "metadata": {},
     "output_type": "execute_result"
    }
   ],
   "source": [
    "s['2022-01': '2022-02']\n",
    "s['2022-01': '2023-02']  # 2022년 1월 1일 ~ 2023년 2월 28(마지막날)"
   ]
  },
  {
   "cell_type": "code",
   "execution_count": 116,
   "id": "90857cba",
   "metadata": {
    "ExecuteTime": {
     "end_time": "2023-01-12T08:30:16.955467Z",
     "start_time": "2023-01-12T08:30:16.944255Z"
    },
    "collapsed": true
   },
   "outputs": [
    {
     "data": {
      "text/plain": [
       "2022-01-01    1.764052\n",
       "2022-01-02    0.400157\n",
       "2022-01-03    0.978738\n",
       "2022-01-04    2.240893\n",
       "2022-02-01    1.867558\n",
       "2022-02-02   -0.977278\n",
       "2022-02-03    0.950088\n",
       "2022-02-04   -0.151357\n",
       "2022-03-01   -0.103219\n",
       "2022-03-02    0.410599\n",
       "2022-03-03    0.144044\n",
       "2022-03-04    1.454274\n",
       "2023-01-01    0.761038\n",
       "2023-01-02    0.121675\n",
       "2023-01-03    0.443863\n",
       "2023-01-04    0.333674\n",
       "2023-02-01    1.494079\n",
       "2023-02-02   -0.205158\n",
       "2023-02-03    0.313068\n",
       "2023-02-04   -0.854096\n",
       "2023-03-01   -2.552990\n",
       "2023-03-02    0.653619\n",
       "2023-03-03    0.864436\n",
       "2023-03-04   -0.742165\n",
       "dtype: float64"
      ]
     },
     "execution_count": 116,
     "metadata": {},
     "output_type": "execute_result"
    }
   ],
   "source": [
    "s['2022':'2023']  #2022년 1월 1일 ~ 2023년 12월 31일"
   ]
  },
  {
   "cell_type": "code",
   "execution_count": 10,
   "id": "1632225c",
   "metadata": {
    "ExecuteTime": {
     "end_time": "2023-01-13T00:30:02.259271Z",
     "start_time": "2023-01-13T00:30:02.231993Z"
    }
   },
   "outputs": [
    {
     "data": {
      "text/html": [
       "<div>\n",
       "<style scoped>\n",
       "    .dataframe tbody tr th:only-of-type {\n",
       "        vertical-align: middle;\n",
       "    }\n",
       "\n",
       "    .dataframe tbody tr th {\n",
       "        vertical-align: top;\n",
       "    }\n",
       "\n",
       "    .dataframe thead th {\n",
       "        text-align: right;\n",
       "    }\n",
       "</style>\n",
       "<table border=\"1\" class=\"dataframe\">\n",
       "  <thead>\n",
       "    <tr style=\"text-align: right;\">\n",
       "      <th></th>\n",
       "      <th>Open</th>\n",
       "      <th>High</th>\n",
       "      <th>Low</th>\n",
       "      <th>Close</th>\n",
       "      <th>Volume</th>\n",
       "      <th>Adj Close</th>\n",
       "    </tr>\n",
       "    <tr>\n",
       "      <th>Date</th>\n",
       "      <th></th>\n",
       "      <th></th>\n",
       "      <th></th>\n",
       "      <th></th>\n",
       "      <th></th>\n",
       "      <th></th>\n",
       "    </tr>\n",
       "  </thead>\n",
       "  <tbody>\n",
       "    <tr>\n",
       "      <th>2012-01-03</th>\n",
       "      <td>59.970001</td>\n",
       "      <td>61.060001</td>\n",
       "      <td>59.869999</td>\n",
       "      <td>60.330002</td>\n",
       "      <td>12668800</td>\n",
       "      <td>52.619235</td>\n",
       "    </tr>\n",
       "    <tr>\n",
       "      <th>2012-01-04</th>\n",
       "      <td>60.209999</td>\n",
       "      <td>60.349998</td>\n",
       "      <td>59.470001</td>\n",
       "      <td>59.709999</td>\n",
       "      <td>9593300</td>\n",
       "      <td>52.078475</td>\n",
       "    </tr>\n",
       "    <tr>\n",
       "      <th>2012-01-05</th>\n",
       "      <td>59.349998</td>\n",
       "      <td>59.619999</td>\n",
       "      <td>58.369999</td>\n",
       "      <td>59.419998</td>\n",
       "      <td>12768200</td>\n",
       "      <td>51.825539</td>\n",
       "    </tr>\n",
       "    <tr>\n",
       "      <th>2012-01-06</th>\n",
       "      <td>59.419998</td>\n",
       "      <td>59.450001</td>\n",
       "      <td>58.869999</td>\n",
       "      <td>59.000000</td>\n",
       "      <td>8069400</td>\n",
       "      <td>51.459220</td>\n",
       "    </tr>\n",
       "    <tr>\n",
       "      <th>2012-01-09</th>\n",
       "      <td>59.029999</td>\n",
       "      <td>59.549999</td>\n",
       "      <td>58.919998</td>\n",
       "      <td>59.180000</td>\n",
       "      <td>6679300</td>\n",
       "      <td>51.616215</td>\n",
       "    </tr>\n",
       "    <tr>\n",
       "      <th>...</th>\n",
       "      <td>...</td>\n",
       "      <td>...</td>\n",
       "      <td>...</td>\n",
       "      <td>...</td>\n",
       "      <td>...</td>\n",
       "      <td>...</td>\n",
       "    </tr>\n",
       "    <tr>\n",
       "      <th>2016-12-23</th>\n",
       "      <td>69.430000</td>\n",
       "      <td>69.750000</td>\n",
       "      <td>69.360001</td>\n",
       "      <td>69.540001</td>\n",
       "      <td>4803900</td>\n",
       "      <td>69.032411</td>\n",
       "    </tr>\n",
       "    <tr>\n",
       "      <th>2016-12-27</th>\n",
       "      <td>69.300003</td>\n",
       "      <td>69.820000</td>\n",
       "      <td>69.250000</td>\n",
       "      <td>69.699997</td>\n",
       "      <td>4435700</td>\n",
       "      <td>69.191240</td>\n",
       "    </tr>\n",
       "    <tr>\n",
       "      <th>2016-12-28</th>\n",
       "      <td>69.940002</td>\n",
       "      <td>70.000000</td>\n",
       "      <td>69.260002</td>\n",
       "      <td>69.309998</td>\n",
       "      <td>4875700</td>\n",
       "      <td>68.804087</td>\n",
       "    </tr>\n",
       "    <tr>\n",
       "      <th>2016-12-29</th>\n",
       "      <td>69.209999</td>\n",
       "      <td>69.519997</td>\n",
       "      <td>69.120003</td>\n",
       "      <td>69.260002</td>\n",
       "      <td>4298400</td>\n",
       "      <td>68.754456</td>\n",
       "    </tr>\n",
       "    <tr>\n",
       "      <th>2016-12-30</th>\n",
       "      <td>69.120003</td>\n",
       "      <td>69.430000</td>\n",
       "      <td>68.830002</td>\n",
       "      <td>69.120003</td>\n",
       "      <td>6889500</td>\n",
       "      <td>68.615479</td>\n",
       "    </tr>\n",
       "  </tbody>\n",
       "</table>\n",
       "<p>1258 rows × 6 columns</p>\n",
       "</div>"
      ],
      "text/plain": [
       "                 Open       High        Low      Close    Volume  Adj Close\n",
       "Date                                                                       \n",
       "2012-01-03  59.970001  61.060001  59.869999  60.330002  12668800  52.619235\n",
       "2012-01-04  60.209999  60.349998  59.470001  59.709999   9593300  52.078475\n",
       "2012-01-05  59.349998  59.619999  58.369999  59.419998  12768200  51.825539\n",
       "2012-01-06  59.419998  59.450001  58.869999  59.000000   8069400  51.459220\n",
       "2012-01-09  59.029999  59.549999  58.919998  59.180000   6679300  51.616215\n",
       "...               ...        ...        ...        ...       ...        ...\n",
       "2016-12-23  69.430000  69.750000  69.360001  69.540001   4803900  69.032411\n",
       "2016-12-27  69.300003  69.820000  69.250000  69.699997   4435700  69.191240\n",
       "2016-12-28  69.940002  70.000000  69.260002  69.309998   4875700  68.804087\n",
       "2016-12-29  69.209999  69.519997  69.120003  69.260002   4298400  68.754456\n",
       "2016-12-30  69.120003  69.430000  68.830002  69.120003   6889500  68.615479\n",
       "\n",
       "[1258 rows x 6 columns]"
      ]
     },
     "execution_count": 10,
     "metadata": {},
     "output_type": "execute_result"
    }
   ],
   "source": [
    "df = pd.read_csv('data/walmart_stock.csv', parse_dates=[0], index_col=0)\n",
    "df"
   ]
  },
  {
   "cell_type": "code",
   "execution_count": 118,
   "id": "5bc93932",
   "metadata": {
    "ExecuteTime": {
     "end_time": "2023-01-12T08:31:59.934883Z",
     "start_time": "2023-01-12T08:31:59.916122Z"
    },
    "slideshow": {
     "slide_type": "fragment"
    }
   },
   "outputs": [
    {
     "data": {
      "text/plain": [
       "DatetimeIndex(['2012-01-03', '2012-01-04', '2012-01-05', '2012-01-06',\n",
       "               '2012-01-09', '2012-01-10', '2012-01-11', '2012-01-12',\n",
       "               '2012-01-13', '2012-01-17',\n",
       "               ...\n",
       "               '2016-12-16', '2016-12-19', '2016-12-20', '2016-12-21',\n",
       "               '2016-12-22', '2016-12-23', '2016-12-27', '2016-12-28',\n",
       "               '2016-12-29', '2016-12-30'],\n",
       "              dtype='datetime64[ns]', name='Date', length=1258, freq=None)"
      ]
     },
     "execution_count": 118,
     "metadata": {},
     "output_type": "execute_result"
    }
   ],
   "source": [
    "df.index"
   ]
  },
  {
   "cell_type": "code",
   "execution_count": 119,
   "id": "63f57346",
   "metadata": {
    "ExecuteTime": {
     "end_time": "2023-01-12T08:32:59.828192Z",
     "start_time": "2023-01-12T08:32:59.805572Z"
    }
   },
   "outputs": [
    {
     "data": {
      "text/plain": [
       "Open         5.997000e+01\n",
       "High         6.106000e+01\n",
       "Low          5.987000e+01\n",
       "Close        6.033000e+01\n",
       "Volume       1.266880e+07\n",
       "Adj Close    5.261924e+01\n",
       "Name: 2012-01-03 00:00:00, dtype: float64"
      ]
     },
     "execution_count": 119,
     "metadata": {},
     "output_type": "execute_result"
    }
   ],
   "source": [
    "df.loc['2012-01-03']"
   ]
  },
  {
   "cell_type": "code",
   "execution_count": 121,
   "id": "80080c8d",
   "metadata": {
    "ExecuteTime": {
     "end_time": "2023-01-12T08:33:58.401290Z",
     "start_time": "2023-01-12T08:33:58.368163Z"
    },
    "collapsed": true
   },
   "outputs": [
    {
     "data": {
      "text/html": [
       "<div>\n",
       "<style scoped>\n",
       "    .dataframe tbody tr th:only-of-type {\n",
       "        vertical-align: middle;\n",
       "    }\n",
       "\n",
       "    .dataframe tbody tr th {\n",
       "        vertical-align: top;\n",
       "    }\n",
       "\n",
       "    .dataframe thead th {\n",
       "        text-align: right;\n",
       "    }\n",
       "</style>\n",
       "<table border=\"1\" class=\"dataframe\">\n",
       "  <thead>\n",
       "    <tr style=\"text-align: right;\">\n",
       "      <th></th>\n",
       "      <th>Open</th>\n",
       "      <th>High</th>\n",
       "      <th>Low</th>\n",
       "      <th>Close</th>\n",
       "      <th>Volume</th>\n",
       "      <th>Adj Close</th>\n",
       "    </tr>\n",
       "    <tr>\n",
       "      <th>Date</th>\n",
       "      <th></th>\n",
       "      <th></th>\n",
       "      <th></th>\n",
       "      <th></th>\n",
       "      <th></th>\n",
       "      <th></th>\n",
       "    </tr>\n",
       "  </thead>\n",
       "  <tbody>\n",
       "    <tr>\n",
       "      <th>2012-01-03</th>\n",
       "      <td>59.970001</td>\n",
       "      <td>61.060001</td>\n",
       "      <td>59.869999</td>\n",
       "      <td>60.330002</td>\n",
       "      <td>12668800</td>\n",
       "      <td>52.619235</td>\n",
       "    </tr>\n",
       "    <tr>\n",
       "      <th>2012-01-04</th>\n",
       "      <td>60.209999</td>\n",
       "      <td>60.349998</td>\n",
       "      <td>59.470001</td>\n",
       "      <td>59.709999</td>\n",
       "      <td>9593300</td>\n",
       "      <td>52.078475</td>\n",
       "    </tr>\n",
       "    <tr>\n",
       "      <th>2012-01-05</th>\n",
       "      <td>59.349998</td>\n",
       "      <td>59.619999</td>\n",
       "      <td>58.369999</td>\n",
       "      <td>59.419998</td>\n",
       "      <td>12768200</td>\n",
       "      <td>51.825539</td>\n",
       "    </tr>\n",
       "    <tr>\n",
       "      <th>2012-01-06</th>\n",
       "      <td>59.419998</td>\n",
       "      <td>59.450001</td>\n",
       "      <td>58.869999</td>\n",
       "      <td>59.000000</td>\n",
       "      <td>8069400</td>\n",
       "      <td>51.459220</td>\n",
       "    </tr>\n",
       "    <tr>\n",
       "      <th>2012-01-09</th>\n",
       "      <td>59.029999</td>\n",
       "      <td>59.549999</td>\n",
       "      <td>58.919998</td>\n",
       "      <td>59.180000</td>\n",
       "      <td>6679300</td>\n",
       "      <td>51.616215</td>\n",
       "    </tr>\n",
       "    <tr>\n",
       "      <th>2012-01-10</th>\n",
       "      <td>59.430000</td>\n",
       "      <td>59.709999</td>\n",
       "      <td>58.980000</td>\n",
       "      <td>59.040001</td>\n",
       "      <td>6907300</td>\n",
       "      <td>51.494109</td>\n",
       "    </tr>\n",
       "    <tr>\n",
       "      <th>2012-01-11</th>\n",
       "      <td>59.060001</td>\n",
       "      <td>59.529999</td>\n",
       "      <td>59.040001</td>\n",
       "      <td>59.400002</td>\n",
       "      <td>6365600</td>\n",
       "      <td>51.808098</td>\n",
       "    </tr>\n",
       "    <tr>\n",
       "      <th>2012-01-12</th>\n",
       "      <td>59.790001</td>\n",
       "      <td>60.000000</td>\n",
       "      <td>59.400002</td>\n",
       "      <td>59.500000</td>\n",
       "      <td>7236400</td>\n",
       "      <td>51.895316</td>\n",
       "    </tr>\n",
       "    <tr>\n",
       "      <th>2012-01-13</th>\n",
       "      <td>59.180000</td>\n",
       "      <td>59.610001</td>\n",
       "      <td>59.009998</td>\n",
       "      <td>59.540001</td>\n",
       "      <td>7729300</td>\n",
       "      <td>51.930204</td>\n",
       "    </tr>\n",
       "    <tr>\n",
       "      <th>2012-01-17</th>\n",
       "      <td>59.869999</td>\n",
       "      <td>60.110001</td>\n",
       "      <td>59.520000</td>\n",
       "      <td>59.849998</td>\n",
       "      <td>8500000</td>\n",
       "      <td>52.200581</td>\n",
       "    </tr>\n",
       "    <tr>\n",
       "      <th>2012-01-18</th>\n",
       "      <td>59.790001</td>\n",
       "      <td>60.029999</td>\n",
       "      <td>59.650002</td>\n",
       "      <td>60.009998</td>\n",
       "      <td>5911400</td>\n",
       "      <td>52.340131</td>\n",
       "    </tr>\n",
       "    <tr>\n",
       "      <th>2012-01-19</th>\n",
       "      <td>59.930000</td>\n",
       "      <td>60.730000</td>\n",
       "      <td>59.750000</td>\n",
       "      <td>60.610001</td>\n",
       "      <td>9234600</td>\n",
       "      <td>52.863447</td>\n",
       "    </tr>\n",
       "    <tr>\n",
       "      <th>2012-01-20</th>\n",
       "      <td>60.750000</td>\n",
       "      <td>61.250000</td>\n",
       "      <td>60.669998</td>\n",
       "      <td>61.009998</td>\n",
       "      <td>10378800</td>\n",
       "      <td>53.212321</td>\n",
       "    </tr>\n",
       "  </tbody>\n",
       "</table>\n",
       "</div>"
      ],
      "text/plain": [
       "                 Open       High        Low      Close    Volume  Adj Close\n",
       "Date                                                                       \n",
       "2012-01-03  59.970001  61.060001  59.869999  60.330002  12668800  52.619235\n",
       "2012-01-04  60.209999  60.349998  59.470001  59.709999   9593300  52.078475\n",
       "2012-01-05  59.349998  59.619999  58.369999  59.419998  12768200  51.825539\n",
       "2012-01-06  59.419998  59.450001  58.869999  59.000000   8069400  51.459220\n",
       "2012-01-09  59.029999  59.549999  58.919998  59.180000   6679300  51.616215\n",
       "2012-01-10  59.430000  59.709999  58.980000  59.040001   6907300  51.494109\n",
       "2012-01-11  59.060001  59.529999  59.040001  59.400002   6365600  51.808098\n",
       "2012-01-12  59.790001  60.000000  59.400002  59.500000   7236400  51.895316\n",
       "2012-01-13  59.180000  59.610001  59.009998  59.540001   7729300  51.930204\n",
       "2012-01-17  59.869999  60.110001  59.520000  59.849998   8500000  52.200581\n",
       "2012-01-18  59.790001  60.029999  59.650002  60.009998   5911400  52.340131\n",
       "2012-01-19  59.930000  60.730000  59.750000  60.610001   9234600  52.863447\n",
       "2012-01-20  60.750000  61.250000  60.669998  61.009998  10378800  53.212321"
      ]
     },
     "execution_count": 121,
     "metadata": {},
     "output_type": "execute_result"
    }
   ],
   "source": [
    "df.loc['2012-01-03': '2012/01/20']"
   ]
  },
  {
   "cell_type": "code",
   "execution_count": 122,
   "id": "77fb7207",
   "metadata": {
    "ExecuteTime": {
     "end_time": "2023-01-12T08:34:21.461862Z",
     "start_time": "2023-01-12T08:34:21.442612Z"
    },
    "collapsed": true
   },
   "outputs": [
    {
     "data": {
      "text/html": [
       "<div>\n",
       "<style scoped>\n",
       "    .dataframe tbody tr th:only-of-type {\n",
       "        vertical-align: middle;\n",
       "    }\n",
       "\n",
       "    .dataframe tbody tr th {\n",
       "        vertical-align: top;\n",
       "    }\n",
       "\n",
       "    .dataframe thead th {\n",
       "        text-align: right;\n",
       "    }\n",
       "</style>\n",
       "<table border=\"1\" class=\"dataframe\">\n",
       "  <thead>\n",
       "    <tr style=\"text-align: right;\">\n",
       "      <th></th>\n",
       "      <th>Open</th>\n",
       "      <th>High</th>\n",
       "      <th>Low</th>\n",
       "      <th>Close</th>\n",
       "      <th>Volume</th>\n",
       "      <th>Adj Close</th>\n",
       "    </tr>\n",
       "    <tr>\n",
       "      <th>Date</th>\n",
       "      <th></th>\n",
       "      <th></th>\n",
       "      <th></th>\n",
       "      <th></th>\n",
       "      <th></th>\n",
       "      <th></th>\n",
       "    </tr>\n",
       "  </thead>\n",
       "  <tbody>\n",
       "    <tr>\n",
       "      <th>2012-01-03</th>\n",
       "      <td>59.970001</td>\n",
       "      <td>61.060001</td>\n",
       "      <td>59.869999</td>\n",
       "      <td>60.330002</td>\n",
       "      <td>12668800</td>\n",
       "      <td>52.619235</td>\n",
       "    </tr>\n",
       "    <tr>\n",
       "      <th>2012-01-04</th>\n",
       "      <td>60.209999</td>\n",
       "      <td>60.349998</td>\n",
       "      <td>59.470001</td>\n",
       "      <td>59.709999</td>\n",
       "      <td>9593300</td>\n",
       "      <td>52.078475</td>\n",
       "    </tr>\n",
       "    <tr>\n",
       "      <th>2012-01-05</th>\n",
       "      <td>59.349998</td>\n",
       "      <td>59.619999</td>\n",
       "      <td>58.369999</td>\n",
       "      <td>59.419998</td>\n",
       "      <td>12768200</td>\n",
       "      <td>51.825539</td>\n",
       "    </tr>\n",
       "    <tr>\n",
       "      <th>2012-01-06</th>\n",
       "      <td>59.419998</td>\n",
       "      <td>59.450001</td>\n",
       "      <td>58.869999</td>\n",
       "      <td>59.000000</td>\n",
       "      <td>8069400</td>\n",
       "      <td>51.459220</td>\n",
       "    </tr>\n",
       "    <tr>\n",
       "      <th>2012-01-09</th>\n",
       "      <td>59.029999</td>\n",
       "      <td>59.549999</td>\n",
       "      <td>58.919998</td>\n",
       "      <td>59.180000</td>\n",
       "      <td>6679300</td>\n",
       "      <td>51.616215</td>\n",
       "    </tr>\n",
       "    <tr>\n",
       "      <th>2012-01-10</th>\n",
       "      <td>59.430000</td>\n",
       "      <td>59.709999</td>\n",
       "      <td>58.980000</td>\n",
       "      <td>59.040001</td>\n",
       "      <td>6907300</td>\n",
       "      <td>51.494109</td>\n",
       "    </tr>\n",
       "    <tr>\n",
       "      <th>2012-01-11</th>\n",
       "      <td>59.060001</td>\n",
       "      <td>59.529999</td>\n",
       "      <td>59.040001</td>\n",
       "      <td>59.400002</td>\n",
       "      <td>6365600</td>\n",
       "      <td>51.808098</td>\n",
       "    </tr>\n",
       "    <tr>\n",
       "      <th>2012-01-12</th>\n",
       "      <td>59.790001</td>\n",
       "      <td>60.000000</td>\n",
       "      <td>59.400002</td>\n",
       "      <td>59.500000</td>\n",
       "      <td>7236400</td>\n",
       "      <td>51.895316</td>\n",
       "    </tr>\n",
       "    <tr>\n",
       "      <th>2012-01-13</th>\n",
       "      <td>59.180000</td>\n",
       "      <td>59.610001</td>\n",
       "      <td>59.009998</td>\n",
       "      <td>59.540001</td>\n",
       "      <td>7729300</td>\n",
       "      <td>51.930204</td>\n",
       "    </tr>\n",
       "    <tr>\n",
       "      <th>2012-01-17</th>\n",
       "      <td>59.869999</td>\n",
       "      <td>60.110001</td>\n",
       "      <td>59.520000</td>\n",
       "      <td>59.849998</td>\n",
       "      <td>8500000</td>\n",
       "      <td>52.200581</td>\n",
       "    </tr>\n",
       "    <tr>\n",
       "      <th>2012-01-18</th>\n",
       "      <td>59.790001</td>\n",
       "      <td>60.029999</td>\n",
       "      <td>59.650002</td>\n",
       "      <td>60.009998</td>\n",
       "      <td>5911400</td>\n",
       "      <td>52.340131</td>\n",
       "    </tr>\n",
       "    <tr>\n",
       "      <th>2012-01-19</th>\n",
       "      <td>59.930000</td>\n",
       "      <td>60.730000</td>\n",
       "      <td>59.750000</td>\n",
       "      <td>60.610001</td>\n",
       "      <td>9234600</td>\n",
       "      <td>52.863447</td>\n",
       "    </tr>\n",
       "    <tr>\n",
       "      <th>2012-01-20</th>\n",
       "      <td>60.750000</td>\n",
       "      <td>61.250000</td>\n",
       "      <td>60.669998</td>\n",
       "      <td>61.009998</td>\n",
       "      <td>10378800</td>\n",
       "      <td>53.212321</td>\n",
       "    </tr>\n",
       "    <tr>\n",
       "      <th>2012-01-23</th>\n",
       "      <td>60.810001</td>\n",
       "      <td>60.980000</td>\n",
       "      <td>60.509998</td>\n",
       "      <td>60.910000</td>\n",
       "      <td>7134100</td>\n",
       "      <td>53.125104</td>\n",
       "    </tr>\n",
       "    <tr>\n",
       "      <th>2012-01-24</th>\n",
       "      <td>60.750000</td>\n",
       "      <td>62.000000</td>\n",
       "      <td>60.750000</td>\n",
       "      <td>61.389999</td>\n",
       "      <td>7362800</td>\n",
       "      <td>53.543754</td>\n",
       "    </tr>\n",
       "    <tr>\n",
       "      <th>2012-01-25</th>\n",
       "      <td>61.180000</td>\n",
       "      <td>61.610001</td>\n",
       "      <td>61.040001</td>\n",
       "      <td>61.470001</td>\n",
       "      <td>5915800</td>\n",
       "      <td>53.613531</td>\n",
       "    </tr>\n",
       "    <tr>\n",
       "      <th>2012-01-26</th>\n",
       "      <td>61.799999</td>\n",
       "      <td>61.840000</td>\n",
       "      <td>60.770000</td>\n",
       "      <td>60.970001</td>\n",
       "      <td>7436200</td>\n",
       "      <td>53.177436</td>\n",
       "    </tr>\n",
       "    <tr>\n",
       "      <th>2012-01-27</th>\n",
       "      <td>60.860001</td>\n",
       "      <td>61.119999</td>\n",
       "      <td>60.540001</td>\n",
       "      <td>60.709999</td>\n",
       "      <td>6287300</td>\n",
       "      <td>52.950665</td>\n",
       "    </tr>\n",
       "    <tr>\n",
       "      <th>2012-01-30</th>\n",
       "      <td>60.470001</td>\n",
       "      <td>61.320000</td>\n",
       "      <td>60.349998</td>\n",
       "      <td>61.299999</td>\n",
       "      <td>7636900</td>\n",
       "      <td>53.465257</td>\n",
       "    </tr>\n",
       "    <tr>\n",
       "      <th>2012-01-31</th>\n",
       "      <td>61.529999</td>\n",
       "      <td>61.570000</td>\n",
       "      <td>60.580002</td>\n",
       "      <td>61.360001</td>\n",
       "      <td>9761500</td>\n",
       "      <td>53.517590</td>\n",
       "    </tr>\n",
       "  </tbody>\n",
       "</table>\n",
       "</div>"
      ],
      "text/plain": [
       "                 Open       High        Low      Close    Volume  Adj Close\n",
       "Date                                                                       \n",
       "2012-01-03  59.970001  61.060001  59.869999  60.330002  12668800  52.619235\n",
       "2012-01-04  60.209999  60.349998  59.470001  59.709999   9593300  52.078475\n",
       "2012-01-05  59.349998  59.619999  58.369999  59.419998  12768200  51.825539\n",
       "2012-01-06  59.419998  59.450001  58.869999  59.000000   8069400  51.459220\n",
       "2012-01-09  59.029999  59.549999  58.919998  59.180000   6679300  51.616215\n",
       "2012-01-10  59.430000  59.709999  58.980000  59.040001   6907300  51.494109\n",
       "2012-01-11  59.060001  59.529999  59.040001  59.400002   6365600  51.808098\n",
       "2012-01-12  59.790001  60.000000  59.400002  59.500000   7236400  51.895316\n",
       "2012-01-13  59.180000  59.610001  59.009998  59.540001   7729300  51.930204\n",
       "2012-01-17  59.869999  60.110001  59.520000  59.849998   8500000  52.200581\n",
       "2012-01-18  59.790001  60.029999  59.650002  60.009998   5911400  52.340131\n",
       "2012-01-19  59.930000  60.730000  59.750000  60.610001   9234600  52.863447\n",
       "2012-01-20  60.750000  61.250000  60.669998  61.009998  10378800  53.212321\n",
       "2012-01-23  60.810001  60.980000  60.509998  60.910000   7134100  53.125104\n",
       "2012-01-24  60.750000  62.000000  60.750000  61.389999   7362800  53.543754\n",
       "2012-01-25  61.180000  61.610001  61.040001  61.470001   5915800  53.613531\n",
       "2012-01-26  61.799999  61.840000  60.770000  60.970001   7436200  53.177436\n",
       "2012-01-27  60.860001  61.119999  60.540001  60.709999   6287300  52.950665\n",
       "2012-01-30  60.470001  61.320000  60.349998  61.299999   7636900  53.465257\n",
       "2012-01-31  61.529999  61.570000  60.580002  61.360001   9761500  53.517590"
      ]
     },
     "execution_count": 122,
     "metadata": {},
     "output_type": "execute_result"
    }
   ],
   "source": [
    "df.loc['2012-01']"
   ]
  },
  {
   "cell_type": "code",
   "execution_count": 125,
   "id": "29c0d82e",
   "metadata": {
    "ExecuteTime": {
     "end_time": "2023-01-12T08:35:50.747351Z",
     "start_time": "2023-01-12T08:35:50.722321Z"
    },
    "collapsed": true
   },
   "outputs": [
    {
     "data": {
      "text/html": [
       "<div>\n",
       "<style scoped>\n",
       "    .dataframe tbody tr th:only-of-type {\n",
       "        vertical-align: middle;\n",
       "    }\n",
       "\n",
       "    .dataframe tbody tr th {\n",
       "        vertical-align: top;\n",
       "    }\n",
       "\n",
       "    .dataframe thead th {\n",
       "        text-align: right;\n",
       "    }\n",
       "</style>\n",
       "<table border=\"1\" class=\"dataframe\">\n",
       "  <thead>\n",
       "    <tr style=\"text-align: right;\">\n",
       "      <th></th>\n",
       "      <th>Open</th>\n",
       "      <th>High</th>\n",
       "      <th>Low</th>\n",
       "      <th>Close</th>\n",
       "      <th>Volume</th>\n",
       "      <th>Adj Close</th>\n",
       "    </tr>\n",
       "    <tr>\n",
       "      <th>Date</th>\n",
       "      <th></th>\n",
       "      <th></th>\n",
       "      <th></th>\n",
       "      <th></th>\n",
       "      <th></th>\n",
       "      <th></th>\n",
       "    </tr>\n",
       "  </thead>\n",
       "  <tbody>\n",
       "    <tr>\n",
       "      <th>2012-01-03</th>\n",
       "      <td>59.970001</td>\n",
       "      <td>61.060001</td>\n",
       "      <td>59.869999</td>\n",
       "      <td>60.330002</td>\n",
       "      <td>12668800</td>\n",
       "      <td>52.619235</td>\n",
       "    </tr>\n",
       "    <tr>\n",
       "      <th>2012-01-10</th>\n",
       "      <td>59.430000</td>\n",
       "      <td>59.709999</td>\n",
       "      <td>58.980000</td>\n",
       "      <td>59.040001</td>\n",
       "      <td>6907300</td>\n",
       "      <td>51.494109</td>\n",
       "    </tr>\n",
       "    <tr>\n",
       "      <th>2012-01-18</th>\n",
       "      <td>59.790001</td>\n",
       "      <td>60.029999</td>\n",
       "      <td>59.650002</td>\n",
       "      <td>60.009998</td>\n",
       "      <td>5911400</td>\n",
       "      <td>52.340131</td>\n",
       "    </tr>\n",
       "    <tr>\n",
       "      <th>2012-01-25</th>\n",
       "      <td>61.180000</td>\n",
       "      <td>61.610001</td>\n",
       "      <td>61.040001</td>\n",
       "      <td>61.470001</td>\n",
       "      <td>5915800</td>\n",
       "      <td>53.613531</td>\n",
       "    </tr>\n",
       "    <tr>\n",
       "      <th>2012-02-01</th>\n",
       "      <td>61.790001</td>\n",
       "      <td>62.630001</td>\n",
       "      <td>61.790001</td>\n",
       "      <td>62.180000</td>\n",
       "      <td>12130600</td>\n",
       "      <td>54.232785</td>\n",
       "    </tr>\n",
       "    <tr>\n",
       "      <th>2012-02-08</th>\n",
       "      <td>61.910000</td>\n",
       "      <td>62.020000</td>\n",
       "      <td>61.230000</td>\n",
       "      <td>61.619999</td>\n",
       "      <td>7260000</td>\n",
       "      <td>53.744358</td>\n",
       "    </tr>\n",
       "    <tr>\n",
       "      <th>2012-02-15</th>\n",
       "      <td>62.320000</td>\n",
       "      <td>62.439999</td>\n",
       "      <td>61.590000</td>\n",
       "      <td>61.759998</td>\n",
       "      <td>5833700</td>\n",
       "      <td>53.866464</td>\n",
       "    </tr>\n",
       "    <tr>\n",
       "      <th>2012-02-23</th>\n",
       "      <td>58.590000</td>\n",
       "      <td>58.900002</td>\n",
       "      <td>58.209999</td>\n",
       "      <td>58.540001</td>\n",
       "      <td>14880300</td>\n",
       "      <td>51.058014</td>\n",
       "    </tr>\n",
       "  </tbody>\n",
       "</table>\n",
       "</div>"
      ],
      "text/plain": [
       "                 Open       High        Low      Close    Volume  Adj Close\n",
       "Date                                                                       \n",
       "2012-01-03  59.970001  61.060001  59.869999  60.330002  12668800  52.619235\n",
       "2012-01-10  59.430000  59.709999  58.980000  59.040001   6907300  51.494109\n",
       "2012-01-18  59.790001  60.029999  59.650002  60.009998   5911400  52.340131\n",
       "2012-01-25  61.180000  61.610001  61.040001  61.470001   5915800  53.613531\n",
       "2012-02-01  61.790001  62.630001  61.790001  62.180000  12130600  54.232785\n",
       "2012-02-08  61.910000  62.020000  61.230000  61.619999   7260000  53.744358\n",
       "2012-02-15  62.320000  62.439999  61.590000  61.759998   5833700  53.866464\n",
       "2012-02-23  58.590000  58.900002  58.209999  58.540001  14880300  51.058014"
      ]
     },
     "execution_count": 125,
     "metadata": {},
     "output_type": "execute_result"
    }
   ],
   "source": [
    "df.loc['2012-01': '2012/02']\n",
    "df.loc['2012-01': '2012/02': 5]"
   ]
  },
  {
   "cell_type": "markdown",
   "id": "56ca1838",
   "metadata": {
    "slideshow": {
     "slide_type": "slide"
    }
   },
   "source": [
    "## DateOffsets\n",
    "- 빈도를 표현하는 타입이다.\n",
    "- DateOffsets 타입 객체나 문자 별칭을 이용하여 빈도간격을 표현한다.\n",
    "    - 타입: https://pandas.pydata.org/docs/user_guide/timeseries.html#dateoffset-objects\n",
    "    - 별칭: https://pandas.pydata.org/pandas-docs/stable/user_guide/timeseries.html#offset-aliases"
   ]
  },
  {
   "cell_type": "markdown",
   "id": "9066abc1",
   "metadata": {
    "slideshow": {
     "slide_type": "fragment"
    }
   },
   "source": [
    "### DateOffset 이용 메소드\n",
    "- **pd.date_range()**\n",
    "    - 동일한 간격 일시로 구성된(고정빈도)의 DatetimeIndex 생성한다.\n",
    "    - DatetimeIndex\n",
    "        - 일시 타입의 Index\n",
    "    - 주요 매개변수\n",
    "        - start: str 또는 datetime 형식 - 시작 날짜\n",
    "        - end: str 또는 datetime 형식 - 종료 날짜\n",
    "        - period:  생성할 개수\n",
    "            - start에서 end까지 periods에 지정한 개수에 맞춰 등분한 날짜로 구성된 DatetimeIndex를 반환한다.\n",
    "            - end 대신 period로 \n",
    "        - freq: str 또는 DateOffsets - 빈도 기준\n",
    "            - https://pandas.pydata.org/pandas-docs/stable/user_guide/timeseries.html#offset-aliases\n",
    "        - periods와 freq는 둘중 하나만 사용한다. 둘다 생략하면 **일별**로 생성한다.\n",
    "\n",
    "- **first(offset)**\n",
    "    - offset 빈도의 앞의 N개 행을 조회한다."
   ]
  },
  {
   "cell_type": "code",
   "execution_count": 35,
   "id": "3c362756",
   "metadata": {
    "ExecuteTime": {
     "end_time": "2023-01-13T01:13:52.818169Z",
     "start_time": "2023-01-13T01:13:52.793751Z"
    }
   },
   "outputs": [
    {
     "data": {
      "text/plain": [
       "DatetimeIndex(['2022-01-01', '2025-01-01', '2028-01-01'], dtype='datetime64[ns]', freq='3AS-JAN')"
      ]
     },
     "execution_count": 35,
     "metadata": {},
     "output_type": "execute_result"
    }
   ],
   "source": [
    "# date_range()\n",
    "\n",
    "import pandas as pd\n",
    "\n",
    "pd.date_range(start='2022-01', end='2022-02') #default 간격:  날짜기준\n",
    "pd.date_range(start='2022-01', end='2022-02', periods=3) # 3등분한 분위의 날짜\n",
    "pd.date_range(start='2022-01', periods=3)\n",
    "pd.date_range(start='2022-01', periods=3, freq='y') # y: YearEnd\n",
    "pd.date_range(start='2022-01', periods=3, freq='ys')# ys: YearStart\n",
    "pd.date_range(start='2022-01', periods=3, freq='3ys') # 3ys: 3년"
   ]
  },
  {
   "cell_type": "code",
   "execution_count": 47,
   "id": "a28c1a40",
   "metadata": {
    "ExecuteTime": {
     "end_time": "2023-01-13T01:19:10.133396Z",
     "start_time": "2023-01-13T01:19:10.119052Z"
    },
    "collapsed": true
   },
   "outputs": [
    {
     "data": {
      "text/plain": [
       "DatetimeIndex(['2022-01-01 00:00:00', '2022-01-01 01:00:00',\n",
       "               '2022-01-01 02:00:00', '2022-01-01 03:00:00',\n",
       "               '2022-01-01 04:00:00', '2022-01-01 05:00:00',\n",
       "               '2022-01-01 06:00:00', '2022-01-01 07:00:00',\n",
       "               '2022-01-01 08:00:00', '2022-01-01 09:00:00',\n",
       "               ...\n",
       "               '2022-01-31 15:00:00', '2022-01-31 16:00:00',\n",
       "               '2022-01-31 17:00:00', '2022-01-31 18:00:00',\n",
       "               '2022-01-31 19:00:00', '2022-01-31 20:00:00',\n",
       "               '2022-01-31 21:00:00', '2022-01-31 22:00:00',\n",
       "               '2022-01-31 23:00:00', '2022-02-01 00:00:00'],\n",
       "              dtype='datetime64[ns]', length=745, freq='H')"
      ]
     },
     "execution_count": 47,
     "metadata": {},
     "output_type": "execute_result"
    }
   ],
   "source": [
    "# pd.date_range('2000', '2023', freq='5y')\n",
    "# pd.date_range('2000', '2023', freq='5ys')\n",
    "# pd.date_range('2000', '2023', freq='m')\n",
    "pd.date_range('2000', '2023', freq='MS')  #ms: 밀리초\n",
    "pd.date_range('2022-01-01', '2022-02', freq='H')"
   ]
  },
  {
   "cell_type": "code",
   "execution_count": 51,
   "id": "b779dfe8",
   "metadata": {
    "ExecuteTime": {
     "end_time": "2023-01-13T01:23:20.719961Z",
     "start_time": "2023-01-13T01:23:20.696134Z"
    },
    "collapsed": true
   },
   "outputs": [
    {
     "data": {
      "text/plain": [
       "DatetimeIndex(['2000-01-01', '2000-04-01', '2000-07-01', '2000-10-01',\n",
       "               '2001-01-01', '2001-04-01', '2001-07-01', '2001-10-01',\n",
       "               '2002-01-01', '2002-04-01', '2002-07-01', '2002-10-01',\n",
       "               '2003-01-01', '2003-04-01', '2003-07-01', '2003-10-01',\n",
       "               '2004-01-01', '2004-04-01', '2004-07-01', '2004-10-01',\n",
       "               '2005-01-01', '2005-04-01', '2005-07-01', '2005-10-01',\n",
       "               '2006-01-01', '2006-04-01', '2006-07-01', '2006-10-01',\n",
       "               '2007-01-01', '2007-04-01', '2007-07-01', '2007-10-01',\n",
       "               '2008-01-01', '2008-04-01', '2008-07-01', '2008-10-01',\n",
       "               '2009-01-01', '2009-04-01', '2009-07-01', '2009-10-01',\n",
       "               '2010-01-01', '2010-04-01', '2010-07-01', '2010-10-01',\n",
       "               '2011-01-01', '2011-04-01', '2011-07-01', '2011-10-01',\n",
       "               '2012-01-01', '2012-04-01', '2012-07-01', '2012-10-01',\n",
       "               '2013-01-01', '2013-04-01', '2013-07-01', '2013-10-01',\n",
       "               '2014-01-01', '2014-04-01', '2014-07-01', '2014-10-01',\n",
       "               '2015-01-01', '2015-04-01', '2015-07-01', '2015-10-01',\n",
       "               '2016-01-01', '2016-04-01', '2016-07-01', '2016-10-01',\n",
       "               '2017-01-01', '2017-04-01', '2017-07-01', '2017-10-01',\n",
       "               '2018-01-01', '2018-04-01', '2018-07-01', '2018-10-01',\n",
       "               '2019-01-01', '2019-04-01', '2019-07-01', '2019-10-01',\n",
       "               '2020-01-01', '2020-04-01', '2020-07-01', '2020-10-01',\n",
       "               '2021-01-01', '2021-04-01', '2021-07-01', '2021-10-01',\n",
       "               '2022-01-01', '2022-04-01', '2022-07-01', '2022-10-01',\n",
       "               '2023-01-01'],\n",
       "              dtype='datetime64[ns]', freq='QS-JAN')"
      ]
     },
     "execution_count": 51,
     "metadata": {},
     "output_type": "execute_result"
    }
   ],
   "source": [
    "pd.date_range('2023-01-01', '2023-01-12', freq='B')\n",
    "pd.date_range('2000', '2023', freq='Q')\n",
    "pd.date_range('2000', '2023', freq='QS')"
   ]
  },
  {
   "cell_type": "code",
   "execution_count": 53,
   "id": "dbb6a358",
   "metadata": {
    "ExecuteTime": {
     "end_time": "2023-01-13T01:25:18.165617Z",
     "start_time": "2023-01-13T01:25:18.139022Z"
    }
   },
   "outputs": [
    {
     "data": {
      "text/plain": [
       "DatetimeIndex(['2020-01-07', '2020-01-14', '2020-01-21', '2020-01-28',\n",
       "               '2020-02-04', '2020-02-11', '2020-02-18', '2020-02-25',\n",
       "               '2020-03-03', '2020-03-10',\n",
       "               ...\n",
       "               '2022-10-25', '2022-11-01', '2022-11-08', '2022-11-15',\n",
       "               '2022-11-22', '2022-11-29', '2022-12-06', '2022-12-13',\n",
       "               '2022-12-20', '2022-12-27'],\n",
       "              dtype='datetime64[ns]', length=156, freq='W-TUE')"
      ]
     },
     "execution_count": 53,
     "metadata": {},
     "output_type": "execute_result"
    }
   ],
   "source": [
    "pd.date_range('2020', '2023', freq='W-TUE')  #'W': 일요일 'W-요일'"
   ]
  },
  {
   "cell_type": "code",
   "execution_count": 54,
   "id": "f86f55a9",
   "metadata": {
    "ExecuteTime": {
     "end_time": "2023-01-13T01:26:46.245776Z",
     "start_time": "2023-01-13T01:26:46.228958Z"
    },
    "collapsed": true
   },
   "outputs": [
    {
     "data": {
      "text/plain": [
       "0     2020-01-07\n",
       "1     2020-01-14\n",
       "2     2020-01-21\n",
       "3     2020-01-28\n",
       "4     2020-02-04\n",
       "         ...    \n",
       "151   2022-11-29\n",
       "152   2022-12-06\n",
       "153   2022-12-13\n",
       "154   2022-12-20\n",
       "155   2022-12-27\n",
       "Length: 156, dtype: datetime64[ns]"
      ]
     },
     "execution_count": 54,
     "metadata": {},
     "output_type": "execute_result"
    }
   ],
   "source": [
    "# 시리즈의 값으로 사용.\n",
    "pd.Series(pd.date_range('2020', '2023', freq='W-TUE') )"
   ]
  },
  {
   "cell_type": "code",
   "execution_count": 66,
   "id": "25f1fb6f",
   "metadata": {
    "ExecuteTime": {
     "end_time": "2023-01-13T01:34:36.618283Z",
     "start_time": "2023-01-13T01:34:36.603479Z"
    }
   },
   "outputs": [
    {
     "data": {
      "text/plain": [
       "2023-01-01 00:00:00      0\n",
       "2023-01-01 00:03:10      1\n",
       "2023-01-01 00:06:20      2\n",
       "2023-01-01 00:09:30      3\n",
       "2023-01-01 00:12:40      4\n",
       "                      ... \n",
       "2023-01-01 23:45:00    450\n",
       "2023-01-01 23:48:10    451\n",
       "2023-01-01 23:51:20    452\n",
       "2023-01-01 23:54:30    453\n",
       "2023-01-01 23:57:40    454\n",
       "Freq: 190S, Length: 455, dtype: int64"
      ]
     },
     "execution_count": 66,
     "metadata": {},
     "output_type": "execute_result"
    }
   ],
   "source": [
    "s = pd.Series(range(455), \n",
    "              index=pd.date_range('2023/01/01', '2023/01/01 23:59:59', freq='3T10S'))  # T 분  (3분 10초))\n",
    "s"
   ]
  },
  {
   "cell_type": "code",
   "execution_count": 70,
   "id": "07c9edd0",
   "metadata": {
    "ExecuteTime": {
     "end_time": "2023-01-13T01:37:23.144618Z",
     "start_time": "2023-01-13T01:37:23.131326Z"
    }
   },
   "outputs": [
    {
     "data": {
      "text/plain": [
       "2023-01-01 00:00:00     0\n",
       "2023-01-01 00:03:10     1\n",
       "2023-01-01 00:06:20     2\n",
       "2023-01-01 00:09:30     3\n",
       "2023-01-01 00:12:40     4\n",
       "2023-01-01 00:15:50     5\n",
       "2023-01-01 00:19:00     6\n",
       "2023-01-01 00:22:10     7\n",
       "2023-01-01 00:25:20     8\n",
       "2023-01-01 00:28:30     9\n",
       "2023-01-01 00:31:40    10\n",
       "2023-01-01 00:34:50    11\n",
       "2023-01-01 00:38:00    12\n",
       "2023-01-01 00:41:10    13\n",
       "2023-01-01 00:44:20    14\n",
       "2023-01-01 00:47:30    15\n",
       "2023-01-01 00:50:40    16\n",
       "2023-01-01 00:53:50    17\n",
       "2023-01-01 00:57:00    18\n",
       "2023-01-01 01:00:10    19\n",
       "2023-01-01 01:03:20    20\n",
       "2023-01-01 01:06:30    21\n",
       "2023-01-01 01:09:40    22\n",
       "2023-01-01 01:12:50    23\n",
       "2023-01-01 01:16:00    24\n",
       "2023-01-01 01:19:10    25\n",
       "2023-01-01 01:22:20    26\n",
       "2023-01-01 01:25:30    27\n",
       "2023-01-01 01:28:40    28\n",
       "2023-01-01 01:31:50    29\n",
       "2023-01-01 01:35:00    30\n",
       "2023-01-01 01:38:10    31\n",
       "2023-01-01 01:41:20    32\n",
       "2023-01-01 01:44:30    33\n",
       "2023-01-01 01:47:40    34\n",
       "2023-01-01 01:50:50    35\n",
       "2023-01-01 01:54:00    36\n",
       "2023-01-01 01:57:10    37\n",
       "2023-01-01 02:00:20    38\n",
       "2023-01-01 02:03:30    39\n",
       "2023-01-01 02:06:40    40\n",
       "2023-01-01 02:09:50    41\n",
       "2023-01-01 02:13:00    42\n",
       "2023-01-01 02:16:10    43\n",
       "2023-01-01 02:19:20    44\n",
       "2023-01-01 02:22:30    45\n",
       "2023-01-01 02:25:40    46\n",
       "2023-01-01 02:28:50    47\n",
       "2023-01-01 02:32:00    48\n",
       "2023-01-01 02:35:10    49\n",
       "2023-01-01 02:38:20    50\n",
       "2023-01-01 02:41:30    51\n",
       "2023-01-01 02:44:40    52\n",
       "2023-01-01 02:47:50    53\n",
       "2023-01-01 02:51:00    54\n",
       "2023-01-01 02:54:10    55\n",
       "2023-01-01 02:57:20    56\n",
       "Freq: 190S, dtype: int64"
      ]
     },
     "execution_count": 70,
     "metadata": {},
     "output_type": "execute_result"
    }
   ],
   "source": [
    "# first()\n",
    "s.first('900S')\n",
    "s.first('20T')\n",
    "s.first('3H')"
   ]
  },
  {
   "cell_type": "markdown",
   "id": "240e6347",
   "metadata": {
    "slideshow": {
     "slide_type": "slide"
    }
   },
   "source": [
    "## 데이터 shift\n",
    "- DatetimeIndex의 index는 그대로 두고 데이터를 앞 또는 뒤로 이동시킨다.\n",
    "- DataFrame/Series객체.shift() 이용\n",
    "    - 매개변수\n",
    "        - periods=1 : 이동할 기간 (기본값 1)\n",
    "        - freq: 이동시킬 날짜/시간의 단위. DateOffset 객체/alias, timedelta\n",
    "        "
   ]
  },
  {
   "cell_type": "code",
   "execution_count": 71,
   "id": "998355e2",
   "metadata": {
    "ExecuteTime": {
     "end_time": "2023-01-13T01:40:35.750308Z",
     "start_time": "2023-01-13T01:40:35.725728Z"
    }
   },
   "outputs": [
    {
     "data": {
      "text/plain": [
       "2022-01-01    10\n",
       "2022-01-02    11\n",
       "2022-01-03    12\n",
       "2022-01-04    13\n",
       "2022-01-05    14\n",
       "Freq: D, dtype: int64"
      ]
     },
     "execution_count": 71,
     "metadata": {},
     "output_type": "execute_result"
    }
   ],
   "source": [
    "s = pd.Series(range(10, 15), index=pd.date_range('2022/01/01', '2022/01/05'))\n",
    "s"
   ]
  },
  {
   "cell_type": "code",
   "execution_count": 72,
   "id": "b6f3e690",
   "metadata": {
    "ExecuteTime": {
     "end_time": "2023-01-13T01:41:10.601837Z",
     "start_time": "2023-01-13T01:41:10.577613Z"
    },
    "collapsed": true
   },
   "outputs": [
    {
     "data": {
      "text/plain": [
       "2022-01-01     NaN\n",
       "2022-01-02     NaN\n",
       "2022-01-03    10.0\n",
       "2022-01-04    11.0\n",
       "2022-01-05    12.0\n",
       "Freq: D, dtype: float64"
      ]
     },
     "execution_count": 72,
     "metadata": {},
     "output_type": "execute_result"
    }
   ],
   "source": [
    "s.shift(2)"
   ]
  },
  {
   "cell_type": "code",
   "execution_count": 73,
   "id": "f6fe254c",
   "metadata": {
    "ExecuteTime": {
     "end_time": "2023-01-13T01:41:40.982098Z",
     "start_time": "2023-01-13T01:41:40.963489Z"
    }
   },
   "outputs": [
    {
     "data": {
      "text/plain": [
       "2022-01-01    12.0\n",
       "2022-01-02    13.0\n",
       "2022-01-03    14.0\n",
       "2022-01-04     NaN\n",
       "2022-01-05     NaN\n",
       "Freq: D, dtype: float64"
      ]
     },
     "execution_count": 73,
     "metadata": {},
     "output_type": "execute_result"
    }
   ],
   "source": [
    "s.shift(-2)"
   ]
  },
  {
   "cell_type": "code",
   "execution_count": 74,
   "id": "ea5997fa",
   "metadata": {
    "ExecuteTime": {
     "end_time": "2023-01-13T01:43:26.769298Z",
     "start_time": "2023-01-13T01:43:26.751207Z"
    }
   },
   "outputs": [
    {
     "data": {
      "text/plain": [
       "2022-01-01    10\n",
       "2022-01-02    11\n",
       "2022-01-03    12\n",
       "2022-01-04    13\n",
       "2022-01-05    14\n",
       "Freq: D, dtype: int64"
      ]
     },
     "execution_count": 74,
     "metadata": {},
     "output_type": "execute_result"
    }
   ],
   "source": [
    "s"
   ]
  },
  {
   "cell_type": "code",
   "execution_count": 77,
   "id": "38de4a19",
   "metadata": {
    "ExecuteTime": {
     "end_time": "2023-01-13T01:45:08.442649Z",
     "start_time": "2023-01-13T01:45:08.420730Z"
    }
   },
   "outputs": [
    {
     "data": {
      "text/plain": [
       "2022-04-01    10\n",
       "2022-04-01    11\n",
       "2022-04-01    12\n",
       "2022-04-01    13\n",
       "2022-04-01    14\n",
       "dtype: int64"
      ]
     },
     "execution_count": 77,
     "metadata": {},
     "output_type": "execute_result"
    }
   ],
   "source": [
    "s.shift(freq='3MS')"
   ]
  },
  {
   "cell_type": "code",
   "execution_count": 78,
   "id": "2698ae5f",
   "metadata": {
    "ExecuteTime": {
     "end_time": "2023-01-13T01:45:22.330742Z",
     "start_time": "2023-01-13T01:45:22.314440Z"
    }
   },
   "outputs": [
    {
     "data": {
      "text/plain": [
       "2022-01-01    10\n",
       "2022-01-02    11\n",
       "2022-01-03    12\n",
       "2022-01-04    13\n",
       "2022-01-05    14\n",
       "Freq: D, dtype: int64"
      ]
     },
     "execution_count": 78,
     "metadata": {},
     "output_type": "execute_result"
    }
   ],
   "source": [
    "s"
   ]
  },
  {
   "cell_type": "code",
   "execution_count": 83,
   "id": "a7742438",
   "metadata": {
    "ExecuteTime": {
     "end_time": "2023-01-13T01:47:24.085665Z",
     "start_time": "2023-01-13T01:47:24.065325Z"
    }
   },
   "outputs": [
    {
     "data": {
      "text/plain": [
       "2022-01-01          NaN\n",
       "2022-01-02    10.000000\n",
       "2022-01-03     9.090909\n",
       "2022-01-04     8.333333\n",
       "2022-01-05     7.692308\n",
       "Freq: D, dtype: float64"
      ]
     },
     "execution_count": 83,
     "metadata": {},
     "output_type": "execute_result"
    }
   ],
   "source": [
    "# 전날 대비 값이 어떻게 변화했는지?\n",
    "(s/s.shift(1) - 1)* 100"
   ]
  },
  {
   "cell_type": "markdown",
   "id": "8665fa8b",
   "metadata": {
    "slideshow": {
     "slide_type": "slide"
    }
   },
   "source": [
    "## resample()을 이용한 집계\n",
    "- resample()은 시계열 데이터를 지정한 구간별로 나눠서 집계할 수 있도록 grouping 한다.\n",
    "- groupby() 로 묶을 수도 있지만 DatetimeIndex의 경우 resample이 더 편리하다.\n",
    "    - 매개변수\n",
    "        - rule: group으로 묶을 기준을 offset으로 지정한다.\n",
    "        - closed : \"left\" 또는 \"right\" - 간격의 시작과 끝중 어느부분을 포함시킬지(닫을지)를 설정. \"left\"가 기본으로 왼쪽은 포함하고 오른쪽은 포함되지 않는다.\n",
    "        - on : 기준 컬럼을 지정한다. Index가 아니라 datetime 타입의 열(컬럼)을 기준으로 resample 할 때 사용"
   ]
  },
  {
   "cell_type": "code",
   "execution_count": 84,
   "id": "14e165df",
   "metadata": {
    "ExecuteTime": {
     "end_time": "2023-01-13T02:11:21.953596Z",
     "start_time": "2023-01-13T02:11:21.932987Z"
    },
    "collapsed": true
   },
   "outputs": [
    {
     "data": {
      "text/plain": [
       "2000-01-01 00:00:00     1\n",
       "2000-01-01 00:01:00     2\n",
       "2000-01-01 00:02:00     3\n",
       "2000-01-01 00:03:00     4\n",
       "2000-01-01 00:04:00     5\n",
       "2000-01-01 00:05:00     6\n",
       "2000-01-01 00:06:00     7\n",
       "2000-01-01 00:07:00     8\n",
       "2000-01-01 00:08:00     9\n",
       "2000-01-01 00:09:00    10\n",
       "2000-01-01 00:10:00    11\n",
       "2000-01-01 00:11:00    12\n",
       "2000-01-01 00:12:00    13\n",
       "2000-01-01 00:13:00    14\n",
       "2000-01-01 00:14:00    15\n",
       "2000-01-01 00:15:00    16\n",
       "2000-01-01 00:16:00    17\n",
       "2000-01-01 00:17:00    18\n",
       "2000-01-01 00:18:00    19\n",
       "2000-01-01 00:19:00    20\n",
       "Freq: T, dtype: int64"
      ]
     },
     "execution_count": 84,
     "metadata": {},
     "output_type": "execute_result"
    }
   ],
   "source": [
    "s = pd.Series(range(1, 21), \n",
    "             index=pd.date_range('2000/01', periods=20, freq='T')) # 분 단위로 20개 값\n",
    "s"
   ]
  },
  {
   "cell_type": "code",
   "execution_count": 86,
   "id": "9cc1d328",
   "metadata": {
    "ExecuteTime": {
     "end_time": "2023-01-13T02:12:46.491997Z",
     "start_time": "2023-01-13T02:12:46.477321Z"
    }
   },
   "outputs": [
    {
     "data": {
      "text/plain": [
       "10.5"
      ]
     },
     "execution_count": 86,
     "metadata": {},
     "output_type": "execute_result"
    }
   ],
   "source": [
    "s.mean()"
   ]
  },
  {
   "cell_type": "code",
   "execution_count": 93,
   "id": "492970fc",
   "metadata": {
    "ExecuteTime": {
     "end_time": "2023-01-13T02:26:57.975233Z",
     "start_time": "2023-01-13T02:26:57.958240Z"
    }
   },
   "outputs": [
    {
     "data": {
      "text/plain": [
       "1999-12-31 23:50:00      1\n",
       "2000-01-01 00:00:00     65\n",
       "2000-01-01 00:10:00    144\n",
       "Freq: 10T, dtype: int64"
      ]
     },
     "execution_count": 93,
     "metadata": {},
     "output_type": "execute_result"
    }
   ],
   "source": [
    "s.resample('10T')  # 10분 기준을 group을 나눈다.\n",
    "s.resample('10T').mean()   # closed=left(기본) :   [00:00 ~ 10:00), [10:00 ~ 20:00), [20:00 ~ 30) ....\n",
    "s.resample('10T', closed='right').mean()   # (50 ~ 00], (00 ~ 10], (10 ~ 20]  # 둘다 시작을 inde로 사용\n",
    "s.resample('10T', closed='right').sum()"
   ]
  },
  {
   "cell_type": "code",
   "execution_count": 97,
   "id": "47f24ba7",
   "metadata": {
    "ExecuteTime": {
     "end_time": "2023-01-13T02:27:59.781001Z",
     "start_time": "2023-01-13T02:27:59.754720Z"
    },
    "scrolled": true
   },
   "outputs": [
    {
     "data": {
      "text/html": [
       "<div>\n",
       "<style scoped>\n",
       "    .dataframe tbody tr th:only-of-type {\n",
       "        vertical-align: middle;\n",
       "    }\n",
       "\n",
       "    .dataframe tbody tr th {\n",
       "        vertical-align: top;\n",
       "    }\n",
       "\n",
       "    .dataframe thead th {\n",
       "        text-align: right;\n",
       "    }\n",
       "</style>\n",
       "<table border=\"1\" class=\"dataframe\">\n",
       "  <thead>\n",
       "    <tr style=\"text-align: right;\">\n",
       "      <th></th>\n",
       "      <th>time</th>\n",
       "      <th>cnt</th>\n",
       "    </tr>\n",
       "  </thead>\n",
       "  <tbody>\n",
       "    <tr>\n",
       "      <th>0</th>\n",
       "      <td>2000-01-01 00:00:00</td>\n",
       "      <td>1</td>\n",
       "    </tr>\n",
       "    <tr>\n",
       "      <th>1</th>\n",
       "      <td>2000-01-01 00:01:00</td>\n",
       "      <td>2</td>\n",
       "    </tr>\n",
       "    <tr>\n",
       "      <th>2</th>\n",
       "      <td>2000-01-01 00:02:00</td>\n",
       "      <td>3</td>\n",
       "    </tr>\n",
       "    <tr>\n",
       "      <th>3</th>\n",
       "      <td>2000-01-01 00:03:00</td>\n",
       "      <td>4</td>\n",
       "    </tr>\n",
       "    <tr>\n",
       "      <th>4</th>\n",
       "      <td>2000-01-01 00:04:00</td>\n",
       "      <td>5</td>\n",
       "    </tr>\n",
       "    <tr>\n",
       "      <th>5</th>\n",
       "      <td>2000-01-01 00:05:00</td>\n",
       "      <td>6</td>\n",
       "    </tr>\n",
       "    <tr>\n",
       "      <th>6</th>\n",
       "      <td>2000-01-01 00:06:00</td>\n",
       "      <td>7</td>\n",
       "    </tr>\n",
       "    <tr>\n",
       "      <th>7</th>\n",
       "      <td>2000-01-01 00:07:00</td>\n",
       "      <td>8</td>\n",
       "    </tr>\n",
       "    <tr>\n",
       "      <th>8</th>\n",
       "      <td>2000-01-01 00:08:00</td>\n",
       "      <td>9</td>\n",
       "    </tr>\n",
       "    <tr>\n",
       "      <th>9</th>\n",
       "      <td>2000-01-01 00:09:00</td>\n",
       "      <td>10</td>\n",
       "    </tr>\n",
       "    <tr>\n",
       "      <th>10</th>\n",
       "      <td>2000-01-01 00:10:00</td>\n",
       "      <td>11</td>\n",
       "    </tr>\n",
       "    <tr>\n",
       "      <th>11</th>\n",
       "      <td>2000-01-01 00:11:00</td>\n",
       "      <td>12</td>\n",
       "    </tr>\n",
       "    <tr>\n",
       "      <th>12</th>\n",
       "      <td>2000-01-01 00:12:00</td>\n",
       "      <td>13</td>\n",
       "    </tr>\n",
       "    <tr>\n",
       "      <th>13</th>\n",
       "      <td>2000-01-01 00:13:00</td>\n",
       "      <td>14</td>\n",
       "    </tr>\n",
       "    <tr>\n",
       "      <th>14</th>\n",
       "      <td>2000-01-01 00:14:00</td>\n",
       "      <td>15</td>\n",
       "    </tr>\n",
       "    <tr>\n",
       "      <th>15</th>\n",
       "      <td>2000-01-01 00:15:00</td>\n",
       "      <td>16</td>\n",
       "    </tr>\n",
       "    <tr>\n",
       "      <th>16</th>\n",
       "      <td>2000-01-01 00:16:00</td>\n",
       "      <td>17</td>\n",
       "    </tr>\n",
       "    <tr>\n",
       "      <th>17</th>\n",
       "      <td>2000-01-01 00:17:00</td>\n",
       "      <td>18</td>\n",
       "    </tr>\n",
       "    <tr>\n",
       "      <th>18</th>\n",
       "      <td>2000-01-01 00:18:00</td>\n",
       "      <td>19</td>\n",
       "    </tr>\n",
       "    <tr>\n",
       "      <th>19</th>\n",
       "      <td>2000-01-01 00:19:00</td>\n",
       "      <td>20</td>\n",
       "    </tr>\n",
       "  </tbody>\n",
       "</table>\n",
       "</div>"
      ],
      "text/plain": [
       "                  time  cnt\n",
       "0  2000-01-01 00:00:00    1\n",
       "1  2000-01-01 00:01:00    2\n",
       "2  2000-01-01 00:02:00    3\n",
       "3  2000-01-01 00:03:00    4\n",
       "4  2000-01-01 00:04:00    5\n",
       "5  2000-01-01 00:05:00    6\n",
       "6  2000-01-01 00:06:00    7\n",
       "7  2000-01-01 00:07:00    8\n",
       "8  2000-01-01 00:08:00    9\n",
       "9  2000-01-01 00:09:00   10\n",
       "10 2000-01-01 00:10:00   11\n",
       "11 2000-01-01 00:11:00   12\n",
       "12 2000-01-01 00:12:00   13\n",
       "13 2000-01-01 00:13:00   14\n",
       "14 2000-01-01 00:14:00   15\n",
       "15 2000-01-01 00:15:00   16\n",
       "16 2000-01-01 00:16:00   17\n",
       "17 2000-01-01 00:17:00   18\n",
       "18 2000-01-01 00:18:00   19\n",
       "19 2000-01-01 00:19:00   20"
      ]
     },
     "execution_count": 97,
     "metadata": {},
     "output_type": "execute_result"
    }
   ],
   "source": [
    "d = s.to_frame().reset_index()\n",
    "d.columns = ['time', 'cnt']  # 날짜 시간 타입의 컬럼.(index X)\n",
    "d"
   ]
  },
  {
   "cell_type": "code",
   "execution_count": 100,
   "id": "8d1406d7",
   "metadata": {
    "ExecuteTime": {
     "end_time": "2023-01-13T02:30:11.388762Z",
     "start_time": "2023-01-13T02:30:11.371472Z"
    },
    "collapsed": true,
    "slideshow": {
     "slide_type": "fragment"
    }
   },
   "outputs": [
    {
     "data": {
      "text/html": [
       "<div>\n",
       "<style scoped>\n",
       "    .dataframe tbody tr th:only-of-type {\n",
       "        vertical-align: middle;\n",
       "    }\n",
       "\n",
       "    .dataframe tbody tr th {\n",
       "        vertical-align: top;\n",
       "    }\n",
       "\n",
       "    .dataframe thead th {\n",
       "        text-align: right;\n",
       "    }\n",
       "</style>\n",
       "<table border=\"1\" class=\"dataframe\">\n",
       "  <thead>\n",
       "    <tr style=\"text-align: right;\">\n",
       "      <th></th>\n",
       "      <th>mean</th>\n",
       "      <th>sum</th>\n",
       "    </tr>\n",
       "    <tr>\n",
       "      <th>time</th>\n",
       "      <th></th>\n",
       "      <th></th>\n",
       "    </tr>\n",
       "  </thead>\n",
       "  <tbody>\n",
       "    <tr>\n",
       "      <th>2000-01-01 00:00:00</th>\n",
       "      <td>3.0</td>\n",
       "      <td>15</td>\n",
       "    </tr>\n",
       "    <tr>\n",
       "      <th>2000-01-01 00:05:00</th>\n",
       "      <td>8.0</td>\n",
       "      <td>40</td>\n",
       "    </tr>\n",
       "    <tr>\n",
       "      <th>2000-01-01 00:10:00</th>\n",
       "      <td>13.0</td>\n",
       "      <td>65</td>\n",
       "    </tr>\n",
       "    <tr>\n",
       "      <th>2000-01-01 00:15:00</th>\n",
       "      <td>18.0</td>\n",
       "      <td>90</td>\n",
       "    </tr>\n",
       "  </tbody>\n",
       "</table>\n",
       "</div>"
      ],
      "text/plain": [
       "                     mean  sum\n",
       "time                          \n",
       "2000-01-01 00:00:00   3.0   15\n",
       "2000-01-01 00:05:00   8.0   40\n",
       "2000-01-01 00:10:00  13.0   65\n",
       "2000-01-01 00:15:00  18.0   90"
      ]
     },
     "execution_count": 100,
     "metadata": {},
     "output_type": "execute_result"
    }
   ],
   "source": [
    "d.resample('5t', on='time')['cnt'].sum()  # on으로 datetime타입 컬럼을 지정.\n",
    "d.resample('5t', on='time')['cnt'].agg(['mean', 'sum'])"
   ]
  },
  {
   "cell_type": "code",
   "execution_count": 101,
   "id": "19cdbf69",
   "metadata": {
    "ExecuteTime": {
     "end_time": "2023-01-13T02:31:40.960174Z",
     "start_time": "2023-01-13T02:31:40.937059Z"
    },
    "collapsed": true
   },
   "outputs": [
    {
     "data": {
      "text/html": [
       "<div>\n",
       "<style scoped>\n",
       "    .dataframe tbody tr th:only-of-type {\n",
       "        vertical-align: middle;\n",
       "    }\n",
       "\n",
       "    .dataframe tbody tr th {\n",
       "        vertical-align: top;\n",
       "    }\n",
       "\n",
       "    .dataframe thead th {\n",
       "        text-align: right;\n",
       "    }\n",
       "</style>\n",
       "<table border=\"1\" class=\"dataframe\">\n",
       "  <thead>\n",
       "    <tr style=\"text-align: right;\">\n",
       "      <th></th>\n",
       "      <th>Open</th>\n",
       "      <th>High</th>\n",
       "      <th>Low</th>\n",
       "      <th>Close</th>\n",
       "      <th>Volume</th>\n",
       "      <th>Adj Close</th>\n",
       "    </tr>\n",
       "    <tr>\n",
       "      <th>Date</th>\n",
       "      <th></th>\n",
       "      <th></th>\n",
       "      <th></th>\n",
       "      <th></th>\n",
       "      <th></th>\n",
       "      <th></th>\n",
       "    </tr>\n",
       "  </thead>\n",
       "  <tbody>\n",
       "    <tr>\n",
       "      <th>2012-01-03</th>\n",
       "      <td>59.970001</td>\n",
       "      <td>61.060001</td>\n",
       "      <td>59.869999</td>\n",
       "      <td>60.330002</td>\n",
       "      <td>12668800</td>\n",
       "      <td>52.619235</td>\n",
       "    </tr>\n",
       "    <tr>\n",
       "      <th>2012-01-04</th>\n",
       "      <td>60.209999</td>\n",
       "      <td>60.349998</td>\n",
       "      <td>59.470001</td>\n",
       "      <td>59.709999</td>\n",
       "      <td>9593300</td>\n",
       "      <td>52.078475</td>\n",
       "    </tr>\n",
       "    <tr>\n",
       "      <th>2012-01-05</th>\n",
       "      <td>59.349998</td>\n",
       "      <td>59.619999</td>\n",
       "      <td>58.369999</td>\n",
       "      <td>59.419998</td>\n",
       "      <td>12768200</td>\n",
       "      <td>51.825539</td>\n",
       "    </tr>\n",
       "    <tr>\n",
       "      <th>2012-01-06</th>\n",
       "      <td>59.419998</td>\n",
       "      <td>59.450001</td>\n",
       "      <td>58.869999</td>\n",
       "      <td>59.000000</td>\n",
       "      <td>8069400</td>\n",
       "      <td>51.459220</td>\n",
       "    </tr>\n",
       "    <tr>\n",
       "      <th>2012-01-09</th>\n",
       "      <td>59.029999</td>\n",
       "      <td>59.549999</td>\n",
       "      <td>58.919998</td>\n",
       "      <td>59.180000</td>\n",
       "      <td>6679300</td>\n",
       "      <td>51.616215</td>\n",
       "    </tr>\n",
       "  </tbody>\n",
       "</table>\n",
       "</div>"
      ],
      "text/plain": [
       "                 Open       High        Low      Close    Volume  Adj Close\n",
       "Date                                                                       \n",
       "2012-01-03  59.970001  61.060001  59.869999  60.330002  12668800  52.619235\n",
       "2012-01-04  60.209999  60.349998  59.470001  59.709999   9593300  52.078475\n",
       "2012-01-05  59.349998  59.619999  58.369999  59.419998  12768200  51.825539\n",
       "2012-01-06  59.419998  59.450001  58.869999  59.000000   8069400  51.459220\n",
       "2012-01-09  59.029999  59.549999  58.919998  59.180000   6679300  51.616215"
      ]
     },
     "execution_count": 101,
     "metadata": {},
     "output_type": "execute_result"
    }
   ],
   "source": [
    "df = pd.read_csv('data/walmart_stock.csv', parse_dates=[0], index_col=0)\n",
    "df.head()"
   ]
  },
  {
   "cell_type": "code",
   "execution_count": 105,
   "id": "40062a9a",
   "metadata": {
    "ExecuteTime": {
     "end_time": "2023-01-13T02:34:02.222999Z",
     "start_time": "2023-01-13T02:34:02.204830Z"
    },
    "collapsed": true
   },
   "outputs": [
    {
     "data": {
      "text/plain": [
       "Date\n",
       "2012-03-31    60.519516\n",
       "2012-06-30    63.057143\n",
       "2012-09-30    73.174921\n",
       "2012-12-31    72.079839\n",
       "2013-03-31    71.026000\n",
       "2013-06-30    76.885781\n",
       "2013-09-30    75.629063\n",
       "2013-12-31    77.472813\n",
       "2014-03-31    75.337213\n",
       "2014-06-30    77.066508\n",
       "2014-09-30    75.748593\n",
       "2014-12-31    81.059844\n",
       "2015-03-31    85.107213\n",
       "2015-06-30    76.492540\n",
       "2015-09-30    68.825313\n",
       "2015-12-31    60.193281\n",
       "2016-03-31    65.776557\n",
       "2016-06-30    69.438437\n",
       "2016-09-30    72.782812\n",
       "2016-12-31    70.021111\n",
       "Freq: Q-DEC, Name: Close, dtype: float64"
      ]
     },
     "execution_count": 105,
     "metadata": {},
     "output_type": "execute_result"
    }
   ],
   "source": [
    "df.resample('Y')['Close'].mean()\n",
    "df.resample('6M')['Close'].mean()\n",
    "df.resample('Q')['Close'].mean()"
   ]
  },
  {
   "cell_type": "code",
   "execution_count": 111,
   "id": "d49bddc4",
   "metadata": {
    "ExecuteTime": {
     "end_time": "2023-01-13T02:37:00.527390Z",
     "start_time": "2023-01-13T02:37:00.477422Z"
    }
   },
   "outputs": [
    {
     "data": {
      "text/plain": [
       "Date        Volume  \n",
       "2012-03-31  4175000     61.790001\n",
       "            5173100     62.220001\n",
       "            5480600     61.880001\n",
       "            5501000     61.900002\n",
       "            5710800     60.650002\n",
       "                          ...    \n",
       "2016-12-31  14321300    71.389999\n",
       "            16779500    71.099998\n",
       "            17844800    70.980003\n",
       "            20110300    69.360001\n",
       "            23440300    69.190002\n",
       "Name: Close, Length: 1258, dtype: float64"
      ]
     },
     "execution_count": 111,
     "metadata": {},
     "output_type": "execute_result"
    }
   ],
   "source": [
    "df.groupby(pd.Grouper(freq='Q'))['Close'].mean()\n",
    "df.groupby([pd.Grouper(freq='Q'), 'Volume'])['Close'].mean()"
   ]
  },
  {
   "cell_type": "markdown",
   "id": "de0d5ddb",
   "metadata": {
    "slideshow": {
     "slide_type": "slide"
    }
   },
   "source": [
    "##  기간 이동 집계\n",
    "- 현재값을 기준으로 N개씩 묶어서 집계를 한다.\n",
    "    - 예) 이동평균 구하기\n",
    "- rolling(window, min_periods=None)    \n",
    "    - window: 범위. 정수\n",
    "    - min_periods: 집계할 최소 개수. 생략하면 window size로 지정.\n",
    "    - center: bool - 집계결과를 window의 중간에 둘지 여부. 기본값은 False로 레이블이 창 맨 뒤에 둔다. "
   ]
  },
  {
   "cell_type": "code",
   "execution_count": 113,
   "id": "23e68179",
   "metadata": {
    "ExecuteTime": {
     "end_time": "2023-01-13T02:38:00.294469Z",
     "start_time": "2023-01-13T02:38:00.285110Z"
    },
    "scrolled": true,
    "slideshow": {
     "slide_type": "fragment"
    }
   },
   "outputs": [
    {
     "data": {
      "text/plain": [
       "Date\n",
       "2012-01-03    60.330002\n",
       "2012-01-04    59.709999\n",
       "2012-01-05    59.419998\n",
       "2012-01-06    59.000000\n",
       "2012-01-09    59.180000\n",
       "2012-01-10    59.040001\n",
       "2012-01-11    59.400002\n",
       "2012-01-12    59.500000\n",
       "2012-01-13    59.540001\n",
       "2012-01-17    59.849998\n",
       "2012-01-18    60.009998\n",
       "2012-01-19    60.610001\n",
       "2012-01-20    61.009998\n",
       "2012-01-23    60.910000\n",
       "2012-01-24    61.389999\n",
       "2012-01-25    61.470001\n",
       "2012-01-26    60.970001\n",
       "2012-01-27    60.709999\n",
       "2012-01-30    61.299999\n",
       "2012-01-31    61.360001\n",
       "2012-02-01    62.180000\n",
       "2012-02-02    61.939999\n",
       "2012-02-03    62.029999\n",
       "2012-02-06    61.880001\n",
       "2012-02-07    61.689999\n",
       "2012-02-08    61.619999\n",
       "2012-02-09    61.959999\n",
       "2012-02-10    61.900002\n",
       "2012-02-13    61.790001\n",
       "2012-02-14    62.220001\n",
       "2012-02-15    61.759998\n",
       "2012-02-16    62.040001\n",
       "2012-02-17    62.480000\n",
       "2012-02-21    60.070000\n",
       "2012-02-22    58.599998\n",
       "2012-02-23    58.540001\n",
       "2012-02-24    58.790001\n",
       "2012-02-27    58.459999\n",
       "2012-02-28    58.930000\n",
       "2012-02-29    59.080002\n",
       "2012-03-01    58.820000\n",
       "2012-03-02    59.009998\n",
       "2012-03-05    59.400002\n",
       "2012-03-06    58.970001\n",
       "2012-03-07    59.860001\n",
       "2012-03-08    59.770000\n",
       "2012-03-09    60.080002\n",
       "2012-03-12    60.680000\n",
       "2012-03-13    61.000000\n",
       "2012-03-14    61.080002\n",
       "2012-03-15    61.230000\n",
       "2012-03-16    60.840000\n",
       "2012-03-19    60.740002\n",
       "2012-03-20    60.599998\n",
       "2012-03-21    60.560001\n",
       "2012-03-22    60.650002\n",
       "2012-03-23    60.750000\n",
       "2012-03-26    61.200001\n",
       "2012-03-27    61.090000\n",
       "2012-03-28    61.189999\n",
       "Name: Close, dtype: float64"
      ]
     },
     "execution_count": 113,
     "metadata": {},
     "output_type": "execute_result"
    }
   ],
   "source": [
    "df['Close'].head(60)"
   ]
  },
  {
   "cell_type": "code",
   "execution_count": 117,
   "id": "7eb83ae0",
   "metadata": {
    "ExecuteTime": {
     "end_time": "2023-01-13T02:44:48.842347Z",
     "start_time": "2023-01-13T02:44:48.817784Z"
    },
    "collapsed": true
   },
   "outputs": [
    {
     "data": {
      "text/plain": [
       "Date\n",
       "2012-01-03          NaN\n",
       "2012-01-04          NaN\n",
       "2012-01-05          NaN\n",
       "2012-01-06          NaN\n",
       "2012-01-09          NaN\n",
       "2012-01-10          NaN\n",
       "2012-01-11          NaN\n",
       "2012-01-12          NaN\n",
       "2012-01-13          NaN\n",
       "2012-01-17          NaN\n",
       "2012-01-18          NaN\n",
       "2012-01-19          NaN\n",
       "2012-01-20          NaN\n",
       "2012-01-23          NaN\n",
       "2012-01-24          NaN\n",
       "2012-01-25          NaN\n",
       "2012-01-26          NaN\n",
       "2012-01-27          NaN\n",
       "2012-01-30          NaN\n",
       "2012-01-31    60.235500\n",
       "2012-02-01    60.328000\n",
       "2012-02-02    60.439500\n",
       "2012-02-03    60.570000\n",
       "2012-02-06    60.714000\n",
       "2012-02-07    60.839500\n",
       "2012-02-08    60.968500\n",
       "2012-02-09    61.096500\n",
       "2012-02-10    61.216500\n",
       "2012-02-13    61.329000\n",
       "2012-02-14    61.447500\n",
       "2012-02-15    61.535000\n",
       "2012-02-16    61.606500\n",
       "2012-02-17    61.680000\n",
       "2012-02-21    61.638000\n",
       "2012-02-22    61.498500\n",
       "2012-02-23    61.352000\n",
       "2012-02-24    61.243000\n",
       "2012-02-27    61.130500\n",
       "2012-02-28    61.012000\n",
       "2012-02-29    60.898000\n",
       "2012-03-01    60.730000\n",
       "2012-03-02    60.583500\n",
       "2012-03-05    60.452000\n",
       "2012-03-06    60.306500\n",
       "2012-03-07    60.215000\n",
       "2012-03-08    60.122500\n",
       "2012-03-09    60.028500\n",
       "2012-03-12    59.967500\n",
       "2012-03-13    59.928000\n",
       "2012-03-14    59.871000\n",
       "2012-03-15    59.844500\n",
       "2012-03-16    59.784500\n",
       "2012-03-19    59.697500\n",
       "2012-03-20    59.724000\n",
       "2012-03-21    59.822001\n",
       "2012-03-22    59.927501\n",
       "2012-03-23    60.025500\n",
       "2012-03-26    60.162501\n",
       "2012-03-27    60.270501\n",
       "2012-03-28    60.376000\n",
       "Name: Close, dtype: float64"
      ]
     },
     "execution_count": 117,
     "metadata": {},
     "output_type": "execute_result"
    }
   ],
   "source": [
    "# 종가의 5일 이동 평균\n",
    "moving_avg = df['Close'].rolling(window=5).mean()\n",
    "moving_avg2 = df['Close'].rolling(window=20).mean()  # 20일 이동 평균\n",
    "moving_avg.head(60)\n",
    "moving_avg2.head(60)"
   ]
  },
  {
   "cell_type": "code",
   "execution_count": 118,
   "id": "3ff23336",
   "metadata": {
    "ExecuteTime": {
     "end_time": "2023-01-13T02:46:13.159947Z",
     "start_time": "2023-01-13T02:46:13.117970Z"
    },
    "collapsed": true
   },
   "outputs": [
    {
     "data": {
      "text/plain": [
       "Date\n",
       "2012-01-03          NaN\n",
       "2012-01-04          NaN\n",
       "2012-01-05    59.820000\n",
       "2012-01-06    59.615000\n",
       "2012-01-09    59.528000\n",
       "                ...    \n",
       "2016-12-23    70.825000\n",
       "2016-12-27    70.750500\n",
       "2016-12-28    70.647499\n",
       "2016-12-29    70.588999\n",
       "2016-12-30    70.511500\n",
       "Name: Close, Length: 1258, dtype: float64"
      ]
     },
     "execution_count": 118,
     "metadata": {},
     "output_type": "execute_result"
    }
   ],
   "source": [
    "moving_avg3 = df['Close'].rolling(window=20, min_periods=3).mean() \n",
    "moving_avg3"
   ]
  },
  {
   "cell_type": "code",
   "execution_count": 121,
   "id": "be2695d5",
   "metadata": {
    "ExecuteTime": {
     "end_time": "2023-01-13T02:47:58.544005Z",
     "start_time": "2023-01-13T02:47:58.521248Z"
    },
    "collapsed": true
   },
   "outputs": [
    {
     "data": {
      "text/plain": [
       "Date\n",
       "2012-01-03          NaN\n",
       "2012-01-04          NaN\n",
       "2012-01-05          NaN\n",
       "2012-01-06          NaN\n",
       "2012-01-09          NaN\n",
       "2012-01-10          NaN\n",
       "2012-01-11          NaN\n",
       "2012-01-12          NaN\n",
       "2012-01-13          NaN\n",
       "2012-01-17          NaN\n",
       "2012-01-18    60.235500\n",
       "2012-01-19    60.328000\n",
       "2012-01-20    60.439500\n",
       "2012-01-23    60.570000\n",
       "2012-01-24    60.714000\n",
       "2012-01-25    60.839500\n",
       "2012-01-26    60.968500\n",
       "2012-01-27    61.096500\n",
       "2012-01-30    61.216500\n",
       "2012-01-31    61.329000\n",
       "2012-02-01    61.447500\n",
       "2012-02-02    61.535000\n",
       "2012-02-03    61.606500\n",
       "2012-02-06    61.680000\n",
       "2012-02-07    61.638000\n",
       "2012-02-08    61.498500\n",
       "2012-02-09    61.352000\n",
       "2012-02-10    61.243000\n",
       "2012-02-13    61.130500\n",
       "2012-02-14    61.012000\n",
       "2012-02-15    60.898000\n",
       "2012-02-16    60.730000\n",
       "2012-02-17    60.583500\n",
       "2012-02-21    60.452000\n",
       "2012-02-22    60.306500\n",
       "2012-02-23    60.215000\n",
       "2012-02-24    60.122500\n",
       "2012-02-27    60.028500\n",
       "2012-02-28    59.967500\n",
       "2012-02-29    59.928000\n",
       "2012-03-01    59.871000\n",
       "2012-03-02    59.844500\n",
       "2012-03-05    59.784500\n",
       "2012-03-06    59.697500\n",
       "2012-03-07    59.724000\n",
       "2012-03-08    59.822001\n",
       "2012-03-09    59.927501\n",
       "2012-03-12    60.025500\n",
       "2012-03-13    60.162501\n",
       "2012-03-14    60.270501\n",
       "2012-03-15    60.376000\n",
       "2012-03-16    60.476000\n",
       "2012-03-19    60.585501\n",
       "2012-03-20    60.683501\n",
       "2012-03-21    60.767501\n",
       "2012-03-22    60.787500\n",
       "2012-03-23    60.832500\n",
       "2012-03-26    60.835000\n",
       "2012-03-27    60.797500\n",
       "2012-03-28    60.737500\n",
       "Name: Close, dtype: float64"
      ]
     },
     "execution_count": 121,
     "metadata": {},
     "output_type": "execute_result"
    }
   ],
   "source": [
    "df['Close'].rolling(window=20, center=True).mean().head(60)"
   ]
  },
  {
   "cell_type": "code",
   "execution_count": 127,
   "id": "9aa2c76f",
   "metadata": {
    "ExecuteTime": {
     "end_time": "2023-01-13T02:52:08.668641Z",
     "start_time": "2023-01-13T02:52:08.659832Z"
    }
   },
   "outputs": [],
   "source": [
    "v = moving_avg2.first('Y')  #20일 이동평균\n",
    "v2 = df['Close'].first('Y') #원래 데이터"
   ]
  },
  {
   "cell_type": "code",
   "execution_count": 129,
   "id": "1ff1df1f",
   "metadata": {
    "ExecuteTime": {
     "end_time": "2023-01-13T02:53:39.659174Z",
     "start_time": "2023-01-13T02:53:38.119564Z"
    },
    "scrolled": true
   },
   "outputs": [
    {
     "data": {
      "image/png": "[encoded data removed]",
      "text/plain": [
       "<Figure size 2000x600 with 1 Axes>"
      ]
     },
     "metadata": {},
     "output_type": "display_data"
    }
   ],
   "source": [
    "import matplotlib.pyplot as plt\n",
    "plt.figure(figsize=(20,6))\n",
    "v.plot()\n",
    "v2.plot()\n",
    "plt.show()\n"
   ]
  },
  {
   "cell_type": "code",
   "execution_count": 128,
   "id": "9f0085f3",
   "metadata": {
    "ExecuteTime": {
     "end_time": "2023-01-13T02:52:47.499140Z",
     "start_time": "2023-01-13T02:52:47.472451Z"
    }
   },
   "outputs": [
    {
     "data": {
      "text/plain": [
       "Date\n",
       "2012-01-03    60.330002\n",
       "2012-01-04    59.709999\n",
       "2012-01-05    59.419998\n",
       "2012-01-06    59.000000\n",
       "2012-01-09    59.180000\n",
       "                ...    \n",
       "2012-12-24    68.570000\n",
       "2012-12-26    67.989998\n",
       "2012-12-27    68.190002\n",
       "2012-12-28    67.610001\n",
       "2012-12-31    68.230003\n",
       "Name: Close, Length: 250, dtype: float64"
      ]
     },
     "execution_count": 128,
     "metadata": {},
     "output_type": "execute_result"
    }
   ],
   "source": [
    "v2"
   ]
  },
  {
   "cell_type": "code",
   "execution_count": null,
   "id": "0f655623",
   "metadata": {},
   "outputs": [],
   "source": []
  },
  {
   "cell_type": "code",
   "execution_count": null,
   "id": "3a9772b8",
   "metadata": {},
   "outputs": [],
   "source": []
  },
  {
   "cell_type": "code",
   "execution_count": null,
   "id": "ecb43f21",
   "metadata": {},
   "outputs": [],
   "source": []
  },
  {
   "cell_type": "code",
   "execution_count": null,
   "id": "f79e4ad4",
   "metadata": {},
   "outputs": [],
   "source": []
  },
  {
   "cell_type": "code",
   "execution_count": null,
   "id": "ab50373c",
   "metadata": {},
   "outputs": [],
   "source": []
  },
  {
   "cell_type": "code",
   "execution_count": null,
   "id": "3a9541e1",
   "metadata": {},
   "outputs": [],
   "source": []
  },
  {
   "cell_type": "code",
   "execution_count": null,
   "id": "adad52b7",
   "metadata": {},
   "outputs": [],
   "source": []
  },
  {
   "cell_type": "code",
   "execution_count": null,
   "id": "8c953c68",
   "metadata": {},
   "outputs": [],
   "source": []
  }
 ],
 "metadata": {
  "kernelspec": {
   "display_name": "Python 3 (ipykernel)",
   "language": "python",
   "name": "python3"
  },
  "language_info": {
   "codemirror_mode": {
    "name": "ipython",
    "version": 3
   },
   "file_extension": ".py",
   "mimetype": "text/x-python",
   "name": "python",
   "nbconvert_exporter": "python",
   "pygments_lexer": "ipython3",
   "version": "3.9.15"
  },
  "toc": {
   "base_numbering": 1,
   "nav_menu": {},
   "number_sections": true,
   "sideBar": true,
   "skip_h1_title": false,
   "title_cell": "Table of Contents",
   "title_sidebar": "Contents",
   "toc_cell": false,
   "toc_position": {},
   "toc_section_display": true,
   "toc_window_display": false
  },
  "varInspector": {
   "cols": {
    "lenName": 16,
    "lenType": 16,
    "lenVar": 40
   },
   "kernels_config": {
    "python": {
     "delete_cmd_postfix": "",
     "delete_cmd_prefix": "del ",
     "library": "var_list.py",
     "varRefreshCmd": "print(var_dic_list())"
    },
    "r": {
     "delete_cmd_postfix": ") ",
     "delete_cmd_prefix": "rm(",
     "library": "var_list.r",
     "varRefreshCmd": "cat(var_dic_list()) "
    }
   },
   "types_to_exclude": [
    "module",
    "function",
    "builtin_function_or_method",
    "instance",
    "_Feature"
   ],
   "window_display": false
  }
 },
 "nbformat": 4,
 "nbformat_minor": 5
}
