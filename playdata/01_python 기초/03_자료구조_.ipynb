{
 "cells": [
  {
   "cell_type": "markdown",
   "id": "da193321",
   "metadata": {
    "slideshow": {
     "slide_type": "slide"
    }
   },
   "source": [
    "# 자료구조란\n",
    "\n",
    "- 여러 개의 값들을 모아서 관리하는 데이터 타입.\n",
    "    - 한 개의 변수는 한 개의 값 밖에는 가지지 못한다. 그러나 하나의 변수로 여러 개의 값 묶어서 저장해 관리해야 할 경우가 있다. \n",
    "    - 예) 고객의 정보의 경우 이름, 나이, 주소, 전화번호 등 여러개의 값이 모여서 하나의 값이 된다. \n",
    "- 파이썬은 데이터를 모으는 방식에 따라 다음과 같이 4개의 타입을 제공한다.\n",
    "    - List: 순서가 있으며 중복된 값들을 모으는 것을 허용하고 구성하는 값들(원소)을 변경할 수 있다.\n",
    "    - Tuple: 순서가 있으며 중복된 값들을 모으는 것을 허용하는데 구성하는 값들을 변경할 수 없다.\n",
    "    - Dictionary: key-value 형태로 값들을 저장해 관리한다.\n",
    "    - Set: 중복을 허용하지 않고 값들의 순서가 없다.\n",
    "- 원소, 성분, 요소, element\n",
    "    - 자료구조의 값들을 구성하는 개별 값들을 말한다.\n",
    "    - len(자료구조) 함수\n",
    "        - 자료구조 내의 원소의 개수를 반환한다."
   ]
  },
  {
   "cell_type": "markdown",
   "id": "84431cfd",
   "metadata": {
    "slideshow": {
     "slide_type": "slide"
    }
   },
   "source": [
    "# List (리스트)\n",
    "\n",
    "- 값을 순서대로 모아서 관리하는 자료구조. 원소(element)들을 순번을 이용해 식별한다.\n",
    "    - 각각의 원소가 어떤 값인지를 순번을 가지고 식별하기 때문에 순서가 매우 중요하다. 즉 같은 값에 대해 순서가 바뀌면 안된다.\n",
    "- 각 원소들은 순번을 index라고 하며 값을 조회하거나 변경할 때 index를 이용해 식별한다.\n",
    "    - index는 문자열과 마찮가지로 양수 index와 음수 index 두개가 각 값에 생긴다.\n",
    "    - 양수 index는 앞에서부터 음수 index는 뒤에서 부터 값을 식별할 때 사용하는 것이 편리하다.\n",
    "- 중복된 값들을 저장할 수 있다.\n",
    "- 각 원소들의 데이터 타입은 달라도 상관없다.\n",
    "    - 보통은 같은 타입의 데이터를 모은다.\n",
    "- 리스트를 구성하는 원소들을 변경할 수 있다. (추가, 삭제, 변경이 가능)\n",
    "\n",
    "## List 생성 구문\n",
    "```python\n",
    "[값, 값, 값, ..]\n",
    "```"
   ]
  },
  {
   "cell_type": "code",
   "execution_count": 6,
   "id": "9a37656f",
   "metadata": {
    "ExecuteTime": {
     "end_time": "2022-12-21T01:03:16.953083Z",
     "start_time": "2022-12-21T01:03:16.919447Z"
    }
   },
   "outputs": [
    {
     "name": "stdout",
     "output_type": "stream",
     "text": [
      "[10, 20, 30, 40, 50]\n"
     ]
    },
    {
     "data": {
      "text/plain": [
       "list"
      ]
     },
     "execution_count": 6,
     "metadata": {},
     "output_type": "execute_result"
    }
   ],
   "source": [
    "l1 = [10, 20, 30, 40, 50]\n",
    "print(l1)\n",
    "type(l1)"
   ]
  },
  {
   "cell_type": "code",
   "execution_count": 10,
   "id": "1ec20e88",
   "metadata": {
    "ExecuteTime": {
     "end_time": "2022-12-20T07:44:50.494604Z",
     "start_time": "2022-12-20T07:44:50.481491Z"
    }
   },
   "outputs": [
    {
     "name": "stdout",
     "output_type": "stream",
     "text": [
      "<class 'int'>\n"
     ]
    }
   ],
   "source": [
    "# type(값) : 값의 데이터타입을 반환\n",
    "type(30), type(3.2), type(True), type(\"abc\")\n",
    "x = 30\n",
    "type(x) == int\n",
    "type(x) == bool #str #float\n",
    "print(type(30))"
   ]
  },
  {
   "cell_type": "code",
   "execution_count": 12,
   "id": "efc59691",
   "metadata": {
    "ExecuteTime": {
     "end_time": "2022-12-20T07:45:39.022371Z",
     "start_time": "2022-12-20T07:45:39.008943Z"
    },
    "slideshow": {
     "slide_type": "fragment"
    }
   },
   "outputs": [
    {
     "name": "stdout",
     "output_type": "stream",
     "text": [
      "<class 'list'>\n"
     ]
    }
   ],
   "source": [
    "type(l1)\n",
    "print(type(l1))"
   ]
  },
  {
   "cell_type": "code",
   "execution_count": 7,
   "id": "e3ca838e",
   "metadata": {
    "ExecuteTime": {
     "end_time": "2022-12-21T01:03:54.315107Z",
     "start_time": "2022-12-21T01:03:54.289122Z"
    }
   },
   "outputs": [
    {
     "data": {
      "text/plain": [
       "[100, 4.5, True, 'abcd']"
      ]
     },
     "execution_count": 7,
     "metadata": {},
     "output_type": "execute_result"
    }
   ],
   "source": [
    "l2 = [100, 4.5, True, \"abcd\"]\n",
    "l2"
   ]
  },
  {
   "cell_type": "code",
   "execution_count": 8,
   "id": "81a29396",
   "metadata": {
    "ExecuteTime": {
     "end_time": "2022-12-21T01:03:59.896365Z",
     "start_time": "2022-12-21T01:03:59.875985Z"
    }
   },
   "outputs": [
    {
     "data": {
      "text/plain": [
       "[100, [1, 2, 3]]"
      ]
     },
     "execution_count": 8,
     "metadata": {},
     "output_type": "execute_result"
    }
   ],
   "source": [
    "l3 = [100, [1,2,3]] # 리스트(자료구조)도 값\n",
    "l3"
   ]
  },
  {
   "cell_type": "markdown",
   "id": "08d634bf",
   "metadata": {
    "slideshow": {
     "slide_type": "subslide"
    }
   },
   "source": [
    "## Indexing과 Slicing을 이용한 원소(element) 조회 및 변경\n",
    "\n",
    "### Indexing\n",
    "- 하나의 원소를 조회하거나 변경할 때 사용\n",
    "- 리스트\\[index\\] \n",
    "    - index의 원소를 조회\n",
    "- 리스트\\[index\\] = 값\n",
    "    - index의 원소를 변경"
   ]
  },
  {
   "cell_type": "markdown",
   "id": "ab5a40cb",
   "metadata": {
    "slideshow": {
     "slide_type": "fragment"
    }
   },
   "source": [
    "### Slicing\n",
    "- 범위로 조회하거나 그 범위의 값들을 변경한다.\n",
    "- 기본구문: **리스트\\[ 시작 index : 종료 index : 간격\\]**\n",
    "    - 시작 index ~ (종료 index – 1)\n",
    "    - 간격을 지정하면 간격만큼 index를 증/감한다. (생략 시 1이 기본 간격)\n",
    "- **0번 index 부터 조회 할 경우 시작 index는 생략가능**\n",
    "    - 리스트 \\[ : 5\\] => 0 ~ 4 까지 조회\n",
    "- **마지막 index까지 (끝까지) 조회 할 경우 종료 index는 생략 가능**\n",
    "    - 리스트\\[2 : \\] => 2번 index 에서 끝까지\n",
    "- **명시적으로 간격을 줄 경우**\n",
    "    - 리스트\\[ : : 3 \\] => 0, 3, 6, 9.. index의 값 조회\n",
    "    - 리스트\\[1 : 9 : 2\\] => 1, 3, 5, 7 index의 값 조회\n",
    "- **시작 index > 종료 index, 간격을 음수로 하면 역으로 반환한다.(Reverse)**\n",
    "    - 리스트\\[5: 1: -1\\] => 5, 4, 3, 2 index의 값 조회\n",
    "    - 리스트\\[: : -1\\]  => 마지막 index ~ 0번 index 까지 의미. Reverse 한다.\n",
    "\n",
    "#### slicing을 이용한 값 변경\n",
    "- slicing 을 이용할 경우 slicing된 원소 개수와 동일한 개수의 값들을 대입한다.\n",
    "    - `리스트[1:5] = 10,20,30,40` : index 1, 2, 3, 4의 값을 20으로 변경"
   ]
  },
  {
   "cell_type": "code",
   "execution_count": 10,
   "id": "7ecdd910",
   "metadata": {
    "ExecuteTime": {
     "end_time": "2022-12-21T01:14:34.395396Z",
     "start_time": "2022-12-21T01:14:34.367798Z"
    }
   },
   "outputs": [
    {
     "data": {
      "text/plain": [
       "7"
      ]
     },
     "execution_count": 10,
     "metadata": {},
     "output_type": "execute_result"
    }
   ],
   "source": [
    "l = [0, 1, 2, 3, 4, 5, 6, 7, 8, 9]\n",
    "# indexing - 한개값을 조회\n",
    "l[2] # 앞에서 세번째값\n",
    "l[-3]# 뒤에서 세번째값"
   ]
  },
  {
   "cell_type": "code",
   "execution_count": 13,
   "id": "b78806b9",
   "metadata": {
    "ExecuteTime": {
     "end_time": "2022-12-21T01:15:51.322204Z",
     "start_time": "2022-12-21T01:15:51.302530Z"
    }
   },
   "outputs": [
    {
     "name": "stdout",
     "output_type": "stream",
     "text": [
      "[0, 100, 2, 3, 4, 5, 6, 7, 8, 9]\n",
      "[0, 100, 2, 3, 4, 5, 6, 7, 800, 9]\n"
     ]
    }
   ],
   "source": [
    "# 변경\n",
    "l[1] = 100\n",
    "print(l)\n",
    "l[-2] = 800\n",
    "print(l)"
   ]
  },
  {
   "cell_type": "code",
   "execution_count": 14,
   "id": "113d8d9b",
   "metadata": {
    "ExecuteTime": {
     "end_time": "2022-12-21T01:17:05.373606Z",
     "start_time": "2022-12-21T01:17:05.353749Z"
    }
   },
   "outputs": [
    {
     "data": {
      "text/plain": [
       "[2, 4, 6]"
      ]
     },
     "execution_count": 14,
     "metadata": {},
     "output_type": "execute_result"
    }
   ],
   "source": [
    "# slicing: 범위로 여러개의 원소 조회\n",
    "l[2:7:2]"
   ]
  },
  {
   "cell_type": "code",
   "execution_count": 15,
   "id": "810d34b0",
   "metadata": {
    "ExecuteTime": {
     "end_time": "2022-12-21T01:17:58.974956Z",
     "start_time": "2022-12-21T01:17:58.956202Z"
    }
   },
   "outputs": [
    {
     "data": {
      "text/plain": [
       "[2, 3, 4, 5, 6]"
      ]
     },
     "execution_count": 15,
     "metadata": {},
     "output_type": "execute_result"
    }
   ],
   "source": [
    "l[2:7]"
   ]
  },
  {
   "cell_type": "code",
   "execution_count": 16,
   "id": "5d462776",
   "metadata": {
    "ExecuteTime": {
     "end_time": "2022-12-21T01:18:31.953586Z",
     "start_time": "2022-12-21T01:18:31.934898Z"
    },
    "slideshow": {
     "slide_type": "fragment"
    }
   },
   "outputs": [
    {
     "data": {
      "text/plain": [
       "[0, 100, 2, 3, 4, 5, 6]"
      ]
     },
     "execution_count": 16,
     "metadata": {},
     "output_type": "execute_result"
    }
   ],
   "source": [
    "l[:7]  # 0 ~ 7-1, 1씩 증가"
   ]
  },
  {
   "cell_type": "code",
   "execution_count": 17,
   "id": "e39aa21a",
   "metadata": {
    "ExecuteTime": {
     "end_time": "2022-12-21T01:19:05.322733Z",
     "start_time": "2022-12-21T01:19:05.303474Z"
    }
   },
   "outputs": [
    {
     "data": {
      "text/plain": [
       "[4, 5, 6, 7, 800, 9]"
      ]
     },
     "execution_count": 17,
     "metadata": {},
     "output_type": "execute_result"
    }
   ],
   "source": [
    "l[4:] # 4 ~ 끝, 1씩 증가"
   ]
  },
  {
   "cell_type": "code",
   "execution_count": 22,
   "id": "836adb57",
   "metadata": {
    "ExecuteTime": {
     "end_time": "2022-12-21T01:22:10.751993Z",
     "start_time": "2022-12-21T01:22:10.730853Z"
    }
   },
   "outputs": [
    {
     "data": {
      "text/plain": [
       "[4, 7]"
      ]
     },
     "execution_count": 22,
     "metadata": {},
     "output_type": "execute_result"
    }
   ],
   "source": [
    "l2 = l[4::3] # 4 ~ 끝, 3씩 증가\n",
    "l2"
   ]
  },
  {
   "cell_type": "code",
   "execution_count": 20,
   "id": "72af01b7",
   "metadata": {
    "ExecuteTime": {
     "end_time": "2022-12-21T01:21:14.495378Z",
     "start_time": "2022-12-21T01:21:14.464256Z"
    }
   },
   "outputs": [
    {
     "data": {
      "text/plain": [
       "[800, 7, 6, 5, 4, 3]"
      ]
     },
     "execution_count": 20,
     "metadata": {},
     "output_type": "execute_result"
    }
   ],
   "source": [
    "l[8:2:-1]  # 8 ~ 2-(-1)"
   ]
  },
  {
   "cell_type": "code",
   "execution_count": 21,
   "id": "8dd20ac2",
   "metadata": {
    "ExecuteTime": {
     "end_time": "2022-12-21T01:21:39.305103Z",
     "start_time": "2022-12-21T01:21:39.278144Z"
    }
   },
   "outputs": [
    {
     "data": {
      "text/plain": [
       "[9, 800, 7, 6, 5, 4, 3, 2, 100, 0]"
      ]
     },
     "execution_count": 21,
     "metadata": {},
     "output_type": "execute_result"
    }
   ],
   "source": [
    "l[::-1]"
   ]
  },
  {
   "cell_type": "markdown",
   "id": "a4f9fe12",
   "metadata": {
    "slideshow": {
     "slide_type": "slide"
    }
   },
   "source": [
    "## List 연산자\n",
    "- 리스트 + 리스트\n",
    "    - 두 리스트의 원소들을 합친 리스트를 반환한다.\n",
    "- 리스트 * 정수\n",
    "    - 같은 리스트의 원소들을 정수번 합친 리스트를 반환한다.   \n",
    "- in, not in 연산자\n",
    "    - 값 in 리스트\n",
    "        - 리스트의 원소로 값이 **있으면** True, 없으면 False 반환\n",
    "    - 값 not in 리스트\n",
    "        - 리스트의 원소로 값이 **없으면** True, 있으면 False 반환  \n",
    "- len(리스트)\n",
    "    - 리스트 내의 원소수를 반환.        "
   ]
  },
  {
   "cell_type": "code",
   "execution_count": 24,
   "id": "8ab01697",
   "metadata": {
    "ExecuteTime": {
     "end_time": "2022-12-21T01:25:19.786019Z",
     "start_time": "2022-12-21T01:25:19.759302Z"
    }
   },
   "outputs": [
    {
     "name": "stdout",
     "output_type": "stream",
     "text": [
      "[1, 2, 3, 10, 20, 30]\n",
      "[1, 2, 3]\n",
      "[10, 20, 30]\n"
     ]
    }
   ],
   "source": [
    "a = [1, 2, 3]\n",
    "b = [10, 20, 30]\n",
    "c = a + b\n",
    "print(c)\n",
    "print(a)\n",
    "print(b)"
   ]
  },
  {
   "cell_type": "code",
   "execution_count": 27,
   "id": "7d89a019",
   "metadata": {
    "ExecuteTime": {
     "end_time": "2022-12-21T01:26:04.448677Z",
     "start_time": "2022-12-21T01:26:04.429294Z"
    }
   },
   "outputs": [
    {
     "name": "stdout",
     "output_type": "stream",
     "text": [
      "[1, 2, 3, 1, 2, 3, 1, 2, 3, 1, 2, 3, 1, 2, 3]\n",
      "[1, 2, 3]\n"
     ]
    }
   ],
   "source": [
    "d = a * 5  # a + a + a + a + a\n",
    "print(d)\n",
    "print(a)"
   ]
  },
  {
   "cell_type": "code",
   "execution_count": 31,
   "id": "3e1c2028",
   "metadata": {
    "ExecuteTime": {
     "end_time": "2022-12-21T01:27:09.519864Z",
     "start_time": "2022-12-21T01:27:09.505253Z"
    }
   },
   "outputs": [
    {
     "name": "stdout",
     "output_type": "stream",
     "text": [
      "True\n",
      "False\n"
     ]
    }
   ],
   "source": [
    "print(10 in c)  # 10이 리스트 c의 원소로 있는지 여부\n",
    "print(100 in c)"
   ]
  },
  {
   "cell_type": "code",
   "execution_count": 33,
   "id": "c8fbc116",
   "metadata": {
    "ExecuteTime": {
     "end_time": "2022-12-21T01:28:01.361024Z",
     "start_time": "2022-12-21T01:28:01.333897Z"
    }
   },
   "outputs": [
    {
     "name": "stdout",
     "output_type": "stream",
     "text": [
      "False\n",
      "True\n"
     ]
    }
   ],
   "source": [
    "print(10 not in c)# 10이 리스트 c의 원소로 없는지 여부\n",
    "print(100 not in c)"
   ]
  },
  {
   "cell_type": "code",
   "execution_count": 36,
   "id": "defbd4fa",
   "metadata": {
    "ExecuteTime": {
     "end_time": "2022-12-21T01:29:52.331240Z",
     "start_time": "2022-12-21T01:29:52.301136Z"
    }
   },
   "outputs": [
    {
     "name": "stdout",
     "output_type": "stream",
     "text": [
      "False\n",
      "True\n"
     ]
    }
   ],
   "source": [
    "print([1, 2] in c)\n",
    "c = [[1,2], 3, 4]\n",
    "print([1, 2] in c)"
   ]
  },
  {
   "cell_type": "code",
   "execution_count": 42,
   "id": "7c2534f5",
   "metadata": {
    "ExecuteTime": {
     "end_time": "2022-12-21T01:35:03.956954Z",
     "start_time": "2022-12-21T01:35:03.934378Z"
    }
   },
   "outputs": [
    {
     "data": {
      "text/plain": [
       "True"
      ]
     },
     "execution_count": 42,
     "metadata": {},
     "output_type": "execute_result"
    }
   ],
   "source": [
    "3 in c and  4 in c  # c안에 3, 4둘다 있는지 여부\n",
    "3 in c or 100 in c  # c안에 3 또는 100 둘중 하나가 있는지 여부"
   ]
  },
  {
   "cell_type": "code",
   "execution_count": 45,
   "id": "8df2295e",
   "metadata": {
    "ExecuteTime": {
     "end_time": "2022-12-21T01:35:34.997826Z",
     "start_time": "2022-12-21T01:35:34.969234Z"
    }
   },
   "outputs": [
    {
     "data": {
      "text/plain": [
       "[[1, 2], 3, 4]"
      ]
     },
     "execution_count": 45,
     "metadata": {},
     "output_type": "execute_result"
    }
   ],
   "source": [
    "c"
   ]
  },
  {
   "cell_type": "code",
   "execution_count": 47,
   "id": "cdc6218c",
   "metadata": {
    "ExecuteTime": {
     "end_time": "2022-12-21T01:35:56.603778Z",
     "start_time": "2022-12-21T01:35:56.575587Z"
    }
   },
   "outputs": [
    {
     "data": {
      "text/plain": [
       "(3, 4)"
      ]
     },
     "execution_count": 47,
     "metadata": {},
     "output_type": "execute_result"
    }
   ],
   "source": [
    "c[1], c[2]"
   ]
  },
  {
   "cell_type": "markdown",
   "id": "f90af754",
   "metadata": {
    "slideshow": {
     "slide_type": "slide"
    }
   },
   "source": [
    "## 중첩 리스트 (Nested List)\n",
    "- List가 원소로 List를 가지는 것을 말한다.\n",
    "    - List를 포함한 모든 자료구조 타입들도 다 값이므로 다른 자료구조의 원소로 들어갈 수 있다.    "
   ]
  },
  {
   "cell_type": "code",
   "execution_count": 48,
   "id": "55f3cb9d",
   "metadata": {
    "ExecuteTime": {
     "end_time": "2022-12-21T01:39:00.010234Z",
     "start_time": "2022-12-21T01:38:59.984237Z"
    }
   },
   "outputs": [],
   "source": [
    "l = [\n",
    "    [1, 2, 3],\n",
    "    [4, 5, 6], \n",
    "    [7, 8, 9]\n",
    "]"
   ]
  },
  {
   "cell_type": "code",
   "execution_count": 49,
   "id": "e16ade16",
   "metadata": {
    "ExecuteTime": {
     "end_time": "2022-12-21T01:39:05.662727Z",
     "start_time": "2022-12-21T01:39:05.642290Z"
    }
   },
   "outputs": [
    {
     "name": "stdout",
     "output_type": "stream",
     "text": [
      "[[1, 2, 3], [4, 5, 6], [7, 8, 9]]\n"
     ]
    }
   ],
   "source": [
    "print(l)"
   ]
  },
  {
   "cell_type": "code",
   "execution_count": 50,
   "id": "7b3fada4",
   "metadata": {
    "ExecuteTime": {
     "end_time": "2022-12-21T01:44:41.428498Z",
     "start_time": "2022-12-21T01:44:41.414077Z"
    }
   },
   "outputs": [
    {
     "data": {
      "text/plain": [
       "3"
      ]
     },
     "execution_count": 50,
     "metadata": {},
     "output_type": "execute_result"
    }
   ],
   "source": [
    "len(l)"
   ]
  },
  {
   "cell_type": "code",
   "execution_count": 53,
   "id": "cc3e22d4",
   "metadata": {
    "ExecuteTime": {
     "end_time": "2022-12-21T01:46:12.125480Z",
     "start_time": "2022-12-21T01:46:12.091981Z"
    }
   },
   "outputs": [
    {
     "data": {
      "text/plain": [
       "(2, 9)"
      ]
     },
     "execution_count": 53,
     "metadata": {},
     "output_type": "execute_result"
    }
   ],
   "source": [
    "l[0][1],  l[2][2]"
   ]
  },
  {
   "cell_type": "markdown",
   "id": "29ff0e07",
   "metadata": {
    "slideshow": {
     "slide_type": "slide"
    }
   },
   "source": [
    "## List 대입\n",
    "리스트의 원소들을 각각 다른 변수에 대입하는 표현식"
   ]
  },
  {
   "cell_type": "code",
   "execution_count": 54,
   "id": "0ad461b1",
   "metadata": {
    "ExecuteTime": {
     "end_time": "2022-12-21T01:47:58.564653Z",
     "start_time": "2022-12-21T01:47:58.546654Z"
    }
   },
   "outputs": [
    {
     "name": "stdout",
     "output_type": "stream",
     "text": [
      "1 , 2 , 3\n"
     ]
    }
   ],
   "source": [
    "l = [1, 2, 3]\n",
    "num1, num2, num3 = l\n",
    "print(num1, num2, num3, sep=' , ')"
   ]
  },
  {
   "cell_type": "code",
   "execution_count": 61,
   "id": "4823adbf",
   "metadata": {
    "ExecuteTime": {
     "end_time": "2022-12-21T01:52:26.864290Z",
     "start_time": "2022-12-21T01:52:26.855731Z"
    }
   },
   "outputs": [
    {
     "name": "stdout",
     "output_type": "stream",
     "text": [
      "100 200 300\n"
     ]
    }
   ],
   "source": [
    "a, b, c = [100, 200, 300]\n",
    "print(a, b, c)"
   ]
  },
  {
   "cell_type": "code",
   "execution_count": 62,
   "id": "f2f33e58",
   "metadata": {
    "ExecuteTime": {
     "end_time": "2022-12-21T01:52:30.595884Z",
     "start_time": "2022-12-21T01:52:30.580955Z"
    }
   },
   "outputs": [],
   "source": [
    "    d, e, f = 1, 2, 3  # tuple 대입"
   ]
  },
  {
   "cell_type": "markdown",
   "id": "826b8780",
   "metadata": {
    "slideshow": {
     "slide_type": "slide"
    }
   },
   "source": [
    "## List 주요 메소드\n",
    "|메소드|설명|\n",
    "|:-|-|\n",
    "|append(value)|value를  추가한다.|\n",
    "|extend(List)|List의 원소들을 추가한다.|\n",
    "|sort(\\[reverse=False\\])|원소들을 오름차순 정렬한다. reverse=True로 하면 내림차순정렬 한다.|\n",
    "|insert(index, 삽입할값)|지정한 index에 '삽입할값'을 삽입한다.|\n",
    "|remove(삭제할값)|'삭제할값' 값과 같은 원소를 삭제한다.|\n",
    "|index(찾을값\\[, 시작index\\])|'찾을값'의 index를 반환한다.|\n",
    "|pop(\\[index\\])|index의 값을 반환하면서 삭제한다. index 생략하면 가장 마지막 값을 반환하며 삭제한다.|\n",
    "|count(값)|'값'이 리스트의 원소로 몇개 있는지 반환한다.|\n",
    "|clear()|리스트 안의 모든 원소들을 삭제한다.|\n",
    "\n"
   ]
  },
  {
   "cell_type": "code",
   "execution_count": 64,
   "id": "f0367b63",
   "metadata": {
    "ExecuteTime": {
     "end_time": "2022-12-21T02:14:23.761781Z",
     "start_time": "2022-12-21T02:14:23.741244Z"
    }
   },
   "outputs": [
    {
     "name": "stdout",
     "output_type": "stream",
     "text": [
      "[1, 2, 3]\n",
      "[1, 2, 3, 10]\n"
     ]
    }
   ],
   "source": [
    "l = [1, 2, 3]\n",
    "print(l)\n",
    "l.append(10) # 10을 l에 추가\n",
    "print(l)"
   ]
  },
  {
   "cell_type": "code",
   "execution_count": 65,
   "id": "80b7eec9",
   "metadata": {
    "ExecuteTime": {
     "end_time": "2022-12-21T02:16:05.021277Z",
     "start_time": "2022-12-21T02:16:05.012471Z"
    }
   },
   "outputs": [
    {
     "data": {
      "text/plain": [
       "['첫번째 결과', '두번째 결과', '세번째 결과']"
      ]
     },
     "execution_count": 65,
     "metadata": {},
     "output_type": "execute_result"
    }
   ],
   "source": [
    "result = []  #빈 리스트\n",
    "# 처리\n",
    "result.append('첫번째 결과')\n",
    "# 처리\n",
    "result.append('두번째 결과')\n",
    "# 처리\n",
    "result.append('세번째 결과')\n",
    "result"
   ]
  },
  {
   "cell_type": "code",
   "execution_count": 67,
   "id": "2bff87d9",
   "metadata": {
    "ExecuteTime": {
     "end_time": "2022-12-21T02:18:06.016294Z",
     "start_time": "2022-12-21T02:18:05.999142Z"
    }
   },
   "outputs": [
    {
     "name": "stdout",
     "output_type": "stream",
     "text": [
      "[1, 2, 3, 10, 100, 200, 300]\n"
     ]
    }
   ],
   "source": [
    "l.extend([100, 200, 300])\n",
    "print(l)"
   ]
  },
  {
   "cell_type": "code",
   "execution_count": 69,
   "id": "911e6ac5",
   "metadata": {
    "ExecuteTime": {
     "end_time": "2022-12-21T02:19:42.462161Z",
     "start_time": "2022-12-21T02:19:42.428231Z"
    }
   },
   "outputs": [
    {
     "name": "stdout",
     "output_type": "stream",
     "text": [
      "[2, 4, 7, 8, 20, 30, 100]\n",
      "[100, 30, 20, 8, 7, 4, 2]\n"
     ]
    }
   ],
   "source": [
    "l2 = [ 2, 100, 7, 20, 30, 4, 8]\n",
    "# 정렬\n",
    "l2.sort() # 오름차순\n",
    "print(l2)\n",
    "l2.sort(reverse=True) #내림차순\n",
    "print(l2)"
   ]
  },
  {
   "cell_type": "code",
   "execution_count": 70,
   "id": "3b1fb831",
   "metadata": {
    "ExecuteTime": {
     "end_time": "2022-12-21T02:20:37.108253Z",
     "start_time": "2022-12-21T02:20:37.097023Z"
    }
   },
   "outputs": [
    {
     "data": {
      "text/plain": [
       "[2, 4, 7, 8, 20, 30, 100]"
      ]
     },
     "execution_count": 70,
     "metadata": {},
     "output_type": "execute_result"
    }
   ],
   "source": [
    "sorted(l2) # l2를 정렬한 결과를 담은 새로운 리스트를 반환\n",
    "# list 만 아니라 다른 자료구조들도 정렬한다."
   ]
  },
  {
   "cell_type": "code",
   "execution_count": 72,
   "id": "56aa9f68",
   "metadata": {
    "ExecuteTime": {
     "end_time": "2022-12-21T02:22:33.910087Z",
     "start_time": "2022-12-21T02:22:33.892908Z"
    }
   },
   "outputs": [
    {
     "data": {
      "text/plain": [
       "[100, 30, 20, 8, 7, 4, 2]"
      ]
     },
     "execution_count": 72,
     "metadata": {},
     "output_type": "execute_result"
    }
   ],
   "source": [
    "sorted(l2, reverse=True) # 내림차순"
   ]
  },
  {
   "cell_type": "code",
   "execution_count": 73,
   "id": "daefdd81",
   "metadata": {
    "ExecuteTime": {
     "end_time": "2022-12-21T02:24:50.999010Z",
     "start_time": "2022-12-21T02:24:50.972322Z"
    }
   },
   "outputs": [],
   "source": [
    "l2.sort()"
   ]
  },
  {
   "cell_type": "code",
   "execution_count": 74,
   "id": "99a88948",
   "metadata": {
    "ExecuteTime": {
     "end_time": "2022-12-21T02:24:56.804913Z",
     "start_time": "2022-12-21T02:24:56.796710Z"
    }
   },
   "outputs": [
    {
     "data": {
      "text/plain": [
       "[2, 4, 7, 8, 20, 30, 100]"
      ]
     },
     "execution_count": 74,
     "metadata": {},
     "output_type": "execute_result"
    }
   ],
   "source": [
    "sorted(l2)"
   ]
  },
  {
   "cell_type": "code",
   "execution_count": 77,
   "id": "09cf0819",
   "metadata": {
    "ExecuteTime": {
     "end_time": "2022-12-21T02:26:51.935019Z",
     "start_time": "2022-12-21T02:26:51.922785Z"
    }
   },
   "outputs": [],
   "source": [
    "l2.insert(2, 1000)"
   ]
  },
  {
   "cell_type": "code",
   "execution_count": 78,
   "id": "d7a1f5cf",
   "metadata": {
    "ExecuteTime": {
     "end_time": "2022-12-21T02:27:10.817482Z",
     "start_time": "2022-12-21T02:27:10.804073Z"
    },
    "scrolled": true
   },
   "outputs": [
    {
     "name": "stdout",
     "output_type": "stream",
     "text": [
      "[2, 4, 1000, 7, 8, 20, 30, 100]\n"
     ]
    }
   ],
   "source": [
    "print(l2)"
   ]
  },
  {
   "cell_type": "code",
   "execution_count": 80,
   "id": "ffffa492",
   "metadata": {
    "ExecuteTime": {
     "end_time": "2022-12-21T02:28:08.577079Z",
     "start_time": "2022-12-21T02:28:08.562487Z"
    }
   },
   "outputs": [],
   "source": [
    "l2.remove(1000) #값으로 삭제. 처음 찾은 한개만 삭제"
   ]
  },
  {
   "cell_type": "code",
   "execution_count": 81,
   "id": "7931c595",
   "metadata": {
    "ExecuteTime": {
     "end_time": "2022-12-21T02:28:12.792447Z",
     "start_time": "2022-12-21T02:28:12.783819Z"
    }
   },
   "outputs": [
    {
     "name": "stdout",
     "output_type": "stream",
     "text": [
      "[2, 4, 7, 8, 20, 30, 100]\n"
     ]
    }
   ],
   "source": [
    "print(l2)"
   ]
  },
  {
   "cell_type": "code",
   "execution_count": 82,
   "id": "2acfa3a2",
   "metadata": {
    "ExecuteTime": {
     "end_time": "2022-12-21T02:29:08.864750Z",
     "start_time": "2022-12-21T02:29:08.852699Z"
    }
   },
   "outputs": [
    {
     "name": "stdout",
     "output_type": "stream",
     "text": [
      "[1, 1, 1, 1, 1, 1]\n"
     ]
    }
   ],
   "source": [
    "l3 = [1,1,1,1,1,1,1]\n",
    "l3.remove(1)\n",
    "print(l3)"
   ]
  },
  {
   "cell_type": "code",
   "execution_count": 83,
   "id": "c6f76d56",
   "metadata": {
    "ExecuteTime": {
     "end_time": "2022-12-21T02:29:39.893590Z",
     "start_time": "2022-12-21T02:29:39.876676Z"
    },
    "collapsed": true
   },
   "outputs": [
    {
     "ename": "ValueError",
     "evalue": "list.remove(x): x not in list",
     "output_type": "error",
     "traceback": [
      "\u001b[1;31m---------------------------------------------------------------------------\u001b[0m",
      "\u001b[1;31mValueError\u001b[0m                                Traceback (most recent call last)",
      "\u001b[1;32m~\\AppData\\Local\\Temp\\ipykernel_4180\\184048214.py\u001b[0m in \u001b[0;36m<module>\u001b[1;34m\u001b[0m\n\u001b[1;32m----> 1\u001b[1;33m \u001b[0ml3\u001b[0m\u001b[1;33m.\u001b[0m\u001b[0mremove\u001b[0m\u001b[1;33m(\u001b[0m\u001b[1;36m2\u001b[0m\u001b[1;33m)\u001b[0m\u001b[1;33m\u001b[0m\u001b[1;33m\u001b[0m\u001b[0m\n\u001b[0m",
      "\u001b[1;31mValueError\u001b[0m: list.remove(x): x not in list"
     ]
    }
   ],
   "source": [
    "l3.remove(2)  # 없는 값을 삭제하면 에러(Exception-예외)발생."
   ]
  },
  {
   "cell_type": "code",
   "execution_count": 86,
   "id": "8564346e",
   "metadata": {
    "ExecuteTime": {
     "end_time": "2022-12-21T02:31:22.316236Z",
     "start_time": "2022-12-21T02:31:22.296741Z"
    }
   },
   "outputs": [],
   "source": [
    "# index로 삭제\n",
    "del l2[3]"
   ]
  },
  {
   "cell_type": "code",
   "execution_count": 87,
   "id": "77922352",
   "metadata": {
    "ExecuteTime": {
     "end_time": "2022-12-21T02:31:25.158201Z",
     "start_time": "2022-12-21T02:31:25.141701Z"
    }
   },
   "outputs": [
    {
     "data": {
      "text/plain": [
       "[2, 4, 7, 20, 30, 100]"
      ]
     },
     "execution_count": 87,
     "metadata": {},
     "output_type": "execute_result"
    }
   ],
   "source": [
    "l2"
   ]
  },
  {
   "cell_type": "code",
   "execution_count": 88,
   "id": "028b5f02",
   "metadata": {
    "ExecuteTime": {
     "end_time": "2022-12-21T02:31:37.291200Z",
     "start_time": "2022-12-21T02:31:37.276869Z"
    }
   },
   "outputs": [
    {
     "data": {
      "text/plain": [
       "20"
      ]
     },
     "execution_count": 88,
     "metadata": {},
     "output_type": "execute_result"
    }
   ],
   "source": [
    "l2[3]"
   ]
  },
  {
   "cell_type": "code",
   "execution_count": 90,
   "id": "4c472ee4",
   "metadata": {
    "ExecuteTime": {
     "end_time": "2022-12-21T02:33:04.883777Z",
     "start_time": "2022-12-21T02:33:04.864099Z"
    }
   },
   "outputs": [
    {
     "name": "stdout",
     "output_type": "stream",
     "text": [
      "100\n"
     ]
    },
    {
     "data": {
      "text/plain": [
       "[2, 4, 7, 20, 30]"
      ]
     },
     "execution_count": 90,
     "metadata": {},
     "output_type": "execute_result"
    }
   ],
   "source": [
    "# 삭제한 뒤 삭제한 값을 반환\n",
    "r = l2.pop()  # 마지막 index의 값을 삭제하면서 반환\n",
    "print(r)\n",
    "l2"
   ]
  },
  {
   "cell_type": "code",
   "execution_count": 91,
   "id": "9b42cac7",
   "metadata": {
    "ExecuteTime": {
     "end_time": "2022-12-21T02:33:44.769060Z",
     "start_time": "2022-12-21T02:33:44.758191Z"
    }
   },
   "outputs": [
    {
     "name": "stdout",
     "output_type": "stream",
     "text": [
      "7\n"
     ]
    },
    {
     "data": {
      "text/plain": [
       "[2, 4, 20, 30]"
      ]
     },
     "execution_count": 91,
     "metadata": {},
     "output_type": "execute_result"
    }
   ],
   "source": [
    "r2 = l2.pop(2) # 2번 index의 값을 삭제하면서 반환\n",
    "print(r2)\n",
    "l2"
   ]
  },
  {
   "cell_type": "code",
   "execution_count": 92,
   "id": "a28d6fda",
   "metadata": {
    "ExecuteTime": {
     "end_time": "2022-12-21T02:34:33.943360Z",
     "start_time": "2022-12-21T02:34:33.925214Z"
    }
   },
   "outputs": [
    {
     "name": "stdout",
     "output_type": "stream",
     "text": [
      "[2, 4, 20, 30]\n",
      "[]\n",
      "0\n"
     ]
    }
   ],
   "source": [
    "print(l2)\n",
    "l2.clear()\n",
    "print(l2)\n",
    "print(len(l2))"
   ]
  },
  {
   "cell_type": "code",
   "execution_count": 96,
   "id": "47edd6a8",
   "metadata": {
    "ExecuteTime": {
     "end_time": "2022-12-21T02:37:23.431190Z",
     "start_time": "2022-12-21T02:37:23.412145Z"
    }
   },
   "outputs": [
    {
     "name": "stdout",
     "output_type": "stream",
     "text": [
      "[1, 1, 1, 1, 1, 1]\n",
      "0\n",
      "3\n"
     ]
    }
   ],
   "source": [
    "print(l3)\n",
    "print(l3.index(1))  # 원소값 1이 몇번 index에 있는지 조회. 조회는 앞에서부터(index 0부터) 찾는다.\n",
    "print(l3.index(1, 3))# index 3부터 찾는다."
   ]
  },
  {
   "cell_type": "code",
   "execution_count": 98,
   "id": "46627b02",
   "metadata": {
    "ExecuteTime": {
     "end_time": "2022-12-21T02:38:41.567246Z",
     "start_time": "2022-12-21T02:38:41.555496Z"
    }
   },
   "outputs": [
    {
     "data": {
      "text/plain": [
       "6"
      ]
     },
     "execution_count": 98,
     "metadata": {},
     "output_type": "execute_result"
    }
   ],
   "source": [
    "l3.count(1)  # 원소 1이 몇개 있는지?"
   ]
  },
  {
   "cell_type": "code",
   "execution_count": 100,
   "id": "d51d3b60",
   "metadata": {
    "ExecuteTime": {
     "end_time": "2022-12-21T02:40:17.957881Z",
     "start_time": "2022-12-21T02:40:17.947805Z"
    }
   },
   "outputs": [
    {
     "data": {
      "text/plain": [
       "['-', '3', 'A', 'a', '가']"
      ]
     },
     "execution_count": 100,
     "metadata": {},
     "output_type": "execute_result"
    }
   ],
   "source": [
    "l4 = [\"A\", \"a\", \"가\", \"3\", \"-\"]\n",
    "sorted(l4)"
   ]
  },
  {
   "cell_type": "markdown",
   "id": "5b28f033",
   "metadata": {
    "slideshow": {
     "slide_type": "slide"
    }
   },
   "source": [
    "# Tuple (튜플)\n",
    "- List와 같이 순서대로 원소들을 관리한다. 단 저장된 원소를 변경할 수 없다.\n",
    "- Tuple 은 각 위치(Index) 마다 정해진 의미가 있고 그 값이 한번 설정되면 바뀌지 않는 경우에 사용한다. \n",
    "    - Tuple은 값의 변경되지 않으므로 안전하다.\n",
    "    \n",
    "## Tuple 생성\n",
    "- `(value, value, value, ...)`\n",
    "- 소괄호를 생략할 수 있다.\n",
    "- 원소가 하나인 Tuple 표현식\n",
    "    - `(value,)` 또는 `value,` \n",
    "        - 값 뒤에 `,` 를 붙여준다. `,`를 붙이지 않으면 ( )가 연산자 우선순위 괄호가 된다. "
   ]
  },
  {
   "cell_type": "code",
   "execution_count": 107,
   "id": "33fbc32d",
   "metadata": {
    "ExecuteTime": {
     "end_time": "2022-12-21T03:13:01.666763Z",
     "start_time": "2022-12-21T03:13:01.643286Z"
    }
   },
   "outputs": [
    {
     "name": "stdout",
     "output_type": "stream",
     "text": [
      "(1, 2, 3, 4, 5)\n",
      "('A', 'B', 'C')\n",
      "('A', 20, True)\n"
     ]
    }
   ],
   "source": [
    "t1 = (1, 2, 3, 4, 5)\n",
    "t2 = ('A', 'B' , 'C')\n",
    "t3 = ('A', 20, True)\n",
    "print(t1)\n",
    "print(t2)\n",
    "print(t3)"
   ]
  },
  {
   "cell_type": "code",
   "execution_count": 109,
   "id": "ee899729",
   "metadata": {
    "ExecuteTime": {
     "end_time": "2022-12-21T03:13:37.233282Z",
     "start_time": "2022-12-21T03:13:37.218703Z"
    }
   },
   "outputs": [
    {
     "name": "stdout",
     "output_type": "stream",
     "text": [
      "<class 'tuple'>\n"
     ]
    },
    {
     "data": {
      "text/plain": [
       "tuple"
      ]
     },
     "execution_count": 109,
     "metadata": {},
     "output_type": "execute_result"
    }
   ],
   "source": [
    "print(type(t1))\n",
    "type(t1)"
   ]
  },
  {
   "cell_type": "code",
   "execution_count": 111,
   "id": "179fa5f8",
   "metadata": {
    "ExecuteTime": {
     "end_time": "2022-12-21T03:14:18.951327Z",
     "start_time": "2022-12-21T03:14:18.931834Z"
    }
   },
   "outputs": [
    {
     "name": "stdout",
     "output_type": "stream",
     "text": [
      "True\n",
      "False\n"
     ]
    }
   ],
   "source": [
    "print(type(t1) == tuple)\n",
    "print(type(t1) == list)"
   ]
  },
  {
   "cell_type": "code",
   "execution_count": 120,
   "id": "10af4800",
   "metadata": {
    "ExecuteTime": {
     "end_time": "2022-12-21T03:18:17.380013Z",
     "start_time": "2022-12-21T03:18:17.371988Z"
    }
   },
   "outputs": [
    {
     "data": {
      "text/plain": [
       "(1, 2, 3, 4, 5)"
      ]
     },
     "execution_count": 120,
     "metadata": {},
     "output_type": "execute_result"
    }
   ],
   "source": [
    "t5 = 1,2,3,4,5\n",
    "t5"
   ]
  },
  {
   "cell_type": "code",
   "execution_count": 122,
   "id": "fb9d7ebc",
   "metadata": {
    "ExecuteTime": {
     "end_time": "2022-12-21T03:18:53.186209Z",
     "start_time": "2022-12-21T03:18:53.170506Z"
    }
   },
   "outputs": [
    {
     "data": {
      "text/plain": [
       "tuple"
      ]
     },
     "execution_count": 122,
     "metadata": {},
     "output_type": "execute_result"
    }
   ],
   "source": [
    "t5 = (1,)   # 원소가 1개인 튜플\n",
    "type(t5)"
   ]
  },
  {
   "cell_type": "code",
   "execution_count": 126,
   "id": "79dd6f83",
   "metadata": {
    "ExecuteTime": {
     "end_time": "2022-12-21T03:19:32.331510Z",
     "start_time": "2022-12-21T03:19:32.315166Z"
    }
   },
   "outputs": [
    {
     "data": {
      "text/plain": [
       "(tuple, 1)"
      ]
     },
     "execution_count": 126,
     "metadata": {},
     "output_type": "execute_result"
    }
   ],
   "source": [
    "t6 = 1.5,\n",
    "type(t6), len(t6)"
   ]
  },
  {
   "cell_type": "markdown",
   "id": "16954356",
   "metadata": {
    "slideshow": {
     "slide_type": "slide"
    }
   },
   "source": [
    "## Indexing과 Slicing을 이용한 원소(element) 조회\n",
    "- 리스트와 동일하다.\n",
    "- 단 튜플은 조회만 가능하고 원소를 변경할 수 없다."
   ]
  },
  {
   "cell_type": "code",
   "execution_count": 113,
   "id": "e4a9c34a",
   "metadata": {
    "ExecuteTime": {
     "end_time": "2022-12-21T03:16:38.639660Z",
     "start_time": "2022-12-21T03:16:38.627889Z"
    }
   },
   "outputs": [
    {
     "data": {
      "text/plain": [
       "(0, 1, 2, 3, 4, 5, 6, 7, 8, 9)"
      ]
     },
     "execution_count": 113,
     "metadata": {},
     "output_type": "execute_result"
    }
   ],
   "source": [
    "t  = (0, 1, 2, 3, 4, 5, 6, 7, 8, 9)\n",
    "t"
   ]
  },
  {
   "cell_type": "code",
   "execution_count": 117,
   "id": "ca278aff",
   "metadata": {
    "ExecuteTime": {
     "end_time": "2022-12-21T03:17:42.833147Z",
     "start_time": "2022-12-21T03:17:42.827541Z"
    }
   },
   "outputs": [
    {
     "data": {
      "text/plain": [
       "(10, 20, 30)"
      ]
     },
     "execution_count": 117,
     "metadata": {},
     "output_type": "execute_result"
    }
   ],
   "source": [
    "t[0], t[5], t[8]"
   ]
  },
  {
   "cell_type": "code",
   "execution_count": 127,
   "id": "9e6397b9",
   "metadata": {
    "ExecuteTime": {
     "end_time": "2022-12-21T03:21:15.560023Z",
     "start_time": "2022-12-21T03:21:15.547540Z"
    }
   },
   "outputs": [
    {
     "ename": "TypeError",
     "evalue": "'tuple' object does not support item assignment",
     "output_type": "error",
     "traceback": [
      "\u001b[1;31m---------------------------------------------------------------------------\u001b[0m",
      "\u001b[1;31mTypeError\u001b[0m                                 Traceback (most recent call last)",
      "\u001b[1;32m~\\AppData\\Local\\Temp\\ipykernel_4180\\816329950.py\u001b[0m in \u001b[0;36m<module>\u001b[1;34m\u001b[0m\n\u001b[1;32m----> 1\u001b[1;33m \u001b[0mt\u001b[0m\u001b[1;33m[\u001b[0m\u001b[1;36m0\u001b[0m\u001b[1;33m]\u001b[0m \u001b[1;33m=\u001b[0m \u001b[1;36m100\u001b[0m\u001b[1;33m\u001b[0m\u001b[1;33m\u001b[0m\u001b[0m\n\u001b[0m",
      "\u001b[1;31mTypeError\u001b[0m: 'tuple' object does not support item assignment"
     ]
    }
   ],
   "source": [
    "t[0] = 100  # 튜플은 값을 변경할 수 없다."
   ]
  },
  {
   "cell_type": "code",
   "execution_count": 129,
   "id": "1fef56c2",
   "metadata": {
    "ExecuteTime": {
     "end_time": "2022-12-21T03:22:27.290744Z",
     "start_time": "2022-12-21T03:22:27.273805Z"
    }
   },
   "outputs": [
    {
     "data": {
      "text/plain": [
       "(2, 4, 6)"
      ]
     },
     "execution_count": 129,
     "metadata": {},
     "output_type": "execute_result"
    }
   ],
   "source": [
    "# slicing\n",
    "t[2:8:2]"
   ]
  },
  {
   "cell_type": "code",
   "execution_count": 131,
   "id": "6db4fcd0",
   "metadata": {
    "ExecuteTime": {
     "end_time": "2022-12-21T03:22:56.881208Z",
     "start_time": "2022-12-21T03:22:56.868275Z"
    }
   },
   "outputs": [
    {
     "data": {
      "text/plain": [
       "(0, 2, 4, 6)"
      ]
     },
     "execution_count": 131,
     "metadata": {},
     "output_type": "execute_result"
    }
   ],
   "source": [
    "t[:8:2]"
   ]
  },
  {
   "cell_type": "code",
   "execution_count": 132,
   "id": "38eeafbb",
   "metadata": {
    "ExecuteTime": {
     "end_time": "2022-12-21T03:23:17.327023Z",
     "start_time": "2022-12-21T03:23:17.316523Z"
    }
   },
   "outputs": [
    {
     "data": {
      "text/plain": [
       "(0, 2, 4, 6, 8)"
      ]
     },
     "execution_count": 132,
     "metadata": {},
     "output_type": "execute_result"
    }
   ],
   "source": [
    "t[::2]"
   ]
  },
  {
   "cell_type": "code",
   "execution_count": 133,
   "id": "ab83e7d0",
   "metadata": {
    "ExecuteTime": {
     "end_time": "2022-12-21T03:24:00.710277Z",
     "start_time": "2022-12-21T03:24:00.698432Z"
    }
   },
   "outputs": [
    {
     "data": {
      "text/plain": [
       "(2, 3, 4)"
      ]
     },
     "execution_count": 133,
     "metadata": {},
     "output_type": "execute_result"
    }
   ],
   "source": [
    "t[2:5]"
   ]
  },
  {
   "cell_type": "code",
   "execution_count": 134,
   "id": "32475dc5",
   "metadata": {
    "ExecuteTime": {
     "end_time": "2022-12-21T03:24:25.856143Z",
     "start_time": "2022-12-21T03:24:25.850412Z"
    }
   },
   "outputs": [
    {
     "data": {
      "text/plain": [
       "(7, 5, 3)"
      ]
     },
     "execution_count": 134,
     "metadata": {},
     "output_type": "execute_result"
    }
   ],
   "source": [
    "t[7:2:-2]"
   ]
  },
  {
   "cell_type": "code",
   "execution_count": 135,
   "id": "225752e4",
   "metadata": {
    "ExecuteTime": {
     "end_time": "2022-12-21T03:24:42.914020Z",
     "start_time": "2022-12-21T03:24:42.881838Z"
    }
   },
   "outputs": [
    {
     "data": {
      "text/plain": [
       "(9, 8, 7, 6, 5, 4, 3, 2, 1, 0)"
      ]
     },
     "execution_count": 135,
     "metadata": {},
     "output_type": "execute_result"
    }
   ],
   "source": [
    "t[::-1]"
   ]
  },
  {
   "cell_type": "markdown",
   "id": "135101f3",
   "metadata": {
    "slideshow": {
     "slide_type": "slide"
    }
   },
   "source": [
    "## Tuple 연산자\n",
    "- tuple + tuple\n",
    "    - 두 tuple의 원소들을 합친 tuple을 반환한다.\n",
    "- tuple * 정수\n",
    "    - 같은 tuple의 원소들을 정수번 합친 tuple를 반환한다.  \n",
    "- in, not in 연산자\n",
    "    - 값 in tuple\n",
    "        - tuple의 원소로 값이 **있으면** True, 없으면 False 반환\n",
    "    - 값 not in tuple\n",
    "        - tuple의 원소로 값이 **없으면** True, 있으면 False 반환    \n",
    "- len(tuple)\n",
    "    - tuple의 원소 개수 반환        "
   ]
  },
  {
   "cell_type": "code",
   "execution_count": 140,
   "id": "bcc09cca",
   "metadata": {
    "ExecuteTime": {
     "end_time": "2022-12-21T03:28:03.465270Z",
     "start_time": "2022-12-21T03:28:03.451036Z"
    }
   },
   "outputs": [
    {
     "name": "stdout",
     "output_type": "stream",
     "text": [
      "(1, 2, 3, 4, 5)\n",
      "('A', 'B', 'C')\n",
      "(1, 2, 3, 4, 5, 'A', 'B', 'C')\n",
      "(1, 2, 3, 4, 5)\n",
      "('A', 'B', 'C')\n"
     ]
    }
   ],
   "source": [
    "print(t1)\n",
    "print(t2)\n",
    "result = t1 + t2\n",
    "print(result)\n",
    "print(t1)\n",
    "print(t2)"
   ]
  },
  {
   "cell_type": "code",
   "execution_count": 141,
   "id": "14441024",
   "metadata": {
    "ExecuteTime": {
     "end_time": "2022-12-21T03:29:02.739688Z",
     "start_time": "2022-12-21T03:29:02.724603Z"
    }
   },
   "outputs": [
    {
     "name": "stdout",
     "output_type": "stream",
     "text": [
      "(1, 2, 3, 4, 5, 1, 2, 3, 4, 5, 1, 2, 3, 4, 5)\n",
      "(1, 2, 3, 4, 5)\n"
     ]
    }
   ],
   "source": [
    "result2 = t1 * 3  # t1 + t1 + t1\n",
    "print(result2)\n",
    "print(t1)"
   ]
  },
  {
   "cell_type": "code",
   "execution_count": 146,
   "id": "06277d16",
   "metadata": {
    "ExecuteTime": {
     "end_time": "2022-12-21T03:30:21.546104Z",
     "start_time": "2022-12-21T03:30:21.524934Z"
    }
   },
   "outputs": [
    {
     "name": "stdout",
     "output_type": "stream",
     "text": [
      "True\n",
      "False\n"
     ]
    }
   ],
   "source": [
    "print('B' in result)\n",
    "print('B' not in result)"
   ]
  },
  {
   "cell_type": "code",
   "execution_count": 147,
   "id": "4e91678a",
   "metadata": {
    "ExecuteTime": {
     "end_time": "2022-12-21T03:30:30.853894Z",
     "start_time": "2022-12-21T03:30:30.834467Z"
    }
   },
   "outputs": [
    {
     "name": "stdout",
     "output_type": "stream",
     "text": [
      "False\n",
      "True\n"
     ]
    }
   ],
   "source": [
    "print('가' in result)\n",
    "print('가' not in result)"
   ]
  },
  {
   "cell_type": "code",
   "execution_count": 151,
   "id": "7b963c78",
   "metadata": {
    "ExecuteTime": {
     "end_time": "2022-12-21T03:32:47.706845Z",
     "start_time": "2022-12-21T03:32:47.693063Z"
    }
   },
   "outputs": [
    {
     "data": {
      "text/plain": [
       "tuple"
      ]
     },
     "execution_count": 151,
     "metadata": {},
     "output_type": "execute_result"
    }
   ],
   "source": [
    "length = len(t), len(t2), len(result)\n",
    "type(length)"
   ]
  },
  {
   "cell_type": "code",
   "execution_count": 152,
   "id": "f2fee2a5",
   "metadata": {
    "ExecuteTime": {
     "end_time": "2022-12-21T03:33:11.256547Z",
     "start_time": "2022-12-21T03:33:11.248430Z"
    }
   },
   "outputs": [
    {
     "name": "stdout",
     "output_type": "stream",
     "text": [
      "10 3 8\n"
     ]
    }
   ],
   "source": [
    "# 튜플 대입\n",
    "len1, len2, len3 = len(t), len(t2), len(result)\n",
    "print(len1, len2, len3)"
   ]
  },
  {
   "cell_type": "markdown",
   "id": "89803fdd",
   "metadata": {
    "slideshow": {
     "slide_type": "subslide"
    }
   },
   "source": [
    "## Tuple의 주요 메소드\n",
    "|메소드|설명|\n",
    "|:-|-|\n",
    "|index(찾을값 \\[, 시작index\\])|'찾을값'이 몇번 index인지 반환한다.|\n",
    "|count(값)|원소로 '값'이 몇개 있는지 반환한다.|"
   ]
  },
  {
   "cell_type": "code",
   "execution_count": 156,
   "id": "7d098ac2",
   "metadata": {
    "ExecuteTime": {
     "end_time": "2022-12-21T03:35:46.244896Z",
     "start_time": "2022-12-21T03:35:46.225871Z"
    }
   },
   "outputs": [
    {
     "data": {
      "text/plain": [
       "(1, 2, 3, 4, 5, 'A', 'B', 'C')"
      ]
     },
     "execution_count": 156,
     "metadata": {},
     "output_type": "execute_result"
    }
   ],
   "source": [
    "result"
   ]
  },
  {
   "cell_type": "code",
   "execution_count": 158,
   "id": "93a527af",
   "metadata": {
    "ExecuteTime": {
     "end_time": "2022-12-21T03:37:39.447749Z",
     "start_time": "2022-12-21T03:37:39.436086Z"
    },
    "collapsed": true,
    "slideshow": {
     "slide_type": "fragment"
    }
   },
   "outputs": [
    {
     "ename": "ValueError",
     "evalue": "tuple.index(x): x not in tuple",
     "output_type": "error",
     "traceback": [
      "\u001b[1;31m---------------------------------------------------------------------------\u001b[0m",
      "\u001b[1;31mValueError\u001b[0m                                Traceback (most recent call last)",
      "\u001b[1;32m~\\AppData\\Local\\Temp\\ipykernel_4180\\450163451.py\u001b[0m in \u001b[0;36m<module>\u001b[1;34m\u001b[0m\n\u001b[0;32m      1\u001b[0m \u001b[0mresult\u001b[0m\u001b[1;33m.\u001b[0m\u001b[0mindex\u001b[0m\u001b[1;33m(\u001b[0m\u001b[1;34m'A'\u001b[0m\u001b[1;33m)\u001b[0m\u001b[1;33m\u001b[0m\u001b[1;33m\u001b[0m\u001b[0m\n\u001b[1;32m----> 2\u001b[1;33m \u001b[0mresult\u001b[0m\u001b[1;33m.\u001b[0m\u001b[0mindex\u001b[0m\u001b[1;33m(\u001b[0m\u001b[1;34m'A'\u001b[0m\u001b[1;33m,\u001b[0m \u001b[1;36m6\u001b[0m\u001b[1;33m)\u001b[0m \u001b[1;31m# index 6에서 부터 'A'를 찾는다.\u001b[0m\u001b[1;33m\u001b[0m\u001b[1;33m\u001b[0m\u001b[0m\n\u001b[0m\u001b[0;32m      3\u001b[0m \u001b[1;31m# 없는 값을 찾을 경우 Exception(예외-에러)가 발생.\u001b[0m\u001b[1;33m\u001b[0m\u001b[1;33m\u001b[0m\u001b[0m\n",
      "\u001b[1;31mValueError\u001b[0m: tuple.index(x): x not in tuple"
     ]
    }
   ],
   "source": [
    "result.index('A')\n",
    "result.index('A', 6) # index 6에서 부터 'A'를 찾는다.\n",
    "# 없는 값을 찾을 경우 Exception(예외-에러)가 발생."
   ]
  },
  {
   "cell_type": "code",
   "execution_count": 159,
   "id": "c006fb06",
   "metadata": {
    "ExecuteTime": {
     "end_time": "2022-12-21T03:37:58.257609Z",
     "start_time": "2022-12-21T03:37:58.237208Z"
    }
   },
   "outputs": [
    {
     "data": {
      "text/plain": [
       "4"
      ]
     },
     "execution_count": 159,
     "metadata": {},
     "output_type": "execute_result"
    }
   ],
   "source": [
    "t = (1, 1, 2, 3, 3, 2, 2, 2)\n",
    "t.count(2)"
   ]
  },
  {
   "cell_type": "markdown",
   "id": "e6c196f5",
   "metadata": {
    "slideshow": {
     "slide_type": "slide"
    }
   },
   "source": [
    "# Dictionary\n",
    "- 값을 키(key)-값(value) 쌍으로 묶어서 저장하는 자료구조이다.\n",
    "    - 리스트나 튜플의 index의 역할을 하는 key를 직접 지정한다.\n",
    "    - 서로 의미가 다른 값들을 하나로 묶을 때 그 값의 의미를 key로 가질 수 있는 dictionary를 사용한다.\n",
    "        - cf) 값의 의미가 같을 경우 List나 Tuple을 사용한다.\n",
    "    - key-value 쌍으로 묶은 데이터 한개를 **item 또는 entry**라고 한다.\n",
    "    \n",
    "## Dictionary 생성\n",
    "- 구문\n",
    "    1. `{ 키 : 값, 키 : 값, 키 : 값 }`\n",
    "    2. dict(key=value, key=value) 함수 이용\n",
    "    - 키(key)는 불변(Immutable)의 값들만 사용 가능하다. (숫자, 문자열, 튜플) 일반적으로 문자열을 사용한다.\n",
    "    - dict() 함수를 사용할 경우 key는 변수로 정의한다"
   ]
  },
  {
   "cell_type": "code",
   "execution_count": 161,
   "id": "27dc5c55",
   "metadata": {
    "ExecuteTime": {
     "end_time": "2022-12-21T05:22:58.260799Z",
     "start_time": "2022-12-21T05:22:58.243373Z"
    }
   },
   "outputs": [
    {
     "name": "stdout",
     "output_type": "stream",
     "text": [
      "{'사과': 10, '귤': 20, '배': 15, '복숭아': 70, '수박': 7}\n",
      "--------------------\n",
      "{'이름': '홍길동', '나이': 20, '주소': '서울', '직업': '학생'}\n"
     ]
    }
   ],
   "source": [
    "# 사과가 10개, 귤이 20, .....\n",
    "# fruit_counts = [10, 20, 50, 70, 90, 5]\n",
    "# fruit_counts[0]\n",
    "fruit_counts = {\"사과\":10, \"귤\":20, \"배\":15, \"복숭아\":70, \"수박\":7}\n",
    "# 한사람의 고객정보: 이름, 나이, 주소, 직업\n",
    "# customer_1 =[\"홍길동\", 20, \"서울\", \"학생\"]\n",
    "# customer_1[0]\n",
    "customer = {\"이름\":\"홍길동\", \n",
    "            \"나이\":20,\n",
    "            \"주소\":\"서울\",\n",
    "            \"직업\":\"학생\"}\n",
    "print(fruit_counts)\n",
    "print(\"-\"*20)\n",
    "print(customer)"
   ]
  },
  {
   "cell_type": "code",
   "execution_count": 162,
   "id": "db88e11b",
   "metadata": {
    "ExecuteTime": {
     "end_time": "2022-12-21T05:24:20.500804Z",
     "start_time": "2022-12-21T05:24:20.483396Z"
    }
   },
   "outputs": [
    {
     "name": "stdout",
     "output_type": "stream",
     "text": [
      "{'name': '홍길동', 'nickname': '홍길동'}\n"
     ]
    }
   ],
   "source": [
    "# key는 중복을 허용안함. value는 중복을 허용\n",
    "d = {\"name\":\"홍길동\", \"nickname\":\"홍길동\"}\n",
    "print(d)"
   ]
  },
  {
   "cell_type": "code",
   "execution_count": 164,
   "id": "64ed4e0e",
   "metadata": {
    "ExecuteTime": {
     "end_time": "2022-12-21T05:24:55.885165Z",
     "start_time": "2022-12-21T05:24:55.869266Z"
    }
   },
   "outputs": [
    {
     "name": "stdout",
     "output_type": "stream",
     "text": [
      "{'name': '유관순'}\n"
     ]
    }
   ],
   "source": [
    "d2 = {\"name\":\"홍길동\", \"name\":\"이순신\", \"name\":\"유관순\"}\n",
    "print(d2)"
   ]
  },
  {
   "cell_type": "code",
   "execution_count": 166,
   "id": "03b9818b",
   "metadata": {
    "ExecuteTime": {
     "end_time": "2022-12-21T05:26:57.593619Z",
     "start_time": "2022-12-21T05:26:57.574628Z"
    }
   },
   "outputs": [
    {
     "name": "stdout",
     "output_type": "stream",
     "text": [
      "{'name': '홍길동', 'age': 30, 'address': '부산'}\n"
     ]
    }
   ],
   "source": [
    "customer2 = dict(name=\"홍길동\", age=30, address=\"부산\")\n",
    "print(customer2)"
   ]
  },
  {
   "cell_type": "markdown",
   "id": "f8c87bd3",
   "metadata": {
    "slideshow": {
     "slide_type": "subslide"
    }
   },
   "source": [
    "## Dictionary 원소 조회 및 변경\n",
    "- 조회: index에 key값을 식별자로 지정한다.\n",
    "    - dictionary\\[ key \\]\n",
    "    - 없는 키로 조회 시 KeyError 발생\n",
    "- 변경\n",
    "    - dictionary\\[ key \\] = 값\n",
    "    - 있는 key값에 값을 대입하면 변경이고 없는 key 일 경우는 새로운 item을 추가하는 것이다."
   ]
  },
  {
   "cell_type": "code",
   "execution_count": 171,
   "id": "cc4a5a08",
   "metadata": {
    "ExecuteTime": {
     "end_time": "2022-12-21T05:31:27.937328Z",
     "start_time": "2022-12-21T05:31:27.931334Z"
    }
   },
   "outputs": [
    {
     "name": "stdout",
     "output_type": "stream",
     "text": [
      "이름: 홍길동\n",
      "직업: 학생\n"
     ]
    }
   ],
   "source": [
    "print(\"이름:\", customer[\"이름\"])\n",
    "print(\"직업:\", customer['직업'])"
   ]
  },
  {
   "cell_type": "code",
   "execution_count": 172,
   "id": "8194df36",
   "metadata": {
    "ExecuteTime": {
     "end_time": "2022-12-21T05:32:04.742854Z",
     "start_time": "2022-12-21T05:32:04.733817Z"
    },
    "scrolled": true
   },
   "outputs": [
    {
     "ename": "KeyError",
     "evalue": "'키'",
     "output_type": "error",
     "traceback": [
      "\u001b[1;31m---------------------------------------------------------------------------\u001b[0m",
      "\u001b[1;31mKeyError\u001b[0m                                  Traceback (most recent call last)",
      "\u001b[1;32m~\\AppData\\Local\\Temp\\ipykernel_4180\\3567576302.py\u001b[0m in \u001b[0;36m<module>\u001b[1;34m\u001b[0m\n\u001b[0;32m      1\u001b[0m \u001b[1;31m# 없는 키로 조회\u001b[0m\u001b[1;33m\u001b[0m\u001b[1;33m\u001b[0m\u001b[0m\n\u001b[1;32m----> 2\u001b[1;33m \u001b[0mcustomer\u001b[0m\u001b[1;33m[\u001b[0m\u001b[1;34m'키'\u001b[0m\u001b[1;33m]\u001b[0m\u001b[1;33m\u001b[0m\u001b[1;33m\u001b[0m\u001b[0m\n\u001b[0m",
      "\u001b[1;31mKeyError\u001b[0m: '키'"
     ]
    }
   ],
   "source": [
    "# 없는 키로 조회 => Exception 발생.\n",
    "customer['키']"
   ]
  },
  {
   "cell_type": "code",
   "execution_count": 175,
   "id": "d4e2ff87",
   "metadata": {
    "ExecuteTime": {
     "end_time": "2022-12-21T05:33:16.918829Z",
     "start_time": "2022-12-21T05:33:16.900009Z"
    }
   },
   "outputs": [
    {
     "data": {
      "text/plain": [
       "{'이름': '홍길동', '나이': 10, '주소': '서울', '직업': '학생'}"
      ]
     },
     "execution_count": 175,
     "metadata": {},
     "output_type": "execute_result"
    }
   ],
   "source": [
    "customer['나이'] = 10  # 있는 키에 값을 대입 => 변경\n",
    "customer"
   ]
  },
  {
   "cell_type": "code",
   "execution_count": 177,
   "id": "9f47f139",
   "metadata": {
    "ExecuteTime": {
     "end_time": "2022-12-21T05:33:56.058656Z",
     "start_time": "2022-12-21T05:33:56.046786Z"
    }
   },
   "outputs": [
    {
     "data": {
      "text/plain": [
       "{'이름': '홍길동', '나이': 10, '주소': '서울', '직업': '학생', '몸무게': 70.58}"
      ]
     },
     "execution_count": 177,
     "metadata": {},
     "output_type": "execute_result"
    }
   ],
   "source": [
    "customer['몸무게'] = 70.58  # 없는 키에 값을 대입 => 추가\n",
    "customer"
   ]
  },
  {
   "cell_type": "markdown",
   "id": "d5aade1e",
   "metadata": {
    "slideshow": {
     "slide_type": "slide"
    }
   },
   "source": [
    "## Dictionary 연산자\n",
    "\n",
    "- in, not in 연산자\n",
    "    - 값 in dictionary\n",
    "        - dictionary의 **Key**로 값이 **있으면** True, 없으면 False 반환\n",
    "    - 값 not in tuple\n",
    "        - dictionary의 **Key**로 값이 **없으면** True, 있으면 False 반환    \n",
    "- len(dictionary)\n",
    "    - dictionary의 **Item의 개수** 반환        "
   ]
  },
  {
   "cell_type": "code",
   "execution_count": 180,
   "id": "59ad20ff",
   "metadata": {
    "ExecuteTime": {
     "end_time": "2022-12-21T05:38:23.409771Z",
     "start_time": "2022-12-21T05:38:23.389560Z"
    }
   },
   "outputs": [
    {
     "data": {
      "text/plain": [
       "False"
      ]
     },
     "execution_count": 180,
     "metadata": {},
     "output_type": "execute_result"
    }
   ],
   "source": [
    "\"나이\" in customer # 딕셔너리에 \"나이\" 키가 있는지 여부\n",
    "\"나이\" not in customer # 딕셔너리에 \"나이\" 키가 없는지 여부"
   ]
  },
  {
   "cell_type": "code",
   "execution_count": 182,
   "id": "6409f0fb",
   "metadata": {
    "ExecuteTime": {
     "end_time": "2022-12-21T05:38:49.682321Z",
     "start_time": "2022-12-21T05:38:49.675277Z"
    }
   },
   "outputs": [
    {
     "data": {
      "text/plain": [
       "False"
      ]
     },
     "execution_count": 182,
     "metadata": {},
     "output_type": "execute_result"
    }
   ],
   "source": [
    "10 in customer # 10이란 key 가 있냐?"
   ]
  },
  {
   "cell_type": "code",
   "execution_count": 185,
   "id": "afe0bbc2",
   "metadata": {
    "ExecuteTime": {
     "end_time": "2022-12-21T05:39:39.094931Z",
     "start_time": "2022-12-21T05:39:39.078717Z"
    }
   },
   "outputs": [
    {
     "data": {
      "text/plain": [
       "5"
      ]
     },
     "execution_count": 185,
     "metadata": {},
     "output_type": "execute_result"
    }
   ],
   "source": [
    "len(customer) # item의 개수"
   ]
  },
  {
   "cell_type": "markdown",
   "id": "9f620ec1",
   "metadata": {
    "slideshow": {
     "slide_type": "slide"
    }
   },
   "source": [
    "## Dictionary 주요 메소드\n",
    "\n",
    "|메소드|설명|\n",
    "|:-|-|\n",
    "|get(key\\[, 기본값\\])|key의 item의 값을 반환한다. 단 key가 없을 경우 None또는 기본값을 반환한다.|\n",
    "|pop(key)|key의 item의 값을 반환하면서 dictionary에서 삭제한다. 없는 key일 경우 KeyError발생|\n",
    "|clear()|dictionary의 모든 item들을 삭제한다.|\n",
    "|del dict\\[key\\]|key의 item을 제거한다.|\n",
    "|items()|item의 key, value를 튜플로 묶어 모아 반환한다.|\n",
    "|keys()|key값들만 모아 반환한다.|\n",
    "|values()|value값들만 모아 반환한다.|"
   ]
  },
  {
   "cell_type": "code",
   "execution_count": 189,
   "id": "df98b29b",
   "metadata": {
    "ExecuteTime": {
     "end_time": "2022-12-21T05:45:01.297687Z",
     "start_time": "2022-12-21T05:45:01.283657Z"
    }
   },
   "outputs": [
    {
     "name": "stdout",
     "output_type": "stream",
     "text": [
      "None\n"
     ]
    }
   ],
   "source": [
    "# customer['키']\n",
    "v = customer.get('키')\n",
    "print(v)"
   ]
  },
  {
   "cell_type": "code",
   "execution_count": 190,
   "id": "a30bd628",
   "metadata": {
    "ExecuteTime": {
     "end_time": "2022-12-21T05:45:27.743750Z",
     "start_time": "2022-12-21T05:45:27.733908Z"
    }
   },
   "outputs": [
    {
     "name": "stdout",
     "output_type": "stream",
     "text": [
      "70.58\n"
     ]
    }
   ],
   "source": [
    "v = customer.get('몸무게')\n",
    "print(v)"
   ]
  },
  {
   "cell_type": "code",
   "execution_count": 191,
   "id": "b18df0ff",
   "metadata": {
    "ExecuteTime": {
     "end_time": "2022-12-21T05:46:22.193338Z",
     "start_time": "2022-12-21T05:46:22.177936Z"
    }
   },
   "outputs": [
    {
     "name": "stdout",
     "output_type": "stream",
     "text": [
      "키는 수집 못함\n"
     ]
    }
   ],
   "source": [
    "v = customer.get('키', \"키는 수집 못함\")\n",
    "print(v)"
   ]
  },
  {
   "cell_type": "code",
   "execution_count": 192,
   "id": "692b3bbb",
   "metadata": {
    "ExecuteTime": {
     "end_time": "2022-12-21T05:46:45.305298Z",
     "start_time": "2022-12-21T05:46:45.299919Z"
    }
   },
   "outputs": [
    {
     "name": "stdout",
     "output_type": "stream",
     "text": [
      "70.58\n"
     ]
    }
   ],
   "source": [
    "v = customer.get('몸무게', \"몸무게는 수집 못함\")\n",
    "print(v)"
   ]
  },
  {
   "cell_type": "code",
   "execution_count": 194,
   "id": "5d97c0a0",
   "metadata": {
    "ExecuteTime": {
     "end_time": "2022-12-21T05:48:14.358470Z",
     "start_time": "2022-12-21T05:48:14.341001Z"
    }
   },
   "outputs": [
    {
     "name": "stdout",
     "output_type": "stream",
     "text": [
      "{'이름': '홍길동', '나이': 10, '주소': '서울', '직업': '학생', '몸무게': 70.58}\n",
      "10\n",
      "{'이름': '홍길동', '주소': '서울', '직업': '학생', '몸무게': 70.58}\n"
     ]
    }
   ],
   "source": [
    "print(customer)\n",
    "age = customer.pop('나이')\n",
    "print(age)\n",
    "print(customer)"
   ]
  },
  {
   "cell_type": "code",
   "execution_count": 195,
   "id": "3b32e317",
   "metadata": {
    "ExecuteTime": {
     "end_time": "2022-12-21T05:49:08.942530Z",
     "start_time": "2022-12-21T05:49:08.922591Z"
    }
   },
   "outputs": [
    {
     "name": "stdout",
     "output_type": "stream",
     "text": [
      "{'이름': '홍길동', '주소': '서울', '직업': '학생', '몸무게': 70.58}\n"
     ]
    }
   ],
   "source": [
    "print(customer)\n",
    "del customer['몸무게']"
   ]
  },
  {
   "cell_type": "code",
   "execution_count": 196,
   "id": "e7bfe446",
   "metadata": {
    "ExecuteTime": {
     "end_time": "2022-12-21T05:49:18.863898Z",
     "start_time": "2022-12-21T05:49:18.843665Z"
    }
   },
   "outputs": [
    {
     "data": {
      "text/plain": [
       "{'이름': '홍길동', '주소': '서울', '직업': '학생'}"
      ]
     },
     "execution_count": 196,
     "metadata": {},
     "output_type": "execute_result"
    }
   ],
   "source": [
    "customer"
   ]
  },
  {
   "cell_type": "code",
   "execution_count": 197,
   "id": "bd44ca63",
   "metadata": {
    "ExecuteTime": {
     "end_time": "2022-12-21T05:50:03.937560Z",
     "start_time": "2022-12-21T05:50:03.925145Z"
    }
   },
   "outputs": [
    {
     "data": {
      "text/plain": [
       "dict_items([('이름', '홍길동'), ('주소', '서울'), ('직업', '학생')])"
      ]
     },
     "execution_count": 197,
     "metadata": {},
     "output_type": "execute_result"
    }
   ],
   "source": [
    "customer.items()"
   ]
  },
  {
   "cell_type": "code",
   "execution_count": 198,
   "id": "4c604157",
   "metadata": {
    "ExecuteTime": {
     "end_time": "2022-12-21T05:51:13.032418Z",
     "start_time": "2022-12-21T05:51:13.018916Z"
    }
   },
   "outputs": [
    {
     "data": {
      "text/plain": [
       "dict_keys(['이름', '주소', '직업'])"
      ]
     },
     "execution_count": 198,
     "metadata": {},
     "output_type": "execute_result"
    }
   ],
   "source": [
    "customer.keys()"
   ]
  },
  {
   "cell_type": "code",
   "execution_count": 199,
   "id": "6689d617",
   "metadata": {
    "ExecuteTime": {
     "end_time": "2022-12-21T05:51:27.521432Z",
     "start_time": "2022-12-21T05:51:27.515586Z"
    }
   },
   "outputs": [
    {
     "data": {
      "text/plain": [
       "dict_values(['홍길동', '서울', '학생'])"
      ]
     },
     "execution_count": 199,
     "metadata": {},
     "output_type": "execute_result"
    }
   ],
   "source": [
    "customer.values()"
   ]
  },
  {
   "cell_type": "code",
   "execution_count": 204,
   "id": "d7985419",
   "metadata": {
    "ExecuteTime": {
     "end_time": "2022-12-21T06:12:50.087564Z",
     "start_time": "2022-12-21T06:12:50.068234Z"
    }
   },
   "outputs": [
    {
     "name": "stdout",
     "output_type": "stream",
     "text": [
      "이름 , 홍길동\n",
      "주소 , 서울\n",
      "직업 , 학생\n"
     ]
    }
   ],
   "source": [
    "for k, v in customer.items():\n",
    "    print(k, v, sep=\" , \")"
   ]
  },
  {
   "cell_type": "markdown",
   "id": "d97869af",
   "metadata": {
    "slideshow": {
     "slide_type": "slide"
    }
   },
   "source": [
    "# Set \n",
    "\n",
    "- Set은 중복되는 값을 허용하지 않고 순서를 신경 쓰지 않는다.\n",
    "    - 원소를 식별할 수 있는 식별자가 없기 때문에 Set은 indexing과 slicing을 지원하지 않는다\n",
    "\n",
    "## Set 생성\n",
    "- 구문\n",
    "    - {값, 값, 값 }\n",
    "\n",
    "> -빈 Dictionary 만들기\n",
    ">    - info = {}\n",
    ">    - 중괄호만 사용하면 빈 set이 아니라 빈 dictionary를 생성하는 것임.\n"
   ]
  },
  {
   "cell_type": "code",
   "execution_count": 207,
   "id": "791391b4",
   "metadata": {
    "ExecuteTime": {
     "end_time": "2022-12-21T06:19:51.812228Z",
     "start_time": "2022-12-21T06:19:51.805679Z"
    }
   },
   "outputs": [
    {
     "name": "stdout",
     "output_type": "stream",
     "text": [
      "{1, 2, 3, 4}\n"
     ]
    }
   ],
   "source": [
    "s = {1, 2, 3, 4}\n",
    "print(s)"
   ]
  },
  {
   "cell_type": "code",
   "execution_count": 208,
   "id": "92502064",
   "metadata": {
    "ExecuteTime": {
     "end_time": "2022-12-21T06:20:32.449995Z",
     "start_time": "2022-12-21T06:20:32.429846Z"
    }
   },
   "outputs": [
    {
     "data": {
      "text/plain": [
       "{1, 2, 3, 4, 5, 6, 7, 8}"
      ]
     },
     "execution_count": 208,
     "metadata": {},
     "output_type": "execute_result"
    }
   ],
   "source": [
    "s2 = {1, 1, 1, 2, 2, 2, 3, 3, 3, 4, 5, 4, 5, 4, 6, 7, 8, 8, 7, 6, 3}\n",
    "s2"
   ]
  },
  {
   "cell_type": "code",
   "execution_count": 209,
   "id": "38c85aa2",
   "metadata": {
    "ExecuteTime": {
     "end_time": "2022-12-21T06:21:48.964183Z",
     "start_time": "2022-12-21T06:21:48.939647Z"
    }
   },
   "outputs": [
    {
     "ename": "TypeError",
     "evalue": "'set' object is not subscriptable",
     "output_type": "error",
     "traceback": [
      "\u001b[1;31m---------------------------------------------------------------------------\u001b[0m",
      "\u001b[1;31mTypeError\u001b[0m                                 Traceback (most recent call last)",
      "\u001b[1;32m~\\AppData\\Local\\Temp\\ipykernel_4180\\2344841457.py\u001b[0m in \u001b[0;36m<module>\u001b[1;34m\u001b[0m\n\u001b[1;32m----> 1\u001b[1;33m \u001b[0ms2\u001b[0m\u001b[1;33m[\u001b[0m\u001b[1;36m0\u001b[0m\u001b[1;33m]\u001b[0m\u001b[1;33m\u001b[0m\u001b[1;33m\u001b[0m\u001b[0m\n\u001b[0m",
      "\u001b[1;31mTypeError\u001b[0m: 'set' object is not subscriptable"
     ]
    }
   ],
   "source": [
    "s2[0] #  개별원소를 조회할 수 없다."
   ]
  },
  {
   "cell_type": "code",
   "execution_count": 211,
   "id": "5f856576",
   "metadata": {
    "ExecuteTime": {
     "end_time": "2022-12-21T06:23:35.498881Z",
     "start_time": "2022-12-21T06:23:35.477420Z"
    }
   },
   "outputs": [
    {
     "name": "stdout",
     "output_type": "stream",
     "text": [
      "3\n"
     ]
    }
   ],
   "source": [
    "for v in s2:\n",
    "#     print(v)\n",
    "    if v == 3:\n",
    "        print(v)"
   ]
  },
  {
   "cell_type": "markdown",
   "id": "79cf0f20",
   "metadata": {
    "slideshow": {
     "slide_type": "slide"
    }
   },
   "source": [
    "## Set 연산자\n",
    "\n",
    "- in, not in 연산자\n",
    "    - 값 in Set\n",
    "        - Set의 원소로 값이 **있으면** True, 없으면 False 반환\n",
    "    - 값 not in Set\n",
    "        - Set의 원소로 값이 **없으면** True, 있으면 False 반환    \n",
    "- len(Set)\n",
    "    - Set의 **원소의 개수** 반환        "
   ]
  },
  {
   "cell_type": "code",
   "execution_count": 216,
   "id": "0d142047",
   "metadata": {
    "ExecuteTime": {
     "end_time": "2022-12-21T06:25:57.502631Z",
     "start_time": "2022-12-21T06:25:57.493527Z"
    }
   },
   "outputs": [
    {
     "data": {
      "text/plain": [
       "False"
      ]
     },
     "execution_count": 216,
     "metadata": {},
     "output_type": "execute_result"
    }
   ],
   "source": [
    "10 in s2  # s2에 10이 있는지 여부\n",
    "10 not in s2\n",
    "2 in s2\n",
    "2 not in s2"
   ]
  },
  {
   "cell_type": "code",
   "execution_count": 218,
   "id": "3deba35d",
   "metadata": {
    "ExecuteTime": {
     "end_time": "2022-12-21T06:26:19.179921Z",
     "start_time": "2022-12-21T06:26:19.162264Z"
    }
   },
   "outputs": [
    {
     "data": {
      "text/plain": [
       "{1, 2, 3, 4, 5, 6, 7, 8}"
      ]
     },
     "execution_count": 218,
     "metadata": {},
     "output_type": "execute_result"
    }
   ],
   "source": [
    "s2"
   ]
  },
  {
   "cell_type": "code",
   "execution_count": 217,
   "id": "75842288",
   "metadata": {
    "ExecuteTime": {
     "end_time": "2022-12-21T06:26:14.121611Z",
     "start_time": "2022-12-21T06:26:14.108829Z"
    }
   },
   "outputs": [
    {
     "data": {
      "text/plain": [
       "8"
      ]
     },
     "execution_count": 217,
     "metadata": {},
     "output_type": "execute_result"
    }
   ],
   "source": [
    "len(s2)"
   ]
  },
  {
   "cell_type": "markdown",
   "id": "080c2a17",
   "metadata": {
    "slideshow": {
     "slide_type": "slide"
    }
   },
   "source": [
    "## Set의 주요 메소드\n",
    "\n",
    "|메소드|설명|\n",
    "|-|-|\n",
    "|add(값)|집합에 값 추가|\n",
    "|update(자료구조)|자료구조내의 원소들을 모두 집합에 추가|\n",
    "|pop()|원소를 반환하고 Set에서 삭제한다.|\n",
    "|remove(값)|값을 찾아서 Set에서 삭제한다.|"
   ]
  },
  {
   "cell_type": "code",
   "execution_count": 220,
   "id": "ff7093db",
   "metadata": {
    "ExecuteTime": {
     "end_time": "2022-12-21T06:28:54.625661Z",
     "start_time": "2022-12-21T06:28:54.610905Z"
    }
   },
   "outputs": [
    {
     "name": "stdout",
     "output_type": "stream",
     "text": [
      "{1, 2, 3, 4, 5, 6, 7, 8, 10}\n"
     ]
    }
   ],
   "source": [
    "s2.add(10)\n",
    "print(s2)"
   ]
  },
  {
   "cell_type": "code",
   "execution_count": 221,
   "id": "f35a4f5e",
   "metadata": {
    "ExecuteTime": {
     "end_time": "2022-12-21T06:29:12.521327Z",
     "start_time": "2022-12-21T06:29:12.515674Z"
    }
   },
   "outputs": [
    {
     "name": "stdout",
     "output_type": "stream",
     "text": [
      "{1, 2, 3, 4, 5, 6, 7, 8, 10, -20}\n"
     ]
    }
   ],
   "source": [
    "s2.add(-20)\n",
    "print(s2)"
   ]
  },
  {
   "cell_type": "code",
   "execution_count": 222,
   "id": "398eada3",
   "metadata": {
    "ExecuteTime": {
     "end_time": "2022-12-21T06:29:46.449135Z",
     "start_time": "2022-12-21T06:29:46.430370Z"
    }
   },
   "outputs": [
    {
     "name": "stdout",
     "output_type": "stream",
     "text": [
      "{1, 2, 3, 4, 5, 6, 7, 8, 10, -20}\n"
     ]
    }
   ],
   "source": [
    "s2.add(-20)\n",
    "print(s2)"
   ]
  },
  {
   "cell_type": "code",
   "execution_count": 223,
   "id": "2d8e8afb",
   "metadata": {
    "ExecuteTime": {
     "end_time": "2022-12-21T06:30:39.056519Z",
     "start_time": "2022-12-21T06:30:39.035655Z"
    }
   },
   "outputs": [
    {
     "name": "stdout",
     "output_type": "stream",
     "text": [
      "{1, 2, 3, 4, 5, 6, 7, 8, 100, 10, 200, -20, 300}\n"
     ]
    }
   ],
   "source": [
    "s2.update([1,1,1,2,100,200,200,200,300])\n",
    "print(s2)"
   ]
  },
  {
   "cell_type": "code",
   "execution_count": 224,
   "id": "294cb08e",
   "metadata": {
    "ExecuteTime": {
     "end_time": "2022-12-21T06:31:26.167930Z",
     "start_time": "2022-12-21T06:31:26.149447Z"
    }
   },
   "outputs": [
    {
     "name": "stdout",
     "output_type": "stream",
     "text": [
      "{1, 2, 3, 4, 5, 6, 7, 8, 100, 10, 200, -20, 300, 'b', 'a'}\n"
     ]
    }
   ],
   "source": [
    "s2.update({'a':100, 'b':200})\n",
    "print(s2)"
   ]
  },
  {
   "cell_type": "code",
   "execution_count": 225,
   "id": "209b70cb",
   "metadata": {
    "ExecuteTime": {
     "end_time": "2022-12-21T06:32:04.178595Z",
     "start_time": "2022-12-21T06:32:04.162734Z"
    }
   },
   "outputs": [
    {
     "name": "stdout",
     "output_type": "stream",
     "text": [
      "1\n",
      "{2, 3, 4, 5, 6, 7, 8, 100, 10, 200, -20, 300, 'b', 'a'}\n"
     ]
    }
   ],
   "source": [
    "v = s2.pop()\n",
    "print(v)\n",
    "print(s2)"
   ]
  },
  {
   "cell_type": "code",
   "execution_count": 226,
   "id": "a2392519",
   "metadata": {
    "ExecuteTime": {
     "end_time": "2022-12-21T06:32:31.364068Z",
     "start_time": "2022-12-21T06:32:31.347661Z"
    }
   },
   "outputs": [
    {
     "name": "stdout",
     "output_type": "stream",
     "text": [
      "{2, 3, 4, 5, 6, 8, 100, 10, 200, -20, 300, 'b', 'a'}\n"
     ]
    }
   ],
   "source": [
    "s2.remove(7)\n",
    "print(s2)"
   ]
  },
  {
   "cell_type": "code",
   "execution_count": 227,
   "id": "3cac6fa5",
   "metadata": {
    "ExecuteTime": {
     "end_time": "2022-12-21T06:33:06.054576Z",
     "start_time": "2022-12-21T06:33:06.044487Z"
    }
   },
   "outputs": [
    {
     "ename": "KeyError",
     "evalue": "500",
     "output_type": "error",
     "traceback": [
      "\u001b[1;31m---------------------------------------------------------------------------\u001b[0m",
      "\u001b[1;31mKeyError\u001b[0m                                  Traceback (most recent call last)",
      "\u001b[1;32m~\\AppData\\Local\\Temp\\ipykernel_4180\\1344402196.py\u001b[0m in \u001b[0;36m<module>\u001b[1;34m\u001b[0m\n\u001b[1;32m----> 1\u001b[1;33m \u001b[0ms2\u001b[0m\u001b[1;33m.\u001b[0m\u001b[0mremove\u001b[0m\u001b[1;33m(\u001b[0m\u001b[1;36m500\u001b[0m\u001b[1;33m)\u001b[0m\u001b[1;33m\u001b[0m\u001b[1;33m\u001b[0m\u001b[0m\n\u001b[0m",
      "\u001b[1;31mKeyError\u001b[0m: 500"
     ]
    }
   ],
   "source": [
    "s2.remove(500) #없는 값 삭제시 Exception 발생."
   ]
  },
  {
   "cell_type": "markdown",
   "id": "33d115cd",
   "metadata": {
    "slideshow": {
     "slide_type": "subslide"
    }
   },
   "source": [
    "## Set의 집합연산 연산자 및 메소드\n",
    "\n",
    "- 합집합\n",
    "    - 집합A | 집합B\n",
    "    - 집합A.union(집합B)\n",
    "- 교집합\n",
    "    - 집합A & 집합B\n",
    "    - 집합A.intersection(집합B)\n",
    "- 차집합\n",
    "    - 집합A - 집합B\n",
    "    - 집합A.difference(집합B)"
   ]
  },
  {
   "cell_type": "code",
   "execution_count": 228,
   "id": "20422c5d",
   "metadata": {
    "ExecuteTime": {
     "end_time": "2022-12-21T06:36:47.918885Z",
     "start_time": "2022-12-21T06:36:47.899246Z"
    }
   },
   "outputs": [
    {
     "name": "stdout",
     "output_type": "stream",
     "text": [
      "{1, 2, 3, 4, 5}\n",
      "{3, 4, 5, 6, 7}\n",
      "{1, 2, 3, 4, 5, 6, 7}\n"
     ]
    }
   ],
   "source": [
    "s1 = {1, 2, 3, 4, 5}\n",
    "s2 = {3, 4, 5, 6, 7}\n",
    "s3 = s1 | s2 #합집합\n",
    "print(s1)\n",
    "print(s2)\n",
    "print(s3)"
   ]
  },
  {
   "cell_type": "code",
   "execution_count": 229,
   "id": "b1ba97d5",
   "metadata": {
    "ExecuteTime": {
     "end_time": "2022-12-21T06:37:18.128248Z",
     "start_time": "2022-12-21T06:37:18.115371Z"
    }
   },
   "outputs": [
    {
     "name": "stdout",
     "output_type": "stream",
     "text": [
      "{1, 2, 3, 4, 5, 6, 7}\n"
     ]
    }
   ],
   "source": [
    "print(s1.union(s2))"
   ]
  },
  {
   "cell_type": "code",
   "execution_count": 232,
   "id": "d0612013",
   "metadata": {
    "ExecuteTime": {
     "end_time": "2022-12-21T06:38:15.393595Z",
     "start_time": "2022-12-21T06:38:15.387656Z"
    }
   },
   "outputs": [
    {
     "name": "stdout",
     "output_type": "stream",
     "text": [
      "{3, 4, 5}\n",
      "{3, 4, 5}\n"
     ]
    }
   ],
   "source": [
    "# 교집합\n",
    "s4 = s1 & s2\n",
    "print(s4)\n",
    "print(s1.intersection(s2))"
   ]
  },
  {
   "cell_type": "code",
   "execution_count": 234,
   "id": "984210a7",
   "metadata": {
    "ExecuteTime": {
     "end_time": "2022-12-21T06:38:47.257953Z",
     "start_time": "2022-12-21T06:38:47.244342Z"
    }
   },
   "outputs": [
    {
     "name": "stdout",
     "output_type": "stream",
     "text": [
      "{1, 2}\n",
      "{1, 2}\n"
     ]
    }
   ],
   "source": [
    "# 차집합\n",
    "print(s1 - s2)\n",
    "print(s1.difference(s2))"
   ]
  },
  {
   "cell_type": "markdown",
   "id": "a3778f41",
   "metadata": {
    "slideshow": {
     "slide_type": "slide"
    }
   },
   "source": [
    "# 자료구조 변환 함수\n",
    "\n",
    "- list(자료구조)\n",
    "    - 대상 자료구조/Iterable을 List로 변환한다.\n",
    "- tuple(자료구조)\n",
    "    - 대상 자료구조/Iterable을 Tuple로 변환\n",
    "- set(자료구조)\n",
    "    - 대상 자료구조/Iterable을 Set으로 변환\n",
    "    - 다른 자료구조의 원소 중 중복을 빼고 조회할 때 set()를 이용해 Set으로 변환한다.\n",
    "- Dictionary로 변환하는 함수는 없다.\n",
    "- 변경할 대상이 Dictionary 일 경우에는 key값들만 모아서 변환한다.\n",
    "\n",
    "> - Iterable\n",
    ">    - 반복가능한 객체. 반복문(for in)을 이용해 일련의 값들을 반복적으로 각각 제공하는 객체를 말한다. \n",
    ">    - 대표적으로 자료구조, 문자열 등이 있다."
   ]
  },
  {
   "cell_type": "code",
   "execution_count": 235,
   "id": "29e83c23",
   "metadata": {
    "ExecuteTime": {
     "end_time": "2022-12-21T06:46:09.424848Z",
     "start_time": "2022-12-21T06:46:09.414660Z"
    }
   },
   "outputs": [
    {
     "name": "stdout",
     "output_type": "stream",
     "text": [
      "{1, 2, 3, 10, 20}\n"
     ]
    }
   ],
   "source": [
    "l = [1, 2, 2, 2, 3, 3, 3, 2, 1, 2, 3, 10, 2, 3, 20, 1]\n",
    "고유값 = set(l)\n",
    "print(고유값)"
   ]
  },
  {
   "cell_type": "code",
   "execution_count": 236,
   "id": "e8fda07c",
   "metadata": {
    "ExecuteTime": {
     "end_time": "2022-12-21T06:46:33.526261Z",
     "start_time": "2022-12-21T06:46:33.517171Z"
    }
   },
   "outputs": [
    {
     "name": "stdout",
     "output_type": "stream",
     "text": [
      "{1, 2, 3}\n"
     ]
    }
   ],
   "source": [
    "t = (1,1,1,2,2,2,3,3,3)\n",
    "print(set(t))"
   ]
  },
  {
   "cell_type": "code",
   "execution_count": 237,
   "id": "12d8ff54",
   "metadata": {
    "ExecuteTime": {
     "end_time": "2022-12-21T06:47:01.638144Z",
     "start_time": "2022-12-21T06:47:01.620042Z"
    }
   },
   "outputs": [
    {
     "name": "stdout",
     "output_type": "stream",
     "text": [
      "{'A', 'C', 'B'}\n"
     ]
    }
   ],
   "source": [
    "d = {'A':1, 'B':2, 'C':3}\n",
    "print(set(d))"
   ]
  },
  {
   "cell_type": "code",
   "execution_count": 241,
   "id": "87c7bacb",
   "metadata": {
    "ExecuteTime": {
     "end_time": "2022-12-21T06:48:28.667659Z",
     "start_time": "2022-12-21T06:48:28.643472Z"
    }
   },
   "outputs": [
    {
     "data": {
      "text/plain": [
       "(1, 2, 30)"
      ]
     },
     "execution_count": 241,
     "metadata": {},
     "output_type": "execute_result"
    }
   ],
   "source": [
    "t = (1,2,3)  #3->30\n",
    "l = list(t)\n",
    "l[2] = 30\n",
    "t = tuple(l)\n",
    "t"
   ]
  },
  {
   "cell_type": "code",
   "execution_count": 242,
   "id": "9b6700b5",
   "metadata": {
    "ExecuteTime": {
     "end_time": "2022-12-21T06:50:30.385175Z",
     "start_time": "2022-12-21T06:50:30.365236Z"
    }
   },
   "outputs": [
    {
     "data": {
      "text/plain": [
       "['a', 'b', 'c', 'd', 'e', 'f', '가', '나', '다', '라', '1', '2', '3', '4']"
      ]
     },
     "execution_count": 242,
     "metadata": {},
     "output_type": "execute_result"
    }
   ],
   "source": [
    "a = list(\"abcdef가나다라1234\") # 문자열 -> 리스트\n",
    "a"
   ]
  },
  {
   "cell_type": "code",
   "execution_count": 243,
   "id": "268601a4",
   "metadata": {
    "ExecuteTime": {
     "end_time": "2022-12-21T06:51:09.151423Z",
     "start_time": "2022-12-21T06:51:09.139973Z"
    }
   },
   "outputs": [
    {
     "data": {
      "text/plain": [
       "('a', 'b', 'c', 'd', 'e')"
      ]
     },
     "execution_count": 243,
     "metadata": {},
     "output_type": "execute_result"
    }
   ],
   "source": [
    "tuple('abcde')"
   ]
  },
  {
   "cell_type": "code",
   "execution_count": 245,
   "id": "c1b9a584",
   "metadata": {
    "ExecuteTime": {
     "end_time": "2022-12-21T06:51:20.027490Z",
     "start_time": "2022-12-21T06:51:20.018760Z"
    }
   },
   "outputs": [
    {
     "data": {
      "text/plain": [
       "{'a', 'b', 'c', 'd', 'e'}"
      ]
     },
     "execution_count": 245,
     "metadata": {},
     "output_type": "execute_result"
    }
   ],
   "source": [
    "set('abcdeeeeeaaaaabbbb')"
   ]
  },
  {
   "cell_type": "markdown",
   "id": "b4671a5d",
   "metadata": {
    "slideshow": {
     "slide_type": "skip"
    }
   },
   "source": [
    "# TODO"
   ]
  },
  {
   "cell_type": "code",
   "execution_count": null,
   "id": "4135857e",
   "metadata": {},
   "outputs": [],
   "source": [
    "control + shift + -"
   ]
  },
  {
   "cell_type": "code",
   "execution_count": 246,
   "id": "a8a5dc7d",
   "metadata": {
    "ExecuteTime": {
     "end_time": "2022-12-21T08:02:41.086115Z",
     "start_time": "2022-12-21T08:02:41.068940Z"
    },
    "slideshow": {
     "slide_type": "skip"
    }
   },
   "outputs": [
    {
     "name": "stdout",
     "output_type": "stream",
     "text": [
      "90\n",
      "80\n"
     ]
    }
   ],
   "source": [
    "# 문제 1 ~ 7\n",
    "jumsu = [100, 90, 100, 80, 70, 100, 80, 90, 95, 85] \n",
    "# 위 리스트는 학생번호 1번 ~ 10번까지 10명의 시험 점수이다. \n",
    "\n",
    "#(1)  7번의 점수를 출력하세요 \n",
    "print(jumsu[7]) # 8\n",
    "print(jumsu[7-1])"
   ]
  },
  {
   "cell_type": "code",
   "execution_count": 248,
   "id": "c2c2c0d6",
   "metadata": {
    "ExecuteTime": {
     "end_time": "2022-12-21T08:03:23.654338Z",
     "start_time": "2022-12-21T08:03:23.637766Z"
    },
    "slideshow": {
     "slide_type": "skip"
    }
   },
   "outputs": [
    {
     "name": "stdout",
     "output_type": "stream",
     "text": [
      "[100, 90, 100, 80, 70]\n",
      "[100, 90, 100, 80, 70]\n"
     ]
    }
   ],
   "source": [
    "#(2)  1번부터 5번까지의 점수를 출력하세요.\n",
    "print(jumsu[0:5])\n",
    "print(jumsu[:5])"
   ]
  },
  {
   "cell_type": "code",
   "execution_count": 250,
   "id": "4fdfbf3a",
   "metadata": {
    "ExecuteTime": {
     "end_time": "2022-12-21T08:05:03.315810Z",
     "start_time": "2022-12-21T08:05:03.299345Z"
    },
    "slideshow": {
     "slide_type": "skip"
    }
   },
   "outputs": [
    {
     "name": "stdout",
     "output_type": "stream",
     "text": [
      "80 70 100 80\n",
      "[80, 70, 100, 80]\n"
     ]
    }
   ],
   "source": [
    "#(3)  4, 5, 6, 7번의 점수를 출력하세요.\n",
    "print(jumsu[3], jumsu[4], jumsu[5], jumsu[6])\n",
    "print(jumsu[3:7])"
   ]
  },
  {
   "cell_type": "code",
   "execution_count": 252,
   "id": "fcbe3f2c",
   "metadata": {
    "ExecuteTime": {
     "end_time": "2022-12-21T08:06:13.214675Z",
     "start_time": "2022-12-21T08:06:13.196747Z"
    },
    "slideshow": {
     "slide_type": "skip"
    }
   },
   "outputs": [
    {
     "data": {
      "text/plain": [
       "[90, 80, 100, 90, 85]"
      ]
     },
     "execution_count": 252,
     "metadata": {},
     "output_type": "execute_result"
    }
   ],
   "source": [
    "#(4) 짝수번째 점수를 출력하세요.\n",
    "jumsu[1::2]"
   ]
  },
  {
   "cell_type": "code",
   "execution_count": 253,
   "id": "0a2155b2",
   "metadata": {
    "ExecuteTime": {
     "end_time": "2022-12-21T08:06:40.902646Z",
     "start_time": "2022-12-21T08:06:40.888859Z"
    },
    "slideshow": {
     "slide_type": "skip"
    }
   },
   "outputs": [
    {
     "data": {
      "text/plain": [
       "[100, 100, 70, 80, 95]"
      ]
     },
     "execution_count": 253,
     "metadata": {},
     "output_type": "execute_result"
    }
   ],
   "source": [
    "#(5) 홀수번째 점수를 출력하세요.\n",
    "jumsu[::2]"
   ]
  },
  {
   "cell_type": "code",
   "execution_count": 257,
   "id": "b41087f3",
   "metadata": {
    "ExecuteTime": {
     "end_time": "2022-12-21T08:08:24.204064Z",
     "start_time": "2022-12-21T08:08:24.188880Z"
    },
    "slideshow": {
     "slide_type": "skip"
    }
   },
   "outputs": [
    {
     "name": "stdout",
     "output_type": "stream",
     "text": [
      "[100, 90, 100, 80, 70, 100, 80, 90, 20, 85]\n",
      "[100, 90, 100, 80, 70, 100, 80, 90, 20, 85]\n"
     ]
    }
   ],
   "source": [
    "#(6) 9번의 점수를 20으로 변경하고 전체 출력하세요.\n",
    "print(jumsu)\n",
    "jumsu[8] = 20\n",
    "print(jumsu)"
   ]
  },
  {
   "cell_type": "code",
   "execution_count": 259,
   "id": "5a357880",
   "metadata": {
    "ExecuteTime": {
     "end_time": "2022-12-21T08:08:53.961262Z",
     "start_time": "2022-12-21T08:08:53.954196Z"
    }
   },
   "outputs": [
    {
     "name": "stdout",
     "output_type": "stream",
     "text": [
      "[100, 90, 100, 80, 70, 100, 80, 90, 20, 85]\n",
      "[100, 90, 100, 80, 70, 100, 80, 90, 20, 85]\n",
      "[100, 90, 100, 80, 70, 100, 80, 50, 20, 85]\n",
      "[100, 90, 100, 80, 70, 100, 80, 50, 20, 85]\n"
     ]
    }
   ],
   "source": [
    "jumsu2 = jumsu\n",
    "print(jumsu)\n",
    "print(jumsu2)\n",
    "jumsu2[7] = 50\n",
    "print(jumsu)\n",
    "print(jumsu2)\n"
   ]
  },
  {
   "cell_type": "code",
   "execution_count": 263,
   "id": "60eece81",
   "metadata": {
    "ExecuteTime": {
     "end_time": "2022-12-21T08:18:11.973190Z",
     "start_time": "2022-12-21T08:18:11.964475Z"
    }
   },
   "outputs": [
    {
     "name": "stdout",
     "output_type": "stream",
     "text": [
      "[100, 90, 100, 80, 70, 100, 80, 50, 20, 85]\n",
      "[100, 90, 100, 80, 70, 100, 80, 50, 20, 85]\n",
      "--------------------------------------------------\n",
      "[100, 90, 100, 80, 70, 100, 80, 50, 20, 85]\n",
      "[0, 90, 100, 80, 70, 100, 80, 50, 20, 85]\n"
     ]
    }
   ],
   "source": [
    "import copy\n",
    "print(jumsu)\n",
    "jumsu2 = copy.deepcopy(jumsu)\n",
    "print(jumsu2)\n",
    "jumsu2[0] = 0\n",
    "print(\"-\"*50)\n",
    "print(jumsu)\n",
    "print(jumsu2)"
   ]
  },
  {
   "cell_type": "code",
   "execution_count": 260,
   "id": "63e9a8f0",
   "metadata": {
    "ExecuteTime": {
     "end_time": "2022-12-21T08:10:49.855309Z",
     "start_time": "2022-12-21T08:10:49.836873Z"
    }
   },
   "outputs": [
    {
     "name": "stdout",
     "output_type": "stream",
     "text": [
      "10 500\n"
     ]
    }
   ],
   "source": [
    "# immutable한 값(string,정수,실수,논리,튜플)\n",
    "# 변수를 이용해서 다른 변수에 대입한 다음에 다른 변수에서 값을 바꿔도 원본은 안바뀐다.\n",
    "\n",
    "# mutable한 값(리스트, 셋, 딕셔너리)\n",
    "# 변수를 이용해서 다른 변수에 대입한 다음에 다른 변수에서 값을 바꾸면 원본도 바뀐다.\n",
    "a  = 10\n",
    "b = a\n",
    "b = 500\n",
    "print(a, b)"
   ]
  },
  {
   "cell_type": "code",
   "execution_count": 267,
   "id": "cac1c63e",
   "metadata": {
    "ExecuteTime": {
     "end_time": "2022-12-21T08:20:07.969843Z",
     "start_time": "2022-12-21T08:20:07.956996Z"
    },
    "slideshow": {
     "slide_type": "skip"
    }
   },
   "outputs": [
    {
     "data": {
      "text/plain": [
       "[100, 70, 80, 50, 20, 85, 90]"
      ]
     },
     "execution_count": 267,
     "metadata": {},
     "output_type": "execute_result"
    }
   ],
   "source": [
    "#(7) 중복된 점수는 제거하고 하나씩만 나오도록 출력하세요.\n",
    "u_jumsu = list(set(jumsu))\n",
    "u_jumsu"
   ]
  },
  {
   "cell_type": "code",
   "execution_count": 268,
   "id": "5f42854f",
   "metadata": {
    "ExecuteTime": {
     "end_time": "2022-12-21T08:20:30.432595Z",
     "start_time": "2022-12-21T08:20:30.418829Z"
    },
    "slideshow": {
     "slide_type": "skip"
    }
   },
   "outputs": [],
   "source": [
    "# 문제 8 ~ 9\n",
    "fruits = [\"복숭아\", \"수박\", \"딸기\"]"
   ]
  },
  {
   "cell_type": "code",
   "execution_count": 269,
   "id": "7e4d0a66",
   "metadata": {
    "ExecuteTime": {
     "end_time": "2022-12-21T08:21:13.199141Z",
     "start_time": "2022-12-21T08:21:13.180665Z"
    },
    "slideshow": {
     "slide_type": "skip"
    }
   },
   "outputs": [
    {
     "data": {
      "text/plain": [
       "['복숭아', '수박', '딸기', '사과', '귤']"
      ]
     },
     "execution_count": 269,
     "metadata": {},
     "output_type": "execute_result"
    }
   ],
   "source": [
    "#(8) fruits 리스트에 마지막 원소로 \"사과\", \"귤\"을 추가하세요.\n",
    "# fruits.append('사과')\n",
    "# frutis.append('귤')\n",
    "fruits.extend(['사과', '귤'])\n",
    "fruits"
   ]
  },
  {
   "cell_type": "code",
   "execution_count": 272,
   "id": "1753f3a2",
   "metadata": {
    "ExecuteTime": {
     "end_time": "2022-12-21T08:22:36.656330Z",
     "start_time": "2022-12-21T08:22:36.646989Z"
    }
   },
   "outputs": [],
   "source": [
    "fruits += [\"복숭아\", \"오렌지\"]"
   ]
  },
  {
   "cell_type": "code",
   "execution_count": 273,
   "id": "8aba8e14",
   "metadata": {
    "ExecuteTime": {
     "end_time": "2022-12-21T08:22:37.293784Z",
     "start_time": "2022-12-21T08:22:37.276301Z"
    }
   },
   "outputs": [
    {
     "data": {
      "text/plain": [
       "['복숭아', '수박', '딸기', '사과', '귤', '복숭아', '오렌지']"
      ]
     },
     "execution_count": 273,
     "metadata": {},
     "output_type": "execute_result"
    }
   ],
   "source": [
    "fruits"
   ]
  },
  {
   "cell_type": "code",
   "execution_count": 275,
   "id": "ca835609",
   "metadata": {
    "ExecuteTime": {
     "end_time": "2022-12-21T08:24:09.585990Z",
     "start_time": "2022-12-21T08:24:09.572312Z"
    },
    "slideshow": {
     "slide_type": "skip"
    }
   },
   "outputs": [],
   "source": [
    "#(9) fruits 리스트에서 \"복숭아\"를 제거하세요.\n",
    "del fruits[0]\n",
    "del fruits[5]"
   ]
  },
  {
   "cell_type": "code",
   "execution_count": 276,
   "id": "b9ce5316",
   "metadata": {
    "ExecuteTime": {
     "end_time": "2022-12-21T08:24:15.239665Z",
     "start_time": "2022-12-21T08:24:15.228147Z"
    }
   },
   "outputs": [
    {
     "data": {
      "text/plain": [
       "['수박', '딸기', '사과', '귤', '복숭아']"
      ]
     },
     "execution_count": 276,
     "metadata": {},
     "output_type": "execute_result"
    }
   ],
   "source": [
    "fruits"
   ]
  },
  {
   "cell_type": "code",
   "execution_count": 278,
   "id": "48c676bf",
   "metadata": {
    "ExecuteTime": {
     "end_time": "2022-12-21T08:25:33.860521Z",
     "start_time": "2022-12-21T08:25:33.843869Z"
    }
   },
   "outputs": [
    {
     "data": {
      "text/plain": [
       "['수박', '딸기', '사과', '귤']"
      ]
     },
     "execution_count": 278,
     "metadata": {},
     "output_type": "execute_result"
    }
   ],
   "source": [
    "idx = fruits.index('복숭아')\n",
    "del fruits[idx]\n",
    "fruits"
   ]
  },
  {
   "cell_type": "code",
   "execution_count": 279,
   "id": "8b712fa7",
   "metadata": {
    "ExecuteTime": {
     "end_time": "2022-12-21T08:25:50.322382Z",
     "start_time": "2022-12-21T08:25:50.304667Z"
    }
   },
   "outputs": [],
   "source": [
    "fruits.remove('딸기')"
   ]
  },
  {
   "cell_type": "code",
   "execution_count": 280,
   "id": "3cb8b1c5",
   "metadata": {
    "ExecuteTime": {
     "end_time": "2022-12-21T08:25:54.713623Z",
     "start_time": "2022-12-21T08:25:54.700672Z"
    }
   },
   "outputs": [
    {
     "data": {
      "text/plain": [
       "['수박', '사과', '귤']"
      ]
     },
     "execution_count": 280,
     "metadata": {},
     "output_type": "execute_result"
    }
   ],
   "source": [
    "fruits"
   ]
  },
  {
   "cell_type": "code",
   "execution_count": 281,
   "id": "c4a415ef",
   "metadata": {
    "ExecuteTime": {
     "end_time": "2022-12-21T08:29:17.676875Z",
     "start_time": "2022-12-21T08:29:17.661889Z"
    },
    "slideshow": {
     "slide_type": "skip"
    }
   },
   "outputs": [],
   "source": [
    "# 문제 10 ~ 15\n",
    "#(10)본인의 이름, 나이, email주소, 취미, 결혼유무를 사전(딕셔너리)으로 생성. \n",
    "# 취미는 2개 이상의 값을 넣는다.\n",
    "info = {\n",
    "    \"이름\":\"홍길동\",\n",
    "    \"나이\":30,\n",
    "    \"email주소\":\"abc@a.com\",\n",
    "    \"취미\":[\"독서\", \"게임\"], \n",
    "    \"결혼유무\":\"미혼\"\n",
    "}\n",
    "info2 = dict(이름=\"홍길동\", 나이=30, email주소=\"a@a.com\", 취미=['영화감상', '음악감상'], 결혼유무=True)"
   ]
  },
  {
   "cell_type": "code",
   "execution_count": 282,
   "id": "a9fb86df",
   "metadata": {
    "ExecuteTime": {
     "end_time": "2022-12-21T08:29:22.053247Z",
     "start_time": "2022-12-21T08:29:22.036701Z"
    },
    "collapsed": true
   },
   "outputs": [
    {
     "data": {
      "text/plain": [
       "{'이름': '홍길동',\n",
       " '나이': 30,\n",
       " 'email주소': 'abc@a.com',\n",
       " '취미': ['독서', '게임'],\n",
       " '결혼유무': '미혼'}"
      ]
     },
     "execution_count": 282,
     "metadata": {},
     "output_type": "execute_result"
    }
   ],
   "source": [
    "info"
   ]
  },
  {
   "cell_type": "code",
   "execution_count": 283,
   "id": "03064c81",
   "metadata": {
    "ExecuteTime": {
     "end_time": "2022-12-21T08:29:28.860085Z",
     "start_time": "2022-12-21T08:29:28.853318Z"
    },
    "collapsed": true
   },
   "outputs": [
    {
     "data": {
      "text/plain": [
       "{'이름': '홍길동',\n",
       " '나이': 30,\n",
       " 'email주소': 'a@a.com',\n",
       " '취미': ['영화감상', '음악감상'],\n",
       " '결혼유무': True}"
      ]
     },
     "execution_count": 283,
     "metadata": {},
     "output_type": "execute_result"
    }
   ],
   "source": [
    "info2"
   ]
  },
  {
   "cell_type": "code",
   "execution_count": 285,
   "id": "6d53a526",
   "metadata": {
    "ExecuteTime": {
     "end_time": "2022-12-21T08:30:14.167807Z",
     "start_time": "2022-12-21T08:30:14.152260Z"
    },
    "slideshow": {
     "slide_type": "skip"
    }
   },
   "outputs": [
    {
     "name": "stdout",
     "output_type": "stream",
     "text": [
      "abc@a.com\n",
      "abc@a.com\n"
     ]
    }
   ],
   "source": [
    "#(11) 위 딕셔너리에서 이름과 email주소를 조회해서 출력하세요.\n",
    "print(info['email주소'])\n",
    "print(info.get('email주소'))"
   ]
  },
  {
   "cell_type": "code",
   "execution_count": 287,
   "id": "4fa02fac",
   "metadata": {
    "ExecuteTime": {
     "end_time": "2022-12-21T08:31:10.449250Z",
     "start_time": "2022-12-21T08:31:10.436906Z"
    },
    "slideshow": {
     "slide_type": "skip"
    }
   },
   "outputs": [
    {
     "data": {
      "text/plain": [
       "'게임'"
      ]
     },
     "execution_count": 287,
     "metadata": {},
     "output_type": "execute_result"
    }
   ],
   "source": [
    "#(12) 위 딕셔너리에서 취미중 두번째 취미를 조회해서 출력하세요.\n",
    "print(info['취미'][1])"
   ]
  },
  {
   "cell_type": "code",
   "execution_count": 289,
   "id": "dac4a46d",
   "metadata": {
    "ExecuteTime": {
     "end_time": "2022-12-21T08:32:10.424876Z",
     "start_time": "2022-12-21T08:32:10.404695Z"
    },
    "slideshow": {
     "slide_type": "skip"
    }
   },
   "outputs": [
    {
     "data": {
      "text/plain": [
       "{'이름': '홍길동',\n",
       " '나이': 30,\n",
       " 'email주소': 'abc@a.com',\n",
       " '취미': ['독서', '게임'],\n",
       " '결혼유무': '미혼',\n",
       " '몸무게': 80,\n",
       " '키': 180.56}"
      ]
     },
     "execution_count": 289,
     "metadata": {},
     "output_type": "execute_result"
    }
   ],
   "source": [
    "#(13) 위 딕셔너리에 몸무게와 키 항목을 추가하세요.\n",
    "info['몸무게'] = 80\n",
    "info['키'] = 180.56\n",
    "info"
   ]
  },
  {
   "cell_type": "code",
   "execution_count": 290,
   "id": "a0c4febf",
   "metadata": {
    "ExecuteTime": {
     "end_time": "2022-12-21T08:32:42.776563Z",
     "start_time": "2022-12-21T08:32:42.764805Z"
    },
    "slideshow": {
     "slide_type": "skip"
    }
   },
   "outputs": [
    {
     "name": "stdout",
     "output_type": "stream",
     "text": [
      "{'이름': '홍길동', 'email주소': 'abc@a.com', '취미': ['독서', '게임'], '결혼유무': '미혼', '몸무게': 80, '키': 180.56}\n"
     ]
    }
   ],
   "source": [
    "#(14) 위 딕셔너리에서 나이를 제거하세요.\n",
    "del info['나이']\n",
    "print(info)"
   ]
  },
  {
   "cell_type": "code",
   "execution_count": 291,
   "id": "12398809",
   "metadata": {
    "ExecuteTime": {
     "end_time": "2022-12-21T08:33:36.392221Z",
     "start_time": "2022-12-21T08:33:36.380556Z"
    },
    "slideshow": {
     "slide_type": "skip"
    }
   },
   "outputs": [
    {
     "data": {
      "text/plain": [
       "{'이름': '홍길동',\n",
       " 'email주소': 'aaaa@abcde.co.kr',\n",
       " '취미': ['독서', '게임'],\n",
       " '결혼유무': '미혼',\n",
       " '몸무게': 80,\n",
       " '키': 180.56}"
      ]
     },
     "execution_count": 291,
     "metadata": {},
     "output_type": "execute_result"
    }
   ],
   "source": [
    "#(15) 위 딕셔너리에서 email 주소를 다른 값으로 변경하세요.\n",
    "info['email주소'] = 'aaaa@abcde.co.kr'\n",
    "info"
   ]
  },
  {
   "cell_type": "code",
   "execution_count": null,
   "id": "e8fb4892",
   "metadata": {},
   "outputs": [],
   "source": []
  }
 ],
 "metadata": {
  "kernelspec": {
   "display_name": "Python 3 (ipykernel)",
   "language": "python",
   "name": "python3"
  },
  "language_info": {
   "codemirror_mode": {
    "name": "ipython",
    "version": 3
   },
   "file_extension": ".py",
   "mimetype": "text/x-python",
   "name": "python",
   "nbconvert_exporter": "python",
   "pygments_lexer": "ipython3",
   "version": "3.9.13"
  },
  "toc": {
   "base_numbering": 1,
   "nav_menu": {},
   "number_sections": true,
   "sideBar": true,
   "skip_h1_title": false,
   "title_cell": "Table of Contents",
   "title_sidebar": "Contents",
   "toc_cell": false,
   "toc_position": {
    "height": "calc(100% - 180px)",
    "left": "10px",
    "top": "150px",
    "width": "303.837px"
   },
   "toc_section_display": true,
   "toc_window_display": false
  },
  "varInspector": {
   "cols": {
    "lenName": 16,
    "lenType": 16,
    "lenVar": 40
   },
   "kernels_config": {
    "python": {
     "delete_cmd_postfix": "",
     "delete_cmd_prefix": "del ",
     "library": "var_list.py",
     "varRefreshCmd": "print(var_dic_list())"
    },
    "r": {
     "delete_cmd_postfix": ") ",
     "delete_cmd_prefix": "rm(",
     "library": "var_list.r",
     "varRefreshCmd": "cat(var_dic_list()) "
    }
   },
   "types_to_exclude": [
    "module",
    "function",
    "builtin_function_or_method",
    "instance",
    "_Feature"
   ],
   "window_display": false
  }
 },
 "nbformat": 4,
 "nbformat_minor": 5
}
