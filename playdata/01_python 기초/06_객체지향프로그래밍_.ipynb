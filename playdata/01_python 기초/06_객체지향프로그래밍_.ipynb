{
 "cells": [
  {
   "cell_type": "markdown",
   "metadata": {
    "slideshow": {
     "slide_type": "slide"
    }
   },
   "source": [
    "# 객체지향 프로그래밍 (Object Oriented Programming)\n",
    "\n",
    "프로그램을 구성하는 변수와 함수를 서로 연관성있는 것 끼리 묶어서 모듈화하는 개발하는 언어들을 객체지향프로그래밍 언어라고 한다."
   ]
  },
  {
   "cell_type": "markdown",
   "metadata": {
    "slideshow": {
     "slide_type": "fragment"
    }
   },
   "source": [
    "# Instance(객체)\n",
    "- 연관성 있는 값들과 그 값들을 처리하는 함수(메소드)들을 묶어서 가지고 있는 것(값).\n",
    "- 객체의 구성요소\n",
    "    - 속성(Attribute)\n",
    "        - 객체의 데이터/상태로 객체를 구성하는 값들.\n",
    "    - 메소드(method)\n",
    "        - 객체가 제공하는 기능으로 주로 Attribute들을 처리한다.\n",
    "        "
   ]
  },
  {
   "cell_type": "markdown",
   "metadata": {
    "slideshow": {
     "slide_type": "subslide"
    }
   },
   "source": [
    "## Class(클래스) 정의\n",
    "\n",
    "- class란: 객체의 설계도\n",
    "    - 동일한 형태의 객체들이 가져야 하는 Attribute와 Method들을 정의 한 것\n",
    "        - 클래스를 정의할 때 어떤 속성과 메소드를 가지는지 먼저 설계해야 한다.\n",
    "    - 클래스로 부터 객체(instance)를 생성한 뒤 사용한다.\n",
    "```python\n",
    "class 클래스이름:  #선언부\n",
    "    #클래스 구현\n",
    "    #메소드들을 정의\n",
    "```\n",
    "- 클래스 이름의 관례: 파스칼 표기법-각 단어의 첫글자는 대문자 나머진 소문자로 정의한다.\n",
    "    - ex) Person, Student, HighSchoolStudent\n",
    "    "
   ]
  },
  {
   "cell_type": "markdown",
   "metadata": {
    "slideshow": {
     "slide_type": "fragment"
    }
   },
   "source": [
    "## 클래스로부터 객체(Instance) 생성\n",
    "- 클래스는 데이터 타입 instance는 값이다.\n",
    "\n",
    "```python\n",
    "변수 = 클래스이름()\n",
    "```"
   ]
  },
  {
   "cell_type": "code",
   "execution_count": 1,
   "metadata": {
    "ExecuteTime": {
     "end_time": "2022-12-27T03:09:56.118243Z",
     "start_time": "2022-12-27T03:09:56.105036Z"
    }
   },
   "outputs": [],
   "source": [
    "# 클래스 구현\n",
    "class Person:\n",
    "    # 메소드들 구현\n",
    "    pass   "
   ]
  },
  {
   "cell_type": "code",
   "execution_count": 3,
   "metadata": {
    "ExecuteTime": {
     "end_time": "2022-12-27T03:11:48.430543Z",
     "start_time": "2022-12-27T03:11:48.416513Z"
    }
   },
   "outputs": [],
   "source": [
    "# instance(객체) 생성\n",
    "p = Person()"
   ]
  },
  {
   "cell_type": "code",
   "execution_count": 4,
   "metadata": {
    "ExecuteTime": {
     "end_time": "2022-12-27T03:11:57.847773Z",
     "start_time": "2022-12-27T03:11:57.828812Z"
    }
   },
   "outputs": [
    {
     "name": "stdout",
     "output_type": "stream",
     "text": [
      "<class '__main__.Person'>\n"
     ]
    }
   ],
   "source": [
    "print(type(p))\n",
    "# class: Data Type, instance: Value"
   ]
  },
  {
   "cell_type": "code",
   "execution_count": 9,
   "metadata": {
    "ExecuteTime": {
     "end_time": "2022-12-27T03:14:05.255549Z",
     "start_time": "2022-12-27T03:14:05.239060Z"
    }
   },
   "outputs": [
    {
     "name": "stdout",
     "output_type": "stream",
     "text": [
      "<class 'int'> <class 'float'> <class 'str'>\n"
     ]
    }
   ],
   "source": [
    "print(type(10), type(5.6), type(\"aaa\"))"
   ]
  },
  {
   "cell_type": "markdown",
   "metadata": {
    "slideshow": {
     "slide_type": "subslide"
    }
   },
   "source": [
    "## Attribute(속성) \n",
    "- attribute는 객체의 데이터, 객체가 가지는 값, 객체의 상태\n",
    "\n",
    "### 객체에 속성을 추가, 조회\n",
    "- 객체의 속성 추가(값 변경)\n",
    "    1. Initializer(생성자)를 통한 추가\n",
    "    2. 객체.속성명 = 값 (추가/변경)\n",
    "    3. 메소드를 통한 추가/변경\n",
    "    - 1(Initializer)은 초기화할 때. 2, 3은 속성값을 변경할 때 적용.\n",
    "- 속성 값 조회\n",
    "    - 객체.속성명\n",
    "- **객체.\\_\\_dict\\_\\_**\n",
    "    - 객체가 가지고 있는 Attribute들을 dictionary로 반환한다."
   ]
  },
  {
   "cell_type": "code",
   "execution_count": 10,
   "metadata": {
    "ExecuteTime": {
     "end_time": "2022-12-27T03:21:39.772212Z",
     "start_time": "2022-12-27T03:21:39.763583Z"
    }
   },
   "outputs": [
    {
     "name": "stdout",
     "output_type": "stream",
     "text": [
      "{}\n"
     ]
    }
   ],
   "source": [
    "# 객체 생성\n",
    "p = Person()\n",
    "# 객체가 가진 attribute 들을 조회\n",
    "print(p.__dict__)"
   ]
  },
  {
   "cell_type": "code",
   "execution_count": 12,
   "metadata": {
    "ExecuteTime": {
     "end_time": "2022-12-27T03:24:25.288808Z",
     "start_time": "2022-12-27T03:24:25.272479Z"
    }
   },
   "outputs": [
    {
     "name": "stdout",
     "output_type": "stream",
     "text": [
      "{'name': '홍길동', 'age': 30, 'address': '서울'}\n"
     ]
    }
   ],
   "source": [
    "# attribute 추가 (2번방식)\n",
    "p.name = '홍길동'  #p.name => p객체\"의\" name변수\n",
    "p.age = 30\n",
    "p.address = '서울'\n",
    "print(p.__dict__)"
   ]
  },
  {
   "cell_type": "code",
   "execution_count": 14,
   "metadata": {
    "ExecuteTime": {
     "end_time": "2022-12-27T03:25:50.504224Z",
     "start_time": "2022-12-27T03:25:50.498008Z"
    }
   },
   "outputs": [
    {
     "name": "stdout",
     "output_type": "stream",
     "text": [
      "홍길동 30 서울\n"
     ]
    }
   ],
   "source": [
    "# attribute 조회\n",
    "print(p.name, p.age, p.address)"
   ]
  },
  {
   "cell_type": "code",
   "execution_count": 15,
   "metadata": {
    "ExecuteTime": {
     "end_time": "2022-12-27T03:31:56.447834Z",
     "start_time": "2022-12-27T03:31:56.434573Z"
    }
   },
   "outputs": [],
   "source": [
    "p2 = Person()\n",
    "p2.name = '이순신'\n",
    "p2.age = 20\n",
    "p2.address = '인천'"
   ]
  },
  {
   "cell_type": "code",
   "execution_count": 16,
   "metadata": {
    "ExecuteTime": {
     "end_time": "2022-12-27T03:32:12.133452Z",
     "start_time": "2022-12-27T03:32:12.120077Z"
    }
   },
   "outputs": [
    {
     "name": "stdout",
     "output_type": "stream",
     "text": [
      "이순신 20 인천\n"
     ]
    }
   ],
   "source": [
    "print(p2.name, p2.age, p2.address)"
   ]
  },
  {
   "cell_type": "code",
   "execution_count": 17,
   "metadata": {
    "ExecuteTime": {
     "end_time": "2022-12-27T03:32:55.152378Z",
     "start_time": "2022-12-27T03:32:55.142685Z"
    }
   },
   "outputs": [
    {
     "name": "stdout",
     "output_type": "stream",
     "text": [
      "홍길동 30 서울\n"
     ]
    }
   ],
   "source": [
    "print(p.name, p.age, p.address)"
   ]
  },
  {
   "cell_type": "code",
   "execution_count": 18,
   "metadata": {
    "ExecuteTime": {
     "end_time": "2022-12-27T03:36:44.284273Z",
     "start_time": "2022-12-27T03:36:44.271709Z"
    }
   },
   "outputs": [],
   "source": [
    "p3 = Person()\n",
    "p3.name = '유관순'\n",
    "p3.age = 25\n",
    "p3.email = 'ryu@a.com'"
   ]
  },
  {
   "cell_type": "code",
   "execution_count": null,
   "metadata": {},
   "outputs": [],
   "source": [
    "p4 =Person(\"홍길동\", 20, \"서울\")\n",
    "p4.이름 = \"홍길동"
   ]
  },
  {
   "cell_type": "code",
   "execution_count": 20,
   "metadata": {
    "ExecuteTime": {
     "end_time": "2022-12-27T03:38:02.961441Z",
     "start_time": "2022-12-27T03:38:02.943423Z"
    },
    "scrolled": true
   },
   "outputs": [
    {
     "ename": "AttributeError",
     "evalue": "'Person' object has no attribute 'address'",
     "output_type": "error",
     "traceback": [
      "\u001b[1;31m---------------------------------------------------------------------------\u001b[0m",
      "\u001b[1;31mAttributeError\u001b[0m                            Traceback (most recent call last)",
      "\u001b[1;32m~\\AppData\\Local\\Temp\\ipykernel_12848\\3093680242.py\u001b[0m in \u001b[0;36m<module>\u001b[1;34m\u001b[0m\n\u001b[1;32m----> 1\u001b[1;33m \u001b[0mprint\u001b[0m\u001b[1;33m(\u001b[0m\u001b[0mp3\u001b[0m\u001b[1;33m.\u001b[0m\u001b[0mname\u001b[0m\u001b[1;33m,\u001b[0m \u001b[0mp3\u001b[0m\u001b[1;33m.\u001b[0m\u001b[0mage\u001b[0m\u001b[1;33m,\u001b[0m \u001b[0mp3\u001b[0m\u001b[1;33m.\u001b[0m\u001b[0maddress\u001b[0m\u001b[1;33m)\u001b[0m\u001b[1;33m\u001b[0m\u001b[1;33m\u001b[0m\u001b[0m\n\u001b[0m",
      "\u001b[1;31mAttributeError\u001b[0m: 'Person' object has no attribute 'address'"
     ]
    }
   ],
   "source": [
    "print(p3.name, p3.age, p3.address)"
   ]
  },
  {
   "cell_type": "markdown",
   "metadata": {
    "slideshow": {
     "slide_type": "subslide"
    }
   },
   "source": [
    "### 생성자(Initializer)\n",
    "- 객체를 생성할 때 호출되는 특수메소드로 attribute들 초기화에 하는 코드를 구현한다.\n",
    "    - Inializer를 이용해 초기화하는 Attribute들이 그 클래스의 객체들이 가져야 하는 공통 Attribute가 된다.\n",
    "- 구문\n",
    "```python\n",
    "def __init__(self [,매개변수들 선언]):  #[ ] 옵션.\n",
    "    # 구현 -> attribute(instance변수) 초기화\n",
    "    self.속성명 = 값\n",
    "```\n",
    "> 변수 초기화: 처음 변수 만들어서 처음 값 대입.    "
   ]
  },
  {
   "cell_type": "markdown",
   "metadata": {
    "slideshow": {
     "slide_type": "fragment"
    }
   },
   "source": [
    "### self  parameter\n",
    "- 메소드는 반드시 한개 이상의 parameter를 선언해야 하고 그 첫번째 parameter를 말한다.\n",
    "- 메소드 호출시 그 메소드를 소유한 instance가 self parameter에 할당된다.\n",
    "- Initializer의 self\n",
    "    - 현재 만들어 지고 있는 객체를 받는다.\n",
    "- 메소드의 self\n",
    "    - 메소드를 소유한 객체를 받는다.\n",
    "- Caller에서 생성자/메소드에 전달된 argument들을 받을 parameter는 두번째 변수부터 선언한다.    "
   ]
  },
  {
   "cell_type": "code",
   "execution_count": 26,
   "metadata": {
    "ExecuteTime": {
     "end_time": "2022-12-27T05:30:14.426395Z",
     "start_time": "2022-12-27T05:30:14.416871Z"
    }
   },
   "outputs": [],
   "source": [
    "class Person2:\n",
    "    \n",
    "    def __init__(self, name, age, address=None):\n",
    "        \"\"\"\n",
    "        Person 객체의 name, age, address 속성을 초기화.\n",
    "        \"\"\"\n",
    "        # 속성에 값 대입 - self.변수명 = 값\n",
    "        self.name = name\n",
    "        self.age = age\n",
    "        self.address = address"
   ]
  },
  {
   "cell_type": "code",
   "execution_count": 27,
   "metadata": {
    "ExecuteTime": {
     "end_time": "2022-12-27T05:30:14.781293Z",
     "start_time": "2022-12-27T05:30:14.760100Z"
    }
   },
   "outputs": [],
   "source": [
    "p = Person2('강감찬', 50, '광주')"
   ]
  },
  {
   "cell_type": "code",
   "execution_count": 23,
   "metadata": {
    "ExecuteTime": {
     "end_time": "2022-12-27T05:22:44.974797Z",
     "start_time": "2022-12-27T05:22:44.967801Z"
    }
   },
   "outputs": [
    {
     "name": "stdout",
     "output_type": "stream",
     "text": [
      "강감찬 50 광주\n"
     ]
    }
   ],
   "source": [
    "print(p.name, p.age, p.address)"
   ]
  },
  {
   "cell_type": "markdown",
   "metadata": {
    "slideshow": {
     "slide_type": "subslide"
    }
   },
   "source": [
    "### Instance 메소드(method)\n",
    "- 객체가 제공하는 기능\n",
    "- 객체의 attribute 값을 처리하는 기능을 구현한다.\n",
    "- 구문\n",
    "```python\n",
    "def 이름(self [, 매개변수들 선언]):\n",
    "    # 구현\n",
    "    # attribute 사용(조회/대입)\n",
    "    self.attribute \n",
    "```\n",
    "- self (첫번째 매개변수)\n",
    "    - 메소드를 소유한 객체를 받는 변수\n",
    "    - 호출할 때 전달하는 argument를 받는 매개변수는 두번째 부터 선언한다.\n",
    "![self](images/ch06_01.png)\n",
    "    \n",
    "- **메소드 호출**\n",
    "    - `객체.메소드이름([argument, ...])`"
   ]
  },
  {
   "cell_type": "code",
   "execution_count": 28,
   "metadata": {
    "ExecuteTime": {
     "end_time": "2022-12-27T05:45:12.181176Z",
     "start_time": "2022-12-27T05:45:12.166246Z"
    }
   },
   "outputs": [],
   "source": [
    "class Person3:\n",
    "    \n",
    "    def __init__(self, name, age, address=None):\n",
    "        self.name = name\n",
    "        self.age = age\n",
    "        self.address = address\n",
    "        \n",
    "    def print_info(self): # argument가 없는 메소드\n",
    "        # attribute들을 출력하는 메소드\n",
    "        print(f\"이름: {self.name}, 나이: {self.age}, 주소: {self.address}\")\n",
    "        \n",
    "    def add_age(self, age):\n",
    "#         나이에 전달받은 age를 더하는 메소드\n",
    "        self.age += age  #self.age = self.age + age"
   ]
  },
  {
   "cell_type": "code",
   "execution_count": 31,
   "metadata": {
    "ExecuteTime": {
     "end_time": "2022-12-27T06:09:17.529804Z",
     "start_time": "2022-12-27T06:09:17.521699Z"
    }
   },
   "outputs": [],
   "source": [
    "p1 = Person3(\"이순신\", 10, \"대전\")"
   ]
  },
  {
   "cell_type": "code",
   "execution_count": 32,
   "metadata": {
    "ExecuteTime": {
     "end_time": "2022-12-27T06:09:33.353517Z",
     "start_time": "2022-12-27T06:09:33.346324Z"
    }
   },
   "outputs": [],
   "source": [
    "p2 = Person3(\"유관순\", 20, \"서울\")"
   ]
  },
  {
   "cell_type": "code",
   "execution_count": 36,
   "metadata": {
    "ExecuteTime": {
     "end_time": "2022-12-27T06:17:23.039574Z",
     "start_time": "2022-12-27T06:17:23.024468Z"
    }
   },
   "outputs": [],
   "source": [
    "p1.add_age(2)"
   ]
  },
  {
   "cell_type": "code",
   "execution_count": 37,
   "metadata": {
    "ExecuteTime": {
     "end_time": "2022-12-27T06:17:33.035290Z",
     "start_time": "2022-12-27T06:17:33.023886Z"
    }
   },
   "outputs": [
    {
     "name": "stdout",
     "output_type": "stream",
     "text": [
      "이름: 이순신, 나이: 12, 주소: 대전\n"
     ]
    }
   ],
   "source": [
    "p1.print_info()"
   ]
  },
  {
   "cell_type": "code",
   "execution_count": 38,
   "metadata": {
    "ExecuteTime": {
     "end_time": "2022-12-27T06:17:58.093967Z",
     "start_time": "2022-12-27T06:17:58.079489Z"
    }
   },
   "outputs": [],
   "source": [
    "p2.add_age(5)"
   ]
  },
  {
   "cell_type": "code",
   "execution_count": 39,
   "metadata": {
    "ExecuteTime": {
     "end_time": "2022-12-27T06:17:58.512900Z",
     "start_time": "2022-12-27T06:17:58.495739Z"
    }
   },
   "outputs": [
    {
     "name": "stdout",
     "output_type": "stream",
     "text": [
      "이름: 유관순, 나이: 25, 주소: 서울\n"
     ]
    }
   ],
   "source": [
    "p2.print_info()"
   ]
  },
  {
   "cell_type": "code",
   "execution_count": null,
   "metadata": {},
   "outputs": [],
   "source": [
    "p1.print_info()"
   ]
  },
  {
   "cell_type": "code",
   "execution_count": 41,
   "metadata": {
    "ExecuteTime": {
     "end_time": "2022-12-27T06:22:37.573685Z",
     "start_time": "2022-12-27T06:22:37.559496Z"
    }
   },
   "outputs": [
    {
     "name": "stdout",
     "output_type": "stream",
     "text": [
      "이순신\n",
      "이름: 리순신, 나이: 12, 주소: 대전\n"
     ]
    }
   ],
   "source": [
    "# p1의 이름 조회\n",
    "print(p1.name)\n",
    "# p1의 이름 변경\n",
    "p1.name = \"리순신\"\n",
    "p1.print_info()"
   ]
  },
  {
   "cell_type": "code",
   "execution_count": 43,
   "metadata": {
    "ExecuteTime": {
     "end_time": "2022-12-27T06:23:58.552454Z",
     "start_time": "2022-12-27T06:23:58.543645Z"
    }
   },
   "outputs": [],
   "source": [
    "p1.age = 6000"
   ]
  },
  {
   "cell_type": "markdown",
   "metadata": {
    "slideshow": {
     "slide_type": "slide"
    }
   },
   "source": [
    "## 정보 은닉 (Information Hiding)\n",
    "- Attribute의 값을 caller(객체 외부)가 마음대로 바꾸지 못하게 하기 위해 직접 호출을 막고 setter/getter 메소드를 통해 값을 변경/조회 하도록 한다.\n",
    "    - 데이터 보호가 주목적이다.\n",
    "    - 변경 메소드에 Attribube 변경 조건을 넣어 업무 규칙에 맞는 값들만 변경되도록 처리한다.\n",
    "    - **setter**\n",
    "        - Attribute의 값을 변경하는 메소드. 관례상 set 으로 시작\n",
    "    - **getter**\n",
    "        - Attribute의 값을 조회하는 메소드. 관례상 get 으로 시작\n",
    "- Attribute 직접 호출 막기\n",
    "    - Attribute의 이름을 \\_\\_(double underscore)로 시작한다. (\\_\\_로 끝나면 안된다.)\n",
    "    - 같은 클래스에서는 선언한 이름으로 사용가능하지만 외부에서는 그 이름으로 호출할 수 없게 된다.\n",
    "    "
   ]
  },
  {
   "cell_type": "code",
   "execution_count": 6,
   "metadata": {
    "ExecuteTime": {
     "end_time": "2022-12-28T00:33:13.037566Z",
     "start_time": "2022-12-28T00:33:13.018184Z"
    }
   },
   "outputs": [],
   "source": [
    "class Person4:\n",
    "    # name: 두글자 이상만 대입할 수 있다.\n",
    "    # age:   10이상만 대입 할 수 있다.\n",
    "    # address: 특별한 규칙이 없다.\n",
    "    # name, age는 아무값이 대입할 수 없도록 처리->정보은닉\n",
    "    def __init__(self, name, age, address):\n",
    "        self.__name = None\n",
    "        self.set_name(name) # 같은 클래스의 instance 메소드를 호출 -> self.메소드()\n",
    "#         if len(name) >= 2:\n",
    "#             self.__name = name\n",
    "        self.__age = None\n",
    "        self.set_age(age)\n",
    "#         if age >= 10:\n",
    "#             self.__age = age\n",
    "        self.address = address\n",
    "    # 이름 변경\n",
    "    def set_name(self, name):\n",
    "        if len(name) >= 2:\n",
    "            self.__name = name \n",
    "            \n",
    "    # 이름 조회\n",
    "    def get_name(self):\n",
    "        return self.__name\n",
    "    \n",
    "    # 나이변경\n",
    "    def set_age(self, age):\n",
    "        if age >= 10:\n",
    "            self.__age = age\n",
    "            \n",
    "    # 나이 조회\n",
    "    def get_age(self):\n",
    "        return self.__age\n",
    "    \n",
    "    def print_info(self):\n",
    "        print(f\"이름: {self.__name}, 나이: {self.__age}, 주소: {self.address}\")"
   ]
  },
  {
   "cell_type": "code",
   "execution_count": 7,
   "metadata": {
    "ExecuteTime": {
     "end_time": "2022-12-28T00:33:13.440486Z",
     "start_time": "2022-12-28T00:33:13.214981Z"
    }
   },
   "outputs": [
    {
     "ename": "AttributeError",
     "evalue": "'Person4' object has no attribute '__name'",
     "output_type": "error",
     "traceback": [
      "\u001b[1;31m---------------------------------------------------------------------------\u001b[0m",
      "\u001b[1;31mAttributeError\u001b[0m                            Traceback (most recent call last)",
      "\u001b[1;32m~\\AppData\\Local\\Temp\\ipykernel_11464\\187181654.py\u001b[0m in \u001b[0;36m<module>\u001b[1;34m\u001b[0m\n\u001b[0;32m      1\u001b[0m \u001b[0mp\u001b[0m \u001b[1;33m=\u001b[0m \u001b[0mPerson4\u001b[0m\u001b[1;33m(\u001b[0m\u001b[1;34m\"홍길동\"\u001b[0m\u001b[1;33m,\u001b[0m \u001b[1;36m20\u001b[0m\u001b[1;33m,\u001b[0m \u001b[1;34m\"서울\"\u001b[0m\u001b[1;33m)\u001b[0m\u001b[1;33m\u001b[0m\u001b[1;33m\u001b[0m\u001b[0m\n\u001b[1;32m----> 2\u001b[1;33m \u001b[0mprint\u001b[0m\u001b[1;33m(\u001b[0m\u001b[0mp\u001b[0m\u001b[1;33m.\u001b[0m\u001b[0m__name\u001b[0m\u001b[1;33m,\u001b[0m \u001b[0mp\u001b[0m\u001b[1;33m.\u001b[0m\u001b[0m__age\u001b[0m\u001b[1;33m)\u001b[0m\u001b[1;33m\u001b[0m\u001b[1;33m\u001b[0m\u001b[0m\n\u001b[0m",
      "\u001b[1;31mAttributeError\u001b[0m: 'Person4' object has no attribute '__name'"
     ]
    }
   ],
   "source": [
    "p = Person4(\"홍길동\", 20, \"서울\")\n",
    "print(p.__name, p.__age)"
   ]
  },
  {
   "cell_type": "code",
   "execution_count": 46,
   "metadata": {
    "ExecuteTime": {
     "end_time": "2022-12-27T06:41:13.699057Z",
     "start_time": "2022-12-27T06:41:13.679528Z"
    }
   },
   "outputs": [
    {
     "name": "stdout",
     "output_type": "stream",
     "text": [
      "이름\n"
     ]
    }
   ],
   "source": [
    "p.__name = \"이름\"  # initializer()에서 초기화한 __name이 아니다.\n",
    "print(p.__name)"
   ]
  },
  {
   "cell_type": "code",
   "execution_count": 8,
   "metadata": {
    "ExecuteTime": {
     "end_time": "2022-12-28T00:33:17.102366Z",
     "start_time": "2022-12-28T00:33:17.089037Z"
    }
   },
   "outputs": [
    {
     "data": {
      "text/plain": [
       "{'_Person4__name': '홍길동', '_Person4__age': 20, 'address': '서울'}"
      ]
     },
     "execution_count": 8,
     "metadata": {},
     "output_type": "execute_result"
    }
   ],
   "source": [
    "p.__dict__  # 객체 p가 가지는 attribute들을 dictionary로 반환."
   ]
  },
  {
   "cell_type": "code",
   "execution_count": 49,
   "metadata": {
    "ExecuteTime": {
     "end_time": "2022-12-27T06:44:28.472231Z",
     "start_time": "2022-12-27T06:44:28.465278Z"
    }
   },
   "outputs": [
    {
     "name": "stdout",
     "output_type": "stream",
     "text": [
      "홍길동\n"
     ]
    }
   ],
   "source": [
    "print(p._Person4__name)"
   ]
  },
  {
   "cell_type": "code",
   "execution_count": 54,
   "metadata": {
    "ExecuteTime": {
     "end_time": "2022-12-27T07:15:36.094777Z",
     "start_time": "2022-12-27T07:15:36.087011Z"
    }
   },
   "outputs": [
    {
     "name": "stdout",
     "output_type": "stream",
     "text": [
      "이름: None, 나이: None, 주소: 인천\n"
     ]
    }
   ],
   "source": [
    "p2 = Person4('김', 5, \"인천\")\n",
    "p2.print_info()"
   ]
  },
  {
   "cell_type": "code",
   "execution_count": 55,
   "metadata": {
    "ExecuteTime": {
     "end_time": "2022-12-27T07:16:41.697181Z",
     "start_time": "2022-12-27T07:16:41.679021Z"
    }
   },
   "outputs": [
    {
     "name": "stdout",
     "output_type": "stream",
     "text": [
      "이름: 홍길동, 나이: 30, 주소: 인천\n"
     ]
    }
   ],
   "source": [
    "p2.set_name('홍길동')\n",
    "p2.set_age(30)\n",
    "p2.print_info()"
   ]
  },
  {
   "cell_type": "code",
   "execution_count": 56,
   "metadata": {
    "ExecuteTime": {
     "end_time": "2022-12-27T07:17:20.457215Z",
     "start_time": "2022-12-27T07:17:20.440306Z"
    }
   },
   "outputs": [
    {
     "name": "stdout",
     "output_type": "stream",
     "text": [
      "이름: 홍길동, 나이: 33, 주소: 부산\n"
     ]
    }
   ],
   "source": [
    "p2.set_name('조')\n",
    "p2.set_age(33)\n",
    "p2.address = '부산'\n",
    "p2.print_info()"
   ]
  },
  {
   "cell_type": "code",
   "execution_count": 59,
   "metadata": {
    "ExecuteTime": {
     "end_time": "2022-12-27T07:18:26.963290Z",
     "start_time": "2022-12-27T07:18:26.951660Z"
    }
   },
   "outputs": [
    {
     "name": "stdout",
     "output_type": "stream",
     "text": [
      "이름:  홍길동\n",
      "나이:  33\n",
      "주소:  부산\n"
     ]
    }
   ],
   "source": [
    "print('이름: ', p2.get_name())\n",
    "print('나이: ', p2.get_age())\n",
    "print(\"주소: \", p2.address)"
   ]
  },
  {
   "cell_type": "markdown",
   "metadata": {
    "slideshow": {
     "slide_type": "subslide"
    }
   },
   "source": [
    "### property함수를 사용\n",
    "- 은닉된 instance 변수의 값을 사용할 때 getter/setter대신 변수를 사용하는 방식으로 호출할 수 있도록 한다.\n",
    "- 구현\n",
    "    1. getter/setter 메소드를 만든다.\n",
    "    2. 변수 = property(getter, setter) 를 등록한다.\n",
    "    3. 호출\n",
    "        - 값조회: 변수를 사용 => getter가 호출 된다.\n",
    "        - 값변경: 변수 = 변경할 값 => setter가 호출 된다."
   ]
  },
  {
   "cell_type": "code",
   "execution_count": 63,
   "metadata": {
    "ExecuteTime": {
     "end_time": "2022-12-27T07:27:32.715424Z",
     "start_time": "2022-12-27T07:27:32.697121Z"
    }
   },
   "outputs": [],
   "source": [
    "class Person5:\n",
    "    # name: 두글자 이상만 대입할 수 있다.\n",
    "    # age:   10이상만 대입 할 수 있다.\n",
    "    # address: 특별한 규칙이 없다.\n",
    "    # name, age는 아무값이 대입할 수 없도록 처리->정보은닉\n",
    "    def __init__(self, name, age, address):\n",
    "        self.__name = None\n",
    "        self.set_name(name)\n",
    "        self.__age = None\n",
    "        self.set_age(age)\n",
    "        self.address = address\n",
    "        \n",
    "    # 이름 변경\n",
    "    def set_name(self, name):\n",
    "        if len(name) >= 2:\n",
    "            self.__name = name \n",
    "            \n",
    "    # 이름 조회\n",
    "    def get_name(self):\n",
    "        return self.__name\n",
    "    \n",
    "    # 나이변경\n",
    "    def set_age(self, age):\n",
    "        if age >= 10:\n",
    "            self.__age = age\n",
    "            \n",
    "    # 나이 조회\n",
    "    def get_age(self):\n",
    "#         print('get_age')\n",
    "        return self.__age\n",
    "    \n",
    "    def print_info(self):\n",
    "        print(f\"이름: {self.__name}, 나이: {self.__age}, 주소: {self.address}\")\n",
    "        \n",
    "    #### property() 함수를 이용해서 getter/setter를 변수에 등록. 변수를 이용해 getter/setter를  호출할 수 있게 해준다.\n",
    "    name = property(get_name, set_name) # property(getter, setter)\n",
    "    age = property(get_age, set_age)"
   ]
  },
  {
   "cell_type": "code",
   "execution_count": 64,
   "metadata": {
    "ExecuteTime": {
     "end_time": "2022-12-27T07:27:33.706421Z",
     "start_time": "2022-12-27T07:27:33.696025Z"
    }
   },
   "outputs": [
    {
     "name": "stdout",
     "output_type": "stream",
     "text": [
      "이순신\n",
      "get_age\n",
      "40\n",
      "부산\n",
      "이순신\n"
     ]
    }
   ],
   "source": [
    "p = Person5('홍길동', 30, '서울')\n",
    "\n",
    "p.name = '이순신'  # set_name()\n",
    "p.age = 40         # set_age()\n",
    "p.address = '부산' # address\n",
    "print(p.name)      # get_name()\n",
    "print(p.age)       # get_age()\n",
    "print(p.address)   # address\n",
    "p.name = '박'\n",
    "print(p.name)"
   ]
  },
  {
   "cell_type": "markdown",
   "metadata": {
    "slideshow": {
     "slide_type": "subslide"
    },
    "tags": []
   },
   "source": [
    "### 데코레이터(decorator)를 이용해 property 지정.\n",
    "- setter/getter 구현 + property()를 이용해 변수 등록 하는 것을 더 간단하게 구현하는 방식\n",
    "- setter/getter 메소드이름을 변수처럼 지정. (보통은 같은 이름으로 지정)\n",
    "- getter메소드: @property 데코레이터를 선언  \n",
    "- setter메소드: @getter메소드이름.setter  데코레이터를 선언.\n",
    "    - 반드시 getter 메소드를 먼저 정의한다.\n",
    "    - setter메소드 이름은 getter와 동일해야 한다.\n",
    "- getter/setter의 이름을 Attribute 변수처럼 사용한다.\n",
    "- 주의: getter/setter 메소드를 직접 호출 할 수 없다. 변수형식으로만 호출가능하다."
   ]
  },
  {
   "cell_type": "code",
   "execution_count": 82,
   "metadata": {
    "ExecuteTime": {
     "end_time": "2022-12-27T07:46:11.772847Z",
     "start_time": "2022-12-27T07:46:11.767356Z"
    }
   },
   "outputs": [],
   "source": [
    "class Person6:\n",
    "    def __init__(self, name, age, address=None):\n",
    "        self.name = name  # setter name메소드 호출\n",
    "        self.age = age    # setter age메소드 호출\n",
    "        self.address = address\n",
    "      \n",
    "    @property\n",
    "    def name(self):\n",
    "#         name의 getter\n",
    "        print('getter name')\n",
    "        return self.__name\n",
    "\n",
    "    @name.setter\n",
    "    def name(self, name):\n",
    "#     name의 setter\n",
    "        print('setter name', name)\n",
    "        if len(name) >= 2:\n",
    "            self.__name = name\n",
    "            \n",
    "    @property\n",
    "    def age(self):\n",
    "        return self.__age\n",
    "    \n",
    "    @age.setter\n",
    "    def age(self, age):\n",
    "        if age >= 10:\n",
    "            self.__age = age\n",
    "    \n",
    "    def print_info(self):\n",
    "        print(f\"이름: {self.name}, 나이: {self.age}, 주소: {self.address}\")"
   ]
  },
  {
   "cell_type": "code",
   "execution_count": 80,
   "metadata": {
    "ExecuteTime": {
     "end_time": "2022-12-27T07:42:02.604175Z",
     "start_time": "2022-12-27T07:42:02.592907Z"
    }
   },
   "outputs": [
    {
     "name": "stdout",
     "output_type": "stream",
     "text": [
      "setter name 홍길동\n"
     ]
    }
   ],
   "source": [
    "p = Person6(\"홍길동\", 30, '서울')\n",
    "# p.print_info()"
   ]
  },
  {
   "cell_type": "code",
   "execution_count": 81,
   "metadata": {
    "ExecuteTime": {
     "end_time": "2022-12-27T07:42:02.977397Z",
     "start_time": "2022-12-27T07:42:02.972607Z"
    },
    "scrolled": true
   },
   "outputs": [
    {
     "name": "stdout",
     "output_type": "stream",
     "text": [
      "setter name 리\n",
      "getter name\n",
      "홍길동\n"
     ]
    }
   ],
   "source": [
    "p.name = '리'\n",
    "print(p.name)"
   ]
  },
  {
   "cell_type": "markdown",
   "metadata": {
    "slideshow": {
     "slide_type": "subslide"
    }
   },
   "source": [
    "## TODO\n",
    "- 제품 클래스 구현\n",
    "- 속성 : 제품ID:str 제품이름: str, 제품가격:int, 제조사이름:str\n",
    "-       정보은닉에 맞춰서 작성. 값을 대입/조회 하는 것은 변수처리 방식을 할 수 있도록 구현.\n",
    "- 메소드: 전체 정보를 출력하는 메소드\n",
    "\n",
    "메소드 : setter-4개, getter-4개. 전체정보 출력하는 메소드-1개"
   ]
  },
  {
   "cell_type": "code",
   "execution_count": 83,
   "metadata": {
    "ExecuteTime": {
     "end_time": "2022-12-27T08:40:19.832253Z",
     "start_time": "2022-12-27T08:40:19.814331Z"
    },
    "slideshow": {
     "slide_type": "fragment"
    }
   },
   "outputs": [],
   "source": [
    "class Product:\n",
    "    \n",
    "    def __init__(self, id, name, price, maker):\n",
    "        self.id = id\n",
    "        self.name = name\n",
    "        self.price = price\n",
    "        self.maker = maker\n",
    "        \n",
    "    # setter\n",
    "    def set_id(self, id):\n",
    "        if id:\n",
    "            self.__id = id\n",
    "    \n",
    "    def set_name(self, name):\n",
    "        if name:\n",
    "            self.__name = name\n",
    "    \n",
    "    def set_price(self, price):\n",
    "        if price: \n",
    "            self.__price = price\n",
    "            \n",
    "    def set_maker(self, maker):\n",
    "        if maker:\n",
    "            self.__maker = maker\n",
    "    \n",
    "    # getter\n",
    "    def get_id(self):\n",
    "        return self.__id\n",
    "    \n",
    "    def get_name(self):\n",
    "        return self.__name\n",
    "    \n",
    "    def get_price(self):\n",
    "        return self.__price\n",
    "    \n",
    "    def get_maker(self):\n",
    "        return self.__maker\n",
    "    \n",
    "    id = property(get_id, set_id)\n",
    "    name = property(get_name, set_name)\n",
    "    price = property(get_price, set_price)\n",
    "    maker = property(get_maker, set_maker)\n",
    "    \n",
    "    def print_info(self):\n",
    "        print(f\"제품 id: {self.id}, 제품이름: {self.name}, 가격: {self.price}, 제조사: {self.maker}\")"
   ]
  },
  {
   "cell_type": "code",
   "execution_count": 85,
   "metadata": {
    "ExecuteTime": {
     "end_time": "2022-12-27T08:40:59.827687Z",
     "start_time": "2022-12-27T08:40:59.822642Z"
    }
   },
   "outputs": [
    {
     "name": "stdout",
     "output_type": "stream",
     "text": [
      "제품 id: p-100, 제품이름: TV, 가격: 1000000, 제조사: LG\n",
      "1000000\n"
     ]
    }
   ],
   "source": [
    "p = Product('p-100', 'TV', 1000000, 'LG')\n",
    "p.print_info()\n",
    "print(p.price)"
   ]
  },
  {
   "cell_type": "code",
   "execution_count": 86,
   "metadata": {
    "ExecuteTime": {
     "end_time": "2022-12-27T08:41:29.632433Z",
     "start_time": "2022-12-27T08:41:29.624321Z"
    }
   },
   "outputs": [
    {
     "name": "stdout",
     "output_type": "stream",
     "text": [
      "제품 id: p-100, 제품이름: TV, 가격: 1000000, 제조사: LG\n"
     ]
    }
   ],
   "source": [
    "p.price = 0\n",
    "p.print_info()"
   ]
  },
  {
   "cell_type": "code",
   "execution_count": 87,
   "metadata": {
    "ExecuteTime": {
     "end_time": "2022-12-27T08:42:14.165407Z",
     "start_time": "2022-12-27T08:42:14.149779Z"
    }
   },
   "outputs": [
    {
     "name": "stdout",
     "output_type": "stream",
     "text": [
      "제품 id: p-100, 제품이름: TV, 가격: 500, 제조사: LG\n"
     ]
    }
   ],
   "source": [
    "p.price = 500  # set_price() 호출\n",
    "p.print_info()"
   ]
  },
  {
   "cell_type": "code",
   "execution_count": 88,
   "metadata": {
    "ExecuteTime": {
     "end_time": "2022-12-27T08:46:29.833034Z",
     "start_time": "2022-12-27T08:46:29.824792Z"
    }
   },
   "outputs": [],
   "source": [
    "class Product2:\n",
    "    \n",
    "    def __init__(self, id, name, price, maker):\n",
    "        self.id = id\n",
    "        self.name = name\n",
    "        self.price = price\n",
    "        self.maker = maker\n",
    "    \n",
    "    # getter\n",
    "    @property\n",
    "    def id(self):\n",
    "        return self.__id\n",
    "    \n",
    "    @property\n",
    "    def name(self):\n",
    "        return self.__name\n",
    "    \n",
    "    @property\n",
    "    def price(self):\n",
    "        return self.__price\n",
    "    \n",
    "    @property\n",
    "    def maker(self):\n",
    "        return self.__maker\n",
    "    \n",
    "    # setter\n",
    "    @id.setter\n",
    "    def id(self, id):\n",
    "        if id:\n",
    "            self.__id = id\n",
    "    \n",
    "    @name.setter\n",
    "    def name(self, name):\n",
    "        if name:\n",
    "            self.__name = name\n",
    "    \n",
    "    @price.setter\n",
    "    def price(self, price):\n",
    "        if price: \n",
    "            self.__price = price\n",
    "        \n",
    "    @maker.setter\n",
    "    def maker(self, maker):\n",
    "        if maker:\n",
    "            self.__maker = maker\n",
    "   \n",
    "    def print_info(self):\n",
    "        print(f\"제품 id: {self.id}, 제품이름: {self.name}, 가격: {self.price}, 제조사: {self.maker}\")"
   ]
  },
  {
   "cell_type": "code",
   "execution_count": 89,
   "metadata": {
    "ExecuteTime": {
     "end_time": "2022-12-27T08:47:01.643253Z",
     "start_time": "2022-12-27T08:47:01.631393Z"
    }
   },
   "outputs": [
    {
     "name": "stdout",
     "output_type": "stream",
     "text": [
      "제품 id: id-1000, 제품이름: 노트북, 가격: 500000, 제조사: 삼성\n"
     ]
    }
   ],
   "source": [
    "p2 = Product2(\"id-1000\", '노트북', 500000, '삼성' )\n",
    "p2.print_info()"
   ]
  },
  {
   "cell_type": "code",
   "execution_count": 90,
   "metadata": {
    "ExecuteTime": {
     "end_time": "2022-12-27T08:47:32.703951Z",
     "start_time": "2022-12-27T08:47:32.686866Z"
    }
   },
   "outputs": [
    {
     "name": "stdout",
     "output_type": "stream",
     "text": [
      "제품 id: id-1000, 제품이름: 노트북, 가격: 500000, 제조사: Apple\n"
     ]
    }
   ],
   "source": [
    "p2.maker = 'Apple'\n",
    "p2.print_info()"
   ]
  },
  {
   "cell_type": "code",
   "execution_count": 91,
   "metadata": {
    "ExecuteTime": {
     "end_time": "2022-12-27T08:47:53.815209Z",
     "start_time": "2022-12-27T08:47:53.806076Z"
    }
   },
   "outputs": [
    {
     "name": "stdout",
     "output_type": "stream",
     "text": [
      "제품 id: id-1000, 제품이름: 노트북, 가격: 500000, 제조사: Apple\n"
     ]
    }
   ],
   "source": [
    "p2.maker = ''\n",
    "p2.print_info()"
   ]
  },
  {
   "cell_type": "markdown",
   "metadata": {
    "slideshow": {
     "slide_type": "slide"
    }
   },
   "source": [
    "## 상속 (Inheritance)\n",
    "\n",
    "- 기존 클래스를 확장하여 새로운 클래스를 구현한다.\n",
    "    - 생성된 객체(instance)가 기존 클래스에 정의된 Attribute나 method를 사용할 수있고 그 외의 추가적인 member들을 가질 수 있는 클래스를 구현하는 방법.\n",
    "- **기반(Base) 클래스, 상위(Super) 클래스, 부모(Parent) 클래스**\n",
    "    - 물려 주는 클래스.\n",
    "    - 상속하는 클래스에 비해 더 추상적인 클래스가 된다. \n",
    "    - 상속하는 클래스의 데이터 타입이 된다.\n",
    "- **파생(Derived) 클래스, 하위(Sub) 클래스, 자식(Child) 클래스**\n",
    "    - 상속하는 클래스.\n",
    "    - 상속을 해준 클래스 보다 좀더 구체적인 클래스가 된다.\n",
    "- 상위 클래스와 하위클래스는 계층관계를 이룬다."
   ]
  },
  {
   "cell_type": "markdown",
   "metadata": {
    "slideshow": {
     "slide_type": "subslide"
    }
   },
   "source": [
    "### 다중상속과 단일 상속\n",
    "- 다중상속\n",
    "    - 여러 클래스로부터 상속할 수 있다\n",
    "- 단일상속\n",
    "    - 하나의 클래스로 부터만 상속할 수 있다.\n",
    "- 파이썬은 다중상속을 지원한다.\n",
    "- MRO (Method Resolution Order)\n",
    "    - 다중상속시 메소드 호출할 때 그 메소드를 찾는 순서. \n",
    "    1. 자기자신\n",
    "    2. 상위클래스(하위에서 상위로 올라간다)\n",
    "        - 다중상속의 경우 먼저 선언한 클래스 부터 찾는다. (왼쪽->오른쪽)\n",
    "- MRO 순서 조회 \n",
    "    - Class이름.mro()"
   ]
  },
  {
   "cell_type": "code",
   "execution_count": 18,
   "metadata": {
    "ExecuteTime": {
     "end_time": "2022-12-28T01:38:48.968212Z",
     "start_time": "2022-12-28T01:38:48.951121Z"
    }
   },
   "outputs": [],
   "source": [
    "class Person:\n",
    "    \n",
    "    def go(self):\n",
    "        print('학교에 간다.')\n",
    "        \n",
    "    def eat(self):\n",
    "        print('점심을 먹는다.')"
   ]
  },
  {
   "cell_type": "code",
   "execution_count": 19,
   "metadata": {
    "ExecuteTime": {
     "end_time": "2022-12-28T01:38:49.108370Z",
     "start_time": "2022-12-28T01:38:49.102307Z"
    }
   },
   "outputs": [],
   "source": [
    "# Person을 상속받아서 Student/Teacher 클래스를 구현\n",
    "class Student(Person):   # 클래스이름(상속할클래스이름 [, 상속할클래스이름, ....])\n",
    "    \n",
    "    def study(self):\n",
    "        print('학생이 공부한다.')\n",
    "    "
   ]
  },
  {
   "cell_type": "code",
   "execution_count": 20,
   "metadata": {
    "ExecuteTime": {
     "end_time": "2022-12-28T01:38:49.264653Z",
     "start_time": "2022-12-28T01:38:49.253039Z"
    }
   },
   "outputs": [],
   "source": [
    "class Teacher(Person):\n",
    "    \n",
    "    def teach(self):\n",
    "        print('수업을 가르친다.')"
   ]
  },
  {
   "cell_type": "code",
   "execution_count": 21,
   "metadata": {
    "ExecuteTime": {
     "end_time": "2022-12-28T01:38:49.418652Z",
     "start_time": "2022-12-28T01:38:49.412805Z"
    }
   },
   "outputs": [],
   "source": [
    "class UniversityStudent(Student):\n",
    "    \n",
    "    def drink(self):\n",
    "        print('술을 마신다.')"
   ]
  },
  {
   "cell_type": "code",
   "execution_count": 22,
   "metadata": {
    "ExecuteTime": {
     "end_time": "2022-12-28T01:38:49.573186Z",
     "start_time": "2022-12-28T01:38:49.566075Z"
    }
   },
   "outputs": [
    {
     "name": "stdout",
     "output_type": "stream",
     "text": [
      "학교에 간다.\n",
      "점심을 먹는다.\n",
      "수업을 가르친다.\n"
     ]
    }
   ],
   "source": [
    "t = Teacher()\n",
    "t.go()\n",
    "t.eat()\n",
    "t.teach()"
   ]
  },
  {
   "cell_type": "code",
   "execution_count": 23,
   "metadata": {
    "ExecuteTime": {
     "end_time": "2022-12-28T01:39:16.213266Z",
     "start_time": "2022-12-28T01:39:16.199396Z"
    }
   },
   "outputs": [
    {
     "name": "stdout",
     "output_type": "stream",
     "text": [
      "학교에 간다.\n",
      "점심을 먹는다.\n",
      "학생이 공부한다.\n",
      "술을 마신다.\n"
     ]
    }
   ],
   "source": [
    "us = UniversityStudent()\n",
    "us.go()\n",
    "us.eat()\n",
    "us.study()\n",
    "us.drink()"
   ]
  },
  {
   "cell_type": "code",
   "execution_count": 24,
   "metadata": {
    "ExecuteTime": {
     "end_time": "2022-12-28T01:41:50.037349Z",
     "start_time": "2022-12-28T01:41:50.020164Z"
    },
    "collapsed": true
   },
   "outputs": [
    {
     "ename": "AttributeError",
     "evalue": "'UniversityStudent' object has no attribute 'teach'",
     "output_type": "error",
     "traceback": [
      "\u001b[1;31m---------------------------------------------------------------------------\u001b[0m",
      "\u001b[1;31mAttributeError\u001b[0m                            Traceback (most recent call last)",
      "\u001b[1;32m~\\AppData\\Local\\Temp\\ipykernel_11464\\694460131.py\u001b[0m in \u001b[0;36m<module>\u001b[1;34m\u001b[0m\n\u001b[1;32m----> 1\u001b[1;33m \u001b[0mus\u001b[0m\u001b[1;33m.\u001b[0m\u001b[0mteach\u001b[0m\u001b[1;33m(\u001b[0m\u001b[1;33m)\u001b[0m\u001b[1;33m\u001b[0m\u001b[1;33m\u001b[0m\u001b[0m\n\u001b[0m",
      "\u001b[1;31mAttributeError\u001b[0m: 'UniversityStudent' object has no attribute 'teach'"
     ]
    }
   ],
   "source": [
    "# us.teach()"
   ]
  },
  {
   "cell_type": "code",
   "execution_count": 25,
   "metadata": {
    "ExecuteTime": {
     "end_time": "2022-12-28T01:45:58.545715Z",
     "start_time": "2022-12-28T01:45:58.532903Z"
    }
   },
   "outputs": [
    {
     "data": {
      "text/plain": [
       "[__main__.UniversityStudent, __main__.Student, __main__.Person, object]"
      ]
     },
     "execution_count": 25,
     "metadata": {},
     "output_type": "execute_result"
    }
   ],
   "source": [
    "# tab 자동완성\n",
    "UniversityStudent.mro()"
   ]
  },
  {
   "cell_type": "markdown",
   "metadata": {
    "slideshow": {
     "slide_type": "subslide"
    }
   },
   "source": [
    "### Method Overriding (메소드 재정의)\n",
    "기반 클래스의 메소드의 구현부를 파생클래스에서 다시 구현하는 것을 말한다.  \n",
    "기반 클래스는 모든 파생클래스들에 적용할 수 있는 추상적인 구현밖에는 못한다.  \n",
    "이 경우 파생클래스에서 그 내용을 자신에 맞게 좀더 구체적으로 재구현할 수 있게 해주는 것을 Method Overriding이라고 한다.  \n",
    "방법은 파생클래스에서 overriding할 메소드의 선언문은 그래로 사용하고 그 구현부는 재구현하면 된다.  \n",
    "\n",
    "### super() 내장함수\n",
    "- 파생 클래스에서 기반 클래스의 instance를 반환(return) 해주는 함수\n",
    "- 구문\n",
    "```python\n",
    "super().메소드명() \n",
    "```\n",
    "- 기반 클래스의 Instance 메소드를 호출할 때 – super().메소드()\n",
    "    - 특히 method overriding을 한 클래스에서 기반 클래스의 overriding한 메소드를 호출 할 경우 반드시 `super().메소드() `형식으로 호출해야 한다.\n",
    "- 같은 클래스의 Instance 메소드를 호출할 때 – self.메소드()"
   ]
  },
  {
   "cell_type": "code",
   "execution_count": 26,
   "metadata": {
    "ExecuteTime": {
     "end_time": "2022-12-28T02:17:33.936716Z",
     "start_time": "2022-12-28T02:17:33.924721Z"
    }
   },
   "outputs": [],
   "source": [
    "class Person2:\n",
    "    \n",
    "    def go(self):\n",
    "        print('학교에 간다.')\n",
    "        \n",
    "    def eat(self):\n",
    "        print('점심을 먹는다.')"
   ]
  },
  {
   "cell_type": "code",
   "execution_count": 38,
   "metadata": {
    "ExecuteTime": {
     "end_time": "2022-12-28T02:35:44.675926Z",
     "start_time": "2022-12-28T02:35:44.663595Z"
    }
   },
   "outputs": [],
   "source": [
    "# Student는 학교에 스쿨버스를 타고가는 좀더 구체적인 구현을 해야한다.\n",
    "# Teacher는 점심을 밖에 나가서먹는다 가는 좀더 구체적인 구현을 해야한다.\n",
    "\n",
    "class Student2(Person2):\n",
    "    def study(self):\n",
    "        print('공부를 한다.')\n",
    "        self.eat()\n",
    "        \n",
    "        \n",
    "    def go(self):\n",
    "        print('스쿨버스를 탄다.')\n",
    "#         print('학교에 간다.')  # 상위클래스 정의 된 내용이므로 상위클래스의 go()를 호출해서 처리\n",
    "        super().go()\n",
    "#         print(\"학교에 스쿨버스를 타고 간다.\")"
   ]
  },
  {
   "cell_type": "code",
   "execution_count": 39,
   "metadata": {
    "ExecuteTime": {
     "end_time": "2022-12-28T02:35:45.547906Z",
     "start_time": "2022-12-28T02:35:45.531015Z"
    }
   },
   "outputs": [
    {
     "name": "stdout",
     "output_type": "stream",
     "text": [
      "스쿨버스를 탄다.\n",
      "학교에 간다.\n"
     ]
    }
   ],
   "source": [
    "s = Student2()\n",
    "s.go()\n",
    "# s.go_school()"
   ]
  },
  {
   "cell_type": "code",
   "execution_count": 34,
   "metadata": {
    "ExecuteTime": {
     "end_time": "2022-12-28T02:24:34.873937Z",
     "start_time": "2022-12-28T02:24:34.867494Z"
    }
   },
   "outputs": [],
   "source": [
    "class Teacher2(Person2):\n",
    "    def teach(self):\n",
    "        print('수업을 가르친다.')\n",
    "    def eat(self):\n",
    "        print('밖으로 나가서 점심을 먹는다.')"
   ]
  },
  {
   "cell_type": "code",
   "execution_count": 35,
   "metadata": {
    "ExecuteTime": {
     "end_time": "2022-12-28T02:25:39.065643Z",
     "start_time": "2022-12-28T02:25:39.049755Z"
    }
   },
   "outputs": [
    {
     "name": "stdout",
     "output_type": "stream",
     "text": [
      "학교에 간다.\n",
      "밖으로 나가서 점심을 먹는다.\n"
     ]
    }
   ],
   "source": [
    "t = Teacher2()\n",
    "t.go()\n",
    "t.eat()"
   ]
  },
  {
   "cell_type": "code",
   "execution_count": 41,
   "metadata": {
    "ExecuteTime": {
     "end_time": "2022-12-28T02:44:16.106125Z",
     "start_time": "2022-12-28T02:44:16.089231Z"
    }
   },
   "outputs": [],
   "source": [
    "class Person:\n",
    "    def __init__(self, name, age, address=None):\n",
    "        self.name = name\n",
    "        self.age = age\n",
    "        self.address = address\n",
    "        \n",
    "    @property\n",
    "    def name(self):\n",
    "        return self.__name\n",
    "    \n",
    "    @name.setter\n",
    "    def name(self, name):\n",
    "        if len(name) >= 2:\n",
    "            self.__name = name\n",
    "            \n",
    "    @property\n",
    "    def age(self):\n",
    "        return self.__age\n",
    "    \n",
    "    @age.setter\n",
    "    def age(self, age):\n",
    "        if age >= 10:\n",
    "            self.__age = age\n",
    "            \n",
    "    # 나이값을 더하는 메소드\n",
    "    def add_age(self, age):\n",
    "        self.age = self.age + age\n",
    "        \n",
    "    # Person의 Attribute들(name, age, address)를 하나의 문자열로 만들어서 반환\n",
    "    def get_info(self):\n",
    "        return f\"이름: {self.name}, 나이: {self.age}, 주소: {self.address}\""
   ]
  },
  {
   "cell_type": "code",
   "execution_count": 44,
   "metadata": {
    "ExecuteTime": {
     "end_time": "2022-12-28T02:45:27.226926Z",
     "start_time": "2022-12-28T02:45:27.208910Z"
    }
   },
   "outputs": [
    {
     "name": "stdout",
     "output_type": "stream",
     "text": [
      "이름: 홍길동, 나이: 30, 주소: 서울\n",
      "이름: 홍길동, 나이: 33, 주소: 서울\n",
      "33\n"
     ]
    }
   ],
   "source": [
    "p = Person(\"홍길동\", 30, \"서울\")\n",
    "info = p.get_info()\n",
    "print(info)\n",
    "p.add_age(3)\n",
    "print(p.get_info())\n",
    "print(p.age)"
   ]
  },
  {
   "cell_type": "code",
   "execution_count": 51,
   "metadata": {
    "ExecuteTime": {
     "end_time": "2022-12-28T03:33:28.059650Z",
     "start_time": "2022-12-28T03:33:28.049470Z"
    }
   },
   "outputs": [],
   "source": [
    "# Person 속성: name, age, address,  \n",
    "# Student 속성: grade(성적)\n",
    "\n",
    "class Student(Person):\n",
    "    \n",
    "    def __init__(self, name, age, address, grade):\n",
    "        # name, age, address 는 부모객체에 초기화 -> Person클래스의 __init__() 을 호출\n",
    "        super().__init__(name, age, address) # 부모클래스의 __init__()메소드를 호출\n",
    "        self.grade = grade\n",
    "        \n",
    "    # get_info()메소드를 overriding -> grade정보까지 추가\n",
    "    def get_info(self):\n",
    "        # name,age,address는 Person의 get_info()를 이용해서 조회\n",
    "        i = super().get_info()\n",
    "        return f'{i}, 성적: {self.grade}'"
   ]
  },
  {
   "cell_type": "code",
   "execution_count": 52,
   "metadata": {
    "ExecuteTime": {
     "end_time": "2022-12-28T03:33:29.920147Z",
     "start_time": "2022-12-28T03:33:29.901688Z"
    }
   },
   "outputs": [
    {
     "name": "stdout",
     "output_type": "stream",
     "text": [
      "김학생 15 서울 10\n"
     ]
    }
   ],
   "source": [
    "s = Student(\"김학생\", 15, \"서울\", 10)\n",
    "print(s.name, s.age, s.address, s.grade)"
   ]
  },
  {
   "cell_type": "code",
   "execution_count": 53,
   "metadata": {
    "ExecuteTime": {
     "end_time": "2022-12-28T03:33:33.136207Z",
     "start_time": "2022-12-28T03:33:33.127957Z"
    }
   },
   "outputs": [],
   "source": [
    "s.add_age(-2)"
   ]
  },
  {
   "cell_type": "code",
   "execution_count": 54,
   "metadata": {
    "ExecuteTime": {
     "end_time": "2022-12-28T03:33:33.568204Z",
     "start_time": "2022-12-28T03:33:33.551908Z"
    }
   },
   "outputs": [
    {
     "data": {
      "text/plain": [
       "13"
      ]
     },
     "execution_count": 54,
     "metadata": {},
     "output_type": "execute_result"
    }
   ],
   "source": [
    "s.age"
   ]
  },
  {
   "cell_type": "code",
   "execution_count": 55,
   "metadata": {
    "ExecuteTime": {
     "end_time": "2022-12-28T03:33:41.050980Z",
     "start_time": "2022-12-28T03:33:41.045810Z"
    }
   },
   "outputs": [
    {
     "name": "stdout",
     "output_type": "stream",
     "text": [
      "이름: 김학생, 나이: 13, 주소: 서울, 성적: 10\n"
     ]
    }
   ],
   "source": [
    "s_info = s.get_info() \n",
    "print(s_info)"
   ]
  },
  {
   "cell_type": "code",
   "execution_count": 56,
   "metadata": {
    "ExecuteTime": {
     "end_time": "2022-12-28T03:37:35.426743Z",
     "start_time": "2022-12-28T03:37:35.415643Z"
    }
   },
   "outputs": [],
   "source": [
    "# 다중상속시 메소드 호출 순서(MRO)\n",
    "# A_1, A_2 <-B_1<-C->B_2\n",
    "class A_1:\n",
    "    pass\n",
    "class A_2:\n",
    "    pass\n",
    "class B_1(A_1, A_2):\n",
    "    pass\n",
    "class B_2:\n",
    "    pass\n",
    "class C(B_1, B_2):\n",
    "    pass"
   ]
  },
  {
   "cell_type": "code",
   "execution_count": 57,
   "metadata": {
    "ExecuteTime": {
     "end_time": "2022-12-28T03:37:42.171163Z",
     "start_time": "2022-12-28T03:37:42.151479Z"
    }
   },
   "outputs": [
    {
     "data": {
      "text/plain": [
       "[__main__.C, __main__.B_1, __main__.A_1, __main__.A_2, __main__.B_2, object]"
      ]
     },
     "execution_count": 57,
     "metadata": {},
     "output_type": "execute_result"
    }
   ],
   "source": [
    "C.mro()"
   ]
  },
  {
   "cell_type": "markdown",
   "metadata": {
    "slideshow": {
     "slide_type": "slide"
    }
   },
   "source": [
    "## 객체 관련 유용한 내장 함수, 특수 변수\n",
    "-  **`isinstance(객체, 클래스이름-datatype)`** : bool\n",
    "    - 객체가 두번째 매개변수로 지정한 클래스의 타입이면 True, 아니면 False 반환\n",
    "    - 여러개의 타입여부를 확인할 경우 class이름(type)들을 리스트로 묶어 준다.\n",
    "    - 기반클래스는 파생클래스객체의 타입이 되므로 객체와 그 객체의 기반클래스 비교시 True가 나온다.\n",
    "- **`객체.__dict__`**\n",
    "     - 객체가 가지고 있는 Attribute 변수들과 대입된 값을 dictionary에 넣어 반환\n",
    "- **`객체.__class__`**\n",
    "    - 객체의 타입을 반환"
   ]
  },
  {
   "cell_type": "code",
   "execution_count": 64,
   "metadata": {
    "ExecuteTime": {
     "end_time": "2022-12-28T05:11:21.235821Z",
     "start_time": "2022-12-28T05:11:21.217178Z"
    }
   },
   "outputs": [
    {
     "data": {
      "text/plain": [
       "True"
      ]
     },
     "execution_count": 64,
     "metadata": {},
     "output_type": "execute_result"
    }
   ],
   "source": [
    "isinstance(p, Person)\n",
    "isinstance(\"abc\", Person)\n",
    "isinstance(s, Student)\n",
    "isinstance(s, Person)\n",
    "# 객체(값) 의 타입 -> 생성한 클래스, 생성한 클래스의 상위클래스\n",
    "#  s(Student객체)의 타입: Student, Person"
   ]
  },
  {
   "cell_type": "code",
   "execution_count": 69,
   "metadata": {
    "ExecuteTime": {
     "end_time": "2022-12-28T05:13:23.078621Z",
     "start_time": "2022-12-28T05:13:23.056883Z"
    }
   },
   "outputs": [
    {
     "name": "stdout",
     "output_type": "stream",
     "text": [
      "<class 'int'>\n"
     ]
    },
    {
     "data": {
      "text/plain": [
       "(True, True)"
      ]
     },
     "execution_count": 69,
     "metadata": {},
     "output_type": "execute_result"
    }
   ],
   "source": [
    "print(type(10))\n",
    "type(10) == int, isinstance(10, int)"
   ]
  },
  {
   "cell_type": "code",
   "execution_count": 72,
   "metadata": {
    "ExecuteTime": {
     "end_time": "2022-12-28T05:13:51.698541Z",
     "start_time": "2022-12-28T05:13:51.690472Z"
    }
   },
   "outputs": [
    {
     "data": {
      "text/plain": [
       "(True, True)"
      ]
     },
     "execution_count": 72,
     "metadata": {},
     "output_type": "execute_result"
    }
   ],
   "source": [
    "type(s) == Student, isinstance(s, Student)"
   ]
  },
  {
   "cell_type": "code",
   "execution_count": 75,
   "metadata": {
    "ExecuteTime": {
     "end_time": "2022-12-28T05:14:46.924286Z",
     "start_time": "2022-12-28T05:14:46.914227Z"
    }
   },
   "outputs": [
    {
     "data": {
      "text/plain": [
       "True"
      ]
     },
     "execution_count": 75,
     "metadata": {},
     "output_type": "execute_result"
    }
   ],
   "source": [
    "isinstance(10, (str, int))\n",
    "# 10(값)이 str 또는 int 타입인지 여부"
   ]
  },
  {
   "cell_type": "code",
   "execution_count": 81,
   "metadata": {
    "ExecuteTime": {
     "end_time": "2022-12-28T05:18:43.891665Z",
     "start_time": "2022-12-28T05:18:43.873737Z"
    }
   },
   "outputs": [],
   "source": [
    "def func(value):\n",
    "    \n",
    "#     if isinstance(value, (int, float)):\n",
    "    if type(value) in [int, float]:\n",
    "        print(value * 30)\n",
    "    else:\n",
    "        print(\"계산할 수 없습니다.\")    "
   ]
  },
  {
   "cell_type": "code",
   "execution_count": 82,
   "metadata": {
    "ExecuteTime": {
     "end_time": "2022-12-28T05:18:44.744214Z",
     "start_time": "2022-12-28T05:18:44.737155Z"
    }
   },
   "outputs": [
    {
     "name": "stdout",
     "output_type": "stream",
     "text": [
      "300\n",
      "168.0\n",
      "계산할 수 없습니다.\n"
     ]
    },
    {
     "data": {
      "text/plain": [
       "(None, None, None)"
      ]
     },
     "execution_count": 82,
     "metadata": {},
     "output_type": "execute_result"
    }
   ],
   "source": [
    "func(10),  func(5.6), func('abc')"
   ]
  },
  {
   "cell_type": "code",
   "execution_count": 84,
   "metadata": {
    "ExecuteTime": {
     "end_time": "2022-12-28T05:19:42.395899Z",
     "start_time": "2022-12-28T05:19:42.376973Z"
    }
   },
   "outputs": [
    {
     "data": {
      "text/plain": [
       "{'_Person__name': '김학생', '_Person__age': 13, 'address': '서울', 'grade': 10}"
      ]
     },
     "execution_count": 84,
     "metadata": {},
     "output_type": "execute_result"
    }
   ],
   "source": [
    "# s객체의 속성을 dictionary로 조회\n",
    "s.__dict__"
   ]
  },
  {
   "cell_type": "code",
   "execution_count": 85,
   "metadata": {
    "ExecuteTime": {
     "end_time": "2022-12-28T05:20:30.695092Z",
     "start_time": "2022-12-28T05:20:30.682413Z"
    }
   },
   "outputs": [
    {
     "data": {
      "text/plain": [
       "{'_Person__name': '홍길동', '_Person__age': 33, 'address': '서울'}"
      ]
     },
     "execution_count": 85,
     "metadata": {},
     "output_type": "execute_result"
    }
   ],
   "source": [
    "p.__dict__"
   ]
  },
  {
   "cell_type": "code",
   "execution_count": 89,
   "metadata": {
    "ExecuteTime": {
     "end_time": "2022-12-28T05:21:26.350461Z",
     "start_time": "2022-12-28T05:21:26.342395Z"
    }
   },
   "outputs": [
    {
     "data": {
      "text/plain": [
       "(type, __main__.Student)"
      ]
     },
     "execution_count": 89,
     "metadata": {},
     "output_type": "execute_result"
    }
   ],
   "source": [
    "# 객체가 어떤 클래스의 타입인지를 조회.\n",
    "type(s.__class__), s.__class__"
   ]
  },
  {
   "cell_type": "code",
   "execution_count": 91,
   "metadata": {
    "ExecuteTime": {
     "end_time": "2022-12-28T05:23:34.030471Z",
     "start_time": "2022-12-28T05:23:34.010416Z"
    }
   },
   "outputs": [
    {
     "data": {
      "text/plain": [
       "['_Person__age',\n",
       " '_Person__name',\n",
       " '__class__',\n",
       " '__delattr__',\n",
       " '__dict__',\n",
       " '__dir__',\n",
       " '__doc__',\n",
       " '__eq__',\n",
       " '__format__',\n",
       " '__ge__',\n",
       " '__getattribute__',\n",
       " '__gt__',\n",
       " '__hash__',\n",
       " '__init__',\n",
       " '__init_subclass__',\n",
       " '__le__',\n",
       " '__lt__',\n",
       " '__module__',\n",
       " '__ne__',\n",
       " '__new__',\n",
       " '__reduce__',\n",
       " '__reduce_ex__',\n",
       " '__repr__',\n",
       " '__setattr__',\n",
       " '__sizeof__',\n",
       " '__str__',\n",
       " '__subclasshook__',\n",
       " '__weakref__',\n",
       " 'add_age',\n",
       " 'address',\n",
       " 'age',\n",
       " 'get_info',\n",
       " 'grade',\n",
       " 'name']"
      ]
     },
     "execution_count": 91,
     "metadata": {},
     "output_type": "execute_result"
    }
   ],
   "source": [
    "# 객체.__dir__(): 객체를 통해서 호출할 수있는 모든 속성, 메소드들을 리스트로 반환\n",
    "s.__dir__()\n",
    "dir(s)"
   ]
  },
  {
   "cell_type": "markdown",
   "metadata": {
    "slideshow": {
     "slide_type": "slide"
    }
   },
   "source": [
    "## 특수 메소드\n",
    "\n",
    "\n",
    "### 특수 메소드란\n",
    "- 특정한 상황에서 사용될 때 자동으로 호출되도록 파이썬 실행환경에 정의된 약속된 메소드들이다. 객체에 특정 기능들을 추가할 때 사용한다.\n",
    "    - 정의한 메소드와 그것을 호출하는 함수가 다르다.\n",
    "         - ex) `__init__()` => 객체 생성할 때 호출 된다.\n",
    "- 메소드 명이 더블 언더스코어로 시작하고 끝난다. \n",
    "    - ex) `__init__(), __str__()`\n",
    "- 매직 메소드(Magic Method), 던더(DUNDER) 메소드라고도 한다.\n",
    "- 특수메소드 종류\n",
    "    - https://docs.python.org/ko/3/reference/datamodel.html#special-method-names"
   ]
  },
  {
   "cell_type": "markdown",
   "metadata": {
    "slideshow": {
     "slide_type": "subslide"
    }
   },
   "source": [
    "### 주요 특수메소드\n",
    "- **`__init__(self [, …])`**\n",
    "    - Initializer\n",
    "    - 객체 생성시 호출 된다.\n",
    "    - 객체 생성시 Attribute의 값들을 초기화하는 것을 구현한다.\n",
    "    - self 변수로 받은 instance에 Attribute를 설정한다.\n",
    "- **`__call__(self, […])`**\n",
    "    - 객체를 함수처럼 호출 할 면 실행되는 메소드\n",
    "    - Argument를 받을 Parameter 변수는 self 변수 다음에 필요한대로 선언한다.\n",
    "    - 처리결과를 반환할 경우 `return value` 구문을 넣는다. (필수는 아니다.)\n",
    "\n"
   ]
  },
  {
   "cell_type": "code",
   "execution_count": 98,
   "metadata": {
    "ExecuteTime": {
     "end_time": "2022-12-28T05:43:50.149447Z",
     "start_time": "2022-12-28T05:43:50.137550Z"
    }
   },
   "outputs": [],
   "source": [
    "class Plus:\n",
    "    \n",
    "    def __init__(self, num1, num2):\n",
    "        # 덧셈할때 사용할 피연산자 두개를 속성으로 저장.\n",
    "        self.num1 = num1\n",
    "        self.num2 = num2\n",
    "\n",
    "#     def calc(self):\n",
    "#         return self.num1 + self.num2\n",
    "#     def __call__(self):\n",
    "    def __call__(self, n):\n",
    "        # 객체의 메인 기능(동작)을 구현하는 메소드 -> 객체를 함수처럼 사용할 수 있도록 한다.\n",
    "        return (self.num1 + self.num2)**n"
   ]
  },
  {
   "cell_type": "code",
   "execution_count": 101,
   "metadata": {
    "ExecuteTime": {
     "end_time": "2022-12-28T05:44:06.741144Z",
     "start_time": "2022-12-28T05:44:06.737093Z"
    }
   },
   "outputs": [
    {
     "name": "stdout",
     "output_type": "stream",
     "text": [
      "900\n",
      "27000\n"
     ]
    }
   ],
   "source": [
    "plus = Plus(10, 20)\n",
    "result = plus(2)  # 객체를 함수처럼 호출 --> __call__() 을 호출\n",
    "# result = plus.calc()\n",
    "print(result)\n",
    "# print(plus.__call__(3))"
   ]
  },
  {
   "cell_type": "markdown",
   "metadata": {
    "slideshow": {
     "slide_type": "subslide"
    }
   },
   "source": [
    "- **`__repr__(self)`**\n",
    "    - Instance(객체) 자체를 표현할 수 있는 문자열을 반환한다.\n",
    "        - 보통 객체 생성하는 구문을 문자열로 반환한다.\n",
    "        - 반환된 문자열을 eval() 에 넣으면 동일한 attribute값들을 가진 객체를 생성할 수 있도록 정의한다.\n",
    "    - 내장함수 **repr(객체)** 호출할 때 이 메소드가 호출 된다.\n",
    "    - 대화형 IDE(REPL) 에서 객체를 참조하는 변수 출력할 때도 호출된다.\n",
    "> - eval(문자열)\n",
    ">     - 실행 가능한 구문의 문자열을 받아서 실행한다.\n",
    "\n",
    "- **`__str__(self)`**\n",
    "    - Instance(객체)의 Attribute들을 묶어서 문자열로 반환한다.\n",
    "    - 내장 함수 **str(객체)**  호출할 때 이 메소드가 호출 된다.\n",
    "        - str() 호출할 때 객체에 `__str__()`의 정의 안되 있으면 `__repr__()` 을 호출한다. `__repr__()`도 없으면 상위클래스에 정의된 `__str__()`을 호출한다.\n",
    "        - print() 함수는 값을 문자열로 변환해서 출력한다. 이때 그 값을 str() 에 넣어 문자열로 변환한다."
   ]
  },
  {
   "cell_type": "code",
   "execution_count": 161,
   "metadata": {
    "ExecuteTime": {
     "end_time": "2022-12-28T06:41:24.827886Z",
     "start_time": "2022-12-28T06:41:24.814519Z"
    }
   },
   "outputs": [],
   "source": [
    "class Person:\n",
    "    def __init__(self, name, age, address=None):\n",
    "        self.name = name\n",
    "        self.age = age\n",
    "        self.address = address\n",
    "        \n",
    "    @property\n",
    "    def name(self):\n",
    "        return self.__name\n",
    "    \n",
    "    @name.setter\n",
    "    def name(self, name):\n",
    "        if len(name) >= 2:\n",
    "            self.__name = name\n",
    "            \n",
    "    @property\n",
    "    def age(self):\n",
    "        return self.__age\n",
    "    \n",
    "    @age.setter\n",
    "    def age(self, age):\n",
    "        if age >= 10:\n",
    "            self.__age = age\n",
    "            \n",
    "    # 나이값을 더하는 메소드\n",
    "    def add_age(self, age):\n",
    "        self.age = self.age + age\n",
    "        \n",
    "    # 특수메소드 정의\n",
    "    def __repr__(self):\n",
    "        return f'Person(\"{self.name}\", {self.age}, \"{self.address}\")'\n",
    "    \n",
    "    def __str__(self):\n",
    "        return f\"이름: {self.name}, 나이: {self.age}, 주소: {self.address}\"\n",
    "    \n",
    "    # 연산자 재정의 특수메소드\n",
    "    # 덧셈\n",
    "    def __add__(self, other):\n",
    "#         other가 숫자이면 self.age에 더한다.\n",
    "#         other가 다른 Person객체이면 그 객체의 age에 self의 age를 더한다.\n",
    "#         p + 30 (self: p, other: 30)\n",
    "        if isinstance(other, (int, float)):\n",
    "            return self.age + other\n",
    "        elif isinstance(other, Person):\n",
    "            return self.age + other.age\n",
    "     \n",
    "    def __gt__(self, other):\n",
    "        # self객체와 other객체의 나이를 비교\n",
    "        if isinstance(other, Person):\n",
    "            return self.age > other.age\n",
    "        else:\n",
    "            raise TypeError(f\"Person과 {type(other)}는 비교할 수 없습니다.\")  # Exception을 발생시킨다."
   ]
  },
  {
   "cell_type": "code",
   "execution_count": 158,
   "metadata": {
    "ExecuteTime": {
     "end_time": "2022-12-28T06:41:06.746261Z",
     "start_time": "2022-12-28T06:41:06.742177Z"
    }
   },
   "outputs": [],
   "source": [
    "p = Person(\"이순신\", 30, \"서울\")\n",
    "p2 = Person('홍길동', 50, '부산')"
   ]
  },
  {
   "cell_type": "code",
   "execution_count": 146,
   "metadata": {
    "ExecuteTime": {
     "end_time": "2022-12-28T06:39:11.822148Z",
     "start_time": "2022-12-28T06:39:11.814084Z"
    }
   },
   "outputs": [
    {
     "data": {
      "text/plain": [
       "40"
      ]
     },
     "execution_count": 146,
     "metadata": {},
     "output_type": "execute_result"
    }
   ],
   "source": [
    "p + 10  # __add__(self, other): self: p, other: 10"
   ]
  },
  {
   "cell_type": "code",
   "execution_count": 147,
   "metadata": {
    "ExecuteTime": {
     "end_time": "2022-12-28T06:39:12.085934Z",
     "start_time": "2022-12-28T06:39:12.076533Z"
    }
   },
   "outputs": [
    {
     "data": {
      "text/plain": [
       "80"
      ]
     },
     "execution_count": 147,
     "metadata": {},
     "output_type": "execute_result"
    }
   ],
   "source": [
    "p + p2  #self: p, other: p2"
   ]
  },
  {
   "cell_type": "code",
   "execution_count": 159,
   "metadata": {
    "ExecuteTime": {
     "end_time": "2022-12-28T06:41:08.487243Z",
     "start_time": "2022-12-28T06:41:08.478737Z"
    }
   },
   "outputs": [
    {
     "data": {
      "text/plain": [
       "True"
      ]
     },
     "execution_count": 159,
     "metadata": {},
     "output_type": "execute_result"
    }
   ],
   "source": [
    "p > p2"
   ]
  },
  {
   "cell_type": "code",
   "execution_count": 160,
   "metadata": {
    "ExecuteTime": {
     "end_time": "2022-12-28T06:41:10.179215Z",
     "start_time": "2022-12-28T06:41:10.166716Z"
    }
   },
   "outputs": [
    {
     "data": {
      "text/plain": [
       "False"
      ]
     },
     "execution_count": 160,
     "metadata": {},
     "output_type": "execute_result"
    }
   ],
   "source": [
    "p < p2"
   ]
  },
  {
   "cell_type": "code",
   "execution_count": 117,
   "metadata": {
    "ExecuteTime": {
     "end_time": "2022-12-28T05:59:53.185345Z",
     "start_time": "2022-12-28T05:59:53.174670Z"
    }
   },
   "outputs": [
    {
     "name": "stdout",
     "output_type": "stream",
     "text": [
      "<class 'str'>\n"
     ]
    },
    {
     "data": {
      "text/plain": [
       "'Person(\"이순신\", 30, \"서울\")'"
      ]
     },
     "execution_count": 117,
     "metadata": {},
     "output_type": "execute_result"
    }
   ],
   "source": [
    "result = repr(p)\n",
    "print(type(result))\n",
    "result"
   ]
  },
  {
   "cell_type": "code",
   "execution_count": 114,
   "metadata": {
    "ExecuteTime": {
     "end_time": "2022-12-28T05:59:37.812483Z",
     "start_time": "2022-12-28T05:59:37.801053Z"
    }
   },
   "outputs": [
    {
     "data": {
      "text/plain": [
       "2"
      ]
     },
     "execution_count": 114,
     "metadata": {},
     "output_type": "execute_result"
    }
   ],
   "source": [
    "eval(\"1 + 1\")"
   ]
  },
  {
   "cell_type": "code",
   "execution_count": 119,
   "metadata": {
    "ExecuteTime": {
     "end_time": "2022-12-28T06:00:29.594695Z",
     "start_time": "2022-12-28T06:00:29.583947Z"
    }
   },
   "outputs": [
    {
     "name": "stdout",
     "output_type": "stream",
     "text": [
      "<class '__main__.Person'>\n"
     ]
    },
    {
     "data": {
      "text/plain": [
       "('이순신', 30, '서울')"
      ]
     },
     "execution_count": 119,
     "metadata": {},
     "output_type": "execute_result"
    }
   ],
   "source": [
    "p2 = eval(result)\n",
    "print(type(p2))\n",
    "p2.name, p2.age, p2.address"
   ]
  },
  {
   "cell_type": "code",
   "execution_count": 122,
   "metadata": {
    "ExecuteTime": {
     "end_time": "2022-12-28T06:22:18.016256Z",
     "start_time": "2022-12-28T06:22:18.005753Z"
    }
   },
   "outputs": [
    {
     "data": {
      "text/plain": [
       "'이름: 이순신, 나이: 30, 주소: 서울'"
      ]
     },
     "execution_count": 122,
     "metadata": {},
     "output_type": "execute_result"
    }
   ],
   "source": [
    "#  str(객체) -> __str__() 호출\n",
    "str(p)"
   ]
  },
  {
   "cell_type": "code",
   "execution_count": 123,
   "metadata": {
    "ExecuteTime": {
     "end_time": "2022-12-28T06:23:27.563168Z",
     "start_time": "2022-12-28T06:23:27.559108Z"
    }
   },
   "outputs": [
    {
     "name": "stdout",
     "output_type": "stream",
     "text": [
      "이름: 이순신, 나이: 30, 주소: 서울\n"
     ]
    }
   ],
   "source": [
    "print(p) # print(값) -> 값을 문자열로 변환한 뒤 출력. 변환시 str()"
   ]
  },
  {
   "cell_type": "markdown",
   "metadata": {
    "slideshow": {
     "slide_type": "subslide"
    }
   },
   "source": [
    "#### 연산자 재정의(Operator overriding) 관련 특수 메소드\n",
    "- 연산자의 피연산자로 객체를 사용하면 호출되는 메소드들\n",
    "- 다항연산자일 경우 가장 왼쪽의 객체에 정의된 메소드가 호출된다.\n",
    "    - `a + b` 일경우 a의 `__add__()` 가 호출된다.\n",
    "- **비교 연산자**\n",
    "    - **`__eq__(self, other)`** : self == other\n",
    "        - == 로 객체의 내용을 비교할 때 정의 한다.\n",
    "    - **`__lt__(self, other)`** : self < other, __gt__(self, other): self > other\n",
    "        - min()이나 max()에서 인수로 사용할 경우 정의해야 한다.\n",
    "    - **`__le__(self, other)`**: self <= other\n",
    "    - **`__ge__(self, other)`**: self >= other\n",
    "    - **`__ne__(self, other)`**: self != other"
   ]
  },
  {
   "cell_type": "markdown",
   "metadata": {
    "slideshow": {
     "slide_type": "fragment"
    }
   },
   "source": [
    "- **산술 연산자**\n",
    "    - **`__add__(self, other)`**: self + other\n",
    "    - **`__sub__(self, other)`**: self - other\n",
    "    - **`__mul__(self, other)`**: self * other\n",
    "    - **`__truediv__(self, other)`**: self / other\n",
    "    - **`__floordiv__(self, other)`**: self // other\n",
    "    - **`__mod__(self, other)`**: self % other"
   ]
  },
  {
   "cell_type": "code",
   "execution_count": null,
   "metadata": {},
   "outputs": [],
   "source": []
  },
  {
   "cell_type": "markdown",
   "metadata": {
    "slideshow": {
     "slide_type": "slide"
    }
   },
   "source": [
    "# class변수, class 메소드\n",
    "- **class변수**\n",
    "    - (Intance가 아닌) 클래스 자체의 데이터\n",
    "    - Attribute가 객체별로 생성된다면, class변수는 클래스당 하나가 생성된다.\n",
    "    - 구현\n",
    "        - class 블럭에 변수 선언.\n",
    "- **class 메소드**\n",
    "    - 클래스 변수를 처리하는 메소드\n",
    "    - 구현\n",
    "        - @classmethod 데코레이터를 붙인다.\n",
    "        - 첫번째 매개변수로 클래스를 받는 변수를 선언한다. 이 변수를 이용해 클래스 변수나 다른 클래스 메소드를 호출 한다."
   ]
  },
  {
   "cell_type": "markdown",
   "metadata": {
    "slideshow": {
     "slide_type": "subslide"
    }
   },
   "source": [
    "# static 메소드\n",
    "- 클래스의 메소드로 클래스 변수와 상관없는 단순기능을 정의한다.\n",
    "    - Caller 에서 받은 argument만 가지고 일하는 메소드를 구현한다.\n",
    "- 구현\n",
    "    - @staticmethod 데코레이터를 붙인다.\n",
    "    - Parameter에 대한 규칙은 없이 필요한 변수들만 선언한다.\n",
    "    "
   ]
  },
  {
   "cell_type": "markdown",
   "metadata": {
    "slideshow": {
     "slide_type": "fragment"
    }
   },
   "source": [
    "## class 메소드/변수, static 메소드 호출\n",
    "- 클래스이름.변수\n",
    "- 클래스이름.메소드() "
   ]
  },
  {
   "cell_type": "code",
   "execution_count": 169,
   "metadata": {
    "ExecuteTime": {
     "end_time": "2022-12-28T07:28:35.833802Z",
     "start_time": "2022-12-28T07:28:35.818640Z"
    }
   },
   "outputs": [],
   "source": [
    "class Calculator:\n",
    "    PI = 3.14  #클래스 변수\n",
    "    \n",
    "    @classmethod\n",
    "    def circle_area(clazz, radius):\n",
    "        return radius * radius * clazz.PI # 클래스 변수 호출.\n",
    "    \n",
    "    @staticmethod\n",
    "    def square_area(width, height):\n",
    "        return width * height"
   ]
  },
  {
   "cell_type": "code",
   "execution_count": 164,
   "metadata": {
    "ExecuteTime": {
     "end_time": "2022-12-28T07:22:30.148123Z",
     "start_time": "2022-12-28T07:22:30.130531Z"
    }
   },
   "outputs": [
    {
     "name": "stdout",
     "output_type": "stream",
     "text": [
      "3.14\n",
      "3.14159\n"
     ]
    }
   ],
   "source": [
    "#  클래스 변수 호출: 클래스이름.변수명\n",
    "print(Calculator.PI)\n",
    "# Calculator.PI = 3.14159\n",
    "# print(Calculator.PI)"
   ]
  },
  {
   "cell_type": "code",
   "execution_count": 166,
   "metadata": {
    "ExecuteTime": {
     "end_time": "2022-12-28T07:24:06.132440Z",
     "start_time": "2022-12-28T07:24:06.115631Z"
    }
   },
   "outputs": [
    {
     "data": {
      "text/plain": [
       "78.5"
      ]
     },
     "execution_count": 166,
     "metadata": {},
     "output_type": "execute_result"
    }
   ],
   "source": [
    "Calculator.circle_area(5)"
   ]
  },
  {
   "cell_type": "code",
   "execution_count": 168,
   "metadata": {
    "ExecuteTime": {
     "end_time": "2022-12-28T07:24:27.090376Z",
     "start_time": "2022-12-28T07:24:27.081488Z"
    }
   },
   "outputs": [
    {
     "data": {
      "text/plain": [
       "78.5"
      ]
     },
     "execution_count": 168,
     "metadata": {},
     "output_type": "execute_result"
    }
   ],
   "source": [
    "5*5*3.14"
   ]
  },
  {
   "cell_type": "code",
   "execution_count": 170,
   "metadata": {
    "ExecuteTime": {
     "end_time": "2022-12-28T07:28:55.944021Z",
     "start_time": "2022-12-28T07:28:55.925474Z"
    }
   },
   "outputs": [
    {
     "data": {
      "text/plain": [
       "50"
      ]
     },
     "execution_count": 170,
     "metadata": {},
     "output_type": "execute_result"
    }
   ],
   "source": [
    "Calculator.square_area(10,5)"
   ]
  },
  {
   "cell_type": "code",
   "execution_count": 171,
   "metadata": {
    "ExecuteTime": {
     "end_time": "2022-12-28T07:32:46.641677Z",
     "start_time": "2022-12-28T07:32:46.625279Z"
    }
   },
   "outputs": [
    {
     "data": {
      "text/plain": [
       "[__main__.Calculator, object]"
      ]
     },
     "execution_count": 171,
     "metadata": {},
     "output_type": "execute_result"
    }
   ],
   "source": [
    "Calculator.mro()"
   ]
  },
  {
   "cell_type": "code",
   "execution_count": null,
   "metadata": {
    "slideshow": {
     "slide_type": "fragment"
    }
   },
   "outputs": [],
   "source": []
  }
 ],
 "metadata": {
  "kernelspec": {
   "display_name": "Python 3 (ipykernel)",
   "language": "python",
   "name": "python3"
  },
  "language_info": {
   "codemirror_mode": {
    "name": "ipython",
    "version": 3
   },
   "file_extension": ".py",
   "mimetype": "text/x-python",
   "name": "python",
   "nbconvert_exporter": "python",
   "pygments_lexer": "ipython3",
   "version": "3.9.13"
  },
  "toc": {
   "base_numbering": 1,
   "nav_menu": {},
   "number_sections": true,
   "sideBar": false,
   "skip_h1_title": false,
   "title_cell": "Table of Contents",
   "title_sidebar": "Contents",
   "toc_cell": false,
   "toc_position": {
    "height": "573.6px",
    "left": "22px",
    "top": "110.325px",
    "width": "303.825px"
   },
   "toc_section_display": true,
   "toc_window_display": false
  },
  "varInspector": {
   "cols": {
    "lenName": 16,
    "lenType": 16,
    "lenVar": 40
   },
   "kernels_config": {
    "python": {
     "delete_cmd_postfix": "",
     "delete_cmd_prefix": "del ",
     "library": "var_list.py",
     "varRefreshCmd": "print(var_dic_list())"
    },
    "r": {
     "delete_cmd_postfix": ") ",
     "delete_cmd_prefix": "rm(",
     "library": "var_list.r",
     "varRefreshCmd": "cat(var_dic_list()) "
    }
   },
   "types_to_exclude": [
    "module",
    "function",
    "builtin_function_or_method",
    "instance",
    "_Feature"
   ],
   "window_display": false
  }
 },
 "nbformat": 4,
 "nbformat_minor": 4
}
