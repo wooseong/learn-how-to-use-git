{
 "cells": [
  {
   "cell_type": "markdown",
   "metadata": {
    "slideshow": {
     "slide_type": "slide"
    }
   },
   "source": [
    "# Path (경로)\n",
    "\n",
    "- **경로(Path)**\n",
    "    - 프로그램에서 사용할 **자원의 위치**를 path/경로 라고 한다.\n",
    "    - **파일 시스템**에서는 파일이나 디렉토리가 있는 위치의 경로를 말한다.\n",
    "    "
   ]
  },
  {
   "cell_type": "markdown",
   "metadata": {
    "slideshow": {
     "slide_type": "subslide"
    }
   },
   "source": [
    "- **절대경로**\n",
    "    - 자원의 전체 경로를 표현하는 방식\n",
    "    - 시작 경로부터 자원(파일, 디렉토리)이 있는 위치까지 표현한다.\n",
    "        - 시작 경로: Root Path\n",
    "            - windows: `c:`, `d:`\n",
    "            - Unix, Linux: `/`"
   ]
  },
  {
   "cell_type": "markdown",
   "metadata": {
    "slideshow": {
     "slide_type": "fragment"
    }
   },
   "source": [
    "- **상대경로**\n",
    "    - 현재 작업 경로(위치)에서 부터 자원이 있는 위치까지 표현한다.\n",
    "        - 시작 경로: 현재 작업경로\n",
    "    - 구문\n",
    "        - `.` : 현재 디렉토리\n",
    "        - `..`: 상위 디렉토리\n",
    "        - `/` : 경로 구분자,  상위경로/하위경로"
   ]
  },
  {
   "cell_type": "markdown",
   "metadata": {
    "slideshow": {
     "slide_type": "fragment"
    }
   },
   "source": [
    "- 운영체제(O/S)별 경로구분자\n",
    "    - 윈도우즈: `\\` (역슬래쉬)\n",
    "    - 리눅스/유닉스: `/` (슬래쉬)"
   ]
  },
  {
   "cell_type": "code",
   "execution_count": null,
   "metadata": {},
   "outputs": [],
   "source": [
    "r'c:\\a\\b'\n",
    "'c:\\\\a\\\\b'\n",
    "'c:/a/b'"
   ]
  },
  {
   "cell_type": "code",
   "execution_count": null,
   "metadata": {},
   "outputs": [],
   "source": [
    "C:\\Classes\\01_python\\01_python 기초\\my_package\\calculator.py"
   ]
  },
  {
   "cell_type": "code",
   "execution_count": null,
   "metadata": {},
   "outputs": [],
   "source": [
    "./calcuator.py   |   calcualor.py"
   ]
  },
  {
   "cell_type": "code",
   "execution_count": null,
   "metadata": {},
   "outputs": [],
   "source": [
    "./my_package/calculator.py |     my_package/calculator.py"
   ]
  },
  {
   "cell_type": "code",
   "execution_count": null,
   "metadata": {},
   "outputs": [],
   "source": [
    "./main.py    |   main.py"
   ]
  },
  {
   "cell_type": "code",
   "execution_count": null,
   "metadata": {},
   "outputs": [],
   "source": [
    "./../main.py  |   ../main.py"
   ]
  },
  {
   "cell_type": "code",
   "execution_count": null,
   "metadata": {},
   "outputs": [],
   "source": [
    "./../01_python 기초/main.py   |  ../01_python 기초/main.py"
   ]
  },
  {
   "cell_type": "code",
   "execution_count": null,
   "metadata": {},
   "outputs": [],
   "source": [
    "path = \"/a/b/c\"  # 시작  root 경로 -> 절대경로 표현\n",
    "path = './a/b'   # 시작 현재 경로 => ./ 또는 디렉토리나 파일명 일 경우 => 상대경로 표현\n",
    "path = 'a/b/c'"
   ]
  },
  {
   "cell_type": "code",
   "execution_count": null,
   "metadata": {},
   "outputs": [],
   "source": [
    "#  경로 다루는 모듈\n",
    "#  os 모듈,  pathlib(3.4 추가) 모듈"
   ]
  },
  {
   "cell_type": "code",
   "execution_count": 2,
   "metadata": {
    "ExecuteTime": {
     "end_time": "2023-01-02T01:14:43.879350Z",
     "start_time": "2023-01-02T01:14:43.858928Z"
    }
   },
   "outputs": [
    {
     "name": "stdout",
     "output_type": "stream",
     "text": [
      "C:\\Classes\\01_python\\01_python 기초\n"
     ]
    },
    {
     "data": {
      "text/plain": [
       "str"
      ]
     },
     "execution_count": 2,
     "metadata": {},
     "output_type": "execute_result"
    }
   ],
   "source": [
    "import os\n",
    "\n",
    "# 현재 (Working) 디렉토리 - 현재 main 모듈이 있는 경로.\n",
    "cwd = os.getcwd()\n",
    "print(cwd)\n",
    "type(cwd)\n"
   ]
  },
  {
   "cell_type": "code",
   "execution_count": 4,
   "metadata": {
    "ExecuteTime": {
     "end_time": "2023-01-02T01:16:47.073858Z",
     "start_time": "2023-01-02T01:16:47.067922Z"
    }
   },
   "outputs": [
    {
     "name": "stdout",
     "output_type": "stream",
     "text": [
      "c:\\temp\n"
     ]
    }
   ],
   "source": [
    "# 현재 working directory 변경\n",
    "os.chdir(r'c:\\temp')\n",
    "print(os.getcwd())"
   ]
  },
  {
   "cell_type": "code",
   "execution_count": 10,
   "metadata": {
    "ExecuteTime": {
     "end_time": "2023-01-02T01:20:46.661486Z",
     "start_time": "2023-01-02T01:20:46.651323Z"
    }
   },
   "outputs": [],
   "source": [
    "# 디렉토리 생성\n",
    "try:\n",
    "    os.mkdir('test1')  # test 디렉토리를 생성 (없으면 생성, 있으면 Exception발생)\n",
    "except:\n",
    "    print('있는 디렉토리')"
   ]
  },
  {
   "cell_type": "code",
   "execution_count": 15,
   "metadata": {
    "ExecuteTime": {
     "end_time": "2023-01-02T01:22:51.663545Z",
     "start_time": "2023-01-02T01:22:51.643999Z"
    }
   },
   "outputs": [
    {
     "data": {
      "text/plain": [
       "True"
      ]
     },
     "execution_count": 15,
     "metadata": {},
     "output_type": "execute_result"
    }
   ],
   "source": [
    "os.path.isdir('test1')  # test1이 존재하고 디렉토리인지 여부\n",
    "os.path.isfile('test1') # test1이 존재하고 파일인지 여부\n",
    "os.path.exists('test1') # test1이 존재하는지 여부"
   ]
  },
  {
   "cell_type": "code",
   "execution_count": 21,
   "metadata": {
    "ExecuteTime": {
     "end_time": "2023-01-02T01:24:31.195418Z",
     "start_time": "2023-01-02T01:24:31.175099Z"
    }
   },
   "outputs": [],
   "source": [
    "path = 'test2'\n",
    "if not os.path.isdir(path): # 없으면 생성\n",
    "    os.mkdir(path)"
   ]
  },
  {
   "cell_type": "code",
   "execution_count": 24,
   "metadata": {
    "ExecuteTime": {
     "end_time": "2023-01-02T01:27:25.002725Z",
     "start_time": "2023-01-02T01:27:24.989119Z"
    }
   },
   "outputs": [],
   "source": [
    "# 디렉토리 삭제\n",
    "if os.path.isdir('test2'):\n",
    "    os.rmdir('test2')  #  없는 디렉토리인 경우 Exception발생."
   ]
  },
  {
   "cell_type": "code",
   "execution_count": 25,
   "metadata": {
    "ExecuteTime": {
     "end_time": "2023-01-02T01:27:54.058369Z",
     "start_time": "2023-01-02T01:27:54.026454Z"
    },
    "collapsed": true
   },
   "outputs": [
    {
     "ename": "OSError",
     "evalue": "[WinError 145] 디렉터리가 비어 있지 않습니다: 'test1'",
     "output_type": "error",
     "traceback": [
      "\u001b[1;31m---------------------------------------------------------------------------\u001b[0m",
      "\u001b[1;31mOSError\u001b[0m                                   Traceback (most recent call last)",
      "\u001b[1;32m~\\AppData\\Local\\Temp\\ipykernel_10864\\2850436885.py\u001b[0m in \u001b[0;36m<module>\u001b[1;34m\u001b[0m\n\u001b[1;32m----> 1\u001b[1;33m \u001b[0mos\u001b[0m\u001b[1;33m.\u001b[0m\u001b[0mrmdir\u001b[0m\u001b[1;33m(\u001b[0m\u001b[1;34m'test1'\u001b[0m\u001b[1;33m)\u001b[0m\u001b[1;33m\u001b[0m\u001b[1;33m\u001b[0m\u001b[0m\n\u001b[0m",
      "\u001b[1;31mOSError\u001b[0m: [WinError 145] 디렉터리가 비어 있지 않습니다: 'test1'"
     ]
    }
   ],
   "source": [
    "# rmdir(디렉토리)-안에 파일이나 하위디렉토리가 있으면 Exception발생\n",
    "os.rmdir('test1')"
   ]
  },
  {
   "cell_type": "code",
   "execution_count": 26,
   "metadata": {
    "ExecuteTime": {
     "end_time": "2023-01-02T01:30:05.986692Z",
     "start_time": "2023-01-02T01:30:05.962729Z"
    }
   },
   "outputs": [],
   "source": [
    "# 파일 삭제\n",
    "os.remove('test1/a.txt')"
   ]
  },
  {
   "cell_type": "code",
   "execution_count": 27,
   "metadata": {
    "ExecuteTime": {
     "end_time": "2023-01-02T01:30:16.391285Z",
     "start_time": "2023-01-02T01:30:16.379505Z"
    }
   },
   "outputs": [],
   "source": [
    "os.rmdir('test1')"
   ]
  },
  {
   "cell_type": "code",
   "execution_count": 33,
   "metadata": {
    "ExecuteTime": {
     "end_time": "2023-01-02T01:38:37.027407Z",
     "start_time": "2023-01-02T01:38:37.018523Z"
    }
   },
   "outputs": [
    {
     "name": "stdout",
     "output_type": "stream",
     "text": [
      "['dir1',\n",
      " 'dir1 - 복사본',\n",
      " 'dir1 - 복사본 (2)',\n",
      " 'dir1 - 복사본 (3)',\n",
      " 'dir1 - 복사본 (4)',\n",
      " 'dir1 - 복사본 (5)',\n",
      " 'test_module - 복사본 (10).py',\n",
      " 'test_module - 복사본 (11).py',\n",
      " 'test_module - 복사본 (12).py',\n",
      " 'test_module - 복사본 (13).py',\n",
      " 'test_module - 복사본 (14).py',\n",
      " 'test_module - 복사본 (2).py',\n",
      " 'test_module - 복사본 (3).py',\n",
      " 'test_module - 복사본 (4).py',\n",
      " 'test_module - 복사본 (5).py',\n",
      " 'test_module - 복사본 (6).py',\n",
      " 'test_module - 복사본 (7).py',\n",
      " 'test_module - 복사본 (8).py',\n",
      " 'test_module - 복사본 (9).py',\n",
      " 'test_module - 복사본.py',\n",
      " 'test_module.py']\n"
     ]
    }
   ],
   "source": [
    "from pprint import pprint\n",
    "path = 'test'\n",
    "# test 디렉토리 아래 있는 파일들을 삭제\n",
    "# 1. test 디렉토리 아래있는 파일/디렉토리의 이름들을 조회\n",
    "sub_list = os.listdir(path)  # path디렉토리 하위에 있는 디렉토리, 파일 이름을 리스트로 반환\n",
    "pprint(sub_list) "
   ]
  },
  {
   "cell_type": "code",
   "execution_count": 39,
   "metadata": {
    "ExecuteTime": {
     "end_time": "2023-01-02T01:41:20.321618Z",
     "start_time": "2023-01-02T01:41:20.309937Z"
    }
   },
   "outputs": [
    {
     "name": "stdout",
     "output_type": "stream",
     "text": [
      "a\\b\\c\\d\\e\n",
      "test\\dir1\n"
     ]
    }
   ],
   "source": [
    "# 경로를 합치기(결합)\n",
    "# print(path + '/' +sub_list[8])\n",
    "print(os.path.join(\"a\", \"b\", \"c\", \"d\", \"e\"))\n",
    "print(os.path.join(path, sub_list[0]))"
   ]
  },
  {
   "cell_type": "code",
   "execution_count": 43,
   "metadata": {
    "ExecuteTime": {
     "end_time": "2023-01-02T01:43:36.949935Z",
     "start_time": "2023-01-02T01:43:36.940773Z"
    }
   },
   "outputs": [],
   "source": [
    "for fname in sub_list:\n",
    "#     print(os.path.join(path, fname))\n",
    "    p = os.path.join(path, fname)\n",
    "    if os.path.isfile(p):\n",
    "        os.remove(p)"
   ]
  },
  {
   "cell_type": "markdown",
   "metadata": {},
   "source": [
    "- glob 모듈\n",
    "    - 디렉토리 안에 있는 파일/디렉토리들을 wild card 문자를 이용해서 다양하게 조회할 수 있다.\n",
    "    - wild card \n",
    "        - \\* : 0 글자 이상의 모든 문자열\n",
    "            - ex) \\*.jpg   확장자가 jpg인 모든 이름의 파일. a\\*.png : 이름이 a로 시작하고 확장자가 png인 모든 파일\n",
    "        - ? : 한글자. \n",
    "            - ex)  ab?de.jpg : 이름이 ab와 de사이에 아무글자나 한글자가 들어오는 jpg파일\n",
    "        - \\*\\* : 모든 하위 디렉토리. 하위디렉토리의 하위 디렉토리 포함.\n",
    "            "
   ]
  },
  {
   "cell_type": "code",
   "execution_count": 45,
   "metadata": {
    "ExecuteTime": {
     "end_time": "2023-01-02T02:21:13.460836Z",
     "start_time": "2023-01-02T02:21:13.452397Z"
    }
   },
   "outputs": [
    {
     "data": {
      "text/plain": [
       "['test/a1.py']"
      ]
     },
     "execution_count": 45,
     "metadata": {},
     "output_type": "execute_result"
    }
   ],
   "source": [
    "from glob import glob\n",
    "\n",
    "glob('test')\n",
    "glob('test/a1.py')"
   ]
  },
  {
   "cell_type": "code",
   "execution_count": 48,
   "metadata": {
    "ExecuteTime": {
     "end_time": "2023-01-02T02:23:48.702762Z",
     "start_time": "2023-01-02T02:23:48.691872Z"
    }
   },
   "outputs": [
    {
     "data": {
      "text/plain": [
       "['test\\\\a1.py',\n",
       " 'test\\\\a2.py',\n",
       " 'test\\\\a3 - 복사본.py',\n",
       " 'test\\\\a3.py',\n",
       " 'test\\\\img1.jpg',\n",
       " 'test\\\\img2.jpg']"
      ]
     },
     "execution_count": 48,
     "metadata": {},
     "output_type": "execute_result"
    }
   ],
   "source": [
    "glob('test/*.*')"
   ]
  },
  {
   "cell_type": "code",
   "execution_count": 49,
   "metadata": {
    "ExecuteTime": {
     "end_time": "2023-01-02T02:23:52.780633Z",
     "start_time": "2023-01-02T02:23:52.762399Z"
    }
   },
   "outputs": [
    {
     "data": {
      "text/plain": [
       "['test\\\\a1.py', 'test\\\\a2.py', 'test\\\\a3 - 복사본.py', 'test\\\\a3.py']"
      ]
     },
     "execution_count": 49,
     "metadata": {},
     "output_type": "execute_result"
    }
   ],
   "source": [
    "glob('test/*.py')"
   ]
  },
  {
   "cell_type": "code",
   "execution_count": 50,
   "metadata": {
    "ExecuteTime": {
     "end_time": "2023-01-02T02:24:04.898567Z",
     "start_time": "2023-01-02T02:24:04.882865Z"
    }
   },
   "outputs": [
    {
     "data": {
      "text/plain": [
       "['test\\\\a1.py', 'test\\\\a2.py', 'test\\\\a3.py']"
      ]
     },
     "execution_count": 50,
     "metadata": {},
     "output_type": "execute_result"
    }
   ],
   "source": [
    "glob('test/a?.py') "
   ]
  },
  {
   "cell_type": "code",
   "execution_count": 51,
   "metadata": {
    "ExecuteTime": {
     "end_time": "2023-01-02T02:25:07.355995Z",
     "start_time": "2023-01-02T02:25:07.339606Z"
    },
    "scrolled": true
   },
   "outputs": [
    {
     "data": {
      "text/plain": [
       "['test\\\\a1.py',\n",
       " 'test\\\\a2.py',\n",
       " 'test\\\\a3 - 복사본.py',\n",
       " 'test\\\\a3.py',\n",
       " 'test\\\\dir1',\n",
       " 'test\\\\img1.jpg',\n",
       " 'test\\\\img2.jpg']"
      ]
     },
     "execution_count": 51,
     "metadata": {},
     "output_type": "execute_result"
    }
   ],
   "source": [
    "glob('test/*')"
   ]
  },
  {
   "cell_type": "code",
   "execution_count": 53,
   "metadata": {
    "ExecuteTime": {
     "end_time": "2023-01-02T02:28:04.794349Z",
     "start_time": "2023-01-02T02:28:04.788426Z"
    }
   },
   "outputs": [
    {
     "data": {
      "text/plain": [
       "['test\\\\dir1\\\\a1.py',\n",
       " 'test\\\\dir1\\\\a2.py',\n",
       " 'test\\\\dir2\\\\a1.py',\n",
       " 'test\\\\dir2\\\\a2.py',\n",
       " 'test\\\\dir3\\\\a1.py',\n",
       " 'test\\\\dir3\\\\a2.py']"
      ]
     },
     "execution_count": 53,
     "metadata": {},
     "output_type": "execute_result"
    }
   ],
   "source": [
    "glob('test/**/*.py') # test/모든하위디렉토리/*.py"
   ]
  },
  {
   "cell_type": "code",
   "execution_count": 54,
   "metadata": {
    "ExecuteTime": {
     "end_time": "2023-01-02T02:28:32.366538Z",
     "start_time": "2023-01-02T02:28:32.355835Z"
    }
   },
   "outputs": [
    {
     "data": {
      "text/plain": [
       "['test\\\\a1.py',\n",
       " 'test\\\\a2.py',\n",
       " 'test\\\\a3 - 복사본.py',\n",
       " 'test\\\\a3.py',\n",
       " 'test\\\\dir1\\\\a1.py',\n",
       " 'test\\\\dir1\\\\a2.py',\n",
       " 'test\\\\dir2\\\\a1.py',\n",
       " 'test\\\\dir2\\\\a2.py',\n",
       " 'test\\\\dir3\\\\a1.py',\n",
       " 'test\\\\dir3\\\\a2.py']"
      ]
     },
     "execution_count": 54,
     "metadata": {},
     "output_type": "execute_result"
    }
   ],
   "source": [
    "glob('test/**/*.py', recursive=True) # test directory, 그 하위, 그 하위--> 모든 하위 디렉토리를 다 찾아 준다."
   ]
  },
  {
   "cell_type": "code",
   "execution_count": 60,
   "metadata": {
    "ExecuteTime": {
     "end_time": "2023-01-02T02:33:49.360928Z",
     "start_time": "2023-01-02T02:33:49.348535Z"
    }
   },
   "outputs": [],
   "source": [
    "# os.mkdir('a/b/c/d')\n",
    "os.makedirs('a/b/c/e', exist_ok=True) # 상위디렉토리가 없으면 상위디렉토리까지 만든다."
   ]
  },
  {
   "cell_type": "markdown",
   "metadata": {},
   "source": [
    "### pathlib 모듈을 이용해 경로 처리"
   ]
  },
  {
   "cell_type": "code",
   "execution_count": 1,
   "metadata": {
    "ExecuteTime": {
     "end_time": "2023-01-03T00:30:01.868627Z",
     "start_time": "2023-01-03T00:30:01.849233Z"
    }
   },
   "outputs": [
    {
     "name": "stdout",
     "output_type": "stream",
     "text": [
      "test\n",
      "<class 'pathlib.WindowsPath'>\n"
     ]
    }
   ],
   "source": [
    "from pathlib import Path\n",
    "# Path: attribute로 파일/디렉토리 경로를 가지며 그 경로관련 처리를 하는 다양한 메소드를 제공.\n",
    "\n",
    "path = Path('test')  # test 디렉토리를 다루는 경로객체 생성\n",
    "print(path)\n",
    "print(type(path))"
   ]
  },
  {
   "cell_type": "code",
   "execution_count": 3,
   "metadata": {
    "ExecuteTime": {
     "end_time": "2023-01-03T00:30:27.340364Z",
     "start_time": "2023-01-03T00:30:27.331898Z"
    }
   },
   "outputs": [
    {
     "name": "stdout",
     "output_type": "stream",
     "text": [
      "test\\dir1\\dir2\\my_file.txt\n",
      "test\\dir1\\dir2\\my_file.txt\n"
     ]
    },
    {
     "data": {
      "text/plain": [
       "(False, False, False)"
      ]
     },
     "execution_count": 3,
     "metadata": {},
     "output_type": "execute_result"
    }
   ],
   "source": [
    "# 경로 합치기 (os.path.join('경로1', '경로2', '경로3'))   '경로1/경로2/경로3'\n",
    "path1 = path / \"dir1\" / \"dir2\" / \"my_file.txt\"\n",
    "print(str(path1))\n",
    "\n",
    "print(path1)\n",
    "path1.is_file(), path1.is_dir(), path1.exists()  # path1이 가진 경로가 있는지 여부"
   ]
  },
  {
   "cell_type": "code",
   "execution_count": 69,
   "metadata": {
    "ExecuteTime": {
     "end_time": "2023-01-02T02:45:51.734504Z",
     "start_time": "2023-01-02T02:45:51.723252Z"
    }
   },
   "outputs": [
    {
     "data": {
      "text/plain": [
       "('test', 'dir1', 'dir2', 'my_file.txt')"
      ]
     },
     "execution_count": 69,
     "metadata": {},
     "output_type": "execute_result"
    }
   ],
   "source": [
    "path1.parts  # 각 경로 요소들을 나눠서 튜플로 반환"
   ]
  },
  {
   "cell_type": "code",
   "execution_count": 71,
   "metadata": {
    "ExecuteTime": {
     "end_time": "2023-01-02T02:47:01.448412Z",
     "start_time": "2023-01-02T02:47:01.434231Z"
    }
   },
   "outputs": [
    {
     "data": {
      "text/plain": [
       "('my_file.txt', 'my_file.txt')"
      ]
     },
     "execution_count": 71,
     "metadata": {},
     "output_type": "execute_result"
    }
   ],
   "source": [
    "path1.name, path1.parts[-1]  # 마지막 경로(파일/디렉토리)의 이름을 조회"
   ]
  },
  {
   "cell_type": "code",
   "execution_count": 72,
   "metadata": {
    "ExecuteTime": {
     "end_time": "2023-01-02T02:47:43.255941Z",
     "start_time": "2023-01-02T02:47:43.241402Z"
    }
   },
   "outputs": [
    {
     "data": {
      "text/plain": [
       "'.txt'"
      ]
     },
     "execution_count": 72,
     "metadata": {},
     "output_type": "execute_result"
    }
   ],
   "source": [
    "path1.suffix   # 마지막 경로가 파일일때 확장자를 반환. 확장자가 없을 경우 None 반환"
   ]
  },
  {
   "cell_type": "code",
   "execution_count": 73,
   "metadata": {
    "ExecuteTime": {
     "end_time": "2023-01-02T02:48:14.400634Z",
     "start_time": "2023-01-02T02:48:14.393420Z"
    }
   },
   "outputs": [
    {
     "data": {
      "text/plain": [
       "'my_file'"
      ]
     },
     "execution_count": 73,
     "metadata": {},
     "output_type": "execute_result"
    }
   ],
   "source": [
    "path1.stem # 확장자를 뺀 파일명 또는 디렉토리 이름을 반환"
   ]
  },
  {
   "cell_type": "code",
   "execution_count": 76,
   "metadata": {
    "ExecuteTime": {
     "end_time": "2023-01-02T02:49:57.552607Z",
     "start_time": "2023-01-02T02:49:57.542416Z"
    }
   },
   "outputs": [
    {
     "data": {
      "text/plain": [
       "[WindowsPath('test/a1.py'),\n",
       " WindowsPath('test/a2.py'),\n",
       " WindowsPath('test/a3 - 복사본.py'),\n",
       " WindowsPath('test/a3.py'),\n",
       " WindowsPath('test/dir1/a1.py'),\n",
       " WindowsPath('test/dir1/a2.py'),\n",
       " WindowsPath('test/dir2/a1.py'),\n",
       " WindowsPath('test/dir2/a2.py'),\n",
       " WindowsPath('test/dir3/a1.py'),\n",
       " WindowsPath('test/dir3/a2.py')]"
      ]
     },
     "execution_count": 76,
     "metadata": {},
     "output_type": "execute_result"
    }
   ],
   "source": [
    "lst  =  path.glob(\"**\\*.py\")\n",
    "list(lst)"
   ]
  },
  {
   "cell_type": "code",
   "execution_count": 77,
   "metadata": {
    "ExecuteTime": {
     "end_time": "2023-01-02T02:50:39.769508Z",
     "start_time": "2023-01-02T02:50:39.757566Z"
    }
   },
   "outputs": [
    {
     "data": {
      "text/plain": [
       "[WindowsPath('test/img1.jpg'), WindowsPath('test/img2.jpg')]"
      ]
     },
     "execution_count": 77,
     "metadata": {},
     "output_type": "execute_result"
    }
   ],
   "source": [
    "list(path.glob('*.jpg'))"
   ]
  },
  {
   "cell_type": "code",
   "execution_count": 78,
   "metadata": {
    "ExecuteTime": {
     "end_time": "2023-01-02T03:09:05.659806Z",
     "start_time": "2023-01-02T03:09:05.652005Z"
    }
   },
   "outputs": [
    {
     "data": {
      "text/plain": [
       "'c:\\\\temp'"
      ]
     },
     "execution_count": 78,
     "metadata": {},
     "output_type": "execute_result"
    }
   ],
   "source": [
    "os.getcwd()"
   ]
  },
  {
   "cell_type": "code",
   "execution_count": 81,
   "metadata": {
    "ExecuteTime": {
     "end_time": "2023-01-02T03:11:17.303210Z",
     "start_time": "2023-01-02T03:11:17.295840Z"
    }
   },
   "outputs": [],
   "source": [
    "dir_path = Path('test5')"
   ]
  },
  {
   "cell_type": "code",
   "execution_count": 84,
   "metadata": {
    "ExecuteTime": {
     "end_time": "2023-01-02T03:12:34.618281Z",
     "start_time": "2023-01-02T03:12:34.598119Z"
    }
   },
   "outputs": [],
   "source": [
    "dir_path.mkdir(exist_ok=True) # Path객체 경로의 디렉토리를 생성.\n",
    "# exist_ok=True : 디렉토리가 있으면 안만들고 없으면 만든다.\n",
    "# exist_ok=False(기본): 디렉토리가 없으면 만들고 있으면 Exception 발생."
   ]
  },
  {
   "cell_type": "code",
   "execution_count": 85,
   "metadata": {
    "ExecuteTime": {
     "end_time": "2023-01-02T03:13:23.844262Z",
     "start_time": "2023-01-02T03:13:23.830105Z"
    }
   },
   "outputs": [
    {
     "name": "stdout",
     "output_type": "stream",
     "text": [
      "new-test5\n"
     ]
    }
   ],
   "source": [
    "new_path = dir_path.rename(r'new-test5')  # 디렉토리/파일의 이름을 변경하고 새경로(Path)를 반환\n",
    "print(new_path)"
   ]
  },
  {
   "cell_type": "code",
   "execution_count": 87,
   "metadata": {
    "ExecuteTime": {
     "end_time": "2023-01-02T03:14:13.157443Z",
     "start_time": "2023-01-02T03:14:13.148805Z"
    }
   },
   "outputs": [
    {
     "data": {
      "text/plain": [
       "WindowsPath('new-test5')"
      ]
     },
     "execution_count": 87,
     "metadata": {},
     "output_type": "execute_result"
    }
   ],
   "source": [
    "new_path"
   ]
  },
  {
   "cell_type": "code",
   "execution_count": 88,
   "metadata": {
    "ExecuteTime": {
     "end_time": "2023-01-02T03:14:33.523564Z",
     "start_time": "2023-01-02T03:14:33.510319Z"
    }
   },
   "outputs": [],
   "source": [
    "# 디렉토리 삭제\n",
    "new_path.rmdir()"
   ]
  },
  {
   "cell_type": "code",
   "execution_count": 92,
   "metadata": {
    "ExecuteTime": {
     "end_time": "2023-01-02T03:15:46.808356Z",
     "start_time": "2023-01-02T03:15:46.790018Z"
    }
   },
   "outputs": [
    {
     "name": "stdout",
     "output_type": "stream",
     "text": [
      "True test\\a1.py\n"
     ]
    }
   ],
   "source": [
    "f_path = path / 'a1.py'\n",
    "print(f_path.is_file(), f_path)"
   ]
  },
  {
   "cell_type": "code",
   "execution_count": 93,
   "metadata": {
    "ExecuteTime": {
     "end_time": "2023-01-02T03:16:15.346368Z",
     "start_time": "2023-01-02T03:16:15.335217Z"
    }
   },
   "outputs": [
    {
     "name": "stdout",
     "output_type": "stream",
     "text": [
      "False test\\a1.py\n"
     ]
    }
   ],
   "source": [
    "# 파일 삭제\n",
    "f_path.unlink()\n",
    "print(f_path.is_file(), f_path)"
   ]
  },
  {
   "cell_type": "code",
   "execution_count": 96,
   "metadata": {
    "ExecuteTime": {
     "end_time": "2023-01-02T03:17:21.301942Z",
     "start_time": "2023-01-02T03:17:21.292755Z"
    }
   },
   "outputs": [],
   "source": [
    "for f in path.glob('*.py'): #확장자가 .py인 파일 모두 삭제.\n",
    "#     print(type(f))\n",
    "    f.unlink()"
   ]
  },
  {
   "cell_type": "markdown",
   "metadata": {
    "slideshow": {
     "slide_type": "slide"
    }
   },
   "source": [
    "# 입출력 (IO)\n",
    "\n",
    "## 입출력이란\n",
    "- 프로그램이 사용하려는 외부 자원을 연결하여 데이터를 입력 받거나 출력하는 작업을 IO라고 한다.\n",
    "- 외부 자원\n",
    "    - 파일, 원격지 컴퓨터, Database 등.\n",
    "- **Stream**\n",
    "    - 입출력 시 **데이터의 흐름을 stream** 이라고 한다.\n",
    "- InputStream \n",
    "    - Program이 외부로 부터 데이터를 읽어 들이는 흐름.\n",
    "- OutputStream \n",
    "    - Program이 외부로 데이터를 써주는 흐름.\n",
    "\n",
    "\n",
    "![io](images/ch09_01.png)"
   ]
  },
  {
   "cell_type": "markdown",
   "metadata": {
    "slideshow": {
     "slide_type": "subslide"
    }
   },
   "source": [
    "## IO 코딩 순서\n",
    "![순서](images/ch09_02.png)"
   ]
  },
  {
   "cell_type": "markdown",
   "metadata": {
    "slideshow": {
     "slide_type": "subslide"
    }
   },
   "source": [
    "### 파일 열기(연결)\n",
    "- open() 함수 사용\n",
    "    - 연결된 파일과 입출력 메소드를 제공하는 객체(Stream)를 리턴\n",
    "- 구문\n",
    "    - `open(file, mode='r', encoding=None)`\n",
    "    - 함수 주요 매개변수\n",
    "        - file : 연결할 파일 경로\n",
    "        - mode : 열기 모드\n",
    "            - 모드는 목적, 데이터종류를 조합한다.\n",
    "        - encoding \n",
    "            - 텍스트 파일일 경우 인코딩 방식\n",
    "            - None 또는 생략하면  os 기본 encoding방식을 따른다.\n",
    "                - Windows: cp949/euckr\n",
    "                - Linux, Unix: utf-8\n",
    "|mode타입|mode문자|설명|\n",
    "|:-|-|-|\n",
    "|목적|r|읽기-목적의 기본 모드|\n",
    "||w|새로 쓰기 모드|\n",
    "||a|이어 쓰기 모드|\n",
    "||x|새로 쓰기모드-연결하려는 파일이 있으면 Exception발생|\n",
    "|데이터종류|b|binary 모드|\n",
    "||t|Text모드-text데이터 입출력시 사용. 종류의 기본방식|\n",
    "    "
   ]
  },
  {
   "cell_type": "markdown",
   "metadata": {
    "slideshow": {
     "slide_type": "subslide"
    }
   },
   "source": [
    "### 출력 메소드\n",
    "\n",
    "- write(출력할 Data)\n",
    "    - 연결된 파일에 `출력할 Data` 출력한다.\n",
    "- writelines(문자열을 가진 컬렉션)\n",
    "    - 리스트, 튜플, 집합이 원소로 가진 문자열들을 한번에 출력한다.\n",
    "    - text 출력일 경우에만 사용가능.\n",
    "    - 원소에 문자열 이외의 타입의 값이 있을 경우 TypeError 발생"
   ]
  },
  {
   "cell_type": "code",
   "execution_count": 110,
   "metadata": {
    "ExecuteTime": {
     "end_time": "2023-01-02T05:37:19.270849Z",
     "start_time": "2023-01-02T05:37:19.252868Z"
    }
   },
   "outputs": [
    {
     "data": {
      "text/plain": [
       "'c:\\\\temp'"
      ]
     },
     "execution_count": 110,
     "metadata": {},
     "output_type": "execute_result"
    }
   ],
   "source": [
    "os.getcwd()"
   ]
  },
  {
   "cell_type": "code",
   "execution_count": 1,
   "metadata": {
    "ExecuteTime": {
     "end_time": "2023-01-02T05:46:31.016778Z",
     "start_time": "2023-01-02T05:46:31.004619Z"
    },
    "slideshow": {
     "slide_type": "fragment"
    }
   },
   "outputs": [
    {
     "name": "stdout",
     "output_type": "stream",
     "text": [
      "file_data\\test.txt\n"
     ]
    }
   ],
   "source": [
    "from pathlib import Path\n",
    "# file_data 폴더 아래 text/binary 파일을 쓰기.\n",
    "# 파일 저장할 디렉토리가 없으면 디렉토리를 만든다.\n",
    "dir_path = Path('file_data')\n",
    "dir_path.mkdir(exist_ok=True)\n",
    "write_path = dir_path / \"test.txt\"\n",
    "print(write_path)"
   ]
  },
  {
   "cell_type": "code",
   "execution_count": 4,
   "metadata": {
    "ExecuteTime": {
     "end_time": "2023-01-02T06:14:28.230448Z",
     "start_time": "2023-01-02T06:14:28.205595Z"
    }
   },
   "outputs": [],
   "source": [
    "# 1. 연결\n",
    "#     1. 연결할 파일의 경로: 문자열, Path객체 - 절대/상대경로 \n",
    "#     2. wt - w: 쓰기모드, t: text\n",
    "fw = open(write_path, mode='wt', encoding='utf-8')\n",
    "# 2. 출력 (w모드)\n",
    "fw.write('abcde\\n')\n",
    "fw.write('가나다라\\n')\n",
    "fw.write('12345')\n",
    "# 연결닫기\n",
    "fw.close()"
   ]
  },
  {
   "cell_type": "code",
   "execution_count": 6,
   "metadata": {
    "ExecuteTime": {
     "end_time": "2023-01-02T06:16:35.924093Z",
     "start_time": "2023-01-02T06:16:35.917409Z"
    }
   },
   "outputs": [],
   "source": [
    "txt = \"\"\"안녕하세요.\n",
    "반갑습니다.\n",
    "또 만나요.\"\"\"\n",
    "write_path2 = dir_path / 'test2.txt'\n",
    "fw = open(write_path2, mode='wt', encoding='utf-8')\n",
    "fw.write(txt)\n",
    "fw.close()"
   ]
  },
  {
   "cell_type": "code",
   "execution_count": 38,
   "metadata": {
    "ExecuteTime": {
     "end_time": "2023-01-02T06:22:00.290005Z",
     "start_time": "2023-01-02T06:22:00.277728Z"
    }
   },
   "outputs": [],
   "source": [
    "txt_list = [\"첫번째 줄\\n\", \"두번째 줄\\n\", \"세번째 줄\\n\"]\n",
    "write_path3 = dir_path / 'test4.txt'\n",
    "# fw = open(write_path3, mode='wt', encoding='utf-8')\n",
    "fw = open(write_path3, mode='at', encoding='utf-8')  # at: 이어쓰기\n",
    "# for txt in txt_list:\n",
    "#     fw.write(txt)\n",
    "fw.writelines(txt_list)\n",
    "fw.close()"
   ]
  },
  {
   "cell_type": "code",
   "execution_count": 53,
   "metadata": {
    "ExecuteTime": {
     "end_time": "2023-01-02T06:28:54.410964Z",
     "start_time": "2023-01-02T06:28:54.389608Z"
    }
   },
   "outputs": [
    {
     "name": "stdout",
     "output_type": "stream",
     "text": [
      "<class '_io.TextIOWrapper'>\n",
      "wt utf-8 file_data\\test4.txt\n",
      "False\n",
      "True\n"
     ]
    },
    {
     "ename": "ValueError",
     "evalue": "I/O operation on closed file.",
     "output_type": "error",
     "traceback": [
      "\u001b[1;31m---------------------------------------------------------------------------\u001b[0m",
      "\u001b[1;31mValueError\u001b[0m                                Traceback (most recent call last)",
      "\u001b[1;32m~\\AppData\\Local\\Temp\\ipykernel_3848\\3445018696.py\u001b[0m in \u001b[0;36m<module>\u001b[1;34m\u001b[0m\n\u001b[0;32m      6\u001b[0m \u001b[0mfw\u001b[0m\u001b[1;33m.\u001b[0m\u001b[0mclose\u001b[0m\u001b[1;33m(\u001b[0m\u001b[1;33m)\u001b[0m\u001b[1;33m\u001b[0m\u001b[1;33m\u001b[0m\u001b[0m\n\u001b[0;32m      7\u001b[0m \u001b[0mprint\u001b[0m\u001b[1;33m(\u001b[0m\u001b[0mfw\u001b[0m\u001b[1;33m.\u001b[0m\u001b[0mclosed\u001b[0m\u001b[1;33m)\u001b[0m \u001b[1;31m# 연결 여부를 bool\u001b[0m\u001b[1;33m\u001b[0m\u001b[1;33m\u001b[0m\u001b[0m\n\u001b[1;32m----> 8\u001b[1;33m \u001b[0mfw\u001b[0m\u001b[1;33m.\u001b[0m\u001b[0mwrite\u001b[0m\u001b[1;33m(\u001b[0m\u001b[1;34m'abc'\u001b[0m\u001b[1;33m)\u001b[0m  \u001b[1;31m#fw: 끊어진(닫힌) 연결.\u001b[0m\u001b[1;33m\u001b[0m\u001b[1;33m\u001b[0m\u001b[0m\n\u001b[0m",
      "\u001b[1;31mValueError\u001b[0m: I/O operation on closed file."
     ]
    }
   ],
   "source": [
    "fw = open(write_path3, mode='wt', encoding='utf-8')\n",
    "print(type(fw))\n",
    "print(fw.mode, fw.encoding, fw.name)\n",
    "fw.write('가나다')\n",
    "print(fw.closed) # 연결 여부를 bool: 닫히면 True, 연결상태: False\n",
    "fw.close()\n",
    "print(fw.closed) # 연결 여부를 bool\n",
    "fw.write('abc')  #fw: 끊어진(닫힌) 연결."
   ]
  },
  {
   "cell_type": "markdown",
   "metadata": {
    "slideshow": {
     "slide_type": "slide"
    }
   },
   "source": [
    "### 입력 메소드\n",
    "- read() : 문자열(text mode), bytes(binary mode) \n",
    "    - 연결된 파일의 내용을 한번에 모두 읽어 들인다.\n",
    "- readline() : 문자열(text mode), bytes(binary mode)\n",
    "    - 한 줄만 읽는다.\n",
    "    - text 입력일 경우만 사용가능\n",
    "    - 읽은 라인이 없으면 `빈문자열`을 리턴한다.\n",
    "- readlines() : 리스트\n",
    "    - 한번에 다 읽은 뒤 각각의 라인을 리스트에 원소로 담아 반환한다.\n",
    "- Input Stream (TextIOWrapper, BufferedReader)는 Iterable 타입\n",
    "    - for문을 이용한 라인단위 순차 조회할 수 있다."
   ]
  },
  {
   "cell_type": "code",
   "execution_count": 55,
   "metadata": {
    "ExecuteTime": {
     "end_time": "2023-01-02T06:39:48.560450Z",
     "start_time": "2023-01-02T06:39:48.551840Z"
    }
   },
   "outputs": [
    {
     "name": "stdout",
     "output_type": "stream",
     "text": [
      "abcde\n",
      "가나다라\n",
      "12345\n"
     ]
    }
   ],
   "source": [
    "# read_path = dir_path / 'test.txt'\n",
    "read_path = \"file_data/test.txt\"\n",
    "fr = open(read_path, mode='rt', encoding='utf-8') # 모드: r - read, t - text파일,  encoding : default는 OS 인코딩방식(win: cp949, mac/리눅스: utf-8)\n",
    "# 2. 읽기 - read() : 한번에 전체를 다 읽는다.\n",
    "r_txt = fr.read()\n",
    "print(r_txt)\n",
    "# 3. 연결 닫기\n",
    "fr.close()"
   ]
  },
  {
   "cell_type": "code",
   "execution_count": 61,
   "metadata": {
    "ExecuteTime": {
     "end_time": "2023-01-02T06:45:42.576828Z",
     "start_time": "2023-01-02T06:45:42.558497Z"
    }
   },
   "outputs": [
    {
     "name": "stdout",
     "output_type": "stream",
     "text": [
      "abcde\n",
      "가나다라\n",
      "\n",
      "12345\n",
      "\n"
     ]
    }
   ],
   "source": [
    "fr = open(read_path, mode='rt', encoding='utf-8') \n",
    "print(fr.readline()) # 첫번째 줄\n",
    "print(fr.readline()) # 두번째 줄\n",
    "print(fr.readline()) # 세번째 줄\n",
    "print(fr.readline()) # 네번째 줄 - 없는 줄일 경우 \"\" : 빈문자열 반환\n",
    "fr.close()"
   ]
  },
  {
   "cell_type": "code",
   "execution_count": null,
   "metadata": {},
   "outputs": [],
   "source": [
    "# for i in range(5):\n",
    "#     readline()"
   ]
  },
  {
   "cell_type": "code",
   "execution_count": 62,
   "metadata": {
    "ExecuteTime": {
     "end_time": "2023-01-02T06:47:32.528158Z",
     "start_time": "2023-01-02T06:47:32.518455Z"
    }
   },
   "outputs": [
    {
     "name": "stdout",
     "output_type": "stream",
     "text": [
      "1. abcde\n",
      "2. 가나다라\n",
      "3. 12345"
     ]
    }
   ],
   "source": [
    "fr = open(read_path, mode='rt', encoding='utf-8') \n",
    "line_num = 0\n",
    "while True:\n",
    "    txt = fr.readline()\n",
    "    if not txt: # 빈문자열이라면 -> 다읽었다.\n",
    "        break\n",
    "    line_num += 1\n",
    "    print(str(line_num)+\". \"+txt, end='')\n",
    "fr.close()"
   ]
  },
  {
   "cell_type": "code",
   "execution_count": 65,
   "metadata": {
    "ExecuteTime": {
     "end_time": "2023-01-02T06:51:17.558671Z",
     "start_time": "2023-01-02T06:51:17.542463Z"
    }
   },
   "outputs": [
    {
     "name": "stdout",
     "output_type": "stream",
     "text": [
      "1. abcde\n",
      "2. 가나다라\n",
      "3. 12345"
     ]
    }
   ],
   "source": [
    "# readlines()\n",
    "fr = open(read_path, mode='rt', encoding='utf-8') \n",
    "txt_list = fr.readlines()\n",
    "# print(txt_list)\n",
    "for idx, txt  in enumerate(txt_list, start=1):\n",
    "    print(f\"{idx}. {txt}\", end='')\n",
    "fr.close()"
   ]
  },
  {
   "cell_type": "code",
   "execution_count": 70,
   "metadata": {
    "ExecuteTime": {
     "end_time": "2023-01-02T06:54:02.410687Z",
     "start_time": "2023-01-02T06:54:02.399044Z"
    }
   },
   "outputs": [
    {
     "name": "stdout",
     "output_type": "stream",
     "text": [
      "0-abcde\n",
      "1-가나다라\n",
      "2-12345"
     ]
    }
   ],
   "source": [
    "fr = open(read_path, mode='rt', encoding='utf-8') \n",
    "# read모드의 InputStream 객체는 Iterable 타입 => for in 문에서 사용가능 => 한번 반복시마다 한줄씩 반환.\n",
    "for line_num, txt in enumerate(fr):\n",
    "    print(f'{line_num}-{txt}', end='')\n",
    "fr.close()"
   ]
  },
  {
   "cell_type": "code",
   "execution_count": null,
   "metadata": {
    "slideshow": {
     "slide_type": "fragment"
    }
   },
   "outputs": [],
   "source": []
  },
  {
   "cell_type": "markdown",
   "metadata": {
    "slideshow": {
     "slide_type": "slide"
    }
   },
   "source": [
    "## with block\n",
    "\n",
    "파일과 입출력 작업이 다 끝나면 반드시 연결을 닫아야 한다. 매번 연결을 닫는 작업을 하는 것이 번거롭고 실수로 안 닫을 경우 문제가 생길 수 있다. **with block은 block을 벗어나면 자동으로 연결을 닫아 준다.** 그래서 연결을 닫는 코드를 생략할 수 있다.\n",
    "\n",
    "- 구문\n",
    "```python\n",
    "with open() as 변수: # `변수`는 open()이 반환하는 Stream객체를 참조한다.\n",
    "    입출력 작업      # 변수를 이용해 입출력 작업을 처리한다.\n",
    "# with block을 빠져 나오면 close()가 자동으로 실행된다.\n",
    "```"
   ]
  },
  {
   "cell_type": "code",
   "execution_count": null,
   "metadata": {
    "slideshow": {
     "slide_type": "fragment"
    }
   },
   "outputs": [],
   "source": [
    "변수 = open(대상파일, 모드)\n",
    "with open(대상파일, 모드) as 변수:\n",
    "    변수를 이용해서 입출력\n",
    "    블록\n",
    "    블록\n",
    "with블록 빠져나오면 => close()  자동으로 처리"
   ]
  },
  {
   "cell_type": "code",
   "execution_count": 72,
   "metadata": {
    "ExecuteTime": {
     "end_time": "2023-01-02T07:26:30.755464Z",
     "start_time": "2023-01-02T07:26:30.742967Z"
    }
   },
   "outputs": [
    {
     "name": "stdout",
     "output_type": "stream",
     "text": [
      "종료-with block 밖\n",
      "True\n"
     ]
    }
   ],
   "source": [
    "write_path = 'file_data/my_text.txt'\n",
    "with open(write_path, 'wt', encoding='utf-8') as fw:\n",
    "    fw.write('A')\n",
    "    fw.write('B\\n')\n",
    "    fw.write('3\\n')\n",
    "#     fw.close()\n",
    "print('종료-with block 밖')\n",
    "print(fw.closed)"
   ]
  },
  {
   "cell_type": "code",
   "execution_count": 78,
   "metadata": {
    "ExecuteTime": {
     "end_time": "2023-01-02T07:44:27.722558Z",
     "start_time": "2023-01-02T07:44:27.711541Z"
    }
   },
   "outputs": [
    {
     "name": "stdout",
     "output_type": "stream",
     "text": [
      "AB\n",
      "3\n",
      "\n",
      "<class '_io.TextIOWrapper'>\n",
      "종료 True\n"
     ]
    }
   ],
   "source": [
    "with open(write_path, 'rt', encoding='utf-8') as fr:\n",
    "    print(fr.read())\n",
    "print(type(fr))    \n",
    "print('종료', fr.closed)"
   ]
  },
  {
   "cell_type": "code",
   "execution_count": 74,
   "metadata": {
    "ExecuteTime": {
     "end_time": "2023-01-02T07:41:58.090129Z",
     "start_time": "2023-01-02T07:41:58.072933Z"
    }
   },
   "outputs": [],
   "source": [
    "# binary data를 I/O\n",
    "# copy\n",
    "def copy_file(src:str, target:str):\n",
    "    \"\"\"\n",
    "    src경로의 파일을 target경로로 카피\n",
    "    \"\"\"\n",
    "    # InputStream-src, OutputStream-target\n",
    "    # 1. 연결\n",
    "    fr = open(src, mode='rb')\n",
    "    fw = open(target, mode='wb')\n",
    "    # 2. I/O\n",
    "    r_data = fr.read() # 읽기\n",
    "    fw.write(r_data)   # 출력\n",
    "    print(type(fr), type(fw))\n",
    "    print(type(r_data))\n",
    "    # 3. close\n",
    "    fr.close()\n",
    "    fw.close()"
   ]
  },
  {
   "cell_type": "code",
   "execution_count": 77,
   "metadata": {
    "ExecuteTime": {
     "end_time": "2023-01-02T07:43:33.574703Z",
     "start_time": "2023-01-02T07:43:33.566011Z"
    }
   },
   "outputs": [
    {
     "name": "stdout",
     "output_type": "stream",
     "text": [
      "<class '_io.BufferedReader'> <class '_io.BufferedWriter'>\n",
      "<class 'bytes'>\n"
     ]
    }
   ],
   "source": [
    "import os\n",
    "src = os.path.join('file_data', 'img.png')\n",
    "target = os.path.join('file_data', 'img2.png')\n",
    "# print(type(src))\n",
    "# print(src, target)\n",
    "copy_file(src, target)"
   ]
  },
  {
   "cell_type": "code",
   "execution_count": 79,
   "metadata": {
    "ExecuteTime": {
     "end_time": "2023-01-02T07:47:09.229510Z",
     "start_time": "2023-01-02T07:47:09.211123Z"
    }
   },
   "outputs": [
    {
     "name": "stdout",
     "output_type": "stream",
     "text": [
      "10\n"
     ]
    }
   ],
   "source": [
    "i = 10\n",
    "print(i)# 정수 i를 문자열(str)로 변환해서 출력"
   ]
  },
  {
   "cell_type": "code",
   "execution_count": 81,
   "metadata": {
    "ExecuteTime": {
     "end_time": "2023-01-02T07:49:46.645326Z",
     "start_time": "2023-01-02T07:49:46.639135Z"
    }
   },
   "outputs": [],
   "source": [
    "with open('a.txt', 'wt') as fw:\n",
    "#     fw.write(i)  # t모드->text를 출력->str\n",
    "    fw.write(str(i))\n"
   ]
  },
  {
   "cell_type": "code",
   "execution_count": 84,
   "metadata": {
    "ExecuteTime": {
     "end_time": "2023-01-02T07:50:55.070414Z",
     "start_time": "2023-01-02T07:50:55.053349Z"
    },
    "scrolled": true
   },
   "outputs": [
    {
     "name": "stdout",
     "output_type": "stream",
     "text": [
      "30\n"
     ]
    }
   ],
   "source": [
    "with open('a.txt', 'rt') as fr:\n",
    "    a = fr.read()\n",
    "    print(int(a) + 20) # a: str"
   ]
  },
  {
   "cell_type": "code",
   "execution_count": 44,
   "metadata": {
    "ExecuteTime": {
     "end_time": "2023-01-03T02:27:23.110656Z",
     "start_time": "2023-01-03T02:27:23.105368Z"
    }
   },
   "outputs": [
    {
     "data": {
      "text/plain": [
       "bytes"
      ]
     },
     "execution_count": 44,
     "metadata": {},
     "output_type": "execute_result"
    }
   ],
   "source": [
    "a='abc'\n",
    "type(a.encode('utf-8'))"
   ]
  },
  {
   "cell_type": "code",
   "execution_count": 40,
   "metadata": {
    "ExecuteTime": {
     "end_time": "2023-01-03T02:24:32.382039Z",
     "start_time": "2023-01-03T02:24:32.362966Z"
    }
   },
   "outputs": [],
   "source": [
    "try:\n",
    "    f = open('a.dat', 'wb')\n",
    "    f.write(\"aaa\") #binary 모드 => bytes타입만 출력\n",
    "finally:\n",
    "    f.close()"
   ]
  },
  {
   "cell_type": "code",
   "execution_count": 41,
   "metadata": {
    "ExecuteTime": {
     "end_time": "2023-01-03T02:25:30.665518Z",
     "start_time": "2023-01-03T02:25:30.650989Z"
    }
   },
   "outputs": [
    {
     "name": "stdout",
     "output_type": "stream",
     "text": [
      "<class 'bytes'>\n"
     ]
    }
   ],
   "source": [
    "i = -10\n",
    "# int i의 값(10)을 출력 -> binary 모드로 출력 -> bytes 타입을 변환해서 출력 \n",
    "i_bytes = i.to_bytes(1, byteorder='little', signed=True)\n",
    "print(type(i_bytes))\n",
    "# 1: 크기 - 1byte 크기로 변환, byteorder: little, big\n",
    "with open('file_data/int.dat', 'wb') as fw:\n",
    "    fw.write(i_bytes)"
   ]
  },
  {
   "cell_type": "code",
   "execution_count": 42,
   "metadata": {
    "ExecuteTime": {
     "end_time": "2023-01-03T02:25:53.943060Z",
     "start_time": "2023-01-03T02:25:53.923556Z"
    }
   },
   "outputs": [
    {
     "name": "stdout",
     "output_type": "stream",
     "text": [
      "<class 'bytes'>\n",
      "90\n"
     ]
    }
   ],
   "source": [
    "with open('file_data/int.dat', 'rb') as fr:\n",
    "    r_data = fr.read()\n",
    "    print(type(r_data))\n",
    "#     print(r_data)\n",
    "#     bytes로 읽은 것을 int로 변환\n",
    "    i = int.from_bytes(r_data, byteorder='little', signed=True)\n",
    "    print(i + 100)"
   ]
  },
  {
   "cell_type": "code",
   "execution_count": 2,
   "metadata": {
    "ExecuteTime": {
     "end_time": "2023-01-04T00:13:05.040356Z",
     "start_time": "2023-01-04T00:13:05.028150Z"
    }
   },
   "outputs": [
    {
     "name": "stdout",
     "output_type": "stream",
     "text": [
      "홍길동, 20, 서울시 서초구 방배동 효령길 123\n"
     ]
    }
   ],
   "source": [
    "class Person:\n",
    "    \n",
    "    def __init__(self, name, age, address):\n",
    "        self.name = name\n",
    "        self.age = age\n",
    "        self.address = address\n",
    "    def __str__(self):\n",
    "        return f'{self.name}, {self.age}, {self.address}'\n",
    "    \n",
    "p = Person('홍길동', 20, '서울시 서초구 방배동 효령길 123')\n",
    "info = str(p)\n",
    "print(info)"
   ]
  },
  {
   "cell_type": "code",
   "execution_count": 3,
   "metadata": {
    "ExecuteTime": {
     "end_time": "2023-01-04T00:17:13.519301Z",
     "start_time": "2023-01-04T00:17:13.498489Z"
    }
   },
   "outputs": [],
   "source": [
    "import pickle\n",
    "\n",
    "with open('person.pkl', 'wb') as fw:\n",
    "    pickle.dump(p, fw)"
   ]
  },
  {
   "cell_type": "code",
   "execution_count": 5,
   "metadata": {
    "ExecuteTime": {
     "end_time": "2023-01-04T00:18:05.486153Z",
     "start_time": "2023-01-04T00:18:05.468868Z"
    }
   },
   "outputs": [
    {
     "name": "stdout",
     "output_type": "stream",
     "text": [
      "홍길동, 20, 서울시 서초구 방배동 효령길 123\n"
     ]
    },
    {
     "data": {
      "text/plain": [
       "__main__.Person"
      ]
     },
     "execution_count": 5,
     "metadata": {},
     "output_type": "execute_result"
    }
   ],
   "source": [
    "with open('person.pkl', 'rb') as fr:\n",
    "    p2 = pickle.load(fr)\n",
    "    \n",
    "print(p2)\n",
    "type(p2)"
   ]
  },
  {
   "cell_type": "markdown",
   "metadata": {
    "slideshow": {
     "slide_type": "slide"
    }
   },
   "source": [
    "# pickle 모듈을 이용한 객체 직렬화\n",
    "\n",
    "## 객체 직렬화(Object Serialization)\n",
    "- 객체의 속성값들을 bytes로 변환해 출력하는 것을 객체 직렬화(Object Serialization) 이라고 한다.\n",
    "- bytes로 출력된 데이터를 읽어 객체화 하는 것을 객체 역직렬화(Object Deserialization) 이라고 한다."
   ]
  },
  {
   "cell_type": "markdown",
   "metadata": {
    "slideshow": {
     "slide_type": "fragment"
    }
   },
   "source": [
    "### pickle\n",
    "- 객체 파일 입출력을 위한 파이썬 모듈\n",
    "- open() 시 **binary mode**로 설정한다.\n",
    "- 저장시 파일 확장자는 보통 `pkl` 이나 `pickle` 로 한다.\n",
    "- ex)\n",
    "```python\n",
    "fw = open(\"data.pkl\", \"wb\") # 객체를 pickle에 저장하기 위한 output stream 생성\n",
    "fr = open(\"data.pkl\", \"rb\") # 파일에 저장된 객체를 읽어오기 위한 input stream 생성\n",
    "```\n",
    "- **메소드**\n",
    "    - dump(저장할 객체, fw) : 출력\n",
    "    - load(fr): 입력 - 읽은 객체를 반환한다."
   ]
  },
  {
   "cell_type": "code",
   "execution_count": 45,
   "metadata": {
    "ExecuteTime": {
     "end_time": "2023-01-03T02:42:09.896101Z",
     "start_time": "2023-01-03T02:42:09.876626Z"
    }
   },
   "outputs": [],
   "source": [
    "import pickle\n",
    "\n",
    "num = 10\n",
    "with open('int_data.pkl', 'wb') as fw: # pickle 적용-> binary 모드로 설정.\n",
    "#      출력: dump(값, output stream)\n",
    "    pickle.dump(num, fw)"
   ]
  },
  {
   "cell_type": "code",
   "execution_count": 47,
   "metadata": {
    "ExecuteTime": {
     "end_time": "2023-01-03T02:45:05.630599Z",
     "start_time": "2023-01-03T02:45:05.619654Z"
    }
   },
   "outputs": [
    {
     "name": "stdout",
     "output_type": "stream",
     "text": [
      "<class 'int'>\n",
      "10\n"
     ]
    }
   ],
   "source": [
    "with open('int_data.pkl', 'rb') as fr:\n",
    "#     입력: load(input stream)\n",
    "    num2 = pickle.load(fr)\n",
    "    print(type(num2))\n",
    "    print(num2)"
   ]
  },
  {
   "cell_type": "code",
   "execution_count": 48,
   "metadata": {
    "ExecuteTime": {
     "end_time": "2023-01-03T02:47:15.274741Z",
     "start_time": "2023-01-03T02:47:15.241900Z"
    }
   },
   "outputs": [],
   "source": [
    "data = {\n",
    "    \"이름\":\"홍길동\", \n",
    "    \"나이\":num,\n",
    "    \"취미\":['a','b','c','d'],\n",
    "    \"기혼\":False,\n",
    "    \"키\":185.6\n",
    "}\n",
    "with open('data.pkl', 'wb') as fw:\n",
    "    pickle.dump(data, fw)"
   ]
  },
  {
   "cell_type": "code",
   "execution_count": 51,
   "metadata": {
    "ExecuteTime": {
     "end_time": "2023-01-03T02:49:13.760506Z",
     "start_time": "2023-01-03T02:49:13.747189Z"
    }
   },
   "outputs": [
    {
     "name": "stdout",
     "output_type": "stream",
     "text": [
      "<class 'dict'>\n",
      "{'이름': '홍길동', '나이': 10, '취미': ['a', 'b', 'c', 'd'], '기혼': False, '키': 185.6}\n",
      "<class 'str'>\n",
      "<class 'int'>\n",
      "<class 'list'>\n",
      "<class 'bool'>\n",
      "<class 'float'>\n"
     ]
    }
   ],
   "source": [
    "with open('data.pkl', 'rb') as fr:\n",
    "    new_data = pickle.load(fr)\n",
    "    print(type(new_data))\n",
    "    print(new_data)\n",
    "    print(type(new_data['이름']))\n",
    "    print(type(new_data['나이']))\n",
    "    print(type(new_data['취미']))\n",
    "    print(type(new_data['기혼']))\n",
    "    print(type(new_data['키']))"
   ]
  },
  {
   "cell_type": "code",
   "execution_count": null,
   "metadata": {},
   "outputs": [],
   "source": []
  },
  {
   "cell_type": "markdown",
   "metadata": {
    "slideshow": {
     "slide_type": "skip"
    }
   },
   "source": [
    "# TODO"
   ]
  },
  {
   "cell_type": "markdown",
   "metadata": {
    "slideshow": {
     "slide_type": "skip"
    }
   },
   "source": [
    "- 간단한 터미널 기반 메모장\n",
    "    1. 사용자로부터 파일명을 입력받는다.\n",
    "    2. 사용자로부터 파일에 저장할 문장을 입력받아서 파일에 저장한다.\n",
    "        - 한줄씩 입력받는다.\n",
    "        - 사용자가 !q 를 입력하면 저장후 종료한다.\n",
    "    3. 사용자가 저장한 파일을 읽어서 출력한다.\n"
   ]
  },
  {
   "cell_type": "code",
   "execution_count": null,
   "metadata": {},
   "outputs": [],
   "source": []
  },
  {
   "cell_type": "code",
   "execution_count": null,
   "metadata": {},
   "outputs": [],
   "source": []
  },
  {
   "cell_type": "code",
   "execution_count": 9,
   "metadata": {
    "ExecuteTime": {
     "end_time": "2023-01-03T00:53:49.920610Z",
     "start_time": "2023-01-03T00:53:33.827048Z"
    },
    "collapsed": true
   },
   "outputs": [
    {
     "name": "stdout",
     "output_type": "stream",
     "text": [
      "저장할 파일명을 입력하세요.\n",
      "파일명: aaaa.txt\n",
      "aaaa.txt에 저장합니다.\n",
      "==================================\n",
      "저장할 내용을 입력하세요.\n",
      "==============================\n",
      ">a\n",
      ">a\n",
      ">a\n",
      ">a\n",
      ">aads\n",
      ">fasd\n",
      ">fa\n",
      ">df\n",
      ">asdf\n",
      ">asd\n",
      ">fasd\n",
      ">ㅁㄴㅇㄹ\n",
      ">ㅁㄴㅇㄹ\n",
      ">ㅁㄴㅇㄹ\n",
      ">ㅁㄴㅇㄹ\n",
      ">ㅁㄴㅇㄹ\n",
      ">ㄴㅇㄻ\n",
      ">ㅁㄴㅇㄹ\n",
      ">ㅇㅁㄴㄹ\n",
      ">!q\n",
      "종료\n"
     ]
    }
   ],
   "source": [
    "print(\"저장할 파일명을 입력하세요.\")\n",
    "\n",
    "file_name = input(\"파일명: \")\n",
    "print(f\"{file_name}에 저장합니다.\")\n",
    "print(\"==================================\")\n",
    "with open(file_name, 'wt', encoding='utf-8') as fw:\n",
    "    print(\"저장할 내용을 입력하세요.\")\n",
    "    print('='*30)\n",
    "    while True:\n",
    "        line_txt = input('>')\n",
    "        if line_txt == \"!q\":\n",
    "            break\n",
    "        fw.write(line_txt+\"\\n\")\n",
    "print('종료')"
   ]
  },
  {
   "cell_type": "code",
   "execution_count": 12,
   "metadata": {
    "ExecuteTime": {
     "end_time": "2023-01-03T00:56:53.226635Z",
     "start_time": "2023-01-03T00:56:53.213386Z"
    }
   },
   "outputs": [
    {
     "name": "stdout",
     "output_type": "stream",
     "text": [
      "Writing my_memo.py\n"
     ]
    }
   ],
   "source": [
    "%%writefile my_memo.py\n",
    "# 주피터 노트북 명령어 (매직커맨드)\n",
    "# %%writefile 파일명  -> 실행하면 cell의 내용을 파일에 출력\n",
    "def memo():\n",
    "    print(\"저장할 파일명을 입력하세요.\")\n",
    "\n",
    "    file_name = input(\"파일명: \")\n",
    "    print(f\"{file_name}에 저장합니다.\")\n",
    "    print(\"==================================\")\n",
    "    with open(file_name, 'wt', encoding='utf-8') as fw:\n",
    "        print(\"저장할 내용을 입력하세요.\")\n",
    "        print('='*30)\n",
    "        while True:\n",
    "            line_txt = input('>')\n",
    "            if line_txt == \"!q\":\n",
    "                break\n",
    "            fw.write(line_txt+\"\\n\")\n",
    "    print('종료')"
   ]
  },
  {
   "cell_type": "code",
   "execution_count": 11,
   "metadata": {
    "ExecuteTime": {
     "end_time": "2023-01-03T00:54:54.570221Z",
     "start_time": "2023-01-03T00:54:47.276358Z"
    }
   },
   "outputs": [
    {
     "name": "stdout",
     "output_type": "stream",
     "text": [
      "저장할 파일명을 입력하세요.\n",
      "파일명: abbbb.txt\n",
      "abbbb.txt에 저장합니다.\n",
      "==================================\n",
      "저장할 내용을 입력하세요.\n",
      "==============================\n",
      ">a\n",
      ">b\n",
      ">!q\n",
      "종료\n"
     ]
    }
   ],
   "source": [
    "memo()"
   ]
  },
  {
   "cell_type": "code",
   "execution_count": 17,
   "metadata": {
    "ExecuteTime": {
     "end_time": "2023-01-03T01:00:37.346051Z",
     "start_time": "2023-01-03T01:00:37.325878Z"
    }
   },
   "outputs": [
    {
     "name": "stdout",
     "output_type": "stream",
     "text": [
      "Overwriting my_memo.py\n"
     ]
    }
   ],
   "source": [
    "%%writefile my_memo.py\n",
    "%load my_memo.py"
   ]
  },
  {
   "cell_type": "code",
   "execution_count": 18,
   "metadata": {
    "ExecuteTime": {
     "end_time": "2023-01-03T01:01:46.633584Z",
     "start_time": "2023-01-03T01:01:35.093641Z"
    }
   },
   "outputs": [
    {
     "name": "stdout",
     "output_type": "stream",
     "text": [
      "저장할 파일명을 입력하세요.=------\n",
      "파일명: b.txt\n",
      "b.txt에 저장합니다.\n",
      "==================================\n",
      "저장할 내용을 입력하세요.\n",
      "==============================\n",
      ">a\n",
      ">!q\n",
      "종료\n"
     ]
    }
   ],
   "source": [
    "from my_memo import memo\n",
    "memo()"
   ]
  },
  {
   "cell_type": "markdown",
   "metadata": {
    "slideshow": {
     "slide_type": "skip"
    }
   },
   "source": [
    "- member.csv 파일을 읽어서 각 열의 값을 배열에 담는다.    \n",
    "이름,나이,주소  형태의 csv를 읽어    \n",
    "```python\n",
    "names = []\n",
    "ages =[]\n",
    "address =[]    \n",
    "```\n",
    "배열에 넣는다. \n",
    "    - 단 첫줄은 head이므로 읽지 않는다.\n",
    "    - 참고 함수: 문자열 split(), for문 관련 enumerate()\n",
    "\n"
   ]
  },
  {
   "cell_type": "code",
   "execution_count": 28,
   "metadata": {
    "ExecuteTime": {
     "end_time": "2023-01-03T02:13:20.364682Z",
     "start_time": "2023-01-03T02:13:20.348089Z"
    }
   },
   "outputs": [],
   "source": [
    "# 값들을 넣을 리스트를 생성\n",
    "names = []\n",
    "ages = []\n",
    "addresses = []\n",
    "\n",
    "# member.csv(text) 와 입력 연결\n",
    "with open('member.csv', 'rt', encoding='utf-8') as fr:\n",
    "    cnt = 0\n",
    "    for idx, line_txt in enumerate(fr):\n",
    "        if idx == 0: # 첫번째 줄일 경우\n",
    "            continue # 다음반복, 다음 원소를 처리해라\n",
    "        name, age, address = line_txt.strip().split(',')   #strip() 엔터 제거, split()은 각 항목을 나누기\n",
    "        names.append(name)\n",
    "        ages.append(age)\n",
    "        addresses.append(address)   "
   ]
  },
  {
   "cell_type": "code",
   "execution_count": 29,
   "metadata": {
    "ExecuteTime": {
     "end_time": "2023-01-03T02:13:20.738434Z",
     "start_time": "2023-01-03T02:13:20.721279Z"
    }
   },
   "outputs": [
    {
     "name": "stdout",
     "output_type": "stream",
     "text": [
      "['홍길동', '김영수', '박영희', '이순신', '유관순']\n",
      "['20', '30', '23', '17', '27']\n",
      "['서울', '인천', '부산', '서울', '광주']\n"
     ]
    }
   ],
   "source": [
    "# 열단위 조회\n",
    "print(names)\n",
    "print(ages)\n",
    "print(addresses)"
   ]
  },
  {
   "cell_type": "code",
   "execution_count": 30,
   "metadata": {
    "ExecuteTime": {
     "end_time": "2023-01-03T02:13:58.340637Z",
     "start_time": "2023-01-03T02:13:58.323562Z"
    }
   },
   "outputs": [
    {
     "name": "stdout",
     "output_type": "stream",
     "text": [
      "('홍길동', '20', '서울')\n",
      "('김영수', '30', '인천')\n",
      "('박영희', '23', '부산')\n",
      "('이순신', '17', '서울')\n",
      "('유관순', '27', '광주')\n"
     ]
    }
   ],
   "source": [
    "# 행단위 조회\n",
    "for info in zip(names, ages, addresses):\n",
    "    print(info)"
   ]
  },
  {
   "cell_type": "code",
   "execution_count": 31,
   "metadata": {
    "ExecuteTime": {
     "end_time": "2023-01-03T02:16:34.515192Z",
     "start_time": "2023-01-03T02:16:33.794464Z"
    }
   },
   "outputs": [
    {
     "data": {
      "text/html": [
       "<div>\n",
       "<style scoped>\n",
       "    .dataframe tbody tr th:only-of-type {\n",
       "        vertical-align: middle;\n",
       "    }\n",
       "\n",
       "    .dataframe tbody tr th {\n",
       "        vertical-align: top;\n",
       "    }\n",
       "\n",
       "    .dataframe thead th {\n",
       "        text-align: right;\n",
       "    }\n",
       "</style>\n",
       "<table border=\"1\" class=\"dataframe\">\n",
       "  <thead>\n",
       "    <tr style=\"text-align: right;\">\n",
       "      <th></th>\n",
       "      <th>이름</th>\n",
       "      <th>나이</th>\n",
       "      <th>주소</th>\n",
       "    </tr>\n",
       "  </thead>\n",
       "  <tbody>\n",
       "    <tr>\n",
       "      <th>0</th>\n",
       "      <td>홍길동</td>\n",
       "      <td>20</td>\n",
       "      <td>서울</td>\n",
       "    </tr>\n",
       "    <tr>\n",
       "      <th>1</th>\n",
       "      <td>김영수</td>\n",
       "      <td>30</td>\n",
       "      <td>인천</td>\n",
       "    </tr>\n",
       "    <tr>\n",
       "      <th>2</th>\n",
       "      <td>박영희</td>\n",
       "      <td>23</td>\n",
       "      <td>부산</td>\n",
       "    </tr>\n",
       "    <tr>\n",
       "      <th>3</th>\n",
       "      <td>이순신</td>\n",
       "      <td>17</td>\n",
       "      <td>서울</td>\n",
       "    </tr>\n",
       "    <tr>\n",
       "      <th>4</th>\n",
       "      <td>유관순</td>\n",
       "      <td>27</td>\n",
       "      <td>광주</td>\n",
       "    </tr>\n",
       "  </tbody>\n",
       "</table>\n",
       "</div>"
      ],
      "text/plain": [
       "    이름  나이  주소\n",
       "0  홍길동  20  서울\n",
       "1  김영수  30  인천\n",
       "2  박영희  23  부산\n",
       "3  이순신  17  서울\n",
       "4  유관순  27  광주"
      ]
     },
     "execution_count": 31,
     "metadata": {},
     "output_type": "execute_result"
    }
   ],
   "source": [
    "import pandas as pd\n",
    "\n",
    "member = pd.read_csv('member.csv')\n",
    "member"
   ]
  },
  {
   "cell_type": "code",
   "execution_count": 32,
   "metadata": {
    "ExecuteTime": {
     "end_time": "2023-01-03T02:17:12.340997Z",
     "start_time": "2023-01-03T02:17:12.324922Z"
    },
    "collapsed": true
   },
   "outputs": [
    {
     "data": {
      "text/plain": [
       "0    홍길동\n",
       "1    김영수\n",
       "2    박영희\n",
       "3    이순신\n",
       "4    유관순\n",
       "Name: 이름, dtype: object"
      ]
     },
     "execution_count": 32,
     "metadata": {},
     "output_type": "execute_result"
    }
   ],
   "source": [
    "member['이름']"
   ]
  },
  {
   "cell_type": "code",
   "execution_count": 33,
   "metadata": {
    "ExecuteTime": {
     "end_time": "2023-01-03T02:17:27.166274Z",
     "start_time": "2023-01-03T02:17:27.146949Z"
    }
   },
   "outputs": [
    {
     "data": {
      "text/plain": [
       "이름    박영희\n",
       "나이     23\n",
       "주소     부산\n",
       "Name: 2, dtype: object"
      ]
     },
     "execution_count": 33,
     "metadata": {},
     "output_type": "execute_result"
    }
   ],
   "source": [
    "member.iloc[2]"
   ]
  },
  {
   "cell_type": "code",
   "execution_count": null,
   "metadata": {},
   "outputs": [],
   "source": []
  },
  {
   "cell_type": "code",
   "execution_count": null,
   "metadata": {},
   "outputs": [],
   "source": []
  },
  {
   "cell_type": "code",
   "execution_count": null,
   "metadata": {},
   "outputs": [],
   "source": []
  },
  {
   "cell_type": "markdown",
   "metadata": {
    "slideshow": {
     "slide_type": "skip"
    }
   },
   "source": [
    "> **CSV (Comma Separated Value)** 파일\n",
    "> - 데이터들을 정형화(표)된 형태로 텍스트파일에 저장하는 방식\n",
    "> - 하나의 데이터는 한줄에 표시. (데이터 구분자는 엔터)\n",
    "> - 하나의 데이터를 구성하는 값들(속성)들은 , 로 구분\n",
    ">     - tab으로 구분하는 경우 TSV \n",
    ">     - 각 속성값들은 \" \" 로 감싸기도 한다.\n",
    "> - 텍스트기반\n",
    "> - 파일 확장자는 `.csv`, `.tsv` 로 준다."
   ]
  }
 ],
 "metadata": {
  "kernelspec": {
   "display_name": "Python 3 (ipykernel)",
   "language": "python",
   "name": "python3"
  },
  "language_info": {
   "codemirror_mode": {
    "name": "ipython",
    "version": 3
   },
   "file_extension": ".py",
   "mimetype": "text/x-python",
   "name": "python",
   "nbconvert_exporter": "python",
   "pygments_lexer": "ipython3",
   "version": "3.9.13"
  },
  "toc": {
   "base_numbering": 1,
   "nav_menu": {},
   "number_sections": true,
   "sideBar": true,
   "skip_h1_title": false,
   "title_cell": "Table of Contents",
   "title_sidebar": "Contents",
   "toc_cell": false,
   "toc_position": {},
   "toc_section_display": true,
   "toc_window_display": false
  },
  "varInspector": {
   "cols": {
    "lenName": 16,
    "lenType": 16,
    "lenVar": 40
   },
   "kernels_config": {
    "python": {
     "delete_cmd_postfix": "",
     "delete_cmd_prefix": "del ",
     "library": "var_list.py",
     "varRefreshCmd": "print(var_dic_list())"
    },
    "r": {
     "delete_cmd_postfix": ") ",
     "delete_cmd_prefix": "rm(",
     "library": "var_list.r",
     "varRefreshCmd": "cat(var_dic_list()) "
    }
   },
   "types_to_exclude": [
    "module",
    "function",
    "builtin_function_or_method",
    "instance",
    "_Feature"
   ],
   "window_display": false
  }
 },
 "nbformat": 4,
 "nbformat_minor": 4
}
