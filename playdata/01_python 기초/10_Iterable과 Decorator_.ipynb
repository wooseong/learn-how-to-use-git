{
 "cells": [
  {
   "cell_type": "markdown",
   "id": "562c702d",
   "metadata": {
    "slideshow": {
     "slide_type": "slide"
    }
   },
   "source": [
    "# Iterator\n",
    "\n",
    "- **Iterable**\n",
    "    - 여러개의 데이터를 하나씩 또는 한 단위씩 제공하는 객체.\n",
    "    - Iterator객체를 반환하는 `__iter__()` 특수 메소드를 정의해야 한다.\n",
    "        - `__iter__()`는 `iter(Iterable)` 내장함수에 의해 호출된다. \n",
    "- **Iterator**\n",
    "    - 자신을 생성한 Iterable의 값들을 하나씩 또는 한 단위씩 제공하는 객체\n",
    "    - Iterable의 값을 제공하는 `__next__()` 특수 메소드를 정의한다.\n",
    "        - `__next__()` 는 `next(Iterator)` 내정함수에 의해 호출된다.\n",
    "        - 더 이상 제공할 값이 없을 경우 **StopIteration** Exception을 발생시켜야 한다."
   ]
  },
  {
   "cell_type": "code",
   "execution_count": null,
   "id": "d22d4dae",
   "metadata": {},
   "outputs": [],
   "source": [
    "# list -> Iterable 타입\n",
    "# list_iterator -> list의 iterable"
   ]
  },
  {
   "cell_type": "code",
   "execution_count": 2,
   "id": "9ef7314c",
   "metadata": {
    "ExecuteTime": {
     "end_time": "2023-01-03T03:29:33.093968Z",
     "start_time": "2023-01-03T03:29:33.073380Z"
    }
   },
   "outputs": [
    {
     "name": "stdout",
     "output_type": "stream",
     "text": [
      "<class 'list_iterator'>\n"
     ]
    }
   ],
   "source": [
    "l = [1,2,3] # iterable\n",
    "l_iterator = iter(l)  # iterator를 조회 -> 리스트가 가진 값들을 하나씩 제공해주는 역할. l.__iter__()\n",
    "print(type(l_iterator))"
   ]
  },
  {
   "cell_type": "code",
   "execution_count": 3,
   "id": "212f5514",
   "metadata": {
    "ExecuteTime": {
     "end_time": "2023-01-03T03:30:59.023735Z",
     "start_time": "2023-01-03T03:30:59.014297Z"
    }
   },
   "outputs": [
    {
     "name": "stdout",
     "output_type": "stream",
     "text": [
      "1\n"
     ]
    }
   ],
   "source": [
    "# 리스트 원소들을 list iterator를 이용해서 하나씩 조회\n",
    "print(next(l_iterator))  #l_iterator.__next__()"
   ]
  },
  {
   "cell_type": "code",
   "execution_count": 4,
   "id": "b406efc9",
   "metadata": {
    "ExecuteTime": {
     "end_time": "2023-01-03T03:31:13.335434Z",
     "start_time": "2023-01-03T03:31:13.327536Z"
    }
   },
   "outputs": [
    {
     "name": "stdout",
     "output_type": "stream",
     "text": [
      "2\n"
     ]
    }
   ],
   "source": [
    "print(next(l_iterator)) "
   ]
  },
  {
   "cell_type": "code",
   "execution_count": 5,
   "id": "92829f99",
   "metadata": {
    "ExecuteTime": {
     "end_time": "2023-01-03T03:31:19.383327Z",
     "start_time": "2023-01-03T03:31:19.367815Z"
    }
   },
   "outputs": [
    {
     "name": "stdout",
     "output_type": "stream",
     "text": [
      "3\n"
     ]
    }
   ],
   "source": [
    "print(next(l_iterator)) "
   ]
  },
  {
   "cell_type": "code",
   "execution_count": 6,
   "id": "fe38993a",
   "metadata": {
    "ExecuteTime": {
     "end_time": "2023-01-03T03:31:26.868287Z",
     "start_time": "2023-01-03T03:31:26.839914Z"
    },
    "collapsed": true
   },
   "outputs": [
    {
     "ename": "StopIteration",
     "evalue": "",
     "output_type": "error",
     "traceback": [
      "\u001b[1;31m---------------------------------------------------------------------------\u001b[0m",
      "\u001b[1;31mStopIteration\u001b[0m                             Traceback (most recent call last)",
      "\u001b[1;32m~\\AppData\\Local\\Temp\\ipykernel_14904\\1038392182.py\u001b[0m in \u001b[0;36m<module>\u001b[1;34m\u001b[0m\n\u001b[1;32m----> 1\u001b[1;33m \u001b[0mprint\u001b[0m\u001b[1;33m(\u001b[0m\u001b[0mnext\u001b[0m\u001b[1;33m(\u001b[0m\u001b[0ml_iterator\u001b[0m\u001b[1;33m)\u001b[0m\u001b[1;33m)\u001b[0m\u001b[1;33m\u001b[0m\u001b[1;33m\u001b[0m\u001b[0m\n\u001b[0m",
      "\u001b[1;31mStopIteration\u001b[0m: "
     ]
    }
   ],
   "source": [
    "print(next(l_iterator)) "
   ]
  },
  {
   "cell_type": "code",
   "execution_count": 11,
   "id": "7c961ce9",
   "metadata": {
    "ExecuteTime": {
     "end_time": "2023-01-03T03:36:04.235047Z",
     "start_time": "2023-01-03T03:36:04.215927Z"
    }
   },
   "outputs": [],
   "source": [
    "# for in 문을 구현\n",
    "def for_in(iterable):\n",
    "    \"\"\"\n",
    "    iterable의 값을 모두 출력하는 함수 -> for in 문을 구현.\n",
    "    \"\"\"\n",
    "    iterator = iter(iterable)\n",
    "    while True:\n",
    "        try:\n",
    "            v = next(iterator)\n",
    "            print(v)\n",
    "        except StopIteration: # StopIteration 예외가 발생하면 break하고 반복문을 중단.\n",
    "            break"
   ]
  },
  {
   "cell_type": "code",
   "execution_count": 12,
   "id": "282d3e22",
   "metadata": {
    "ExecuteTime": {
     "end_time": "2023-01-03T03:36:04.978640Z",
     "start_time": "2023-01-03T03:36:04.953905Z"
    }
   },
   "outputs": [
    {
     "name": "stdout",
     "output_type": "stream",
     "text": [
      "1\n",
      "2\n",
      "3\n"
     ]
    }
   ],
   "source": [
    "for_in(l)"
   ]
  },
  {
   "cell_type": "code",
   "execution_count": 7,
   "id": "8d3b8b18",
   "metadata": {
    "ExecuteTime": {
     "end_time": "2023-01-03T03:33:19.914566Z",
     "start_time": "2023-01-03T03:33:19.896346Z"
    }
   },
   "outputs": [
    {
     "name": "stdout",
     "output_type": "stream",
     "text": [
      "1\n",
      "2\n",
      "3\n"
     ]
    }
   ],
   "source": [
    "for v in l:\n",
    "    print(v)"
   ]
  },
  {
   "cell_type": "markdown",
   "id": "ad311a49",
   "metadata": {
    "slideshow": {
     "slide_type": "subslide"
    }
   },
   "source": [
    "## for in 문 Iterable의 값을 순환반복하는 과정\n",
    "\n",
    "1. 반복 조회할 iterable객체의 __iter__() 를 호출 하여 Iterator를 구한다.\n",
    "1. 매 반복마다 Iterator의 __next__() 를 호출하여 다음 원소를 조회한다.\n",
    "1. 모든 원소들이 다 제공해 StopIteration Exception이 발생하면 반복문을 멈추고 빠져나온다."
   ]
  },
  {
   "cell_type": "code",
   "execution_count": 18,
   "id": "1e455c59",
   "metadata": {
    "ExecuteTime": {
     "end_time": "2023-01-03T05:32:41.401221Z",
     "start_time": "2023-01-03T05:32:41.390090Z"
    }
   },
   "outputs": [],
   "source": [
    "# Iterable 과 Iterator를 구현\n",
    "# Iterable과 Iterator를 다른 클래스로 구현\n",
    "# Iterable\n",
    "class MyIterable:\n",
    "    \n",
    "    def __init__(self, *args):\n",
    "        \"\"\"\n",
    "        *args: 제공해줄 원소들을 가변인자 받는다.\n",
    "        \"\"\"\n",
    "        self.values = args  # 튜플\n",
    "        \n",
    "    def __str__(self):\n",
    "        \"\"\"제공할 원소들을 가진 튜플을 문자열로 반환.\"\"\"\n",
    "        return str(self.values)\n",
    "    \n",
    "    def __iter__(self):\n",
    "        \"\"\"iterable은 __iter__()를 반드시 재정의 해야한다.\n",
    "        Iterator 객체를 생성해서 반환하도록 처리\"\"\"\n",
    "        return MyIterator(self.values)  # MyIterator가 MyIterable의 values값을 사용할 수 있도록 전달.\n",
    "        "
   ]
  },
  {
   "cell_type": "code",
   "execution_count": 29,
   "id": "e35893bd",
   "metadata": {
    "ExecuteTime": {
     "end_time": "2023-01-03T05:36:57.043225Z",
     "start_time": "2023-01-03T05:36:57.029250Z"
    }
   },
   "outputs": [],
   "source": [
    "class MyIterator:\n",
    "    \n",
    "    def __init__(self, values):\n",
    "        \"\"\"iterator의 initializer()에서 Iterable의 원소들을 받아야 한다. (Iterable객체 또는 그 원소들을 받도록 처리한다.)\"\"\"\n",
    "        self.values = values\n",
    "        self.index = 0 # 몇번째 원소까지 제공했는지 상태를 저장할 attribute\n",
    "    \n",
    "    def __next__(self):\n",
    "        \"\"\"next(iterator) 했을 때  호출된 메소드. 다음 원소를 제공. 제공할 다음 원소가 없으면 StopIteration Exception\n",
    "        발생시킨다.\n",
    "        \"\"\"\n",
    "        # self.values의 값을 하나씩 조회해서 return\n",
    "        if len(self.values) <= self.index:\n",
    "            raise StopIteration()\n",
    "        ret_value = self.values[self.index]\n",
    "        self.index += 1\n",
    "        return ret_value"
   ]
  },
  {
   "cell_type": "code",
   "execution_count": 20,
   "id": "da17f2cb",
   "metadata": {
    "ExecuteTime": {
     "end_time": "2023-01-03T05:33:46.446845Z",
     "start_time": "2023-01-03T05:33:46.429877Z"
    }
   },
   "outputs": [
    {
     "name": "stdout",
     "output_type": "stream",
     "text": [
      "(1, 2, 3, 4)\n"
     ]
    },
    {
     "data": {
      "text/plain": [
       "__main__.MyIterator"
      ]
     },
     "execution_count": 20,
     "metadata": {},
     "output_type": "execute_result"
    }
   ],
   "source": [
    "mi = MyIterable(1,2,3,4)\n",
    "print(mi)\n",
    "# iterable로 부터 iterator를 생성\n",
    "m_iter = iter(mi)\n",
    "type(m_iter)"
   ]
  },
  {
   "cell_type": "code",
   "execution_count": 21,
   "id": "6e796dce",
   "metadata": {
    "ExecuteTime": {
     "end_time": "2023-01-03T05:34:09.236542Z",
     "start_time": "2023-01-03T05:34:09.229341Z"
    }
   },
   "outputs": [
    {
     "data": {
      "text/plain": [
       "1"
      ]
     },
     "execution_count": 21,
     "metadata": {},
     "output_type": "execute_result"
    }
   ],
   "source": [
    "next(m_iter)"
   ]
  },
  {
   "cell_type": "code",
   "execution_count": 22,
   "id": "874e8f7b",
   "metadata": {
    "ExecuteTime": {
     "end_time": "2023-01-03T05:34:25.950552Z",
     "start_time": "2023-01-03T05:34:25.932924Z"
    }
   },
   "outputs": [
    {
     "data": {
      "text/plain": [
       "2"
      ]
     },
     "execution_count": 22,
     "metadata": {},
     "output_type": "execute_result"
    }
   ],
   "source": [
    "m_iter.__next__()"
   ]
  },
  {
   "cell_type": "code",
   "execution_count": 23,
   "id": "0cf1d31d",
   "metadata": {
    "ExecuteTime": {
     "end_time": "2023-01-03T05:34:38.137073Z",
     "start_time": "2023-01-03T05:34:38.117480Z"
    }
   },
   "outputs": [
    {
     "data": {
      "text/plain": [
       "3"
      ]
     },
     "execution_count": 23,
     "metadata": {},
     "output_type": "execute_result"
    }
   ],
   "source": [
    "next(m_iter)"
   ]
  },
  {
   "cell_type": "code",
   "execution_count": 24,
   "id": "48923dd3",
   "metadata": {
    "ExecuteTime": {
     "end_time": "2023-01-03T05:34:40.504788Z",
     "start_time": "2023-01-03T05:34:40.477140Z"
    }
   },
   "outputs": [
    {
     "data": {
      "text/plain": [
       "4"
      ]
     },
     "execution_count": 24,
     "metadata": {},
     "output_type": "execute_result"
    }
   ],
   "source": [
    "next(m_iter)"
   ]
  },
  {
   "cell_type": "code",
   "execution_count": 25,
   "id": "30cdee2a",
   "metadata": {
    "ExecuteTime": {
     "end_time": "2023-01-03T05:34:48.420589Z",
     "start_time": "2023-01-03T05:34:48.388483Z"
    },
    "collapsed": true
   },
   "outputs": [
    {
     "ename": "StopIteration",
     "evalue": "",
     "output_type": "error",
     "traceback": [
      "\u001b[1;31m---------------------------------------------------------------------------\u001b[0m",
      "\u001b[1;31mStopIteration\u001b[0m                             Traceback (most recent call last)",
      "\u001b[1;32m~\\AppData\\Local\\Temp\\ipykernel_14904\\3727571760.py\u001b[0m in \u001b[0;36m<module>\u001b[1;34m\u001b[0m\n\u001b[1;32m----> 1\u001b[1;33m \u001b[0mnext\u001b[0m\u001b[1;33m(\u001b[0m\u001b[0mm_iter\u001b[0m\u001b[1;33m)\u001b[0m\u001b[1;33m\u001b[0m\u001b[1;33m\u001b[0m\u001b[0m\n\u001b[0m",
      "\u001b[1;32m~\\AppData\\Local\\Temp\\ipykernel_14904\\4197907125.py\u001b[0m in \u001b[0;36m__next__\u001b[1;34m(self)\u001b[0m\n\u001b[0;32m     12\u001b[0m         \u001b[1;31m# self.values의 값을 하나씩 조회해서 return\u001b[0m\u001b[1;33m\u001b[0m\u001b[1;33m\u001b[0m\u001b[0m\n\u001b[0;32m     13\u001b[0m         \u001b[1;32mif\u001b[0m \u001b[0mlen\u001b[0m\u001b[1;33m(\u001b[0m\u001b[0mself\u001b[0m\u001b[1;33m.\u001b[0m\u001b[0mvalues\u001b[0m\u001b[1;33m)\u001b[0m \u001b[1;33m<=\u001b[0m \u001b[0mself\u001b[0m\u001b[1;33m.\u001b[0m\u001b[0mindex\u001b[0m\u001b[1;33m:\u001b[0m\u001b[1;33m\u001b[0m\u001b[1;33m\u001b[0m\u001b[0m\n\u001b[1;32m---> 14\u001b[1;33m             \u001b[1;32mraise\u001b[0m \u001b[0mStopIteration\u001b[0m\u001b[1;33m(\u001b[0m\u001b[1;33m)\u001b[0m\u001b[1;33m\u001b[0m\u001b[1;33m\u001b[0m\u001b[0m\n\u001b[0m\u001b[0;32m     15\u001b[0m         \u001b[0mret_value\u001b[0m \u001b[1;33m=\u001b[0m \u001b[0mself\u001b[0m\u001b[1;33m.\u001b[0m\u001b[0mvalues\u001b[0m\u001b[1;33m[\u001b[0m\u001b[0mself\u001b[0m\u001b[1;33m.\u001b[0m\u001b[0mindex\u001b[0m\u001b[1;33m]\u001b[0m\u001b[1;33m\u001b[0m\u001b[1;33m\u001b[0m\u001b[0m\n\u001b[0;32m     16\u001b[0m         \u001b[0mself\u001b[0m\u001b[1;33m.\u001b[0m\u001b[0mindex\u001b[0m \u001b[1;33m+=\u001b[0m \u001b[1;36m1\u001b[0m\u001b[1;33m\u001b[0m\u001b[1;33m\u001b[0m\u001b[0m\n",
      "\u001b[1;31mStopIteration\u001b[0m: "
     ]
    }
   ],
   "source": [
    "next(m_iter)"
   ]
  },
  {
   "cell_type": "code",
   "execution_count": 30,
   "id": "91a2be9f",
   "metadata": {
    "ExecuteTime": {
     "end_time": "2023-01-03T05:36:59.271944Z",
     "start_time": "2023-01-03T05:36:59.261741Z"
    }
   },
   "outputs": [
    {
     "name": "stdout",
     "output_type": "stream",
     "text": [
      "A\n",
      "B\n",
      "C\n"
     ]
    }
   ],
   "source": [
    "for v in MyIterable('A', 'B', 'C'):\n",
    "    print(v)"
   ]
  },
  {
   "cell_type": "code",
   "execution_count": 35,
   "id": "22b46436",
   "metadata": {
    "ExecuteTime": {
     "end_time": "2023-01-03T05:47:40.932882Z",
     "start_time": "2023-01-03T05:47:40.925419Z"
    }
   },
   "outputs": [],
   "source": [
    "# Iterable과 Iterator를 한 클래스에 구현\n",
    "class MyIterable2:\n",
    "    \n",
    "    def __init__(self, *args):\n",
    "        \"\"\"\n",
    "        *args: 제공해줄 원소들을 가변인자 받는다.\n",
    "        \"\"\"\n",
    "        self.values = args  # 튜플\n",
    "        self.index = 0\n",
    "        \n",
    "    def __str__(self):\n",
    "        \"\"\"제공할 원소들을 가진 튜플을 문자열로 반환.\"\"\"\n",
    "        return str(self.values)\n",
    "    \n",
    "    def __iter__(self):\n",
    "        \"\"\"iterable은 __iter__()를 반드시 재정의 해야한다.\n",
    "        Iterator 객체를 생성해서 반환하도록 처리\"\"\"\n",
    "        return self  # MyIterator가 MyIterable의 values값을 사용할 수 있도록 전달.\n",
    "    \n",
    "    def __next__(self):\n",
    "        \"\"\"next(iterator) 했을 때  호출된 메소드. 다음 원소를 제공. 제공할 다음 원소가 없으면 StopIteration Exception\n",
    "        발생시킨다.\n",
    "        \"\"\"\n",
    "        # self.values의 값을 하나씩 조회해서 return\n",
    "        if len(self.values) <= self.index:\n",
    "            raise StopIteration()\n",
    "        ret_value = self.values[self.index]\n",
    "        self.index += 1\n",
    "        return ret_value\n",
    "    \n",
    "    def __getitem__(self, index):\n",
    "        # 객체[index] : self = 객체, index = index\n",
    "        return self.values[index]"
   ]
  },
  {
   "cell_type": "code",
   "execution_count": 32,
   "id": "0117087f",
   "metadata": {
    "ExecuteTime": {
     "end_time": "2023-01-03T05:42:06.223256Z",
     "start_time": "2023-01-03T05:42:06.204834Z"
    },
    "slideshow": {
     "slide_type": "fragment"
    }
   },
   "outputs": [
    {
     "name": "stdout",
     "output_type": "stream",
     "text": [
      "1\t2\t3\t4\t5\t6\t7\t"
     ]
    }
   ],
   "source": [
    "for v in MyIterable2(1,2,3,4,5,6,7):\n",
    "    print(v, end='\\t')"
   ]
  },
  {
   "cell_type": "code",
   "execution_count": 36,
   "id": "f2dd14b0",
   "metadata": {
    "ExecuteTime": {
     "end_time": "2023-01-03T05:47:55.098655Z",
     "start_time": "2023-01-03T05:47:55.091898Z"
    }
   },
   "outputs": [
    {
     "name": "stdout",
     "output_type": "stream",
     "text": [
      "<class '__main__.MyIterable2'>\n",
      "<class '__main__.MyIterable2'>\n"
     ]
    }
   ],
   "source": [
    "mi2 = MyIterable2(1,2,3,4,5)\n",
    "print(type(mi2))\n",
    "m_iter2 = iter(mi2)\n",
    "print(type(m_iter2))"
   ]
  },
  {
   "cell_type": "code",
   "execution_count": 37,
   "id": "dd502c8e",
   "metadata": {
    "ExecuteTime": {
     "end_time": "2023-01-03T05:47:59.412644Z",
     "start_time": "2023-01-03T05:47:59.405705Z"
    }
   },
   "outputs": [
    {
     "data": {
      "text/plain": [
       "1"
      ]
     },
     "execution_count": 37,
     "metadata": {},
     "output_type": "execute_result"
    }
   ],
   "source": [
    "mi2[0]  #indexer 연산자 ==> __getitem__() 재정의. (Iterable에 재정의)"
   ]
  },
  {
   "cell_type": "code",
   "execution_count": 38,
   "id": "27dc6558",
   "metadata": {
    "ExecuteTime": {
     "end_time": "2023-01-03T05:48:05.649739Z",
     "start_time": "2023-01-03T05:48:05.636127Z"
    }
   },
   "outputs": [
    {
     "data": {
      "text/plain": [
       "4"
      ]
     },
     "execution_count": 38,
     "metadata": {},
     "output_type": "execute_result"
    }
   ],
   "source": [
    "mi2[3]"
   ]
  },
  {
   "cell_type": "code",
   "execution_count": 39,
   "id": "62765248",
   "metadata": {
    "ExecuteTime": {
     "end_time": "2023-01-03T05:48:26.413245Z",
     "start_time": "2023-01-03T05:48:26.398402Z"
    },
    "scrolled": true
   },
   "outputs": [
    {
     "ename": "IndexError",
     "evalue": "tuple index out of range",
     "output_type": "error",
     "traceback": [
      "\u001b[1;31m---------------------------------------------------------------------------\u001b[0m",
      "\u001b[1;31mIndexError\u001b[0m                                Traceback (most recent call last)",
      "\u001b[1;32m~\\AppData\\Local\\Temp\\ipykernel_14904\\1420578181.py\u001b[0m in \u001b[0;36m<module>\u001b[1;34m\u001b[0m\n\u001b[1;32m----> 1\u001b[1;33m \u001b[0mmi2\u001b[0m\u001b[1;33m[\u001b[0m\u001b[1;36m100\u001b[0m\u001b[1;33m]\u001b[0m\u001b[1;33m\u001b[0m\u001b[1;33m\u001b[0m\u001b[0m\n\u001b[0m",
      "\u001b[1;32m~\\AppData\\Local\\Temp\\ipykernel_14904\\2825576057.py\u001b[0m in \u001b[0;36m__getitem__\u001b[1;34m(self, index)\u001b[0m\n\u001b[0;32m     31\u001b[0m     \u001b[1;32mdef\u001b[0m \u001b[0m__getitem__\u001b[0m\u001b[1;33m(\u001b[0m\u001b[0mself\u001b[0m\u001b[1;33m,\u001b[0m \u001b[0mindex\u001b[0m\u001b[1;33m)\u001b[0m\u001b[1;33m:\u001b[0m\u001b[1;33m\u001b[0m\u001b[1;33m\u001b[0m\u001b[0m\n\u001b[0;32m     32\u001b[0m         \u001b[1;31m# 객체[index] : self = 객체, index = index\u001b[0m\u001b[1;33m\u001b[0m\u001b[1;33m\u001b[0m\u001b[0m\n\u001b[1;32m---> 33\u001b[1;33m         \u001b[1;32mreturn\u001b[0m \u001b[0mself\u001b[0m\u001b[1;33m.\u001b[0m\u001b[0mvalues\u001b[0m\u001b[1;33m[\u001b[0m\u001b[0mindex\u001b[0m\u001b[1;33m]\u001b[0m\u001b[1;33m\u001b[0m\u001b[1;33m\u001b[0m\u001b[0m\n\u001b[0m",
      "\u001b[1;31mIndexError\u001b[0m: tuple index out of range"
     ]
    }
   ],
   "source": [
    "mi2[100]"
   ]
  },
  {
   "cell_type": "markdown",
   "id": "5323e175",
   "metadata": {
    "slideshow": {
     "slide_type": "subslide"
    }
   },
   "source": [
    "## Generator\n",
    "- Iterable과 Iterator를 합친 기능을 함수 형태로 구현(정의)한 것을 generator라고 한다.\n",
    "    - 제공할 값들을 미리 메모리에 올리지 않고 로직을 통해 값들을 호출자가 필요할 때 마다 제공할 때 유용하다.\n",
    "- 제너레이터 함수에서 값을 반환\n",
    "    - **yield 반환값**\n",
    "        - 반환값을 가지고 호출한 곳으로 돌아간다. 현재 상태(돌아가기 직전 상태)를 기억하면서 돌아간다. \n",
    "            - 값을 반환하고 일시정지 상태라고 생각하면 된다.\n",
    "        - 다음 실행시점에 yield 구문 다음 부터 실행된다.\n",
    "    - **return \\[valuye\\]**\n",
    "        - generator 함수 종료\n",
    "        - StopIteration 발생시킨다.\n",
    "- Generator 의 원소 조회\n",
    "    - next(Generator객체)"
   ]
  },
  {
   "cell_type": "code",
   "execution_count": 1,
   "id": "50e79ef4",
   "metadata": {
    "ExecuteTime": {
     "end_time": "2023-01-04T00:36:02.801895Z",
     "start_time": "2023-01-04T00:36:02.784365Z"
    }
   },
   "outputs": [],
   "source": [
    "def test_gen(num=0):\n",
    "    print(\"1.\", num)\n",
    "    num += 10\n",
    "    yield num\n",
    "    print(\"2.\", num)\n",
    "    num += 20\n",
    "    yield num"
   ]
  },
  {
   "cell_type": "code",
   "execution_count": 2,
   "id": "a64d8714",
   "metadata": {
    "ExecuteTime": {
     "end_time": "2023-01-04T00:36:08.923587Z",
     "start_time": "2023-01-04T00:36:08.912512Z"
    }
   },
   "outputs": [
    {
     "data": {
      "text/plain": [
       "generator"
      ]
     },
     "execution_count": 2,
     "metadata": {},
     "output_type": "execute_result"
    }
   ],
   "source": [
    "gen = test_gen(20)  # generator를 호출 ==> generator객체를 생성\n",
    "type(gen)"
   ]
  },
  {
   "cell_type": "code",
   "execution_count": 50,
   "id": "943a87c4",
   "metadata": {
    "ExecuteTime": {
     "end_time": "2023-01-03T06:24:36.386225Z",
     "start_time": "2023-01-03T06:24:36.378559Z"
    }
   },
   "outputs": [
    {
     "name": "stdout",
     "output_type": "stream",
     "text": [
      "1. 20\n"
     ]
    },
    {
     "data": {
      "text/plain": [
       "30"
      ]
     },
     "execution_count": 50,
     "metadata": {},
     "output_type": "execute_result"
    }
   ],
   "source": [
    "# generator를 호출=> next()를 이용\n",
    "next(gen)   # yield까지 일한다."
   ]
  },
  {
   "cell_type": "code",
   "execution_count": 51,
   "id": "222ebd33",
   "metadata": {
    "ExecuteTime": {
     "end_time": "2023-01-03T06:26:27.275255Z",
     "start_time": "2023-01-03T06:26:27.255527Z"
    }
   },
   "outputs": [
    {
     "name": "stdout",
     "output_type": "stream",
     "text": [
      "2. 30\n"
     ]
    },
    {
     "data": {
      "text/plain": [
       "50"
      ]
     },
     "execution_count": 51,
     "metadata": {},
     "output_type": "execute_result"
    }
   ],
   "source": [
    "next(gen)  # 이전 yield 다음부터 다음 yield까지 처리"
   ]
  },
  {
   "cell_type": "code",
   "execution_count": 52,
   "id": "aaf6bdd1",
   "metadata": {
    "ExecuteTime": {
     "end_time": "2023-01-03T06:26:51.682697Z",
     "start_time": "2023-01-03T06:26:51.660250Z"
    }
   },
   "outputs": [
    {
     "ename": "StopIteration",
     "evalue": "",
     "output_type": "error",
     "traceback": [
      "\u001b[1;31m---------------------------------------------------------------------------\u001b[0m",
      "\u001b[1;31mStopIteration\u001b[0m                             Traceback (most recent call last)",
      "\u001b[1;32m~\\AppData\\Local\\Temp\\ipykernel_14904\\4293081279.py\u001b[0m in \u001b[0;36m<module>\u001b[1;34m\u001b[0m\n\u001b[1;32m----> 1\u001b[1;33m \u001b[0mnext\u001b[0m\u001b[1;33m(\u001b[0m\u001b[0mgen\u001b[0m\u001b[1;33m)\u001b[0m\u001b[1;33m\u001b[0m\u001b[1;33m\u001b[0m\u001b[0m\n\u001b[0m",
      "\u001b[1;31mStopIteration\u001b[0m: "
     ]
    }
   ],
   "source": [
    "next(gen) # 더이상 실행할 코드가 없으면(return) StopIteration exception 발생."
   ]
  },
  {
   "cell_type": "code",
   "execution_count": 53,
   "id": "4df6590b",
   "metadata": {
    "ExecuteTime": {
     "end_time": "2023-01-03T06:29:08.783398Z",
     "start_time": "2023-01-03T06:29:08.764853Z"
    },
    "scrolled": true,
    "slideshow": {
     "slide_type": "fragment"
    }
   },
   "outputs": [
    {
     "name": "stdout",
     "output_type": "stream",
     "text": [
      "1. 100\n",
      "110\n",
      "2. 110\n",
      "130\n"
     ]
    }
   ],
   "source": [
    "for v in test_gen(100):\n",
    "    print(v)"
   ]
  },
  {
   "cell_type": "code",
   "execution_count": 54,
   "id": "528f357f",
   "metadata": {
    "ExecuteTime": {
     "end_time": "2023-01-03T06:34:12.273949Z",
     "start_time": "2023-01-03T06:34:12.261715Z"
    }
   },
   "outputs": [],
   "source": [
    "# range() 를 generator로 구현.\n",
    "def my_range(start, end=None, step=1):\n",
    "    if end == None: #not end\n",
    "        end = start\n",
    "        start = 0\n",
    "    while True:\n",
    "        if start >= end:\n",
    "            break\n",
    "        yield start\n",
    "        start += step"
   ]
  },
  {
   "cell_type": "code",
   "execution_count": 57,
   "id": "68497b5e",
   "metadata": {
    "ExecuteTime": {
     "end_time": "2023-01-03T06:34:47.857924Z",
     "start_time": "2023-01-03T06:34:47.852487Z"
    }
   },
   "outputs": [
    {
     "name": "stdout",
     "output_type": "stream",
     "text": [
      "<class 'generator'>\n"
     ]
    }
   ],
   "source": [
    "print(type(my_range(5, 8)))"
   ]
  },
  {
   "cell_type": "code",
   "execution_count": 58,
   "id": "26f1e790",
   "metadata": {
    "ExecuteTime": {
     "end_time": "2023-01-03T06:35:28.898942Z",
     "start_time": "2023-01-03T06:35:28.867988Z"
    }
   },
   "outputs": [
    {
     "name": "stdout",
     "output_type": "stream",
     "text": [
      "5\n"
     ]
    }
   ],
   "source": [
    "gen = my_range(5, 8)\n",
    "print(next(gen))"
   ]
  },
  {
   "cell_type": "code",
   "execution_count": 59,
   "id": "a723eeda",
   "metadata": {
    "ExecuteTime": {
     "end_time": "2023-01-03T06:35:38.179081Z",
     "start_time": "2023-01-03T06:35:38.164249Z"
    }
   },
   "outputs": [
    {
     "name": "stdout",
     "output_type": "stream",
     "text": [
      "6\n",
      "7\n"
     ]
    }
   ],
   "source": [
    "print(next(gen))\n",
    "print(next(gen))"
   ]
  },
  {
   "cell_type": "code",
   "execution_count": 60,
   "id": "11242813",
   "metadata": {
    "ExecuteTime": {
     "end_time": "2023-01-03T06:36:13.595246Z",
     "start_time": "2023-01-03T06:36:13.575460Z"
    }
   },
   "outputs": [
    {
     "ename": "StopIteration",
     "evalue": "",
     "output_type": "error",
     "traceback": [
      "\u001b[1;31m---------------------------------------------------------------------------\u001b[0m",
      "\u001b[1;31mStopIteration\u001b[0m                             Traceback (most recent call last)",
      "\u001b[1;32m~\\AppData\\Local\\Temp\\ipykernel_14904\\2955553870.py\u001b[0m in \u001b[0;36m<module>\u001b[1;34m\u001b[0m\n\u001b[1;32m----> 1\u001b[1;33m \u001b[0mprint\u001b[0m\u001b[1;33m(\u001b[0m\u001b[0mnext\u001b[0m\u001b[1;33m(\u001b[0m\u001b[0mgen\u001b[0m\u001b[1;33m)\u001b[0m\u001b[1;33m)\u001b[0m\u001b[1;33m\u001b[0m\u001b[1;33m\u001b[0m\u001b[0m\n\u001b[0m",
      "\u001b[1;31mStopIteration\u001b[0m: "
     ]
    }
   ],
   "source": [
    "print(next(gen))"
   ]
  },
  {
   "cell_type": "code",
   "execution_count": 61,
   "id": "7321ba89",
   "metadata": {
    "ExecuteTime": {
     "end_time": "2023-01-03T06:37:01.624772Z",
     "start_time": "2023-01-03T06:37:01.612218Z"
    }
   },
   "outputs": [
    {
     "name": "stdout",
     "output_type": "stream",
     "text": [
      "1, 11, 21, 31, 41, 51, 61, 71, 81, 91, "
     ]
    }
   ],
   "source": [
    "for i in my_range(1, 100, 10):\n",
    "    print(i, end=', ')"
   ]
  },
  {
   "cell_type": "code",
   "execution_count": 62,
   "id": "2e495b3b",
   "metadata": {
    "ExecuteTime": {
     "end_time": "2023-01-03T06:37:29.139898Z",
     "start_time": "2023-01-03T06:37:29.130573Z"
    }
   },
   "outputs": [
    {
     "name": "stdout",
     "output_type": "stream",
     "text": [
      "0, 1, 2, 3, 4, "
     ]
    }
   ],
   "source": [
    "for i in my_range(5):\n",
    "    print(i, end=', ')"
   ]
  },
  {
   "cell_type": "code",
   "execution_count": 64,
   "id": "cbbd509a",
   "metadata": {
    "ExecuteTime": {
     "end_time": "2023-01-03T06:37:56.056897Z",
     "start_time": "2023-01-03T06:37:56.043534Z"
    }
   },
   "outputs": [
    {
     "data": {
      "text/plain": [
       "range"
      ]
     },
     "execution_count": 64,
     "metadata": {},
     "output_type": "execute_result"
    }
   ],
   "source": [
    "type(range(10))"
   ]
  },
  {
   "cell_type": "code",
   "execution_count": null,
   "id": "74764198",
   "metadata": {},
   "outputs": [],
   "source": []
  },
  {
   "cell_type": "code",
   "execution_count": null,
   "id": "caabc0b3",
   "metadata": {},
   "outputs": [],
   "source": []
  },
  {
   "cell_type": "markdown",
   "id": "ae6dec96",
   "metadata": {
    "slideshow": {
     "slide_type": "subslide"
    }
   },
   "source": [
    "### Generator 표현식 (Generator Comprehension)\n",
    "- 컴프리헨션구문을 **( )** 로 묶어 표현한다.\n",
    "- 컴프리헨션 구문안의 Iterable의 원소들을 처리해서 제공하는 generator 표현식\n",
    "- Generator Comprehension 은 반복 가능한 객체만 만들고 실제 원소에 대한 요청이 왔을 때 값을 생성한다.\n",
    "    - 메모리 효율이 다른 Comprehension들 보다 좋다."
   ]
  },
  {
   "cell_type": "code",
   "execution_count": null,
   "id": "9d5f5acc",
   "metadata": {
    "slideshow": {
     "slide_type": "fragment"
    }
   },
   "outputs": [],
   "source": [
    "[i for i in range(10)] => [0,1,2,3,4,5,6,7,8,9]"
   ]
  },
  {
   "cell_type": "code",
   "execution_count": 72,
   "id": "743b3189",
   "metadata": {
    "ExecuteTime": {
     "end_time": "2023-01-03T06:47:12.126461Z",
     "start_time": "2023-01-03T06:47:12.107422Z"
    }
   },
   "outputs": [
    {
     "name": "stdout",
     "output_type": "stream",
     "text": [
      "<class 'generator'>\n"
     ]
    }
   ],
   "source": [
    "gen = (i + 20 for i in range(10) if i % 2 ==0)\n",
    "print(type(gen))"
   ]
  },
  {
   "cell_type": "code",
   "execution_count": 73,
   "id": "f6588457",
   "metadata": {
    "ExecuteTime": {
     "end_time": "2023-01-03T06:47:13.120267Z",
     "start_time": "2023-01-03T06:47:13.107145Z"
    }
   },
   "outputs": [
    {
     "data": {
      "text/plain": [
       "20"
      ]
     },
     "execution_count": 73,
     "metadata": {},
     "output_type": "execute_result"
    }
   ],
   "source": [
    "next(gen)"
   ]
  },
  {
   "cell_type": "code",
   "execution_count": 74,
   "id": "43d30f3c",
   "metadata": {
    "ExecuteTime": {
     "end_time": "2023-01-03T06:47:13.600954Z",
     "start_time": "2023-01-03T06:47:13.586302Z"
    }
   },
   "outputs": [
    {
     "name": "stdout",
     "output_type": "stream",
     "text": [
      "22, 24, 26, 28, "
     ]
    }
   ],
   "source": [
    "for i in gen:\n",
    "    print(i, end=', ')"
   ]
  },
  {
   "cell_type": "code",
   "execution_count": 69,
   "id": "3dcf0fe8",
   "metadata": {
    "ExecuteTime": {
     "end_time": "2023-01-03T06:46:36.261974Z",
     "start_time": "2023-01-03T06:46:36.246745Z"
    }
   },
   "outputs": [
    {
     "ename": "StopIteration",
     "evalue": "",
     "output_type": "error",
     "traceback": [
      "\u001b[1;31m---------------------------------------------------------------------------\u001b[0m",
      "\u001b[1;31mStopIteration\u001b[0m                             Traceback (most recent call last)",
      "\u001b[1;32m~\\AppData\\Local\\Temp\\ipykernel_14904\\4293081279.py\u001b[0m in \u001b[0;36m<module>\u001b[1;34m\u001b[0m\n\u001b[1;32m----> 1\u001b[1;33m \u001b[0mnext\u001b[0m\u001b[1;33m(\u001b[0m\u001b[0mgen\u001b[0m\u001b[1;33m)\u001b[0m\u001b[1;33m\u001b[0m\u001b[1;33m\u001b[0m\u001b[0m\n\u001b[0m",
      "\u001b[1;31mStopIteration\u001b[0m: "
     ]
    }
   ],
   "source": [
    "next(gen)"
   ]
  },
  {
   "cell_type": "code",
   "execution_count": null,
   "id": "c2f0d60a",
   "metadata": {},
   "outputs": [],
   "source": [
    "def my_gen(num):\n",
    "    for i in range(num):\n",
    "        yield i "
   ]
  },
  {
   "cell_type": "code",
   "execution_count": 78,
   "id": "749793be",
   "metadata": {
    "ExecuteTime": {
     "end_time": "2023-01-03T06:49:44.297486Z",
     "start_time": "2023-01-03T06:49:44.284117Z"
    },
    "collapsed": true
   },
   "outputs": [
    {
     "name": "stdout",
     "output_type": "stream",
     "text": [
      "<class 'filter'>\n",
      "0, 2, 4, 6, 8, 10, 12, 14, 16, 18, 20, 22, 24, 26, 28, 30, 32, 34, 36, 38, 40, 42, 44, 46, 48, 50, 52, 54, 56, 58, 60, 62, 64, 66, 68, 70, 72, 74, 76, 78, 80, 82, 84, 86, 88, 90, 92, 94, 96, 98, 100, 102, 104, 106, 108, 110, 112, 114, 116, 118, 120, 122, 124, 126, 128, 130, 132, 134, 136, 138, 140, 142, 144, 146, 148, 150, 152, 154, 156, 158, 160, 162, 164, 166, 168, 170, 172, 174, 176, 178, 180, 182, 184, 186, 188, 190, 192, 194, 196, 198, 200, 202, 204, 206, 208, 210, 212, 214, 216, 218, 220, 222, 224, 226, 228, 230, 232, 234, 236, 238, 240, 242, 244, 246, 248, 250, 252, 254, 256, 258, 260, 262, 264, 266, 268, 270, 272, 274, 276, 278, 280, 282, 284, 286, 288, 290, 292, 294, 296, 298, 300, 302, 304, 306, 308, 310, 312, 314, 316, 318, 320, 322, 324, 326, 328, 330, 332, 334, 336, 338, 340, 342, 344, 346, 348, 350, 352, 354, 356, 358, 360, 362, 364, 366, 368, 370, 372, 374, 376, 378, 380, 382, 384, 386, 388, 390, 392, 394, 396, 398, 400, 402, 404, 406, 408, 410, 412, 414, 416, 418, 420, 422, 424, 426, 428, 430, 432, 434, 436, 438, 440, 442, 444, 446, 448, 450, 452, 454, 456, 458, 460, 462, 464, 466, 468, 470, 472, 474, 476, 478, 480, 482, 484, 486, 488, 490, 492, 494, 496, 498, 500, 502, 504, 506, 508, 510, 512, 514, 516, 518, 520, 522, 524, 526, 528, 530, 532, 534, 536, 538, 540, 542, 544, 546, 548, 550, 552, 554, 556, 558, 560, 562, 564, 566, 568, 570, 572, 574, 576, 578, 580, 582, 584, 586, 588, 590, 592, 594, 596, 598, 600, 602, 604, 606, 608, 610, 612, 614, 616, 618, 620, 622, 624, 626, 628, 630, 632, 634, 636, 638, 640, 642, 644, 646, 648, 650, 652, 654, 656, 658, 660, 662, 664, 666, 668, 670, 672, 674, 676, 678, 680, 682, 684, 686, 688, 690, 692, 694, 696, 698, 700, 702, 704, 706, 708, 710, 712, 714, 716, 718, 720, 722, 724, 726, 728, 730, 732, 734, 736, 738, 740, 742, 744, 746, 748, 750, 752, 754, 756, 758, 760, 762, 764, 766, 768, 770, 772, 774, 776, 778, 780, 782, 784, 786, 788, 790, 792, 794, 796, 798, 800, 802, 804, 806, 808, 810, 812, 814, 816, 818, 820, 822, 824, 826, 828, 830, 832, 834, 836, 838, 840, 842, 844, 846, 848, 850, 852, 854, 856, 858, 860, 862, 864, 866, 868, 870, 872, 874, 876, 878, 880, 882, 884, 886, 888, 890, 892, 894, 896, 898, 900, 902, 904, 906, 908, 910, 912, 914, 916, 918, 920, 922, 924, 926, 928, 930, 932, 934, 936, 938, 940, 942, 944, 946, 948, 950, 952, 954, 956, 958, 960, 962, 964, 966, 968, 970, 972, 974, 976, 978, 980, 982, 984, 986, 988, 990, 992, 994, 996, 998, "
     ]
    }
   ],
   "source": [
    "l = list(range(1000))\n",
    "f = filter(lambda x : x % 2 == 0, l)\n",
    "print(type(f))\n",
    "for i in f:\n",
    "    print(i , end=', ')"
   ]
  },
  {
   "cell_type": "markdown",
   "id": "929f0230",
   "metadata": {
    "slideshow": {
     "slide_type": "slide"
    }
   },
   "source": [
    "# Decorator (장식자)\n",
    "\n",
    "## 파이썬에서 함수는 일급 시민(first class citizen) 이다.\n",
    "- 일급 시민 (first class citizen) 이란\n",
    "    1. 변수에 대입 할 수 있다.\n",
    "    2. Argument로 사용할 수 있다.\n",
    "    3. 함수나 메소드의 반환값으로 사용 할 수 있다.\n",
    "    "
   ]
  },
  {
   "cell_type": "markdown",
   "id": "b46580f2",
   "metadata": {
    "slideshow": {
     "slide_type": "subslide"
    }
   },
   "source": [
    "## 지역함수(Local Function) 란\n",
    "- 함수 안에 정의 한 함수를 말한다.\n",
    "    - 중첩 함수(Nested function) 이라고도 한다.\n",
    "- 지역함수가 선언된 함수를 **outer function** 지역함수는 **inner function** 이라고 한다. \n",
    "- inner function은 outer function의 지역변수를 자유롭게 사용할 수 있다.\n",
    "- 기본적으로 inner function은 outer function 안에서만 호출 할 수있다.\n",
    "- 단 outer function이 정의된 inner function을 return value로 반환하면 밖에서도 호출 할 수 있다."
   ]
  },
  {
   "cell_type": "markdown",
   "id": "766a1432",
   "metadata": {
    "slideshow": {
     "slide_type": "fragment"
    }
   },
   "source": [
    "## Closure (클로저)\n",
    "- 지역함수(Inner function)를 정의한 Outer function이 종료되어도 지역함수가 종료될 때까지 outer function의 지역변수들은 메모리에 계속 유지 되어 inner function에서 사용할 수 있다. \n",
    "- 파이썬 실행환경은 inner function이 종료될때 까지 outer function의 지역변수들(parameter포함)을 사용할 수 있도록 저장하는 공간이 **closure**이다."
   ]
  },
  {
   "cell_type": "code",
   "execution_count": 88,
   "id": "f81e6ef7",
   "metadata": {
    "ExecuteTime": {
     "end_time": "2023-01-03T07:40:42.730855Z",
     "start_time": "2023-01-03T07:40:42.723486Z"
    }
   },
   "outputs": [],
   "source": [
    "def outer():\n",
    "    outer_var = \"outer함수의 변수\"\n",
    "    def inner(num):\n",
    "        inner_var = \"inner함수의 변수\"\n",
    "        print(\"inner 함수 매개변수 num:\", num)\n",
    "        print(inner_var)\n",
    "        print(outer_var)\n",
    "#     print(outer_var) # 지역변수를 호출(조회)\n",
    "#     inner(100)       # 지역함수를 호출\n",
    "    outer_var = 50000\n",
    "    return inner # 함수를 반환."
   ]
  },
  {
   "cell_type": "code",
   "execution_count": 89,
   "id": "c600025e",
   "metadata": {
    "ExecuteTime": {
     "end_time": "2023-01-03T07:40:43.814571Z",
     "start_time": "2023-01-03T07:40:43.802134Z"
    }
   },
   "outputs": [
    {
     "name": "stdout",
     "output_type": "stream",
     "text": [
      "inner 함수 매개변수 num: 300\n",
      "inner함수의 변수\n",
      "50000\n"
     ]
    }
   ],
   "source": [
    "func = outer()\n",
    "func(300)"
   ]
  },
  {
   "cell_type": "markdown",
   "id": "b58a1e1d",
   "metadata": {
    "slideshow": {
     "slide_type": "slide"
    }
   },
   "source": [
    "## Decorator (장식자)\n",
    "- 기존의 함수를 수정하지 않고 그 함수 전/후에 실행되는 구문을 추가할 수 있도록 하는 함수를 말한다.\n",
    "- 기존 함수코드를 수정하지 않고 새로운 기능의 추가를 쉽게 해준다.\n",
    "- 함수의 전/후처리 하는 구문을 **필요하면 붙이고 필요 없으면 쉽게 제거할 수 있다**\n",
    "\n",
    "![개요](images/ch10_01.png)"
   ]
  },
  {
   "cell_type": "code",
   "execution_count": 101,
   "id": "5ae6c89d",
   "metadata": {
    "ExecuteTime": {
     "end_time": "2023-01-03T08:15:27.788857Z",
     "start_time": "2023-01-03T08:15:27.777616Z"
    },
    "scrolled": true
   },
   "outputs": [
    {
     "name": "stdout",
     "output_type": "stream",
     "text": [
      "안녕하세요\n",
      "반갑습니다.\n"
     ]
    }
   ],
   "source": [
    "def a():\n",
    "    print('안녕하세요')\n",
    "    \n",
    "def b():\n",
    "    print('반갑습니다.')\n",
    "\n",
    "# print(\"-\"*20)\n",
    "a()\n",
    "# print(\"-\"*20)\n",
    "# print(\"-\"*20)\n",
    "b()\n",
    "# print(\"-\"*20)"
   ]
  },
  {
   "cell_type": "code",
   "execution_count": 106,
   "id": "86fb6129",
   "metadata": {
    "ExecuteTime": {
     "end_time": "2023-01-03T08:16:54.965639Z",
     "start_time": "2023-01-03T08:16:54.954174Z"
    }
   },
   "outputs": [],
   "source": [
    "def dash_decorator(func):\n",
    "#     func: 함수 - 전/후처리를 추가할 original 함수\n",
    "    def wrapper():\n",
    "        print('-'*20)  # 전처리\n",
    "        func()\n",
    "        print('-'*20)   # 후처리\n",
    "        \n",
    "    return wrapper"
   ]
  },
  {
   "cell_type": "code",
   "execution_count": 111,
   "id": "4b2b6046",
   "metadata": {
    "ExecuteTime": {
     "end_time": "2023-01-03T08:18:04.435690Z",
     "start_time": "2023-01-03T08:18:04.424949Z"
    }
   },
   "outputs": [
    {
     "name": "stdout",
     "output_type": "stream",
     "text": [
      "--------------------\n",
      "안녕하세요\n",
      "--------------------\n"
     ]
    }
   ],
   "source": [
    "w_a = dash_decorator(a)\n",
    "# print(type(w_a), w_a)\n",
    "w_a()"
   ]
  },
  {
   "cell_type": "code",
   "execution_count": 112,
   "id": "27e432ff",
   "metadata": {
    "ExecuteTime": {
     "end_time": "2023-01-03T08:18:32.954537Z",
     "start_time": "2023-01-03T08:18:32.936948Z"
    }
   },
   "outputs": [
    {
     "name": "stdout",
     "output_type": "stream",
     "text": [
      "--------------------\n",
      "반갑습니다.\n",
      "--------------------\n"
     ]
    }
   ],
   "source": [
    "w_b = dash_decorator(b)\n",
    "w_b()"
   ]
  },
  {
   "cell_type": "code",
   "execution_count": 122,
   "id": "630734a7",
   "metadata": {
    "ExecuteTime": {
     "end_time": "2023-01-03T08:26:45.688471Z",
     "start_time": "2023-01-03T08:26:45.680346Z"
    }
   },
   "outputs": [],
   "source": [
    "def shap_decorator(func):\n",
    "    \n",
    "    def wrapper():\n",
    "        print(\"#\"*50)\n",
    "        func()\n",
    "    return wrapper"
   ]
  },
  {
   "cell_type": "code",
   "execution_count": 131,
   "id": "dc24c5ea",
   "metadata": {
    "ExecuteTime": {
     "end_time": "2023-01-03T08:27:32.970720Z",
     "start_time": "2023-01-03T08:27:32.962764Z"
    }
   },
   "outputs": [],
   "source": [
    "# c()함수를 호출하면 c 함수를 dash_decorator()함수의 argument로 전할해서 호출하고 거기 반환되는 inner함수를 실행시켜라.\n",
    "# @dash_decorator\n",
    "@shap_decorator\n",
    "def c():\n",
    "    print('이것은 c함수입니다.')    "
   ]
  },
  {
   "cell_type": "code",
   "execution_count": 130,
   "id": "748fb490",
   "metadata": {
    "ExecuteTime": {
     "end_time": "2023-01-03T08:27:02.556682Z",
     "start_time": "2023-01-03T08:27:02.535102Z"
    }
   },
   "outputs": [
    {
     "name": "stdout",
     "output_type": "stream",
     "text": [
      "--------------------\n",
      "##################################################\n",
      "이것은 c함수입니다.\n",
      "--------------------\n"
     ]
    }
   ],
   "source": [
    "c()\n",
    "# w_c = dash_decorator(c)\n",
    "# w_c()"
   ]
  },
  {
   "cell_type": "code",
   "execution_count": 132,
   "id": "b904b64d",
   "metadata": {
    "ExecuteTime": {
     "end_time": "2023-01-03T08:27:39.478289Z",
     "start_time": "2023-01-03T08:27:39.459581Z"
    }
   },
   "outputs": [],
   "source": [
    "# @dash_decorator\n",
    "@shap_decorator\n",
    "def d():\n",
    "    print('이것은 d함수입니다.')"
   ]
  },
  {
   "cell_type": "code",
   "execution_count": 133,
   "id": "35563d9a",
   "metadata": {
    "ExecuteTime": {
     "end_time": "2023-01-03T08:27:40.581015Z",
     "start_time": "2023-01-03T08:27:40.562435Z"
    }
   },
   "outputs": [
    {
     "name": "stdout",
     "output_type": "stream",
     "text": [
      "##################################################\n",
      "이것은 d함수입니다.\n"
     ]
    }
   ],
   "source": [
    "d()"
   ]
  },
  {
   "cell_type": "code",
   "execution_count": 144,
   "id": "0201bee5",
   "metadata": {
    "ExecuteTime": {
     "end_time": "2023-01-03T08:33:35.278447Z",
     "start_time": "2023-01-03T08:33:35.272284Z"
    }
   },
   "outputs": [],
   "source": [
    "def shap_decorator2(func):\n",
    "    \n",
    "    def wrapper(name=None):\n",
    "        print('#'*30)\n",
    "        if name==None:\n",
    "            func()\n",
    "        else:\n",
    "            func(name)\n",
    "    return wrapper"
   ]
  },
  {
   "cell_type": "code",
   "execution_count": 145,
   "id": "1d39c4c3",
   "metadata": {
    "ExecuteTime": {
     "end_time": "2023-01-03T08:33:36.146976Z",
     "start_time": "2023-01-03T08:33:36.137223Z"
    }
   },
   "outputs": [],
   "source": [
    "@shap_decorator2\n",
    "def greeting(name):\n",
    "    print(f\"{name}님 환영합니다.\")"
   ]
  },
  {
   "cell_type": "code",
   "execution_count": 146,
   "id": "e5c54f05",
   "metadata": {
    "ExecuteTime": {
     "end_time": "2023-01-03T08:33:36.891674Z",
     "start_time": "2023-01-03T08:33:36.873722Z"
    }
   },
   "outputs": [
    {
     "name": "stdout",
     "output_type": "stream",
     "text": [
      "##############################\n",
      "홍길동님 환영합니다.\n"
     ]
    }
   ],
   "source": [
    "greeting('홍길동')"
   ]
  },
  {
   "cell_type": "code",
   "execution_count": 147,
   "id": "0f16a3d9",
   "metadata": {
    "ExecuteTime": {
     "end_time": "2023-01-03T08:34:01.438565Z",
     "start_time": "2023-01-03T08:34:01.421374Z"
    }
   },
   "outputs": [],
   "source": [
    "@shap_decorator2\n",
    "def greeting2():\n",
    "    print('안녕하세요')"
   ]
  },
  {
   "cell_type": "code",
   "execution_count": 148,
   "id": "3a4acba8",
   "metadata": {
    "ExecuteTime": {
     "end_time": "2023-01-03T08:34:08.116588Z",
     "start_time": "2023-01-03T08:34:08.097459Z"
    }
   },
   "outputs": [
    {
     "name": "stdout",
     "output_type": "stream",
     "text": [
      "##############################\n",
      "안녕하세요\n"
     ]
    }
   ],
   "source": [
    "greeting2()"
   ]
  },
  {
   "cell_type": "markdown",
   "id": "aaf6447c",
   "metadata": {
    "slideshow": {
     "slide_type": "subslide"
    }
   },
   "source": [
    "### Decorator 구현 및 사용\n",
    "\n",
    "- 구현\n",
    "    1. 전/후처리 기능을 추가할 함수를 parameter로 받는다.\n",
    "    2. 그 함수 호출 전후로 추가할 기능을 작성한 **지역함수**를 정의한다.\n",
    "    3. `2`번의 함수를 반환한다.\n",
    "```python\n",
    "def decorator(func):\n",
    "    def wrapper([parameter]): # decorator 적용할 함수에 파라미터를 전달할 경우 parameter 변수들을 선언\n",
    "        # 전처리\n",
    "        func()\n",
    "        # 후처리\n",
    "    return wrapper \n",
    "```\n",
    "\n",
    "- 호출\n",
    "    - `@decorator이름`를 적용하고자하는 함수 선언전에 기술한다.\n",
    "```python\n",
    "@decorator\n",
    "def caller([parameter]):\n",
    "    ...\n",
    "```"
   ]
  },
  {
   "cell_type": "markdown",
   "id": "6121017a",
   "metadata": {
    "slideshow": {
     "slide_type": "skip"
    }
   },
   "source": [
    "# TODO\n",
    "함수가 실행된 실행시간(초)을 재는 decorator"
   ]
  },
  {
   "cell_type": "code",
   "execution_count": 14,
   "id": "c80a5a2f",
   "metadata": {
    "ExecuteTime": {
     "end_time": "2023-01-04T00:46:04.974542Z",
     "start_time": "2023-01-04T00:46:04.955844Z"
    }
   },
   "outputs": [
    {
     "data": {
      "text/plain": [
       "1672793164.956832"
      ]
     },
     "execution_count": 14,
     "metadata": {},
     "output_type": "execute_result"
    }
   ],
   "source": [
    "import time\n",
    "\n",
    "time.time()   # 현재시간=>Timestamp형식으로 알려준다.=>Timestamp: 1970년 1월 1일 0시 0분 0초 부터 얼마나 지났는지를 초로 반환"
   ]
  },
  {
   "cell_type": "code",
   "execution_count": 153,
   "id": "5f505cb6",
   "metadata": {
    "ExecuteTime": {
     "end_time": "2023-01-03T08:39:50.463165Z",
     "start_time": "2023-01-03T08:39:48.432551Z"
    }
   },
   "outputs": [
    {
     "name": "stdout",
     "output_type": "stream",
     "text": [
      "1\n",
      "2\n"
     ]
    }
   ],
   "source": [
    "print(1)\n",
    "time.sleep(2)  # 2초 동안 멈춘다.\n",
    "print(2)"
   ]
  },
  {
   "cell_type": "code",
   "execution_count": 31,
   "id": "a99ccb4f",
   "metadata": {
    "ExecuteTime": {
     "end_time": "2023-01-04T01:18:52.949672Z",
     "start_time": "2023-01-04T01:18:52.940912Z"
    }
   },
   "outputs": [],
   "source": [
    "# 1. original 함수를 매개변수로 받는다.\n",
    "# 2. original 함수 호출 전후로 전/후처리를 하는 inner 함수 구현\n",
    "import time\n",
    "def timechecker_decorator(func):\n",
    "    \n",
    "    def wrapper():\n",
    "        s = time.time()\n",
    "        func()\n",
    "        e = time.time()\n",
    "        print(f'{func.__name__} 함수의 걸린시간: {round(e - s, 2)} 초')\n",
    "    \n",
    "    return wrapper\n",
    "\n",
    "# 함수.__name__ => 함수이름"
   ]
  },
  {
   "cell_type": "code",
   "execution_count": 37,
   "id": "28347a94",
   "metadata": {
    "ExecuteTime": {
     "end_time": "2023-01-04T01:20:05.693960Z",
     "start_time": "2023-01-04T01:20:05.677519Z"
    }
   },
   "outputs": [],
   "source": [
    "# @timechecker_decorator\n",
    "def test1():\n",
    "    print(1)\n",
    "    time.sleep(2)\n",
    "    print(2)"
   ]
  },
  {
   "cell_type": "code",
   "execution_count": 38,
   "id": "dd1ba7ff",
   "metadata": {
    "ExecuteTime": {
     "end_time": "2023-01-04T01:20:06.006223Z",
     "start_time": "2023-01-04T01:20:05.987320Z"
    }
   },
   "outputs": [],
   "source": [
    "# f = timechecker_decorator(test1)\n",
    "# f()"
   ]
  },
  {
   "cell_type": "code",
   "execution_count": 39,
   "id": "bf874d03",
   "metadata": {
    "ExecuteTime": {
     "end_time": "2023-01-04T01:20:06.286794Z",
     "start_time": "2023-01-04T01:20:06.268382Z"
    }
   },
   "outputs": [],
   "source": [
    "# @timechecker_decorator\n",
    "def test2():\n",
    "    print(1)\n",
    "    time.sleep(1)\n",
    "    print(2)"
   ]
  },
  {
   "cell_type": "code",
   "execution_count": 40,
   "id": "42402552",
   "metadata": {
    "ExecuteTime": {
     "end_time": "2023-01-04T01:20:06.690146Z",
     "start_time": "2023-01-04T01:20:06.671609Z"
    }
   },
   "outputs": [],
   "source": [
    "# @timechecker_decorator\n",
    "def test3():\n",
    "    print(1)\n",
    "#     time.sleep(5)\n",
    "    print(2)"
   ]
  },
  {
   "cell_type": "code",
   "execution_count": 29,
   "id": "b88f7c2e",
   "metadata": {
    "ExecuteTime": {
     "end_time": "2023-01-04T01:17:33.424710Z",
     "start_time": "2023-01-04T01:17:33.404837Z"
    }
   },
   "outputs": [
    {
     "data": {
      "text/plain": [
       "'wrapper'"
      ]
     },
     "execution_count": 29,
     "metadata": {},
     "output_type": "execute_result"
    }
   ],
   "source": [
    "# test3.__name__  "
   ]
  },
  {
   "cell_type": "code",
   "execution_count": 41,
   "id": "9de7ccdb",
   "metadata": {
    "ExecuteTime": {
     "end_time": "2023-01-04T01:20:12.517972Z",
     "start_time": "2023-01-04T01:20:09.478011Z"
    }
   },
   "outputs": [
    {
     "name": "stdout",
     "output_type": "stream",
     "text": [
      "1\n",
      "2\n",
      "1\n",
      "2\n",
      "1\n",
      "2\n"
     ]
    }
   ],
   "source": [
    "test1()\n",
    "test2()\n",
    "test3()"
   ]
  },
  {
   "cell_type": "code",
   "execution_count": 42,
   "id": "1695bcdd",
   "metadata": {
    "ExecuteTime": {
     "end_time": "2023-01-04T01:20:40.828748Z",
     "start_time": "2023-01-04T01:20:40.822233Z"
    }
   },
   "outputs": [],
   "source": [
    "@timechecker_decorator\n",
    "def test5():\n",
    "    print('test5')"
   ]
  },
  {
   "cell_type": "code",
   "execution_count": 43,
   "id": "9514c807",
   "metadata": {
    "ExecuteTime": {
     "end_time": "2023-01-04T01:20:43.497205Z",
     "start_time": "2023-01-04T01:20:43.479514Z"
    }
   },
   "outputs": [
    {
     "name": "stdout",
     "output_type": "stream",
     "text": [
      "test5\n",
      "test5 함수의 걸린시간: 0.0 초\n"
     ]
    }
   ],
   "source": [
    "test5()"
   ]
  },
  {
   "cell_type": "code",
   "execution_count": null,
   "id": "719f7f44",
   "metadata": {},
   "outputs": [],
   "source": []
  },
  {
   "cell_type": "code",
   "execution_count": null,
   "id": "ea16d536",
   "metadata": {},
   "outputs": [],
   "source": []
  },
  {
   "cell_type": "code",
   "execution_count": null,
   "id": "70a70741",
   "metadata": {},
   "outputs": [],
   "source": []
  },
  {
   "cell_type": "code",
   "execution_count": null,
   "id": "83ed94bf",
   "metadata": {},
   "outputs": [],
   "source": []
  },
  {
   "cell_type": "code",
   "execution_count": null,
   "id": "22f52d36",
   "metadata": {
    "slideshow": {
     "slide_type": "skip"
    }
   },
   "outputs": [],
   "source": []
  }
 ],
 "metadata": {
  "kernelspec": {
   "display_name": "Python 3 (ipykernel)",
   "language": "python",
   "name": "python3"
  },
  "language_info": {
   "codemirror_mode": {
    "name": "ipython",
    "version": 3
   },
   "file_extension": ".py",
   "mimetype": "text/x-python",
   "name": "python",
   "nbconvert_exporter": "python",
   "pygments_lexer": "ipython3",
   "version": "3.9.13"
  },
  "toc": {
   "base_numbering": 1,
   "nav_menu": {},
   "number_sections": true,
   "sideBar": true,
   "skip_h1_title": false,
   "title_cell": "Table of Contents",
   "title_sidebar": "Contents",
   "toc_cell": false,
   "toc_position": {},
   "toc_section_display": true,
   "toc_window_display": false
  },
  "varInspector": {
   "cols": {
    "lenName": 16,
    "lenType": 16,
    "lenVar": 40
   },
   "kernels_config": {
    "python": {
     "delete_cmd_postfix": "",
     "delete_cmd_prefix": "del ",
     "library": "var_list.py",
     "varRefreshCmd": "print(var_dic_list())"
    },
    "r": {
     "delete_cmd_postfix": ") ",
     "delete_cmd_prefix": "rm(",
     "library": "var_list.r",
     "varRefreshCmd": "cat(var_dic_list()) "
    }
   },
   "types_to_exclude": [
    "module",
    "function",
    "builtin_function_or_method",
    "instance",
    "_Feature"
   ],
   "window_display": false
  }
 },
 "nbformat": 4,
 "nbformat_minor": 5
}
