{
 "cells": [
  {
   "cell_type": "code",
   "execution_count": 2,
   "metadata": {
    "ExecuteTime": {
     "end_time": "2023-01-04T01:26:21.752676Z",
     "start_time": "2023-01-04T01:26:21.742761Z"
    }
   },
   "outputs": [
    {
     "data": {
      "text/plain": [
       "False"
      ]
     },
     "execution_count": 2,
     "metadata": {},
     "output_type": "execute_result"
    }
   ],
   "source": [
    "txt = '111-222-333'\n",
    "'222' in txt"
   ]
  },
  {
   "cell_type": "code",
   "execution_count": 3,
   "metadata": {
    "ExecuteTime": {
     "end_time": "2023-01-04T01:26:43.124407Z",
     "start_time": "2023-01-04T01:26:43.112894Z"
    }
   },
   "outputs": [
    {
     "data": {
      "text/plain": [
       "'111-이이이-333'"
      ]
     },
     "execution_count": 3,
     "metadata": {},
     "output_type": "execute_result"
    }
   ],
   "source": [
    "txt.replace('222', '이이이')"
   ]
  },
  {
   "cell_type": "code",
   "execution_count": null,
   "metadata": {},
   "outputs": [],
   "source": []
  },
  {
   "cell_type": "markdown",
   "metadata": {
    "slideshow": {
     "slide_type": "slide"
    }
   },
   "source": [
    "# <font size=50>정규 표현식 (Regular Expression)</font>"
   ]
  },
  {
   "cell_type": "markdown",
   "metadata": {
    "slideshow": {
     "slide_type": "fragment"
    }
   },
   "source": [
    "# 1. 정규 표현식(Regular Expression) 개요\n",
    "\n",
    "## 1.1. 정규 표현식이란\n",
    "- 텍스트에서 특정한 형태나 규칙을 가지는 문자열을 찾기 위해 그 형태나 규칙을 정의하는 것.\n",
    "- 파이썬 뿐만 아니라 문자열을 다루는 모든 곳에서 사용된다.\n",
    "- **정규식, Regexp**이라고도 한다."
   ]
  },
  {
   "cell_type": "markdown",
   "metadata": {
    "slideshow": {
     "slide_type": "fragment"
    }
   },
   "source": [
    "## 1.2. 기본개념\n",
    "- **패턴** \n",
    "    - 정규 표현식이라고 한다.\n",
    "    - 문장내에서 찾기위한 문구의 형태에 대한 표현식.\n",
    "- **메타문자**\n",
    "    - 패턴을 기술하기 위해 사용되는 특별한 의미를 가지는 문자\n",
    "    - 예) `a*` : a가 0회 이상 반복을 뜻한다. a, aa, aaaa\n",
    "- **리터럴**\n",
    "    - 표현식이 값 자체를 의미하는 것\n",
    "    - 예) `a`는 `a` 자체를 의미한다.    "
   ]
  },
  {
   "cell_type": "markdown",
   "metadata": {
    "slideshow": {
     "slide_type": "slide"
    }
   },
   "source": [
    "# 2. 정규 표현식 메타 문자\n",
    "- 패턴을 기술하기 위한 문자"
   ]
  },
  {
   "cell_type": "markdown",
   "metadata": {
    "slideshow": {
     "slide_type": "fragment"
    }
   },
   "source": [
    "## 2.1 문자 클래스 :  [  ]\n",
    "- `[ ]` 사이의 문자들과 매칭\n",
    "    - `[abc]` : a, b, c 중 **하나의 문자**와 매치\n",
    "- `-`를 이용해 범위로 설정할 수 있다.\n",
    "    - `[a-z]` : 알파벳소문자중 하나의 문자와 매치\n",
    "    - `[a-zA-Z0-9]` : 알파벳대소문자와 숫자 중 하나의 문자와 매치\n",
    "- `[^ 패턴]` : ^ 으로 시작하는 경우 반대의 의미\n",
    "    - `[^abc]` : a, b, c를 제외한 나머지 문자들 중 하나와 매치.\n",
    "    - `[^a-z]` : 알파벳 소문자를 제외한 나머지 문자들 중 하나와 매치"
   ]
  },
  {
   "cell_type": "markdown",
   "metadata": {
    "slideshow": {
     "slide_type": "subslide"
    }
   },
   "source": [
    "## 2.2 미리 정의된 문자 클래스\n",
    "- 자주 사용되는 문자클래스를 미리 정의된 별도 표기법으로 제공한다.\n",
    "- `\\d` : 숫자와 매치. [0-9]와 동일\n",
    "- `\\D` : `\\d`의 반대. 숫자가 아닌 문자와 매치.  [^0-9]와 동일\n",
    "- `\\w` : 문자와 숫자, _(underscore)와 매치. `[a-zA-Z가-힣0-9_]`와 동일\n",
    "- `\\W` : `\\w`의 반대. 문자와 숫자와 _ 가 아닌 문자와 매치.  `[^a-zA-Z0-9_]`와 동일\n",
    "- `\\s` : 공백문자와 매치. tab,줄바꿈,공백문자와 일치\n",
    "- `\\S` : `\\s`와 반대. 공백을 제외한 문자열과 매치.\n",
    "- `\\b` : 단어 경계(word boundary) 표시. 보통 단어 경계로 빈문자열\n",
    "    - 단어경계: 단어(글자- `\\w`)와 단어가 아닌 문자사이를 가리킨다.\n",
    "    - `\\b가족\\b` => 우리 가족 만세(O), 우리가족만세 (X)\n",
    "- `\\B` : `\\b`의 반대. 단어 경계로 구분된 단어가 아닌 경우\n",
    "    - `\\B가족\\B` => 우리 가족 만세(X), 우리가족만세 (O)"
   ]
  },
  {
   "cell_type": "markdown",
   "metadata": {
    "slideshow": {
     "slide_type": "subslide"
    }
   },
   "source": [
    "## 2.3. 글자수와 관련된 메타문자\n",
    "- `.` : 한개의 모든 문자(\\n-줄바꿈 제외) (`a.b`)\n",
    "- `*` : 앞의 문자(패턴)과 일치하는 문자가 0개 이상인 경우. (`a*b`)\n",
    "- `+` : 앞의 문자(패턴)과 일치하는 문자가 1개이상인 경우.  (`a+b`)\n",
    "- `?` :  앞의 문자(패턴)과 일치하는 문자가 한개 있거나 없는 경우. (`a?b`)\n",
    "- `{m}` : 앞의 문자(패턴)가 m개. (`a{3}b`)\n",
    "- `{m,}` : 앞의 문자(패턴)이 m개 이상. (`a{3,}b`)\n",
    "    - , 뒤에 공백이 들어오지 않도록 한다.\n",
    "- `{m,n}` : 앞의 문자(패턴)이 m개이상 n개 이하. (`a{2,5}b`)    \n",
    "- `.`, `*`, `+`, `?` 를 리터럴로 표현할 경우 `\\`를 붙인다."
   ]
  },
  {
   "cell_type": "markdown",
   "metadata": {
    "ExecuteTime": {
     "end_time": "2019-05-15T10:08:16.413433Z",
     "start_time": "2019-05-15T10:08:16.407394Z"
    },
    "slideshow": {
     "slide_type": "subslide"
    }
   },
   "source": [
    "## 2.4. 문장의 시작과 끝 표현\n",
    "- `^` 문자열의 시작 (`^abc`)\n",
    "    - 문자 클래스([ ])의 ^와는 의미가 다르다.\n",
    "- `$` : 문자열의 끝 (`abc$`)"
   ]
  },
  {
   "cell_type": "markdown",
   "metadata": {
    "ExecuteTime": {
     "end_time": "2019-05-15T10:08:16.413433Z",
     "start_time": "2019-05-15T10:08:16.407394Z"
    },
    "slideshow": {
     "slide_type": "fragment"
    }
   },
   "source": [
    "## 2.5. 기타\n",
    "- `|` : 둘중 하나 (OR) (010|011|016|019)\n",
    "    - 010|016-111 : 010 또는 016-111 이 된다. \n",
    "- `(  )` : 패턴내 하위그룹을 만들때 사용"
   ]
  },
  {
   "cell_type": "markdown",
   "metadata": {
    "slideshow": {
     "slide_type": "slide"
    }
   },
   "source": [
    "# 3. re 모듈\n",
    "- 파이썬에서 정규 표현식을 지원하기 위한 모듈\n",
    "- 파이썬 기본 라이브러리"
   ]
  },
  {
   "cell_type": "markdown",
   "metadata": {
    "slideshow": {
     "slide_type": "subslide"
    }
   },
   "source": [
    "## 3.1 코딩패턴\n",
    "- 모듈 import\n",
    "    - import re\n",
    "1. 객체지향형\n",
    "    - 패턴 객체를 생성후 메소드를 호출해 원하는 처리를 한다.\n",
    "     ```python\n",
    "        p = re.compile(r'\\d+')\n",
    "        p.search('abc123def')\n",
    "    ```\n",
    "2. 함수형\n",
    "    - `re` 모듈의 원하는 작업을 하는 함수를 호출한다. Argument로 패턴과 처리할 값을 전달한다.\n",
    "    ```python\n",
    "        re.search(r'\\d+', 'abc123def')\n",
    "    ```\n",
    "    \n",
    "> ### raw string\n",
    "> - 패턴문자중 `\\`로 시작하는 것들을 사용할 경우 `escape` 문자와의 구분을 위해 `\\\\` 두개씩 작성해야한다.  그래서 패턴을 지정할 때는 raw string을 사용하는 것이 편리하다.\n",
    ">    - `re.compile('\\b가족\\b')` : `\\b`를 escape 문자 b(백스페이스)로 인식\n",
    ">    - `re.compile(r'\\b가족\\b')` : `\\b`가 일반문자가 되어 컴파일시 정규식 메타문자로 처리된다.\n"
   ]
  },
  {
   "cell_type": "markdown",
   "metadata": {
    "slideshow": {
     "slide_type": "slide"
    }
   },
   "source": [
    "## 3.2. 검색함수\n",
    "- match(), search() : 패턴과 일치하는 문장이 **있는지 여부**를 확인할 때 사용\n",
    "- findall() : 패턴과 일치하는 문장을 **찾을 때** 사용"
   ]
  },
  {
   "cell_type": "markdown",
   "metadata": {
    "slideshow": {
     "slide_type": "subslide"
    }
   },
   "source": [
    "### 3.2.1. Match 객체\n",
    "- **검색 결과를** 담아 반환되는 객체\n",
    "    - match(), search() 의 반환타입\n",
    "- 패턴과 일치한 문자열과 대상문자열 내에서의 위치를 가지고 있는 객체\n",
    "- 주요 메소드\n",
    "    - **group()** : 매치된 문자열들을 튜플로 반환\n",
    "    - **group(subgroup 번호)** : 패턴에 하위그룹이 지정된 경우 특정 그룹의 문자열 반환\n",
    "    - **start(), end()** : 대상 문자열내에서 시작, 끝 index 반환\n",
    "    - **span()** : 대상 문자열 내에서 시작, 끝 index를 tuple로 반환"
   ]
  },
  {
   "cell_type": "markdown",
   "metadata": {
    "slideshow": {
     "slide_type": "subslide"
    }
   },
   "source": [
    "### 3.2.2 match(대상문자열 [, pos=0])\n",
    "- 대상 문자열의 시작 부터 정규식과 일치하는 것이 있는지 조회\n",
    "- pos : 시작 index 지정\n",
    "- 반환값\n",
    "    - Match 객체: 일치하는 문자열이 있는 경우\n",
    "    - None: 일치하는 문자열이 없는 경우"
   ]
  },
  {
   "cell_type": "code",
   "execution_count": 9,
   "metadata": {
    "ExecuteTime": {
     "end_time": "2023-01-04T02:38:11.876690Z",
     "start_time": "2023-01-04T02:38:11.858175Z"
    },
    "slideshow": {
     "slide_type": "fragment"
    }
   },
   "outputs": [
    {
     "name": "stdout",
     "output_type": "stream",
     "text": [
      "None\n",
      "없음\n"
     ]
    }
   ],
   "source": [
    "import re\n",
    "\n",
    "# txt = \"안녕하세요. 제 나이는 20세 입니다.\"\n",
    "txt = \"반갑습니다. 안녕하세요. 제 나이는 20세 입니다.\"\n",
    "pattern = r'안녕' # literal로만 만든 패턴\n",
    "# 함수\n",
    "m = re.match(pattern, txt)  #패턴, 찾을 대상 -> 문장의 시작이 pattern과 일치하는지.\n",
    "print(m)\n",
    "if m:\n",
    "    print(\"찾은 문자열:\", m.group())\n",
    "    print('찾은 문자열의 시작, 끝 위치, 전체위치:', m.start(), m.end(), m.span())\n",
    "else: #m == None\n",
    "    print('없음')"
   ]
  },
  {
   "cell_type": "code",
   "execution_count": 18,
   "metadata": {
    "ExecuteTime": {
     "end_time": "2023-01-04T02:47:49.832962Z",
     "start_time": "2023-01-04T02:47:49.818690Z"
    }
   },
   "outputs": [
    {
     "name": "stdout",
     "output_type": "stream",
     "text": [
      "<class 're.Pattern'>\n",
      "없음\n"
     ]
    }
   ],
   "source": [
    "txt = \"반갑습니다. 안녕하세요. 제 나이는 20세 입니다.\"\n",
    "# pattern = r'[가-힣]'\n",
    "# pattern = r'[가-힣]+' # +: 앞의 글자가 1개 이상.\n",
    "pattern = r'[가-힣]{7}'  # {7}: 앞의 글자가 7글자.\n",
    "p = re.compile(pattern)\n",
    "print(type(p))\n",
    "m = p.match(txt, pos=7) #index5 부터 찾기 시작.\n",
    "if m:\n",
    "    print(m.group(), m.span())\n",
    "else:\n",
    "    print('없음')"
   ]
  },
  {
   "cell_type": "markdown",
   "metadata": {
    "slideshow": {
     "slide_type": "subslide"
    }
   },
   "source": [
    "### 3.2.3 search(대상문자열 [, pos=0])\n",
    "- 대상문자열 전체 안에서 정규식과 일치하는 것이 있는지 조회\n",
    "- pos: 찾기 시작하는 index 지정\n",
    "- 반환값\n",
    "    - Match 객체: 일치하는 문자열이 있는 경우\n",
    "    - None: 일치하는 문자열이 없는 경우|"
   ]
  },
  {
   "cell_type": "code",
   "execution_count": 23,
   "metadata": {
    "ExecuteTime": {
     "end_time": "2023-01-04T02:51:41.170238Z",
     "start_time": "2023-01-04T02:51:41.152821Z"
    },
    "slideshow": {
     "slide_type": "fragment"
    }
   },
   "outputs": [
    {
     "name": "stdout",
     "output_type": "stream",
     "text": [
      "안녕하세 (29, 33)\n"
     ]
    }
   ],
   "source": [
    "txt = \"반갑습니다. 안녕하세요. 제 나이는 20세 입니다. 안녕하세요.\"\n",
    "pattern = r'안녕하세'\n",
    "p = re.compile(pattern)\n",
    "m = p.search(txt, pos=9) #pos을 지정하면 그 index에서부터 찾는다.\n",
    "if m:\n",
    "    print(m.group(), m.span())\n",
    "else:\n",
    "    print('없음')"
   ]
  },
  {
   "cell_type": "code",
   "execution_count": 27,
   "metadata": {
    "ExecuteTime": {
     "end_time": "2023-01-04T03:13:42.951669Z",
     "start_time": "2023-01-04T03:13:42.938267Z"
    }
   },
   "outputs": [
    {
     "name": "stdout",
     "output_type": "stream",
     "text": [
      "<re.Match object; span=(7, 11), match='4000'>\n"
     ]
    }
   ],
   "source": [
    "txt = \"가격은 각각 4000, 5000, 15000, 25000입니다.\"\n",
    "# m = re.search(r'\\d+', txt)  # 숫자 1개 이상이 연결\n",
    "# m = re.search(r'\\d{5}', txt)  # 숫자 5개 -> 만단위 숫자\n",
    "m = re.search(r'\\d{4,7}', txt)   # 숫자 4 ~ 7개 -> 천단위 ~ 백만 단위 숫자\n",
    "print(m)"
   ]
  },
  {
   "cell_type": "markdown",
   "metadata": {
    "slideshow": {
     "slide_type": "subslide"
    }
   },
   "source": [
    "### 3.2.4. findall(대상문자열)\n",
    "- 대상문자열에서 정규식과 매칭되는 문자열들을 리스트로 반환\n",
    "- 반환값\n",
    "    - 리스트(List) : 일치하는 문자열들을 가진 리스트를 반환\n",
    "    - 일치하는 문자열이 없는 경우 빈 리스트 반환"
   ]
  },
  {
   "cell_type": "code",
   "execution_count": 30,
   "metadata": {
    "ExecuteTime": {
     "end_time": "2023-01-04T03:20:21.677651Z",
     "start_time": "2023-01-04T03:20:21.668615Z"
    }
   },
   "outputs": [
    {
     "name": "stdout",
     "output_type": "stream",
     "text": [
      "['가격은', '각각', '입니다']\n"
     ]
    }
   ],
   "source": [
    "txt = \"가격은 각각 4000, 5000, 15000, 25000, 10, 9, 236입니다.\"\n",
    "# pattern = r'\\d'  #숫자 1개\n",
    "pattern = r'\\d+'  #1개이상의 숫자들\n",
    "pattern = r'[가-힣]+' # 1개 이상의 한글들\n",
    "p = re.compile(pattern)\n",
    "m = p.findall(txt)\n",
    "print(m)"
   ]
  },
  {
   "cell_type": "markdown",
   "metadata": {
    "slideshow": {
     "slide_type": "subslide"
    }
   },
   "source": [
    "# TODO\n",
    "- info 변수는 한줄에 한사람의 data가 있고 구성은 **`이름 이메일주소 주민번호`** 순서로 되어있다."
   ]
  },
  {
   "cell_type": "code",
   "execution_count": 49,
   "metadata": {
    "ExecuteTime": {
     "end_time": "2023-01-04T05:18:10.194419Z",
     "start_time": "2023-01-04T05:18:10.186015Z"
    },
    "slideshow": {
     "slide_type": "skip"
    }
   },
   "outputs": [],
   "source": [
    "info ='''김정수 kjs@gmail.com 801023-1010221\n",
    "박영수 pys.abc@gmail.com 700121-1120212\n",
    "이민영 lmy-abc@naver.co.kr 820301-2020122\n",
    "김순희 ksh@daum.net 781223-2012212\n",
    "오주연 ojy@daum.net 900522-1023218'''\n"
   ]
  },
  {
   "cell_type": "code",
   "execution_count": 52,
   "metadata": {
    "ExecuteTime": {
     "end_time": "2023-01-04T05:20:10.174904Z",
     "start_time": "2023-01-04T05:20:10.169480Z"
    },
    "slideshow": {
     "slide_type": "skip"
    }
   },
   "outputs": [
    {
     "name": "stdout",
     "output_type": "stream",
     "text": [
      "['kjs@gmail.com', 'pys.abc@gmail.com', 'lmy-abc@naver.co.kr', 'ksh@daum.net', 'ojy@daum.net']\n"
     ]
    }
   ],
   "source": [
    "# Email 주소만 추출 해서 출력\n",
    "# [\\w-\\.]+ : \\w(일반문자, 숫자, _) 또는 - 또는 . 이 1글자 이상  \n",
    "pattern = r'[\\w\\-\\.]+@[\\w\\-\\.]+[\\w\\-]{2,4}'\n",
    "p = re.compile(pattern)\n",
    "result = p.findall(info)\n",
    "print(result)"
   ]
  },
  {
   "cell_type": "code",
   "execution_count": 53,
   "metadata": {
    "ExecuteTime": {
     "end_time": "2023-01-04T05:22:11.997081Z",
     "start_time": "2023-01-04T05:22:11.985731Z"
    },
    "slideshow": {
     "slide_type": "skip"
    }
   },
   "outputs": [
    {
     "name": "stdout",
     "output_type": "stream",
     "text": [
      "['801023-1010221', '700121-1120212', '820301-2020122', '781223-2012212', '900522-1023218']\n"
     ]
    }
   ],
   "source": [
    "# 주민번호들만 조회해서 출력\n",
    "pattern = r'\\d{6}-[012349]\\d{6}'\n",
    "p = re.compile(pattern)\n",
    "result = p.findall(info)\n",
    "print(result)"
   ]
  },
  {
   "cell_type": "markdown",
   "metadata": {
    "slideshow": {
     "slide_type": "slide"
    }
   },
   "source": [
    "### finditer(대상문자열)\n",
    "- 패턴에 일치하는 모든 문자열을 찾아주는 Iterator => for문, list()\n",
    "- 찾은 문자열을 Match 객체로 반환."
   ]
  },
  {
   "cell_type": "code",
   "execution_count": 56,
   "metadata": {
    "ExecuteTime": {
     "end_time": "2023-01-04T05:25:08.304361Z",
     "start_time": "2023-01-04T05:25:08.289352Z"
    },
    "slideshow": {
     "slide_type": "fragment"
    }
   },
   "outputs": [
    {
     "name": "stdout",
     "output_type": "stream",
     "text": [
      "<class 'callable_iterator'>\n",
      "<re.Match object; span=(18, 32), match='801023-1010221'>\n",
      "<re.Match object; span=(55, 69), match='700121-1120212'>\n",
      "<re.Match object; span=(94, 108), match='820301-2020122'>\n",
      "<re.Match object; span=(126, 140), match='781223-2012212'>\n",
      "<re.Match object; span=(158, 172), match='900522-1023218'>\n"
     ]
    }
   ],
   "source": [
    "result = p.finditer(info)\n",
    "print(type(result))\n",
    "for m in result:\n",
    "    print(m)"
   ]
  },
  {
   "cell_type": "markdown",
   "metadata": {
    "slideshow": {
     "slide_type": "slide"
    }
   },
   "source": [
    "## 3.3. 문자열 변경\n",
    "- sub(): 변경된 문자열 반환\n",
    "- subn(): 변경된 문자열, 변경개수 반환"
   ]
  },
  {
   "cell_type": "markdown",
   "metadata": {
    "slideshow": {
     "slide_type": "subslide"
    }
   },
   "source": [
    "### 3.3.1 sub(바꿀문자열, 대상문자열 [, count=양수])\n",
    "- 대상문자열에서 패턴과 일치하는 것을 바꿀문자열로 변경한다.\n",
    "- count: 변경할 개수를 지정. 기본: 매칭되는 문자열은 다 변경\n",
    "- 반환값: 변경된 문자열\n",
    "\n",
    "### 3.3.2 subn(바꿀문자열, 대상문자열 [, count=양수])\n",
    "- sub()와 동일한 역할.\n",
    "- 반환값 : (변경된 문자열, 변경된문자열개수) 를 tuple로 반환"
   ]
  },
  {
   "cell_type": "code",
   "execution_count": 63,
   "metadata": {
    "ExecuteTime": {
     "end_time": "2023-01-04T05:39:14.588656Z",
     "start_time": "2023-01-04T05:39:14.567892Z"
    }
   },
   "outputs": [
    {
     "name": "stdout",
     "output_type": "stream",
     "text": [
      "변경개수: 9\n",
      "오늘은 수요일 입니다. 내일은 목요일 입니다. 글피는 금 요일 입니다.\n"
     ]
    }
   ],
   "source": [
    "txt = '오늘은     수요일           입니다.'\n",
    "txt = '''오늘은    수요일     입니다.\n",
    "내일은      목요일          입니다.\n",
    "글피는       금\\t요일         입니다.'''\n",
    "# 공백들을 공백한개로 변경.\n",
    "# pattern = r' +' # 공백들\n",
    "pattern = r'\\s+'  # \\s : 공백, tab, 엔터\n",
    "p = re.compile(pattern)\n",
    "# result = p.sub(' ', txt)\n",
    "result, cnt = p.subn(' ', txt)\n",
    "print('변경개수:', cnt)\n",
    "print(result)"
   ]
  },
  {
   "cell_type": "code",
   "execution_count": 64,
   "metadata": {
    "ExecuteTime": {
     "end_time": "2023-01-04T05:44:25.945596Z",
     "start_time": "2023-01-04T05:44:25.940043Z"
    }
   },
   "outputs": [
    {
     "name": "stdout",
     "output_type": "stream",
     "text": [
      "123450\n"
     ]
    }
   ],
   "source": [
    "txt = 'test1, test2, test3, test4, test50'\n",
    "# 숫자이외에는 다 제거\n",
    "pattern = r'[^0-9]'\n",
    "p = re.compile(pattern)\n",
    "result = p.sub('', txt)  # 지우기: '': 빈문자열(0글자)로 변경\n",
    "print(result)"
   ]
  },
  {
   "cell_type": "markdown",
   "metadata": {
    "slideshow": {
     "slide_type": "subslide"
    }
   },
   "source": [
    "## 3.4 나누기(토큰화)\n",
    "### 3.4.1 split(대상문자열)\n",
    "- pattern을 구분자로 문장을 나눈다.\n",
    "- 반환: 나눈 문자열을 원소로 하는 리스트"
   ]
  },
  {
   "cell_type": "code",
   "execution_count": 65,
   "metadata": {
    "ExecuteTime": {
     "end_time": "2023-01-04T06:14:19.837282Z",
     "start_time": "2023-01-04T06:14:19.828212Z"
    },
    "slideshow": {
     "slide_type": "fragment"
    }
   },
   "outputs": [
    {
     "data": {
      "text/plain": [
       "['사과', '복숭아', '배', '수박']"
      ]
     },
     "execution_count": 65,
     "metadata": {},
     "output_type": "execute_result"
    }
   ],
   "source": [
    "\"사과,복숭아,배,수박\".split(',')"
   ]
  },
  {
   "cell_type": "code",
   "execution_count": 69,
   "metadata": {
    "ExecuteTime": {
     "end_time": "2023-01-04T06:17:01.643935Z",
     "start_time": "2023-01-04T06:17:01.635947Z"
    }
   },
   "outputs": [
    {
     "data": {
      "text/plain": [
       "['사과', '복숭아', '배', '수박']"
      ]
     },
     "execution_count": 69,
     "metadata": {},
     "output_type": "execute_result"
    }
   ],
   "source": [
    "txt = \"사과,복숭아,배|수박\"\n",
    "# txt.split(',')\n",
    "p = re.compile(r'[,|]')   #구분자 패턴\n",
    "p.split(txt)"
   ]
  },
  {
   "cell_type": "markdown",
   "metadata": {
    "slideshow": {
     "slide_type": "slide"
    }
   },
   "source": [
    "# 4. 그룹핑(Grouping)\n",
    "- 패턴 내에서 하위패턴을 만드는 것.\n",
    "    - 전체 패턴에서 일부 패턴을 묶어준다.\n",
    "- 구문: (패턴)"
   ]
  },
  {
   "cell_type": "markdown",
   "metadata": {
    "ExecuteTime": {
     "end_time": "2019-05-16T00:56:13.966065Z",
     "start_time": "2019-05-16T00:56:13.960644Z"
    },
    "slideshow": {
     "slide_type": "subslide"
    }
   },
   "source": [
    "## 4.1. 그룹핑 예\n",
    "\n",
    "### 4.1.1 전체 패턴 내에서 일부 패턴을 조회"
   ]
  },
  {
   "cell_type": "code",
   "execution_count": 82,
   "metadata": {
    "ExecuteTime": {
     "end_time": "2023-01-04T06:29:54.741717Z",
     "start_time": "2023-01-04T06:29:54.724267Z"
    },
    "slideshow": {
     "slide_type": "fragment"
    }
   },
   "outputs": [
    {
     "name": "stdout",
     "output_type": "stream",
     "text": [
      "<re.Match object; span=(4, 17), match='010-1111-2222'>\n",
      "010-1111-2222\n",
      "010\n",
      "1111\n",
      "2222\n"
     ]
    }
   ],
   "source": [
    "tel = 'TEL:010-1111-2222'\n",
    "pattern = r'(\\d{2,3})-(\\d{3,4})-(\\d{4})'\n",
    "p = re.compile(pattern)\n",
    "m = p.search(tel)\n",
    "print(m)\n",
    "if m:\n",
    "    print(m.group())  #패턴과 일치하는 전체 문장을 반환.\n",
    "    print(m.group(1)) # 첫번재 () 로 묶인 하위그룹 패턴을 반환\n",
    "    print(m.group(2))\n",
    "    print(m.group(3))"
   ]
  },
  {
   "cell_type": "code",
   "execution_count": 88,
   "metadata": {
    "ExecuteTime": {
     "end_time": "2023-01-04T06:36:41.845095Z",
     "start_time": "2023-01-04T06:36:41.827926Z"
    }
   },
   "outputs": [
    {
     "name": "stdout",
     "output_type": "stream",
     "text": [
      "[('abc', 'naver.com'), ('test', 'daum.net'), ('my_mail', 'gmail.com')]\n",
      "ID: abc, 도메인: naver.com\n",
      "ID: test, 도메인: daum.net\n",
      "ID: my_mail, 도메인: gmail.com\n"
     ]
    }
   ],
   "source": [
    "txt = \"abc@naver.com, test@daum.net, my_mail@gmail.com\"\n",
    "# email 주소: 계정ID@도메인\n",
    "pattern = r\"(\\w+)@(\\w+\\.\\w+)\"\n",
    "p = re.compile(pattern)\n",
    "print(p.findall(txt))\n",
    "for id, domain in p.findall(txt): #찾은 문자열들을 리스트로 반환\n",
    "    print(f'ID: {id}, 도메인: {domain}')\n",
    "    "
   ]
  },
  {
   "cell_type": "code",
   "execution_count": 91,
   "metadata": {
    "ExecuteTime": {
     "end_time": "2023-01-04T06:38:16.753875Z",
     "start_time": "2023-01-04T06:38:16.739930Z"
    }
   },
   "outputs": [
    {
     "name": "stdout",
     "output_type": "stream",
     "text": [
      "abc@naver.com\n",
      "계정ID: abc\n",
      "도메인: naver.com\n",
      "==============================\n",
      "test@daum.net\n",
      "계정ID: test\n",
      "도메인: daum.net\n",
      "==============================\n",
      "my_mail@gmail.com\n",
      "계정ID: my_mail\n",
      "도메인: gmail.com\n",
      "==============================\n"
     ]
    }
   ],
   "source": [
    "for m in p.finditer(txt):\n",
    "    print(m.group())\n",
    "    print('계정ID:', m.group(1))\n",
    "    print('도메인:', m.group(2))\n",
    "    print('='*30)"
   ]
  },
  {
   "cell_type": "markdown",
   "metadata": {
    "slideshow": {
     "slide_type": "subslide"
    }
   },
   "source": [
    "### 4.1.2 패턴 내에서 하위그룹 참조\n",
    "- `\\번호`\n",
    "- 지정한 '번호' 번째 패턴으로 매칭된 문자열과 같은 문자열을 의미"
   ]
  },
  {
   "cell_type": "code",
   "execution_count": 97,
   "metadata": {
    "ExecuteTime": {
     "end_time": "2023-01-04T07:01:59.341209Z",
     "start_time": "2023-01-04T07:01:59.324467Z"
    },
    "slideshow": {
     "slide_type": "fragment"
    }
   },
   "outputs": [
    {
     "name": "stdout",
     "output_type": "stream",
     "text": [
      "010-2222-2222 2222 2222\n",
      "010-5555-5555 5555 5555\n"
     ]
    }
   ],
   "source": [
    "txt = \"\"\"010-1111-2222\n",
    "010-2222-2222\n",
    "010-3333-4444\n",
    "010-5555-5555\n",
    "\"\"\"\n",
    "\n",
    "# 패턴: 국번과 번호가 같은 전화번호\n",
    "pattern = r'\\d{2,3}-(\\d{3,4})-(\\1)'  #\\1 : 1번 하위그룹으로 찾은 값과 같은 값을 가진것. (패턴뿐 아니라 값도 같아야 한다.)\n",
    "p = re.compile(pattern)\n",
    "for m in p.finditer(txt):\n",
    "    print(m.group(), m.group(1), m.group(2))"
   ]
  },
  {
   "cell_type": "markdown",
   "metadata": {
    "slideshow": {
     "slide_type": "slide"
    }
   },
   "source": [
    "### 4.1.3 패턴내의 특정 부분만 변경"
   ]
  },
  {
   "cell_type": "code",
   "execution_count": 108,
   "metadata": {
    "ExecuteTime": {
     "end_time": "2023-01-04T07:16:46.874284Z",
     "start_time": "2023-01-04T07:16:46.862850Z"
    },
    "slideshow": {
     "slide_type": "fragment"
    }
   },
   "outputs": [
    {
     "name": "stdout",
     "output_type": "stream",
     "text": [
      "김정수 kjs@gmail.com 801023-1010221\n",
      "박영수 pys.abc@gmail.com 700121-1120212\n",
      "이민영 lmy-abc@naver.co.kr 820301-2020122\n",
      "김순희 ksh@daum.net 781223-2012212\n",
      "오주연 ojy@daum.net 900522-1023218\n",
      "\n",
      "김정수 kjs@gmail.com 801023-1######\n",
      "박영수 pys.abc@gmail.com 700121-1######\n",
      "이민영 lmy-abc@naver.co.kr 820301-2######\n",
      "김순희 ksh@daum.net 781223-2######\n",
      "오주연 ojy@daum.net 900522-1######\n",
      "\n"
     ]
    }
   ],
   "source": [
    "print(info)\n",
    "# 주민번호중에 마지막 6개 숫자를 #으로 변경\n",
    "pattern = r'(\\d{6}-[012349])\\d{6}'   # 찾은 것 중 남길것(변경안할 것)을 그룹으로 묶는다.\n",
    "p = re.compile(pattern)\n",
    "result = p.sub(\"\\g<1>######\", info)   #\\g<1>: 1번 그룹의 값으로 변경\n",
    "print(result)\n",
    "# for m in p.finditer(info):\n",
    "#     print(m.group(), m.group(1), sep=' -> ')"
   ]
  },
  {
   "cell_type": "markdown",
   "metadata": {
    "slideshow": {
     "slide_type": "fragment"
    }
   },
   "source": [
    "### group으로 묶인 것 참조(조회)\n",
    "- 패턴 안에서 참조 \n",
    "    - `\\번호` , `r'(\\d{3}) \\1'` => 중복되는 것을 패턴으로 표현할 때.\n",
    "- match 조회\n",
    "    - match객체.group(번호)\n",
    "- sub() 함수에서 대체 문자로 참조\n",
    "    - `\\g<번호>`"
   ]
  },
  {
   "cell_type": "code",
   "execution_count": 113,
   "metadata": {
    "ExecuteTime": {
     "end_time": "2023-01-04T07:24:24.274040Z",
     "start_time": "2023-01-04T07:24:24.262196Z"
    },
    "scrolled": true
   },
   "outputs": [
    {
     "name": "stdout",
     "output_type": "stream",
     "text": [
      "<re.Match object; span=(0, 13), match='010-1111-2222'>\n",
      "010-1111-2222\n",
      "010-1111\n",
      "010\n",
      "1111\n",
      "2222\n"
     ]
    }
   ],
   "source": [
    "txt = \"\"\"010-1111-2222\n",
    "010-2222-2222\n",
    "010-3333-4444\n",
    "010-5555-5555\n",
    "\"\"\"\n",
    "# 하위그룹 내에 하위그룹이 있을 경우 ===> 중첩\n",
    "pattern = r'((\\d{2,3})-(\\d{3,4}))-(\\d{4})'\n",
    "# (1 (2 )-(3 )) - (4 ) \n",
    "p = re.compile(pattern)\n",
    "m = p.search(txt)\n",
    "print(m)\n",
    "print(m.group())\n",
    "print(m.group(1))\n",
    "print(m.group(2))\n",
    "print(m.group(3))\n",
    "print(m.group(4))"
   ]
  },
  {
   "cell_type": "markdown",
   "metadata": {
    "slideshow": {
     "slide_type": "slide"
    }
   },
   "source": [
    "# 5. Greedy 와 Non-Greedy\n",
    "- Greedy(탐욕스러운-최대일치) 의 의미\n",
    "    - 주어진 패턴에 만족하는 문자열을 최대한 넓게(길게) 잡아 찾는다.\n",
    "    - 매칭시 기본 방식\n",
    "- Non-Greedy(최소일치)\n",
    "    - 주어진 패턴에 만족하는 문자열을 최초의 일치하는 위치까지 찾는다\n",
    "    - 개수를 나타내는 메타문자(수량자)에 **`?`**를 붙인다.\n",
    "    - `*?`, `+?`, `{m,n}?`"
   ]
  },
  {
   "cell_type": "code",
   "execution_count": 118,
   "metadata": {
    "ExecuteTime": {
     "end_time": "2023-01-04T07:40:28.231288Z",
     "start_time": "2023-01-04T07:40:28.208287Z"
    }
   },
   "outputs": [
    {
     "data": {
      "text/plain": [
       "['<div>', '<b>', '</b>', '</div>']"
      ]
     },
     "execution_count": 118,
     "metadata": {},
     "output_type": "execute_result"
    }
   ],
   "source": [
    "txt = \"<div>파이썬 <b>정규표현식</b> </div>\"\n",
    "# <div><b></b></div>  태그만 조회\n",
    "# pattern = r'<.+>'\n",
    "pattern = r'<.+?>'\n",
    "p = re.compile(pattern)\n",
    "p.findall(txt)"
   ]
  },
  {
   "cell_type": "markdown",
   "metadata": {
    "slideshow": {
     "slide_type": "slide"
    }
   },
   "source": [
    "# 6. 전방/후방 탐색\n",
    "- 패턴과 일치하는 문자열을 찾을 때는 사용하되 반환(소비) 되지 않도록 하는 패턴이 있을 때 사용.\n",
    "- **전방탐색**\n",
    "    - 반환(소비)될 문자열들이 앞에 있는 경우.\n",
    "    - 긍정 전방탐색\n",
    "        - %%%(?=패턴) : %%%-반환될 패턴\n",
    "    - 부정 전방탐색\n",
    "        - %%%(?!패턴)  : 부정은 =를 !로 바꾼다.\n",
    "- **후방탐색**\n",
    "    - 반환(소비)될 문자열이 뒤에 있는 경우.\n",
    "    - 긍정 후방탐색\n",
    "        - (?<=패턴)%%%\n",
    "    - 부정 후방탐색\n",
    "        - (?<!패턴)%%%"
   ]
  },
  {
   "cell_type": "code",
   "execution_count": 122,
   "metadata": {
    "ExecuteTime": {
     "end_time": "2023-01-04T08:12:37.514676Z",
     "start_time": "2023-01-04T08:12:37.497592Z"
    }
   },
   "outputs": [
    {
     "name": "stdout",
     "output_type": "stream",
     "text": [
      "['300001', '2300001', '42000001']\n"
     ]
    }
   ],
   "source": [
    "info = \"\"\"TV 300001원 30개\n",
    "컴퓨터 2300001원 50개\n",
    "모니터 42000001원 70개\n",
    "\"\"\"\n",
    "# 가격만 조회\n",
    "# pattern = r'\\d+원'\n",
    "# 가격만 조회 -> 조회결과에서 `원`은 뺀다.\n",
    "pattern = r'\\d+(?=원)'\n",
    "p = re.compile(pattern)\n",
    "print(p.findall(info))"
   ]
  },
  {
   "cell_type": "code",
   "execution_count": 126,
   "metadata": {
    "ExecuteTime": {
     "end_time": "2023-01-04T08:16:34.026760Z",
     "start_time": "2023-01-04T08:16:34.009340Z"
    }
   },
   "outputs": [
    {
     "name": "stdout",
     "output_type": "stream",
     "text": [
      "['300001', '2300001', '42000001']\n"
     ]
    }
   ],
   "source": [
    "info = \"\"\"TV $300001 30개\n",
    "컴퓨터 $2300001 50개\n",
    "모니터 $42000001 70개\n",
    "\"\"\"\n",
    "# 가격만 조회\n",
    "# pattern = r'\\$\\d+'\n",
    "# 가격만 조회하 -> 결과에서 $는 뺀다.\n",
    "pattern = r'(?<=\\$)\\d+'\n",
    "p = re.compile(pattern)\n",
    "print(p.findall(info))"
   ]
  },
  {
   "cell_type": "code",
   "execution_count": null,
   "metadata": {},
   "outputs": [],
   "source": []
  },
  {
   "cell_type": "code",
   "execution_count": null,
   "metadata": {},
   "outputs": [],
   "source": []
  },
  {
   "cell_type": "code",
   "execution_count": null,
   "metadata": {},
   "outputs": [],
   "source": []
  },
  {
   "cell_type": "code",
   "execution_count": null,
   "metadata": {},
   "outputs": [],
   "source": []
  },
  {
   "cell_type": "code",
   "execution_count": null,
   "metadata": {},
   "outputs": [],
   "source": []
  },
  {
   "cell_type": "code",
   "execution_count": null,
   "metadata": {},
   "outputs": [],
   "source": []
  },
  {
   "cell_type": "code",
   "execution_count": null,
   "metadata": {},
   "outputs": [],
   "source": []
  },
  {
   "cell_type": "code",
   "execution_count": null,
   "metadata": {},
   "outputs": [],
   "source": []
  },
  {
   "cell_type": "code",
   "execution_count": null,
   "metadata": {
    "slideshow": {
     "slide_type": "fragment"
    }
   },
   "outputs": [],
   "source": []
  }
 ],
 "metadata": {
  "kernelspec": {
   "display_name": "Python 3 (ipykernel)",
   "language": "python",
   "name": "python3"
  },
  "language_info": {
   "codemirror_mode": {
    "name": "ipython",
    "version": 3
   },
   "file_extension": ".py",
   "mimetype": "text/x-python",
   "name": "python",
   "nbconvert_exporter": "python",
   "pygments_lexer": "ipython3",
   "version": "3.9.13"
  },
  "toc": {
   "base_numbering": 1,
   "nav_menu": {},
   "number_sections": false,
   "sideBar": false,
   "skip_h1_title": false,
   "title_cell": "Table of Contents",
   "title_sidebar": "Contents",
   "toc_cell": false,
   "toc_position": {
    "height": "606.319px",
    "left": "10px",
    "top": "150px",
    "width": "336.889px"
   },
   "toc_section_display": false,
   "toc_window_display": false
  },
  "varInspector": {
   "cols": {
    "lenName": 16,
    "lenType": 16,
    "lenVar": 40
   },
   "kernels_config": {
    "python": {
     "delete_cmd_postfix": "",
     "delete_cmd_prefix": "del ",
     "library": "var_list.py",
     "varRefreshCmd": "print(var_dic_list())"
    },
    "r": {
     "delete_cmd_postfix": ") ",
     "delete_cmd_prefix": "rm(",
     "library": "var_list.r",
     "varRefreshCmd": "cat(var_dic_list()) "
    }
   },
   "types_to_exclude": [
    "module",
    "function",
    "builtin_function_or_method",
    "instance",
    "_Feature"
   ],
   "window_display": false
  }
 },
 "nbformat": 4,
 "nbformat_minor": 2
}
