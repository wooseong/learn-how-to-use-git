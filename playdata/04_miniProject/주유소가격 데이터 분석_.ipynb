{
 "cells": [
  {
   "cell_type": "markdown",
   "metadata": {},
   "source": [
    "kgmyh@naver.com 으로 `이름_주유소가격 데이터 분석.html` 로 제출\n",
    "- html 파일로 변환\n",
    "    - File > Download as > HTML (.html) 선택"
   ]
  },
  {
   "cell_type": "markdown",
   "metadata": {},
   "source": [
    "# 데이터 불러오기"
   ]
  },
  {
   "cell_type": "markdown",
   "metadata": {
    "ExecuteTime": {
     "end_time": "2021-03-12T05:10:15.329775Z",
     "start_time": "2021-03-12T05:10:15.314775Z"
    }
   },
   "source": [
    "- 2022년 주유소들의 일자별 가격 데이터\n",
    "- https://www.opinet.co.kr/user/opdown/opDownload.do"
   ]
  },
  {
   "cell_type": "code",
   "execution_count": 1,
   "metadata": {
    "ExecuteTime": {
     "end_time": "2023-01-18T07:06:18.534758Z",
     "start_time": "2023-01-18T07:06:16.877745Z"
    }
   },
   "outputs": [],
   "source": [
    "import pandas as pd\n",
    "import numpy as np\n",
    "import matplotlib.pyplot as plt\n",
    "import seaborn as sns"
   ]
  },
  {
   "cell_type": "code",
   "execution_count": 5,
   "metadata": {
    "ExecuteTime": {
     "end_time": "2023-01-18T07:13:33.471496Z",
     "start_time": "2023-01-18T07:13:33.095686Z"
    }
   },
   "outputs": [
    {
     "data": {
      "text/plain": [
       "((82689, 11), (81793, 11))"
      ]
     },
     "execution_count": 5,
     "metadata": {},
     "output_type": "execute_result"
    }
   ],
   "source": [
    "# 상반기, 하반기 주유소 가격 데이터 조회\n",
    "d1 = pd.read_csv('data/2022년_서울_상반기_일별_가격.csv', encoding='cp949')\n",
    "d2 = pd.read_csv('data/2022년_서울_하반기_일별_가격.csv', encoding='cp949')\n",
    "d1.shape, d2.shape"
   ]
  },
  {
   "cell_type": "code",
   "execution_count": 9,
   "metadata": {
    "ExecuteTime": {
     "end_time": "2023-01-18T07:16:51.364565Z",
     "start_time": "2023-01-18T07:16:51.313937Z"
    }
   },
   "outputs": [
    {
     "data": {
      "text/plain": [
       "(164482, 11)"
      ]
     },
     "execution_count": 9,
     "metadata": {},
     "output_type": "execute_result"
    }
   ],
   "source": [
    "# 상반기, 하반기 DataFrame 합치기\n",
    "df = pd.concat([d1, d2], ignore_index=True)\n",
    "df.shape"
   ]
  },
  {
   "cell_type": "code",
   "execution_count": 11,
   "metadata": {
    "ExecuteTime": {
     "end_time": "2023-01-18T07:17:33.536682Z",
     "start_time": "2023-01-18T07:17:33.413996Z"
    },
    "collapsed": true
   },
   "outputs": [
    {
     "name": "stdout",
     "output_type": "stream",
     "text": [
      "<class 'pandas.core.frame.DataFrame'>\n",
      "RangeIndex: 164482 entries, 0 to 164481\n",
      "Data columns (total 11 columns):\n",
      " #   Column  Non-Null Count   Dtype \n",
      "---  ------  --------------   ----- \n",
      " 0   번호      164482 non-null  object\n",
      " 1   지역      164482 non-null  object\n",
      " 2   상호      164482 non-null  object\n",
      " 3   주소      164482 non-null  object\n",
      " 4   기간      164482 non-null  int64 \n",
      " 5   상표      164482 non-null  object\n",
      " 6   셀프여부    164482 non-null  object\n",
      " 7   고급휘발유   164482 non-null  int64 \n",
      " 8   휘발유     164482 non-null  int64 \n",
      " 9   경유      164482 non-null  int64 \n",
      " 10  실내등유    164482 non-null  int64 \n",
      "dtypes: int64(5), object(6)\n",
      "memory usage: 13.8+ MB\n"
     ]
    }
   ],
   "source": [
    "# DataFrame 기본 정보 조회\n",
    "df.info()"
   ]
  },
  {
   "cell_type": "code",
   "execution_count": 12,
   "metadata": {
    "ExecuteTime": {
     "end_time": "2023-01-18T07:21:15.247840Z",
     "start_time": "2023-01-18T07:21:15.226184Z"
    }
   },
   "outputs": [
    {
     "data": {
      "text/html": [
       "<div>\n",
       "<style scoped>\n",
       "    .dataframe tbody tr th:only-of-type {\n",
       "        vertical-align: middle;\n",
       "    }\n",
       "\n",
       "    .dataframe tbody tr th {\n",
       "        vertical-align: top;\n",
       "    }\n",
       "\n",
       "    .dataframe thead th {\n",
       "        text-align: right;\n",
       "    }\n",
       "</style>\n",
       "<table border=\"1\" class=\"dataframe\">\n",
       "  <thead>\n",
       "    <tr style=\"text-align: right;\">\n",
       "      <th></th>\n",
       "      <th>번호</th>\n",
       "      <th>지역</th>\n",
       "      <th>상호</th>\n",
       "      <th>주소</th>\n",
       "      <th>기간</th>\n",
       "      <th>상표</th>\n",
       "      <th>셀프여부</th>\n",
       "      <th>고급휘발유</th>\n",
       "      <th>휘발유</th>\n",
       "      <th>경유</th>\n",
       "      <th>실내등유</th>\n",
       "    </tr>\n",
       "  </thead>\n",
       "  <tbody>\n",
       "    <tr>\n",
       "      <th>0</th>\n",
       "      <td>A0006039</td>\n",
       "      <td>서울 강남구</td>\n",
       "      <td>(유)동하석유 힐탑셀프주유소</td>\n",
       "      <td>서울 강남구 논현로 640</td>\n",
       "      <td>20220101</td>\n",
       "      <td>SK에너지</td>\n",
       "      <td>셀프</td>\n",
       "      <td>1887</td>\n",
       "      <td>1737</td>\n",
       "      <td>1587</td>\n",
       "      <td>0</td>\n",
       "    </tr>\n",
       "    <tr>\n",
       "      <th>1</th>\n",
       "      <td>A0006039</td>\n",
       "      <td>서울 강남구</td>\n",
       "      <td>(유)동하석유 힐탑셀프주유소</td>\n",
       "      <td>서울 강남구 논현로 640</td>\n",
       "      <td>20220102</td>\n",
       "      <td>SK에너지</td>\n",
       "      <td>셀프</td>\n",
       "      <td>1887</td>\n",
       "      <td>1737</td>\n",
       "      <td>1587</td>\n",
       "      <td>0</td>\n",
       "    </tr>\n",
       "    <tr>\n",
       "      <th>2</th>\n",
       "      <td>A0006039</td>\n",
       "      <td>서울 강남구</td>\n",
       "      <td>(유)동하석유 힐탑셀프주유소</td>\n",
       "      <td>서울 강남구 논현로 640</td>\n",
       "      <td>20220103</td>\n",
       "      <td>SK에너지</td>\n",
       "      <td>셀프</td>\n",
       "      <td>1887</td>\n",
       "      <td>1737</td>\n",
       "      <td>1587</td>\n",
       "      <td>0</td>\n",
       "    </tr>\n",
       "    <tr>\n",
       "      <th>3</th>\n",
       "      <td>A0006039</td>\n",
       "      <td>서울 강남구</td>\n",
       "      <td>(유)동하석유 힐탑셀프주유소</td>\n",
       "      <td>서울 강남구 논현로 640</td>\n",
       "      <td>20220104</td>\n",
       "      <td>SK에너지</td>\n",
       "      <td>셀프</td>\n",
       "      <td>1887</td>\n",
       "      <td>1737</td>\n",
       "      <td>1587</td>\n",
       "      <td>0</td>\n",
       "    </tr>\n",
       "    <tr>\n",
       "      <th>4</th>\n",
       "      <td>A0006039</td>\n",
       "      <td>서울 강남구</td>\n",
       "      <td>(유)동하석유 힐탑셀프주유소</td>\n",
       "      <td>서울 강남구 논현로 640</td>\n",
       "      <td>20220105</td>\n",
       "      <td>SK에너지</td>\n",
       "      <td>셀프</td>\n",
       "      <td>1887</td>\n",
       "      <td>1737</td>\n",
       "      <td>1587</td>\n",
       "      <td>0</td>\n",
       "    </tr>\n",
       "  </tbody>\n",
       "</table>\n",
       "</div>"
      ],
      "text/plain": [
       "         번호      지역               상호              주소        기간     상표 셀프여부  \\\n",
       "0  A0006039  서울 강남구  (유)동하석유 힐탑셀프주유소  서울 강남구 논현로 640  20220101  SK에너지   셀프   \n",
       "1  A0006039  서울 강남구  (유)동하석유 힐탑셀프주유소  서울 강남구 논현로 640  20220102  SK에너지   셀프   \n",
       "2  A0006039  서울 강남구  (유)동하석유 힐탑셀프주유소  서울 강남구 논현로 640  20220103  SK에너지   셀프   \n",
       "3  A0006039  서울 강남구  (유)동하석유 힐탑셀프주유소  서울 강남구 논현로 640  20220104  SK에너지   셀프   \n",
       "4  A0006039  서울 강남구  (유)동하석유 힐탑셀프주유소  서울 강남구 논현로 640  20220105  SK에너지   셀프   \n",
       "\n",
       "   고급휘발유   휘발유    경유  실내등유  \n",
       "0   1887  1737  1587     0  \n",
       "1   1887  1737  1587     0  \n",
       "2   1887  1737  1587     0  \n",
       "3   1887  1737  1587     0  \n",
       "4   1887  1737  1587     0  "
      ]
     },
     "execution_count": 12,
     "metadata": {},
     "output_type": "execute_result"
    }
   ],
   "source": [
    "df.head()"
   ]
  },
  {
   "cell_type": "code",
   "execution_count": 14,
   "metadata": {
    "ExecuteTime": {
     "end_time": "2023-01-18T07:25:51.225702Z",
     "start_time": "2023-01-18T07:25:51.204377Z"
    },
    "collapsed": true
   },
   "outputs": [
    {
     "data": {
      "text/html": [
       "<div>\n",
       "<style scoped>\n",
       "    .dataframe tbody tr th:only-of-type {\n",
       "        vertical-align: middle;\n",
       "    }\n",
       "\n",
       "    .dataframe tbody tr th {\n",
       "        vertical-align: top;\n",
       "    }\n",
       "\n",
       "    .dataframe thead th {\n",
       "        text-align: right;\n",
       "    }\n",
       "</style>\n",
       "<table border=\"1\" class=\"dataframe\">\n",
       "  <thead>\n",
       "    <tr style=\"text-align: right;\">\n",
       "      <th></th>\n",
       "      <th>번호</th>\n",
       "      <th>지역</th>\n",
       "      <th>상호</th>\n",
       "      <th>주소</th>\n",
       "      <th>기간</th>\n",
       "      <th>상표</th>\n",
       "      <th>셀프여부</th>\n",
       "      <th>고급휘발유</th>\n",
       "      <th>휘발유</th>\n",
       "      <th>경유</th>\n",
       "      <th>실내등유</th>\n",
       "    </tr>\n",
       "  </thead>\n",
       "  <tbody>\n",
       "    <tr>\n",
       "      <th>164472</th>\n",
       "      <td>A0009138</td>\n",
       "      <td>서울 중랑구</td>\n",
       "      <td>우림주유소</td>\n",
       "      <td>서울 중랑구 용마산로 487 (망우제3동)</td>\n",
       "      <td>20221222</td>\n",
       "      <td>GS칼텍스</td>\n",
       "      <td>셀프</td>\n",
       "      <td>0</td>\n",
       "      <td>1525</td>\n",
       "      <td>1745</td>\n",
       "      <td>0</td>\n",
       "    </tr>\n",
       "    <tr>\n",
       "      <th>164473</th>\n",
       "      <td>A0009138</td>\n",
       "      <td>서울 중랑구</td>\n",
       "      <td>우림주유소</td>\n",
       "      <td>서울 중랑구 용마산로 487 (망우제3동)</td>\n",
       "      <td>20221223</td>\n",
       "      <td>GS칼텍스</td>\n",
       "      <td>셀프</td>\n",
       "      <td>0</td>\n",
       "      <td>1525</td>\n",
       "      <td>1745</td>\n",
       "      <td>0</td>\n",
       "    </tr>\n",
       "    <tr>\n",
       "      <th>164474</th>\n",
       "      <td>A0009138</td>\n",
       "      <td>서울 중랑구</td>\n",
       "      <td>우림주유소</td>\n",
       "      <td>서울 중랑구 용마산로 487 (망우제3동)</td>\n",
       "      <td>20221224</td>\n",
       "      <td>GS칼텍스</td>\n",
       "      <td>셀프</td>\n",
       "      <td>0</td>\n",
       "      <td>1525</td>\n",
       "      <td>1745</td>\n",
       "      <td>0</td>\n",
       "    </tr>\n",
       "    <tr>\n",
       "      <th>164475</th>\n",
       "      <td>A0009138</td>\n",
       "      <td>서울 중랑구</td>\n",
       "      <td>우림주유소</td>\n",
       "      <td>서울 중랑구 용마산로 487 (망우제3동)</td>\n",
       "      <td>20221225</td>\n",
       "      <td>GS칼텍스</td>\n",
       "      <td>셀프</td>\n",
       "      <td>0</td>\n",
       "      <td>1525</td>\n",
       "      <td>1745</td>\n",
       "      <td>0</td>\n",
       "    </tr>\n",
       "    <tr>\n",
       "      <th>164476</th>\n",
       "      <td>A0009138</td>\n",
       "      <td>서울 중랑구</td>\n",
       "      <td>우림주유소</td>\n",
       "      <td>서울 중랑구 용마산로 487 (망우제3동)</td>\n",
       "      <td>20221226</td>\n",
       "      <td>GS칼텍스</td>\n",
       "      <td>셀프</td>\n",
       "      <td>0</td>\n",
       "      <td>1525</td>\n",
       "      <td>1745</td>\n",
       "      <td>0</td>\n",
       "    </tr>\n",
       "    <tr>\n",
       "      <th>164477</th>\n",
       "      <td>A0009138</td>\n",
       "      <td>서울 중랑구</td>\n",
       "      <td>우림주유소</td>\n",
       "      <td>서울 중랑구 용마산로 487 (망우제3동)</td>\n",
       "      <td>20221227</td>\n",
       "      <td>GS칼텍스</td>\n",
       "      <td>셀프</td>\n",
       "      <td>0</td>\n",
       "      <td>1525</td>\n",
       "      <td>1745</td>\n",
       "      <td>0</td>\n",
       "    </tr>\n",
       "    <tr>\n",
       "      <th>164478</th>\n",
       "      <td>A0009138</td>\n",
       "      <td>서울 중랑구</td>\n",
       "      <td>우림주유소</td>\n",
       "      <td>서울 중랑구 용마산로 487 (망우제3동)</td>\n",
       "      <td>20221228</td>\n",
       "      <td>GS칼텍스</td>\n",
       "      <td>셀프</td>\n",
       "      <td>0</td>\n",
       "      <td>1525</td>\n",
       "      <td>1720</td>\n",
       "      <td>0</td>\n",
       "    </tr>\n",
       "    <tr>\n",
       "      <th>164479</th>\n",
       "      <td>A0009138</td>\n",
       "      <td>서울 중랑구</td>\n",
       "      <td>우림주유소</td>\n",
       "      <td>서울 중랑구 용마산로 487 (망우제3동)</td>\n",
       "      <td>20221229</td>\n",
       "      <td>GS칼텍스</td>\n",
       "      <td>셀프</td>\n",
       "      <td>0</td>\n",
       "      <td>1525</td>\n",
       "      <td>1720</td>\n",
       "      <td>0</td>\n",
       "    </tr>\n",
       "    <tr>\n",
       "      <th>164480</th>\n",
       "      <td>A0009138</td>\n",
       "      <td>서울 중랑구</td>\n",
       "      <td>우림주유소</td>\n",
       "      <td>서울 중랑구 용마산로 487 (망우제3동)</td>\n",
       "      <td>20221230</td>\n",
       "      <td>GS칼텍스</td>\n",
       "      <td>셀프</td>\n",
       "      <td>0</td>\n",
       "      <td>1515</td>\n",
       "      <td>1715</td>\n",
       "      <td>0</td>\n",
       "    </tr>\n",
       "    <tr>\n",
       "      <th>164481</th>\n",
       "      <td>A0009138</td>\n",
       "      <td>서울 중랑구</td>\n",
       "      <td>우림주유소</td>\n",
       "      <td>서울 중랑구 용마산로 487 (망우제3동)</td>\n",
       "      <td>20221231</td>\n",
       "      <td>GS칼텍스</td>\n",
       "      <td>셀프</td>\n",
       "      <td>0</td>\n",
       "      <td>1515</td>\n",
       "      <td>1715</td>\n",
       "      <td>0</td>\n",
       "    </tr>\n",
       "  </tbody>\n",
       "</table>\n",
       "</div>"
      ],
      "text/plain": [
       "              번호      지역     상호                       주소        기간     상표  \\\n",
       "164472  A0009138  서울 중랑구  우림주유소  서울 중랑구 용마산로 487 (망우제3동)  20221222  GS칼텍스   \n",
       "164473  A0009138  서울 중랑구  우림주유소  서울 중랑구 용마산로 487 (망우제3동)  20221223  GS칼텍스   \n",
       "164474  A0009138  서울 중랑구  우림주유소  서울 중랑구 용마산로 487 (망우제3동)  20221224  GS칼텍스   \n",
       "164475  A0009138  서울 중랑구  우림주유소  서울 중랑구 용마산로 487 (망우제3동)  20221225  GS칼텍스   \n",
       "164476  A0009138  서울 중랑구  우림주유소  서울 중랑구 용마산로 487 (망우제3동)  20221226  GS칼텍스   \n",
       "164477  A0009138  서울 중랑구  우림주유소  서울 중랑구 용마산로 487 (망우제3동)  20221227  GS칼텍스   \n",
       "164478  A0009138  서울 중랑구  우림주유소  서울 중랑구 용마산로 487 (망우제3동)  20221228  GS칼텍스   \n",
       "164479  A0009138  서울 중랑구  우림주유소  서울 중랑구 용마산로 487 (망우제3동)  20221229  GS칼텍스   \n",
       "164480  A0009138  서울 중랑구  우림주유소  서울 중랑구 용마산로 487 (망우제3동)  20221230  GS칼텍스   \n",
       "164481  A0009138  서울 중랑구  우림주유소  서울 중랑구 용마산로 487 (망우제3동)  20221231  GS칼텍스   \n",
       "\n",
       "       셀프여부  고급휘발유   휘발유    경유  실내등유  \n",
       "164472   셀프      0  1525  1745     0  \n",
       "164473   셀프      0  1525  1745     0  \n",
       "164474   셀프      0  1525  1745     0  \n",
       "164475   셀프      0  1525  1745     0  \n",
       "164476   셀프      0  1525  1745     0  \n",
       "164477   셀프      0  1525  1745     0  \n",
       "164478   셀프      0  1525  1720     0  \n",
       "164479   셀프      0  1525  1720     0  \n",
       "164480   셀프      0  1515  1715     0  \n",
       "164481   셀프      0  1515  1715     0  "
      ]
     },
     "execution_count": 14,
     "metadata": {},
     "output_type": "execute_result"
    }
   ],
   "source": [
    "df.tail(10)"
   ]
  },
  {
   "cell_type": "code",
   "execution_count": 15,
   "metadata": {
    "ExecuteTime": {
     "end_time": "2023-01-18T07:26:30.429090Z",
     "start_time": "2023-01-18T07:26:30.302670Z"
    },
    "collapsed": true
   },
   "outputs": [
    {
     "data": {
      "text/plain": [
       "번호       0\n",
       "지역       0\n",
       "상호       0\n",
       "주소       0\n",
       "기간       0\n",
       "상표       0\n",
       "셀프여부     0\n",
       "고급휘발유    0\n",
       "휘발유      0\n",
       "경유       0\n",
       "실내등유     0\n",
       "dtype: int64"
      ]
     },
     "execution_count": 15,
     "metadata": {},
     "output_type": "execute_result"
    }
   ],
   "source": [
    "df.isnull().sum()"
   ]
  },
  {
   "cell_type": "code",
   "execution_count": 16,
   "metadata": {
    "ExecuteTime": {
     "end_time": "2023-01-18T07:26:59.107925Z",
     "start_time": "2023-01-18T07:26:59.047069Z"
    },
    "collapsed": true
   },
   "outputs": [
    {
     "data": {
      "text/html": [
       "<div>\n",
       "<style scoped>\n",
       "    .dataframe tbody tr th:only-of-type {\n",
       "        vertical-align: middle;\n",
       "    }\n",
       "\n",
       "    .dataframe tbody tr th {\n",
       "        vertical-align: top;\n",
       "    }\n",
       "\n",
       "    .dataframe thead th {\n",
       "        text-align: right;\n",
       "    }\n",
       "</style>\n",
       "<table border=\"1\" class=\"dataframe\">\n",
       "  <thead>\n",
       "    <tr style=\"text-align: right;\">\n",
       "      <th></th>\n",
       "      <th>기간</th>\n",
       "      <th>고급휘발유</th>\n",
       "      <th>휘발유</th>\n",
       "      <th>경유</th>\n",
       "      <th>실내등유</th>\n",
       "    </tr>\n",
       "  </thead>\n",
       "  <tbody>\n",
       "    <tr>\n",
       "      <th>count</th>\n",
       "      <td>1.644820e+05</td>\n",
       "      <td>164482.000000</td>\n",
       "      <td>164482.000000</td>\n",
       "      <td>164482.000000</td>\n",
       "      <td>164482.000000</td>\n",
       "    </tr>\n",
       "    <tr>\n",
       "      <th>mean</th>\n",
       "      <td>2.022066e+07</td>\n",
       "      <td>1083.639146</td>\n",
       "      <td>1877.600838</td>\n",
       "      <td>1907.360337</td>\n",
       "      <td>538.948444</td>\n",
       "    </tr>\n",
       "    <tr>\n",
       "      <th>std</th>\n",
       "      <td>3.456995e+02</td>\n",
       "      <td>1085.018886</td>\n",
       "      <td>243.317021</td>\n",
       "      <td>237.067045</td>\n",
       "      <td>761.401689</td>\n",
       "    </tr>\n",
       "    <tr>\n",
       "      <th>min</th>\n",
       "      <td>2.022010e+07</td>\n",
       "      <td>0.000000</td>\n",
       "      <td>0.000000</td>\n",
       "      <td>0.000000</td>\n",
       "      <td>0.000000</td>\n",
       "    </tr>\n",
       "    <tr>\n",
       "      <th>25%</th>\n",
       "      <td>2.022033e+07</td>\n",
       "      <td>0.000000</td>\n",
       "      <td>1690.000000</td>\n",
       "      <td>1817.000000</td>\n",
       "      <td>0.000000</td>\n",
       "    </tr>\n",
       "    <tr>\n",
       "      <th>50%</th>\n",
       "      <td>2.022063e+07</td>\n",
       "      <td>1760.000000</td>\n",
       "      <td>1855.000000</td>\n",
       "      <td>1899.000000</td>\n",
       "      <td>0.000000</td>\n",
       "    </tr>\n",
       "    <tr>\n",
       "      <th>75%</th>\n",
       "      <td>2.022093e+07</td>\n",
       "      <td>2130.000000</td>\n",
       "      <td>2030.000000</td>\n",
       "      <td>2018.000000</td>\n",
       "      <td>1451.000000</td>\n",
       "    </tr>\n",
       "    <tr>\n",
       "      <th>max</th>\n",
       "      <td>2.022123e+07</td>\n",
       "      <td>3496.000000</td>\n",
       "      <td>3096.000000</td>\n",
       "      <td>3230.000000</td>\n",
       "      <td>2719.000000</td>\n",
       "    </tr>\n",
       "  </tbody>\n",
       "</table>\n",
       "</div>"
      ],
      "text/plain": [
       "                 기간          고급휘발유            휘발유             경유  \\\n",
       "count  1.644820e+05  164482.000000  164482.000000  164482.000000   \n",
       "mean   2.022066e+07    1083.639146    1877.600838    1907.360337   \n",
       "std    3.456995e+02    1085.018886     243.317021     237.067045   \n",
       "min    2.022010e+07       0.000000       0.000000       0.000000   \n",
       "25%    2.022033e+07       0.000000    1690.000000    1817.000000   \n",
       "50%    2.022063e+07    1760.000000    1855.000000    1899.000000   \n",
       "75%    2.022093e+07    2130.000000    2030.000000    2018.000000   \n",
       "max    2.022123e+07    3496.000000    3096.000000    3230.000000   \n",
       "\n",
       "                실내등유  \n",
       "count  164482.000000  \n",
       "mean      538.948444  \n",
       "std       761.401689  \n",
       "min         0.000000  \n",
       "25%         0.000000  \n",
       "50%         0.000000  \n",
       "75%      1451.000000  \n",
       "max      2719.000000  "
      ]
     },
     "execution_count": 16,
     "metadata": {},
     "output_type": "execute_result"
    }
   ],
   "source": [
    "df.describe()  #  정수/실수 타입 컬럼"
   ]
  },
  {
   "cell_type": "code",
   "execution_count": 17,
   "metadata": {
    "ExecuteTime": {
     "end_time": "2023-01-18T07:30:09.127426Z",
     "start_time": "2023-01-18T07:30:09.012434Z"
    }
   },
   "outputs": [
    {
     "data": {
      "text/html": [
       "<div>\n",
       "<style scoped>\n",
       "    .dataframe tbody tr th:only-of-type {\n",
       "        vertical-align: middle;\n",
       "    }\n",
       "\n",
       "    .dataframe tbody tr th {\n",
       "        vertical-align: top;\n",
       "    }\n",
       "\n",
       "    .dataframe thead th {\n",
       "        text-align: right;\n",
       "    }\n",
       "</style>\n",
       "<table border=\"1\" class=\"dataframe\">\n",
       "  <thead>\n",
       "    <tr style=\"text-align: right;\">\n",
       "      <th></th>\n",
       "      <th>번호</th>\n",
       "      <th>지역</th>\n",
       "      <th>상호</th>\n",
       "      <th>주소</th>\n",
       "      <th>상표</th>\n",
       "      <th>셀프여부</th>\n",
       "    </tr>\n",
       "  </thead>\n",
       "  <tbody>\n",
       "    <tr>\n",
       "      <th>count</th>\n",
       "      <td>164482</td>\n",
       "      <td>164482</td>\n",
       "      <td>164482</td>\n",
       "      <td>164482</td>\n",
       "      <td>164482</td>\n",
       "      <td>164482</td>\n",
       "    </tr>\n",
       "    <tr>\n",
       "      <th>unique</th>\n",
       "      <td>469</td>\n",
       "      <td>25</td>\n",
       "      <td>464</td>\n",
       "      <td>469</td>\n",
       "      <td>7</td>\n",
       "      <td>2</td>\n",
       "    </tr>\n",
       "    <tr>\n",
       "      <th>top</th>\n",
       "      <td>A0006039</td>\n",
       "      <td>서울 강남구</td>\n",
       "      <td>대성주유소</td>\n",
       "      <td>서울 강남구 논현로 640</td>\n",
       "      <td>SK에너지</td>\n",
       "      <td>셀프</td>\n",
       "    </tr>\n",
       "    <tr>\n",
       "      <th>freq</th>\n",
       "      <td>365</td>\n",
       "      <td>12278</td>\n",
       "      <td>730</td>\n",
       "      <td>365</td>\n",
       "      <td>48267</td>\n",
       "      <td>92478</td>\n",
       "    </tr>\n",
       "  </tbody>\n",
       "</table>\n",
       "</div>"
      ],
      "text/plain": [
       "              번호      지역      상호              주소      상표    셀프여부\n",
       "count     164482  164482  164482          164482  164482  164482\n",
       "unique       469      25     464             469       7       2\n",
       "top     A0006039  서울 강남구   대성주유소  서울 강남구 논현로 640   SK에너지      셀프\n",
       "freq         365   12278     730             365   48267   92478"
      ]
     },
     "execution_count": 17,
     "metadata": {},
     "output_type": "execute_result"
    }
   ],
   "source": [
    "df.describe(include='object') # 문자열(object) "
   ]
  },
  {
   "cell_type": "code",
   "execution_count": 21,
   "metadata": {
    "ExecuteTime": {
     "end_time": "2023-01-18T07:32:50.508887Z",
     "start_time": "2023-01-18T07:32:50.472721Z"
    },
    "collapsed": true
   },
   "outputs": [
    {
     "data": {
      "text/plain": [
       "SK에너지     0.293449\n",
       "현대오일뱅크    0.257481\n",
       "GS칼텍스     0.245917\n",
       "S-OIL     0.174864\n",
       "알뜰주유소     0.021589\n",
       "자가상표      0.004481\n",
       "알뜰(ex)    0.002219\n",
       "Name: 상표, dtype: float64"
      ]
     },
     "execution_count": 21,
     "metadata": {},
     "output_type": "execute_result"
    }
   ],
   "source": [
    "# 상표 컬럼의 고유값 조회\n",
    "df['상표'].unique()\n",
    "df['상표'].value_counts()\n",
    "df['상표'].value_counts(normalize=True)"
   ]
  },
  {
   "cell_type": "code",
   "execution_count": 26,
   "metadata": {
    "ExecuteTime": {
     "end_time": "2023-01-18T07:34:40.669465Z",
     "start_time": "2023-01-18T07:34:40.626167Z"
    }
   },
   "outputs": [
    {
     "data": {
      "text/plain": [
       "서울 강남구     0.074646\n",
       "서울 강서구     0.071892\n",
       "서울 송파구     0.068670\n",
       "서울 서초구     0.068281\n",
       "서울 영등포구    0.059666\n",
       "서울 양천구     0.054808\n",
       "서울 성북구     0.051811\n",
       "서울 구로구     0.044892\n",
       "서울 동대문구    0.039968\n",
       "서울 성동구     0.036515\n",
       "서울 도봉구     0.036430\n",
       "서울 은평구     0.035305\n",
       "서울 노원구     0.033280\n",
       "서울 서대문구    0.033268\n",
       "서울 강동구     0.031067\n",
       "서울 광진구     0.031049\n",
       "서울 관악구     0.031031\n",
       "서울 중랑구     0.029626\n",
       "서울 용산구     0.028192\n",
       "서울 강북구     0.027115\n",
       "서울 마포구     0.026599\n",
       "서울 금천구     0.024726\n",
       "서울 중구      0.022148\n",
       "서울 동작구     0.020890\n",
       "서울 종로구     0.018124\n",
       "Name: 지역, dtype: float64"
      ]
     },
     "execution_count": 26,
     "metadata": {},
     "output_type": "execute_result"
    }
   ],
   "source": [
    "# 지역 컬럼의 고유값 조회\n",
    "df['지역'].unique()\n",
    "df['지역'].value_counts()\n",
    "df['지역'].value_counts(normalize=True)"
   ]
  },
  {
   "cell_type": "code",
   "execution_count": 27,
   "metadata": {
    "ExecuteTime": {
     "end_time": "2023-01-18T07:34:57.824571Z",
     "start_time": "2023-01-18T07:34:57.803263Z"
    }
   },
   "outputs": [
    {
     "data": {
      "text/plain": [
       "셀프    92478\n",
       "일반    72004\n",
       "Name: 셀프여부, dtype: int64"
      ]
     },
     "execution_count": 27,
     "metadata": {},
     "output_type": "execute_result"
    }
   ],
   "source": [
    "df['셀프여부'].value_counts()"
   ]
  },
  {
   "cell_type": "markdown",
   "metadata": {},
   "source": [
    "> ### str accessor\n",
    "> - `Series.str.String메소드()`\n",
    "> - 문자열 타입 Series에 String 메소드들을 사용하여 일괄처리 할 수 있도록 한다.\n",
    "> - str accessor 메소드 : https://pandas.pydata.org/pandas-docs/stable/reference/series.html#api-series-str\n",
    "\n",
    "> ### datetime으로 변환\n",
    "> - `pd.to_datetime(변환할 Series, format=\"날짜형식\")`\n",
    "> - x 또는 y 축이 날짜 일 경우 datetime 타입으로 처리하는 것이 좋다.\n",
    "> - format: 년월일의 형식을 strftime 형식문자열로 지정한다. \n",
    ">      - [strftime 형식](https://docs.python.org/3/library/datetime.html#strftime-and-strptime-format-codes)  \n",
    "> - datetime을 변환하면 날짜만의 기능을 다룰 수 있다.\n",
    ">     - dt accessor를 이용해 datetime의 속성값들을(년, 월, 일 등) 추출할 수 있다.\n",
    ">     - https://pandas.pydata.org/pandas-docs/stable/reference/api/pandas.Series.dt.html\n"
   ]
  },
  {
   "cell_type": "code",
   "execution_count": 33,
   "metadata": {
    "ExecuteTime": {
     "end_time": "2023-01-18T07:41:50.497952Z",
     "start_time": "2023-01-18T07:41:50.478775Z"
    }
   },
   "outputs": [
    {
     "data": {
      "text/plain": [
       "'강남구'"
      ]
     },
     "execution_count": 33,
     "metadata": {},
     "output_type": "execute_result"
    }
   ],
   "source": [
    "'서울 강남구'.split()[1]\n",
    "# '서울 강남구'.slice(3) => str accessor 이용\n",
    "'서울 강남구'[3:]"
   ]
  },
  {
   "cell_type": "code",
   "execution_count": 39,
   "metadata": {
    "ExecuteTime": {
     "end_time": "2023-01-18T07:46:10.055125Z",
     "start_time": "2023-01-18T07:46:09.965435Z"
    },
    "collapsed": true
   },
   "outputs": [
    {
     "data": {
      "text/html": [
       "<div>\n",
       "<style scoped>\n",
       "    .dataframe tbody tr th:only-of-type {\n",
       "        vertical-align: middle;\n",
       "    }\n",
       "\n",
       "    .dataframe tbody tr th {\n",
       "        vertical-align: top;\n",
       "    }\n",
       "\n",
       "    .dataframe thead th {\n",
       "        text-align: right;\n",
       "    }\n",
       "</style>\n",
       "<table border=\"1\" class=\"dataframe\">\n",
       "  <thead>\n",
       "    <tr style=\"text-align: right;\">\n",
       "      <th></th>\n",
       "      <th>번호</th>\n",
       "      <th>지역</th>\n",
       "      <th>상호</th>\n",
       "      <th>주소</th>\n",
       "      <th>기간</th>\n",
       "      <th>상표</th>\n",
       "      <th>셀프여부</th>\n",
       "      <th>고급휘발유</th>\n",
       "      <th>휘발유</th>\n",
       "      <th>경유</th>\n",
       "      <th>실내등유</th>\n",
       "      <th>구</th>\n",
       "    </tr>\n",
       "  </thead>\n",
       "  <tbody>\n",
       "    <tr>\n",
       "      <th>0</th>\n",
       "      <td>A0006039</td>\n",
       "      <td>서울 강남구</td>\n",
       "      <td>(유)동하석유 힐탑셀프주유소</td>\n",
       "      <td>서울 강남구 논현로 640</td>\n",
       "      <td>20220101</td>\n",
       "      <td>SK에너지</td>\n",
       "      <td>셀프</td>\n",
       "      <td>1887</td>\n",
       "      <td>1737</td>\n",
       "      <td>1587</td>\n",
       "      <td>0</td>\n",
       "      <td>강남구</td>\n",
       "    </tr>\n",
       "    <tr>\n",
       "      <th>1</th>\n",
       "      <td>A0006039</td>\n",
       "      <td>서울 강남구</td>\n",
       "      <td>(유)동하석유 힐탑셀프주유소</td>\n",
       "      <td>서울 강남구 논현로 640</td>\n",
       "      <td>20220102</td>\n",
       "      <td>SK에너지</td>\n",
       "      <td>셀프</td>\n",
       "      <td>1887</td>\n",
       "      <td>1737</td>\n",
       "      <td>1587</td>\n",
       "      <td>0</td>\n",
       "      <td>강남구</td>\n",
       "    </tr>\n",
       "    <tr>\n",
       "      <th>2</th>\n",
       "      <td>A0006039</td>\n",
       "      <td>서울 강남구</td>\n",
       "      <td>(유)동하석유 힐탑셀프주유소</td>\n",
       "      <td>서울 강남구 논현로 640</td>\n",
       "      <td>20220103</td>\n",
       "      <td>SK에너지</td>\n",
       "      <td>셀프</td>\n",
       "      <td>1887</td>\n",
       "      <td>1737</td>\n",
       "      <td>1587</td>\n",
       "      <td>0</td>\n",
       "      <td>강남구</td>\n",
       "    </tr>\n",
       "    <tr>\n",
       "      <th>3</th>\n",
       "      <td>A0006039</td>\n",
       "      <td>서울 강남구</td>\n",
       "      <td>(유)동하석유 힐탑셀프주유소</td>\n",
       "      <td>서울 강남구 논현로 640</td>\n",
       "      <td>20220104</td>\n",
       "      <td>SK에너지</td>\n",
       "      <td>셀프</td>\n",
       "      <td>1887</td>\n",
       "      <td>1737</td>\n",
       "      <td>1587</td>\n",
       "      <td>0</td>\n",
       "      <td>강남구</td>\n",
       "    </tr>\n",
       "    <tr>\n",
       "      <th>4</th>\n",
       "      <td>A0006039</td>\n",
       "      <td>서울 강남구</td>\n",
       "      <td>(유)동하석유 힐탑셀프주유소</td>\n",
       "      <td>서울 강남구 논현로 640</td>\n",
       "      <td>20220105</td>\n",
       "      <td>SK에너지</td>\n",
       "      <td>셀프</td>\n",
       "      <td>1887</td>\n",
       "      <td>1737</td>\n",
       "      <td>1587</td>\n",
       "      <td>0</td>\n",
       "      <td>강남구</td>\n",
       "    </tr>\n",
       "  </tbody>\n",
       "</table>\n",
       "</div>"
      ],
      "text/plain": [
       "         번호      지역               상호              주소        기간     상표 셀프여부  \\\n",
       "0  A0006039  서울 강남구  (유)동하석유 힐탑셀프주유소  서울 강남구 논현로 640  20220101  SK에너지   셀프   \n",
       "1  A0006039  서울 강남구  (유)동하석유 힐탑셀프주유소  서울 강남구 논현로 640  20220102  SK에너지   셀프   \n",
       "2  A0006039  서울 강남구  (유)동하석유 힐탑셀프주유소  서울 강남구 논현로 640  20220103  SK에너지   셀프   \n",
       "3  A0006039  서울 강남구  (유)동하석유 힐탑셀프주유소  서울 강남구 논현로 640  20220104  SK에너지   셀프   \n",
       "4  A0006039  서울 강남구  (유)동하석유 힐탑셀프주유소  서울 강남구 논현로 640  20220105  SK에너지   셀프   \n",
       "\n",
       "   고급휘발유   휘발유    경유  실내등유    구  \n",
       "0   1887  1737  1587     0  강남구  \n",
       "1   1887  1737  1587     0  강남구  \n",
       "2   1887  1737  1587     0  강남구  \n",
       "3   1887  1737  1587     0  강남구  \n",
       "4   1887  1737  1587     0  강남구  "
      ]
     },
     "execution_count": 39,
     "metadata": {},
     "output_type": "execute_result"
    }
   ],
   "source": [
    "# 지역 컬럼의 값을 이용하여 \"구\" 컬럼 생성 (지역에서 구만 추출해서 파생변수컬럼 생성)\n",
    "df['구'] = df['지역'].apply(lambda x : x.split()[1])\n",
    "df.head()"
   ]
  },
  {
   "cell_type": "code",
   "execution_count": 38,
   "metadata": {
    "ExecuteTime": {
     "end_time": "2023-01-18T07:45:27.925842Z",
     "start_time": "2023-01-18T07:45:27.843944Z"
    },
    "collapsed": true
   },
   "outputs": [
    {
     "data": {
      "text/plain": [
       "0         강남구\n",
       "1         강남구\n",
       "2         강남구\n",
       "3         강남구\n",
       "4         강남구\n",
       "         ... \n",
       "164477    중랑구\n",
       "164478    중랑구\n",
       "164479    중랑구\n",
       "164480    중랑구\n",
       "164481    중랑구\n",
       "Name: 지역, Length: 164482, dtype: object"
      ]
     },
     "execution_count": 38,
     "metadata": {},
     "output_type": "execute_result"
    }
   ],
   "source": [
    "df['지역'].str.slice(3)"
   ]
  },
  {
   "cell_type": "code",
   "execution_count": 43,
   "metadata": {
    "ExecuteTime": {
     "end_time": "2023-01-18T07:49:59.296529Z",
     "start_time": "2023-01-18T07:49:59.278618Z"
    }
   },
   "outputs": [],
   "source": [
    "# 기간 컬럼을 datetime 타입으로 변경\n",
    "df['기간'] = pd.to_datetime(df['기간'], format=\"%Y%m%d\")  #Y:년, m:월(2자리), d:일,  H: 시간, M:분, S: 초"
   ]
  },
  {
   "cell_type": "code",
   "execution_count": 44,
   "metadata": {
    "ExecuteTime": {
     "end_time": "2023-01-18T07:50:04.094636Z",
     "start_time": "2023-01-18T07:50:03.959852Z"
    },
    "collapsed": true
   },
   "outputs": [
    {
     "name": "stdout",
     "output_type": "stream",
     "text": [
      "<class 'pandas.core.frame.DataFrame'>\n",
      "RangeIndex: 164482 entries, 0 to 164481\n",
      "Data columns (total 12 columns):\n",
      " #   Column  Non-Null Count   Dtype         \n",
      "---  ------  --------------   -----         \n",
      " 0   번호      164482 non-null  object        \n",
      " 1   지역      164482 non-null  object        \n",
      " 2   상호      164482 non-null  object        \n",
      " 3   주소      164482 non-null  object        \n",
      " 4   기간      164482 non-null  datetime64[ns]\n",
      " 5   상표      164482 non-null  object        \n",
      " 6   셀프여부    164482 non-null  object        \n",
      " 7   고급휘발유   164482 non-null  int64         \n",
      " 8   휘발유     164482 non-null  int64         \n",
      " 9   경유      164482 non-null  int64         \n",
      " 10  실내등유    164482 non-null  int64         \n",
      " 11  구       164482 non-null  object        \n",
      "dtypes: datetime64[ns](1), int64(4), object(7)\n",
      "memory usage: 15.1+ MB\n"
     ]
    }
   ],
   "source": [
    "df.info()"
   ]
  },
  {
   "cell_type": "code",
   "execution_count": 49,
   "metadata": {
    "ExecuteTime": {
     "end_time": "2023-01-18T08:10:03.429684Z",
     "start_time": "2023-01-18T08:10:03.380523Z"
    }
   },
   "outputs": [],
   "source": [
    "# 기간 컬럼을 이용해 \"월\", \"일\", \"요일\" 컬럼 생성 (dt accessor 이용)\n",
    "df['월'] = df['기간'].dt.month\n",
    "df['일'] = df['기간'].dt.day\n",
    "df['요일'] = df['기간'].dt.weekday"
   ]
  },
  {
   "cell_type": "code",
   "execution_count": 50,
   "metadata": {
    "ExecuteTime": {
     "end_time": "2023-01-18T08:10:09.270338Z",
     "start_time": "2023-01-18T08:10:09.251480Z"
    },
    "scrolled": true
   },
   "outputs": [
    {
     "data": {
      "text/html": [
       "<div>\n",
       "<style scoped>\n",
       "    .dataframe tbody tr th:only-of-type {\n",
       "        vertical-align: middle;\n",
       "    }\n",
       "\n",
       "    .dataframe tbody tr th {\n",
       "        vertical-align: top;\n",
       "    }\n",
       "\n",
       "    .dataframe thead th {\n",
       "        text-align: right;\n",
       "    }\n",
       "</style>\n",
       "<table border=\"1\" class=\"dataframe\">\n",
       "  <thead>\n",
       "    <tr style=\"text-align: right;\">\n",
       "      <th></th>\n",
       "      <th>번호</th>\n",
       "      <th>지역</th>\n",
       "      <th>상호</th>\n",
       "      <th>주소</th>\n",
       "      <th>기간</th>\n",
       "      <th>상표</th>\n",
       "      <th>셀프여부</th>\n",
       "      <th>고급휘발유</th>\n",
       "      <th>휘발유</th>\n",
       "      <th>경유</th>\n",
       "      <th>실내등유</th>\n",
       "      <th>구</th>\n",
       "      <th>월</th>\n",
       "      <th>일</th>\n",
       "      <th>요일</th>\n",
       "    </tr>\n",
       "  </thead>\n",
       "  <tbody>\n",
       "    <tr>\n",
       "      <th>0</th>\n",
       "      <td>A0006039</td>\n",
       "      <td>서울 강남구</td>\n",
       "      <td>(유)동하석유 힐탑셀프주유소</td>\n",
       "      <td>서울 강남구 논현로 640</td>\n",
       "      <td>2022-01-01</td>\n",
       "      <td>SK에너지</td>\n",
       "      <td>셀프</td>\n",
       "      <td>1887</td>\n",
       "      <td>1737</td>\n",
       "      <td>1587</td>\n",
       "      <td>0</td>\n",
       "      <td>강남구</td>\n",
       "      <td>1</td>\n",
       "      <td>1</td>\n",
       "      <td>5</td>\n",
       "    </tr>\n",
       "    <tr>\n",
       "      <th>1</th>\n",
       "      <td>A0006039</td>\n",
       "      <td>서울 강남구</td>\n",
       "      <td>(유)동하석유 힐탑셀프주유소</td>\n",
       "      <td>서울 강남구 논현로 640</td>\n",
       "      <td>2022-01-02</td>\n",
       "      <td>SK에너지</td>\n",
       "      <td>셀프</td>\n",
       "      <td>1887</td>\n",
       "      <td>1737</td>\n",
       "      <td>1587</td>\n",
       "      <td>0</td>\n",
       "      <td>강남구</td>\n",
       "      <td>1</td>\n",
       "      <td>2</td>\n",
       "      <td>6</td>\n",
       "    </tr>\n",
       "    <tr>\n",
       "      <th>2</th>\n",
       "      <td>A0006039</td>\n",
       "      <td>서울 강남구</td>\n",
       "      <td>(유)동하석유 힐탑셀프주유소</td>\n",
       "      <td>서울 강남구 논현로 640</td>\n",
       "      <td>2022-01-03</td>\n",
       "      <td>SK에너지</td>\n",
       "      <td>셀프</td>\n",
       "      <td>1887</td>\n",
       "      <td>1737</td>\n",
       "      <td>1587</td>\n",
       "      <td>0</td>\n",
       "      <td>강남구</td>\n",
       "      <td>1</td>\n",
       "      <td>3</td>\n",
       "      <td>0</td>\n",
       "    </tr>\n",
       "    <tr>\n",
       "      <th>3</th>\n",
       "      <td>A0006039</td>\n",
       "      <td>서울 강남구</td>\n",
       "      <td>(유)동하석유 힐탑셀프주유소</td>\n",
       "      <td>서울 강남구 논현로 640</td>\n",
       "      <td>2022-01-04</td>\n",
       "      <td>SK에너지</td>\n",
       "      <td>셀프</td>\n",
       "      <td>1887</td>\n",
       "      <td>1737</td>\n",
       "      <td>1587</td>\n",
       "      <td>0</td>\n",
       "      <td>강남구</td>\n",
       "      <td>1</td>\n",
       "      <td>4</td>\n",
       "      <td>1</td>\n",
       "    </tr>\n",
       "    <tr>\n",
       "      <th>4</th>\n",
       "      <td>A0006039</td>\n",
       "      <td>서울 강남구</td>\n",
       "      <td>(유)동하석유 힐탑셀프주유소</td>\n",
       "      <td>서울 강남구 논현로 640</td>\n",
       "      <td>2022-01-05</td>\n",
       "      <td>SK에너지</td>\n",
       "      <td>셀프</td>\n",
       "      <td>1887</td>\n",
       "      <td>1737</td>\n",
       "      <td>1587</td>\n",
       "      <td>0</td>\n",
       "      <td>강남구</td>\n",
       "      <td>1</td>\n",
       "      <td>5</td>\n",
       "      <td>2</td>\n",
       "    </tr>\n",
       "  </tbody>\n",
       "</table>\n",
       "</div>"
      ],
      "text/plain": [
       "         번호      지역               상호              주소         기간     상표 셀프여부  \\\n",
       "0  A0006039  서울 강남구  (유)동하석유 힐탑셀프주유소  서울 강남구 논현로 640 2022-01-01  SK에너지   셀프   \n",
       "1  A0006039  서울 강남구  (유)동하석유 힐탑셀프주유소  서울 강남구 논현로 640 2022-01-02  SK에너지   셀프   \n",
       "2  A0006039  서울 강남구  (유)동하석유 힐탑셀프주유소  서울 강남구 논현로 640 2022-01-03  SK에너지   셀프   \n",
       "3  A0006039  서울 강남구  (유)동하석유 힐탑셀프주유소  서울 강남구 논현로 640 2022-01-04  SK에너지   셀프   \n",
       "4  A0006039  서울 강남구  (유)동하석유 힐탑셀프주유소  서울 강남구 논현로 640 2022-01-05  SK에너지   셀프   \n",
       "\n",
       "   고급휘발유   휘발유    경유  실내등유    구  월  일  요일  \n",
       "0   1887  1737  1587     0  강남구  1  1   5  \n",
       "1   1887  1737  1587     0  강남구  1  2   6  \n",
       "2   1887  1737  1587     0  강남구  1  3   0  \n",
       "3   1887  1737  1587     0  강남구  1  4   1  \n",
       "4   1887  1737  1587     0  강남구  1  5   2  "
      ]
     },
     "execution_count": 50,
     "metadata": {},
     "output_type": "execute_result"
    }
   ],
   "source": [
    "df.head()"
   ]
  },
  {
   "cell_type": "code",
   "execution_count": 52,
   "metadata": {
    "ExecuteTime": {
     "end_time": "2023-01-18T08:12:08.775471Z",
     "start_time": "2023-01-18T08:12:08.765064Z"
    }
   },
   "outputs": [
    {
     "data": {
      "text/plain": [
       "'화'"
      ]
     },
     "execution_count": 52,
     "metadata": {},
     "output_type": "execute_result"
    }
   ],
   "source": [
    "def cw(num_x):\n",
    "    if num_x == 0:\n",
    "        return \"월\"\n",
    "    elif num_x == 1:\n",
    "        return \"화\"\n",
    "    ...\n",
    "cw(1)    "
   ]
  },
  {
   "cell_type": "code",
   "execution_count": 56,
   "metadata": {
    "ExecuteTime": {
     "end_time": "2023-01-18T08:13:09.569144Z",
     "start_time": "2023-01-18T08:13:09.551012Z"
    }
   },
   "outputs": [
    {
     "data": {
      "text/plain": [
       "'일'"
      ]
     },
     "execution_count": 56,
     "metadata": {},
     "output_type": "execute_result"
    }
   ],
   "source": [
    "\"월화수목금토일\"[6]"
   ]
  },
  {
   "cell_type": "code",
   "execution_count": 61,
   "metadata": {
    "ExecuteTime": {
     "end_time": "2023-01-18T08:14:57.679846Z",
     "start_time": "2023-01-18T08:14:57.641810Z"
    }
   },
   "outputs": [],
   "source": [
    "# 요일 - 0:월, 1:화, 2:수, 3:목, 4:금, 5:토, 6:일 로 변경\n",
    "df['요일'] = df['요일'].apply(lambda x : \"월화수목금토일\"[x])# +\"요일\")"
   ]
  },
  {
   "cell_type": "code",
   "execution_count": 62,
   "metadata": {
    "ExecuteTime": {
     "end_time": "2023-01-18T08:15:03.665776Z",
     "start_time": "2023-01-18T08:15:03.636626Z"
    },
    "collapsed": true
   },
   "outputs": [
    {
     "data": {
      "text/html": [
       "<div>\n",
       "<style scoped>\n",
       "    .dataframe tbody tr th:only-of-type {\n",
       "        vertical-align: middle;\n",
       "    }\n",
       "\n",
       "    .dataframe tbody tr th {\n",
       "        vertical-align: top;\n",
       "    }\n",
       "\n",
       "    .dataframe thead th {\n",
       "        text-align: right;\n",
       "    }\n",
       "</style>\n",
       "<table border=\"1\" class=\"dataframe\">\n",
       "  <thead>\n",
       "    <tr style=\"text-align: right;\">\n",
       "      <th></th>\n",
       "      <th>번호</th>\n",
       "      <th>지역</th>\n",
       "      <th>상호</th>\n",
       "      <th>주소</th>\n",
       "      <th>기간</th>\n",
       "      <th>상표</th>\n",
       "      <th>셀프여부</th>\n",
       "      <th>고급휘발유</th>\n",
       "      <th>휘발유</th>\n",
       "      <th>경유</th>\n",
       "      <th>실내등유</th>\n",
       "      <th>구</th>\n",
       "      <th>월</th>\n",
       "      <th>일</th>\n",
       "      <th>요일</th>\n",
       "    </tr>\n",
       "  </thead>\n",
       "  <tbody>\n",
       "    <tr>\n",
       "      <th>0</th>\n",
       "      <td>A0006039</td>\n",
       "      <td>서울 강남구</td>\n",
       "      <td>(유)동하석유 힐탑셀프주유소</td>\n",
       "      <td>서울 강남구 논현로 640</td>\n",
       "      <td>2022-01-01</td>\n",
       "      <td>SK에너지</td>\n",
       "      <td>셀프</td>\n",
       "      <td>1887</td>\n",
       "      <td>1737</td>\n",
       "      <td>1587</td>\n",
       "      <td>0</td>\n",
       "      <td>강남구</td>\n",
       "      <td>1</td>\n",
       "      <td>1</td>\n",
       "      <td>토</td>\n",
       "    </tr>\n",
       "    <tr>\n",
       "      <th>1</th>\n",
       "      <td>A0006039</td>\n",
       "      <td>서울 강남구</td>\n",
       "      <td>(유)동하석유 힐탑셀프주유소</td>\n",
       "      <td>서울 강남구 논현로 640</td>\n",
       "      <td>2022-01-02</td>\n",
       "      <td>SK에너지</td>\n",
       "      <td>셀프</td>\n",
       "      <td>1887</td>\n",
       "      <td>1737</td>\n",
       "      <td>1587</td>\n",
       "      <td>0</td>\n",
       "      <td>강남구</td>\n",
       "      <td>1</td>\n",
       "      <td>2</td>\n",
       "      <td>일</td>\n",
       "    </tr>\n",
       "    <tr>\n",
       "      <th>2</th>\n",
       "      <td>A0006039</td>\n",
       "      <td>서울 강남구</td>\n",
       "      <td>(유)동하석유 힐탑셀프주유소</td>\n",
       "      <td>서울 강남구 논현로 640</td>\n",
       "      <td>2022-01-03</td>\n",
       "      <td>SK에너지</td>\n",
       "      <td>셀프</td>\n",
       "      <td>1887</td>\n",
       "      <td>1737</td>\n",
       "      <td>1587</td>\n",
       "      <td>0</td>\n",
       "      <td>강남구</td>\n",
       "      <td>1</td>\n",
       "      <td>3</td>\n",
       "      <td>월</td>\n",
       "    </tr>\n",
       "    <tr>\n",
       "      <th>3</th>\n",
       "      <td>A0006039</td>\n",
       "      <td>서울 강남구</td>\n",
       "      <td>(유)동하석유 힐탑셀프주유소</td>\n",
       "      <td>서울 강남구 논현로 640</td>\n",
       "      <td>2022-01-04</td>\n",
       "      <td>SK에너지</td>\n",
       "      <td>셀프</td>\n",
       "      <td>1887</td>\n",
       "      <td>1737</td>\n",
       "      <td>1587</td>\n",
       "      <td>0</td>\n",
       "      <td>강남구</td>\n",
       "      <td>1</td>\n",
       "      <td>4</td>\n",
       "      <td>화</td>\n",
       "    </tr>\n",
       "    <tr>\n",
       "      <th>4</th>\n",
       "      <td>A0006039</td>\n",
       "      <td>서울 강남구</td>\n",
       "      <td>(유)동하석유 힐탑셀프주유소</td>\n",
       "      <td>서울 강남구 논현로 640</td>\n",
       "      <td>2022-01-05</td>\n",
       "      <td>SK에너지</td>\n",
       "      <td>셀프</td>\n",
       "      <td>1887</td>\n",
       "      <td>1737</td>\n",
       "      <td>1587</td>\n",
       "      <td>0</td>\n",
       "      <td>강남구</td>\n",
       "      <td>1</td>\n",
       "      <td>5</td>\n",
       "      <td>수</td>\n",
       "    </tr>\n",
       "  </tbody>\n",
       "</table>\n",
       "</div>"
      ],
      "text/plain": [
       "         번호      지역               상호              주소         기간     상표 셀프여부  \\\n",
       "0  A0006039  서울 강남구  (유)동하석유 힐탑셀프주유소  서울 강남구 논현로 640 2022-01-01  SK에너지   셀프   \n",
       "1  A0006039  서울 강남구  (유)동하석유 힐탑셀프주유소  서울 강남구 논현로 640 2022-01-02  SK에너지   셀프   \n",
       "2  A0006039  서울 강남구  (유)동하석유 힐탑셀프주유소  서울 강남구 논현로 640 2022-01-03  SK에너지   셀프   \n",
       "3  A0006039  서울 강남구  (유)동하석유 힐탑셀프주유소  서울 강남구 논현로 640 2022-01-04  SK에너지   셀프   \n",
       "4  A0006039  서울 강남구  (유)동하석유 힐탑셀프주유소  서울 강남구 논현로 640 2022-01-05  SK에너지   셀프   \n",
       "\n",
       "   고급휘발유   휘발유    경유  실내등유    구  월  일 요일  \n",
       "0   1887  1737  1587     0  강남구  1  1  토  \n",
       "1   1887  1737  1587     0  강남구  1  2  일  \n",
       "2   1887  1737  1587     0  강남구  1  3  월  \n",
       "3   1887  1737  1587     0  강남구  1  4  화  \n",
       "4   1887  1737  1587     0  강남구  1  5  수  "
      ]
     },
     "execution_count": 62,
     "metadata": {},
     "output_type": "execute_result"
    }
   ],
   "source": [
    "df.head()"
   ]
  },
  {
   "cell_type": "code",
   "execution_count": 63,
   "metadata": {
    "ExecuteTime": {
     "end_time": "2023-01-18T08:17:29.465876Z",
     "start_time": "2023-01-18T08:17:26.594341Z"
    }
   },
   "outputs": [],
   "source": [
    "# 전처리를 완료 -> 파일로 저장\n",
    "df.to_csv('data/2022년_주유소_가격_데이터_preprocessing.csv', index=False)"
   ]
  },
  {
   "cell_type": "code",
   "execution_count": 64,
   "metadata": {
    "ExecuteTime": {
     "end_time": "2023-01-18T08:19:09.782976Z",
     "start_time": "2023-01-18T08:19:09.377128Z"
    },
    "collapsed": true
   },
   "outputs": [
    {
     "data": {
      "text/html": [
       "<div>\n",
       "<style scoped>\n",
       "    .dataframe tbody tr th:only-of-type {\n",
       "        vertical-align: middle;\n",
       "    }\n",
       "\n",
       "    .dataframe tbody tr th {\n",
       "        vertical-align: top;\n",
       "    }\n",
       "\n",
       "    .dataframe thead th {\n",
       "        text-align: right;\n",
       "    }\n",
       "</style>\n",
       "<table border=\"1\" class=\"dataframe\">\n",
       "  <thead>\n",
       "    <tr style=\"text-align: right;\">\n",
       "      <th></th>\n",
       "      <th>번호</th>\n",
       "      <th>지역</th>\n",
       "      <th>상호</th>\n",
       "      <th>주소</th>\n",
       "      <th>기간</th>\n",
       "      <th>상표</th>\n",
       "      <th>셀프여부</th>\n",
       "      <th>고급휘발유</th>\n",
       "      <th>휘발유</th>\n",
       "      <th>경유</th>\n",
       "      <th>실내등유</th>\n",
       "      <th>구</th>\n",
       "      <th>월</th>\n",
       "      <th>일</th>\n",
       "      <th>요일</th>\n",
       "    </tr>\n",
       "  </thead>\n",
       "  <tbody>\n",
       "    <tr>\n",
       "      <th>0</th>\n",
       "      <td>A0006039</td>\n",
       "      <td>서울 강남구</td>\n",
       "      <td>(유)동하석유 힐탑셀프주유소</td>\n",
       "      <td>서울 강남구 논현로 640</td>\n",
       "      <td>2022-01-01</td>\n",
       "      <td>SK에너지</td>\n",
       "      <td>셀프</td>\n",
       "      <td>1887</td>\n",
       "      <td>1737</td>\n",
       "      <td>1587</td>\n",
       "      <td>0</td>\n",
       "      <td>강남구</td>\n",
       "      <td>1</td>\n",
       "      <td>1</td>\n",
       "      <td>토</td>\n",
       "    </tr>\n",
       "    <tr>\n",
       "      <th>1</th>\n",
       "      <td>A0006039</td>\n",
       "      <td>서울 강남구</td>\n",
       "      <td>(유)동하석유 힐탑셀프주유소</td>\n",
       "      <td>서울 강남구 논현로 640</td>\n",
       "      <td>2022-01-02</td>\n",
       "      <td>SK에너지</td>\n",
       "      <td>셀프</td>\n",
       "      <td>1887</td>\n",
       "      <td>1737</td>\n",
       "      <td>1587</td>\n",
       "      <td>0</td>\n",
       "      <td>강남구</td>\n",
       "      <td>1</td>\n",
       "      <td>2</td>\n",
       "      <td>일</td>\n",
       "    </tr>\n",
       "    <tr>\n",
       "      <th>2</th>\n",
       "      <td>A0006039</td>\n",
       "      <td>서울 강남구</td>\n",
       "      <td>(유)동하석유 힐탑셀프주유소</td>\n",
       "      <td>서울 강남구 논현로 640</td>\n",
       "      <td>2022-01-03</td>\n",
       "      <td>SK에너지</td>\n",
       "      <td>셀프</td>\n",
       "      <td>1887</td>\n",
       "      <td>1737</td>\n",
       "      <td>1587</td>\n",
       "      <td>0</td>\n",
       "      <td>강남구</td>\n",
       "      <td>1</td>\n",
       "      <td>3</td>\n",
       "      <td>월</td>\n",
       "    </tr>\n",
       "    <tr>\n",
       "      <th>3</th>\n",
       "      <td>A0006039</td>\n",
       "      <td>서울 강남구</td>\n",
       "      <td>(유)동하석유 힐탑셀프주유소</td>\n",
       "      <td>서울 강남구 논현로 640</td>\n",
       "      <td>2022-01-04</td>\n",
       "      <td>SK에너지</td>\n",
       "      <td>셀프</td>\n",
       "      <td>1887</td>\n",
       "      <td>1737</td>\n",
       "      <td>1587</td>\n",
       "      <td>0</td>\n",
       "      <td>강남구</td>\n",
       "      <td>1</td>\n",
       "      <td>4</td>\n",
       "      <td>화</td>\n",
       "    </tr>\n",
       "    <tr>\n",
       "      <th>4</th>\n",
       "      <td>A0006039</td>\n",
       "      <td>서울 강남구</td>\n",
       "      <td>(유)동하석유 힐탑셀프주유소</td>\n",
       "      <td>서울 강남구 논현로 640</td>\n",
       "      <td>2022-01-05</td>\n",
       "      <td>SK에너지</td>\n",
       "      <td>셀프</td>\n",
       "      <td>1887</td>\n",
       "      <td>1737</td>\n",
       "      <td>1587</td>\n",
       "      <td>0</td>\n",
       "      <td>강남구</td>\n",
       "      <td>1</td>\n",
       "      <td>5</td>\n",
       "      <td>수</td>\n",
       "    </tr>\n",
       "  </tbody>\n",
       "</table>\n",
       "</div>"
      ],
      "text/plain": [
       "         번호      지역               상호              주소          기간     상표 셀프여부  \\\n",
       "0  A0006039  서울 강남구  (유)동하석유 힐탑셀프주유소  서울 강남구 논현로 640  2022-01-01  SK에너지   셀프   \n",
       "1  A0006039  서울 강남구  (유)동하석유 힐탑셀프주유소  서울 강남구 논현로 640  2022-01-02  SK에너지   셀프   \n",
       "2  A0006039  서울 강남구  (유)동하석유 힐탑셀프주유소  서울 강남구 논현로 640  2022-01-03  SK에너지   셀프   \n",
       "3  A0006039  서울 강남구  (유)동하석유 힐탑셀프주유소  서울 강남구 논현로 640  2022-01-04  SK에너지   셀프   \n",
       "4  A0006039  서울 강남구  (유)동하석유 힐탑셀프주유소  서울 강남구 논현로 640  2022-01-05  SK에너지   셀프   \n",
       "\n",
       "   고급휘발유   휘발유    경유  실내등유    구  월  일 요일  \n",
       "0   1887  1737  1587     0  강남구  1  1  토  \n",
       "1   1887  1737  1587     0  강남구  1  2  일  \n",
       "2   1887  1737  1587     0  강남구  1  3  월  \n",
       "3   1887  1737  1587     0  강남구  1  4  화  \n",
       "4   1887  1737  1587     0  강남구  1  5  수  "
      ]
     },
     "execution_count": 64,
     "metadata": {},
     "output_type": "execute_result"
    }
   ],
   "source": [
    "df2 = pd.read_csv('data/2022년_주유소_가격_데이터_preprocessing.csv')\n",
    "df2.head()"
   ]
  },
  {
   "cell_type": "code",
   "execution_count": 67,
   "metadata": {
    "ExecuteTime": {
     "end_time": "2023-01-18T08:22:31.442274Z",
     "start_time": "2023-01-18T08:22:31.343508Z"
    }
   },
   "outputs": [
    {
     "data": {
      "text/html": [
       "<div>\n",
       "<style scoped>\n",
       "    .dataframe tbody tr th:only-of-type {\n",
       "        vertical-align: middle;\n",
       "    }\n",
       "\n",
       "    .dataframe tbody tr th {\n",
       "        vertical-align: top;\n",
       "    }\n",
       "\n",
       "    .dataframe thead th {\n",
       "        text-align: right;\n",
       "    }\n",
       "</style>\n",
       "<table border=\"1\" class=\"dataframe\">\n",
       "  <thead>\n",
       "    <tr style=\"text-align: right;\">\n",
       "      <th></th>\n",
       "      <th>번호</th>\n",
       "      <th>지역</th>\n",
       "      <th>상호</th>\n",
       "      <th>주소</th>\n",
       "      <th>기간</th>\n",
       "      <th>상표</th>\n",
       "      <th>셀프여부</th>\n",
       "      <th>고급휘발유</th>\n",
       "      <th>휘발유</th>\n",
       "      <th>경유</th>\n",
       "      <th>실내등유</th>\n",
       "      <th>구</th>\n",
       "      <th>월</th>\n",
       "      <th>일</th>\n",
       "      <th>요일</th>\n",
       "    </tr>\n",
       "  </thead>\n",
       "  <tbody>\n",
       "    <tr>\n",
       "      <th>78935</th>\n",
       "      <td>A0000767</td>\n",
       "      <td>서울 중구</td>\n",
       "      <td>서남주유소</td>\n",
       "      <td>서울 중구 통일로 30</td>\n",
       "      <td>2022-06-22</td>\n",
       "      <td>SK에너지</td>\n",
       "      <td>일반</td>\n",
       "      <td>3496</td>\n",
       "      <td>3096</td>\n",
       "      <td>3223</td>\n",
       "      <td>2719</td>\n",
       "      <td>중구</td>\n",
       "      <td>6</td>\n",
       "      <td>22</td>\n",
       "      <td>수</td>\n",
       "    </tr>\n",
       "    <tr>\n",
       "      <th>78936</th>\n",
       "      <td>A0000767</td>\n",
       "      <td>서울 중구</td>\n",
       "      <td>서남주유소</td>\n",
       "      <td>서울 중구 통일로 30</td>\n",
       "      <td>2022-06-23</td>\n",
       "      <td>SK에너지</td>\n",
       "      <td>일반</td>\n",
       "      <td>3496</td>\n",
       "      <td>3096</td>\n",
       "      <td>3223</td>\n",
       "      <td>2719</td>\n",
       "      <td>중구</td>\n",
       "      <td>6</td>\n",
       "      <td>23</td>\n",
       "      <td>목</td>\n",
       "    </tr>\n",
       "    <tr>\n",
       "      <th>78937</th>\n",
       "      <td>A0000767</td>\n",
       "      <td>서울 중구</td>\n",
       "      <td>서남주유소</td>\n",
       "      <td>서울 중구 통일로 30</td>\n",
       "      <td>2022-06-24</td>\n",
       "      <td>SK에너지</td>\n",
       "      <td>일반</td>\n",
       "      <td>3496</td>\n",
       "      <td>3096</td>\n",
       "      <td>3223</td>\n",
       "      <td>2719</td>\n",
       "      <td>중구</td>\n",
       "      <td>6</td>\n",
       "      <td>24</td>\n",
       "      <td>금</td>\n",
       "    </tr>\n",
       "    <tr>\n",
       "      <th>78938</th>\n",
       "      <td>A0000767</td>\n",
       "      <td>서울 중구</td>\n",
       "      <td>서남주유소</td>\n",
       "      <td>서울 중구 통일로 30</td>\n",
       "      <td>2022-06-25</td>\n",
       "      <td>SK에너지</td>\n",
       "      <td>일반</td>\n",
       "      <td>3496</td>\n",
       "      <td>3096</td>\n",
       "      <td>3223</td>\n",
       "      <td>2719</td>\n",
       "      <td>중구</td>\n",
       "      <td>6</td>\n",
       "      <td>25</td>\n",
       "      <td>토</td>\n",
       "    </tr>\n",
       "    <tr>\n",
       "      <th>78939</th>\n",
       "      <td>A0000767</td>\n",
       "      <td>서울 중구</td>\n",
       "      <td>서남주유소</td>\n",
       "      <td>서울 중구 통일로 30</td>\n",
       "      <td>2022-06-26</td>\n",
       "      <td>SK에너지</td>\n",
       "      <td>일반</td>\n",
       "      <td>3496</td>\n",
       "      <td>3096</td>\n",
       "      <td>3223</td>\n",
       "      <td>2719</td>\n",
       "      <td>중구</td>\n",
       "      <td>6</td>\n",
       "      <td>26</td>\n",
       "      <td>일</td>\n",
       "    </tr>\n",
       "  </tbody>\n",
       "</table>\n",
       "</div>"
      ],
      "text/plain": [
       "             번호     지역     상호            주소         기간     상표 셀프여부  고급휘발유  \\\n",
       "78935  A0000767  서울 중구  서남주유소  서울 중구 통일로 30 2022-06-22  SK에너지   일반   3496   \n",
       "78936  A0000767  서울 중구  서남주유소  서울 중구 통일로 30 2022-06-23  SK에너지   일반   3496   \n",
       "78937  A0000767  서울 중구  서남주유소  서울 중구 통일로 30 2022-06-24  SK에너지   일반   3496   \n",
       "78938  A0000767  서울 중구  서남주유소  서울 중구 통일로 30 2022-06-25  SK에너지   일반   3496   \n",
       "78939  A0000767  서울 중구  서남주유소  서울 중구 통일로 30 2022-06-26  SK에너지   일반   3496   \n",
       "\n",
       "        휘발유    경유  실내등유   구  월   일 요일  \n",
       "78935  3096  3223  2719  중구  6  22  수  \n",
       "78936  3096  3223  2719  중구  6  23  목  \n",
       "78937  3096  3223  2719  중구  6  24  금  \n",
       "78938  3096  3223  2719  중구  6  25  토  \n",
       "78939  3096  3223  2719  중구  6  26  일  "
      ]
     },
     "execution_count": 67,
     "metadata": {},
     "output_type": "execute_result"
    }
   ],
   "source": [
    "# 휘발유 가격이 가장 비싼 5개 행 조회\n",
    "# df.sort_values('휘발유', ascending=False).head()\n",
    "df.sort_values(['휘발유', '기간'], ascending=[False, True]).head()"
   ]
  },
  {
   "cell_type": "code",
   "execution_count": 74,
   "metadata": {
    "ExecuteTime": {
     "end_time": "2023-01-18T08:26:39.630788Z",
     "start_time": "2023-01-18T08:26:39.487530Z"
    },
    "scrolled": true
   },
   "outputs": [
    {
     "data": {
      "text/html": [
       "<div>\n",
       "<style scoped>\n",
       "    .dataframe tbody tr th:only-of-type {\n",
       "        vertical-align: middle;\n",
       "    }\n",
       "\n",
       "    .dataframe tbody tr th {\n",
       "        vertical-align: top;\n",
       "    }\n",
       "\n",
       "    .dataframe thead th {\n",
       "        text-align: right;\n",
       "    }\n",
       "</style>\n",
       "<table border=\"1\" class=\"dataframe\">\n",
       "  <thead>\n",
       "    <tr style=\"text-align: right;\">\n",
       "      <th></th>\n",
       "      <th>번호</th>\n",
       "      <th>지역</th>\n",
       "      <th>상호</th>\n",
       "      <th>주소</th>\n",
       "      <th>기간</th>\n",
       "      <th>상표</th>\n",
       "      <th>셀프여부</th>\n",
       "      <th>고급휘발유</th>\n",
       "      <th>휘발유</th>\n",
       "      <th>경유</th>\n",
       "      <th>실내등유</th>\n",
       "      <th>구</th>\n",
       "      <th>월</th>\n",
       "      <th>일</th>\n",
       "      <th>요일</th>\n",
       "    </tr>\n",
       "  </thead>\n",
       "  <tbody>\n",
       "    <tr>\n",
       "      <th>97838</th>\n",
       "      <td>A0000549</td>\n",
       "      <td>서울 강서구</td>\n",
       "      <td>이케이에너지(주) 강서주유소</td>\n",
       "      <td>서울 강서구 화곡로 273 (화곡동)</td>\n",
       "      <td>2022-12-23</td>\n",
       "      <td>현대오일뱅크</td>\n",
       "      <td>셀프</td>\n",
       "      <td>0</td>\n",
       "      <td>1410</td>\n",
       "      <td>1660</td>\n",
       "      <td>0</td>\n",
       "      <td>강서구</td>\n",
       "      <td>12</td>\n",
       "      <td>23</td>\n",
       "      <td>금</td>\n",
       "    </tr>\n",
       "    <tr>\n",
       "      <th>99494</th>\n",
       "      <td>A0000519</td>\n",
       "      <td>서울 강서구</td>\n",
       "      <td>화곡역주유소</td>\n",
       "      <td>서울 강서구 강서로 154 (화곡동)</td>\n",
       "      <td>2022-12-23</td>\n",
       "      <td>알뜰주유소</td>\n",
       "      <td>셀프</td>\n",
       "      <td>0</td>\n",
       "      <td>1410</td>\n",
       "      <td>1660</td>\n",
       "      <td>0</td>\n",
       "      <td>강서구</td>\n",
       "      <td>12</td>\n",
       "      <td>23</td>\n",
       "      <td>금</td>\n",
       "    </tr>\n",
       "    <tr>\n",
       "      <th>97839</th>\n",
       "      <td>A0000549</td>\n",
       "      <td>서울 강서구</td>\n",
       "      <td>이케이에너지(주) 강서주유소</td>\n",
       "      <td>서울 강서구 화곡로 273 (화곡동)</td>\n",
       "      <td>2022-12-24</td>\n",
       "      <td>현대오일뱅크</td>\n",
       "      <td>셀프</td>\n",
       "      <td>0</td>\n",
       "      <td>1410</td>\n",
       "      <td>1660</td>\n",
       "      <td>0</td>\n",
       "      <td>강서구</td>\n",
       "      <td>12</td>\n",
       "      <td>24</td>\n",
       "      <td>토</td>\n",
       "    </tr>\n",
       "    <tr>\n",
       "      <th>99495</th>\n",
       "      <td>A0000519</td>\n",
       "      <td>서울 강서구</td>\n",
       "      <td>화곡역주유소</td>\n",
       "      <td>서울 강서구 강서로 154 (화곡동)</td>\n",
       "      <td>2022-12-24</td>\n",
       "      <td>알뜰주유소</td>\n",
       "      <td>셀프</td>\n",
       "      <td>0</td>\n",
       "      <td>1410</td>\n",
       "      <td>1660</td>\n",
       "      <td>0</td>\n",
       "      <td>강서구</td>\n",
       "      <td>12</td>\n",
       "      <td>24</td>\n",
       "      <td>토</td>\n",
       "    </tr>\n",
       "    <tr>\n",
       "      <th>148431</th>\n",
       "      <td>A0001005</td>\n",
       "      <td>서울 양천구</td>\n",
       "      <td>현대주유소</td>\n",
       "      <td>서울 양천구 남부순환로 372 (신월동)</td>\n",
       "      <td>2022-12-24</td>\n",
       "      <td>S-OIL</td>\n",
       "      <td>셀프</td>\n",
       "      <td>0</td>\n",
       "      <td>1410</td>\n",
       "      <td>1660</td>\n",
       "      <td>0</td>\n",
       "      <td>양천구</td>\n",
       "      <td>12</td>\n",
       "      <td>24</td>\n",
       "      <td>토</td>\n",
       "    </tr>\n",
       "  </tbody>\n",
       "</table>\n",
       "</div>"
      ],
      "text/plain": [
       "              번호      지역               상호                      주소         기간  \\\n",
       "97838   A0000549  서울 강서구  이케이에너지(주) 강서주유소    서울 강서구 화곡로 273 (화곡동) 2022-12-23   \n",
       "99494   A0000519  서울 강서구           화곡역주유소    서울 강서구 강서로 154 (화곡동) 2022-12-23   \n",
       "97839   A0000549  서울 강서구  이케이에너지(주) 강서주유소    서울 강서구 화곡로 273 (화곡동) 2022-12-24   \n",
       "99495   A0000519  서울 강서구           화곡역주유소    서울 강서구 강서로 154 (화곡동) 2022-12-24   \n",
       "148431  A0001005  서울 양천구            현대주유소  서울 양천구 남부순환로 372 (신월동) 2022-12-24   \n",
       "\n",
       "            상표 셀프여부  고급휘발유   휘발유    경유  실내등유    구   월   일 요일  \n",
       "97838   현대오일뱅크   셀프      0  1410  1660     0  강서구  12  23  금  \n",
       "99494    알뜰주유소   셀프      0  1410  1660     0  강서구  12  23  금  \n",
       "97839   현대오일뱅크   셀프      0  1410  1660     0  강서구  12  24  토  \n",
       "99495    알뜰주유소   셀프      0  1410  1660     0  강서구  12  24  토  \n",
       "148431   S-OIL   셀프      0  1410  1660     0  양천구  12  24  토  "
      ]
     },
     "execution_count": 74,
     "metadata": {},
     "output_type": "execute_result"
    }
   ],
   "source": [
    "# 휘발유 가격이 가장 저렴한 5개 행 조회 (단 0원인 주유소 제외)\n",
    "# df[df['휘발유']!=0].sort_values(['휘발유', '기간']).head(5)\n",
    "df.query('휘발유 != 0').sort_values(['휘발유', '기간']).head(5)"
   ]
  },
  {
   "cell_type": "code",
   "execution_count": 75,
   "metadata": {
    "ExecuteTime": {
     "end_time": "2023-01-18T08:28:20.673057Z",
     "start_time": "2023-01-18T08:28:20.561879Z"
    }
   },
   "outputs": [
    {
     "data": {
      "text/html": [
       "<div>\n",
       "<style scoped>\n",
       "    .dataframe tbody tr th:only-of-type {\n",
       "        vertical-align: middle;\n",
       "    }\n",
       "\n",
       "    .dataframe tbody tr th {\n",
       "        vertical-align: top;\n",
       "    }\n",
       "\n",
       "    .dataframe thead th {\n",
       "        text-align: right;\n",
       "    }\n",
       "</style>\n",
       "<table border=\"1\" class=\"dataframe\">\n",
       "  <thead>\n",
       "    <tr style=\"text-align: right;\">\n",
       "      <th></th>\n",
       "      <th>번호</th>\n",
       "      <th>지역</th>\n",
       "      <th>상호</th>\n",
       "      <th>주소</th>\n",
       "      <th>기간</th>\n",
       "      <th>상표</th>\n",
       "      <th>셀프여부</th>\n",
       "      <th>고급휘발유</th>\n",
       "      <th>휘발유</th>\n",
       "      <th>경유</th>\n",
       "      <th>실내등유</th>\n",
       "      <th>구</th>\n",
       "      <th>월</th>\n",
       "      <th>일</th>\n",
       "      <th>요일</th>\n",
       "    </tr>\n",
       "  </thead>\n",
       "  <tbody>\n",
       "    <tr>\n",
       "      <th>78935</th>\n",
       "      <td>A0000767</td>\n",
       "      <td>서울 중구</td>\n",
       "      <td>서남주유소</td>\n",
       "      <td>서울 중구 통일로 30</td>\n",
       "      <td>2022-06-22</td>\n",
       "      <td>SK에너지</td>\n",
       "      <td>일반</td>\n",
       "      <td>3496</td>\n",
       "      <td>3096</td>\n",
       "      <td>3223</td>\n",
       "      <td>2719</td>\n",
       "      <td>중구</td>\n",
       "      <td>6</td>\n",
       "      <td>22</td>\n",
       "      <td>수</td>\n",
       "    </tr>\n",
       "    <tr>\n",
       "      <th>78936</th>\n",
       "      <td>A0000767</td>\n",
       "      <td>서울 중구</td>\n",
       "      <td>서남주유소</td>\n",
       "      <td>서울 중구 통일로 30</td>\n",
       "      <td>2022-06-23</td>\n",
       "      <td>SK에너지</td>\n",
       "      <td>일반</td>\n",
       "      <td>3496</td>\n",
       "      <td>3096</td>\n",
       "      <td>3223</td>\n",
       "      <td>2719</td>\n",
       "      <td>중구</td>\n",
       "      <td>6</td>\n",
       "      <td>23</td>\n",
       "      <td>목</td>\n",
       "    </tr>\n",
       "    <tr>\n",
       "      <th>78937</th>\n",
       "      <td>A0000767</td>\n",
       "      <td>서울 중구</td>\n",
       "      <td>서남주유소</td>\n",
       "      <td>서울 중구 통일로 30</td>\n",
       "      <td>2022-06-24</td>\n",
       "      <td>SK에너지</td>\n",
       "      <td>일반</td>\n",
       "      <td>3496</td>\n",
       "      <td>3096</td>\n",
       "      <td>3223</td>\n",
       "      <td>2719</td>\n",
       "      <td>중구</td>\n",
       "      <td>6</td>\n",
       "      <td>24</td>\n",
       "      <td>금</td>\n",
       "    </tr>\n",
       "    <tr>\n",
       "      <th>78938</th>\n",
       "      <td>A0000767</td>\n",
       "      <td>서울 중구</td>\n",
       "      <td>서남주유소</td>\n",
       "      <td>서울 중구 통일로 30</td>\n",
       "      <td>2022-06-25</td>\n",
       "      <td>SK에너지</td>\n",
       "      <td>일반</td>\n",
       "      <td>3496</td>\n",
       "      <td>3096</td>\n",
       "      <td>3223</td>\n",
       "      <td>2719</td>\n",
       "      <td>중구</td>\n",
       "      <td>6</td>\n",
       "      <td>25</td>\n",
       "      <td>토</td>\n",
       "    </tr>\n",
       "    <tr>\n",
       "      <th>78939</th>\n",
       "      <td>A0000767</td>\n",
       "      <td>서울 중구</td>\n",
       "      <td>서남주유소</td>\n",
       "      <td>서울 중구 통일로 30</td>\n",
       "      <td>2022-06-26</td>\n",
       "      <td>SK에너지</td>\n",
       "      <td>일반</td>\n",
       "      <td>3496</td>\n",
       "      <td>3096</td>\n",
       "      <td>3223</td>\n",
       "      <td>2719</td>\n",
       "      <td>중구</td>\n",
       "      <td>6</td>\n",
       "      <td>26</td>\n",
       "      <td>일</td>\n",
       "    </tr>\n",
       "  </tbody>\n",
       "</table>\n",
       "</div>"
      ],
      "text/plain": [
       "             번호     지역     상호            주소         기간     상표 셀프여부  고급휘발유  \\\n",
       "78935  A0000767  서울 중구  서남주유소  서울 중구 통일로 30 2022-06-22  SK에너지   일반   3496   \n",
       "78936  A0000767  서울 중구  서남주유소  서울 중구 통일로 30 2022-06-23  SK에너지   일반   3496   \n",
       "78937  A0000767  서울 중구  서남주유소  서울 중구 통일로 30 2022-06-24  SK에너지   일반   3496   \n",
       "78938  A0000767  서울 중구  서남주유소  서울 중구 통일로 30 2022-06-25  SK에너지   일반   3496   \n",
       "78939  A0000767  서울 중구  서남주유소  서울 중구 통일로 30 2022-06-26  SK에너지   일반   3496   \n",
       "\n",
       "        휘발유    경유  실내등유   구  월   일 요일  \n",
       "78935  3096  3223  2719  중구  6  22  수  \n",
       "78936  3096  3223  2719  중구  6  23  목  \n",
       "78937  3096  3223  2719  중구  6  24  금  \n",
       "78938  3096  3223  2719  중구  6  25  토  \n",
       "78939  3096  3223  2719  중구  6  26  일  "
      ]
     },
     "execution_count": 75,
     "metadata": {},
     "output_type": "execute_result"
    }
   ],
   "source": [
    "# 고급휘발유 가격이 가장 비싼 5개 행 조회\n",
    "df.sort_values(['고급휘발유', '기간'], ascending=[False, True]).head()"
   ]
  },
  {
   "cell_type": "code",
   "execution_count": 79,
   "metadata": {
    "ExecuteTime": {
     "end_time": "2023-01-18T08:29:52.663229Z",
     "start_time": "2023-01-18T08:29:52.564250Z"
    },
    "collapsed": true
   },
   "outputs": [
    {
     "data": {
      "text/html": [
       "<div>\n",
       "<style scoped>\n",
       "    .dataframe tbody tr th:only-of-type {\n",
       "        vertical-align: middle;\n",
       "    }\n",
       "\n",
       "    .dataframe tbody tr th {\n",
       "        vertical-align: top;\n",
       "    }\n",
       "\n",
       "    .dataframe thead th {\n",
       "        text-align: right;\n",
       "    }\n",
       "</style>\n",
       "<table border=\"1\" class=\"dataframe\">\n",
       "  <thead>\n",
       "    <tr style=\"text-align: right;\">\n",
       "      <th></th>\n",
       "      <th>번호</th>\n",
       "      <th>지역</th>\n",
       "      <th>상호</th>\n",
       "      <th>주소</th>\n",
       "      <th>기간</th>\n",
       "      <th>상표</th>\n",
       "      <th>셀프여부</th>\n",
       "      <th>고급휘발유</th>\n",
       "      <th>휘발유</th>\n",
       "      <th>경유</th>\n",
       "      <th>실내등유</th>\n",
       "      <th>구</th>\n",
       "      <th>월</th>\n",
       "      <th>일</th>\n",
       "      <th>요일</th>\n",
       "    </tr>\n",
       "  </thead>\n",
       "  <tbody>\n",
       "    <tr>\n",
       "      <th>98570</th>\n",
       "      <td>A0000520</td>\n",
       "      <td>서울 강서구</td>\n",
       "      <td>하이웨이주유소</td>\n",
       "      <td>서울특별시 강서구 공항대로 432(화곡동)</td>\n",
       "      <td>2022-12-19</td>\n",
       "      <td>S-OIL</td>\n",
       "      <td>셀프</td>\n",
       "      <td>1599</td>\n",
       "      <td>1527</td>\n",
       "      <td>1787</td>\n",
       "      <td>0</td>\n",
       "      <td>강서구</td>\n",
       "      <td>12</td>\n",
       "      <td>19</td>\n",
       "      <td>월</td>\n",
       "    </tr>\n",
       "    <tr>\n",
       "      <th>98571</th>\n",
       "      <td>A0000520</td>\n",
       "      <td>서울 강서구</td>\n",
       "      <td>하이웨이주유소</td>\n",
       "      <td>서울특별시 강서구 공항대로 432(화곡동)</td>\n",
       "      <td>2022-12-20</td>\n",
       "      <td>S-OIL</td>\n",
       "      <td>셀프</td>\n",
       "      <td>1599</td>\n",
       "      <td>1527</td>\n",
       "      <td>1787</td>\n",
       "      <td>0</td>\n",
       "      <td>강서구</td>\n",
       "      <td>12</td>\n",
       "      <td>20</td>\n",
       "      <td>화</td>\n",
       "    </tr>\n",
       "    <tr>\n",
       "      <th>98572</th>\n",
       "      <td>A0000520</td>\n",
       "      <td>서울 강서구</td>\n",
       "      <td>하이웨이주유소</td>\n",
       "      <td>서울특별시 강서구 공항대로 432(화곡동)</td>\n",
       "      <td>2022-12-21</td>\n",
       "      <td>S-OIL</td>\n",
       "      <td>셀프</td>\n",
       "      <td>1599</td>\n",
       "      <td>1499</td>\n",
       "      <td>1759</td>\n",
       "      <td>0</td>\n",
       "      <td>강서구</td>\n",
       "      <td>12</td>\n",
       "      <td>21</td>\n",
       "      <td>수</td>\n",
       "    </tr>\n",
       "    <tr>\n",
       "      <th>98573</th>\n",
       "      <td>A0000520</td>\n",
       "      <td>서울 강서구</td>\n",
       "      <td>하이웨이주유소</td>\n",
       "      <td>서울특별시 강서구 공항대로 432(화곡동)</td>\n",
       "      <td>2022-12-22</td>\n",
       "      <td>S-OIL</td>\n",
       "      <td>셀프</td>\n",
       "      <td>1599</td>\n",
       "      <td>1499</td>\n",
       "      <td>1759</td>\n",
       "      <td>0</td>\n",
       "      <td>강서구</td>\n",
       "      <td>12</td>\n",
       "      <td>22</td>\n",
       "      <td>목</td>\n",
       "    </tr>\n",
       "    <tr>\n",
       "      <th>98574</th>\n",
       "      <td>A0000520</td>\n",
       "      <td>서울 강서구</td>\n",
       "      <td>하이웨이주유소</td>\n",
       "      <td>서울특별시 강서구 공항대로 432(화곡동)</td>\n",
       "      <td>2022-12-23</td>\n",
       "      <td>S-OIL</td>\n",
       "      <td>셀프</td>\n",
       "      <td>1599</td>\n",
       "      <td>1499</td>\n",
       "      <td>1729</td>\n",
       "      <td>0</td>\n",
       "      <td>강서구</td>\n",
       "      <td>12</td>\n",
       "      <td>23</td>\n",
       "      <td>금</td>\n",
       "    </tr>\n",
       "  </tbody>\n",
       "</table>\n",
       "</div>"
      ],
      "text/plain": [
       "             번호      지역       상호                       주소         기간     상표  \\\n",
       "98570  A0000520  서울 강서구  하이웨이주유소  서울특별시 강서구 공항대로 432(화곡동) 2022-12-19  S-OIL   \n",
       "98571  A0000520  서울 강서구  하이웨이주유소  서울특별시 강서구 공항대로 432(화곡동) 2022-12-20  S-OIL   \n",
       "98572  A0000520  서울 강서구  하이웨이주유소  서울특별시 강서구 공항대로 432(화곡동) 2022-12-21  S-OIL   \n",
       "98573  A0000520  서울 강서구  하이웨이주유소  서울특별시 강서구 공항대로 432(화곡동) 2022-12-22  S-OIL   \n",
       "98574  A0000520  서울 강서구  하이웨이주유소  서울특별시 강서구 공항대로 432(화곡동) 2022-12-23  S-OIL   \n",
       "\n",
       "      셀프여부  고급휘발유   휘발유    경유  실내등유    구   월   일 요일  \n",
       "98570   셀프   1599  1527  1787     0  강서구  12  19  월  \n",
       "98571   셀프   1599  1527  1787     0  강서구  12  20  화  \n",
       "98572   셀프   1599  1499  1759     0  강서구  12  21  수  \n",
       "98573   셀프   1599  1499  1759     0  강서구  12  22  목  \n",
       "98574   셀프   1599  1499  1729     0  강서구  12  23  금  "
      ]
     },
     "execution_count": 79,
     "metadata": {},
     "output_type": "execute_result"
    }
   ],
   "source": [
    "# 고급휘발유 가격이 가장 저렴한 5개 행 조회 (단 0원인 주유소 제외)\n",
    "df.query('고급휘발유 != 0').sort_values(['고급휘발유', '기간']).head()"
   ]
  },
  {
   "cell_type": "code",
   "execution_count": 80,
   "metadata": {
    "ExecuteTime": {
     "end_time": "2023-01-18T08:30:42.330595Z",
     "start_time": "2023-01-18T08:30:42.222714Z"
    }
   },
   "outputs": [
    {
     "data": {
      "text/html": [
       "<div>\n",
       "<style scoped>\n",
       "    .dataframe tbody tr th:only-of-type {\n",
       "        vertical-align: middle;\n",
       "    }\n",
       "\n",
       "    .dataframe tbody tr th {\n",
       "        vertical-align: top;\n",
       "    }\n",
       "\n",
       "    .dataframe thead th {\n",
       "        text-align: right;\n",
       "    }\n",
       "</style>\n",
       "<table border=\"1\" class=\"dataframe\">\n",
       "  <thead>\n",
       "    <tr style=\"text-align: right;\">\n",
       "      <th></th>\n",
       "      <th>번호</th>\n",
       "      <th>지역</th>\n",
       "      <th>상호</th>\n",
       "      <th>주소</th>\n",
       "      <th>기간</th>\n",
       "      <th>상표</th>\n",
       "      <th>셀프여부</th>\n",
       "      <th>고급휘발유</th>\n",
       "      <th>휘발유</th>\n",
       "      <th>경유</th>\n",
       "      <th>실내등유</th>\n",
       "      <th>구</th>\n",
       "      <th>월</th>\n",
       "      <th>일</th>\n",
       "      <th>요일</th>\n",
       "    </tr>\n",
       "  </thead>\n",
       "  <tbody>\n",
       "    <tr>\n",
       "      <th>78941</th>\n",
       "      <td>A0000767</td>\n",
       "      <td>서울 중구</td>\n",
       "      <td>서남주유소</td>\n",
       "      <td>서울 중구 통일로 30</td>\n",
       "      <td>2022-06-28</td>\n",
       "      <td>SK에너지</td>\n",
       "      <td>일반</td>\n",
       "      <td>3481</td>\n",
       "      <td>3081</td>\n",
       "      <td>3230</td>\n",
       "      <td>2703</td>\n",
       "      <td>중구</td>\n",
       "      <td>6</td>\n",
       "      <td>28</td>\n",
       "      <td>화</td>\n",
       "    </tr>\n",
       "    <tr>\n",
       "      <th>78942</th>\n",
       "      <td>A0000767</td>\n",
       "      <td>서울 중구</td>\n",
       "      <td>서남주유소</td>\n",
       "      <td>서울 중구 통일로 30</td>\n",
       "      <td>2022-06-29</td>\n",
       "      <td>SK에너지</td>\n",
       "      <td>일반</td>\n",
       "      <td>3481</td>\n",
       "      <td>3081</td>\n",
       "      <td>3230</td>\n",
       "      <td>2703</td>\n",
       "      <td>중구</td>\n",
       "      <td>6</td>\n",
       "      <td>29</td>\n",
       "      <td>수</td>\n",
       "    </tr>\n",
       "    <tr>\n",
       "      <th>78943</th>\n",
       "      <td>A0000767</td>\n",
       "      <td>서울 중구</td>\n",
       "      <td>서남주유소</td>\n",
       "      <td>서울 중구 통일로 30</td>\n",
       "      <td>2022-06-30</td>\n",
       "      <td>SK에너지</td>\n",
       "      <td>일반</td>\n",
       "      <td>3481</td>\n",
       "      <td>3081</td>\n",
       "      <td>3230</td>\n",
       "      <td>2703</td>\n",
       "      <td>중구</td>\n",
       "      <td>6</td>\n",
       "      <td>30</td>\n",
       "      <td>목</td>\n",
       "    </tr>\n",
       "    <tr>\n",
       "      <th>160618</th>\n",
       "      <td>A0000767</td>\n",
       "      <td>서울 중구</td>\n",
       "      <td>서남주유소</td>\n",
       "      <td>서울 중구 통일로 30</td>\n",
       "      <td>2022-07-01</td>\n",
       "      <td>SK에너지</td>\n",
       "      <td>일반</td>\n",
       "      <td>3481</td>\n",
       "      <td>3081</td>\n",
       "      <td>3230</td>\n",
       "      <td>2703</td>\n",
       "      <td>중구</td>\n",
       "      <td>7</td>\n",
       "      <td>1</td>\n",
       "      <td>금</td>\n",
       "    </tr>\n",
       "    <tr>\n",
       "      <th>160619</th>\n",
       "      <td>A0000767</td>\n",
       "      <td>서울 중구</td>\n",
       "      <td>서남주유소</td>\n",
       "      <td>서울 중구 통일로 30</td>\n",
       "      <td>2022-07-02</td>\n",
       "      <td>SK에너지</td>\n",
       "      <td>일반</td>\n",
       "      <td>3481</td>\n",
       "      <td>3081</td>\n",
       "      <td>3230</td>\n",
       "      <td>2703</td>\n",
       "      <td>중구</td>\n",
       "      <td>7</td>\n",
       "      <td>2</td>\n",
       "      <td>토</td>\n",
       "    </tr>\n",
       "  </tbody>\n",
       "</table>\n",
       "</div>"
      ],
      "text/plain": [
       "              번호     지역     상호            주소         기간     상표 셀프여부  고급휘발유  \\\n",
       "78941   A0000767  서울 중구  서남주유소  서울 중구 통일로 30 2022-06-28  SK에너지   일반   3481   \n",
       "78942   A0000767  서울 중구  서남주유소  서울 중구 통일로 30 2022-06-29  SK에너지   일반   3481   \n",
       "78943   A0000767  서울 중구  서남주유소  서울 중구 통일로 30 2022-06-30  SK에너지   일반   3481   \n",
       "160618  A0000767  서울 중구  서남주유소  서울 중구 통일로 30 2022-07-01  SK에너지   일반   3481   \n",
       "160619  A0000767  서울 중구  서남주유소  서울 중구 통일로 30 2022-07-02  SK에너지   일반   3481   \n",
       "\n",
       "         휘발유    경유  실내등유   구  월   일 요일  \n",
       "78941   3081  3230  2703  중구  6  28  화  \n",
       "78942   3081  3230  2703  중구  6  29  수  \n",
       "78943   3081  3230  2703  중구  6  30  목  \n",
       "160618  3081  3230  2703  중구  7   1  금  \n",
       "160619  3081  3230  2703  중구  7   2  토  "
      ]
     },
     "execution_count": 80,
     "metadata": {},
     "output_type": "execute_result"
    }
   ],
   "source": [
    "# 경유 가격이 가장 비싼 5개 행 조회\n",
    "df.sort_values(['경유', '기간'], ascending=[False, True]).head()"
   ]
  },
  {
   "cell_type": "code",
   "execution_count": 81,
   "metadata": {
    "ExecuteTime": {
     "end_time": "2023-01-18T08:31:29.381768Z",
     "start_time": "2023-01-18T08:31:29.249645Z"
    },
    "collapsed": true
   },
   "outputs": [
    {
     "data": {
      "text/html": [
       "<div>\n",
       "<style scoped>\n",
       "    .dataframe tbody tr th:only-of-type {\n",
       "        vertical-align: middle;\n",
       "    }\n",
       "\n",
       "    .dataframe tbody tr th {\n",
       "        vertical-align: top;\n",
       "    }\n",
       "\n",
       "    .dataframe thead th {\n",
       "        text-align: right;\n",
       "    }\n",
       "</style>\n",
       "<table border=\"1\" class=\"dataframe\">\n",
       "  <thead>\n",
       "    <tr style=\"text-align: right;\">\n",
       "      <th></th>\n",
       "      <th>번호</th>\n",
       "      <th>지역</th>\n",
       "      <th>상호</th>\n",
       "      <th>주소</th>\n",
       "      <th>기간</th>\n",
       "      <th>상표</th>\n",
       "      <th>셀프여부</th>\n",
       "      <th>고급휘발유</th>\n",
       "      <th>휘발유</th>\n",
       "      <th>경유</th>\n",
       "      <th>실내등유</th>\n",
       "      <th>구</th>\n",
       "      <th>월</th>\n",
       "      <th>일</th>\n",
       "      <th>요일</th>\n",
       "    </tr>\n",
       "  </thead>\n",
       "  <tbody>\n",
       "    <tr>\n",
       "      <th>45209</th>\n",
       "      <td>A0011826</td>\n",
       "      <td>서울 서초구</td>\n",
       "      <td>만남의광장주유소</td>\n",
       "      <td>서울 서초구 양재대로12길 73-71</td>\n",
       "      <td>2022-01-16</td>\n",
       "      <td>알뜰(ex)</td>\n",
       "      <td>셀프</td>\n",
       "      <td>0</td>\n",
       "      <td>1565</td>\n",
       "      <td>1367</td>\n",
       "      <td>0</td>\n",
       "      <td>서초구</td>\n",
       "      <td>1</td>\n",
       "      <td>16</td>\n",
       "      <td>일</td>\n",
       "    </tr>\n",
       "    <tr>\n",
       "      <th>23999</th>\n",
       "      <td>A0000855</td>\n",
       "      <td>서울 구로구</td>\n",
       "      <td>대원셀프주유소</td>\n",
       "      <td>서울 구로구 개봉로 7</td>\n",
       "      <td>2022-01-01</td>\n",
       "      <td>현대오일뱅크</td>\n",
       "      <td>셀프</td>\n",
       "      <td>0</td>\n",
       "      <td>1577</td>\n",
       "      <td>1377</td>\n",
       "      <td>0</td>\n",
       "      <td>구로구</td>\n",
       "      <td>1</td>\n",
       "      <td>1</td>\n",
       "      <td>토</td>\n",
       "    </tr>\n",
       "    <tr>\n",
       "      <th>24000</th>\n",
       "      <td>A0000855</td>\n",
       "      <td>서울 구로구</td>\n",
       "      <td>대원셀프주유소</td>\n",
       "      <td>서울 구로구 개봉로 7</td>\n",
       "      <td>2022-01-02</td>\n",
       "      <td>현대오일뱅크</td>\n",
       "      <td>셀프</td>\n",
       "      <td>0</td>\n",
       "      <td>1577</td>\n",
       "      <td>1377</td>\n",
       "      <td>0</td>\n",
       "      <td>구로구</td>\n",
       "      <td>1</td>\n",
       "      <td>2</td>\n",
       "      <td>일</td>\n",
       "    </tr>\n",
       "    <tr>\n",
       "      <th>24001</th>\n",
       "      <td>A0000855</td>\n",
       "      <td>서울 구로구</td>\n",
       "      <td>대원셀프주유소</td>\n",
       "      <td>서울 구로구 개봉로 7</td>\n",
       "      <td>2022-01-03</td>\n",
       "      <td>현대오일뱅크</td>\n",
       "      <td>셀프</td>\n",
       "      <td>0</td>\n",
       "      <td>1577</td>\n",
       "      <td>1377</td>\n",
       "      <td>0</td>\n",
       "      <td>구로구</td>\n",
       "      <td>1</td>\n",
       "      <td>3</td>\n",
       "      <td>월</td>\n",
       "    </tr>\n",
       "    <tr>\n",
       "      <th>24002</th>\n",
       "      <td>A0000855</td>\n",
       "      <td>서울 구로구</td>\n",
       "      <td>대원셀프주유소</td>\n",
       "      <td>서울 구로구 개봉로 7</td>\n",
       "      <td>2022-01-04</td>\n",
       "      <td>현대오일뱅크</td>\n",
       "      <td>셀프</td>\n",
       "      <td>0</td>\n",
       "      <td>1577</td>\n",
       "      <td>1377</td>\n",
       "      <td>0</td>\n",
       "      <td>구로구</td>\n",
       "      <td>1</td>\n",
       "      <td>4</td>\n",
       "      <td>화</td>\n",
       "    </tr>\n",
       "  </tbody>\n",
       "</table>\n",
       "</div>"
      ],
      "text/plain": [
       "             번호      지역        상호                    주소         기간      상표  \\\n",
       "45209  A0011826  서울 서초구  만남의광장주유소  서울 서초구 양재대로12길 73-71 2022-01-16  알뜰(ex)   \n",
       "23999  A0000855  서울 구로구   대원셀프주유소          서울 구로구 개봉로 7 2022-01-01  현대오일뱅크   \n",
       "24000  A0000855  서울 구로구   대원셀프주유소          서울 구로구 개봉로 7 2022-01-02  현대오일뱅크   \n",
       "24001  A0000855  서울 구로구   대원셀프주유소          서울 구로구 개봉로 7 2022-01-03  현대오일뱅크   \n",
       "24002  A0000855  서울 구로구   대원셀프주유소          서울 구로구 개봉로 7 2022-01-04  현대오일뱅크   \n",
       "\n",
       "      셀프여부  고급휘발유   휘발유    경유  실내등유    구  월   일 요일  \n",
       "45209   셀프      0  1565  1367     0  서초구  1  16  일  \n",
       "23999   셀프      0  1577  1377     0  구로구  1   1  토  \n",
       "24000   셀프      0  1577  1377     0  구로구  1   2  일  \n",
       "24001   셀프      0  1577  1377     0  구로구  1   3  월  \n",
       "24002   셀프      0  1577  1377     0  구로구  1   4  화  "
      ]
     },
     "execution_count": 81,
     "metadata": {},
     "output_type": "execute_result"
    }
   ],
   "source": [
    "# 경유 가격이 가장 저렴한 5개 행 조회 (단 0원인 주유소 제외)\n",
    "df.query('경유 != 0').sort_values(['경유', '기간']).head()"
   ]
  },
  {
   "cell_type": "code",
   "execution_count": 84,
   "metadata": {
    "ExecuteTime": {
     "end_time": "2023-01-18T08:34:29.958878Z",
     "start_time": "2023-01-18T08:34:29.940693Z"
    }
   },
   "outputs": [
    {
     "data": {
      "text/plain": [
       "상표\n",
       "알뜰(ex)    1759.884932\n",
       "알뜰주유소     1767.914672\n",
       "자가상표      1823.622795\n",
       "현대오일뱅크    1839.447215\n",
       "S-OIL     1859.282595\n",
       "GS칼텍스     1904.899429\n",
       "SK에너지     1908.900823\n",
       "Name: 휘발유, dtype: float64"
      ]
     },
     "execution_count": 84,
     "metadata": {},
     "output_type": "execute_result"
    }
   ],
   "source": [
    "# 상표별 휘발유 평균가격 조회\n",
    "상표별_휘발유_평균가격 = df.groupby('상표')['휘발유'].mean().sort_values()\n",
    "상표별_휘발유_평균가격 "
   ]
  },
  {
   "cell_type": "code",
   "execution_count": 89,
   "metadata": {
    "ExecuteTime": {
     "end_time": "2023-01-18T08:37:13.680481Z",
     "start_time": "2023-01-18T08:37:13.599078Z"
    }
   },
   "outputs": [
    {
     "data": {
      "text/plain": [
       "상표\n",
       "알뜰(ex)    1759.884932\n",
       "알뜰주유소     1769.908373\n",
       "자가상표      1838.590971\n",
       "현대오일뱅크    1846.510441\n",
       "S-OIL     1859.541206\n",
       "GS칼텍스     1908.343496\n",
       "SK에너지     1910.959577\n",
       "Name: 휘발유, dtype: float64"
      ]
     },
     "execution_count": 89,
     "metadata": {},
     "output_type": "execute_result"
    }
   ],
   "source": [
    "# 0원인 주유소는 빼고 계산\n",
    "df.query('휘발유!=0').groupby('상표')['휘발유'].mean().sort_values()"
   ]
  },
  {
   "cell_type": "code",
   "execution_count": 98,
   "metadata": {
    "ExecuteTime": {
     "end_time": "2023-01-18T08:43:53.603171Z",
     "start_time": "2023-01-18T08:43:53.588075Z"
    }
   },
   "outputs": [
    {
     "data": {
      "text/plain": [
       "7"
      ]
     },
     "execution_count": 98,
     "metadata": {},
     "output_type": "execute_result"
    }
   ],
   "source": [
    "range(상표별_휘발유_평균가격.size)"
   ]
  },
  {
   "cell_type": "code",
   "execution_count": 109,
   "metadata": {
    "ExecuteTime": {
     "end_time": "2023-01-18T08:47:59.354683Z",
     "start_time": "2023-01-18T08:47:59.169673Z"
    }
   },
   "outputs": [
    {
     "data": {
      "image/png": "[encoded data removed]",
      "text/plain": [
       "<Figure size 640x480 with 1 Axes>"
      ]
     },
     "metadata": {},
     "output_type": "display_data"
    }
   ],
   "source": [
    "# 상표별 휘발유 평균가격 시각화\n",
    "휘발유_전체_평균 = np.round(df['휘발유'].mean(), 2)\n",
    "\n",
    "상표별_휘발유_평균가격.plot(kind='bar', rot=45)\n",
    "plt.axhline(휘발유_전체_평균, color='red', linestyle=':', label=f'전체평균:{휘발유_전체_평균}')\n",
    "\n",
    "for i in range(상표별_휘발유_평균가격.size):\n",
    "    txt = str(np.round(상표별_휘발유_평균가격[i]))\n",
    "    plt.text(i-0.3, 상표별_휘발유_평균가격[i]+10, txt)\n",
    "\n",
    "plt.title('상표별 휘발유 평균가격')\n",
    "plt.ylim(1000, 2050)\n",
    "plt.legend(bbox_to_anchor=(1,1), loc='upper left')\n",
    "plt.show()"
   ]
  },
  {
   "cell_type": "code",
   "execution_count": null,
   "metadata": {
    "ExecuteTime": {
     "end_time": "2022-06-17T04:38:27.643201Z",
     "start_time": "2022-06-17T04:38:27.632220Z"
    }
   },
   "outputs": [],
   "source": [
    "# 셀프주유소와 일반주유소 개수 확인\n"
   ]
  },
  {
   "cell_type": "code",
   "execution_count": null,
   "metadata": {
    "ExecuteTime": {
     "end_time": "2022-06-17T04:38:27.659148Z",
     "start_time": "2022-06-17T04:38:27.647180Z"
    }
   },
   "outputs": [],
   "source": [
    "# 셀프 여부에 따른 휘발유 평균 가격 비교 \n"
   ]
  },
  {
   "cell_type": "code",
   "execution_count": null,
   "metadata": {
    "ExecuteTime": {
     "end_time": "2022-06-17T04:38:27.675104Z",
     "start_time": "2022-06-17T04:38:27.664136Z"
    }
   },
   "outputs": [],
   "source": [
    "# 상표별 일반/셀프 주유소의 휘발유 가격 평균 비교\n"
   ]
  },
  {
   "cell_type": "code",
   "execution_count": null,
   "metadata": {
    "ExecuteTime": {
     "end_time": "2022-06-17T04:38:27.691062Z",
     "start_time": "2022-06-17T04:38:27.678097Z"
    }
   },
   "outputs": [],
   "source": [
    "# 상표별 일반/셀프 주유소의 휘발유 가격 평균 비교 시각화\n"
   ]
  },
  {
   "cell_type": "code",
   "execution_count": null,
   "metadata": {
    "ExecuteTime": {
     "end_time": "2022-06-17T04:38:27.707023Z",
     "start_time": "2022-06-17T04:38:27.694054Z"
    }
   },
   "outputs": [],
   "source": [
    "# 상표별 휘발유 가격의 분포를 boxplot으로 시각화\n"
   ]
  },
  {
   "cell_type": "code",
   "execution_count": null,
   "metadata": {
    "ExecuteTime": {
     "end_time": "2022-06-17T04:38:27.722976Z",
     "start_time": "2022-06-17T04:38:27.710012Z"
    }
   },
   "outputs": [],
   "source": [
    "# 상표별 일반/셀프 주유소의 휘발유 가격에 대한 분포 확인 - boxplot으로 시각화\n"
   ]
  },
  {
   "cell_type": "code",
   "execution_count": null,
   "metadata": {
    "ExecuteTime": {
     "end_time": "2022-06-17T04:38:27.738935Z",
     "start_time": "2022-06-17T04:38:27.725970Z"
    }
   },
   "outputs": [],
   "source": [
    "# 구별 휘발유 가격의 평균\n"
   ]
  },
  {
   "cell_type": "code",
   "execution_count": null,
   "metadata": {
    "ExecuteTime": {
     "end_time": "2022-06-17T04:38:27.753894Z",
     "start_time": "2022-06-17T04:38:27.740929Z"
    },
    "scrolled": true
   },
   "outputs": [],
   "source": [
    "# 평균 가격이 가장 높은 구의 상표별 휘발유 평균가격\n"
   ]
  },
  {
   "cell_type": "code",
   "execution_count": null,
   "metadata": {
    "ExecuteTime": {
     "end_time": "2022-06-17T04:38:27.768853Z",
     "start_time": "2022-06-17T04:38:27.756886Z"
    }
   },
   "outputs": [],
   "source": [
    "# 월 평균 휘발유 가격\n"
   ]
  },
  {
   "cell_type": "code",
   "execution_count": null,
   "metadata": {
    "ExecuteTime": {
     "end_time": "2022-06-17T04:38:27.784812Z",
     "start_time": "2022-06-17T04:38:27.771846Z"
    }
   },
   "outputs": [],
   "source": [
    "# 각 구의 월별 평균 휘발유 가격 \n"
   ]
  },
  {
   "cell_type": "code",
   "execution_count": null,
   "metadata": {
    "ExecuteTime": {
     "end_time": "2022-06-17T04:38:27.800771Z",
     "start_time": "2022-06-17T04:38:27.790796Z"
    }
   },
   "outputs": [],
   "source": [
    "# 각 구의 월별 평균가격의 변화추이 시각화\n"
   ]
  },
  {
   "cell_type": "code",
   "execution_count": null,
   "metadata": {
    "ExecuteTime": {
     "end_time": "2022-06-17T04:38:27.815729Z",
     "start_time": "2022-06-17T04:38:27.803762Z"
    },
    "scrolled": true
   },
   "outputs": [],
   "source": [
    "# 가장 휘발유가격이 비싼 주유소 상위 5 - (같은 주유소가 여러개 나오므로 가장 비싼 가격을 기준으로 집계)\n"
   ]
  },
  {
   "cell_type": "code",
   "execution_count": null,
   "metadata": {
    "ExecuteTime": {
     "end_time": "2022-06-17T04:38:27.830866Z",
     "start_time": "2022-06-17T04:38:27.818721Z"
    },
    "scrolled": true
   },
   "outputs": [],
   "source": [
    "# 가장 휘발유가격이 저렴한 주유소 상위 5 - (같은 주유소가 여러개 나오므로 가장 비싼 가격을 기준으로 집계)\n"
   ]
  },
  {
   "cell_type": "code",
   "execution_count": null,
   "metadata": {
    "ExecuteTime": {
     "end_time": "2022-06-17T04:38:27.847021Z",
     "start_time": "2022-06-17T04:38:27.834852Z"
    }
   },
   "outputs": [],
   "source": [
    "# 휘발유 비싼 주유소의 상위 5개의 상호, 지역, 주소 조회(중복제거-drop_duplicates)\n"
   ]
  },
  {
   "cell_type": "code",
   "execution_count": null,
   "metadata": {
    "ExecuteTime": {
     "end_time": "2022-06-17T04:38:27.877936Z",
     "start_time": "2022-06-17T04:38:27.858987Z"
    }
   },
   "outputs": [],
   "source": [
    "# 휘발유 저렴한 주유소의 상위 5개의 상호, 지역, 주소 조회(중복제거)\n"
   ]
  },
  {
   "cell_type": "code",
   "execution_count": null,
   "metadata": {
    "ExecuteTime": {
     "end_time": "2021-03-15T00:08:33.086454Z",
     "start_time": "2021-03-15T00:08:33.041006Z"
    }
   },
   "outputs": [],
   "source": [
    "# 고급 휘발유를 가장 많이 파는 구 조회\n"
   ]
  },
  {
   "cell_type": "code",
   "execution_count": null,
   "metadata": {},
   "outputs": [],
   "source": []
  },
  {
   "cell_type": "code",
   "execution_count": null,
   "metadata": {},
   "outputs": [],
   "source": [
    "###############################################################################\n",
    "# 주유소 가격 데이터를 이용해서 알고 싶은 정보들을 추가 분석해 보세요.\n",
    "###############################################################################\n"
   ]
  },
  {
   "cell_type": "code",
   "execution_count": null,
   "metadata": {},
   "outputs": [],
   "source": []
  },
  {
   "cell_type": "code",
   "execution_count": null,
   "metadata": {},
   "outputs": [],
   "source": []
  },
  {
   "cell_type": "code",
   "execution_count": null,
   "metadata": {},
   "outputs": [],
   "source": []
  },
  {
   "cell_type": "code",
   "execution_count": null,
   "metadata": {},
   "outputs": [],
   "source": []
  }
 ],
 "metadata": {
  "kernelspec": {
   "display_name": "Python 3 (ipykernel)",
   "language": "python",
   "name": "python3"
  },
  "language_info": {
   "codemirror_mode": {
    "name": "ipython",
    "version": 3
   },
   "file_extension": ".py",
   "mimetype": "text/x-python",
   "name": "python",
   "nbconvert_exporter": "python",
   "pygments_lexer": "ipython3",
   "version": "3.9.13"
  },
  "toc": {
   "base_numbering": 1,
   "nav_menu": {},
   "number_sections": true,
   "sideBar": true,
   "skip_h1_title": false,
   "title_cell": "Table of Contents",
   "title_sidebar": "Contents",
   "toc_cell": false,
   "toc_position": {},
   "toc_section_display": true,
   "toc_window_display": false
  },
  "varInspector": {
   "cols": {
    "lenName": 16,
    "lenType": 16,
    "lenVar": 40
   },
   "kernels_config": {
    "python": {
     "delete_cmd_postfix": "",
     "delete_cmd_prefix": "del ",
     "library": "var_list.py",
     "varRefreshCmd": "print(var_dic_list())"
    },
    "r": {
     "delete_cmd_postfix": ") ",
     "delete_cmd_prefix": "rm(",
     "library": "var_list.r",
     "varRefreshCmd": "cat(var_dic_list()) "
    }
   },
   "types_to_exclude": [
    "module",
    "function",
    "builtin_function_or_method",
    "instance",
    "_Feature"
   ],
   "window_display": false
  }
 },
 "nbformat": 4,
 "nbformat_minor": 4
}
