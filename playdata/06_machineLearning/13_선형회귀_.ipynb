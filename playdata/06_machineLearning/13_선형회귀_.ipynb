{
 "cells": [
  {
   "cell_type": "markdown",
   "metadata": {
    "slideshow": {
     "slide_type": "slide"
    }
   },
   "source": [
    "# 선형회귀 개요\n",
    "\n",
    "선형 회귀(線型回歸, Linear regression)는 종속 변수 y와 한 개 이상의 독립 변수X와의 선형 상관 관계를 모델링하는 회귀분석 기법. [위키백과](https://ko.wikipedia.org/wiki/%EC%84%A0%ED%98%95_%ED%9A%8C%EA%B7%80)"
   ]
  },
  {
   "cell_type": "markdown",
   "metadata": {
    "slideshow": {
     "slide_type": "fragment"
    }
   },
   "source": [
    "## 선형회귀 모델\n",
    "- 각 Feature들에 가중치(Weight)를 곱하고 편향(bias)를 더해 예측 결과를 출력한다.\n",
    "- Weight와 bias가 학습 대상 Parameter가 된다.\n",
    "\n",
    "$$\n",
    "\\hat{y_i} = w_1 x_{i1} + w_2 x_{i2}... + w_{p} x_{ip} + b\n",
    "\\\\\n",
    "\\hat{y_i} = \\mathbf{w}^{T} \\cdot \\mathbf{X} \n",
    "$$\n",
    "\n",
    "- $\\hat{y_i}$: 예측값\n",
    "- $x$: 특성(feature-컬럼)\n",
    "- $w$: 가중치(weight), 회귀계수(regression coefficient). 특성이 $\\hat{y_i}$ 에 얼마나 영향을 주는지 정도\n",
    "- $b$: 절편\n",
    "- $p$: p 번째 특성(feature)/p번째 가중치\n",
    "- $i$: i번째 관측치(sample)"
   ]
  },
  {
   "cell_type": "markdown",
   "metadata": {
    "slideshow": {
     "slide_type": "slide"
    }
   },
   "source": [
    "### Boston DataSet\n",
    "보스톤의 지역별 집값 데이터셋\n",
    "\n",
    " - CRIM\t: 지역별 범죄 발생률\n",
    " - ZN\t: 25,000 평방피트를 초과하는 거주지역의 비율\n",
    " - INDUS: 비상업지역 토지의 비율\n",
    " - CHAS\t: 찰스강에 대한 더미변수(강의 경계에 위치한 경우는 1, 아니면 0)\n",
    " - NOX\t: 일산화질소 농도\n",
    " - RM\t: 주택 1가구당 평균 방의 개수\n",
    " - AGE\t: 1940년 이전에 건축된 소유주택의 비율\n",
    " - DIS\t: 5개의 보스턴 고용센터까지의 접근성 지수\n",
    " - RAD\t: 고속도로까지의 접근성 지수\n",
    " - TAX\t: 10,000 달러 당 재산세율\n",
    " - PTRATIO : 지역별 교사 한명당 학생 비율\n",
    " - B\t: 지역의 흑인 거주 비율\n",
    " - LSTAT: 하위계층의 비율(%)\n",
    " \n",
    " - MEDV\t: Target.  지역의 주택가격 중앙값 (단위: $1,000)\n"
   ]
  },
  {
   "cell_type": "markdown",
   "metadata": {},
   "source": [
    "#### Boston housing dataset loading"
   ]
  },
  {
   "cell_type": "code",
   "execution_count": 102,
   "metadata": {
    "ExecuteTime": {
     "end_time": "2023-02-09T03:35:00.581334Z",
     "start_time": "2023-02-09T03:34:59.646299Z"
    },
    "execution": {
     "iopub.execute_input": "2022-12-13T00:05:41.572738Z",
     "iopub.status.busy": "2022-12-13T00:05:41.572738Z",
     "iopub.status.idle": "2022-12-13T00:05:43.394138Z",
     "shell.execute_reply": "2022-12-13T00:05:43.393840Z",
     "shell.execute_reply.started": "2022-12-13T00:05:41.572738Z"
    },
    "tags": []
   },
   "outputs": [],
   "source": [
    "import pandas as pd\n",
    "import numpy as np\n",
    "\n",
    "data_url = \"http://lib.stat.cmu.edu/datasets/boston\"\n",
    "raw_df = pd.read_csv(data_url, sep=\"\\s+\", skiprows=22, header=None)\n",
    "X = np.hstack([raw_df.values[::2, :], raw_df.values[1::2, :2]])\n",
    "y = raw_df.values[1::2, 2]"
   ]
  },
  {
   "cell_type": "code",
   "execution_count": null,
   "metadata": {
    "ExecuteTime": {
     "end_time": "2023-02-09T03:35:00.685869Z",
     "start_time": "2023-02-09T03:35:00.685869Z"
    }
   },
   "outputs": [],
   "source": [
    "X.shape, y.shape"
   ]
  },
  {
   "cell_type": "code",
   "execution_count": null,
   "metadata": {
    "ExecuteTime": {
     "end_time": "2023-02-09T03:35:00.694296Z",
     "start_time": "2023-02-09T03:35:00.694296Z"
    },
    "execution": {
     "iopub.execute_input": "2022-12-13T00:05:44.210091Z",
     "iopub.status.busy": "2022-12-13T00:05:44.209008Z",
     "iopub.status.idle": "2022-12-13T00:05:44.261007Z",
     "shell.execute_reply": "2022-12-13T00:05:44.260075Z",
     "shell.execute_reply.started": "2022-12-13T00:05:44.210091Z"
    },
    "tags": []
   },
   "outputs": [],
   "source": [
    "# dataframe으로 만들기\n",
    "cols = [\"CRIM\",\"ZN\",\"INDUS\",\"CHAS\",\"NOX\",\"RM\",\"AGE\",\"DIS\",\"RAD\",\"TAX\",\"PTRATIO\",\"B\",\"LSTAT\"]\n",
    "df = pd.DataFrame(X, columns=cols)\n",
    "df['MEDV'] = y\n",
    "df.head()"
   ]
  },
  {
   "cell_type": "code",
   "execution_count": null,
   "metadata": {
    "ExecuteTime": {
     "end_time": "2023-02-09T03:35:00.700086Z",
     "start_time": "2023-02-09T03:35:00.699587Z"
    }
   },
   "outputs": [],
   "source": [
    "df.info()"
   ]
  },
  {
   "cell_type": "code",
   "execution_count": null,
   "metadata": {
    "ExecuteTime": {
     "end_time": "2023-02-09T03:35:00.720731Z",
     "start_time": "2023-02-09T03:35:00.720731Z"
    }
   },
   "outputs": [],
   "source": [
    "df['CHAS'].value_counts()"
   ]
  },
  {
   "cell_type": "markdown",
   "metadata": {
    "slideshow": {
     "slide_type": "slide"
    }
   },
   "source": [
    "## LinearRegression\n",
    "- 가장 기본적인 선형 회귀 모델\n",
    "- 각 Feauture에 가중합으로 Y값을 추론한다.\n",
    "### 데이터 전처리\n",
    "\n",
    "- **선형회귀 모델사용시 전처리**\n",
    "    - **범주형 Feature**\n",
    "        - : 원핫 인코딩\n",
    "    - **연속형 Feature**\n",
    "        - Feature Scaling을 통해서 각 컬럼들의 값의 단위를 맞춰준다.\n",
    "        - StandardScaler를 사용할 때 성능이 더 잘나오는 경향이 있다."
   ]
  },
  {
   "cell_type": "markdown",
   "metadata": {
    "slideshow": {
     "slide_type": "slide"
    }
   },
   "source": [
    "##### train/test set 나누기"
   ]
  },
  {
   "cell_type": "code",
   "execution_count": 103,
   "metadata": {
    "ExecuteTime": {
     "end_time": "2023-02-09T03:35:02.319991Z",
     "start_time": "2023-02-09T03:35:02.308481Z"
    }
   },
   "outputs": [
    {
     "data": {
      "text/plain": [
       "((404, 13), (102, 13))"
      ]
     },
     "execution_count": 103,
     "metadata": {},
     "output_type": "execute_result"
    }
   ],
   "source": [
    "from sklearn.model_selection import train_test_split\n",
    "\n",
    "X_train, X_test, y_train, y_test = train_test_split(X, y, test_size=0.2, random_state=0)\n",
    "X_train.shape, X_test.shape"
   ]
  },
  {
   "cell_type": "markdown",
   "metadata": {
    "slideshow": {
     "slide_type": "slide"
    }
   },
   "source": [
    "##### Feature scaling ==> TODO: 함수화"
   ]
  },
  {
   "cell_type": "code",
   "execution_count": 104,
   "metadata": {
    "ExecuteTime": {
     "end_time": "2023-02-09T03:35:19.278348Z",
     "start_time": "2023-02-09T03:35:19.263204Z"
    },
    "execution": {
     "iopub.execute_input": "2022-12-13T00:54:52.354753Z",
     "iopub.status.busy": "2022-12-13T00:54:52.354753Z",
     "iopub.status.idle": "2022-12-13T00:54:52.363755Z",
     "shell.execute_reply": "2022-12-13T00:54:52.362752Z",
     "shell.execute_reply.started": "2022-12-13T00:54:52.354753Z"
    }
   },
   "outputs": [
    {
     "name": "stdout",
     "output_type": "stream",
     "text": [
      "(404, 1)\n",
      "[0. 1.] [0. 1.]\n"
     ]
    }
   ],
   "source": [
    "# CHAS -범주형- 은 빼고 Feature Scaling 처리.\n",
    "# X에서 CHAS 값을 조회\n",
    "chas_train, chas_test = X_train[:, 3].reshape(-1, 1), X_test[:, 3].reshape(-1,1)\n",
    "print(chas_train.shape)\n",
    "print(np.unique(chas_train), np.unique(chas_test))"
   ]
  },
  {
   "cell_type": "code",
   "execution_count": 105,
   "metadata": {
    "ExecuteTime": {
     "end_time": "2023-02-09T03:35:30.694422Z",
     "start_time": "2023-02-09T03:35:30.685330Z"
    }
   },
   "outputs": [
    {
     "data": {
      "text/plain": [
       "((404, 12), (102, 12))"
      ]
     },
     "execution_count": 105,
     "metadata": {},
     "output_type": "execute_result"
    }
   ],
   "source": [
    "#X에서 CHAS 피처값을 제거\n",
    "X_train = np.delete(X_train, 3, axis=1)  # (대상 배열, 삭제할 index, axis=축)\n",
    "X_test = np.delete(X_test, 3, axis=1)\n",
    "X_train.shape, X_test.shape"
   ]
  },
  {
   "cell_type": "code",
   "execution_count": 106,
   "metadata": {
    "ExecuteTime": {
     "end_time": "2023-02-09T03:36:06.435659Z",
     "start_time": "2023-02-09T03:36:06.414893Z"
    }
   },
   "outputs": [
    {
     "data": {
      "text/plain": [
       "((404, 13), (102, 13))"
      ]
     },
     "execution_count": 106,
     "metadata": {},
     "output_type": "execute_result"
    }
   ],
   "source": [
    "from sklearn.preprocessing import StandardScaler\n",
    "scaler = StandardScaler()\n",
    "X_train_scaled_tmp = scaler.fit_transform(X_train)\n",
    "X_test_scaled_tmp = scaler.transform(X_test)\n",
    "\n",
    "# CHAS 추가\n",
    "X_train_scaled = np.append(X_train_scaled_tmp, chas_train, axis=1)   # (추가 대상 배열, <-추가할 대상배열, axis=축)\n",
    "X_test_scaled = np.append(X_test_scaled_tmp, chas_test, axis=1)\n",
    "\n",
    "X_train_scaled.shape, X_test_scaled.shape"
   ]
  },
  {
   "cell_type": "code",
   "execution_count": 107,
   "metadata": {
    "ExecuteTime": {
     "end_time": "2023-02-09T03:36:09.208034Z",
     "start_time": "2023-02-09T03:36:09.197112Z"
    }
   },
   "outputs": [
    {
     "data": {
      "text/plain": [
       "(array([-2.33174316e-16, -6.23813432e-17,  2.69916103e-15, -9.89857261e-16,\n",
       "        -1.47571724e-15,  8.65918998e-16,  2.00884414e-16, -1.18716917e-16,\n",
       "         2.91296140e-17,  1.65098958e-14,  7.99759049e-15, -1.85852434e-15,\n",
       "         6.93069307e-02]),\n",
       " array([1.        , 1.        , 1.        , 1.        , 1.        ,\n",
       "        1.        , 1.        , 1.        , 1.        , 1.        ,\n",
       "        1.        , 1.        , 0.25397535]))"
      ]
     },
     "execution_count": 107,
     "metadata": {},
     "output_type": "execute_result"
    }
   ],
   "source": [
    "X_train_scaled.mean(axis=0), X_train_scaled.std(axis=0)"
   ]
  },
  {
   "cell_type": "markdown",
   "metadata": {
    "slideshow": {
     "slide_type": "fragment"
    }
   },
   "source": [
    "##### 모델 생성, 학습"
   ]
  },
  {
   "cell_type": "code",
   "execution_count": 108,
   "metadata": {
    "ExecuteTime": {
     "end_time": "2023-02-09T03:36:09.998957Z",
     "start_time": "2023-02-09T03:36:09.983430Z"
    }
   },
   "outputs": [
    {
     "data": {
      "text/html": [
       "<style>#sk-container-id-8 {color: black;background-color: white;}#sk-container-id-8 pre{padding: 0;}#sk-container-id-8 div.sk-toggleable {background-color: white;}#sk-container-id-8 label.sk-toggleable__label {cursor: pointer;display: block;width: 100%;margin-bottom: 0;padding: 0.3em;box-sizing: border-box;text-align: center;}#sk-container-id-8 label.sk-toggleable__label-arrow:before {content: \"▸\";float: left;margin-right: 0.25em;color: #696969;}#sk-container-id-8 label.sk-toggleable__label-arrow:hover:before {color: black;}#sk-container-id-8 div.sk-estimator:hover label.sk-toggleable__label-arrow:before {color: black;}#sk-container-id-8 div.sk-toggleable__content {max-height: 0;max-width: 0;overflow: hidden;text-align: left;background-color: #f0f8ff;}#sk-container-id-8 div.sk-toggleable__content pre {margin: 0.2em;color: black;border-radius: 0.25em;background-color: #f0f8ff;}#sk-container-id-8 input.sk-toggleable__control:checked~div.sk-toggleable__content {max-height: 200px;max-width: 100%;overflow: auto;}#sk-container-id-8 input.sk-toggleable__control:checked~label.sk-toggleable__label-arrow:before {content: \"▾\";}#sk-container-id-8 div.sk-estimator input.sk-toggleable__control:checked~label.sk-toggleable__label {background-color: #d4ebff;}#sk-container-id-8 div.sk-label input.sk-toggleable__control:checked~label.sk-toggleable__label {background-color: #d4ebff;}#sk-container-id-8 input.sk-hidden--visually {border: 0;clip: rect(1px 1px 1px 1px);clip: rect(1px, 1px, 1px, 1px);height: 1px;margin: -1px;overflow: hidden;padding: 0;position: absolute;width: 1px;}#sk-container-id-8 div.sk-estimator {font-family: monospace;background-color: #f0f8ff;border: 1px dotted black;border-radius: 0.25em;box-sizing: border-box;margin-bottom: 0.5em;}#sk-container-id-8 div.sk-estimator:hover {background-color: #d4ebff;}#sk-container-id-8 div.sk-parallel-item::after {content: \"\";width: 100%;border-bottom: 1px solid gray;flex-grow: 1;}#sk-container-id-8 div.sk-label:hover label.sk-toggleable__label {background-color: #d4ebff;}#sk-container-id-8 div.sk-serial::before {content: \"\";position: absolute;border-left: 1px solid gray;box-sizing: border-box;top: 0;bottom: 0;left: 50%;z-index: 0;}#sk-container-id-8 div.sk-serial {display: flex;flex-direction: column;align-items: center;background-color: white;padding-right: 0.2em;padding-left: 0.2em;position: relative;}#sk-container-id-8 div.sk-item {position: relative;z-index: 1;}#sk-container-id-8 div.sk-parallel {display: flex;align-items: stretch;justify-content: center;background-color: white;position: relative;}#sk-container-id-8 div.sk-item::before, #sk-container-id-8 div.sk-parallel-item::before {content: \"\";position: absolute;border-left: 1px solid gray;box-sizing: border-box;top: 0;bottom: 0;left: 50%;z-index: -1;}#sk-container-id-8 div.sk-parallel-item {display: flex;flex-direction: column;z-index: 1;position: relative;background-color: white;}#sk-container-id-8 div.sk-parallel-item:first-child::after {align-self: flex-end;width: 50%;}#sk-container-id-8 div.sk-parallel-item:last-child::after {align-self: flex-start;width: 50%;}#sk-container-id-8 div.sk-parallel-item:only-child::after {width: 0;}#sk-container-id-8 div.sk-dashed-wrapped {border: 1px dashed gray;margin: 0 0.4em 0.5em 0.4em;box-sizing: border-box;padding-bottom: 0.4em;background-color: white;}#sk-container-id-8 div.sk-label label {font-family: monospace;font-weight: bold;display: inline-block;line-height: 1.2em;}#sk-container-id-8 div.sk-label-container {text-align: center;}#sk-container-id-8 div.sk-container {/* jupyter's `normalize.less` sets `[hidden] { display: none; }` but bootstrap.min.css set `[hidden] { display: none !important; }` so we also need the `!important` here to be able to override the default hidden behavior on the sphinx rendered scikit-learn.org. See: https://github.com/scikit-learn/scikit-learn/issues/21755 */display: inline-block !important;position: relative;}#sk-container-id-8 div.sk-text-repr-fallback {display: none;}</style><div id=\"sk-container-id-8\" class=\"sk-top-container\"><div class=\"sk-text-repr-fallback\"><pre>LinearRegression()</pre><b>In a Jupyter environment, please rerun this cell to show the HTML representation or trust the notebook. <br />On GitHub, the HTML representation is unable to render, please try loading this page with nbviewer.org.</b></div><div class=\"sk-container\" hidden><div class=\"sk-item\"><div class=\"sk-estimator sk-toggleable\"><input class=\"sk-toggleable__control sk-hidden--visually\" id=\"sk-estimator-id-8\" type=\"checkbox\" checked><label for=\"sk-estimator-id-8\" class=\"sk-toggleable__label sk-toggleable__label-arrow\">LinearRegression</label><div class=\"sk-toggleable__content\"><pre>LinearRegression()</pre></div></div></div></div></div>"
      ],
      "text/plain": [
       "LinearRegression()"
      ]
     },
     "execution_count": 108,
     "metadata": {},
     "output_type": "execute_result"
    }
   ],
   "source": [
    "from sklearn.linear_model import LinearRegression\n",
    "\n",
    "lr = LinearRegression()\n",
    "lr.fit(X_train_scaled, y_train)"
   ]
  },
  {
   "cell_type": "code",
   "execution_count": 109,
   "metadata": {
    "ExecuteTime": {
     "end_time": "2023-02-09T03:36:10.199933Z",
     "start_time": "2023-02-09T03:36:10.183506Z"
    }
   },
   "outputs": [
    {
     "data": {
      "text/plain": [
       "(array([-0.97082019,  1.05714873,  0.03831099, -1.8551476 ,  2.57321942,\n",
       "        -0.08761547, -2.88094259,  2.11224542, -1.87533131, -2.29276735,\n",
       "         0.71817947, -3.59245482,  2.34080361]),\n",
       " (13,))"
      ]
     },
     "execution_count": 109,
     "metadata": {},
     "output_type": "execute_result"
    }
   ],
   "source": [
    "# weight, coef - 가중치\n",
    "lr.coef_, lr.coef_.shape"
   ]
  },
  {
   "cell_type": "code",
   "execution_count": 110,
   "metadata": {
    "ExecuteTime": {
     "end_time": "2023-02-09T03:36:10.385785Z",
     "start_time": "2023-02-09T03:36:10.368009Z"
    }
   },
   "outputs": [
    {
     "data": {
      "text/plain": [
       "22.44964727481494"
      ]
     },
     "execution_count": 110,
     "metadata": {},
     "output_type": "execute_result"
    }
   ],
   "source": [
    "# bias(편향) - 절편 -> 모든 feature들이 0일때 y의 값\n",
    "lr.intercept_"
   ]
  },
  {
   "cell_type": "code",
   "execution_count": null,
   "metadata": {
    "ExecuteTime": {
     "end_time": "2023-02-09T03:36:10.554298Z",
     "start_time": "2023-02-09T03:36:10.554298Z"
    }
   },
   "outputs": [],
   "source": [
    "X_train_scaled[0] @ lr.coef_ + lr.intercept_"
   ]
  },
  {
   "cell_type": "code",
   "execution_count": 111,
   "metadata": {
    "ExecuteTime": {
     "end_time": "2023-02-09T03:36:10.790277Z",
     "start_time": "2023-02-09T03:36:10.771529Z"
    }
   },
   "outputs": [
    {
     "data": {
      "text/plain": [
       "array([32.55692655, 21.92709478])"
      ]
     },
     "execution_count": 111,
     "metadata": {},
     "output_type": "execute_result"
    }
   ],
   "source": [
    "lr.predict(X_train_scaled[:2])"
   ]
  },
  {
   "cell_type": "code",
   "execution_count": 112,
   "metadata": {
    "ExecuteTime": {
     "end_time": "2023-02-09T03:36:11.024876Z",
     "start_time": "2023-02-09T03:36:11.016272Z"
    }
   },
   "outputs": [
    {
     "data": {
      "text/plain": [
       "26.7"
      ]
     },
     "execution_count": 112,
     "metadata": {},
     "output_type": "execute_result"
    }
   ],
   "source": [
    "y_train[0]"
   ]
  },
  {
   "cell_type": "markdown",
   "metadata": {
    "ExecuteTime": {
     "end_time": "2021-11-22T02:53:53.375962Z",
     "start_time": "2021-11-22T02:53:53.353025Z"
    },
    "slideshow": {
     "slide_type": "notes"
    }
   },
   "source": [
    "> ### Coeficient의 부호\n",
    "> - weight가 \n",
    "> - 양수: Feature가 1 증가할때 y(집값)도 weight만큼 증가한다.\n",
    "> - 음수: Feature가 1 증가할때 y(집값)도 weight만큼 감소한다.\n",
    "> - 절대값 기준으로 0에 가까울 수록 집값에 영향을 주지 않고 크면 클수록(0에서 멀어질 수록) 집값에 영향을 많이 주는 Feature 란 의미가 된다."
   ]
  },
  {
   "cell_type": "markdown",
   "metadata": {
    "slideshow": {
     "slide_type": "fragment"
    }
   },
   "source": [
    "##### 평가"
   ]
  },
  {
   "cell_type": "code",
   "execution_count": 113,
   "metadata": {
    "ExecuteTime": {
     "end_time": "2023-02-09T03:36:11.969957Z",
     "start_time": "2023-02-09T03:36:11.958955Z"
    }
   },
   "outputs": [
    {
     "data": {
      "text/plain": [
       "22.532806324110677"
      ]
     },
     "execution_count": 113,
     "metadata": {},
     "output_type": "execute_result"
    }
   ],
   "source": [
    "y.mean()"
   ]
  },
  {
   "cell_type": "code",
   "execution_count": 114,
   "metadata": {
    "ExecuteTime": {
     "end_time": "2023-02-09T03:36:12.249139Z",
     "start_time": "2023-02-09T03:36:12.226716Z"
    }
   },
   "outputs": [
    {
     "name": "stdout",
     "output_type": "stream",
     "text": [
      "Train set\n",
      "MSE: 19.326, RMSE: 4.396, MAE: 3.103, r2: 0.773\n",
      "==================================================\n",
      "Test set\n",
      "MSE: 33.449, RMSE: 5.784, MAE: 3.843, r2: 0.589\n"
     ]
    }
   ],
   "source": [
    "from metrics import print_metrics_regression as pmr\n",
    "\n",
    "train_pred = lr.predict(X_train_scaled)\n",
    "test_pred = lr.predict(X_test_scaled)\n",
    "pmr(y_train, train_pred, title=\"Train set\")\n",
    "print(\"=\"*50)\n",
    "pmr(y_test, test_pred, title=\"Test set\")"
   ]
  },
  {
   "cell_type": "code",
   "execution_count": 115,
   "metadata": {
    "ExecuteTime": {
     "end_time": "2023-02-09T03:36:12.744551Z",
     "start_time": "2023-02-09T03:36:12.461505Z"
    }
   },
   "outputs": [
    {
     "data": {
      "image/png": "[encoded data removed]",
      "text/plain": [
       "<Figure size 2000x700 with 1 Axes>"
      ]
     },
     "metadata": {},
     "output_type": "display_data"
    }
   ],
   "source": [
    "# 정답, 모델 예측값을 비교하는 그래프\n",
    "import matplotlib.pyplot as plt\n",
    "plt.figure(figsize=(20, 7))\n",
    "x = range(len(y_test))\n",
    "plt.plot(x, y_test, marker='x', label='정답')\n",
    "plt.plot(x, test_pred, marker='o', label='예측값')\n",
    "plt.legend()\n",
    "plt.show()"
   ]
  },
  {
   "cell_type": "code",
   "execution_count": null,
   "metadata": {},
   "outputs": [],
   "source": []
  },
  {
   "cell_type": "markdown",
   "metadata": {
    "slideshow": {
     "slide_type": "slide"
    }
   },
   "source": [
    "# 다항회귀 (Polynomial Regression)\n",
    "- 전처리방식 중 하나로 Feature가 너무 적어 y의 값들을 다 설명하지 못하여 underfitting이 된 경우 Feature를 늘려준다.\n",
    "- 각 Feature들을 거듭제곱한 것과 Feature들 끼리 곱한 새로운 특성들을 추가한다.\n",
    "    - 파라미터 가중치를 기준으로는 일차식이 되어 선형모델이다. 입력데이터(X)들을 기준으로는 N차식이 되어 비선형 데이터를 추론할 수 있는 모델이 된다.\n",
    "- `PolynomialFeatures` Transformer를 사용해서 변환한다."
   ]
  },
  {
   "cell_type": "markdown",
   "metadata": {
    "slideshow": {
     "slide_type": "slide"
    }
   },
   "source": [
    "## 예제"
   ]
  },
  {
   "cell_type": "markdown",
   "metadata": {
    "slideshow": {
     "slide_type": "fragment"
    }
   },
   "source": [
    "##### 데이터셋 만들기"
   ]
  },
  {
   "cell_type": "code",
   "execution_count": 116,
   "metadata": {
    "ExecuteTime": {
     "end_time": "2023-02-09T03:36:13.910351Z",
     "start_time": "2023-02-09T03:36:13.886311Z"
    },
    "execution": {
     "iopub.execute_input": "2022-12-13T01:56:41.036650Z",
     "iopub.status.busy": "2022-12-13T01:56:41.036650Z",
     "iopub.status.idle": "2022-12-13T01:56:41.047406Z",
     "shell.execute_reply": "2022-12-13T01:56:41.046883Z",
     "shell.execute_reply.started": "2022-12-13T01:56:41.036650Z"
    },
    "tags": []
   },
   "outputs": [
    {
     "name": "stdout",
     "output_type": "stream",
     "text": [
      "(100, 1) (100,)\n"
     ]
    }
   ],
   "source": [
    "import numpy as np\n",
    "import pandas as pd\n",
    "import matplotlib.pyplot as plt\n",
    "\n",
    "np.random.seed(0)\n",
    "# X**2 + X + 2 \n",
    "def func(X):\n",
    "    return X**2 + X + 2 + np.random.normal(0,1, size=(X.size, 1))\n",
    "\n",
    "m = 100  # 생성할 데이터개수\n",
    "X = 6 * np.random.rand(m, 1) - 3  # rand() : 0 ~ 1 임의의 -실수\n",
    "y = func(X)\n",
    "y = y.flatten()\n",
    "\n",
    "print(X.shape, y.shape)"
   ]
  },
  {
   "cell_type": "code",
   "execution_count": 117,
   "metadata": {
    "ExecuteTime": {
     "end_time": "2023-02-09T03:36:14.609630Z",
     "start_time": "2023-02-09T03:36:14.413785Z"
    }
   },
   "outputs": [
    {
     "data": {
      "image/png": "[encoded data removed]",
      "text/plain": [
       "<Figure size 640x480 with 1 Axes>"
      ]
     },
     "metadata": {},
     "output_type": "display_data"
    }
   ],
   "source": [
    "plt.scatter(X, y);"
   ]
  },
  {
   "cell_type": "markdown",
   "metadata": {
    "slideshow": {
     "slide_type": "slide"
    }
   },
   "source": [
    "##### 모델생성, 학습"
   ]
  },
  {
   "cell_type": "code",
   "execution_count": 118,
   "metadata": {
    "ExecuteTime": {
     "end_time": "2023-02-09T03:36:14.981298Z",
     "start_time": "2023-02-09T03:36:14.972477Z"
    }
   },
   "outputs": [
    {
     "name": "stdout",
     "output_type": "stream",
     "text": [
      "MSE: 7.729, RMSE: 2.780, MAE: 2.322, r2: 0.191\n"
     ]
    }
   ],
   "source": [
    "lr = LinearRegression()\n",
    "lr.fit(X, y)\n",
    "pred = lr.predict(X)\n",
    "pmr(y, pred)"
   ]
  },
  {
   "cell_type": "code",
   "execution_count": 119,
   "metadata": {
    "ExecuteTime": {
     "end_time": "2023-02-09T03:36:15.366639Z",
     "start_time": "2023-02-09T03:36:15.163454Z"
    }
   },
   "outputs": [
    {
     "data": {
      "image/png": "[encoded data removed]",
      "text/plain": [
       "<Figure size 640x480 with 1 Axes>"
      ]
     },
     "metadata": {},
     "output_type": "display_data"
    }
   ],
   "source": [
    "X_new = np.linspace(-5, 5, 100).reshape(-1, 1)\n",
    "pred_new = lr.predict(X_new)\n",
    "plt.scatter(X, y)\n",
    "plt.plot(X_new, pred_new, color='red')\n",
    "plt.show()"
   ]
  },
  {
   "cell_type": "markdown",
   "metadata": {
    "slideshow": {
     "slide_type": "slide"
    }
   },
   "source": [
    "##### PolynomialFeatures를 이용해 다항회귀구현"
   ]
  },
  {
   "cell_type": "code",
   "execution_count": 120,
   "metadata": {
    "ExecuteTime": {
     "end_time": "2023-02-09T03:36:15.504671Z",
     "start_time": "2023-02-09T03:36:15.480329Z"
    }
   },
   "outputs": [
    {
     "name": "stdout",
     "output_type": "stream",
     "text": [
      "(100, 1) (100, 2)\n"
     ]
    }
   ],
   "source": [
    "from sklearn.preprocessing import PolynomialFeatures\n",
    "\n",
    "# 기존 컬럼에 N 제곱한 값을 가지는 컬럼들, 기존 컬럼끼리 곱한 값을 가지는 컬럼들을 추가.\n",
    "pn = PolynomialFeatures(degree=2,   # 몇 제곱까지 할지 설정.  3 -> X, X**2, X**3\n",
    "                        include_bias=False # 상수항(모든값이 1로 구성된 feature)를 생성안한다. (default: True)\n",
    "                       )\n",
    "X_poly = pn.fit_transform(X)\n",
    "print(X.shape,  X_poly.shape)"
   ]
  },
  {
   "cell_type": "code",
   "execution_count": 121,
   "metadata": {
    "ExecuteTime": {
     "end_time": "2023-02-09T03:36:17.201594Z",
     "start_time": "2023-02-09T03:36:17.190137Z"
    }
   },
   "outputs": [
    {
     "data": {
      "text/plain": [
       "array([[ 0.29288102,  0.08577929],\n",
       "       [ 1.2911362 ,  1.66703268],\n",
       "       [ 0.61658026,  0.38017121],\n",
       "       [ 0.2692991 ,  0.072522  ],\n",
       "       [-0.4580712 ,  0.20982923]])"
      ]
     },
     "execution_count": 121,
     "metadata": {},
     "output_type": "execute_result"
    }
   ],
   "source": [
    "X_poly[:5]"
   ]
  },
  {
   "cell_type": "code",
   "execution_count": null,
   "metadata": {
    "ExecuteTime": {
     "end_time": "2023-02-09T03:36:17.333494Z",
     "start_time": "2023-02-09T03:36:17.333494Z"
    }
   },
   "outputs": [],
   "source": [
    "np.power(0.29288102, 2), np.power(0.29288102, 3)"
   ]
  },
  {
   "cell_type": "code",
   "execution_count": null,
   "metadata": {
    "ExecuteTime": {
     "end_time": "2023-02-09T03:36:17.500008Z",
     "start_time": "2023-02-09T03:36:17.500008Z"
    }
   },
   "outputs": [],
   "source": [
    "# 변환한 feature들의 이름(어떻게 만들었는지)을 조회 \n",
    "pn.get_feature_names_out()"
   ]
  },
  {
   "cell_type": "markdown",
   "metadata": {
    "slideshow": {
     "slide_type": "slide"
    }
   },
   "source": [
    "##### LinearRegression 모델을 이용해 평가"
   ]
  },
  {
   "cell_type": "code",
   "execution_count": 122,
   "metadata": {
    "ExecuteTime": {
     "end_time": "2023-02-09T03:36:17.773937Z",
     "start_time": "2023-02-09T03:36:17.762507Z"
    }
   },
   "outputs": [
    {
     "data": {
      "text/html": [
       "<style>#sk-container-id-9 {color: black;background-color: white;}#sk-container-id-9 pre{padding: 0;}#sk-container-id-9 div.sk-toggleable {background-color: white;}#sk-container-id-9 label.sk-toggleable__label {cursor: pointer;display: block;width: 100%;margin-bottom: 0;padding: 0.3em;box-sizing: border-box;text-align: center;}#sk-container-id-9 label.sk-toggleable__label-arrow:before {content: \"▸\";float: left;margin-right: 0.25em;color: #696969;}#sk-container-id-9 label.sk-toggleable__label-arrow:hover:before {color: black;}#sk-container-id-9 div.sk-estimator:hover label.sk-toggleable__label-arrow:before {color: black;}#sk-container-id-9 div.sk-toggleable__content {max-height: 0;max-width: 0;overflow: hidden;text-align: left;background-color: #f0f8ff;}#sk-container-id-9 div.sk-toggleable__content pre {margin: 0.2em;color: black;border-radius: 0.25em;background-color: #f0f8ff;}#sk-container-id-9 input.sk-toggleable__control:checked~div.sk-toggleable__content {max-height: 200px;max-width: 100%;overflow: auto;}#sk-container-id-9 input.sk-toggleable__control:checked~label.sk-toggleable__label-arrow:before {content: \"▾\";}#sk-container-id-9 div.sk-estimator input.sk-toggleable__control:checked~label.sk-toggleable__label {background-color: #d4ebff;}#sk-container-id-9 div.sk-label input.sk-toggleable__control:checked~label.sk-toggleable__label {background-color: #d4ebff;}#sk-container-id-9 input.sk-hidden--visually {border: 0;clip: rect(1px 1px 1px 1px);clip: rect(1px, 1px, 1px, 1px);height: 1px;margin: -1px;overflow: hidden;padding: 0;position: absolute;width: 1px;}#sk-container-id-9 div.sk-estimator {font-family: monospace;background-color: #f0f8ff;border: 1px dotted black;border-radius: 0.25em;box-sizing: border-box;margin-bottom: 0.5em;}#sk-container-id-9 div.sk-estimator:hover {background-color: #d4ebff;}#sk-container-id-9 div.sk-parallel-item::after {content: \"\";width: 100%;border-bottom: 1px solid gray;flex-grow: 1;}#sk-container-id-9 div.sk-label:hover label.sk-toggleable__label {background-color: #d4ebff;}#sk-container-id-9 div.sk-serial::before {content: \"\";position: absolute;border-left: 1px solid gray;box-sizing: border-box;top: 0;bottom: 0;left: 50%;z-index: 0;}#sk-container-id-9 div.sk-serial {display: flex;flex-direction: column;align-items: center;background-color: white;padding-right: 0.2em;padding-left: 0.2em;position: relative;}#sk-container-id-9 div.sk-item {position: relative;z-index: 1;}#sk-container-id-9 div.sk-parallel {display: flex;align-items: stretch;justify-content: center;background-color: white;position: relative;}#sk-container-id-9 div.sk-item::before, #sk-container-id-9 div.sk-parallel-item::before {content: \"\";position: absolute;border-left: 1px solid gray;box-sizing: border-box;top: 0;bottom: 0;left: 50%;z-index: -1;}#sk-container-id-9 div.sk-parallel-item {display: flex;flex-direction: column;z-index: 1;position: relative;background-color: white;}#sk-container-id-9 div.sk-parallel-item:first-child::after {align-self: flex-end;width: 50%;}#sk-container-id-9 div.sk-parallel-item:last-child::after {align-self: flex-start;width: 50%;}#sk-container-id-9 div.sk-parallel-item:only-child::after {width: 0;}#sk-container-id-9 div.sk-dashed-wrapped {border: 1px dashed gray;margin: 0 0.4em 0.5em 0.4em;box-sizing: border-box;padding-bottom: 0.4em;background-color: white;}#sk-container-id-9 div.sk-label label {font-family: monospace;font-weight: bold;display: inline-block;line-height: 1.2em;}#sk-container-id-9 div.sk-label-container {text-align: center;}#sk-container-id-9 div.sk-container {/* jupyter's `normalize.less` sets `[hidden] { display: none; }` but bootstrap.min.css set `[hidden] { display: none !important; }` so we also need the `!important` here to be able to override the default hidden behavior on the sphinx rendered scikit-learn.org. See: https://github.com/scikit-learn/scikit-learn/issues/21755 */display: inline-block !important;position: relative;}#sk-container-id-9 div.sk-text-repr-fallback {display: none;}</style><div id=\"sk-container-id-9\" class=\"sk-top-container\"><div class=\"sk-text-repr-fallback\"><pre>LinearRegression()</pre><b>In a Jupyter environment, please rerun this cell to show the HTML representation or trust the notebook. <br />On GitHub, the HTML representation is unable to render, please try loading this page with nbviewer.org.</b></div><div class=\"sk-container\" hidden><div class=\"sk-item\"><div class=\"sk-estimator sk-toggleable\"><input class=\"sk-toggleable__control sk-hidden--visually\" id=\"sk-estimator-id-9\" type=\"checkbox\" checked><label for=\"sk-estimator-id-9\" class=\"sk-toggleable__label sk-toggleable__label-arrow\">LinearRegression</label><div class=\"sk-toggleable__content\"><pre>LinearRegression()</pre></div></div></div></div></div>"
      ],
      "text/plain": [
       "LinearRegression()"
      ]
     },
     "execution_count": 122,
     "metadata": {},
     "output_type": "execute_result"
    }
   ],
   "source": [
    "lr2 = LinearRegression()\n",
    "lr2.fit(X_poly, y)"
   ]
  },
  {
   "cell_type": "code",
   "execution_count": null,
   "metadata": {
    "ExecuteTime": {
     "end_time": "2023-02-09T03:36:17.918426Z",
     "start_time": "2023-02-09T03:36:17.918426Z"
    }
   },
   "outputs": [],
   "source": [
    "# 평가\n",
    "pred2 = lr2.predict(X_poly)\n",
    "pmr(y, pred2, title=\"변환후\")\n",
    "print('------------------------------')\n",
    "pmr(y, pred, title='변환전')"
   ]
  },
  {
   "cell_type": "code",
   "execution_count": null,
   "metadata": {
    "ExecuteTime": {
     "end_time": "2023-02-09T03:36:18.072156Z",
     "start_time": "2023-02-09T03:36:18.072156Z"
    }
   },
   "outputs": [],
   "source": [
    "lr2.coef_"
   ]
  },
  {
   "cell_type": "code",
   "execution_count": 123,
   "metadata": {
    "ExecuteTime": {
     "end_time": "2023-02-09T03:36:18.223171Z",
     "start_time": "2023-02-09T03:36:18.211802Z"
    }
   },
   "outputs": [
    {
     "data": {
      "text/plain": [
       "2.3405007562628866"
      ]
     },
     "execution_count": 123,
     "metadata": {},
     "output_type": "execute_result"
    }
   ],
   "source": [
    "lr2.intercept_"
   ]
  },
  {
   "cell_type": "code",
   "execution_count": 124,
   "metadata": {
    "ExecuteTime": {
     "end_time": "2023-02-09T03:36:18.408322Z",
     "start_time": "2023-02-09T03:36:18.386367Z"
    }
   },
   "outputs": [
    {
     "data": {
      "text/plain": [
       "array([[ 2.02466641],\n",
       "       [ 3.58321759],\n",
       "       [ 2.35313307],\n",
       "       [ 0.11841795],\n",
       "       [ 2.37698947],\n",
       "       [ 2.03957034],\n",
       "       [ 0.66137275],\n",
       "       [ 9.92830211],\n",
       "       [11.78180716],\n",
       "       [ 3.33275537],\n",
       "       [ 5.52121924],\n",
       "       [ 2.47047738],\n",
       "       [ 2.53566679],\n",
       "       [ 9.90625628],\n",
       "       [ 6.57385529],\n",
       "       [ 5.48786921],\n",
       "       [ 8.17995484],\n",
       "       [ 8.80211785],\n",
       "       [ 8.61753887],\n",
       "       [10.48532447],\n",
       "       [12.74924685],\n",
       "       [ 6.77742268],\n",
       "       [ 2.92195399],\n",
       "       [ 7.17151706],\n",
       "       [ 5.59549698],\n",
       "       [ 1.9273742 ],\n",
       "       [ 4.41488119],\n",
       "       [11.04827864],\n",
       "       [ 2.4281991 ],\n",
       "       [ 1.65199429],\n",
       "       [ 3.49313873],\n",
       "       [ 6.66996854],\n",
       "       [ 2.59245052],\n",
       "       [ 2.11277999],\n",
       "       [ 6.50456977],\n",
       "       [ 2.79393526],\n",
       "       [ 3.10791016],\n",
       "       [ 3.57300386],\n",
       "       [14.01064228],\n",
       "       [ 4.238775  ],\n",
       "       [ 0.91167148],\n",
       "       [ 1.41894904],\n",
       "       [ 4.12828243],\n",
       "       [ 6.80529319],\n",
       "       [ 2.46100422],\n",
       "       [ 4.13531138],\n",
       "       [ 3.4384193 ],\n",
       "       [ 4.96278375],\n",
       "       [ 1.52165501],\n",
       "       [ 1.61303404],\n",
       "       [ 1.17451283],\n",
       "       [ 1.27400107],\n",
       "       [12.97370576],\n",
       "       [ 5.72957889],\n",
       "       [ 2.14817686],\n",
       "       [ 4.87865995],\n",
       "       [ 5.25705223],\n",
       "       [ 0.64090579],\n",
       "       [ 2.26498207],\n",
       "       [ 3.4949196 ],\n",
       "       [ 3.50324329],\n",
       "       [ 4.73005014],\n",
       "       [ 3.68489882],\n",
       "       [ 4.24412359],\n",
       "       [ 3.18472268],\n",
       "       [ 0.15673813],\n",
       "       [ 8.78761047],\n",
       "       [ 6.506012  ],\n",
       "       [ 7.32574856],\n",
       "       [ 3.98307998],\n",
       "       [13.55231205],\n",
       "       [ 1.27149814],\n",
       "       [13.18536056],\n",
       "       [ 2.70547769],\n",
       "       [ 6.1880144 ],\n",
       "       [ 7.57439997],\n",
       "       [ 1.66946576],\n",
       "       [ 3.53083889],\n",
       "       [ 0.69002027],\n",
       "       [ 5.55601358],\n",
       "       [ 0.91172425],\n",
       "       [ 1.24339164],\n",
       "       [ 5.62739752],\n",
       "       [ 4.43590402],\n",
       "       [ 0.62301605],\n",
       "       [ 2.76263082],\n",
       "       [ 2.68283634],\n",
       "       [ 5.58790027],\n",
       "       [ 2.35243613],\n",
       "       [11.30780546],\n",
       "       [ 2.49548016],\n",
       "       [ 1.24081399],\n",
       "       [ 6.62732079],\n",
       "       [ 5.37276508],\n",
       "       [ 1.68062055],\n",
       "       [ 3.32143247],\n",
       "       [ 3.28226095],\n",
       "       [ 7.29522496],\n",
       "       [ 5.83821125],\n",
       "       [ 9.92442229]])"
      ]
     },
     "execution_count": 124,
     "metadata": {},
     "output_type": "execute_result"
    }
   ],
   "source": [
    "X**2 + X + 2 + np.random.normal(0,1, size=(X.size, 1))"
   ]
  },
  {
   "cell_type": "markdown",
   "metadata": {
    "slideshow": {
     "slide_type": "slide"
    }
   },
   "source": [
    "##### 시각화"
   ]
  },
  {
   "cell_type": "code",
   "execution_count": 125,
   "metadata": {
    "ExecuteTime": {
     "end_time": "2023-02-09T03:36:18.876737Z",
     "start_time": "2023-02-09T03:36:18.677984Z"
    }
   },
   "outputs": [
    {
     "data": {
      "image/png": "[encoded data removed]",
      "text/plain": [
       "<Figure size 640x480 with 1 Axes>"
      ]
     },
     "metadata": {},
     "output_type": "display_data"
    }
   ],
   "source": [
    "X_new = np.linspace(-4, 4, 100).reshape(-1, 1)\n",
    "X_new_poly = pn.transform(X_new)  # 변환처리\n",
    "y_new = lr2.predict(X_new_poly)\n",
    "\n",
    "plt.scatter(X, y)\n",
    "plt.plot(X_new, y_new, color='red')\n",
    "plt.show()"
   ]
  },
  {
   "cell_type": "markdown",
   "metadata": {
    "slideshow": {
     "slide_type": "slide"
    }
   },
   "source": [
    "## degree를 크게\n",
    "- Feature가 너무 많으면 Overfitting 문제가 생긴다."
   ]
  },
  {
   "cell_type": "code",
   "execution_count": 126,
   "metadata": {
    "ExecuteTime": {
     "end_time": "2023-02-09T03:36:19.032175Z",
     "start_time": "2023-02-09T03:36:19.015413Z"
    }
   },
   "outputs": [
    {
     "name": "stdout",
     "output_type": "stream",
     "text": [
      "(100, 1) (100, 35)\n"
     ]
    },
    {
     "data": {
      "text/plain": [
       "array(['x0', 'x0^2', 'x0^3', 'x0^4', 'x0^5', 'x0^6', 'x0^7', 'x0^8',\n",
       "       'x0^9', 'x0^10', 'x0^11', 'x0^12', 'x0^13', 'x0^14', 'x0^15',\n",
       "       'x0^16', 'x0^17', 'x0^18', 'x0^19', 'x0^20', 'x0^21', 'x0^22',\n",
       "       'x0^23', 'x0^24', 'x0^25', 'x0^26', 'x0^27', 'x0^28', 'x0^29',\n",
       "       'x0^30', 'x0^31', 'x0^32', 'x0^33', 'x0^34', 'x0^35'], dtype=object)"
      ]
     },
     "execution_count": 126,
     "metadata": {},
     "output_type": "execute_result"
    }
   ],
   "source": [
    "pn2 = PolynomialFeatures(degree=35, include_bias=False)\n",
    "X_poly2 = pn2.fit_transform(X)\n",
    "print(X.shape, X_poly2.shape)\n",
    "pn2.get_feature_names_out()"
   ]
  },
  {
   "cell_type": "code",
   "execution_count": null,
   "metadata": {
    "ExecuteTime": {
     "end_time": "2023-02-09T03:36:19.607581Z",
     "start_time": "2023-02-09T03:36:19.607581Z"
    }
   },
   "outputs": [],
   "source": [
    "lr3 = LinearRegression()\n",
    "lr3.fit(X_poly2, y)\n",
    "print(lr3.coef_)\n",
    "print(lr3.intercept_)"
   ]
  },
  {
   "cell_type": "code",
   "execution_count": null,
   "metadata": {
    "ExecuteTime": {
     "end_time": "2023-02-09T03:36:19.617641Z",
     "start_time": "2023-02-09T03:36:19.617641Z"
    }
   },
   "outputs": [],
   "source": [
    "pred3 = lr3.predict(X_poly2)\n",
    "pmr(y, pred3)"
   ]
  },
  {
   "cell_type": "code",
   "execution_count": null,
   "metadata": {
    "ExecuteTime": {
     "end_time": "2023-02-09T03:36:19.624056Z",
     "start_time": "2023-02-09T03:36:19.624056Z"
    }
   },
   "outputs": [],
   "source": [
    "X_new = np.linspace(-4, 4, 100).reshape(-1, 1)\n",
    "X_new_poly = pn2.transform(X_new)  # 변환처리\n",
    "y_new = lr3.predict(X_new_poly)\n",
    "\n",
    "plt.scatter(X, y)\n",
    "plt.plot(X_new, y_new, color='red')\n",
    "plt.ylim(0, 15)\n",
    "plt.show()"
   ]
  },
  {
   "cell_type": "markdown",
   "metadata": {
    "slideshow": {
     "slide_type": "slide"
    }
   },
   "source": [
    "### PolynomialFeatures 예제"
   ]
  },
  {
   "cell_type": "code",
   "execution_count": 127,
   "metadata": {
    "ExecuteTime": {
     "end_time": "2023-02-09T03:36:19.927851Z",
     "start_time": "2023-02-09T03:36:19.906560Z"
    }
   },
   "outputs": [
    {
     "name": "stdout",
     "output_type": "stream",
     "text": [
      "(4, 3)\n"
     ]
    },
    {
     "data": {
      "text/plain": [
       "array([[ 0,  1,  2],\n",
       "       [ 3,  4,  5],\n",
       "       [ 6,  7,  8],\n",
       "       [ 9, 10, 11]])"
      ]
     },
     "execution_count": 127,
     "metadata": {},
     "output_type": "execute_result"
    }
   ],
   "source": [
    "import numpy as np\n",
    "\n",
    "data = np.arange(12).reshape(4,3)\n",
    "print(data.shape)\n",
    "data"
   ]
  },
  {
   "cell_type": "code",
   "execution_count": 128,
   "metadata": {
    "ExecuteTime": {
     "end_time": "2023-02-09T03:36:20.221863Z",
     "start_time": "2023-02-09T03:36:20.203250Z"
    }
   },
   "outputs": [
    {
     "data": {
      "text/plain": [
       "(4, 10)"
      ]
     },
     "execution_count": 128,
     "metadata": {},
     "output_type": "execute_result"
    }
   ],
   "source": [
    "from sklearn.preprocessing import PolynomialFeatures\n",
    "pn = PolynomialFeatures(degree=2)\n",
    "data_poly2 = pn.fit_transform(data)\n",
    "data_poly2.shape"
   ]
  },
  {
   "cell_type": "code",
   "execution_count": 129,
   "metadata": {
    "ExecuteTime": {
     "end_time": "2023-02-09T03:36:20.501804Z",
     "start_time": "2023-02-09T03:36:20.485829Z"
    }
   },
   "outputs": [
    {
     "data": {
      "text/plain": [
       "array(['1', 'x0', 'x1', 'x2', 'x0^2', 'x0 x1', 'x0 x2', 'x1^2', 'x1 x2',\n",
       "       'x2^2'], dtype=object)"
      ]
     },
     "execution_count": 129,
     "metadata": {},
     "output_type": "execute_result"
    }
   ],
   "source": [
    "pn.get_feature_names_out()"
   ]
  },
  {
   "cell_type": "code",
   "execution_count": 130,
   "metadata": {
    "ExecuteTime": {
     "end_time": "2023-02-09T03:36:20.904071Z",
     "start_time": "2023-02-09T03:36:20.896872Z"
    }
   },
   "outputs": [
    {
     "data": {
      "text/plain": [
       "(4, 35)"
      ]
     },
     "execution_count": 130,
     "metadata": {},
     "output_type": "execute_result"
    }
   ],
   "source": [
    "pn2 = PolynomialFeatures(degree=4)\n",
    "data_poly3 = pn2.fit_transform(data)\n",
    "data_poly3.shape"
   ]
  },
  {
   "cell_type": "code",
   "execution_count": 131,
   "metadata": {
    "ExecuteTime": {
     "end_time": "2023-02-09T03:36:21.227901Z",
     "start_time": "2023-02-09T03:36:21.215152Z"
    }
   },
   "outputs": [
    {
     "data": {
      "text/plain": [
       "array(['1', 'x0', 'x1', 'x2', 'x0^2', 'x0 x1', 'x0 x2', 'x1^2', 'x1 x2',\n",
       "       'x2^2', 'x0^3', 'x0^2 x1', 'x0^2 x2', 'x0 x1^2', 'x0 x1 x2',\n",
       "       'x0 x2^2', 'x1^3', 'x1^2 x2', 'x1 x2^2', 'x2^3', 'x0^4', 'x0^3 x1',\n",
       "       'x0^3 x2', 'x0^2 x1^2', 'x0^2 x1 x2', 'x0^2 x2^2', 'x0 x1^3',\n",
       "       'x0 x1^2 x2', 'x0 x1 x2^2', 'x0 x2^3', 'x1^4', 'x1^3 x2',\n",
       "       'x1^2 x2^2', 'x1 x2^3', 'x2^4'], dtype=object)"
      ]
     },
     "execution_count": 131,
     "metadata": {},
     "output_type": "execute_result"
    }
   ],
   "source": [
    "pn2.get_feature_names_out()"
   ]
  },
  {
   "cell_type": "markdown",
   "metadata": {
    "slideshow": {
     "slide_type": "slide"
    }
   },
   "source": [
    "### PolynomialFeatures를 Boston Dataset에 적용"
   ]
  },
  {
   "cell_type": "code",
   "execution_count": 132,
   "metadata": {
    "ExecuteTime": {
     "end_time": "2023-02-09T03:36:21.537501Z",
     "start_time": "2023-02-09T03:36:21.528976Z"
    }
   },
   "outputs": [],
   "source": [
    "pn_boston = PolynomialFeatures(degree=2, include_bias=False)\n",
    "# pn_boston = PolynomialFeatures(degree=3, include_bias=False)\n",
    "X_train_scaled_poly = pn_boston.fit_transform(X_train_scaled)\n",
    "X_test_scaled_poly = pn_boston.transform(X_test_scaled)"
   ]
  },
  {
   "cell_type": "code",
   "execution_count": 133,
   "metadata": {
    "ExecuteTime": {
     "end_time": "2023-02-09T03:36:21.691045Z",
     "start_time": "2023-02-09T03:36:21.687044Z"
    }
   },
   "outputs": [
    {
     "name": "stdout",
     "output_type": "stream",
     "text": [
      "(404, 13)\n",
      "(404, 104)\n"
     ]
    }
   ],
   "source": [
    "print(X_train_scaled.shape)\n",
    "print(X_train_scaled_poly.shape)"
   ]
  },
  {
   "cell_type": "code",
   "execution_count": 134,
   "metadata": {
    "ExecuteTime": {
     "end_time": "2023-02-09T03:36:21.908049Z",
     "start_time": "2023-02-09T03:36:21.883544Z"
    }
   },
   "outputs": [
    {
     "data": {
      "text/plain": [
       "array(['x0', 'x1', 'x2', 'x3', 'x4', 'x5', 'x6', 'x7', 'x8', 'x9', 'x10',\n",
       "       'x11', 'x12', 'x0^2', 'x0 x1', 'x0 x2', 'x0 x3', 'x0 x4', 'x0 x5',\n",
       "       'x0 x6', 'x0 x7', 'x0 x8', 'x0 x9', 'x0 x10', 'x0 x11', 'x0 x12',\n",
       "       'x1^2', 'x1 x2', 'x1 x3', 'x1 x4', 'x1 x5', 'x1 x6', 'x1 x7',\n",
       "       'x1 x8', 'x1 x9', 'x1 x10', 'x1 x11', 'x1 x12', 'x2^2', 'x2 x3',\n",
       "       'x2 x4', 'x2 x5', 'x2 x6', 'x2 x7', 'x2 x8', 'x2 x9', 'x2 x10',\n",
       "       'x2 x11', 'x2 x12', 'x3^2', 'x3 x4', 'x3 x5', 'x3 x6', 'x3 x7',\n",
       "       'x3 x8', 'x3 x9', 'x3 x10', 'x3 x11', 'x3 x12', 'x4^2', 'x4 x5',\n",
       "       'x4 x6', 'x4 x7', 'x4 x8', 'x4 x9', 'x4 x10', 'x4 x11', 'x4 x12',\n",
       "       'x5^2', 'x5 x6', 'x5 x7', 'x5 x8', 'x5 x9', 'x5 x10', 'x5 x11',\n",
       "       'x5 x12', 'x6^2', 'x6 x7', 'x6 x8', 'x6 x9', 'x6 x10', 'x6 x11',\n",
       "       'x6 x12', 'x7^2', 'x7 x8', 'x7 x9', 'x7 x10', 'x7 x11', 'x7 x12',\n",
       "       'x8^2', 'x8 x9', 'x8 x10', 'x8 x11', 'x8 x12', 'x9^2', 'x9 x10',\n",
       "       'x9 x11', 'x9 x12', 'x10^2', 'x10 x11', 'x10 x12', 'x11^2',\n",
       "       'x11 x12', 'x12^2'], dtype=object)"
      ]
     },
     "execution_count": 134,
     "metadata": {},
     "output_type": "execute_result"
    }
   ],
   "source": [
    "pn_boston.get_feature_names_out()"
   ]
  },
  {
   "cell_type": "markdown",
   "metadata": {
    "slideshow": {
     "slide_type": "slide"
    }
   },
   "source": [
    "##### 모델 생성 학습 추론 평가"
   ]
  },
  {
   "cell_type": "code",
   "execution_count": 135,
   "metadata": {
    "ExecuteTime": {
     "end_time": "2023-02-09T03:36:22.312664Z",
     "start_time": "2023-02-09T03:36:22.285398Z"
    }
   },
   "outputs": [
    {
     "data": {
      "text/html": [
       "<style>#sk-container-id-10 {color: black;background-color: white;}#sk-container-id-10 pre{padding: 0;}#sk-container-id-10 div.sk-toggleable {background-color: white;}#sk-container-id-10 label.sk-toggleable__label {cursor: pointer;display: block;width: 100%;margin-bottom: 0;padding: 0.3em;box-sizing: border-box;text-align: center;}#sk-container-id-10 label.sk-toggleable__label-arrow:before {content: \"▸\";float: left;margin-right: 0.25em;color: #696969;}#sk-container-id-10 label.sk-toggleable__label-arrow:hover:before {color: black;}#sk-container-id-10 div.sk-estimator:hover label.sk-toggleable__label-arrow:before {color: black;}#sk-container-id-10 div.sk-toggleable__content {max-height: 0;max-width: 0;overflow: hidden;text-align: left;background-color: #f0f8ff;}#sk-container-id-10 div.sk-toggleable__content pre {margin: 0.2em;color: black;border-radius: 0.25em;background-color: #f0f8ff;}#sk-container-id-10 input.sk-toggleable__control:checked~div.sk-toggleable__content {max-height: 200px;max-width: 100%;overflow: auto;}#sk-container-id-10 input.sk-toggleable__control:checked~label.sk-toggleable__label-arrow:before {content: \"▾\";}#sk-container-id-10 div.sk-estimator input.sk-toggleable__control:checked~label.sk-toggleable__label {background-color: #d4ebff;}#sk-container-id-10 div.sk-label input.sk-toggleable__control:checked~label.sk-toggleable__label {background-color: #d4ebff;}#sk-container-id-10 input.sk-hidden--visually {border: 0;clip: rect(1px 1px 1px 1px);clip: rect(1px, 1px, 1px, 1px);height: 1px;margin: -1px;overflow: hidden;padding: 0;position: absolute;width: 1px;}#sk-container-id-10 div.sk-estimator {font-family: monospace;background-color: #f0f8ff;border: 1px dotted black;border-radius: 0.25em;box-sizing: border-box;margin-bottom: 0.5em;}#sk-container-id-10 div.sk-estimator:hover {background-color: #d4ebff;}#sk-container-id-10 div.sk-parallel-item::after {content: \"\";width: 100%;border-bottom: 1px solid gray;flex-grow: 1;}#sk-container-id-10 div.sk-label:hover label.sk-toggleable__label {background-color: #d4ebff;}#sk-container-id-10 div.sk-serial::before {content: \"\";position: absolute;border-left: 1px solid gray;box-sizing: border-box;top: 0;bottom: 0;left: 50%;z-index: 0;}#sk-container-id-10 div.sk-serial {display: flex;flex-direction: column;align-items: center;background-color: white;padding-right: 0.2em;padding-left: 0.2em;position: relative;}#sk-container-id-10 div.sk-item {position: relative;z-index: 1;}#sk-container-id-10 div.sk-parallel {display: flex;align-items: stretch;justify-content: center;background-color: white;position: relative;}#sk-container-id-10 div.sk-item::before, #sk-container-id-10 div.sk-parallel-item::before {content: \"\";position: absolute;border-left: 1px solid gray;box-sizing: border-box;top: 0;bottom: 0;left: 50%;z-index: -1;}#sk-container-id-10 div.sk-parallel-item {display: flex;flex-direction: column;z-index: 1;position: relative;background-color: white;}#sk-container-id-10 div.sk-parallel-item:first-child::after {align-self: flex-end;width: 50%;}#sk-container-id-10 div.sk-parallel-item:last-child::after {align-self: flex-start;width: 50%;}#sk-container-id-10 div.sk-parallel-item:only-child::after {width: 0;}#sk-container-id-10 div.sk-dashed-wrapped {border: 1px dashed gray;margin: 0 0.4em 0.5em 0.4em;box-sizing: border-box;padding-bottom: 0.4em;background-color: white;}#sk-container-id-10 div.sk-label label {font-family: monospace;font-weight: bold;display: inline-block;line-height: 1.2em;}#sk-container-id-10 div.sk-label-container {text-align: center;}#sk-container-id-10 div.sk-container {/* jupyter's `normalize.less` sets `[hidden] { display: none; }` but bootstrap.min.css set `[hidden] { display: none !important; }` so we also need the `!important` here to be able to override the default hidden behavior on the sphinx rendered scikit-learn.org. See: https://github.com/scikit-learn/scikit-learn/issues/21755 */display: inline-block !important;position: relative;}#sk-container-id-10 div.sk-text-repr-fallback {display: none;}</style><div id=\"sk-container-id-10\" class=\"sk-top-container\"><div class=\"sk-text-repr-fallback\"><pre>LinearRegression()</pre><b>In a Jupyter environment, please rerun this cell to show the HTML representation or trust the notebook. <br />On GitHub, the HTML representation is unable to render, please try loading this page with nbviewer.org.</b></div><div class=\"sk-container\" hidden><div class=\"sk-item\"><div class=\"sk-estimator sk-toggleable\"><input class=\"sk-toggleable__control sk-hidden--visually\" id=\"sk-estimator-id-10\" type=\"checkbox\" checked><label for=\"sk-estimator-id-10\" class=\"sk-toggleable__label sk-toggleable__label-arrow\">LinearRegression</label><div class=\"sk-toggleable__content\"><pre>LinearRegression()</pre></div></div></div></div></div>"
      ],
      "text/plain": [
       "LinearRegression()"
      ]
     },
     "execution_count": 135,
     "metadata": {},
     "output_type": "execute_result"
    }
   ],
   "source": [
    "from sklearn.linear_model import LinearRegression\n",
    "lr = LinearRegression()\n",
    "lr.fit(X_train_scaled_poly, y_train)"
   ]
  },
  {
   "cell_type": "code",
   "execution_count": 136,
   "metadata": {
    "ExecuteTime": {
     "end_time": "2023-02-09T03:36:22.497933Z",
     "start_time": "2023-02-09T03:36:22.475273Z"
    }
   },
   "outputs": [
    {
     "name": "stdout",
     "output_type": "stream",
     "text": [
      "train set\n",
      "MSE: 4.340, RMSE: 2.083, MAE: 1.617, r2: 0.949\n",
      "====================================================================================================\n",
      "test set\n",
      "MSE: 31.278, RMSE: 5.593, MAE: 3.328, r2: 0.616\n"
     ]
    }
   ],
   "source": [
    "from metrics import print_metrics_regression as pmr\n",
    "\n",
    "train_pred = lr.predict(X_train_scaled_poly)\n",
    "test_pred = lr.predict(X_test_scaled_poly)\n",
    "\n",
    "pmr(y_train, train_pred, 'train set')\n",
    "print(\"=\"*100)\n",
    "pmr(y_test, test_pred, 'test set')"
   ]
  },
  {
   "cell_type": "code",
   "execution_count": 137,
   "metadata": {
    "ExecuteTime": {
     "end_time": "2023-02-09T03:36:22.685167Z",
     "start_time": "2023-02-09T03:36:22.665990Z"
    }
   },
   "outputs": [
    {
     "data": {
      "text/plain": [
       "(404, 104)"
      ]
     },
     "execution_count": 137,
     "metadata": {},
     "output_type": "execute_result"
    }
   ],
   "source": [
    "X_train_scaled_poly.shape"
   ]
  },
  {
   "cell_type": "code",
   "execution_count": null,
   "metadata": {
    "ExecuteTime": {
     "end_time": "2023-02-09T03:36:22.844860Z",
     "start_time": "2023-02-09T03:36:22.844860Z"
    }
   },
   "outputs": [],
   "source": [
    "# polynormial 변환 전\n",
    "Train set\n",
    "MSE: 19.660, RMSE: 4.434, MAE: 3.127, r2: 0.769\n",
    "==================================================\n",
    "Test set\n",
    "MSE: 34.212, RMSE: 5.849, MAE: 3.839, r2: 0.580"
   ]
  },
  {
   "cell_type": "markdown",
   "metadata": {
    "slideshow": {
     "slide_type": "slide"
    }
   },
   "source": [
    "## 규제 (Regularization)\n",
    "- 선형 회귀 모델에서 과대적합(Overfitting) 문제를 해결하기 위해 가중치(회귀계수)에 페널티 값을 적용한다.\n",
    "- 입력데이터의 Feature들이 너무 많은 경우 Overfitting이 발생.\n",
    "    - Feature수에 비해 관측치 수가 적은 경우 모델이 복잡해 지면서 Overfitting이 발생한다.\n",
    "- 해결\n",
    "    - 데이터를 더 수집한다. \n",
    "    - Feature selection\n",
    "        - 불필요한 Features들을 제거한다.\n",
    "    - 규제 (Regularization) 을 통해 Feature들에 곱해지는 가중치가 커지지 않도록 제한한다.(0에 가까운 값으로 만들어 준다.)\n",
    "        - LinearRegression의 규제는 학습시 계산하는 오차를 키워서 모델이 오차를 줄이기 위해 가중치를 0에 가까운 값으로 만들도록 하는 방식을 사용한다.\n",
    "        - L1 규제 (Lasso)\n",
    "        - L2 규제 (Ridge)\n",
    "    "
   ]
  },
  {
   "cell_type": "markdown",
   "metadata": {
    "slideshow": {
     "slide_type": "slide"
    }
   },
   "source": [
    "## Ridge Regression (L2 규제)\n",
    "- 손실함수(loss function)에 규제항으로 $\\alpha \\sum_{i=1}^{n}{w_{i}^{2}}$ (L2 Norm)을 더해준다.\n",
    "- $\\alpha$는 하이퍼파라미터로 모델을 얼마나 많이 규제할지 조절한다. \n",
    "    - $\\alpha = 0$ 에 가까울수록 규제가 약해진다. (0일 경우 선형 회귀동일)\n",
    "    - $\\alpha$ 가 커질 수록 모든 가중치가 작아져 입력데이터의 Feature들 중 중요하지 않은 Feature의 예측에 대한 영향력이 작아지게 된다.\n",
    "\n",
    "$$\n",
    "\\text{손실함수}(w) = \\text{MSE}(w) + \\alpha \\cfrac{1}{2}\\sum_{i=1}^{n}{w_{i}^{2}}\n",
    "$$\n",
    "\n",
    "> **손실함수(Loss Function):** 모델의 예측한 값과 실제값 사이의 차이를 정의하는 함수로 모델이 학습할 때 사용된다."
   ]
  },
  {
   "cell_type": "code",
   "execution_count": 138,
   "metadata": {
    "ExecuteTime": {
     "end_time": "2023-02-09T03:36:24.239208Z",
     "start_time": "2023-02-09T03:36:24.220372Z"
    }
   },
   "outputs": [],
   "source": [
    "from sklearn.linear_model import Ridge, Lasso, ElasticNet"
   ]
  },
  {
   "cell_type": "code",
   "execution_count": 139,
   "metadata": {
    "ExecuteTime": {
     "end_time": "2023-02-09T03:36:24.469477Z",
     "start_time": "2023-02-09T03:36:24.440142Z"
    }
   },
   "outputs": [
    {
     "name": "stdout",
     "output_type": "stream",
     "text": [
      "alpha: 1\n",
      "MSE: 19.328, RMSE: 4.396, MAE: 3.100, r2: 0.773\n",
      "MSE: 33.554, RMSE: 5.793, MAE: 3.843, r2: 0.588\n"
     ]
    }
   ],
   "source": [
    "# alpha => 규제항의 값을 조정하는 하이퍼파라미터 기본값:1 클수록 규제가 강해진다.\n",
    "#   overfitting 발생: alpha를 늘린다.(단순화)  underfitting 발생: alpha 를 줄인다.(복잡화)\n",
    "ridge = Ridge(random_state=0)\n",
    "ridge.fit(X_train_scaled, y_train)\n",
    "train_pred = ridge.predict(X_train_scaled)\n",
    "test_pred = ridge.predict(X_test_scaled)\n",
    "print('alpha: 1')\n",
    "pmr(y_train, train_pred)\n",
    "pmr(y_test, test_pred)"
   ]
  },
  {
   "cell_type": "code",
   "execution_count": 140,
   "metadata": {
    "ExecuteTime": {
     "end_time": "2023-02-09T03:36:24.672122Z",
     "start_time": "2023-02-09T03:36:24.641223Z"
    }
   },
   "outputs": [
    {
     "name": "stdout",
     "output_type": "stream",
     "text": [
      "alpha: 10\n",
      "MSE: 19.430, RMSE: 4.408, MAE: 3.085, r2: 0.772\n",
      "MSE: 34.416, RMSE: 5.866, MAE: 3.845, r2: 0.577\n"
     ]
    }
   ],
   "source": [
    "ridge = Ridge(random_state=0, alpha=10)\n",
    "ridge.fit(X_train_scaled, y_train)\n",
    "train_pred = ridge.predict(X_train_scaled)\n",
    "test_pred = ridge.predict(X_test_scaled)\n",
    "print('alpha: 10')\n",
    "pmr(y_train, train_pred)\n",
    "pmr(y_test, test_pred)"
   ]
  },
  {
   "cell_type": "code",
   "execution_count": 141,
   "metadata": {
    "ExecuteTime": {
     "end_time": "2023-02-09T03:36:25.945626Z",
     "start_time": "2023-02-09T03:36:25.918395Z"
    }
   },
   "outputs": [
    {
     "name": "stdout",
     "output_type": "stream",
     "text": [
      "alpha: 100\n",
      "MSE: 36.958, RMSE: 6.079, MAE: 4.230, r2: 0.566\n",
      "MSE: 52.509, RMSE: 7.246, MAE: 4.820, r2: 0.355\n"
     ]
    }
   ],
   "source": [
    "ridge = Ridge(random_state=0, alpha=1000)\n",
    "ridge.fit(X_train_scaled, y_train)\n",
    "train_pred = ridge.predict(X_train_scaled)\n",
    "test_pred = ridge.predict(X_test_scaled)\n",
    "print('alpha: 100')\n",
    "pmr(y_train, train_pred)\n",
    "pmr(y_test, test_pred)"
   ]
  },
  {
   "cell_type": "markdown",
   "metadata": {
    "slideshow": {
     "slide_type": "slide"
    }
   },
   "source": [
    "## 규제 alpha 에 따른 weight 변화"
   ]
  },
  {
   "cell_type": "code",
   "execution_count": 142,
   "metadata": {
    "ExecuteTime": {
     "end_time": "2023-02-09T03:36:27.397889Z",
     "start_time": "2023-02-09T03:36:27.376914Z"
    }
   },
   "outputs": [
    {
     "data": {
      "text/html": [
       "<div>\n",
       "<style scoped>\n",
       "    .dataframe tbody tr th:only-of-type {\n",
       "        vertical-align: middle;\n",
       "    }\n",
       "\n",
       "    .dataframe tbody tr th {\n",
       "        vertical-align: top;\n",
       "    }\n",
       "\n",
       "    .dataframe thead th {\n",
       "        text-align: right;\n",
       "    }\n",
       "</style>\n",
       "<table border=\"1\" class=\"dataframe\">\n",
       "  <thead>\n",
       "    <tr style=\"text-align: right;\">\n",
       "      <th></th>\n",
       "    </tr>\n",
       "  </thead>\n",
       "  <tbody>\n",
       "  </tbody>\n",
       "</table>\n",
       "</div>"
      ],
      "text/plain": [
       "Empty DataFrame\n",
       "Columns: []\n",
       "Index: []"
      ]
     },
     "execution_count": 142,
     "metadata": {},
     "output_type": "execute_result"
    }
   ],
   "source": [
    "a = pd.DataFrame() \n",
    "a"
   ]
  },
  {
   "cell_type": "code",
   "execution_count": 143,
   "metadata": {
    "ExecuteTime": {
     "end_time": "2023-02-09T03:36:28.158984Z",
     "start_time": "2023-02-09T03:36:28.143621Z"
    }
   },
   "outputs": [
    {
     "data": {
      "text/html": [
       "<div>\n",
       "<style scoped>\n",
       "    .dataframe tbody tr th:only-of-type {\n",
       "        vertical-align: middle;\n",
       "    }\n",
       "\n",
       "    .dataframe tbody tr th {\n",
       "        vertical-align: top;\n",
       "    }\n",
       "\n",
       "    .dataframe thead th {\n",
       "        text-align: right;\n",
       "    }\n",
       "</style>\n",
       "<table border=\"1\" class=\"dataframe\">\n",
       "  <thead>\n",
       "    <tr style=\"text-align: right;\">\n",
       "      <th></th>\n",
       "      <th>abc</th>\n",
       "    </tr>\n",
       "  </thead>\n",
       "  <tbody>\n",
       "    <tr>\n",
       "      <th>0</th>\n",
       "      <td>-0.458642</td>\n",
       "    </tr>\n",
       "    <tr>\n",
       "      <th>1</th>\n",
       "      <td>0.413468</td>\n",
       "    </tr>\n",
       "    <tr>\n",
       "      <th>2</th>\n",
       "      <td>-0.500884</td>\n",
       "    </tr>\n",
       "    <tr>\n",
       "      <th>3</th>\n",
       "      <td>-0.371470</td>\n",
       "    </tr>\n",
       "    <tr>\n",
       "      <th>4</th>\n",
       "      <td>1.304384</td>\n",
       "    </tr>\n",
       "    <tr>\n",
       "      <th>5</th>\n",
       "      <td>-0.317122</td>\n",
       "    </tr>\n",
       "    <tr>\n",
       "      <th>6</th>\n",
       "      <td>-0.085435</td>\n",
       "    </tr>\n",
       "    <tr>\n",
       "      <th>7</th>\n",
       "      <td>-0.289031</td>\n",
       "    </tr>\n",
       "    <tr>\n",
       "      <th>8</th>\n",
       "      <td>-0.482927</td>\n",
       "    </tr>\n",
       "    <tr>\n",
       "      <th>9</th>\n",
       "      <td>-0.921966</td>\n",
       "    </tr>\n",
       "    <tr>\n",
       "      <th>10</th>\n",
       "      <td>0.436310</td>\n",
       "    </tr>\n",
       "    <tr>\n",
       "      <th>11</th>\n",
       "      <td>-1.200447</td>\n",
       "    </tr>\n",
       "    <tr>\n",
       "      <th>12</th>\n",
       "      <td>0.127925</td>\n",
       "    </tr>\n",
       "  </tbody>\n",
       "</table>\n",
       "</div>"
      ],
      "text/plain": [
       "         abc\n",
       "0  -0.458642\n",
       "1   0.413468\n",
       "2  -0.500884\n",
       "3  -0.371470\n",
       "4   1.304384\n",
       "5  -0.317122\n",
       "6  -0.085435\n",
       "7  -0.289031\n",
       "8  -0.482927\n",
       "9  -0.921966\n",
       "10  0.436310\n",
       "11 -1.200447\n",
       "12  0.127925"
      ]
     },
     "execution_count": 143,
     "metadata": {},
     "output_type": "execute_result"
    }
   ],
   "source": [
    "a['abc'] = pd.Series(ridge.coef_)\n",
    "a"
   ]
  },
  {
   "cell_type": "code",
   "execution_count": 146,
   "metadata": {
    "ExecuteTime": {
     "end_time": "2023-02-09T03:36:45.816151Z",
     "start_time": "2023-02-09T03:36:45.797120Z"
    }
   },
   "outputs": [],
   "source": [
    "alpha_list = [0.001, 0.01, 1, 10, 100, 500, 1000]\n",
    "coef_df = pd.DataFrame() # alpha별 각 feature에 곱할 weight들을 저장할 DataFrame.\n",
    "for alpha in alpha_list:\n",
    "    \n",
    "    ridge = Ridge(alpha=alpha, random_state=0)\n",
    "    ridge.fit(X_train_scaled, y_train)\n",
    "    \n",
    "#     coef_s = pd.Series(ridge.coef_)\n",
    "    coef_df[f\"alpha:{alpha}\"] = ridge.coef_"
   ]
  },
  {
   "cell_type": "code",
   "execution_count": 147,
   "metadata": {
    "ExecuteTime": {
     "end_time": "2023-02-09T03:36:46.513511Z",
     "start_time": "2023-02-09T03:36:46.485563Z"
    }
   },
   "outputs": [
    {
     "data": {
      "text/html": [
       "<div>\n",
       "<style scoped>\n",
       "    .dataframe tbody tr th:only-of-type {\n",
       "        vertical-align: middle;\n",
       "    }\n",
       "\n",
       "    .dataframe tbody tr th {\n",
       "        vertical-align: top;\n",
       "    }\n",
       "\n",
       "    .dataframe thead th {\n",
       "        text-align: right;\n",
       "    }\n",
       "</style>\n",
       "<table border=\"1\" class=\"dataframe\">\n",
       "  <thead>\n",
       "    <tr style=\"text-align: right;\">\n",
       "      <th></th>\n",
       "      <th>alpha:0.001</th>\n",
       "      <th>alpha:0.01</th>\n",
       "      <th>alpha:1</th>\n",
       "      <th>alpha:10</th>\n",
       "      <th>alpha:100</th>\n",
       "      <th>alpha:500</th>\n",
       "      <th>alpha:1000</th>\n",
       "    </tr>\n",
       "  </thead>\n",
       "  <tbody>\n",
       "    <tr>\n",
       "      <th>0</th>\n",
       "      <td>-0.970813</td>\n",
       "      <td>-0.970750</td>\n",
       "      <td>-0.963941</td>\n",
       "      <td>-0.913628</td>\n",
       "      <td>-0.730491</td>\n",
       "      <td>-0.553225</td>\n",
       "      <td>-0.458642</td>\n",
       "    </tr>\n",
       "    <tr>\n",
       "      <th>1</th>\n",
       "      <td>1.057132</td>\n",
       "      <td>1.056982</td>\n",
       "      <td>1.040912</td>\n",
       "      <td>0.925262</td>\n",
       "      <td>0.594454</td>\n",
       "      <td>0.470234</td>\n",
       "      <td>0.413468</td>\n",
       "    </tr>\n",
       "    <tr>\n",
       "      <th>2</th>\n",
       "      <td>0.038287</td>\n",
       "      <td>0.038073</td>\n",
       "      <td>0.015328</td>\n",
       "      <td>-0.134694</td>\n",
       "      <td>-0.455731</td>\n",
       "      <td>-0.540009</td>\n",
       "      <td>-0.500884</td>\n",
       "    </tr>\n",
       "    <tr>\n",
       "      <th>3</th>\n",
       "      <td>-1.855113</td>\n",
       "      <td>-1.854797</td>\n",
       "      <td>-1.820796</td>\n",
       "      <td>-1.563287</td>\n",
       "      <td>-0.695337</td>\n",
       "      <td>-0.398986</td>\n",
       "      <td>-0.371470</td>\n",
       "    </tr>\n",
       "    <tr>\n",
       "      <th>4</th>\n",
       "      <td>2.573232</td>\n",
       "      <td>2.573346</td>\n",
       "      <td>2.585455</td>\n",
       "      <td>2.667242</td>\n",
       "      <td>2.679309</td>\n",
       "      <td>1.832447</td>\n",
       "      <td>1.304384</td>\n",
       "    </tr>\n",
       "    <tr>\n",
       "      <th>5</th>\n",
       "      <td>-0.087622</td>\n",
       "      <td>-0.087683</td>\n",
       "      <td>-0.094179</td>\n",
       "      <td>-0.139421</td>\n",
       "      <td>-0.246254</td>\n",
       "      <td>-0.307986</td>\n",
       "      <td>-0.317122</td>\n",
       "    </tr>\n",
       "    <tr>\n",
       "      <th>6</th>\n",
       "      <td>-2.880911</td>\n",
       "      <td>-2.880627</td>\n",
       "      <td>-2.849766</td>\n",
       "      <td>-2.599335</td>\n",
       "      <td>-1.420874</td>\n",
       "      <td>-0.373000</td>\n",
       "      <td>-0.085435</td>\n",
       "    </tr>\n",
       "    <tr>\n",
       "      <th>7</th>\n",
       "      <td>2.112174</td>\n",
       "      <td>2.111532</td>\n",
       "      <td>2.043179</td>\n",
       "      <td>1.574239</td>\n",
       "      <td>0.355633</td>\n",
       "      <td>-0.205155</td>\n",
       "      <td>-0.289031</td>\n",
       "    </tr>\n",
       "    <tr>\n",
       "      <th>8</th>\n",
       "      <td>-1.875267</td>\n",
       "      <td>-1.874687</td>\n",
       "      <td>-1.813213</td>\n",
       "      <td>-1.411243</td>\n",
       "      <td>-0.646447</td>\n",
       "      <td>-0.528550</td>\n",
       "      <td>-0.482927</td>\n",
       "    </tr>\n",
       "    <tr>\n",
       "      <th>9</th>\n",
       "      <td>-2.292760</td>\n",
       "      <td>-2.292695</td>\n",
       "      <td>-2.285645</td>\n",
       "      <td>-2.227769</td>\n",
       "      <td>-1.884899</td>\n",
       "      <td>-1.257527</td>\n",
       "      <td>-0.921966</td>\n",
       "    </tr>\n",
       "    <tr>\n",
       "      <th>10</th>\n",
       "      <td>0.718182</td>\n",
       "      <td>0.718201</td>\n",
       "      <td>0.720303</td>\n",
       "      <td>0.734618</td>\n",
       "      <td>0.727736</td>\n",
       "      <td>0.550035</td>\n",
       "      <td>0.436310</td>\n",
       "    </tr>\n",
       "    <tr>\n",
       "      <th>11</th>\n",
       "      <td>-3.592439</td>\n",
       "      <td>-3.592293</td>\n",
       "      <td>-3.576511</td>\n",
       "      <td>-3.447747</td>\n",
       "      <td>-2.723282</td>\n",
       "      <td>-1.666148</td>\n",
       "      <td>-1.200447</td>\n",
       "    </tr>\n",
       "    <tr>\n",
       "      <th>12</th>\n",
       "      <td>2.340732</td>\n",
       "      <td>2.340086</td>\n",
       "      <td>2.271298</td>\n",
       "      <td>1.800857</td>\n",
       "      <td>0.658395</td>\n",
       "      <td>0.219213</td>\n",
       "      <td>0.127925</td>\n",
       "    </tr>\n",
       "  </tbody>\n",
       "</table>\n",
       "</div>"
      ],
      "text/plain": [
       "    alpha:0.001  alpha:0.01   alpha:1  alpha:10  alpha:100  alpha:500  \\\n",
       "0     -0.970813   -0.970750 -0.963941 -0.913628  -0.730491  -0.553225   \n",
       "1      1.057132    1.056982  1.040912  0.925262   0.594454   0.470234   \n",
       "2      0.038287    0.038073  0.015328 -0.134694  -0.455731  -0.540009   \n",
       "3     -1.855113   -1.854797 -1.820796 -1.563287  -0.695337  -0.398986   \n",
       "4      2.573232    2.573346  2.585455  2.667242   2.679309   1.832447   \n",
       "5     -0.087622   -0.087683 -0.094179 -0.139421  -0.246254  -0.307986   \n",
       "6     -2.880911   -2.880627 -2.849766 -2.599335  -1.420874  -0.373000   \n",
       "7      2.112174    2.111532  2.043179  1.574239   0.355633  -0.205155   \n",
       "8     -1.875267   -1.874687 -1.813213 -1.411243  -0.646447  -0.528550   \n",
       "9     -2.292760   -2.292695 -2.285645 -2.227769  -1.884899  -1.257527   \n",
       "10     0.718182    0.718201  0.720303  0.734618   0.727736   0.550035   \n",
       "11    -3.592439   -3.592293 -3.576511 -3.447747  -2.723282  -1.666148   \n",
       "12     2.340732    2.340086  2.271298  1.800857   0.658395   0.219213   \n",
       "\n",
       "    alpha:1000  \n",
       "0    -0.458642  \n",
       "1     0.413468  \n",
       "2    -0.500884  \n",
       "3    -0.371470  \n",
       "4     1.304384  \n",
       "5    -0.317122  \n",
       "6    -0.085435  \n",
       "7    -0.289031  \n",
       "8    -0.482927  \n",
       "9    -0.921966  \n",
       "10    0.436310  \n",
       "11   -1.200447  \n",
       "12    0.127925  "
      ]
     },
     "execution_count": 147,
     "metadata": {},
     "output_type": "execute_result"
    }
   ],
   "source": [
    "coef_df"
   ]
  },
  {
   "cell_type": "markdown",
   "metadata": {
    "slideshow": {
     "slide_type": "slide"
    }
   },
   "source": [
    "## Lasso(Least Absolut Shrinkage and Selection Operator) Regression (L1 규제)\n",
    "\n",
    "- 손실함수에 규제항으로 $\\alpha \\sum_{i=1}^{n}{\\left| w_i \\right|}$ (L1 Norm)더한다.\n",
    "- Lasso 회귀의 상대적으로 덜 중요한 특성의 가중치를 0으로 만들어 자동으로 Feature Selection이 된다.\n",
    "\n",
    "$$\n",
    "\\text{손실함수}(w) = \\text{MSE}(w) + \\alpha \\sum_{i=1}^{n}{\\left| w_i \\right|}\n",
    "$$"
   ]
  },
  {
   "cell_type": "code",
   "execution_count": 98,
   "metadata": {
    "ExecuteTime": {
     "end_time": "2023-02-09T03:25:15.899186Z",
     "start_time": "2023-02-09T03:25:15.862130Z"
    }
   },
   "outputs": [],
   "source": [
    "alpha_list = [0.001, 0.01, 0.1, 1, 5, 10]\n",
    "coef_df2 = pd.DataFrame()\n",
    "for alpha in alpha_list:\n",
    "    \n",
    "    lasso = Lasso(alpha=alpha, random_state=0)\n",
    "    lasso.fit(X_train_scaled, y_train)\n",
    "    \n",
    "    coef_df2[f'alpha:{alpha}'] = lasso.coef_"
   ]
  },
  {
   "cell_type": "code",
   "execution_count": 99,
   "metadata": {
    "ExecuteTime": {
     "end_time": "2023-02-09T03:25:23.658894Z",
     "start_time": "2023-02-09T03:25:23.644250Z"
    }
   },
   "outputs": [
    {
     "data": {
      "text/html": [
       "<div>\n",
       "<style scoped>\n",
       "    .dataframe tbody tr th:only-of-type {\n",
       "        vertical-align: middle;\n",
       "    }\n",
       "\n",
       "    .dataframe tbody tr th {\n",
       "        vertical-align: top;\n",
       "    }\n",
       "\n",
       "    .dataframe thead th {\n",
       "        text-align: right;\n",
       "    }\n",
       "</style>\n",
       "<table border=\"1\" class=\"dataframe\">\n",
       "  <thead>\n",
       "    <tr style=\"text-align: right;\">\n",
       "      <th></th>\n",
       "      <th>alpha:0.001</th>\n",
       "      <th>alpha:0.01</th>\n",
       "      <th>alpha:0.1</th>\n",
       "      <th>alpha:1</th>\n",
       "      <th>alpha:5</th>\n",
       "      <th>alpha:10</th>\n",
       "    </tr>\n",
       "  </thead>\n",
       "  <tbody>\n",
       "    <tr>\n",
       "      <th>0</th>\n",
       "      <td>-1.013561</td>\n",
       "      <td>-0.978135</td>\n",
       "      <td>-0.672130</td>\n",
       "      <td>-0.000000</td>\n",
       "      <td>-0.000000</td>\n",
       "      <td>-0.0</td>\n",
       "    </tr>\n",
       "    <tr>\n",
       "      <th>1</th>\n",
       "      <td>1.056112</td>\n",
       "      <td>1.032260</td>\n",
       "      <td>0.755655</td>\n",
       "      <td>0.000000</td>\n",
       "      <td>0.000000</td>\n",
       "      <td>0.0</td>\n",
       "    </tr>\n",
       "    <tr>\n",
       "      <th>2</th>\n",
       "      <td>0.122418</td>\n",
       "      <td>-0.000000</td>\n",
       "      <td>-0.359696</td>\n",
       "      <td>-0.000000</td>\n",
       "      <td>-0.000000</td>\n",
       "      <td>-0.0</td>\n",
       "    </tr>\n",
       "    <tr>\n",
       "      <th>3</th>\n",
       "      <td>2.621480</td>\n",
       "      <td>2.652677</td>\n",
       "      <td>2.843868</td>\n",
       "      <td>2.540230</td>\n",
       "      <td>0.458712</td>\n",
       "      <td>0.0</td>\n",
       "    </tr>\n",
       "    <tr>\n",
       "      <th>4</th>\n",
       "      <td>-0.066996</td>\n",
       "      <td>-0.130191</td>\n",
       "      <td>-0.216903</td>\n",
       "      <td>-0.000000</td>\n",
       "      <td>-0.000000</td>\n",
       "      <td>-0.0</td>\n",
       "    </tr>\n",
       "    <tr>\n",
       "      <th>5</th>\n",
       "      <td>-2.906789</td>\n",
       "      <td>-2.760073</td>\n",
       "      <td>-1.788902</td>\n",
       "      <td>-0.000000</td>\n",
       "      <td>0.000000</td>\n",
       "      <td>0.0</td>\n",
       "    </tr>\n",
       "    <tr>\n",
       "      <th>6</th>\n",
       "      <td>2.281924</td>\n",
       "      <td>2.060978</td>\n",
       "      <td>0.516057</td>\n",
       "      <td>-0.000000</td>\n",
       "      <td>-0.000000</td>\n",
       "      <td>-0.0</td>\n",
       "    </tr>\n",
       "    <tr>\n",
       "      <th>7</th>\n",
       "      <td>-2.062555</td>\n",
       "      <td>-1.963454</td>\n",
       "      <td>-0.994019</td>\n",
       "      <td>-0.171496</td>\n",
       "      <td>-0.000000</td>\n",
       "      <td>-0.0</td>\n",
       "    </tr>\n",
       "    <tr>\n",
       "      <th>8</th>\n",
       "      <td>-2.350849</td>\n",
       "      <td>-2.272432</td>\n",
       "      <td>-1.963653</td>\n",
       "      <td>-1.784824</td>\n",
       "      <td>-0.000000</td>\n",
       "      <td>-0.0</td>\n",
       "    </tr>\n",
       "    <tr>\n",
       "      <th>9</th>\n",
       "      <td>0.772943</td>\n",
       "      <td>0.775990</td>\n",
       "      <td>0.712530</td>\n",
       "      <td>0.111061</td>\n",
       "      <td>0.000000</td>\n",
       "      <td>0.0</td>\n",
       "    </tr>\n",
       "    <tr>\n",
       "      <th>10</th>\n",
       "      <td>-3.605428</td>\n",
       "      <td>-3.618777</td>\n",
       "      <td>-3.704237</td>\n",
       "      <td>-3.585208</td>\n",
       "      <td>-1.688331</td>\n",
       "      <td>-0.0</td>\n",
       "    </tr>\n",
       "    <tr>\n",
       "      <th>11</th>\n",
       "      <td>-15.914146</td>\n",
       "      <td>-12.628350</td>\n",
       "      <td>-0.000000</td>\n",
       "      <td>-0.000000</td>\n",
       "      <td>-0.000000</td>\n",
       "      <td>-0.0</td>\n",
       "    </tr>\n",
       "  </tbody>\n",
       "</table>\n",
       "</div>"
      ],
      "text/plain": [
       "    alpha:0.001  alpha:0.01  alpha:0.1   alpha:1   alpha:5  alpha:10\n",
       "0     -1.013561   -0.978135  -0.672130 -0.000000 -0.000000      -0.0\n",
       "1      1.056112    1.032260   0.755655  0.000000  0.000000       0.0\n",
       "2      0.122418   -0.000000  -0.359696 -0.000000 -0.000000      -0.0\n",
       "3      2.621480    2.652677   2.843868  2.540230  0.458712       0.0\n",
       "4     -0.066996   -0.130191  -0.216903 -0.000000 -0.000000      -0.0\n",
       "5     -2.906789   -2.760073  -1.788902 -0.000000  0.000000       0.0\n",
       "6      2.281924    2.060978   0.516057 -0.000000 -0.000000      -0.0\n",
       "7     -2.062555   -1.963454  -0.994019 -0.171496 -0.000000      -0.0\n",
       "8     -2.350849   -2.272432  -1.963653 -1.784824 -0.000000      -0.0\n",
       "9      0.772943    0.775990   0.712530  0.111061  0.000000       0.0\n",
       "10    -3.605428   -3.618777  -3.704237 -3.585208 -1.688331      -0.0\n",
       "11   -15.914146  -12.628350  -0.000000 -0.000000 -0.000000      -0.0"
      ]
     },
     "execution_count": 99,
     "metadata": {},
     "output_type": "execute_result"
    }
   ],
   "source": [
    "coef_df2"
   ]
  },
  {
   "cell_type": "markdown",
   "metadata": {},
   "source": [
    "### PolynormialFeatures로 전처리한 Boston Dataset 에 Ridge, Lasso 규제 적용"
   ]
  },
  {
   "cell_type": "code",
   "execution_count": 148,
   "metadata": {
    "ExecuteTime": {
     "end_time": "2023-02-09T03:36:57.296054Z",
     "start_time": "2023-02-09T03:36:57.284441Z"
    }
   },
   "outputs": [
    {
     "data": {
      "text/plain": [
       "(404, 104)"
      ]
     },
     "execution_count": 148,
     "metadata": {},
     "output_type": "execute_result"
    }
   ],
   "source": [
    "X_train_scaled_poly.shape"
   ]
  },
  {
   "cell_type": "markdown",
   "metadata": {
    "slideshow": {
     "slide_type": "fragment"
    }
   },
   "source": [
    "##### LinearRegression으로 평가"
   ]
  },
  {
   "cell_type": "code",
   "execution_count": 151,
   "metadata": {
    "ExecuteTime": {
     "end_time": "2023-02-09T05:10:13.531883Z",
     "start_time": "2023-02-09T05:10:13.494175Z"
    }
   },
   "outputs": [
    {
     "name": "stdout",
     "output_type": "stream",
     "text": [
      "LinearRegress: Train set\n",
      "MSE: 4.340, RMSE: 2.083, MAE: 1.617, r2: 0.949\n",
      "LinearRegress: Test set\n",
      "MSE: 31.278, RMSE: 5.593, MAE: 3.328, r2: 0.616\n"
     ]
    }
   ],
   "source": [
    "from sklearn.linear_model import LinearRegression, Ridge, Lasso\n",
    "lr = LinearRegression()\n",
    "lr.fit(X_train_scaled_poly, y_train)\n",
    "\n",
    "pmr(y_train, lr.predict(X_train_scaled_poly), \"LinearRegress: Train set\")\n",
    "pmr(y_test, lr.predict(X_test_scaled_poly), \"LinearRegress: Test set\")"
   ]
  },
  {
   "cell_type": "markdown",
   "metadata": {
    "slideshow": {
     "slide_type": "fragment"
    }
   },
   "source": [
    "##### Ridge 의 alpha값 변화에 따른 R square 확인"
   ]
  },
  {
   "cell_type": "code",
   "execution_count": 153,
   "metadata": {
    "ExecuteTime": {
     "end_time": "2023-02-09T05:18:00.146464Z",
     "start_time": "2023-02-09T05:18:00.063337Z"
    }
   },
   "outputs": [
    {
     "name": "stdout",
     "output_type": "stream",
     "text": [
      "-------alpha: 0.001------------------------------\n",
      "MSE: 4.346, RMSE: 2.085, MAE: 1.618, r2: 0.949\n",
      "MSE: 30.982, RMSE: 5.566, MAE: 3.316, r2: 0.620\n",
      "-------alpha: 0.01------------------------------\n",
      "MSE: 4.365, RMSE: 2.089, MAE: 1.622, r2: 0.949\n",
      "MSE: 30.209, RMSE: 5.496, MAE: 3.292, r2: 0.629\n",
      "-------alpha: 1------------------------------\n",
      "MSE: 4.785, RMSE: 2.187, MAE: 1.674, r2: 0.944\n",
      "MSE: 19.273, RMSE: 4.390, MAE: 3.004, r2: 0.763\n",
      "-------alpha: 10------------------------------\n",
      "MSE: 5.738, RMSE: 2.395, MAE: 1.775, r2: 0.933\n",
      "MSE: 19.074, RMSE: 4.367, MAE: 2.880, r2: 0.766\n",
      "-------alpha: 100------------------------------\n",
      "MSE: 8.970, RMSE: 2.995, MAE: 2.070, r2: 0.895\n",
      "MSE: 23.437, RMSE: 4.841, MAE: 2.929, r2: 0.712\n",
      "-------alpha: 500------------------------------\n",
      "MSE: 16.921, RMSE: 4.113, MAE: 2.765, r2: 0.801\n",
      "MSE: 32.884, RMSE: 5.734, MAE: 3.641, r2: 0.596\n",
      "-------alpha: 1000------------------------------\n",
      "MSE: 22.867, RMSE: 4.782, MAE: 3.293, r2: 0.731\n",
      "MSE: 38.877, RMSE: 6.235, MAE: 4.106, r2: 0.523\n"
     ]
    }
   ],
   "source": [
    "from sklearn.metrics import r2_score\n",
    "alpha_list = [0.001, 0.01, 1, 10, 100, 500, 1000]\n",
    "train_r2_list = []\n",
    "test_r2_list = []\n",
    "for alpha in alpha_list:\n",
    "    ridge = Ridge(alpha=alpha, random_state=0)\n",
    "    ridge.fit(X_train_scaled_poly, y_train)\n",
    "    train_pred = ridge.predict(X_train_scaled_poly)\n",
    "    test_pred = ridge.predict(X_test_scaled_poly)\n",
    "    print(f\"-------alpha: {alpha}------------------------------\")\n",
    "    pmr(y_train, train_pred)\n",
    "    pmr(y_test, test_pred)\n",
    "    train_r2_list.append(r2_score(y_train, train_pred))\n",
    "    test_r2_list.append(r2_score(y_test, test_pred))\n",
    "    "
   ]
  },
  {
   "cell_type": "code",
   "execution_count": 156,
   "metadata": {
    "ExecuteTime": {
     "end_time": "2023-02-09T05:20:59.210135Z",
     "start_time": "2023-02-09T05:20:59.183266Z"
    }
   },
   "outputs": [
    {
     "data": {
      "text/html": [
       "<div>\n",
       "<style scoped>\n",
       "    .dataframe tbody tr th:only-of-type {\n",
       "        vertical-align: middle;\n",
       "    }\n",
       "\n",
       "    .dataframe tbody tr th {\n",
       "        vertical-align: top;\n",
       "    }\n",
       "\n",
       "    .dataframe thead th {\n",
       "        text-align: right;\n",
       "    }\n",
       "</style>\n",
       "<table border=\"1\" class=\"dataframe\">\n",
       "  <thead>\n",
       "    <tr style=\"text-align: right;\">\n",
       "      <th></th>\n",
       "      <th>train</th>\n",
       "      <th>test</th>\n",
       "    </tr>\n",
       "  </thead>\n",
       "  <tbody>\n",
       "    <tr>\n",
       "      <th>0.001</th>\n",
       "      <td>0.948953</td>\n",
       "      <td>0.619516</td>\n",
       "    </tr>\n",
       "    <tr>\n",
       "      <th>0.010</th>\n",
       "      <td>0.948736</td>\n",
       "      <td>0.629007</td>\n",
       "    </tr>\n",
       "    <tr>\n",
       "      <th>1.000</th>\n",
       "      <td>0.943805</td>\n",
       "      <td>0.763316</td>\n",
       "    </tr>\n",
       "    <tr>\n",
       "      <th>10.000</th>\n",
       "      <td>0.932608</td>\n",
       "      <td>0.765755</td>\n",
       "    </tr>\n",
       "    <tr>\n",
       "      <th>100.000</th>\n",
       "      <td>0.894646</td>\n",
       "      <td>0.712174</td>\n",
       "    </tr>\n",
       "    <tr>\n",
       "      <th>500.000</th>\n",
       "      <td>0.801270</td>\n",
       "      <td>0.596159</td>\n",
       "    </tr>\n",
       "    <tr>\n",
       "      <th>1000.000</th>\n",
       "      <td>0.731429</td>\n",
       "      <td>0.522564</td>\n",
       "    </tr>\n",
       "  </tbody>\n",
       "</table>\n",
       "</div>"
      ],
      "text/plain": [
       "             train      test\n",
       "0.001     0.948953  0.619516\n",
       "0.010     0.948736  0.629007\n",
       "1.000     0.943805  0.763316\n",
       "10.000    0.932608  0.765755\n",
       "100.000   0.894646  0.712174\n",
       "500.000   0.801270  0.596159\n",
       "1000.000  0.731429  0.522564"
      ]
     },
     "execution_count": 156,
     "metadata": {},
     "output_type": "execute_result"
    }
   ],
   "source": [
    "result = pd.DataFrame({\"train\":train_r2_list, \"test\":test_r2_list}, index=alpha_list)\n",
    "result"
   ]
  },
  {
   "cell_type": "code",
   "execution_count": 158,
   "metadata": {
    "ExecuteTime": {
     "end_time": "2023-02-09T05:22:05.981146Z",
     "start_time": "2023-02-09T05:22:05.822003Z"
    }
   },
   "outputs": [
    {
     "data": {
      "image/png": "[encoded data removed]",
      "text/plain": [
       "<Figure size 640x480 with 1 Axes>"
      ]
     },
     "metadata": {},
     "output_type": "display_data"
    }
   ],
   "source": [
    "plt.plot(np.log(result.index), result.train, label=\"train\")\n",
    "plt.plot(np.log(result.index), result.test, label=\"test\")\n",
    "plt.legend()\n",
    "plt.show()"
   ]
  },
  {
   "cell_type": "markdown",
   "metadata": {
    "slideshow": {
     "slide_type": "slide"
    }
   },
   "source": [
    "##### lasso 의 alpha값 변화에 따른 R square 확인"
   ]
  },
  {
   "cell_type": "code",
   "execution_count": 161,
   "metadata": {
    "ExecuteTime": {
     "end_time": "2023-02-09T05:31:53.138185Z",
     "start_time": "2023-02-09T05:31:52.936387Z"
    }
   },
   "outputs": [
    {
     "name": "stdout",
     "output_type": "stream",
     "text": [
      "----------alpha: 0.001----------------\n",
      "MSE: 4.420, RMSE: 2.102, MAE: 1.633, r2: 0.948\n",
      "MSE: 28.125, RMSE: 5.303, MAE: 3.222, r2: 0.655\n",
      "----------alpha: 0.01----------------\n",
      "MSE: 5.148, RMSE: 2.269, MAE: 1.721, r2: 0.940\n",
      "MSE: 19.052, RMSE: 4.365, MAE: 2.961, r2: 0.766\n",
      "----------alpha: 0.1----------------\n",
      "MSE: 8.302, RMSE: 2.881, MAE: 2.078, r2: 0.902\n",
      "MSE: 22.393, RMSE: 4.732, MAE: 2.827, r2: 0.725\n",
      "----------alpha: 1----------------\n",
      "MSE: 17.228, RMSE: 4.151, MAE: 2.876, r2: 0.798\n",
      "MSE: 28.936, RMSE: 5.379, MAE: 3.394, r2: 0.645\n",
      "----------alpha: 5----------------\n",
      "MSE: 54.732, RMSE: 7.398, MAE: 5.382, r2: 0.357\n",
      "MSE: 55.210, RMSE: 7.430, MAE: 5.009, r2: 0.322\n",
      "----------alpha: 10----------------\n",
      "MSE: 84.427, RMSE: 9.188, MAE: 6.742, r2: 0.008\n",
      "MSE: 80.566, RMSE: 8.976, MAE: 6.212, r2: 0.011\n"
     ]
    },
    {
     "name": "stderr",
     "output_type": "stream",
     "text": [
      "C:\\Users\\Playdata\\anaconda3\\envs\\ml\\lib\\site-packages\\sklearn\\linear_model\\_coordinate_descent.py:631: ConvergenceWarning: Objective did not converge. You might want to increase the number of iterations, check the scale of the features or consider increasing regularisation. Duality gap: 1.414e+02, tolerance: 3.440e+00\n",
      "  model = cd_fast.enet_coordinate_descent(\n"
     ]
    }
   ],
   "source": [
    "alpha_list = [0.001, 0.01, 0.1, 1, 5, 10]\n",
    "\n",
    "train_r2_list_lasso = []\n",
    "test_r2_list_lasso = []\n",
    "\n",
    "for alpha in alpha_list:\n",
    "    lasso = Lasso(alpha=alpha, random_state=0, max_iter=3000)\n",
    "    lasso.fit(X_train_scaled_poly, y_train)\n",
    "    \n",
    "    train_pred2 = lasso.predict(X_train_scaled_poly)\n",
    "    test_pred2 = lasso.predict(X_test_scaled_poly)\n",
    "    \n",
    "    print(f'----------alpha: {alpha}----------------')\n",
    "    pmr(y_train, train_pred2)\n",
    "    pmr(y_test, test_pred2)\n",
    "    \n",
    "    train_r2_list_lasso.append(r2_score(y_train, train_pred2))\n",
    "    test_r2_list_lasso.append(r2_score(y_test, test_pred2))"
   ]
  },
  {
   "cell_type": "code",
   "execution_count": 162,
   "metadata": {
    "ExecuteTime": {
     "end_time": "2023-02-09T05:33:44.621300Z",
     "start_time": "2023-02-09T05:33:44.598186Z"
    }
   },
   "outputs": [
    {
     "data": {
      "text/html": [
       "<div>\n",
       "<style scoped>\n",
       "    .dataframe tbody tr th:only-of-type {\n",
       "        vertical-align: middle;\n",
       "    }\n",
       "\n",
       "    .dataframe tbody tr th {\n",
       "        vertical-align: top;\n",
       "    }\n",
       "\n",
       "    .dataframe thead th {\n",
       "        text-align: right;\n",
       "    }\n",
       "</style>\n",
       "<table border=\"1\" class=\"dataframe\">\n",
       "  <thead>\n",
       "    <tr style=\"text-align: right;\">\n",
       "      <th></th>\n",
       "      <th>train</th>\n",
       "      <th>test</th>\n",
       "    </tr>\n",
       "  </thead>\n",
       "  <tbody>\n",
       "    <tr>\n",
       "      <th>0.001</th>\n",
       "      <td>0.948087</td>\n",
       "      <td>0.654600</td>\n",
       "    </tr>\n",
       "    <tr>\n",
       "      <th>0.010</th>\n",
       "      <td>0.939534</td>\n",
       "      <td>0.766032</td>\n",
       "    </tr>\n",
       "    <tr>\n",
       "      <th>0.100</th>\n",
       "      <td>0.902491</td>\n",
       "      <td>0.724998</td>\n",
       "    </tr>\n",
       "    <tr>\n",
       "      <th>1.000</th>\n",
       "      <td>0.797664</td>\n",
       "      <td>0.644639</td>\n",
       "    </tr>\n",
       "    <tr>\n",
       "      <th>5.000</th>\n",
       "      <td>0.357183</td>\n",
       "      <td>0.321981</td>\n",
       "    </tr>\n",
       "    <tr>\n",
       "      <th>10.000</th>\n",
       "      <td>0.008417</td>\n",
       "      <td>0.010590</td>\n",
       "    </tr>\n",
       "  </tbody>\n",
       "</table>\n",
       "</div>"
      ],
      "text/plain": [
       "           train      test\n",
       "0.001   0.948087  0.654600\n",
       "0.010   0.939534  0.766032\n",
       "0.100   0.902491  0.724998\n",
       "1.000   0.797664  0.644639\n",
       "5.000   0.357183  0.321981\n",
       "10.000  0.008417  0.010590"
      ]
     },
     "execution_count": 162,
     "metadata": {},
     "output_type": "execute_result"
    }
   ],
   "source": [
    "result = pd.DataFrame({\"train\":train_r2_list_lasso, \"test\":test_r2_list_lasso}, index=alpha_list)\n",
    "result"
   ]
  },
  {
   "cell_type": "code",
   "execution_count": 163,
   "metadata": {
    "ExecuteTime": {
     "end_time": "2023-02-09T05:35:12.931703Z",
     "start_time": "2023-02-09T05:35:12.779053Z"
    }
   },
   "outputs": [
    {
     "data": {
      "image/png": "[encoded data removed]",
      "text/plain": [
       "<Figure size 640x480 with 1 Axes>"
      ]
     },
     "metadata": {},
     "output_type": "display_data"
    }
   ],
   "source": [
    "plt.plot(np.log(result.index), result.train, label=\"train\")\n",
    "plt.plot(np.log(result.index), result.test, label=\"test\")\n",
    "plt.legend()\n",
    "plt.show()"
   ]
  },
  {
   "cell_type": "markdown",
   "metadata": {
    "slideshow": {
     "slide_type": "slide"
    }
   },
   "source": [
    "## ElasticNet(엘라스틱넷)\n",
    "- 릿지와 라쏘를 절충한 모델.\n",
    "- 규제항에 릿지, 라쏘 규제항을 더해서 추가한다. \n",
    "- 혼합비율 $r$을 사용해 혼합정도를 조절\n",
    "- $r=0$이면 릿지와 같고 $r=1$이면 라쏘와 같다.\n",
    "\n",
    "$$\n",
    "\\text{손실함수}(w) = \\text{MSE}(w) + r\\alpha \\sum_{i=1}^{n}{\\left| w_i \\right|}  + \\cfrac{1-r}{2}\\alpha\\sum_{i=1}^{n}{w_{i}^{2}}\n",
    "$$"
   ]
  },
  {
   "cell_type": "code",
   "execution_count": 164,
   "metadata": {
    "ExecuteTime": {
     "end_time": "2023-02-09T05:42:35.782324Z",
     "start_time": "2023-02-09T05:42:32.455359Z"
    },
    "collapsed": true
   },
   "outputs": [
    {
     "data": {
      "text/html": [
       "<style>#sk-container-id-11 {color: black;background-color: white;}#sk-container-id-11 pre{padding: 0;}#sk-container-id-11 div.sk-toggleable {background-color: white;}#sk-container-id-11 label.sk-toggleable__label {cursor: pointer;display: block;width: 100%;margin-bottom: 0;padding: 0.3em;box-sizing: border-box;text-align: center;}#sk-container-id-11 label.sk-toggleable__label-arrow:before {content: \"▸\";float: left;margin-right: 0.25em;color: #696969;}#sk-container-id-11 label.sk-toggleable__label-arrow:hover:before {color: black;}#sk-container-id-11 div.sk-estimator:hover label.sk-toggleable__label-arrow:before {color: black;}#sk-container-id-11 div.sk-toggleable__content {max-height: 0;max-width: 0;overflow: hidden;text-align: left;background-color: #f0f8ff;}#sk-container-id-11 div.sk-toggleable__content pre {margin: 0.2em;color: black;border-radius: 0.25em;background-color: #f0f8ff;}#sk-container-id-11 input.sk-toggleable__control:checked~div.sk-toggleable__content {max-height: 200px;max-width: 100%;overflow: auto;}#sk-container-id-11 input.sk-toggleable__control:checked~label.sk-toggleable__label-arrow:before {content: \"▾\";}#sk-container-id-11 div.sk-estimator input.sk-toggleable__control:checked~label.sk-toggleable__label {background-color: #d4ebff;}#sk-container-id-11 div.sk-label input.sk-toggleable__control:checked~label.sk-toggleable__label {background-color: #d4ebff;}#sk-container-id-11 input.sk-hidden--visually {border: 0;clip: rect(1px 1px 1px 1px);clip: rect(1px, 1px, 1px, 1px);height: 1px;margin: -1px;overflow: hidden;padding: 0;position: absolute;width: 1px;}#sk-container-id-11 div.sk-estimator {font-family: monospace;background-color: #f0f8ff;border: 1px dotted black;border-radius: 0.25em;box-sizing: border-box;margin-bottom: 0.5em;}#sk-container-id-11 div.sk-estimator:hover {background-color: #d4ebff;}#sk-container-id-11 div.sk-parallel-item::after {content: \"\";width: 100%;border-bottom: 1px solid gray;flex-grow: 1;}#sk-container-id-11 div.sk-label:hover label.sk-toggleable__label {background-color: #d4ebff;}#sk-container-id-11 div.sk-serial::before {content: \"\";position: absolute;border-left: 1px solid gray;box-sizing: border-box;top: 0;bottom: 0;left: 50%;z-index: 0;}#sk-container-id-11 div.sk-serial {display: flex;flex-direction: column;align-items: center;background-color: white;padding-right: 0.2em;padding-left: 0.2em;position: relative;}#sk-container-id-11 div.sk-item {position: relative;z-index: 1;}#sk-container-id-11 div.sk-parallel {display: flex;align-items: stretch;justify-content: center;background-color: white;position: relative;}#sk-container-id-11 div.sk-item::before, #sk-container-id-11 div.sk-parallel-item::before {content: \"\";position: absolute;border-left: 1px solid gray;box-sizing: border-box;top: 0;bottom: 0;left: 50%;z-index: -1;}#sk-container-id-11 div.sk-parallel-item {display: flex;flex-direction: column;z-index: 1;position: relative;background-color: white;}#sk-container-id-11 div.sk-parallel-item:first-child::after {align-self: flex-end;width: 50%;}#sk-container-id-11 div.sk-parallel-item:last-child::after {align-self: flex-start;width: 50%;}#sk-container-id-11 div.sk-parallel-item:only-child::after {width: 0;}#sk-container-id-11 div.sk-dashed-wrapped {border: 1px dashed gray;margin: 0 0.4em 0.5em 0.4em;box-sizing: border-box;padding-bottom: 0.4em;background-color: white;}#sk-container-id-11 div.sk-label label {font-family: monospace;font-weight: bold;display: inline-block;line-height: 1.2em;}#sk-container-id-11 div.sk-label-container {text-align: center;}#sk-container-id-11 div.sk-container {/* jupyter's `normalize.less` sets `[hidden] { display: none; }` but bootstrap.min.css set `[hidden] { display: none !important; }` so we also need the `!important` here to be able to override the default hidden behavior on the sphinx rendered scikit-learn.org. See: https://github.com/scikit-learn/scikit-learn/issues/21755 */display: inline-block !important;position: relative;}#sk-container-id-11 div.sk-text-repr-fallback {display: none;}</style><div id=\"sk-container-id-11\" class=\"sk-top-container\"><div class=\"sk-text-repr-fallback\"><pre>GridSearchCV(cv=4, estimator=ElasticNet(random_state=0), n_jobs=-1,\n",
       "             param_grid={&#x27;alpha&#x27;: [0.1, 1, 10, 50, 100, 500],\n",
       "                         &#x27;l1_ratio&#x27;: [0.1, 0.2, 0.3, 0.4, 0.5, 0.6, 0.7, 0.8,\n",
       "                                      0.9]},\n",
       "             scoring=&#x27;r2&#x27;)</pre><b>In a Jupyter environment, please rerun this cell to show the HTML representation or trust the notebook. <br />On GitHub, the HTML representation is unable to render, please try loading this page with nbviewer.org.</b></div><div class=\"sk-container\" hidden><div class=\"sk-item sk-dashed-wrapped\"><div class=\"sk-label-container\"><div class=\"sk-label sk-toggleable\"><input class=\"sk-toggleable__control sk-hidden--visually\" id=\"sk-estimator-id-11\" type=\"checkbox\" ><label for=\"sk-estimator-id-11\" class=\"sk-toggleable__label sk-toggleable__label-arrow\">GridSearchCV</label><div class=\"sk-toggleable__content\"><pre>GridSearchCV(cv=4, estimator=ElasticNet(random_state=0), n_jobs=-1,\n",
       "             param_grid={&#x27;alpha&#x27;: [0.1, 1, 10, 50, 100, 500],\n",
       "                         &#x27;l1_ratio&#x27;: [0.1, 0.2, 0.3, 0.4, 0.5, 0.6, 0.7, 0.8,\n",
       "                                      0.9]},\n",
       "             scoring=&#x27;r2&#x27;)</pre></div></div></div><div class=\"sk-parallel\"><div class=\"sk-parallel-item\"><div class=\"sk-item\"><div class=\"sk-label-container\"><div class=\"sk-label sk-toggleable\"><input class=\"sk-toggleable__control sk-hidden--visually\" id=\"sk-estimator-id-12\" type=\"checkbox\" ><label for=\"sk-estimator-id-12\" class=\"sk-toggleable__label sk-toggleable__label-arrow\">estimator: ElasticNet</label><div class=\"sk-toggleable__content\"><pre>ElasticNet(random_state=0)</pre></div></div></div><div class=\"sk-serial\"><div class=\"sk-item\"><div class=\"sk-estimator sk-toggleable\"><input class=\"sk-toggleable__control sk-hidden--visually\" id=\"sk-estimator-id-13\" type=\"checkbox\" ><label for=\"sk-estimator-id-13\" class=\"sk-toggleable__label sk-toggleable__label-arrow\">ElasticNet</label><div class=\"sk-toggleable__content\"><pre>ElasticNet(random_state=0)</pre></div></div></div></div></div></div></div></div></div></div>"
      ],
      "text/plain": [
       "GridSearchCV(cv=4, estimator=ElasticNet(random_state=0), n_jobs=-1,\n",
       "             param_grid={'alpha': [0.1, 1, 10, 50, 100, 500],\n",
       "                         'l1_ratio': [0.1, 0.2, 0.3, 0.4, 0.5, 0.6, 0.7, 0.8,\n",
       "                                      0.9]},\n",
       "             scoring='r2')"
      ]
     },
     "execution_count": 164,
     "metadata": {},
     "output_type": "execute_result"
    }
   ],
   "source": [
    "from sklearn.linear_model import ElasticNet\n",
    "from sklearn.model_selection import GridSearchCV\n",
    "\n",
    "r_list = [0.1, 0.2, 0.3, 0.4, 0.5, 0.6, 0.7, 0.8, 0.9]\n",
    "alpha_list = [0.1, 1, 10, 50, 100, 500]\n",
    "\n",
    "e_net = ElasticNet(random_state=0)\n",
    "params = {\n",
    "    \"l1_ratio\":r_list, \n",
    "    \"alpha\":alpha_list\n",
    "}\n",
    "gs = GridSearchCV(e_net, \n",
    "                 params, \n",
    "                 scoring='r2', \n",
    "                 cv=4, \n",
    "                 n_jobs=-1)\n",
    "gs.fit(X_train_scaled_poly, y_train)"
   ]
  },
  {
   "cell_type": "code",
   "execution_count": 165,
   "metadata": {
    "ExecuteTime": {
     "end_time": "2023-02-09T05:43:08.711475Z",
     "start_time": "2023-02-09T05:43:08.701493Z"
    }
   },
   "outputs": [
    {
     "data": {
      "text/plain": [
       "{'alpha': 0.1, 'l1_ratio': 0.2}"
      ]
     },
     "execution_count": 165,
     "metadata": {},
     "output_type": "execute_result"
    }
   ],
   "source": [
    "gs.best_params_"
   ]
  },
  {
   "cell_type": "code",
   "execution_count": 166,
   "metadata": {
    "ExecuteTime": {
     "end_time": "2023-02-09T05:43:47.340245Z",
     "start_time": "2023-02-09T05:43:47.325694Z"
    }
   },
   "outputs": [
    {
     "data": {
      "text/plain": [
       "0.8565972907373953"
      ]
     },
     "execution_count": 166,
     "metadata": {},
     "output_type": "execute_result"
    }
   ],
   "source": [
    "gs.best_score_"
   ]
  },
  {
   "cell_type": "code",
   "execution_count": 167,
   "metadata": {
    "ExecuteTime": {
     "end_time": "2023-02-09T05:44:28.012442Z",
     "start_time": "2023-02-09T05:44:27.990290Z"
    },
    "collapsed": true
   },
   "outputs": [
    {
     "data": {
      "text/html": [
       "<div>\n",
       "<style scoped>\n",
       "    .dataframe tbody tr th:only-of-type {\n",
       "        vertical-align: middle;\n",
       "    }\n",
       "\n",
       "    .dataframe tbody tr th {\n",
       "        vertical-align: top;\n",
       "    }\n",
       "\n",
       "    .dataframe thead th {\n",
       "        text-align: right;\n",
       "    }\n",
       "</style>\n",
       "<table border=\"1\" class=\"dataframe\">\n",
       "  <thead>\n",
       "    <tr style=\"text-align: right;\">\n",
       "      <th></th>\n",
       "      <th>mean_fit_time</th>\n",
       "      <th>std_fit_time</th>\n",
       "      <th>mean_score_time</th>\n",
       "      <th>std_score_time</th>\n",
       "      <th>param_alpha</th>\n",
       "      <th>param_l1_ratio</th>\n",
       "      <th>params</th>\n",
       "      <th>split0_test_score</th>\n",
       "      <th>split1_test_score</th>\n",
       "      <th>split2_test_score</th>\n",
       "      <th>split3_test_score</th>\n",
       "      <th>mean_test_score</th>\n",
       "      <th>std_test_score</th>\n",
       "      <th>rank_test_score</th>\n",
       "    </tr>\n",
       "  </thead>\n",
       "  <tbody>\n",
       "    <tr>\n",
       "      <th>1</th>\n",
       "      <td>0.008640</td>\n",
       "      <td>0.002134</td>\n",
       "      <td>0.001322</td>\n",
       "      <td>0.000416</td>\n",
       "      <td>0.1</td>\n",
       "      <td>0.2</td>\n",
       "      <td>{'alpha': 0.1, 'l1_ratio': 0.2}</td>\n",
       "      <td>0.899531</td>\n",
       "      <td>0.787799</td>\n",
       "      <td>0.830967</td>\n",
       "      <td>0.908093</td>\n",
       "      <td>0.856597</td>\n",
       "      <td>0.049712</td>\n",
       "      <td>1</td>\n",
       "    </tr>\n",
       "    <tr>\n",
       "      <th>0</th>\n",
       "      <td>0.013712</td>\n",
       "      <td>0.011494</td>\n",
       "      <td>0.001111</td>\n",
       "      <td>0.000182</td>\n",
       "      <td>0.1</td>\n",
       "      <td>0.1</td>\n",
       "      <td>{'alpha': 0.1, 'l1_ratio': 0.1}</td>\n",
       "      <td>0.899079</td>\n",
       "      <td>0.790348</td>\n",
       "      <td>0.825952</td>\n",
       "      <td>0.909039</td>\n",
       "      <td>0.856105</td>\n",
       "      <td>0.049704</td>\n",
       "      <td>2</td>\n",
       "    </tr>\n",
       "    <tr>\n",
       "      <th>2</th>\n",
       "      <td>0.015590</td>\n",
       "      <td>0.004818</td>\n",
       "      <td>0.003896</td>\n",
       "      <td>0.005046</td>\n",
       "      <td>0.1</td>\n",
       "      <td>0.3</td>\n",
       "      <td>{'alpha': 0.1, 'l1_ratio': 0.3}</td>\n",
       "      <td>0.899428</td>\n",
       "      <td>0.785110</td>\n",
       "      <td>0.831945</td>\n",
       "      <td>0.906495</td>\n",
       "      <td>0.855744</td>\n",
       "      <td>0.050099</td>\n",
       "      <td>3</td>\n",
       "    </tr>\n",
       "    <tr>\n",
       "      <th>3</th>\n",
       "      <td>0.012954</td>\n",
       "      <td>0.006057</td>\n",
       "      <td>0.003158</td>\n",
       "      <td>0.002544</td>\n",
       "      <td>0.1</td>\n",
       "      <td>0.4</td>\n",
       "      <td>{'alpha': 0.1, 'l1_ratio': 0.4}</td>\n",
       "      <td>0.899368</td>\n",
       "      <td>0.782194</td>\n",
       "      <td>0.830459</td>\n",
       "      <td>0.904659</td>\n",
       "      <td>0.854170</td>\n",
       "      <td>0.050830</td>\n",
       "      <td>4</td>\n",
       "    </tr>\n",
       "    <tr>\n",
       "      <th>4</th>\n",
       "      <td>0.007706</td>\n",
       "      <td>0.002450</td>\n",
       "      <td>0.002155</td>\n",
       "      <td>0.001206</td>\n",
       "      <td>0.1</td>\n",
       "      <td>0.5</td>\n",
       "      <td>{'alpha': 0.1, 'l1_ratio': 0.5}</td>\n",
       "      <td>0.898742</td>\n",
       "      <td>0.778316</td>\n",
       "      <td>0.829445</td>\n",
       "      <td>0.902813</td>\n",
       "      <td>0.852329</td>\n",
       "      <td>0.051731</td>\n",
       "      <td>5</td>\n",
       "    </tr>\n",
       "  </tbody>\n",
       "</table>\n",
       "</div>"
      ],
      "text/plain": [
       "   mean_fit_time  std_fit_time  mean_score_time  std_score_time param_alpha  \\\n",
       "1       0.008640      0.002134         0.001322        0.000416         0.1   \n",
       "0       0.013712      0.011494         0.001111        0.000182         0.1   \n",
       "2       0.015590      0.004818         0.003896        0.005046         0.1   \n",
       "3       0.012954      0.006057         0.003158        0.002544         0.1   \n",
       "4       0.007706      0.002450         0.002155        0.001206         0.1   \n",
       "\n",
       "  param_l1_ratio                           params  split0_test_score  \\\n",
       "1            0.2  {'alpha': 0.1, 'l1_ratio': 0.2}           0.899531   \n",
       "0            0.1  {'alpha': 0.1, 'l1_ratio': 0.1}           0.899079   \n",
       "2            0.3  {'alpha': 0.1, 'l1_ratio': 0.3}           0.899428   \n",
       "3            0.4  {'alpha': 0.1, 'l1_ratio': 0.4}           0.899368   \n",
       "4            0.5  {'alpha': 0.1, 'l1_ratio': 0.5}           0.898742   \n",
       "\n",
       "   split1_test_score  split2_test_score  split3_test_score  mean_test_score  \\\n",
       "1           0.787799           0.830967           0.908093         0.856597   \n",
       "0           0.790348           0.825952           0.909039         0.856105   \n",
       "2           0.785110           0.831945           0.906495         0.855744   \n",
       "3           0.782194           0.830459           0.904659         0.854170   \n",
       "4           0.778316           0.829445           0.902813         0.852329   \n",
       "\n",
       "   std_test_score  rank_test_score  \n",
       "1        0.049712                1  \n",
       "0        0.049704                2  \n",
       "2        0.050099                3  \n",
       "3        0.050830                4  \n",
       "4        0.051731                5  "
      ]
     },
     "execution_count": 167,
     "metadata": {},
     "output_type": "execute_result"
    }
   ],
   "source": [
    "result_df = pd.DataFrame(gs.cv_results_)\n",
    "result_df.sort_values('rank_test_score').head()"
   ]
  },
  {
   "cell_type": "code",
   "execution_count": 168,
   "metadata": {
    "ExecuteTime": {
     "end_time": "2023-02-09T05:45:38.086447Z",
     "start_time": "2023-02-09T05:45:38.076808Z"
    }
   },
   "outputs": [
    {
     "data": {
      "text/plain": [
       "0.7425220273454194"
      ]
     },
     "execution_count": 168,
     "metadata": {},
     "output_type": "execute_result"
    }
   ],
   "source": [
    "r2_score(y_test, gs.predict(X_test_scaled_poly))"
   ]
  },
  {
   "cell_type": "markdown",
   "metadata": {
    "slideshow": {
     "slide_type": "slide"
    }
   },
   "source": [
    "# 정리\n",
    "- 일반적으로 선형회귀의 경우 어느정도 규제가 있는 경우가 성능이 좋다.\n",
    "- 기본적으로 **Ridge**를 사용한다.\n",
    "- Target에 영향을 주는 Feature가 몇 개뿐일 경우 특성의 가중치를 0으로 만들어 주는 **Lasso** 사용한다. \n",
    "- 특성 수가 학습 샘플 수 보다 많거나 feature간에 연관성이 높을 때는 **ElasticNet**을 사용한다."
   ]
  }
 ],
 "metadata": {
  "kernelspec": {
   "display_name": "Python 3 (ipykernel)",
   "language": "python",
   "name": "python3"
  },
  "language_info": {
   "codemirror_mode": {
    "name": "ipython",
    "version": 3
   },
   "file_extension": ".py",
   "mimetype": "text/x-python",
   "name": "python",
   "nbconvert_exporter": "python",
   "pygments_lexer": "ipython3",
   "version": "3.9.15"
  },
  "toc": {
   "base_numbering": 1,
   "nav_menu": {},
   "number_sections": false,
   "sideBar": true,
   "skip_h1_title": false,
   "title_cell": "Table of Contents",
   "title_sidebar": "Contents",
   "toc_cell": false,
   "toc_position": {},
   "toc_section_display": true,
   "toc_window_display": false
  },
  "varInspector": {
   "cols": {
    "lenName": 16,
    "lenType": 16,
    "lenVar": 40
   },
   "kernels_config": {
    "python": {
     "delete_cmd_postfix": "",
     "delete_cmd_prefix": "del ",
     "library": "var_list.py",
     "varRefreshCmd": "print(var_dic_list())"
    },
    "r": {
     "delete_cmd_postfix": ") ",
     "delete_cmd_prefix": "rm(",
     "library": "var_list.r",
     "varRefreshCmd": "cat(var_dic_list()) "
    }
   },
   "types_to_exclude": [
    "module",
    "function",
    "builtin_function_or_method",
    "instance",
    "_Feature"
   ],
   "window_display": false
  }
 },
 "nbformat": 4,
 "nbformat_minor": 4
}
