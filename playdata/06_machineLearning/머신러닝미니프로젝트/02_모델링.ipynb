{
 "cells": [
  {
   "cell_type": "code",
   "execution_count": 1,
   "metadata": {
    "ExecuteTime": {
     "end_time": "2022-09-19T01:28:27.875575Z",
     "start_time": "2022-09-19T01:28:27.867241Z"
    }
   },
   "outputs": [],
   "source": [
    "# 경고(Warning)가 출력되지 않도록 설정.\n",
    "import warnings\n",
    "warnings.filterwarnings(action='ignore')"
   ]
  },
  {
   "cell_type": "code",
   "execution_count": 2,
   "metadata": {
    "ExecuteTime": {
     "end_time": "2022-09-19T01:28:28.547216Z",
     "start_time": "2022-09-19T01:28:28.021762Z"
    }
   },
   "outputs": [],
   "source": [
    "import pandas as pd\n",
    "import numpy as np"
   ]
  },
  {
   "cell_type": "code",
   "execution_count": 3,
   "metadata": {
    "ExecuteTime": {
     "end_time": "2022-09-19T01:28:28.796826Z",
     "start_time": "2022-09-19T01:28:28.570343Z"
    },
    "scrolled": true
   },
   "outputs": [
    {
     "data": {
      "text/plain": [
       "(150000, 11)"
      ]
     },
     "execution_count": 3,
     "metadata": {},
     "output_type": "execute_result"
    }
   ],
   "source": [
    "data = pd.read_csv('data/data-v01.csv')\n",
    "data.shape"
   ]
  },
  {
   "cell_type": "code",
   "execution_count": 4,
   "metadata": {
    "ExecuteTime": {
     "end_time": "2022-09-19T01:28:28.859985Z",
     "start_time": "2022-09-19T01:28:28.835416Z"
    }
   },
   "outputs": [
    {
     "name": "stdout",
     "output_type": "stream",
     "text": [
      "<class 'pandas.core.frame.DataFrame'>\n",
      "RangeIndex: 150000 entries, 0 to 149999\n",
      "Data columns (total 11 columns):\n",
      " #   Column                                Non-Null Count   Dtype  \n",
      "---  ------                                --------------   -----  \n",
      " 0   seriousdlqin2yrs                      150000 non-null  int64  \n",
      " 1   revolvingutilizationofunsecuredlines  150000 non-null  float64\n",
      " 2   age                                   150000 non-null  int64  \n",
      " 3   numberoftime30-59dayspastduenotworse  150000 non-null  int64  \n",
      " 4   debtratio                             150000 non-null  float64\n",
      " 5   monthlyincome                         150000 non-null  float64\n",
      " 6   numberofopencreditlinesandloans       150000 non-null  int64  \n",
      " 7   numberoftimes90dayslate               150000 non-null  int64  \n",
      " 8   numberrealestateloansorlines          150000 non-null  int64  \n",
      " 9   numberoftime60-89dayspastduenotworse  150000 non-null  int64  \n",
      " 10  numberofdependents                    150000 non-null  float64\n",
      "dtypes: float64(4), int64(7)\n",
      "memory usage: 12.6 MB\n"
     ]
    }
   ],
   "source": [
    "data.info()"
   ]
  },
  {
   "cell_type": "code",
   "execution_count": 5,
   "metadata": {
    "ExecuteTime": {
     "end_time": "2022-09-19T01:28:28.921456Z",
     "start_time": "2022-09-19T01:28:28.891509Z"
    }
   },
   "outputs": [
    {
     "data": {
      "text/html": [
       "<div>\n",
       "<style scoped>\n",
       "    .dataframe tbody tr th:only-of-type {\n",
       "        vertical-align: middle;\n",
       "    }\n",
       "\n",
       "    .dataframe tbody tr th {\n",
       "        vertical-align: top;\n",
       "    }\n",
       "\n",
       "    .dataframe thead th {\n",
       "        text-align: right;\n",
       "    }\n",
       "</style>\n",
       "<table border=\"1\" class=\"dataframe\">\n",
       "  <thead>\n",
       "    <tr style=\"text-align: right;\">\n",
       "      <th></th>\n",
       "      <th>seriousdlqin2yrs</th>\n",
       "      <th>revolvingutilizationofunsecuredlines</th>\n",
       "      <th>age</th>\n",
       "      <th>numberoftime30-59dayspastduenotworse</th>\n",
       "      <th>debtratio</th>\n",
       "      <th>monthlyincome</th>\n",
       "      <th>numberofopencreditlinesandloans</th>\n",
       "      <th>numberoftimes90dayslate</th>\n",
       "      <th>numberrealestateloansorlines</th>\n",
       "      <th>numberoftime60-89dayspastduenotworse</th>\n",
       "      <th>numberofdependents</th>\n",
       "    </tr>\n",
       "  </thead>\n",
       "  <tbody>\n",
       "    <tr>\n",
       "      <th>0</th>\n",
       "      <td>1</td>\n",
       "      <td>0.766127</td>\n",
       "      <td>45</td>\n",
       "      <td>2</td>\n",
       "      <td>0.802982</td>\n",
       "      <td>9120.0</td>\n",
       "      <td>13</td>\n",
       "      <td>0</td>\n",
       "      <td>6</td>\n",
       "      <td>0</td>\n",
       "      <td>2.0</td>\n",
       "    </tr>\n",
       "    <tr>\n",
       "      <th>1</th>\n",
       "      <td>0</td>\n",
       "      <td>0.957151</td>\n",
       "      <td>40</td>\n",
       "      <td>0</td>\n",
       "      <td>0.121876</td>\n",
       "      <td>2600.0</td>\n",
       "      <td>4</td>\n",
       "      <td>0</td>\n",
       "      <td>0</td>\n",
       "      <td>0</td>\n",
       "      <td>1.0</td>\n",
       "    </tr>\n",
       "    <tr>\n",
       "      <th>2</th>\n",
       "      <td>0</td>\n",
       "      <td>0.658180</td>\n",
       "      <td>38</td>\n",
       "      <td>1</td>\n",
       "      <td>0.085113</td>\n",
       "      <td>3042.0</td>\n",
       "      <td>2</td>\n",
       "      <td>1</td>\n",
       "      <td>0</td>\n",
       "      <td>0</td>\n",
       "      <td>0.0</td>\n",
       "    </tr>\n",
       "    <tr>\n",
       "      <th>3</th>\n",
       "      <td>0</td>\n",
       "      <td>0.233810</td>\n",
       "      <td>30</td>\n",
       "      <td>0</td>\n",
       "      <td>0.036050</td>\n",
       "      <td>3300.0</td>\n",
       "      <td>5</td>\n",
       "      <td>0</td>\n",
       "      <td>0</td>\n",
       "      <td>0</td>\n",
       "      <td>0.0</td>\n",
       "    </tr>\n",
       "    <tr>\n",
       "      <th>4</th>\n",
       "      <td>0</td>\n",
       "      <td>0.907239</td>\n",
       "      <td>49</td>\n",
       "      <td>1</td>\n",
       "      <td>0.024926</td>\n",
       "      <td>12645.0</td>\n",
       "      <td>7</td>\n",
       "      <td>0</td>\n",
       "      <td>1</td>\n",
       "      <td>0</td>\n",
       "      <td>0.0</td>\n",
       "    </tr>\n",
       "  </tbody>\n",
       "</table>\n",
       "</div>"
      ],
      "text/plain": [
       "   seriousdlqin2yrs  revolvingutilizationofunsecuredlines  age  \\\n",
       "0                 1                              0.766127   45   \n",
       "1                 0                              0.957151   40   \n",
       "2                 0                              0.658180   38   \n",
       "3                 0                              0.233810   30   \n",
       "4                 0                              0.907239   49   \n",
       "\n",
       "   numberoftime30-59dayspastduenotworse  debtratio  monthlyincome  \\\n",
       "0                                     2   0.802982         9120.0   \n",
       "1                                     0   0.121876         2600.0   \n",
       "2                                     1   0.085113         3042.0   \n",
       "3                                     0   0.036050         3300.0   \n",
       "4                                     1   0.024926        12645.0   \n",
       "\n",
       "   numberofopencreditlinesandloans  numberoftimes90dayslate  \\\n",
       "0                               13                        0   \n",
       "1                                4                        0   \n",
       "2                                2                        1   \n",
       "3                                5                        0   \n",
       "4                                7                        0   \n",
       "\n",
       "   numberrealestateloansorlines  numberoftime60-89dayspastduenotworse  \\\n",
       "0                             6                                     0   \n",
       "1                             0                                     0   \n",
       "2                             0                                     0   \n",
       "3                             0                                     0   \n",
       "4                             1                                     0   \n",
       "\n",
       "   numberofdependents  \n",
       "0                 2.0  \n",
       "1                 1.0  \n",
       "2                 0.0  \n",
       "3                 0.0  \n",
       "4                 0.0  "
      ]
     },
     "execution_count": 5,
     "metadata": {},
     "output_type": "execute_result"
    }
   ],
   "source": [
    "data.head()"
   ]
  },
  {
   "cell_type": "code",
   "execution_count": 6,
   "metadata": {
    "ExecuteTime": {
     "end_time": "2022-09-19T01:28:29.996084Z",
     "start_time": "2022-09-19T01:28:28.956849Z"
    }
   },
   "outputs": [],
   "source": [
    "from sklearn.linear_model import LogisticRegression\n",
    "from sklearn.ensemble import GradientBoostingClassifier, RandomForestClassifier\n",
    "from sklearn.neighbors import KNeighborsClassifier\n",
    "from xgboost import XGBClassifier\n",
    "\n",
    "from sklearn.pipeline import make_pipeline\n",
    "\n",
    "from sklearn.model_selection import train_test_split, GridSearchCV, RandomizedSearchCV\n",
    "from sklearn.preprocessing import StandardScaler, MinMaxScaler\n",
    "from sklearn.metrics import roc_auc_score, accuracy_score, recall_score, precision_score\n",
    "\n",
    "import pickle"
   ]
  },
  {
   "cell_type": "code",
   "execution_count": 7,
   "metadata": {
    "ExecuteTime": {
     "end_time": "2022-09-19T01:28:30.027215Z",
     "start_time": "2022-09-19T01:28:30.015609Z"
    }
   },
   "outputs": [],
   "source": [
    "# X, y 분리\n",
    "y = data.seriousdlqin2yrs\n",
    "X = data.drop('seriousdlqin2yrs', axis='columns')"
   ]
  },
  {
   "cell_type": "code",
   "execution_count": 8,
   "metadata": {
    "ExecuteTime": {
     "end_time": "2022-09-19T01:28:30.168330Z",
     "start_time": "2022-09-19T01:28:30.061333Z"
    }
   },
   "outputs": [],
   "source": [
    "X_train, X_test, y_train, y_test = train_test_split(X, y, stratify=y, random_state=0)"
   ]
  },
  {
   "cell_type": "code",
   "execution_count": 9,
   "metadata": {
    "ExecuteTime": {
     "end_time": "2022-09-19T01:28:30.986511Z",
     "start_time": "2022-09-19T01:28:30.970487Z"
    }
   },
   "outputs": [
    {
     "data": {
      "text/plain": [
       "((112500,), (37500,))"
      ]
     },
     "execution_count": 9,
     "metadata": {},
     "output_type": "execute_result"
    }
   ],
   "source": [
    "y_train.shape,y_test.shape"
   ]
  },
  {
   "cell_type": "code",
   "execution_count": 13,
   "metadata": {
    "ExecuteTime": {
     "end_time": "2022-09-19T01:29:10.200031Z",
     "start_time": "2022-09-19T01:29:10.170936Z"
    }
   },
   "outputs": [
    {
     "data": {
      "text/plain": [
       "array([0.93315556, 0.06684444])"
      ]
     },
     "execution_count": 13,
     "metadata": {},
     "output_type": "execute_result"
    }
   ],
   "source": [
    "# y의 label별 비율\n",
    "np.unique(y_train, return_counts=True)[1]/y_train.size"
   ]
  },
  {
   "cell_type": "markdown",
   "metadata": {},
   "source": [
    "## Feature Scaler생성"
   ]
  },
  {
   "cell_type": "code",
   "execution_count": 14,
   "metadata": {
    "ExecuteTime": {
     "end_time": "2021-11-29T02:15:23.642039Z",
     "start_time": "2021-11-29T02:15:23.625083Z"
    }
   },
   "outputs": [],
   "source": [
    "scaler = StandardScaler()\n",
    "# scaler = MinMaxScaler()"
   ]
  },
  {
   "cell_type": "markdown",
   "metadata": {},
   "source": [
    "## Base-line 모델 정의"
   ]
  },
  {
   "cell_type": "code",
   "execution_count": 16,
   "metadata": {
    "ExecuteTime": {
     "end_time": "2021-11-29T02:16:24.612132Z",
     "start_time": "2021-11-29T02:16:24.585173Z"
    }
   },
   "outputs": [],
   "source": [
    "# knn. losgistic은 scaler 적용\n",
    "knn = make_pipeline(scaler, KNeighborsClassifier())\n",
    "lr = make_pipeline(scaler, LogisticRegression(max_iter=2000, random_state=0))\n",
    "rf = RandomForestClassifier(random_state=0)\n",
    "grb = GradientBoostingClassifier(random_state=0)\n",
    "xgb = XGBClassifier(random_state=0)"
   ]
  },
  {
   "cell_type": "code",
   "execution_count": 17,
   "metadata": {
    "ExecuteTime": {
     "end_time": "2021-11-29T02:17:20.018646Z",
     "start_time": "2021-11-29T02:16:25.552465Z"
    }
   },
   "outputs": [
    {
     "name": "stdout",
     "output_type": "stream",
     "text": [
      "[11:16:26] WARNING: ..\\src\\learner.cc:1061: Starting in XGBoost 1.3.0, the default evaluation metric used with the objective 'binary:logistic' was changed from 'error' to 'logloss'. Explicitly set eval_metric if you'd like to restore the old behavior.\n"
     ]
    },
    {
     "data": {
      "text/plain": [
       "RandomForestClassifier(random_state=0)"
      ]
     },
     "execution_count": 17,
     "metadata": {},
     "output_type": "execute_result"
    }
   ],
   "source": [
    "knn.fit(X_train, y_train)\n",
    "lr.fit(X_train, y_train)\n",
    "xgb.fit(X_train, y_train)\n",
    "grb.fit(X_train, y_train)\n",
    "rf.fit(X_train, y_train)"
   ]
  },
  {
   "cell_type": "code",
   "execution_count": 18,
   "metadata": {
    "ExecuteTime": {
     "end_time": "2021-11-29T02:17:31.816803Z",
     "start_time": "2021-11-29T02:17:31.793862Z"
    }
   },
   "outputs": [],
   "source": [
    "base_line = [knn, lr, xgb, grb, rf]\n",
    "model_names = ['KNN', 'LogisticRegression', 'XGBoost', 'GradientBoosting', 'RandomForest']"
   ]
  },
  {
   "cell_type": "code",
   "execution_count": 19,
   "metadata": {
    "ExecuteTime": {
     "end_time": "2021-11-29T02:19:32.905427Z",
     "start_time": "2021-11-29T02:18:12.624583Z"
    }
   },
   "outputs": [
    {
     "name": "stdout",
     "output_type": "stream",
     "text": [
      "KNN\n",
      "train정확도:0.943, Test정확도:0.932\t train AUC:0.952, Test AUC:0.691\n",
      "==================================================\n",
      "LogisticRegression\n",
      "train정확도:0.935, Test정확도:0.934\t train AUC:0.804, Test AUC:0.8\n",
      "==================================================\n",
      "XGBoost\n",
      "train정확도:0.949, Test정확도:0.935\t train AUC:0.916, Test AUC:0.856\n",
      "==================================================\n",
      "GradientBoosting\n",
      "train정확도:0.939, Test정확도:0.936\t train AUC:0.869, Test AUC:0.863\n",
      "==================================================\n",
      "RandomForest\n",
      "train정확도:0.999, Test정확도:0.935\t train AUC:1.0, Test AUC:0.835\n",
      "==================================================\n"
     ]
    }
   ],
   "source": [
    "for model, name in zip(base_line, model_names):\n",
    "\n",
    "    pred_train = model.predict(X_train)\n",
    "    pred_test = model.predict(X_test)\n",
    "    \n",
    "    pred_train_proba = model.predict_proba(X_train)\n",
    "    pred_test_proba = model.predict_proba(X_test)\n",
    "    \n",
    "    acc_train = np.round(accuracy_score(y_train,pred_train),3)\n",
    "    acc_test = np.round(accuracy_score(y_test, pred_test), 3)\n",
    "    \n",
    "    auc_train = np.round(roc_auc_score(y_train, pred_train_proba[:, 1]), 3)\n",
    "    auc_test = np.round(roc_auc_score(y_test, pred_test_proba[:, 1]), 3)\n",
    "    \n",
    "    print(f'{name}')\n",
    "    print(f'train정확도:{acc_train}, Test정확도:{acc_test}\\t train AUC:{auc_train}, Test AUC:{auc_test}')\n",
    "    print('='*50)"
   ]
  },
  {
   "cell_type": "markdown",
   "metadata": {},
   "source": [
    "# GridSearchCV를 이용한 하이퍼파라미터 튜닝"
   ]
  },
  {
   "cell_type": "markdown",
   "metadata": {},
   "source": [
    "### XGBoost"
   ]
  },
  {
   "cell_type": "code",
   "execution_count": 36,
   "metadata": {
    "ExecuteTime": {
     "end_time": "2021-11-28T00:11:58.481448Z",
     "start_time": "2021-11-28T00:11:58.467428Z"
    }
   },
   "outputs": [],
   "source": [
    "param = {\n",
    "    'learning_rate':[0.01,0.1,0.5,1],\n",
    "    'n_estimators':[100,200,300,400,500],\n",
    "    'max_depth':range(1,6),\n",
    "    'subsample':[0.6,0.7,0.8,0.9,1],\n",
    "}"
   ]
  },
  {
   "cell_type": "code",
   "execution_count": 37,
   "metadata": {
    "ExecuteTime": {
     "end_time": "2021-11-28T00:11:58.497412Z",
     "start_time": "2021-11-28T00:11:58.485411Z"
    }
   },
   "outputs": [],
   "source": [
    "rs_xgb = RandomizedSearchCV(XGBClassifier(random_state=0), \n",
    "                            param, \n",
    "                            n_iter=60, \n",
    "                            scoring='roc_auc',\n",
    "                            cv=5,\n",
    "                            n_jobs=-1 )"
   ]
  },
  {
   "cell_type": "code",
   "execution_count": 38,
   "metadata": {
    "ExecuteTime": {
     "end_time": "2021-11-28T00:30:43.604765Z",
     "start_time": "2021-11-28T00:11:58.498414Z"
    }
   },
   "outputs": [
    {
     "name": "stdout",
     "output_type": "stream",
     "text": [
      "[09:30:29] WARNING: D:\\bld\\xgboost-split_1637426510059\\work\\src\\learner.cc:1115: Starting in XGBoost 1.3.0, the default evaluation metric used with the objective 'binary:logistic' was changed from 'error' to 'logloss'. Explicitly set eval_metric if you'd like to restore the old behavior.\n"
     ]
    },
    {
     "data": {
      "text/plain": [
       "RandomizedSearchCV(estimator=XGBClassifier(base_score=None, booster=None,\n",
       "                                           colsample_bylevel=None,\n",
       "                                           colsample_bynode=None,\n",
       "                                           colsample_bytree=None,\n",
       "                                           enable_categorical=False, gamma=None,\n",
       "                                           gpu_id=None, importance_type=None,\n",
       "                                           interaction_constraints=None,\n",
       "                                           learning_rate=None,\n",
       "                                           max_delta_step=None, max_depth=None,\n",
       "                                           min_child_weight=None, missing=nan,\n",
       "                                           monotone_constraints=None...\n",
       "                                           num_parallel_tree=None,\n",
       "                                           predictor=None, random_state=0,\n",
       "                                           reg_alpha=None, reg_lambda=None,\n",
       "                                           scale_pos_weight=None,\n",
       "                                           subsample=None, tree_method=None,\n",
       "                                           validate_parameters=None,\n",
       "                                           verbosity=None),\n",
       "                   n_iter=60, n_jobs=-1,\n",
       "                   param_distributions={'learning_rate': [0.01, 0.1, 0.5, 1,\n",
       "                                                          10],\n",
       "                                        'max_depth': range(1, 6),\n",
       "                                        'n_estimators': [100, 200, 300, 400,\n",
       "                                                         500],\n",
       "                                        'subsample': [0.6, 0.7, 0.8, 0.9, 1]},\n",
       "                   scoring='roc_auc')"
      ]
     },
     "execution_count": 38,
     "metadata": {},
     "output_type": "execute_result"
    }
   ],
   "source": [
    "rs_xgb.fit(X_train, y_train)"
   ]
  },
  {
   "cell_type": "code",
   "execution_count": 40,
   "metadata": {
    "ExecuteTime": {
     "end_time": "2021-11-28T00:32:40.260201Z",
     "start_time": "2021-11-28T00:32:40.254201Z"
    }
   },
   "outputs": [
    {
     "data": {
      "text/plain": [
       "{'subsample': 0.7, 'n_estimators': 400, 'max_depth': 2, 'learning_rate': 0.1}"
      ]
     },
     "execution_count": 40,
     "metadata": {},
     "output_type": "execute_result"
    }
   ],
   "source": [
    "rs_xgb.best_params_"
   ]
  },
  {
   "cell_type": "code",
   "execution_count": 41,
   "metadata": {
    "ExecuteTime": {
     "end_time": "2021-11-28T00:32:47.013490Z",
     "start_time": "2021-11-28T00:32:46.989492Z"
    },
    "collapsed": true
   },
   "outputs": [
    {
     "data": {
      "text/html": [
       "<div>\n",
       "<style scoped>\n",
       "    .dataframe tbody tr th:only-of-type {\n",
       "        vertical-align: middle;\n",
       "    }\n",
       "\n",
       "    .dataframe tbody tr th {\n",
       "        vertical-align: top;\n",
       "    }\n",
       "\n",
       "    .dataframe thead th {\n",
       "        text-align: right;\n",
       "    }\n",
       "</style>\n",
       "<table border=\"1\" class=\"dataframe\">\n",
       "  <thead>\n",
       "    <tr style=\"text-align: right;\">\n",
       "      <th></th>\n",
       "      <th>mean_fit_time</th>\n",
       "      <th>std_fit_time</th>\n",
       "      <th>mean_score_time</th>\n",
       "      <th>std_score_time</th>\n",
       "      <th>param_subsample</th>\n",
       "      <th>param_n_estimators</th>\n",
       "      <th>param_max_depth</th>\n",
       "      <th>param_learning_rate</th>\n",
       "      <th>params</th>\n",
       "      <th>split0_test_score</th>\n",
       "      <th>split1_test_score</th>\n",
       "      <th>split2_test_score</th>\n",
       "      <th>split3_test_score</th>\n",
       "      <th>split4_test_score</th>\n",
       "      <th>mean_test_score</th>\n",
       "      <th>std_test_score</th>\n",
       "      <th>rank_test_score</th>\n",
       "    </tr>\n",
       "  </thead>\n",
       "  <tbody>\n",
       "    <tr>\n",
       "      <th>40</th>\n",
       "      <td>31.016063</td>\n",
       "      <td>0.124241</td>\n",
       "      <td>0.053126</td>\n",
       "      <td>0.007654</td>\n",
       "      <td>0.7</td>\n",
       "      <td>400</td>\n",
       "      <td>2</td>\n",
       "      <td>0.1</td>\n",
       "      <td>{'subsample': 0.7, 'n_estimators': 400, 'max_d...</td>\n",
       "      <td>0.874950</td>\n",
       "      <td>0.865705</td>\n",
       "      <td>0.863905</td>\n",
       "      <td>0.861238</td>\n",
       "      <td>0.862181</td>\n",
       "      <td>0.865596</td>\n",
       "      <td>0.004920</td>\n",
       "      <td>1</td>\n",
       "    </tr>\n",
       "    <tr>\n",
       "      <th>48</th>\n",
       "      <td>34.638435</td>\n",
       "      <td>0.222048</td>\n",
       "      <td>0.056251</td>\n",
       "      <td>0.007657</td>\n",
       "      <td>0.9</td>\n",
       "      <td>300</td>\n",
       "      <td>3</td>\n",
       "      <td>0.1</td>\n",
       "      <td>{'subsample': 0.9, 'n_estimators': 300, 'max_d...</td>\n",
       "      <td>0.874765</td>\n",
       "      <td>0.866375</td>\n",
       "      <td>0.862712</td>\n",
       "      <td>0.861983</td>\n",
       "      <td>0.862104</td>\n",
       "      <td>0.865588</td>\n",
       "      <td>0.004863</td>\n",
       "      <td>2</td>\n",
       "    </tr>\n",
       "    <tr>\n",
       "      <th>52</th>\n",
       "      <td>31.075674</td>\n",
       "      <td>0.226477</td>\n",
       "      <td>0.053121</td>\n",
       "      <td>0.007653</td>\n",
       "      <td>0.9</td>\n",
       "      <td>200</td>\n",
       "      <td>4</td>\n",
       "      <td>0.1</td>\n",
       "      <td>{'subsample': 0.9, 'n_estimators': 200, 'max_d...</td>\n",
       "      <td>0.875298</td>\n",
       "      <td>0.865890</td>\n",
       "      <td>0.863654</td>\n",
       "      <td>0.860988</td>\n",
       "      <td>0.861891</td>\n",
       "      <td>0.865544</td>\n",
       "      <td>0.005157</td>\n",
       "      <td>3</td>\n",
       "    </tr>\n",
       "    <tr>\n",
       "      <th>18</th>\n",
       "      <td>31.512466</td>\n",
       "      <td>0.226502</td>\n",
       "      <td>0.059377</td>\n",
       "      <td>0.006251</td>\n",
       "      <td>0.9</td>\n",
       "      <td>400</td>\n",
       "      <td>2</td>\n",
       "      <td>0.1</td>\n",
       "      <td>{'subsample': 0.9, 'n_estimators': 400, 'max_d...</td>\n",
       "      <td>0.874672</td>\n",
       "      <td>0.865861</td>\n",
       "      <td>0.863543</td>\n",
       "      <td>0.861622</td>\n",
       "      <td>0.861418</td>\n",
       "      <td>0.865423</td>\n",
       "      <td>0.004894</td>\n",
       "      <td>4</td>\n",
       "    </tr>\n",
       "    <tr>\n",
       "      <th>26</th>\n",
       "      <td>41.981191</td>\n",
       "      <td>0.485211</td>\n",
       "      <td>0.043751</td>\n",
       "      <td>0.006251</td>\n",
       "      <td>0.9</td>\n",
       "      <td>500</td>\n",
       "      <td>2</td>\n",
       "      <td>0.1</td>\n",
       "      <td>{'subsample': 0.9, 'n_estimators': 500, 'max_d...</td>\n",
       "      <td>0.874923</td>\n",
       "      <td>0.865680</td>\n",
       "      <td>0.863518</td>\n",
       "      <td>0.861644</td>\n",
       "      <td>0.861127</td>\n",
       "      <td>0.865378</td>\n",
       "      <td>0.005033</td>\n",
       "      <td>5</td>\n",
       "    </tr>\n",
       "  </tbody>\n",
       "</table>\n",
       "</div>"
      ],
      "text/plain": [
       "    mean_fit_time  std_fit_time  mean_score_time  std_score_time  \\\n",
       "40      31.016063      0.124241         0.053126        0.007654   \n",
       "48      34.638435      0.222048         0.056251        0.007657   \n",
       "52      31.075674      0.226477         0.053121        0.007653   \n",
       "18      31.512466      0.226502         0.059377        0.006251   \n",
       "26      41.981191      0.485211         0.043751        0.006251   \n",
       "\n",
       "   param_subsample param_n_estimators param_max_depth param_learning_rate  \\\n",
       "40             0.7                400               2                 0.1   \n",
       "48             0.9                300               3                 0.1   \n",
       "52             0.9                200               4                 0.1   \n",
       "18             0.9                400               2                 0.1   \n",
       "26             0.9                500               2                 0.1   \n",
       "\n",
       "                                               params  split0_test_score  \\\n",
       "40  {'subsample': 0.7, 'n_estimators': 400, 'max_d...           0.874950   \n",
       "48  {'subsample': 0.9, 'n_estimators': 300, 'max_d...           0.874765   \n",
       "52  {'subsample': 0.9, 'n_estimators': 200, 'max_d...           0.875298   \n",
       "18  {'subsample': 0.9, 'n_estimators': 400, 'max_d...           0.874672   \n",
       "26  {'subsample': 0.9, 'n_estimators': 500, 'max_d...           0.874923   \n",
       "\n",
       "    split1_test_score  split2_test_score  split3_test_score  \\\n",
       "40           0.865705           0.863905           0.861238   \n",
       "48           0.866375           0.862712           0.861983   \n",
       "52           0.865890           0.863654           0.860988   \n",
       "18           0.865861           0.863543           0.861622   \n",
       "26           0.865680           0.863518           0.861644   \n",
       "\n",
       "    split4_test_score  mean_test_score  std_test_score  rank_test_score  \n",
       "40           0.862181         0.865596        0.004920                1  \n",
       "48           0.862104         0.865588        0.004863                2  \n",
       "52           0.861891         0.865544        0.005157                3  \n",
       "18           0.861418         0.865423        0.004894                4  \n",
       "26           0.861127         0.865378        0.005033                5  "
      ]
     },
     "execution_count": 41,
     "metadata": {},
     "output_type": "execute_result"
    }
   ],
   "source": [
    "rs_df = pd.DataFrame(rs_xgb.cv_results_)\n",
    "rs_df.sort_values('rank_test_score').head()"
   ]
  },
  {
   "cell_type": "code",
   "execution_count": 43,
   "metadata": {
    "ExecuteTime": {
     "end_time": "2021-11-28T00:58:53.485095Z",
     "start_time": "2021-11-28T00:51:04.406185Z"
    }
   },
   "outputs": [
    {
     "name": "stdout",
     "output_type": "stream",
     "text": [
      "[09:58:40] WARNING: D:\\bld\\xgboost-split_1637426510059\\work\\src\\learner.cc:1115: Starting in XGBoost 1.3.0, the default evaluation metric used with the objective 'binary:logistic' was changed from 'error' to 'logloss'. Explicitly set eval_metric if you'd like to restore the old behavior.\n"
     ]
    },
    {
     "data": {
      "text/plain": [
       "GridSearchCV(estimator=XGBClassifier(base_score=None, booster=None,\n",
       "                                     colsample_bylevel=None,\n",
       "                                     colsample_bynode=None,\n",
       "                                     colsample_bytree=None,\n",
       "                                     enable_categorical=False, gamma=None,\n",
       "                                     gpu_id=None, importance_type=None,\n",
       "                                     interaction_constraints=None,\n",
       "                                     learning_rate=0.1, max_delta_step=None,\n",
       "                                     max_depth=None, min_child_weight=None,\n",
       "                                     missing=nan, monotone_constraints=None,\n",
       "                                     n_estimators=400, n_jobs=None,\n",
       "                                     num_parallel_tree=None, predictor=None,\n",
       "                                     random_state=0, reg_alpha=None,\n",
       "                                     reg_lambda=None, scale_pos_weight=None,\n",
       "                                     subsample=None, tree_method=None,\n",
       "                                     validate_parameters=None, verbosity=None),\n",
       "             n_jobs=-1,\n",
       "             param_grid={'max_depth': [2, 3, 4],\n",
       "                         'subsample': [0.6, 0.7, 0.8, 0.9, 1]},\n",
       "             scoring='roc_auc')"
      ]
     },
     "execution_count": 43,
     "metadata": {},
     "output_type": "execute_result"
    }
   ],
   "source": [
    "# 상세하게 찾기\n",
    "param = {\n",
    "    \"subsample\":[0.6,0.7,0.8,0.9,1], \n",
    "    \"max_depth\":[2,3,4]\n",
    "}\n",
    "gs_xgb = GridSearchCV(XGBClassifier(n_estimators=400, learning_rate=0.1, random_state=0), \n",
    "                      param, \n",
    "                      scoring='roc_auc', \n",
    "                      cv=5,\n",
    "                      n_jobs=-1 )\n",
    "\n",
    "gs_xgb.fit(X_train, y_train)"
   ]
  },
  {
   "cell_type": "code",
   "execution_count": 44,
   "metadata": {
    "ExecuteTime": {
     "end_time": "2021-11-28T01:11:59.954391Z",
     "start_time": "2021-11-28T01:11:59.937389Z"
    }
   },
   "outputs": [
    {
     "data": {
      "text/plain": [
       "{'max_depth': 2, 'subsample': 0.6}"
      ]
     },
     "execution_count": 44,
     "metadata": {},
     "output_type": "execute_result"
    }
   ],
   "source": [
    "gs_xgb.best_params_"
   ]
  },
  {
   "cell_type": "code",
   "execution_count": 45,
   "metadata": {
    "ExecuteTime": {
     "end_time": "2021-11-28T01:12:20.437843Z",
     "start_time": "2021-11-28T01:12:20.431846Z"
    }
   },
   "outputs": [
    {
     "data": {
      "text/plain": [
       "0.8657477556440014"
      ]
     },
     "execution_count": 45,
     "metadata": {},
     "output_type": "execute_result"
    }
   ],
   "source": [
    "gs_xgb.best_score_"
   ]
  },
  {
   "cell_type": "code",
   "execution_count": 46,
   "metadata": {
    "ExecuteTime": {
     "end_time": "2021-11-28T01:12:35.871991Z",
     "start_time": "2021-11-28T01:12:35.839901Z"
    },
    "scrolled": true
   },
   "outputs": [
    {
     "data": {
      "text/html": [
       "<div>\n",
       "<style scoped>\n",
       "    .dataframe tbody tr th:only-of-type {\n",
       "        vertical-align: middle;\n",
       "    }\n",
       "\n",
       "    .dataframe tbody tr th {\n",
       "        vertical-align: top;\n",
       "    }\n",
       "\n",
       "    .dataframe thead th {\n",
       "        text-align: right;\n",
       "    }\n",
       "</style>\n",
       "<table border=\"1\" class=\"dataframe\">\n",
       "  <thead>\n",
       "    <tr style=\"text-align: right;\">\n",
       "      <th></th>\n",
       "      <th>mean_fit_time</th>\n",
       "      <th>std_fit_time</th>\n",
       "      <th>mean_score_time</th>\n",
       "      <th>std_score_time</th>\n",
       "      <th>param_max_depth</th>\n",
       "      <th>param_subsample</th>\n",
       "      <th>params</th>\n",
       "      <th>split0_test_score</th>\n",
       "      <th>split1_test_score</th>\n",
       "      <th>split2_test_score</th>\n",
       "      <th>split3_test_score</th>\n",
       "      <th>split4_test_score</th>\n",
       "      <th>mean_test_score</th>\n",
       "      <th>std_test_score</th>\n",
       "      <th>rank_test_score</th>\n",
       "    </tr>\n",
       "  </thead>\n",
       "  <tbody>\n",
       "    <tr>\n",
       "      <th>0</th>\n",
       "      <td>31.058689</td>\n",
       "      <td>0.205362</td>\n",
       "      <td>0.058918</td>\n",
       "      <td>0.008004</td>\n",
       "      <td>2</td>\n",
       "      <td>0.6</td>\n",
       "      <td>{'max_depth': 2, 'subsample': 0.6}</td>\n",
       "      <td>0.875436</td>\n",
       "      <td>0.865609</td>\n",
       "      <td>0.864516</td>\n",
       "      <td>0.861334</td>\n",
       "      <td>0.861844</td>\n",
       "      <td>0.865748</td>\n",
       "      <td>0.005102</td>\n",
       "      <td>1</td>\n",
       "    </tr>\n",
       "    <tr>\n",
       "      <th>9</th>\n",
       "      <td>42.705779</td>\n",
       "      <td>0.630386</td>\n",
       "      <td>0.064576</td>\n",
       "      <td>0.004157</td>\n",
       "      <td>3</td>\n",
       "      <td>1</td>\n",
       "      <td>{'max_depth': 3, 'subsample': 1}</td>\n",
       "      <td>0.874870</td>\n",
       "      <td>0.866800</td>\n",
       "      <td>0.862795</td>\n",
       "      <td>0.861687</td>\n",
       "      <td>0.861934</td>\n",
       "      <td>0.865617</td>\n",
       "      <td>0.004980</td>\n",
       "      <td>2</td>\n",
       "    </tr>\n",
       "    <tr>\n",
       "      <th>1</th>\n",
       "      <td>33.984716</td>\n",
       "      <td>3.338388</td>\n",
       "      <td>0.062907</td>\n",
       "      <td>0.014241</td>\n",
       "      <td>2</td>\n",
       "      <td>0.7</td>\n",
       "      <td>{'max_depth': 2, 'subsample': 0.7}</td>\n",
       "      <td>0.874950</td>\n",
       "      <td>0.865705</td>\n",
       "      <td>0.863905</td>\n",
       "      <td>0.861238</td>\n",
       "      <td>0.862181</td>\n",
       "      <td>0.865596</td>\n",
       "      <td>0.004920</td>\n",
       "      <td>3</td>\n",
       "    </tr>\n",
       "    <tr>\n",
       "      <th>2</th>\n",
       "      <td>38.034212</td>\n",
       "      <td>0.305476</td>\n",
       "      <td>0.076201</td>\n",
       "      <td>0.020585</td>\n",
       "      <td>2</td>\n",
       "      <td>0.8</td>\n",
       "      <td>{'max_depth': 2, 'subsample': 0.8}</td>\n",
       "      <td>0.875271</td>\n",
       "      <td>0.866079</td>\n",
       "      <td>0.863023</td>\n",
       "      <td>0.861621</td>\n",
       "      <td>0.861661</td>\n",
       "      <td>0.865531</td>\n",
       "      <td>0.005133</td>\n",
       "      <td>4</td>\n",
       "    </tr>\n",
       "    <tr>\n",
       "      <th>7</th>\n",
       "      <td>47.057385</td>\n",
       "      <td>0.136800</td>\n",
       "      <td>0.064977</td>\n",
       "      <td>0.012758</td>\n",
       "      <td>3</td>\n",
       "      <td>0.8</td>\n",
       "      <td>{'max_depth': 3, 'subsample': 0.8}</td>\n",
       "      <td>0.875787</td>\n",
       "      <td>0.865944</td>\n",
       "      <td>0.862766</td>\n",
       "      <td>0.860993</td>\n",
       "      <td>0.861947</td>\n",
       "      <td>0.865487</td>\n",
       "      <td>0.005412</td>\n",
       "      <td>5</td>\n",
       "    </tr>\n",
       "  </tbody>\n",
       "</table>\n",
       "</div>"
      ],
      "text/plain": [
       "   mean_fit_time  std_fit_time  mean_score_time  std_score_time  \\\n",
       "0      31.058689      0.205362         0.058918        0.008004   \n",
       "9      42.705779      0.630386         0.064576        0.004157   \n",
       "1      33.984716      3.338388         0.062907        0.014241   \n",
       "2      38.034212      0.305476         0.076201        0.020585   \n",
       "7      47.057385      0.136800         0.064977        0.012758   \n",
       "\n",
       "  param_max_depth param_subsample                              params  \\\n",
       "0               2             0.6  {'max_depth': 2, 'subsample': 0.6}   \n",
       "9               3               1    {'max_depth': 3, 'subsample': 1}   \n",
       "1               2             0.7  {'max_depth': 2, 'subsample': 0.7}   \n",
       "2               2             0.8  {'max_depth': 2, 'subsample': 0.8}   \n",
       "7               3             0.8  {'max_depth': 3, 'subsample': 0.8}   \n",
       "\n",
       "   split0_test_score  split1_test_score  split2_test_score  split3_test_score  \\\n",
       "0           0.875436           0.865609           0.864516           0.861334   \n",
       "9           0.874870           0.866800           0.862795           0.861687   \n",
       "1           0.874950           0.865705           0.863905           0.861238   \n",
       "2           0.875271           0.866079           0.863023           0.861621   \n",
       "7           0.875787           0.865944           0.862766           0.860993   \n",
       "\n",
       "   split4_test_score  mean_test_score  std_test_score  rank_test_score  \n",
       "0           0.861844         0.865748        0.005102                1  \n",
       "9           0.861934         0.865617        0.004980                2  \n",
       "1           0.862181         0.865596        0.004920                3  \n",
       "2           0.861661         0.865531        0.005133                4  \n",
       "7           0.861947         0.865487        0.005412                5  "
      ]
     },
     "execution_count": 46,
     "metadata": {},
     "output_type": "execute_result"
    }
   ],
   "source": [
    "gs_df = pd.DataFrame(gs_xgb.cv_results_)\n",
    "gs_df.sort_values('rank_test_score').head()"
   ]
  },
  {
   "cell_type": "code",
   "execution_count": 47,
   "metadata": {
    "ExecuteTime": {
     "end_time": "2021-11-28T01:12:59.932430Z",
     "start_time": "2021-11-28T01:12:59.927433Z"
    }
   },
   "outputs": [],
   "source": [
    "best_model_xgb = gs_xgb.best_estimator_"
   ]
  },
  {
   "cell_type": "code",
   "execution_count": 21,
   "metadata": {
    "ExecuteTime": {
     "end_time": "2021-11-29T02:26:58.309652Z",
     "start_time": "2021-11-29T02:26:58.290704Z"
    }
   },
   "outputs": [],
   "source": [
    "# 모델저장\n",
    "import os\n",
    "save_dir = 'saved_model'\n",
    "os.makedirs(save_dir, exist_ok=True) #디렉토리 만들기(없으면 만들고 있으면 안 만든다.)\n",
    "\n",
    "\n",
    "xgb_file_path = os.path.join(save_dir, 'xgb_best.pkl')\n",
    "best_model_xgb.save_model(xgb_file_path) #xgb객체.save_model(경로) => 모델을 파일로 저장."
   ]
  },
  {
   "cell_type": "code",
   "execution_count": 22,
   "metadata": {
    "ExecuteTime": {
     "end_time": "2021-11-29T02:26:59.107076Z",
     "start_time": "2021-11-29T02:26:59.089122Z"
    }
   },
   "outputs": [],
   "source": [
    "# Load Model\n",
    "saved_xgb = XGBClassifier()\n",
    "saved_xgb.load_model(xgb_file_path)"
   ]
  },
  {
   "cell_type": "markdown",
   "metadata": {},
   "source": [
    "### GradientBoosting"
   ]
  },
  {
   "cell_type": "code",
   "execution_count": 51,
   "metadata": {
    "ExecuteTime": {
     "end_time": "2021-11-28T01:15:10.072636Z",
     "start_time": "2021-11-28T01:15:10.055661Z"
    }
   },
   "outputs": [],
   "source": [
    "param_gb = {\n",
    "    'learning_rate':[0.001, 0.01,0.1,0.5,1,10],\n",
    "    'n_estimators':[100,200,300,400,500],\n",
    "    'max_depth':range(1,6),\n",
    "    'subsample':[0.6,0.7,0.8,0.9,1],\n",
    "}\n",
    "rs_gb = RandomizedSearchCV(GradientBoostingClassifier(random_state=0), \n",
    "                           param_distributions=param_gb, \n",
    "                           n_iter=60, \n",
    "                           cv=5, \n",
    "                           scoring='roc_auc', \n",
    "                           n_jobs=-1)"
   ]
  },
  {
   "cell_type": "code",
   "execution_count": 52,
   "metadata": {
    "ExecuteTime": {
     "end_time": "2021-11-28T02:01:44.541265Z",
     "start_time": "2021-11-28T01:15:19.023578Z"
    },
    "scrolled": true
   },
   "outputs": [
    {
     "data": {
      "text/plain": [
       "RandomizedSearchCV(cv=5, estimator=GradientBoostingClassifier(random_state=0),\n",
       "                   n_iter=60, n_jobs=-1,\n",
       "                   param_distributions={'learning_rate': [0.001, 0.01, 0.1, 0.5,\n",
       "                                                          1, 10],\n",
       "                                        'max_depth': range(1, 6),\n",
       "                                        'n_estimators': [100, 200, 300, 400,\n",
       "                                                         500],\n",
       "                                        'subsample': [0.6, 0.7, 0.8, 0.9, 1]},\n",
       "                   scoring='roc_auc')"
      ]
     },
     "execution_count": 52,
     "metadata": {},
     "output_type": "execute_result"
    }
   ],
   "source": [
    "rs_gb.fit(X_train, y_train)"
   ]
  },
  {
   "cell_type": "code",
   "execution_count": 53,
   "metadata": {
    "ExecuteTime": {
     "end_time": "2021-11-28T02:01:44.557091Z",
     "start_time": "2021-11-28T02:01:44.543054Z"
    }
   },
   "outputs": [
    {
     "data": {
      "text/plain": [
       "{'subsample': 0.7, 'n_estimators': 400, 'max_depth': 3, 'learning_rate': 0.1}"
      ]
     },
     "execution_count": 53,
     "metadata": {},
     "output_type": "execute_result"
    }
   ],
   "source": [
    "rs_gb.best_params_"
   ]
  },
  {
   "cell_type": "code",
   "execution_count": 54,
   "metadata": {
    "ExecuteTime": {
     "end_time": "2021-11-28T02:01:44.572523Z",
     "start_time": "2021-11-28T02:01:44.559396Z"
    }
   },
   "outputs": [
    {
     "data": {
      "text/plain": [
       "0.8649254493129028"
      ]
     },
     "execution_count": 54,
     "metadata": {},
     "output_type": "execute_result"
    }
   ],
   "source": [
    "rs_gb.best_score_"
   ]
  },
  {
   "cell_type": "code",
   "execution_count": 55,
   "metadata": {
    "ExecuteTime": {
     "end_time": "2021-11-28T02:01:44.613450Z",
     "start_time": "2021-11-28T02:01:44.575416Z"
    },
    "scrolled": true
   },
   "outputs": [
    {
     "data": {
      "text/html": [
       "<div>\n",
       "<style scoped>\n",
       "    .dataframe tbody tr th:only-of-type {\n",
       "        vertical-align: middle;\n",
       "    }\n",
       "\n",
       "    .dataframe tbody tr th {\n",
       "        vertical-align: top;\n",
       "    }\n",
       "\n",
       "    .dataframe thead th {\n",
       "        text-align: right;\n",
       "    }\n",
       "</style>\n",
       "<table border=\"1\" class=\"dataframe\">\n",
       "  <thead>\n",
       "    <tr style=\"text-align: right;\">\n",
       "      <th></th>\n",
       "      <th>mean_fit_time</th>\n",
       "      <th>std_fit_time</th>\n",
       "      <th>mean_score_time</th>\n",
       "      <th>std_score_time</th>\n",
       "      <th>param_subsample</th>\n",
       "      <th>param_n_estimators</th>\n",
       "      <th>param_max_depth</th>\n",
       "      <th>param_learning_rate</th>\n",
       "      <th>params</th>\n",
       "      <th>split0_test_score</th>\n",
       "      <th>split1_test_score</th>\n",
       "      <th>split2_test_score</th>\n",
       "      <th>split3_test_score</th>\n",
       "      <th>split4_test_score</th>\n",
       "      <th>mean_test_score</th>\n",
       "      <th>std_test_score</th>\n",
       "      <th>rank_test_score</th>\n",
       "    </tr>\n",
       "  </thead>\n",
       "  <tbody>\n",
       "    <tr>\n",
       "      <th>4</th>\n",
       "      <td>87.439586</td>\n",
       "      <td>0.393772</td>\n",
       "      <td>0.218750</td>\n",
       "      <td>0.000003</td>\n",
       "      <td>0.7</td>\n",
       "      <td>400</td>\n",
       "      <td>3</td>\n",
       "      <td>0.1</td>\n",
       "      <td>{'subsample': 0.7, 'n_estimators': 400, 'max_d...</td>\n",
       "      <td>0.874596</td>\n",
       "      <td>0.865694</td>\n",
       "      <td>0.863766</td>\n",
       "      <td>0.860195</td>\n",
       "      <td>0.860377</td>\n",
       "      <td>0.864925</td>\n",
       "      <td>0.005263</td>\n",
       "      <td>1</td>\n",
       "    </tr>\n",
       "    <tr>\n",
       "      <th>9</th>\n",
       "      <td>80.648487</td>\n",
       "      <td>1.104507</td>\n",
       "      <td>0.209383</td>\n",
       "      <td>0.007656</td>\n",
       "      <td>0.7</td>\n",
       "      <td>500</td>\n",
       "      <td>2</td>\n",
       "      <td>0.1</td>\n",
       "      <td>{'subsample': 0.7, 'n_estimators': 500, 'max_d...</td>\n",
       "      <td>0.874537</td>\n",
       "      <td>0.864986</td>\n",
       "      <td>0.863223</td>\n",
       "      <td>0.860554</td>\n",
       "      <td>0.860563</td>\n",
       "      <td>0.864772</td>\n",
       "      <td>0.005163</td>\n",
       "      <td>2</td>\n",
       "    </tr>\n",
       "    <tr>\n",
       "      <th>30</th>\n",
       "      <td>95.200368</td>\n",
       "      <td>0.479226</td>\n",
       "      <td>0.218750</td>\n",
       "      <td>0.009882</td>\n",
       "      <td>1</td>\n",
       "      <td>500</td>\n",
       "      <td>2</td>\n",
       "      <td>0.1</td>\n",
       "      <td>{'subsample': 1, 'n_estimators': 500, 'max_dep...</td>\n",
       "      <td>0.874283</td>\n",
       "      <td>0.865131</td>\n",
       "      <td>0.863204</td>\n",
       "      <td>0.859948</td>\n",
       "      <td>0.860498</td>\n",
       "      <td>0.864613</td>\n",
       "      <td>0.005186</td>\n",
       "      <td>3</td>\n",
       "    </tr>\n",
       "    <tr>\n",
       "      <th>22</th>\n",
       "      <td>151.157891</td>\n",
       "      <td>0.614488</td>\n",
       "      <td>0.481239</td>\n",
       "      <td>0.006265</td>\n",
       "      <td>0.6</td>\n",
       "      <td>500</td>\n",
       "      <td>5</td>\n",
       "      <td>0.01</td>\n",
       "      <td>{'subsample': 0.6, 'n_estimators': 500, 'max_d...</td>\n",
       "      <td>0.874642</td>\n",
       "      <td>0.865064</td>\n",
       "      <td>0.862633</td>\n",
       "      <td>0.859184</td>\n",
       "      <td>0.861454</td>\n",
       "      <td>0.864595</td>\n",
       "      <td>0.005370</td>\n",
       "      <td>4</td>\n",
       "    </tr>\n",
       "    <tr>\n",
       "      <th>3</th>\n",
       "      <td>76.538395</td>\n",
       "      <td>0.624363</td>\n",
       "      <td>0.187497</td>\n",
       "      <td>0.000005</td>\n",
       "      <td>1</td>\n",
       "      <td>400</td>\n",
       "      <td>2</td>\n",
       "      <td>0.1</td>\n",
       "      <td>{'subsample': 1, 'n_estimators': 400, 'max_dep...</td>\n",
       "      <td>0.874333</td>\n",
       "      <td>0.864844</td>\n",
       "      <td>0.862957</td>\n",
       "      <td>0.859751</td>\n",
       "      <td>0.860694</td>\n",
       "      <td>0.864516</td>\n",
       "      <td>0.005220</td>\n",
       "      <td>5</td>\n",
       "    </tr>\n",
       "  </tbody>\n",
       "</table>\n",
       "</div>"
      ],
      "text/plain": [
       "    mean_fit_time  std_fit_time  mean_score_time  std_score_time  \\\n",
       "4       87.439586      0.393772         0.218750        0.000003   \n",
       "9       80.648487      1.104507         0.209383        0.007656   \n",
       "30      95.200368      0.479226         0.218750        0.009882   \n",
       "22     151.157891      0.614488         0.481239        0.006265   \n",
       "3       76.538395      0.624363         0.187497        0.000005   \n",
       "\n",
       "   param_subsample param_n_estimators param_max_depth param_learning_rate  \\\n",
       "4              0.7                400               3                 0.1   \n",
       "9              0.7                500               2                 0.1   \n",
       "30               1                500               2                 0.1   \n",
       "22             0.6                500               5                0.01   \n",
       "3                1                400               2                 0.1   \n",
       "\n",
       "                                               params  split0_test_score  \\\n",
       "4   {'subsample': 0.7, 'n_estimators': 400, 'max_d...           0.874596   \n",
       "9   {'subsample': 0.7, 'n_estimators': 500, 'max_d...           0.874537   \n",
       "30  {'subsample': 1, 'n_estimators': 500, 'max_dep...           0.874283   \n",
       "22  {'subsample': 0.6, 'n_estimators': 500, 'max_d...           0.874642   \n",
       "3   {'subsample': 1, 'n_estimators': 400, 'max_dep...           0.874333   \n",
       "\n",
       "    split1_test_score  split2_test_score  split3_test_score  \\\n",
       "4            0.865694           0.863766           0.860195   \n",
       "9            0.864986           0.863223           0.860554   \n",
       "30           0.865131           0.863204           0.859948   \n",
       "22           0.865064           0.862633           0.859184   \n",
       "3            0.864844           0.862957           0.859751   \n",
       "\n",
       "    split4_test_score  mean_test_score  std_test_score  rank_test_score  \n",
       "4            0.860377         0.864925        0.005263                1  \n",
       "9            0.860563         0.864772        0.005163                2  \n",
       "30           0.860498         0.864613        0.005186                3  \n",
       "22           0.861454         0.864595        0.005370                4  \n",
       "3            0.860694         0.864516        0.005220                5  "
      ]
     },
     "execution_count": 55,
     "metadata": {},
     "output_type": "execute_result"
    }
   ],
   "source": [
    "rs_df2 = pd.DataFrame(rs_gb.cv_results_)\n",
    "rs_df2.sort_values('rank_test_score').head()"
   ]
  },
  {
   "cell_type": "code",
   "execution_count": 61,
   "metadata": {
    "ExecuteTime": {
     "end_time": "2021-11-28T02:57:15.612986Z",
     "start_time": "2021-11-28T02:57:15.604983Z"
    }
   },
   "outputs": [],
   "source": [
    "param={\n",
    "    \"subsample\":[0.6, 0.7, 0.8], \n",
    "    \"n_estimators\":[300,400,500],\n",
    "    \"max_depth\":[2,3,4]\n",
    "}\n",
    "gs_gb = GridSearchCV(GradientBoostingClassifier(learning_rate=0.1, random_state=0),\n",
    "                    param_grid=param, \n",
    "                    scoring='roc_auc',\n",
    "                    cv=5,\n",
    "                    n_jobs=-1)"
   ]
  },
  {
   "cell_type": "code",
   "execution_count": 62,
   "metadata": {
    "ExecuteTime": {
     "end_time": "2021-11-28T03:23:14.057985Z",
     "start_time": "2021-11-28T02:57:28.397433Z"
    }
   },
   "outputs": [
    {
     "data": {
      "text/plain": [
       "GridSearchCV(cv=5, estimator=GradientBoostingClassifier(random_state=0),\n",
       "             n_jobs=-1,\n",
       "             param_grid={'max_depth': [2, 3, 4],\n",
       "                         'n_estimators': [300, 400, 500],\n",
       "                         'subsample': [0.6, 0.7, 0.8]},\n",
       "             scoring='roc_auc')"
      ]
     },
     "execution_count": 62,
     "metadata": {},
     "output_type": "execute_result"
    }
   ],
   "source": [
    "gs_gb.fit(X_train, y_train)"
   ]
  },
  {
   "cell_type": "code",
   "execution_count": 63,
   "metadata": {
    "ExecuteTime": {
     "end_time": "2021-11-28T03:23:14.073968Z",
     "start_time": "2021-11-28T03:23:14.057985Z"
    }
   },
   "outputs": [
    {
     "data": {
      "text/plain": [
       "{'max_depth': 3, 'n_estimators': 400, 'subsample': 0.8}"
      ]
     },
     "execution_count": 63,
     "metadata": {},
     "output_type": "execute_result"
    }
   ],
   "source": [
    "gs_gb.best_params_"
   ]
  },
  {
   "cell_type": "code",
   "execution_count": 64,
   "metadata": {
    "ExecuteTime": {
     "end_time": "2021-11-28T03:23:14.089903Z",
     "start_time": "2021-11-28T03:23:14.075904Z"
    }
   },
   "outputs": [
    {
     "data": {
      "text/plain": [
       "0.8651901976338401"
      ]
     },
     "execution_count": 64,
     "metadata": {},
     "output_type": "execute_result"
    }
   ],
   "source": [
    "gs_gb.best_score_"
   ]
  },
  {
   "cell_type": "code",
   "execution_count": 65,
   "metadata": {
    "ExecuteTime": {
     "end_time": "2021-11-28T03:23:14.137900Z",
     "start_time": "2021-11-28T03:23:14.095903Z"
    },
    "scrolled": true
   },
   "outputs": [
    {
     "data": {
      "text/html": [
       "<div>\n",
       "<style scoped>\n",
       "    .dataframe tbody tr th:only-of-type {\n",
       "        vertical-align: middle;\n",
       "    }\n",
       "\n",
       "    .dataframe tbody tr th {\n",
       "        vertical-align: top;\n",
       "    }\n",
       "\n",
       "    .dataframe thead th {\n",
       "        text-align: right;\n",
       "    }\n",
       "</style>\n",
       "<table border=\"1\" class=\"dataframe\">\n",
       "  <thead>\n",
       "    <tr style=\"text-align: right;\">\n",
       "      <th></th>\n",
       "      <th>mean_fit_time</th>\n",
       "      <th>std_fit_time</th>\n",
       "      <th>mean_score_time</th>\n",
       "      <th>std_score_time</th>\n",
       "      <th>param_max_depth</th>\n",
       "      <th>param_n_estimators</th>\n",
       "      <th>param_subsample</th>\n",
       "      <th>params</th>\n",
       "      <th>split0_test_score</th>\n",
       "      <th>split1_test_score</th>\n",
       "      <th>split2_test_score</th>\n",
       "      <th>split3_test_score</th>\n",
       "      <th>split4_test_score</th>\n",
       "      <th>mean_test_score</th>\n",
       "      <th>std_test_score</th>\n",
       "      <th>rank_test_score</th>\n",
       "    </tr>\n",
       "  </thead>\n",
       "  <tbody>\n",
       "    <tr>\n",
       "      <th>14</th>\n",
       "      <td>94.270927</td>\n",
       "      <td>0.613004</td>\n",
       "      <td>0.218747</td>\n",
       "      <td>0.000011</td>\n",
       "      <td>3</td>\n",
       "      <td>400</td>\n",
       "      <td>0.8</td>\n",
       "      <td>{'max_depth': 3, 'n_estimators': 400, 'subsamp...</td>\n",
       "      <td>0.874113</td>\n",
       "      <td>0.866089</td>\n",
       "      <td>0.863399</td>\n",
       "      <td>0.860763</td>\n",
       "      <td>0.861586</td>\n",
       "      <td>0.865190</td>\n",
       "      <td>0.004821</td>\n",
       "      <td>1</td>\n",
       "    </tr>\n",
       "    <tr>\n",
       "      <th>17</th>\n",
       "      <td>118.147506</td>\n",
       "      <td>0.748996</td>\n",
       "      <td>0.265629</td>\n",
       "      <td>0.009872</td>\n",
       "      <td>3</td>\n",
       "      <td>500</td>\n",
       "      <td>0.8</td>\n",
       "      <td>{'max_depth': 3, 'n_estimators': 500, 'subsamp...</td>\n",
       "      <td>0.874049</td>\n",
       "      <td>0.865394</td>\n",
       "      <td>0.863408</td>\n",
       "      <td>0.860701</td>\n",
       "      <td>0.861606</td>\n",
       "      <td>0.865032</td>\n",
       "      <td>0.004787</td>\n",
       "      <td>2</td>\n",
       "    </tr>\n",
       "    <tr>\n",
       "      <th>11</th>\n",
       "      <td>76.431602</td>\n",
       "      <td>1.126797</td>\n",
       "      <td>0.177856</td>\n",
       "      <td>0.008967</td>\n",
       "      <td>3</td>\n",
       "      <td>300</td>\n",
       "      <td>0.8</td>\n",
       "      <td>{'max_depth': 3, 'n_estimators': 300, 'subsamp...</td>\n",
       "      <td>0.874041</td>\n",
       "      <td>0.866068</td>\n",
       "      <td>0.863220</td>\n",
       "      <td>0.860193</td>\n",
       "      <td>0.861567</td>\n",
       "      <td>0.865018</td>\n",
       "      <td>0.004918</td>\n",
       "      <td>3</td>\n",
       "    </tr>\n",
       "    <tr>\n",
       "      <th>16</th>\n",
       "      <td>105.908822</td>\n",
       "      <td>0.339065</td>\n",
       "      <td>0.262501</td>\n",
       "      <td>0.006252</td>\n",
       "      <td>3</td>\n",
       "      <td>500</td>\n",
       "      <td>0.7</td>\n",
       "      <td>{'max_depth': 3, 'n_estimators': 500, 'subsamp...</td>\n",
       "      <td>0.874683</td>\n",
       "      <td>0.865589</td>\n",
       "      <td>0.863736</td>\n",
       "      <td>0.860127</td>\n",
       "      <td>0.860571</td>\n",
       "      <td>0.864941</td>\n",
       "      <td>0.005273</td>\n",
       "      <td>4</td>\n",
       "    </tr>\n",
       "    <tr>\n",
       "      <th>13</th>\n",
       "      <td>85.046958</td>\n",
       "      <td>0.418646</td>\n",
       "      <td>0.212501</td>\n",
       "      <td>0.007652</td>\n",
       "      <td>3</td>\n",
       "      <td>400</td>\n",
       "      <td>0.7</td>\n",
       "      <td>{'max_depth': 3, 'n_estimators': 400, 'subsamp...</td>\n",
       "      <td>0.874596</td>\n",
       "      <td>0.865694</td>\n",
       "      <td>0.863766</td>\n",
       "      <td>0.860195</td>\n",
       "      <td>0.860377</td>\n",
       "      <td>0.864925</td>\n",
       "      <td>0.005263</td>\n",
       "      <td>5</td>\n",
       "    </tr>\n",
       "  </tbody>\n",
       "</table>\n",
       "</div>"
      ],
      "text/plain": [
       "    mean_fit_time  std_fit_time  mean_score_time  std_score_time  \\\n",
       "14      94.270927      0.613004         0.218747        0.000011   \n",
       "17     118.147506      0.748996         0.265629        0.009872   \n",
       "11      76.431602      1.126797         0.177856        0.008967   \n",
       "16     105.908822      0.339065         0.262501        0.006252   \n",
       "13      85.046958      0.418646         0.212501        0.007652   \n",
       "\n",
       "   param_max_depth param_n_estimators param_subsample  \\\n",
       "14               3                400             0.8   \n",
       "17               3                500             0.8   \n",
       "11               3                300             0.8   \n",
       "16               3                500             0.7   \n",
       "13               3                400             0.7   \n",
       "\n",
       "                                               params  split0_test_score  \\\n",
       "14  {'max_depth': 3, 'n_estimators': 400, 'subsamp...           0.874113   \n",
       "17  {'max_depth': 3, 'n_estimators': 500, 'subsamp...           0.874049   \n",
       "11  {'max_depth': 3, 'n_estimators': 300, 'subsamp...           0.874041   \n",
       "16  {'max_depth': 3, 'n_estimators': 500, 'subsamp...           0.874683   \n",
       "13  {'max_depth': 3, 'n_estimators': 400, 'subsamp...           0.874596   \n",
       "\n",
       "    split1_test_score  split2_test_score  split3_test_score  \\\n",
       "14           0.866089           0.863399           0.860763   \n",
       "17           0.865394           0.863408           0.860701   \n",
       "11           0.866068           0.863220           0.860193   \n",
       "16           0.865589           0.863736           0.860127   \n",
       "13           0.865694           0.863766           0.860195   \n",
       "\n",
       "    split4_test_score  mean_test_score  std_test_score  rank_test_score  \n",
       "14           0.861586         0.865190        0.004821                1  \n",
       "17           0.861606         0.865032        0.004787                2  \n",
       "11           0.861567         0.865018        0.004918                3  \n",
       "16           0.860571         0.864941        0.005273                4  \n",
       "13           0.860377         0.864925        0.005263                5  "
      ]
     },
     "execution_count": 65,
     "metadata": {},
     "output_type": "execute_result"
    }
   ],
   "source": [
    "gs_df2 = pd.DataFrame(gs_gb.cv_results_)\n",
    "gs_df2.sort_values('rank_test_score').head()"
   ]
  },
  {
   "cell_type": "code",
   "execution_count": 74,
   "metadata": {
    "ExecuteTime": {
     "end_time": "2021-11-28T04:09:06.631074Z",
     "start_time": "2021-11-28T04:09:06.625081Z"
    }
   },
   "outputs": [],
   "source": [
    "best_model_gb = gs_gb.best_estimator_"
   ]
  },
  {
   "cell_type": "code",
   "execution_count": 95,
   "metadata": {
    "ExecuteTime": {
     "end_time": "2021-11-28T07:47:03.657910Z",
     "start_time": "2021-11-28T07:47:03.633916Z"
    }
   },
   "outputs": [],
   "source": [
    "# 모델 저장\n",
    "gb_file_path = os.path.join(save_dir, 'gradient_boosting_best.pkl')\n",
    "with open(gb_file_path, 'wb') as fw:\n",
    "    pickle.dump(best_model_gb, fw) "
   ]
  },
  {
   "cell_type": "code",
   "execution_count": 24,
   "metadata": {
    "ExecuteTime": {
     "end_time": "2021-11-29T02:30:43.886354Z",
     "start_time": "2021-11-29T02:30:43.852445Z"
    }
   },
   "outputs": [],
   "source": [
    "gb_file_path = os.path.join(save_dir, 'gradient_boosting_best.pkl')\n",
    "with open(gb_file_path, 'rb') as fr:\n",
    "    saved_gb = pickle.load(fr) "
   ]
  },
  {
   "cell_type": "markdown",
   "metadata": {},
   "source": [
    "### RandomForest"
   ]
  },
  {
   "cell_type": "code",
   "execution_count": 56,
   "metadata": {
    "ExecuteTime": {
     "end_time": "2021-11-28T02:01:44.629049Z",
     "start_time": "2021-11-28T02:01:44.613450Z"
    }
   },
   "outputs": [],
   "source": [
    "param_rf = {\n",
    "    'n_estimators':[100,200,300,400,500],\n",
    "    'max_depth':range(1,5),\n",
    "    'max_features':range(5,11)\n",
    "}\n",
    "rs_rf = RandomizedSearchCV(RandomForestClassifier(random_state=0), \n",
    "                                 param_distributions=param_rf, \n",
    "                                 n_iter=60, \n",
    "                                 cv=5, \n",
    "                                 scoring='roc_auc', \n",
    "                                 n_jobs=-1)"
   ]
  },
  {
   "cell_type": "code",
   "execution_count": 57,
   "metadata": {
    "ExecuteTime": {
     "end_time": "2021-11-28T02:28:43.144581Z",
     "start_time": "2021-11-28T02:01:44.629049Z"
    }
   },
   "outputs": [
    {
     "data": {
      "text/plain": [
       "RandomizedSearchCV(cv=5, estimator=RandomForestClassifier(random_state=0),\n",
       "                   n_iter=60, n_jobs=-1,\n",
       "                   param_distributions={'max_depth': range(1, 5),\n",
       "                                        'max_features': range(5, 11),\n",
       "                                        'n_estimators': [100, 200, 300, 400,\n",
       "                                                         500]},\n",
       "                   scoring='roc_auc')"
      ]
     },
     "execution_count": 57,
     "metadata": {},
     "output_type": "execute_result"
    }
   ],
   "source": [
    "rs_rf.fit(X_train, y_train)"
   ]
  },
  {
   "cell_type": "code",
   "execution_count": 58,
   "metadata": {
    "ExecuteTime": {
     "end_time": "2021-11-28T02:28:43.159862Z",
     "start_time": "2021-11-28T02:28:43.144581Z"
    }
   },
   "outputs": [
    {
     "data": {
      "text/plain": [
       "{'n_estimators': 500, 'max_features': 5, 'max_depth': 4}"
      ]
     },
     "execution_count": 58,
     "metadata": {},
     "output_type": "execute_result"
    }
   ],
   "source": [
    "rs_rf.best_params_"
   ]
  },
  {
   "cell_type": "code",
   "execution_count": 59,
   "metadata": {
    "ExecuteTime": {
     "end_time": "2021-11-28T02:28:43.177629Z",
     "start_time": "2021-11-28T02:28:43.162226Z"
    }
   },
   "outputs": [
    {
     "data": {
      "text/plain": [
       "0.8574212595493437"
      ]
     },
     "execution_count": 59,
     "metadata": {},
     "output_type": "execute_result"
    }
   ],
   "source": [
    "rs_rf.best_score_"
   ]
  },
  {
   "cell_type": "code",
   "execution_count": 60,
   "metadata": {
    "ExecuteTime": {
     "end_time": "2021-11-28T02:28:43.216457Z",
     "start_time": "2021-11-28T02:28:43.178481Z"
    },
    "scrolled": true
   },
   "outputs": [
    {
     "data": {
      "text/html": [
       "<div>\n",
       "<style scoped>\n",
       "    .dataframe tbody tr th:only-of-type {\n",
       "        vertical-align: middle;\n",
       "    }\n",
       "\n",
       "    .dataframe tbody tr th {\n",
       "        vertical-align: top;\n",
       "    }\n",
       "\n",
       "    .dataframe thead th {\n",
       "        text-align: right;\n",
       "    }\n",
       "</style>\n",
       "<table border=\"1\" class=\"dataframe\">\n",
       "  <thead>\n",
       "    <tr style=\"text-align: right;\">\n",
       "      <th></th>\n",
       "      <th>mean_fit_time</th>\n",
       "      <th>std_fit_time</th>\n",
       "      <th>mean_score_time</th>\n",
       "      <th>std_score_time</th>\n",
       "      <th>param_n_estimators</th>\n",
       "      <th>param_max_features</th>\n",
       "      <th>param_max_depth</th>\n",
       "      <th>params</th>\n",
       "      <th>split0_test_score</th>\n",
       "      <th>split1_test_score</th>\n",
       "      <th>split2_test_score</th>\n",
       "      <th>split3_test_score</th>\n",
       "      <th>split4_test_score</th>\n",
       "      <th>mean_test_score</th>\n",
       "      <th>std_test_score</th>\n",
       "      <th>rank_test_score</th>\n",
       "    </tr>\n",
       "  </thead>\n",
       "  <tbody>\n",
       "    <tr>\n",
       "      <th>7</th>\n",
       "      <td>73.531847</td>\n",
       "      <td>2.457526</td>\n",
       "      <td>1.368750</td>\n",
       "      <td>0.021194</td>\n",
       "      <td>500</td>\n",
       "      <td>5</td>\n",
       "      <td>4</td>\n",
       "      <td>{'n_estimators': 500, 'max_features': 5, 'max_...</td>\n",
       "      <td>0.867495</td>\n",
       "      <td>0.857701</td>\n",
       "      <td>0.857847</td>\n",
       "      <td>0.851686</td>\n",
       "      <td>0.852378</td>\n",
       "      <td>0.857421</td>\n",
       "      <td>0.005658</td>\n",
       "      <td>1</td>\n",
       "    </tr>\n",
       "    <tr>\n",
       "      <th>24</th>\n",
       "      <td>40.256247</td>\n",
       "      <td>0.420611</td>\n",
       "      <td>0.824998</td>\n",
       "      <td>0.006249</td>\n",
       "      <td>300</td>\n",
       "      <td>5</td>\n",
       "      <td>4</td>\n",
       "      <td>{'n_estimators': 300, 'max_features': 5, 'max_...</td>\n",
       "      <td>0.867615</td>\n",
       "      <td>0.857822</td>\n",
       "      <td>0.857946</td>\n",
       "      <td>0.851409</td>\n",
       "      <td>0.852292</td>\n",
       "      <td>0.857417</td>\n",
       "      <td>0.005776</td>\n",
       "      <td>2</td>\n",
       "    </tr>\n",
       "    <tr>\n",
       "      <th>9</th>\n",
       "      <td>80.320407</td>\n",
       "      <td>1.818594</td>\n",
       "      <td>1.550004</td>\n",
       "      <td>0.121598</td>\n",
       "      <td>500</td>\n",
       "      <td>6</td>\n",
       "      <td>4</td>\n",
       "      <td>{'n_estimators': 500, 'max_features': 6, 'max_...</td>\n",
       "      <td>0.866967</td>\n",
       "      <td>0.856554</td>\n",
       "      <td>0.857327</td>\n",
       "      <td>0.851474</td>\n",
       "      <td>0.852273</td>\n",
       "      <td>0.856919</td>\n",
       "      <td>0.005522</td>\n",
       "      <td>3</td>\n",
       "    </tr>\n",
       "    <tr>\n",
       "      <th>1</th>\n",
       "      <td>30.761284</td>\n",
       "      <td>1.485742</td>\n",
       "      <td>0.549998</td>\n",
       "      <td>0.011696</td>\n",
       "      <td>200</td>\n",
       "      <td>6</td>\n",
       "      <td>4</td>\n",
       "      <td>{'n_estimators': 200, 'max_features': 6, 'max_...</td>\n",
       "      <td>0.867609</td>\n",
       "      <td>0.856124</td>\n",
       "      <td>0.856800</td>\n",
       "      <td>0.851451</td>\n",
       "      <td>0.852574</td>\n",
       "      <td>0.856912</td>\n",
       "      <td>0.005722</td>\n",
       "      <td>4</td>\n",
       "    </tr>\n",
       "    <tr>\n",
       "      <th>26</th>\n",
       "      <td>61.568321</td>\n",
       "      <td>0.602533</td>\n",
       "      <td>1.090620</td>\n",
       "      <td>0.006253</td>\n",
       "      <td>400</td>\n",
       "      <td>6</td>\n",
       "      <td>4</td>\n",
       "      <td>{'n_estimators': 400, 'max_features': 6, 'max_...</td>\n",
       "      <td>0.866947</td>\n",
       "      <td>0.856386</td>\n",
       "      <td>0.857085</td>\n",
       "      <td>0.851530</td>\n",
       "      <td>0.852166</td>\n",
       "      <td>0.856823</td>\n",
       "      <td>0.005522</td>\n",
       "      <td>5</td>\n",
       "    </tr>\n",
       "  </tbody>\n",
       "</table>\n",
       "</div>"
      ],
      "text/plain": [
       "    mean_fit_time  std_fit_time  mean_score_time  std_score_time  \\\n",
       "7       73.531847      2.457526         1.368750        0.021194   \n",
       "24      40.256247      0.420611         0.824998        0.006249   \n",
       "9       80.320407      1.818594         1.550004        0.121598   \n",
       "1       30.761284      1.485742         0.549998        0.011696   \n",
       "26      61.568321      0.602533         1.090620        0.006253   \n",
       "\n",
       "   param_n_estimators param_max_features param_max_depth  \\\n",
       "7                 500                  5               4   \n",
       "24                300                  5               4   \n",
       "9                 500                  6               4   \n",
       "1                 200                  6               4   \n",
       "26                400                  6               4   \n",
       "\n",
       "                                               params  split0_test_score  \\\n",
       "7   {'n_estimators': 500, 'max_features': 5, 'max_...           0.867495   \n",
       "24  {'n_estimators': 300, 'max_features': 5, 'max_...           0.867615   \n",
       "9   {'n_estimators': 500, 'max_features': 6, 'max_...           0.866967   \n",
       "1   {'n_estimators': 200, 'max_features': 6, 'max_...           0.867609   \n",
       "26  {'n_estimators': 400, 'max_features': 6, 'max_...           0.866947   \n",
       "\n",
       "    split1_test_score  split2_test_score  split3_test_score  \\\n",
       "7            0.857701           0.857847           0.851686   \n",
       "24           0.857822           0.857946           0.851409   \n",
       "9            0.856554           0.857327           0.851474   \n",
       "1            0.856124           0.856800           0.851451   \n",
       "26           0.856386           0.857085           0.851530   \n",
       "\n",
       "    split4_test_score  mean_test_score  std_test_score  rank_test_score  \n",
       "7            0.852378         0.857421        0.005658                1  \n",
       "24           0.852292         0.857417        0.005776                2  \n",
       "9            0.852273         0.856919        0.005522                3  \n",
       "1            0.852574         0.856912        0.005722                4  \n",
       "26           0.852166         0.856823        0.005522                5  "
      ]
     },
     "execution_count": 60,
     "metadata": {},
     "output_type": "execute_result"
    }
   ],
   "source": [
    "rs_df3 = pd.DataFrame(rs_rf.cv_results_)\n",
    "rs_df3.sort_values('rank_test_score').head()"
   ]
  },
  {
   "cell_type": "code",
   "execution_count": 79,
   "metadata": {
    "ExecuteTime": {
     "end_time": "2021-11-28T04:11:56.876381Z",
     "start_time": "2021-11-28T04:11:56.856383Z"
    }
   },
   "outputs": [],
   "source": [
    "param = {\n",
    "    \"n_estimators\":[400,500,600,700], \n",
    "    \"max_features\":[3,4,5,6],\n",
    "    \"max_depth\":[3,4,5,6]\n",
    "}\n",
    "\n",
    "gs_rf = GridSearchCV(RandomForestClassifier(random_state=0),\n",
    "                    param_grid=param, \n",
    "                    scoring='roc_auc',\n",
    "                    cv=5,\n",
    "                    n_jobs=-1)"
   ]
  },
  {
   "cell_type": "code",
   "execution_count": 80,
   "metadata": {
    "ExecuteTime": {
     "end_time": "2021-11-28T05:20:38.846962Z",
     "start_time": "2021-11-28T04:11:58.184844Z"
    }
   },
   "outputs": [
    {
     "data": {
      "text/plain": [
       "GridSearchCV(cv=5, estimator=RandomForestClassifier(random_state=0), n_jobs=-1,\n",
       "             param_grid={'max_depth': [3, 4, 5, 6],\n",
       "                         'max_features': [3, 4, 5, 6],\n",
       "                         'n_estimators': [400, 500, 600, 700, 700]},\n",
       "             scoring='roc_auc')"
      ]
     },
     "execution_count": 80,
     "metadata": {},
     "output_type": "execute_result"
    }
   ],
   "source": [
    "gs_rf.fit(X_train, y_train)"
   ]
  },
  {
   "cell_type": "code",
   "execution_count": 81,
   "metadata": {
    "ExecuteTime": {
     "end_time": "2021-11-28T05:20:38.863979Z",
     "start_time": "2021-11-28T05:20:38.848960Z"
    }
   },
   "outputs": [
    {
     "data": {
      "text/plain": [
       "{'max_depth': 6, 'max_features': 3, 'n_estimators': 400}"
      ]
     },
     "execution_count": 81,
     "metadata": {},
     "output_type": "execute_result"
    }
   ],
   "source": [
    "gs_rf.best_params_"
   ]
  },
  {
   "cell_type": "code",
   "execution_count": 82,
   "metadata": {
    "ExecuteTime": {
     "end_time": "2021-11-28T05:20:38.879972Z",
     "start_time": "2021-11-28T05:20:38.865796Z"
    },
    "scrolled": true
   },
   "outputs": [
    {
     "data": {
      "text/plain": [
       "0.861018496990928"
      ]
     },
     "execution_count": 82,
     "metadata": {},
     "output_type": "execute_result"
    }
   ],
   "source": [
    "gs_rf.best_score_"
   ]
  },
  {
   "cell_type": "code",
   "execution_count": 83,
   "metadata": {
    "ExecuteTime": {
     "end_time": "2021-11-28T05:20:38.920674Z",
     "start_time": "2021-11-28T05:20:38.881084Z"
    },
    "collapsed": true
   },
   "outputs": [
    {
     "data": {
      "text/html": [
       "<div>\n",
       "<style scoped>\n",
       "    .dataframe tbody tr th:only-of-type {\n",
       "        vertical-align: middle;\n",
       "    }\n",
       "\n",
       "    .dataframe tbody tr th {\n",
       "        vertical-align: top;\n",
       "    }\n",
       "\n",
       "    .dataframe thead th {\n",
       "        text-align: right;\n",
       "    }\n",
       "</style>\n",
       "<table border=\"1\" class=\"dataframe\">\n",
       "  <thead>\n",
       "    <tr style=\"text-align: right;\">\n",
       "      <th></th>\n",
       "      <th>mean_fit_time</th>\n",
       "      <th>std_fit_time</th>\n",
       "      <th>mean_score_time</th>\n",
       "      <th>std_score_time</th>\n",
       "      <th>param_max_depth</th>\n",
       "      <th>param_max_features</th>\n",
       "      <th>param_n_estimators</th>\n",
       "      <th>params</th>\n",
       "      <th>split0_test_score</th>\n",
       "      <th>split1_test_score</th>\n",
       "      <th>split2_test_score</th>\n",
       "      <th>split3_test_score</th>\n",
       "      <th>split4_test_score</th>\n",
       "      <th>mean_test_score</th>\n",
       "      <th>std_test_score</th>\n",
       "      <th>rank_test_score</th>\n",
       "    </tr>\n",
       "  </thead>\n",
       "  <tbody>\n",
       "    <tr>\n",
       "      <th>60</th>\n",
       "      <td>51.003557</td>\n",
       "      <td>0.361240</td>\n",
       "      <td>1.300001</td>\n",
       "      <td>0.011693</td>\n",
       "      <td>6</td>\n",
       "      <td>3</td>\n",
       "      <td>400</td>\n",
       "      <td>{'max_depth': 6, 'max_features': 3, 'n_estimat...</td>\n",
       "      <td>0.871344</td>\n",
       "      <td>0.861713</td>\n",
       "      <td>0.861344</td>\n",
       "      <td>0.854574</td>\n",
       "      <td>0.856118</td>\n",
       "      <td>0.861018</td>\n",
       "      <td>0.005878</td>\n",
       "      <td>1</td>\n",
       "    </tr>\n",
       "    <tr>\n",
       "      <th>61</th>\n",
       "      <td>64.879531</td>\n",
       "      <td>0.439918</td>\n",
       "      <td>1.649999</td>\n",
       "      <td>0.030620</td>\n",
       "      <td>6</td>\n",
       "      <td>3</td>\n",
       "      <td>500</td>\n",
       "      <td>{'max_depth': 6, 'max_features': 3, 'n_estimat...</td>\n",
       "      <td>0.871227</td>\n",
       "      <td>0.861697</td>\n",
       "      <td>0.861102</td>\n",
       "      <td>0.854534</td>\n",
       "      <td>0.856227</td>\n",
       "      <td>0.860958</td>\n",
       "      <td>0.005825</td>\n",
       "      <td>2</td>\n",
       "    </tr>\n",
       "    <tr>\n",
       "      <th>62</th>\n",
       "      <td>78.449902</td>\n",
       "      <td>0.316428</td>\n",
       "      <td>1.962504</td>\n",
       "      <td>0.015931</td>\n",
       "      <td>6</td>\n",
       "      <td>3</td>\n",
       "      <td>600</td>\n",
       "      <td>{'max_depth': 6, 'max_features': 3, 'n_estimat...</td>\n",
       "      <td>0.871321</td>\n",
       "      <td>0.861691</td>\n",
       "      <td>0.861041</td>\n",
       "      <td>0.854550</td>\n",
       "      <td>0.856165</td>\n",
       "      <td>0.860954</td>\n",
       "      <td>0.005865</td>\n",
       "      <td>3</td>\n",
       "    </tr>\n",
       "    <tr>\n",
       "      <th>63</th>\n",
       "      <td>91.269520</td>\n",
       "      <td>0.806867</td>\n",
       "      <td>2.283340</td>\n",
       "      <td>0.007059</td>\n",
       "      <td>6</td>\n",
       "      <td>3</td>\n",
       "      <td>700</td>\n",
       "      <td>{'max_depth': 6, 'max_features': 3, 'n_estimat...</td>\n",
       "      <td>0.871279</td>\n",
       "      <td>0.861667</td>\n",
       "      <td>0.861067</td>\n",
       "      <td>0.854563</td>\n",
       "      <td>0.856156</td>\n",
       "      <td>0.860946</td>\n",
       "      <td>0.005848</td>\n",
       "      <td>4</td>\n",
       "    </tr>\n",
       "    <tr>\n",
       "      <th>64</th>\n",
       "      <td>90.540809</td>\n",
       "      <td>0.366533</td>\n",
       "      <td>2.275007</td>\n",
       "      <td>0.015934</td>\n",
       "      <td>6</td>\n",
       "      <td>3</td>\n",
       "      <td>700</td>\n",
       "      <td>{'max_depth': 6, 'max_features': 3, 'n_estimat...</td>\n",
       "      <td>0.871279</td>\n",
       "      <td>0.861667</td>\n",
       "      <td>0.861067</td>\n",
       "      <td>0.854563</td>\n",
       "      <td>0.856156</td>\n",
       "      <td>0.860946</td>\n",
       "      <td>0.005848</td>\n",
       "      <td>4</td>\n",
       "    </tr>\n",
       "  </tbody>\n",
       "</table>\n",
       "</div>"
      ],
      "text/plain": [
       "    mean_fit_time  std_fit_time  mean_score_time  std_score_time  \\\n",
       "60      51.003557      0.361240         1.300001        0.011693   \n",
       "61      64.879531      0.439918         1.649999        0.030620   \n",
       "62      78.449902      0.316428         1.962504        0.015931   \n",
       "63      91.269520      0.806867         2.283340        0.007059   \n",
       "64      90.540809      0.366533         2.275007        0.015934   \n",
       "\n",
       "   param_max_depth param_max_features param_n_estimators  \\\n",
       "60               6                  3                400   \n",
       "61               6                  3                500   \n",
       "62               6                  3                600   \n",
       "63               6                  3                700   \n",
       "64               6                  3                700   \n",
       "\n",
       "                                               params  split0_test_score  \\\n",
       "60  {'max_depth': 6, 'max_features': 3, 'n_estimat...           0.871344   \n",
       "61  {'max_depth': 6, 'max_features': 3, 'n_estimat...           0.871227   \n",
       "62  {'max_depth': 6, 'max_features': 3, 'n_estimat...           0.871321   \n",
       "63  {'max_depth': 6, 'max_features': 3, 'n_estimat...           0.871279   \n",
       "64  {'max_depth': 6, 'max_features': 3, 'n_estimat...           0.871279   \n",
       "\n",
       "    split1_test_score  split2_test_score  split3_test_score  \\\n",
       "60           0.861713           0.861344           0.854574   \n",
       "61           0.861697           0.861102           0.854534   \n",
       "62           0.861691           0.861041           0.854550   \n",
       "63           0.861667           0.861067           0.854563   \n",
       "64           0.861667           0.861067           0.854563   \n",
       "\n",
       "    split4_test_score  mean_test_score  std_test_score  rank_test_score  \n",
       "60           0.856118         0.861018        0.005878                1  \n",
       "61           0.856227         0.860958        0.005825                2  \n",
       "62           0.856165         0.860954        0.005865                3  \n",
       "63           0.856156         0.860946        0.005848                4  \n",
       "64           0.856156         0.860946        0.005848                4  "
      ]
     },
     "execution_count": 83,
     "metadata": {},
     "output_type": "execute_result"
    }
   ],
   "source": [
    "gs_df3 = pd.DataFrame(gs_rf.cv_results_)\n",
    "gs_df3.sort_values('rank_test_score').head()"
   ]
  },
  {
   "cell_type": "code",
   "execution_count": 84,
   "metadata": {
    "ExecuteTime": {
     "end_time": "2021-11-28T07:42:56.262932Z",
     "start_time": "2021-11-28T07:42:56.249932Z"
    }
   },
   "outputs": [],
   "source": [
    "best_model_rf = gs_rf.best_estimator_"
   ]
  },
  {
   "cell_type": "code",
   "execution_count": 85,
   "metadata": {
    "ExecuteTime": {
     "end_time": "2021-11-28T07:43:11.239033Z",
     "start_time": "2021-11-28T07:43:11.186994Z"
    }
   },
   "outputs": [],
   "source": [
    "rf_file_path = os.path.join(save_dir, \"random_forest_best.pkl\")\n",
    "with open(rf_file_path, 'wb') as fo:\n",
    "    pickle.dump(best_model_rf, fo)"
   ]
  },
  {
   "cell_type": "code",
   "execution_count": 25,
   "metadata": {
    "ExecuteTime": {
     "end_time": "2021-11-29T02:32:49.947063Z",
     "start_time": "2021-11-29T02:32:49.899191Z"
    }
   },
   "outputs": [],
   "source": [
    "rf_file_path = os.path.join(save_dir, \"random_forest_best.pkl\")\n",
    "with open(rf_file_path, 'rb') as fo:\n",
    "    saved_rf = pickle.load(fo)\n"
   ]
  },
  {
   "cell_type": "markdown",
   "metadata": {},
   "source": [
    "## VotingClassifier\n",
    "- best model들 사용"
   ]
  },
  {
   "cell_type": "code",
   "execution_count": 106,
   "metadata": {
    "ExecuteTime": {
     "end_time": "2021-11-28T07:51:40.400827Z",
     "start_time": "2021-11-28T07:51:40.394827Z"
    }
   },
   "outputs": [],
   "source": [
    "from sklearn.ensemble import VotingClassifier\n",
    "estimators = [('xgb', saved_xgb), ('gradient boost', saved_gb), ('random forest', saved_rf)]\n",
    "voting_clf = VotingClassifier(estimators=estimators, voting='soft', n_jobs=-1)"
   ]
  },
  {
   "cell_type": "code",
   "execution_count": 107,
   "metadata": {
    "ExecuteTime": {
     "end_time": "2021-11-28T07:52:38.174531Z",
     "start_time": "2021-11-28T07:51:40.722151Z"
    }
   },
   "outputs": [
    {
     "data": {
      "text/plain": [
       "VotingClassifier(estimators=[('xgb',\n",
       "                              XGBClassifier(base_score=0.5, booster='gbtree',\n",
       "                                            colsample_bylevel=1,\n",
       "                                            colsample_bynode=1,\n",
       "                                            colsample_bytree=1,\n",
       "                                            enable_categorical=False, gamma=0,\n",
       "                                            gpu_id=-1, importance_type=None,\n",
       "                                            interaction_constraints='',\n",
       "                                            learning_rate=0.1, max_delta_step=0,\n",
       "                                            max_depth=2, min_child_weight=1,\n",
       "                                            missing=nan,\n",
       "                                            monotone_constraints='()',\n",
       "                                            n_estimators=40...\n",
       "                                            predictor='auto', random_state=0,\n",
       "                                            reg_alpha=0, reg_lambda=1,\n",
       "                                            scale_pos_weight=1, subsample=0.6,\n",
       "                                            tree_method='auto',\n",
       "                                            validate_parameters=1,\n",
       "                                            verbosity=None)),\n",
       "                             ('gradient boost',\n",
       "                              GradientBoostingClassifier(n_estimators=400,\n",
       "                                                         random_state=0,\n",
       "                                                         subsample=0.8)),\n",
       "                             ('random forest',\n",
       "                              RandomForestClassifier(max_depth=6,\n",
       "                                                     max_features=3,\n",
       "                                                     n_estimators=400,\n",
       "                                                     random_state=0))],\n",
       "                 n_jobs=-1, voting='soft')"
      ]
     },
     "execution_count": 107,
     "metadata": {},
     "output_type": "execute_result"
    }
   ],
   "source": [
    "voting_clf.fit(X_train, y_train)"
   ]
  },
  {
   "cell_type": "code",
   "execution_count": 109,
   "metadata": {
    "ExecuteTime": {
     "end_time": "2021-11-28T07:53:30.134415Z",
     "start_time": "2021-11-28T07:53:29.058901Z"
    }
   },
   "outputs": [
    {
     "data": {
      "text/plain": [
       "0.8618094979187302"
      ]
     },
     "execution_count": 109,
     "metadata": {},
     "output_type": "execute_result"
    }
   ],
   "source": [
    "pred_proba  = voting_clf.predict_proba(X_test)\n",
    "auc_score = roc_auc_score(y_test, pred_proba[:, 1])\n",
    "auc_score"
   ]
  },
  {
   "cell_type": "markdown",
   "metadata": {},
   "source": [
    "- xgboost : 0.8657477556440014\n",
    "- grandient boosting : 0.8651901976338401\n",
    "- RandomForest: 0.861018496990928\n",
    "- voting: 0.8618094979187302"
   ]
  },
  {
   "cell_type": "code",
   "execution_count": null,
   "metadata": {},
   "outputs": [],
   "source": []
  },
  {
   "cell_type": "markdown",
   "metadata": {},
   "source": [
    "## Test Set 으로 검증"
   ]
  },
  {
   "cell_type": "code",
   "execution_count": 26,
   "metadata": {
    "ExecuteTime": {
     "end_time": "2021-11-29T02:34:57.289345Z",
     "start_time": "2021-11-29T02:34:57.274346Z"
    }
   },
   "outputs": [],
   "source": [
    "def test(estimator, X, y):\n",
    "    pred_prob = estimator.predict_proba(X)\n",
    "    return roc_auc_score(y, pred_prob[:, 1])"
   ]
  },
  {
   "cell_type": "code",
   "execution_count": 27,
   "metadata": {
    "ExecuteTime": {
     "end_time": "2021-11-29T02:34:59.013879Z",
     "start_time": "2021-11-29T02:34:58.928099Z"
    }
   },
   "outputs": [
    {
     "data": {
      "text/plain": [
       "0.870387089730717"
      ]
     },
     "execution_count": 27,
     "metadata": {},
     "output_type": "execute_result"
    }
   ],
   "source": [
    "# XGB\n",
    "test(saved_xgb, X_test, y_test)"
   ]
  },
  {
   "cell_type": "code",
   "execution_count": 28,
   "metadata": {
    "ExecuteTime": {
     "end_time": "2021-11-29T02:35:07.977694Z",
     "start_time": "2021-11-29T02:35:07.706418Z"
    }
   },
   "outputs": [
    {
     "data": {
      "text/plain": [
       "0.8734470316904399"
      ]
     },
     "execution_count": 28,
     "metadata": {},
     "output_type": "execute_result"
    }
   ],
   "source": [
    "# Gradient Boosting\n",
    "test(saved_gb, X_test, y_test)"
   ]
  },
  {
   "cell_type": "markdown",
   "metadata": {},
   "source": [
    "### Test set 최종 검증결과\n",
    "- xgboost : 0.870387089730717\n",
    "- grandient boosting : 0.8734470316904399"
   ]
  },
  {
   "cell_type": "code",
   "execution_count": null,
   "metadata": {},
   "outputs": [],
   "source": []
  }
 ],
 "metadata": {
  "kernelspec": {
   "display_name": "Python 3 (ipykernel)",
   "language": "python",
   "name": "python3"
  },
  "language_info": {
   "codemirror_mode": {
    "name": "ipython",
    "version": 3
   },
   "file_extension": ".py",
   "mimetype": "text/x-python",
   "name": "python",
   "nbconvert_exporter": "python",
   "pygments_lexer": "ipython3",
   "version": "3.9.12"
  },
  "toc": {
   "base_numbering": 1,
   "nav_menu": {},
   "number_sections": false,
   "sideBar": true,
   "skip_h1_title": false,
   "title_cell": "Table of Contents",
   "title_sidebar": "Contents",
   "toc_cell": false,
   "toc_position": {},
   "toc_section_display": true,
   "toc_window_display": false
  },
  "varInspector": {
   "cols": {
    "lenName": 16,
    "lenType": 16,
    "lenVar": 40
   },
   "kernels_config": {
    "python": {
     "delete_cmd_postfix": "",
     "delete_cmd_prefix": "del ",
     "library": "var_list.py",
     "varRefreshCmd": "print(var_dic_list())"
    },
    "r": {
     "delete_cmd_postfix": ") ",
     "delete_cmd_prefix": "rm(",
     "library": "var_list.r",
     "varRefreshCmd": "cat(var_dic_list()) "
    }
   },
   "types_to_exclude": [
    "module",
    "function",
    "builtin_function_or_method",
    "instance",
    "_Feature"
   ],
   "window_display": false
  }
 },
 "nbformat": 4,
 "nbformat_minor": 2
}
