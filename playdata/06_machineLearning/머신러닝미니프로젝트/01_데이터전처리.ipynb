{
 "cells": [
  {
   "cell_type": "code",
   "execution_count": null,
   "metadata": {
    "ExecuteTime": {
     "end_time": "2023-02-12T14:56:58.882445Z",
     "start_time": "2023-02-12T14:56:58.870410Z"
    }
   },
   "outputs": [],
   "source": [
    "import pandas as pd\n",
    "import numpy as np\n",
    "import seaborn as sns\n",
    "import matplotlib.pyplot as plt\n",
    "\n",
    "np.random.seed(0)"
   ]
  },
  {
   "cell_type": "markdown",
   "metadata": {},
   "source": [
    "# 데이터셋 읽기"
   ]
  },
  {
   "cell_type": "code",
   "execution_count": null,
   "metadata": {
    "ExecuteTime": {
     "end_time": "2023-02-12T14:56:59.106451Z",
     "start_time": "2023-02-12T14:56:58.918416Z"
    }
   },
   "outputs": [],
   "source": [
    "# 데이터파일 읽기\n",
    "data = pd.read_csv('data/cs-training.csv')\n",
    "data.shape"
   ]
  },
  {
   "cell_type": "code",
   "execution_count": null,
   "metadata": {
    "ExecuteTime": {
     "end_time": "2023-02-12T14:56:59.138461Z",
     "start_time": "2023-02-12T14:56:59.108424Z"
    },
    "scrolled": true
   },
   "outputs": [],
   "source": [
    "data.head()"
   ]
  },
  {
   "cell_type": "code",
   "execution_count": null,
   "metadata": {
    "ExecuteTime": {
     "end_time": "2023-02-12T14:56:59.154461Z",
     "start_time": "2023-02-12T14:56:59.142456Z"
    }
   },
   "outputs": [],
   "source": [
    "data.columns[0]"
   ]
  },
  {
   "cell_type": "code",
   "execution_count": null,
   "metadata": {
    "ExecuteTime": {
     "end_time": "2023-02-12T14:56:59.185423Z",
     "start_time": "2023-02-12T14:56:59.158462Z"
    }
   },
   "outputs": [],
   "source": [
    "# 첫 컬럼의 index 항목 제거 (Unnamed: 0)\n",
    "data.drop(columns=data.columns[0], inplace=True) #inplace=True: 원본(data)를 변경"
   ]
  },
  {
   "cell_type": "code",
   "execution_count": null,
   "metadata": {
    "ExecuteTime": {
     "end_time": "2023-02-12T14:56:59.216422Z",
     "start_time": "2023-02-12T14:56:59.188424Z"
    }
   },
   "outputs": [],
   "source": [
    "data.head(2)"
   ]
  },
  {
   "cell_type": "markdown",
   "metadata": {},
   "source": [
    "- 제공되는 데이터셋의 컬럼명이 이해하기 어렵거나 사용하기 어렵다면 변경하도록 한다.\n",
    "    - 컬럼명을 소문자로 변경함.\n",
    "    - ex) 약어를 원래 의미의 단어들로 변경. 영문->한글 등등"
   ]
  },
  {
   "cell_type": "code",
   "execution_count": null,
   "metadata": {
    "ExecuteTime": {
     "end_time": "2023-02-12T14:56:59.232423Z",
     "start_time": "2023-02-12T14:56:59.218423Z"
    }
   },
   "outputs": [],
   "source": [
    " [col.lower() for col in data.columns]"
   ]
  },
  {
   "cell_type": "code",
   "execution_count": null,
   "metadata": {
    "ExecuteTime": {
     "end_time": "2023-02-12T14:56:59.264427Z",
     "start_time": "2023-02-12T14:56:59.236424Z"
    }
   },
   "outputs": [],
   "source": [
    "data.columns = [col.lower() for col in data.columns]  #data.columns = 컬럼리스트 : 전체컬럼명을 다 변경할 경우 사용.\n",
    "data.head(2)"
   ]
  },
  {
   "cell_type": "markdown",
   "metadata": {},
   "source": [
    "# EDA"
   ]
  },
  {
   "cell_type": "code",
   "execution_count": null,
   "metadata": {
    "ExecuteTime": {
     "end_time": "2023-02-12T14:56:59.296428Z",
     "start_time": "2023-02-12T14:56:59.269428Z"
    }
   },
   "outputs": [],
   "source": [
    "data.info()"
   ]
  },
  {
   "cell_type": "code",
   "execution_count": null,
   "metadata": {
    "ExecuteTime": {
     "end_time": "2023-02-12T14:56:59.407432Z",
     "start_time": "2023-02-12T14:56:59.299430Z"
    }
   },
   "outputs": [],
   "source": [
    "data.describe().T  #dataframe/ndarray .T (Transpose-전처) : 컬럼<->행"
   ]
  },
  {
   "cell_type": "code",
   "execution_count": null,
   "metadata": {
    "ExecuteTime": {
     "end_time": "2023-02-12T14:56:59.423425Z",
     "start_time": "2023-02-12T14:56:59.412423Z"
    }
   },
   "outputs": [],
   "source": [
    "# 타겟(seriousdlqin2yrs) 분포 확인\n",
    "data['seriousdlqin2yrs'].value_counts()"
   ]
  },
  {
   "cell_type": "code",
   "execution_count": null,
   "metadata": {
    "ExecuteTime": {
     "end_time": "2023-02-12T14:56:59.438423Z",
     "start_time": "2023-02-12T14:56:59.425423Z"
    }
   },
   "outputs": [],
   "source": [
    "data['seriousdlqin2yrs'].value_counts(normalize=True)"
   ]
  },
  {
   "cell_type": "code",
   "execution_count": null,
   "metadata": {
    "ExecuteTime": {
     "end_time": "2023-02-12T14:56:59.454431Z",
     "start_time": "2023-02-12T14:56:59.442429Z"
    }
   },
   "outputs": [],
   "source": [
    "# 원소의 개수\n",
    "len(data['seriousdlqin2yrs']), data['seriousdlqin2yrs'].size, data['seriousdlqin2yrs'].shape"
   ]
  },
  {
   "cell_type": "code",
   "execution_count": null,
   "metadata": {
    "ExecuteTime": {
     "end_time": "2023-02-12T14:56:59.469428Z",
     "start_time": "2023-02-12T14:56:59.457430Z"
    }
   },
   "outputs": [],
   "source": [
    "# 비율로 보기\n",
    "data['seriousdlqin2yrs'].value_counts()/len(data['seriousdlqin2yrs'])\n",
    "# 불균형 데이터 - 평가지표: accuaracy(X). recall, precision, f1, roc auc"
   ]
  },
  {
   "cell_type": "code",
   "execution_count": null,
   "metadata": {
    "ExecuteTime": {
     "end_time": "2023-02-12T14:56:59.612431Z",
     "start_time": "2023-02-12T14:56:59.472439Z"
    },
    "scrolled": false
   },
   "outputs": [],
   "source": [
    "plt.figure(figsize=(7,6))\n",
    "sns.countplot(x='seriousdlqin2yrs', data=data)\n",
    "plt.show()"
   ]
  },
  {
   "cell_type": "markdown",
   "metadata": {},
   "source": [
    "# 결측치 처리\n",
    "\n",
    "## 결측치 확인"
   ]
  },
  {
   "cell_type": "code",
   "execution_count": null,
   "metadata": {
    "ExecuteTime": {
     "end_time": "2023-02-12T14:56:59.628458Z",
     "start_time": "2023-02-12T14:56:59.614424Z"
    }
   },
   "outputs": [],
   "source": [
    "# data.isnull()\n",
    "data.isna().sum() # True개수"
   ]
  },
  {
   "cell_type": "code",
   "execution_count": null,
   "metadata": {
    "ExecuteTime": {
     "end_time": "2023-02-12T14:56:59.644458Z",
     "start_time": "2023-02-12T14:56:59.630430Z"
    }
   },
   "outputs": [],
   "source": [
    "data.isna().mean() # True의 비율"
   ]
  },
  {
   "cell_type": "code",
   "execution_count": null,
   "metadata": {
    "ExecuteTime": {
     "end_time": "2023-02-12T14:56:59.866429Z",
     "start_time": "2023-02-12T14:56:59.646423Z"
    }
   },
   "outputs": [],
   "source": [
    "y = data.isna().mean()\n",
    "plt.figure(figsize=(8,5))\n",
    "plt.title('컬럼별 결측치 비율')\n",
    "sns.barplot(x=y, y=data.columns)\n",
    "plt.xticks(rotation=45)\n",
    "plt.show()"
   ]
  },
  {
   "cell_type": "code",
   "execution_count": null,
   "metadata": {
    "ExecuteTime": {
     "end_time": "2023-02-12T14:56:59.944425Z",
     "start_time": "2023-02-12T14:56:59.870423Z"
    },
    "scrolled": false
   },
   "outputs": [],
   "source": [
    "# 중앙값, 평균값 확인\n",
    "data.aggregate(['median', 'mean'])[['monthlyincome','numberofdependents']].T"
   ]
  },
  {
   "cell_type": "markdown",
   "metadata": {},
   "source": [
    "## 결측치 처리"
   ]
  },
  {
   "cell_type": "markdown",
   "metadata": {
    "ExecuteTime": {
     "end_time": "2021-11-25T05:47:47.328082Z",
     "start_time": "2021-11-25T05:47:47.300105Z"
    }
   },
   "source": [
    "### monthly income 확인"
   ]
  },
  {
   "cell_type": "code",
   "execution_count": null,
   "metadata": {
    "ExecuteTime": {
     "end_time": "2023-02-12T14:56:59.976433Z",
     "start_time": "2023-02-12T14:56:59.946406Z"
    },
    "scrolled": true
   },
   "outputs": [],
   "source": [
    "np.round(data.monthlyincome.describe(), 2)  #np.round(값, 2) 소숫점 2자리 이하에서 반올림"
   ]
  },
  {
   "cell_type": "code",
   "execution_count": null,
   "metadata": {
    "ExecuteTime": {
     "end_time": "2023-02-12T14:57:00.467849Z",
     "start_time": "2023-02-12T14:56:59.978400Z"
    }
   },
   "outputs": [],
   "source": [
    "data.monthlyincome.hist(bins=300)\n",
    "plt.xlim(0, 50000)\n",
    "plt.show()"
   ]
  },
  {
   "cell_type": "code",
   "execution_count": null,
   "metadata": {
    "ExecuteTime": {
     "end_time": "2023-02-12T14:57:00.482857Z",
     "start_time": "2023-02-12T14:57:00.471855Z"
    }
   },
   "outputs": [],
   "source": [
    "data.monthlyincome.median()"
   ]
  },
  {
   "cell_type": "code",
   "execution_count": null,
   "metadata": {
    "ExecuteTime": {
     "end_time": "2023-02-12T14:57:00.513858Z",
     "start_time": "2023-02-12T14:57:00.488859Z"
    },
    "scrolled": true
   },
   "outputs": [],
   "source": [
    "# fillna(채울값) 결측치를 채울값으로 채운다.\n",
    "# monthly income 의 결측치 중앙값으로 대체\n",
    "data.monthlyincome.fillna(data.monthlyincome.median(), inplace=True)"
   ]
  },
  {
   "cell_type": "markdown",
   "metadata": {},
   "source": [
    "### numberofdependents"
   ]
  },
  {
   "cell_type": "code",
   "execution_count": null,
   "metadata": {
    "ExecuteTime": {
     "end_time": "2023-02-12T14:57:00.545513Z",
     "start_time": "2023-02-12T14:57:00.519858Z"
    },
    "scrolled": false
   },
   "outputs": [],
   "source": [
    "data.numberofdependents.value_counts().sort_index() #sort_index() 행이름(index)으로 정렬"
   ]
  },
  {
   "cell_type": "code",
   "execution_count": null,
   "metadata": {
    "ExecuteTime": {
     "end_time": "2023-02-12T14:57:00.577562Z",
     "start_time": "2023-02-12T14:57:00.548479Z"
    }
   },
   "outputs": [],
   "source": [
    "data.numberofdependents.value_counts()/len(data)"
   ]
  },
  {
   "cell_type": "code",
   "execution_count": null,
   "metadata": {
    "ExecuteTime": {
     "end_time": "2023-02-12T14:57:00.609566Z",
     "start_time": "2023-02-12T14:57:00.588538Z"
    }
   },
   "outputs": [],
   "source": [
    "# 최빈값이 0인데 비율이 58% 정도 됨. 결측치 최빈값인 0 으로 대체\n",
    "data.numberofdependents.fillna(0, inplace=True)"
   ]
  },
  {
   "cell_type": "code",
   "execution_count": null,
   "metadata": {
    "ExecuteTime": {
     "end_time": "2023-02-12T14:57:00.641537Z",
     "start_time": "2023-02-12T14:57:00.612542Z"
    }
   },
   "outputs": [],
   "source": [
    "data.isna().sum()"
   ]
  },
  {
   "cell_type": "code",
   "execution_count": null,
   "metadata": {
    "ExecuteTime": {
     "end_time": "2023-02-12T14:57:00.673573Z",
     "start_time": "2023-02-12T14:57:00.644535Z"
    }
   },
   "outputs": [],
   "source": [
    "data.numberofdependents.describe()"
   ]
  },
  {
   "cell_type": "markdown",
   "metadata": {},
   "source": [
    "## 이상치 확인 및 처리\n",
    "\n",
    "### IQR 기반 이상치 검출\n",
    "- IQR : 3분위수-1분위수\n",
    "- 이상치 기준 (rate는 일반적으로 1.5사용)\n",
    "    - 극단적으로 작은 값 범위\n",
    "         - 1분위수 - IQR*rate 보다 작은수\n",
    "    - 극단적으로 큰 값 범위\n",
    "        - 3분위 + IQR*rate 보다 큰수"
   ]
  },
  {
   "cell_type": "code",
   "execution_count": null,
   "metadata": {
    "ExecuteTime": {
     "end_time": "2023-02-12T14:57:00.689589Z",
     "start_time": "2023-02-12T14:57:00.679570Z"
    }
   },
   "outputs": [],
   "source": [
    "def get_outlier(data, rate=1.5):\n",
    "    \"\"\"\n",
    "    IQR 기반으로 Outlier 값 조회 메소드\n",
    "    [Parameter]\n",
    "        data: array-like -Outlier 계산할 데이터\n",
    "        rate: IQR에 몇배를 극단치 계산에 사용할 지 비율. rate를 크게하면 outlier범위를 넓게 잡는다. 작게 주면 범위를 좁게 잡는다.\n",
    "    [Return]\n",
    "        bool type ndarray: 각 원소별 outlier 여부 (True: Outlier(이상치), False: 정상범위값)\n",
    "    \"\"\"\n",
    "    q1 = np.quantile(data, q=0.25)  #분위수 계산: np.quantile(값, q='분위')\n",
    "    q3 = np.quantile(data, q=0.75)\n",
    "    IQR = q3 - q1\n",
    "    return (data < q1 - IQR * rate) | (data > q3 + IQR * rate)"
   ]
  },
  {
   "cell_type": "code",
   "execution_count": null,
   "metadata": {
    "ExecuteTime": {
     "end_time": "2023-02-12T14:57:00.705535Z",
     "start_time": "2023-02-12T14:57:00.694536Z"
    }
   },
   "outputs": [],
   "source": [
    "get_outlier(np.array([1, 100,10,2,3,-100]))"
   ]
  },
  {
   "cell_type": "markdown",
   "metadata": {},
   "source": [
    "## 각 컬럼별 이상치 처리\n",
    "\n",
    "### revolvingutilizationofunsecuredlines\n",
    "- 전체 운용가능한 돈 대비 현재 운용가능한 돈의 비율 (남은신용한도+통장잔고/ 총신용한도+통장잔고)\n",
    "- 1초과하는 값들을 1로 변경한다."
   ]
  },
  {
   "cell_type": "code",
   "execution_count": null,
   "metadata": {
    "ExecuteTime": {
     "end_time": "2023-02-12T14:57:00.737569Z",
     "start_time": "2023-02-12T14:57:00.708542Z"
    }
   },
   "outputs": [],
   "source": [
    "#확인\n",
    "print(data['revolvingutilizationofunsecuredlines'].describe())\n",
    "print('1 초과값 개수',(data['revolvingutilizationofunsecuredlines'] > 1).sum())"
   ]
  },
  {
   "cell_type": "code",
   "execution_count": null,
   "metadata": {
    "ExecuteTime": {
     "end_time": "2023-02-12T14:57:00.753534Z",
     "start_time": "2023-02-12T14:57:00.740568Z"
    }
   },
   "outputs": [],
   "source": [
    "data.loc[data['revolvingutilizationofunsecuredlines']>1, 'revolvingutilizationofunsecuredlines']"
   ]
  },
  {
   "cell_type": "code",
   "execution_count": null,
   "metadata": {
    "ExecuteTime": {
     "end_time": "2023-02-12T14:57:00.769563Z",
     "start_time": "2023-02-12T14:57:00.755535Z"
    }
   },
   "outputs": [],
   "source": [
    "data.loc[data['revolvingutilizationofunsecuredlines']>1, 'revolvingutilizationofunsecuredlines'] = 1"
   ]
  },
  {
   "cell_type": "code",
   "execution_count": null,
   "metadata": {
    "ExecuteTime": {
     "end_time": "2023-02-12T14:57:00.800533Z",
     "start_time": "2023-02-12T14:57:00.772535Z"
    }
   },
   "outputs": [],
   "source": [
    "#확인\n",
    "print(data['revolvingutilizationofunsecuredlines'].describe())\n",
    "print('1 초과값 총개수',(data['revolvingutilizationofunsecuredlines'] > 1).sum())"
   ]
  },
  {
   "cell_type": "markdown",
   "metadata": {},
   "source": [
    "### age\n",
    "- 대출자 나이\n",
    "- 최소값이 0, 최대값 109\n",
    "- 중위수로 변환 "
   ]
  },
  {
   "cell_type": "code",
   "execution_count": null,
   "metadata": {
    "ExecuteTime": {
     "end_time": "2023-02-12T14:57:00.831574Z",
     "start_time": "2023-02-12T14:57:00.803538Z"
    }
   },
   "outputs": [],
   "source": [
    "data['age'].describe()"
   ]
  },
  {
   "cell_type": "code",
   "execution_count": null,
   "metadata": {
    "ExecuteTime": {
     "end_time": "2023-02-12T14:57:00.847574Z",
     "start_time": "2023-02-12T14:57:00.837536Z"
    }
   },
   "outputs": [],
   "source": [
    "# 0이 한명, 그다음은 21부터 존재 한다. \n",
    "data['age'].value_counts().sort_index()"
   ]
  },
  {
   "cell_type": "code",
   "execution_count": null,
   "metadata": {
    "ExecuteTime": {
     "end_time": "2023-02-12T14:57:00.879538Z",
     "start_time": "2023-02-12T14:57:00.850536Z"
    }
   },
   "outputs": [],
   "source": [
    "data.loc[data['age']==0]"
   ]
  },
  {
   "cell_type": "code",
   "execution_count": null,
   "metadata": {
    "ExecuteTime": {
     "end_time": "2023-02-12T14:57:00.895538Z",
     "start_time": "2023-02-12T14:57:00.882540Z"
    }
   },
   "outputs": [],
   "source": [
    "data.loc[data['age']==0, 'age'] = data['age'].median()"
   ]
  },
  {
   "cell_type": "code",
   "execution_count": null,
   "metadata": {
    "ExecuteTime": {
     "end_time": "2023-02-12T14:57:00.927569Z",
     "start_time": "2023-02-12T14:57:00.899574Z"
    }
   },
   "outputs": [],
   "source": [
    "data['age'].describe()"
   ]
  },
  {
   "cell_type": "markdown",
   "metadata": {},
   "source": [
    "### numberoftime30-59dayspastduenotworse, numberoftime60-89dayspastduenotworse, numberoftimes90dayslate\n",
    "\n",
    "- 30 ~ 59, 60 ~ 89, 90이상 연체한 횟수\n",
    "- 96, 98 두개의 값을 가지는 행이 있다.\n",
    "    - 96은 5개 98은 264개로 세 컬럼의 같은 행이 같이 두 값을 가지고 있다. \n",
    "    - 이런 경우 특정 의미를 표현하는 코드 값일 수 있다. 그래서 제거하지 않고 유지한다."
   ]
  },
  {
   "cell_type": "code",
   "execution_count": null,
   "metadata": {
    "ExecuteTime": {
     "end_time": "2023-02-12T14:57:00.959535Z",
     "start_time": "2023-02-12T14:57:00.930540Z"
    }
   },
   "outputs": [],
   "source": [
    "data['numberoftime30-59dayspastduenotworse'].describe()"
   ]
  },
  {
   "cell_type": "code",
   "execution_count": null,
   "metadata": {
    "ExecuteTime": {
     "end_time": "2023-02-12T14:57:00.975533Z",
     "start_time": "2023-02-12T14:57:00.961542Z"
    }
   },
   "outputs": [],
   "source": [
    "data['numberoftime30-59dayspastduenotworse'].value_counts().sort_index()"
   ]
  },
  {
   "cell_type": "markdown",
   "metadata": {},
   "source": [
    "### numberoftime60-89dayspastduenotworse"
   ]
  },
  {
   "cell_type": "code",
   "execution_count": null,
   "metadata": {
    "ExecuteTime": {
     "end_time": "2023-02-12T14:57:01.007539Z",
     "start_time": "2023-02-12T14:57:00.977537Z"
    }
   },
   "outputs": [],
   "source": [
    "data['numberoftime60-89dayspastduenotworse'].describe()"
   ]
  },
  {
   "cell_type": "code",
   "execution_count": null,
   "metadata": {
    "ExecuteTime": {
     "end_time": "2023-02-12T14:57:01.023576Z",
     "start_time": "2023-02-12T14:57:01.009537Z"
    }
   },
   "outputs": [],
   "source": [
    "data['numberoftime60-89dayspastduenotworse'].value_counts().sort_index()"
   ]
  },
  {
   "cell_type": "markdown",
   "metadata": {},
   "source": [
    "### numberoftimes90dayslate"
   ]
  },
  {
   "cell_type": "code",
   "execution_count": null,
   "metadata": {
    "ExecuteTime": {
     "end_time": "2023-02-12T14:57:01.055569Z",
     "start_time": "2023-02-12T14:57:01.028542Z"
    }
   },
   "outputs": [],
   "source": [
    "data['numberoftimes90dayslate'].describe()"
   ]
  },
  {
   "cell_type": "code",
   "execution_count": null,
   "metadata": {
    "ExecuteTime": {
     "end_time": "2023-02-12T14:57:01.071575Z",
     "start_time": "2023-02-12T14:57:01.058536Z"
    }
   },
   "outputs": [],
   "source": [
    "data['numberoftimes90dayslate'].value_counts().sort_index()"
   ]
  },
  {
   "cell_type": "code",
   "execution_count": null,
   "metadata": {
    "ExecuteTime": {
     "end_time": "2023-02-12T14:57:01.102569Z",
     "start_time": "2023-02-12T14:57:01.074542Z"
    }
   },
   "outputs": [],
   "source": [
    "data.loc[(data['numberoftime30-59dayspastduenotworse'] > 95) & \n",
    "         (data['numberoftime60-89dayspastduenotworse'] > 95) & \n",
    "         (data['numberoftimes90dayslate'] > 95)].shape\n",
    "\n",
    "# 위 세개 컬럼에서 96, 98 을 가지는 행이 동일하다.\n",
    "# 96, 98 은 은행에서 사용하는 코드값으로 추측할 수 있다. "
   ]
  },
  {
   "cell_type": "code",
   "execution_count": null,
   "metadata": {
    "ExecuteTime": {
     "end_time": "2023-02-12T14:57:01.117538Z",
     "start_time": "2023-02-12T14:57:01.104534Z"
    }
   },
   "outputs": [],
   "source": [
    "data.loc[(data['numberoftime30-59dayspastduenotworse'] == 96) & \n",
    "         (data['numberoftime60-89dayspastduenotworse'] == 96) & \n",
    "         (data['numberoftimes90dayslate'] == 96), ['numberoftime30-59dayspastduenotworse','numberoftime60-89dayspastduenotworse','numberoftimes90dayslate']]"
   ]
  },
  {
   "cell_type": "markdown",
   "metadata": {},
   "source": [
    "### debtratio \n",
    "- 소득 대비 부채비율(대출상환금+생활비/소득)\n",
    "- 이상치가 아닌 값들 중 최대값으로 대체한다. "
   ]
  },
  {
   "cell_type": "code",
   "execution_count": null,
   "metadata": {
    "ExecuteTime": {
     "end_time": "2023-02-12T14:57:01.149570Z",
     "start_time": "2023-02-12T14:57:01.119534Z"
    }
   },
   "outputs": [],
   "source": [
    "data['debtratio'].describe()"
   ]
  },
  {
   "cell_type": "code",
   "execution_count": null,
   "metadata": {
    "ExecuteTime": {
     "end_time": "2023-02-12T14:57:01.181571Z",
     "start_time": "2023-02-12T14:57:01.151538Z"
    }
   },
   "outputs": [],
   "source": [
    "get_outlier(data['debtratio']).sum() #이상치 개수"
   ]
  },
  {
   "cell_type": "code",
   "execution_count": null,
   "metadata": {
    "ExecuteTime": {
     "end_time": "2023-02-12T14:57:01.213636Z",
     "start_time": "2023-02-12T14:57:01.184536Z"
    }
   },
   "outputs": [],
   "source": [
    "get_outlier(data['debtratio']).mean()"
   ]
  },
  {
   "cell_type": "code",
   "execution_count": null,
   "metadata": {
    "ExecuteTime": {
     "end_time": "2023-02-12T14:57:01.229661Z",
     "start_time": "2023-02-12T14:57:01.216638Z"
    }
   },
   "outputs": [],
   "source": [
    "# 9분위수\n",
    "np.quantile(data['debtratio'], q=0.9)"
   ]
  },
  {
   "cell_type": "code",
   "execution_count": null,
   "metadata": {
    "ExecuteTime": {
     "end_time": "2023-02-12T14:57:01.261672Z",
     "start_time": "2023-02-12T14:57:01.233637Z"
    }
   },
   "outputs": [],
   "source": [
    "# outlier 아닌 값들 중 최대값으로 대체\n",
    "# ~ : not\n",
    "max_value_debt = np.max(data.debtratio[~get_outlier(data['debtratio'])]) # 정상범위 값 중 최대값 조회\n",
    "data.loc[data['debtratio']>max_value_debt, 'debtratio'] = max_value_debt"
   ]
  },
  {
   "cell_type": "code",
   "execution_count": null,
   "metadata": {
    "ExecuteTime": {
     "end_time": "2023-02-12T14:57:01.277672Z",
     "start_time": "2023-02-12T14:57:01.264652Z"
    }
   },
   "outputs": [],
   "source": [
    "max_value_debt"
   ]
  },
  {
   "cell_type": "code",
   "execution_count": null,
   "metadata": {
    "ExecuteTime": {
     "end_time": "2023-02-12T14:57:01.309671Z",
     "start_time": "2023-02-12T14:57:01.279645Z"
    }
   },
   "outputs": [],
   "source": [
    "get_outlier(data['debtratio']).sum()"
   ]
  },
  {
   "cell_type": "code",
   "execution_count": null,
   "metadata": {
    "ExecuteTime": {
     "end_time": "2023-02-12T14:57:01.341637Z",
     "start_time": "2023-02-12T14:57:01.311637Z"
    }
   },
   "outputs": [],
   "source": [
    "data['debtratio'].describe()"
   ]
  },
  {
   "cell_type": "code",
   "execution_count": null,
   "metadata": {
    "ExecuteTime": {
     "end_time": "2023-02-12T14:57:01.560785Z",
     "start_time": "2023-02-12T14:57:01.345640Z"
    }
   },
   "outputs": [],
   "source": [
    "data['debtratio'].hist(bins=30)"
   ]
  },
  {
   "cell_type": "markdown",
   "metadata": {},
   "source": [
    "## monthlyincome\n",
    "- 월간 소득\n",
    "- 이상치를 이상치 아닌 값들의 최대 값으로 대체한다."
   ]
  },
  {
   "cell_type": "code",
   "execution_count": null,
   "metadata": {
    "ExecuteTime": {
     "end_time": "2023-02-12T14:57:01.591093Z",
     "start_time": "2023-02-12T14:57:01.563780Z"
    }
   },
   "outputs": [],
   "source": [
    "get_outlier(data['monthlyincome']).sum()"
   ]
  },
  {
   "cell_type": "code",
   "execution_count": null,
   "metadata": {
    "ExecuteTime": {
     "end_time": "2023-02-12T14:57:01.622313Z",
     "start_time": "2023-02-12T14:57:01.593058Z"
    }
   },
   "outputs": [],
   "source": [
    "get_outlier(data['monthlyincome']).mean()"
   ]
  },
  {
   "cell_type": "code",
   "execution_count": null,
   "metadata": {
    "ExecuteTime": {
     "end_time": "2023-02-12T14:57:01.653736Z",
     "start_time": "2023-02-12T14:57:01.625319Z"
    }
   },
   "outputs": [],
   "source": [
    "np.round(data.monthlyincome.describe(), 3)\n",
    "# max: 3,000,000 "
   ]
  },
  {
   "cell_type": "code",
   "execution_count": null,
   "metadata": {
    "ExecuteTime": {
     "end_time": "2023-02-12T14:57:02.275748Z",
     "start_time": "2023-02-12T14:57:01.657749Z"
    }
   },
   "outputs": [],
   "source": [
    "data.monthlyincome.hist(bins=500)\n",
    "plt.xlim(0,10000)\n",
    "plt.show()"
   ]
  },
  {
   "cell_type": "code",
   "execution_count": null,
   "metadata": {
    "ExecuteTime": {
     "end_time": "2023-02-12T14:57:02.307406Z",
     "start_time": "2023-02-12T14:57:02.278750Z"
    }
   },
   "outputs": [],
   "source": [
    "max_value_income = np.max(data.monthlyincome[~get_outlier(data['monthlyincome'])])\n",
    "# 정상값의 최대값으로 변환\n",
    "data.loc[data['monthlyincome']>=max_value_income, 'monthlyincome'] = max_value_income"
   ]
  },
  {
   "cell_type": "code",
   "execution_count": null,
   "metadata": {
    "ExecuteTime": {
     "end_time": "2023-02-12T14:57:02.322940Z",
     "start_time": "2023-02-12T14:57:02.309434Z"
    },
    "scrolled": true
   },
   "outputs": [],
   "source": [
    "max_value_income"
   ]
  },
  {
   "cell_type": "code",
   "execution_count": null,
   "metadata": {
    "ExecuteTime": {
     "end_time": "2023-02-12T14:57:02.353320Z",
     "start_time": "2023-02-12T14:57:02.326939Z"
    }
   },
   "outputs": [],
   "source": [
    "get_outlier(data['monthlyincome']).sum()"
   ]
  },
  {
   "cell_type": "code",
   "execution_count": null,
   "metadata": {
    "ExecuteTime": {
     "end_time": "2023-02-12T14:57:02.542332Z",
     "start_time": "2023-02-12T14:57:02.357339Z"
    }
   },
   "outputs": [],
   "source": [
    "data.monthlyincome.hist(bins=50)\n",
    "plt.show()"
   ]
  },
  {
   "cell_type": "markdown",
   "metadata": {
    "ExecuteTime": {
     "end_time": "2019-12-25T09:53:23.871833Z",
     "start_time": "2019-12-25T09:53:23.868839Z"
    }
   },
   "source": [
    "# 전처리한 data파일 저장"
   ]
  },
  {
   "cell_type": "code",
   "execution_count": null,
   "metadata": {
    "ExecuteTime": {
     "end_time": "2023-02-12T14:57:40.813243Z",
     "start_time": "2023-02-12T14:57:40.181167Z"
    }
   },
   "outputs": [],
   "source": [
    "import os\n",
    "os.makedirs('saved_data', exist_ok=True)\n",
    "data.to_csv('data/data-v01.csv', index=False)"
   ]
  },
  {
   "cell_type": "markdown",
   "metadata": {},
   "source": [
    "### 상관관계 확인\n",
    "- 시각화 : heatmap"
   ]
  },
  {
   "cell_type": "code",
   "execution_count": null,
   "metadata": {
    "ExecuteTime": {
     "end_time": "2023-02-12T14:58:22.822597Z",
     "start_time": "2023-02-12T14:58:22.734597Z"
    }
   },
   "outputs": [],
   "source": [
    "data.corr()"
   ]
  },
  {
   "cell_type": "code",
   "execution_count": null,
   "metadata": {
    "ExecuteTime": {
     "end_time": "2023-02-12T14:58:30.985878Z",
     "start_time": "2023-02-12T14:58:30.486340Z"
    },
    "scrolled": false
   },
   "outputs": [],
   "source": [
    "plt.figure(figsize=(12,10))\n",
    "sns.heatmap(data.corr(), #상관계수행렬\n",
    "            annot=True, # 색위에 값이 나오도록 처리\n",
    "            fmt='.2f', # 값의 format\n",
    "            cmap='Blues', # 색 팔레트, color map\n",
    "            linewidths=.5)\n",
    "plt.show()"
   ]
  },
  {
   "cell_type": "code",
   "execution_count": null,
   "metadata": {
    "ExecuteTime": {
     "end_time": "2023-02-12T14:58:58.847438Z",
     "start_time": "2023-02-12T14:58:58.451471Z"
    },
    "scrolled": true
   },
   "outputs": [],
   "source": [
    "plt.figure(figsize=(12,10))\n",
    "# 60-89, 90  이상 대출연체 횟수 컬럼을 제거->heatmap\n",
    "sns.heatmap(data.drop(labels=['numberoftime60-89dayspastduenotworse', 'numberoftimes90dayslate'], axis=1).corr(), annot=True, fmt='.2f', cmap='Blues', linewidths=.5)\n",
    "plt.show()"
   ]
  },
  {
   "cell_type": "code",
   "execution_count": null,
   "metadata": {
    "ExecuteTime": {
     "end_time": "2023-02-12T14:59:11.150541Z",
     "start_time": "2023-02-12T14:59:10.529471Z"
    }
   },
   "outputs": [],
   "source": [
    "# 파일로 저장.\n",
    "data.drop(labels=['numberoftime60-89dayspastduenotworse', 'numberoftimes90dayslate'], axis=1).to_csv('data/data-v02.csv', index=False)"
   ]
  },
  {
   "cell_type": "code",
   "execution_count": null,
   "metadata": {},
   "outputs": [],
   "source": []
  }
 ],
 "metadata": {
  "kernelspec": {
   "display_name": "Python 3 (ipykernel)",
   "language": "python",
   "name": "python3"
  },
  "language_info": {
   "codemirror_mode": {
    "name": "ipython",
    "version": 3
   },
   "file_extension": ".py",
   "mimetype": "text/x-python",
   "name": "python",
   "nbconvert_exporter": "python",
   "pygments_lexer": "ipython3",
   "version": "3.9.12"
  },
  "toc": {
   "base_numbering": 1,
   "nav_menu": {},
   "number_sections": false,
   "sideBar": true,
   "skip_h1_title": false,
   "title_cell": "Table of Contents",
   "title_sidebar": "Contents",
   "toc_cell": false,
   "toc_position": {},
   "toc_section_display": true,
   "toc_window_display": false
  },
  "varInspector": {
   "cols": {
    "lenName": 16,
    "lenType": 16,
    "lenVar": 40
   },
   "kernels_config": {
    "python": {
     "delete_cmd_postfix": "",
     "delete_cmd_prefix": "del ",
     "library": "var_list.py",
     "varRefreshCmd": "print(var_dic_list())"
    },
    "r": {
     "delete_cmd_postfix": ") ",
     "delete_cmd_prefix": "rm(",
     "library": "var_list.r",
     "varRefreshCmd": "cat(var_dic_list()) "
    }
   },
   "types_to_exclude": [
    "module",
    "function",
    "builtin_function_or_method",
    "instance",
    "_Feature"
   ],
   "window_display": false
  }
 },
 "nbformat": 4,
 "nbformat_minor": 2
}
