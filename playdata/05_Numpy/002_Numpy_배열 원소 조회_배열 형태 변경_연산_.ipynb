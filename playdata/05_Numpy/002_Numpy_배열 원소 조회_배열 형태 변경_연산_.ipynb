{
 "cells": [
  {
   "cell_type": "markdown",
   "metadata": {
    "slideshow": {
     "slide_type": "slide"
    }
   },
   "source": [
    "# 인덱싱과 슬라이싱을 이용한 배열의 원소 조회 및 변경"
   ]
  },
  {
   "cell_type": "markdown",
   "metadata": {
    "slideshow": {
     "slide_type": "fragment"
    }
   },
   "source": [
    "## 배열 인덱싱(Indexing)\n",
    "- <b style='font-size:1.3em'>index</b>\n",
    "    - 배열내의 원소의 식별번호\n",
    "    - 0부터 시작\n",
    "- <b style='font-size:1.3em'>indexing </b>\n",
    "    – index를 이용해 원소 조회\n",
    "    - [] 표기법 사용\n",
    "- <b style='font-size:1.3em'>구문 </b>\n",
    "    - ndarray[index]\n",
    "    - 양수는 지정한 index의 값을 조회한다. \n",
    "    - 음수는 뒤부터 조회한다. \n",
    "        - 마지막 index가 -1\n",
    "    - 2차원배열의 경우 \n",
    "        - arr[0축 index, 1축 index]\n",
    "        - 파이썬 리스트와 차이점 \n",
    "    - N차원 배열의 경우\n",
    "        - arr[0축 index, 1축 index, ..., n축 index]\n",
    "- <b style='font-size:1.3em'>팬시(fancy) 인덱싱</b>\n",
    "    - **여러개의 원소를 한번에 조회**할 경우 리스트에 담아 전달한다.\n",
    "    - 다차원 배열의 경우 각 축별로 list로 지정\n",
    "    - `arr[[1,2,3,4,5]]`\n",
    "        - 1차원 배열(vector): 1,2,3,4,5 번 index의 원소들 한번에 조회\n",
    "    - `arr[[0,3], [1,4]]`\n",
    "        - [0,3] - 1번축 index list, [1,4] - 2번축 index list\n",
    "        - 2차원 배열(matrix): [0,1], [3,4] 의 원소들 조회"
   ]
  },
  {
   "cell_type": "code",
   "execution_count": 1,
   "metadata": {
    "ExecuteTime": {
     "end_time": "2023-01-20T00:38:41.555537Z",
     "start_time": "2023-01-20T00:38:41.536251Z"
    }
   },
   "outputs": [
    {
     "data": {
      "text/plain": [
       "(30,)"
      ]
     },
     "execution_count": 1,
     "metadata": {},
     "output_type": "execute_result"
    }
   ],
   "source": [
    "import numpy as np\n",
    "a = np.arange(30)\n",
    "a.shape"
   ]
  },
  {
   "cell_type": "code",
   "execution_count": 3,
   "metadata": {
    "ExecuteTime": {
     "end_time": "2023-01-20T00:39:15.155426Z",
     "start_time": "2023-01-20T00:39:15.149377Z"
    }
   },
   "outputs": [
    {
     "data": {
      "text/plain": [
       "1"
      ]
     },
     "execution_count": 3,
     "metadata": {},
     "output_type": "execute_result"
    }
   ],
   "source": [
    "# 조회\n",
    "a[1]"
   ]
  },
  {
   "cell_type": "code",
   "execution_count": 5,
   "metadata": {
    "ExecuteTime": {
     "end_time": "2023-01-20T00:40:12.161241Z",
     "start_time": "2023-01-20T00:40:12.154155Z"
    }
   },
   "outputs": [
    {
     "data": {
      "text/plain": [
       "array([1, 3, 2, 7])"
      ]
     },
     "execution_count": 5,
     "metadata": {},
     "output_type": "execute_result"
    }
   ],
   "source": [
    "# 여러 index들의 값 조회 => fancy indexing => index들을 리스트로 묶어서 전달.\n",
    "a[[1, 3, 2, 7]]"
   ]
  },
  {
   "cell_type": "code",
   "execution_count": 7,
   "metadata": {
    "ExecuteTime": {
     "end_time": "2023-01-20T00:40:52.194426Z",
     "start_time": "2023-01-20T00:40:52.182303Z"
    }
   },
   "outputs": [
    {
     "data": {
      "text/plain": [
       "array([   0, 1000,    2,    3,    4,    5,    6,    7,    8,    9,   10,\n",
       "         11,   12,   13,   14,   15,   16,   17,   18,   19,   20,   21,\n",
       "         22,   23,   24,   25,   26,   27,   28,   29])"
      ]
     },
     "execution_count": 7,
     "metadata": {},
     "output_type": "execute_result"
    }
   ],
   "source": [
    "# 변경\n",
    "a[1] = 1000\n",
    "a"
   ]
  },
  {
   "cell_type": "code",
   "execution_count": 8,
   "metadata": {
    "ExecuteTime": {
     "end_time": "2023-01-20T00:41:41.067975Z",
     "start_time": "2023-01-20T00:41:41.054906Z"
    }
   },
   "outputs": [
    {
     "data": {
      "text/plain": [
       "array([   0, 1000, 5000,    3, 5000, 5000,    6,    7,    8,    9,   10,\n",
       "         11,   12,   13,   14,   15,   16,   17,   18,   19,   20,   21,\n",
       "         22,   23,   24,   25,   26,   27,   28,   29])"
      ]
     },
     "execution_count": 8,
     "metadata": {},
     "output_type": "execute_result"
    }
   ],
   "source": [
    "a[[2,4,5]] = 5000 # 일괄변경\n",
    "a"
   ]
  },
  {
   "cell_type": "code",
   "execution_count": 9,
   "metadata": {
    "ExecuteTime": {
     "end_time": "2023-01-20T00:42:31.394040Z",
     "start_time": "2023-01-20T00:42:31.376826Z"
    }
   },
   "outputs": [
    {
     "data": {
      "text/plain": [
       "array([    0,  1000,  5000,     3,  5000,  5000,     6,     7,  8000,\n",
       "        9000, 10000,    11,    12,    13,    14,    15,    16,    17,\n",
       "          18,    19,    20,    21,    22,    23,    24,    25,    26,\n",
       "          27,    28,    29])"
      ]
     },
     "execution_count": 9,
     "metadata": {},
     "output_type": "execute_result"
    }
   ],
   "source": [
    "a[[8,9,10]] = 8000, 9000, 10000\n",
    "a"
   ]
  },
  {
   "cell_type": "code",
   "execution_count": 17,
   "metadata": {
    "ExecuteTime": {
     "end_time": "2023-01-20T00:46:15.353630Z",
     "start_time": "2023-01-20T00:46:15.348179Z"
    }
   },
   "outputs": [],
   "source": [
    "a2 = np.arange(30).reshape(5, 6)   # (30, ) 1차원배열을 (5, 6) 2차원배열로 reshape"
   ]
  },
  {
   "cell_type": "code",
   "execution_count": 18,
   "metadata": {
    "ExecuteTime": {
     "end_time": "2023-01-20T00:46:15.915319Z",
     "start_time": "2023-01-20T00:46:15.898368Z"
    },
    "collapsed": true
   },
   "outputs": [
    {
     "data": {
      "text/plain": [
       "array([[ 0,  1,  2,  3,  4,  5],\n",
       "       [ 6,  7,  8,  9, 10, 11],\n",
       "       [12, 13, 14, 15, 16, 17],\n",
       "       [18, 19, 20, 21, 22, 23],\n",
       "       [24, 25, 26, 27, 28, 29]])"
      ]
     },
     "execution_count": 18,
     "metadata": {},
     "output_type": "execute_result"
    }
   ],
   "source": [
    "a2"
   ]
  },
  {
   "cell_type": "code",
   "execution_count": 19,
   "metadata": {
    "ExecuteTime": {
     "end_time": "2023-01-20T00:47:12.352502Z",
     "start_time": "2023-01-20T00:47:12.331641Z"
    },
    "collapsed": true
   },
   "outputs": [
    {
     "data": {
      "text/plain": [
       "array([0, 1, 2, 3, 4, 5])"
      ]
     },
     "execution_count": 19,
     "metadata": {},
     "output_type": "execute_result"
    }
   ],
   "source": [
    "a2[0]  # 0축의 index 0을 조회"
   ]
  },
  {
   "cell_type": "code",
   "execution_count": 21,
   "metadata": {
    "ExecuteTime": {
     "end_time": "2023-01-20T00:48:05.390007Z",
     "start_time": "2023-01-20T00:48:05.382883Z"
    }
   },
   "outputs": [
    {
     "data": {
      "text/plain": [
       "3"
      ]
     },
     "execution_count": 21,
     "metadata": {},
     "output_type": "execute_result"
    }
   ],
   "source": [
    "a2[0, 3]   # a[axis0  , axis1]"
   ]
  },
  {
   "cell_type": "code",
   "execution_count": 22,
   "metadata": {
    "ExecuteTime": {
     "end_time": "2023-01-20T00:49:00.367483Z",
     "start_time": "2023-01-20T00:49:00.352990Z"
    }
   },
   "outputs": [
    {
     "data": {
      "text/plain": [
       "array([24, 25, 26, 27, 28, 29])"
      ]
     },
     "execution_count": 22,
     "metadata": {},
     "output_type": "execute_result"
    }
   ],
   "source": [
    "a2[-1]"
   ]
  },
  {
   "cell_type": "code",
   "execution_count": 23,
   "metadata": {
    "ExecuteTime": {
     "end_time": "2023-01-20T00:49:25.575405Z",
     "start_time": "2023-01-20T00:49:25.564756Z"
    }
   },
   "outputs": [
    {
     "data": {
      "text/plain": [
       "29"
      ]
     },
     "execution_count": 23,
     "metadata": {},
     "output_type": "execute_result"
    }
   ],
   "source": [
    "a2[-1, -1]"
   ]
  },
  {
   "cell_type": "code",
   "execution_count": 25,
   "metadata": {
    "ExecuteTime": {
     "end_time": "2023-01-20T01:08:25.831438Z",
     "start_time": "2023-01-20T01:08:25.812203Z"
    }
   },
   "outputs": [
    {
     "data": {
      "text/plain": [
       "array([[ 0,  1,  2,  3,  4,  5],\n",
       "       [ 6,  7,  8,  9, 10, 11],\n",
       "       [12, 13, 14, 15, 16, 17],\n",
       "       [18, 19, 20, 21, 22, 23],\n",
       "       [24, 25, 26, 27, 28, 29]])"
      ]
     },
     "execution_count": 25,
     "metadata": {},
     "output_type": "execute_result"
    }
   ],
   "source": [
    "a2"
   ]
  },
  {
   "cell_type": "code",
   "execution_count": 28,
   "metadata": {
    "ExecuteTime": {
     "end_time": "2023-01-20T01:09:24.378581Z",
     "start_time": "2023-01-20T01:09:24.356979Z"
    }
   },
   "outputs": [
    {
     "data": {
      "text/plain": [
       "22"
      ]
     },
     "execution_count": 28,
     "metadata": {},
     "output_type": "execute_result"
    }
   ],
   "source": [
    "a2[0, 2]\n",
    "a2[3, 4]"
   ]
  },
  {
   "cell_type": "code",
   "execution_count": 30,
   "metadata": {
    "ExecuteTime": {
     "end_time": "2023-01-20T01:11:01.348775Z",
     "start_time": "2023-01-20T01:11:01.335424Z"
    }
   },
   "outputs": [
    {
     "data": {
      "text/plain": [
       "array([ 2, 22,  9, 29])"
      ]
     },
     "execution_count": 30,
     "metadata": {},
     "output_type": "execute_result"
    }
   ],
   "source": [
    "a2[ [0, 3, 1, 4] , [2, 4, 3, 5] ]  #[0,2], [3,4], [1,3], [4,5]"
   ]
  },
  {
   "cell_type": "code",
   "execution_count": 31,
   "metadata": {
    "ExecuteTime": {
     "end_time": "2023-01-20T01:12:41.555375Z",
     "start_time": "2023-01-20T01:12:41.539482Z"
    },
    "slideshow": {
     "slide_type": "fragment"
    }
   },
   "outputs": [
    {
     "data": {
      "text/plain": [
       "array([[[ 0,  1,  2,  3,  4,  5],\n",
       "        [ 6,  7,  8,  9, 10, 11]],\n",
       "\n",
       "       [[12, 13, 14, 15, 16, 17],\n",
       "        [18, 19, 20, 21, 22, 23]]])"
      ]
     },
     "execution_count": 31,
     "metadata": {},
     "output_type": "execute_result"
    }
   ],
   "source": [
    "a2[[[0,1], [2,3]]]"
   ]
  },
  {
   "cell_type": "code",
   "execution_count": 35,
   "metadata": {
    "ExecuteTime": {
     "end_time": "2023-01-20T01:15:52.564884Z",
     "start_time": "2023-01-20T01:15:52.557711Z"
    },
    "collapsed": true
   },
   "outputs": [
    {
     "name": "stdout",
     "output_type": "stream",
     "text": [
      "(2, 2, 3)\n"
     ]
    },
    {
     "data": {
      "text/plain": [
       "array([[[ 0,  1,  2],\n",
       "        [ 3,  4,  5]],\n",
       "\n",
       "       [[ 6,  7,  8],\n",
       "        [ 9, 10, 11]]])"
      ]
     },
     "execution_count": 35,
     "metadata": {},
     "output_type": "execute_result"
    }
   ],
   "source": [
    "a3 = np.arange(12).reshape(2, 2, 3)\n",
    "print(a3.shape)\n",
    "a3"
   ]
  },
  {
   "cell_type": "code",
   "execution_count": 36,
   "metadata": {
    "ExecuteTime": {
     "end_time": "2023-01-20T01:16:28.208902Z",
     "start_time": "2023-01-20T01:16:28.190643Z"
    }
   },
   "outputs": [
    {
     "data": {
      "text/plain": [
       "11"
      ]
     },
     "execution_count": 36,
     "metadata": {},
     "output_type": "execute_result"
    }
   ],
   "source": [
    "a3[0, 1, 1]\n",
    "a3[1, 1, 2]"
   ]
  },
  {
   "cell_type": "code",
   "execution_count": 37,
   "metadata": {
    "ExecuteTime": {
     "end_time": "2023-01-20T01:17:07.485098Z",
     "start_time": "2023-01-20T01:17:07.472737Z"
    }
   },
   "outputs": [
    {
     "data": {
      "text/plain": [
       "array([ 4, 11])"
      ]
     },
     "execution_count": 37,
     "metadata": {},
     "output_type": "execute_result"
    }
   ],
   "source": [
    "a3[ [0, 1] , [1, 1] , [1, 2]]"
   ]
  },
  {
   "cell_type": "code",
   "execution_count": 39,
   "metadata": {
    "ExecuteTime": {
     "end_time": "2023-01-20T01:18:34.829571Z",
     "start_time": "2023-01-20T01:18:34.819983Z"
    }
   },
   "outputs": [
    {
     "data": {
      "text/plain": [
       "array([[ 3,  4,  5],\n",
       "       [ 9, 10, 11]])"
      ]
     },
     "execution_count": 39,
     "metadata": {},
     "output_type": "execute_result"
    }
   ],
   "source": [
    "a3[ [0, 1] , [1, 1] ]"
   ]
  },
  {
   "cell_type": "code",
   "execution_count": 40,
   "metadata": {
    "ExecuteTime": {
     "end_time": "2023-01-20T01:18:53.908109Z",
     "start_time": "2023-01-20T01:18:53.902039Z"
    }
   },
   "outputs": [
    {
     "data": {
      "text/plain": [
       "array([[[ 0,  1,  2],\n",
       "        [ 3,  4,  5]],\n",
       "\n",
       "       [[ 6,  7,  8],\n",
       "        [ 9, 10, 11]]])"
      ]
     },
     "execution_count": 40,
     "metadata": {},
     "output_type": "execute_result"
    }
   ],
   "source": [
    "a3"
   ]
  },
  {
   "cell_type": "code",
   "execution_count": 43,
   "metadata": {
    "ExecuteTime": {
     "end_time": "2023-01-20T01:19:45.020464Z",
     "start_time": "2023-01-20T01:19:45.009367Z"
    }
   },
   "outputs": [
    {
     "data": {
      "text/plain": [
       "array([[ 3,  4,  5],\n",
       "       [ 9, 10, 11]])"
      ]
     },
     "execution_count": 43,
     "metadata": {},
     "output_type": "execute_result"
    }
   ],
   "source": [
    "a3[:, 1]"
   ]
  },
  {
   "cell_type": "code",
   "execution_count": null,
   "metadata": {},
   "outputs": [],
   "source": []
  },
  {
   "cell_type": "markdown",
   "metadata": {
    "slideshow": {
     "slide_type": "subslide"
    }
   },
   "source": [
    "## 슬라이싱\n",
    "- 배열의 원소들을 범위로 조회한다.\n",
    "- ndarry[start : stop : step ]\n",
    "    - start : 시작 인덱스. 기본값 0\n",
    "    - stop : 끝 index. stop은 포함하지 않는다. 기본값 마지막 index\n",
    "    - step : 증감 간격. 기본값 1"
   ]
  },
  {
   "cell_type": "markdown",
   "metadata": {
    "slideshow": {
     "slide_type": "fragment"
    }
   },
   "source": [
    "### 다차원 배열 슬라이싱\n",
    "- 각 축에 slicing 문법 적용\n",
    "- 2차원의 경우\n",
    "    - arr [0축 slicing, 1축 slicing]\n",
    "        - `arr[:3, :]`\n",
    "    - `,` 로 축을 구분한 다중 슬라이싱 사용\n",
    "- 다차원의 경우\n",
    "    - arr[0축 slicing, 1축 slicing, ..., n축 slicing]\n",
    "- slicing과 indexing 문법은 같이 쓸 수 있다."
   ]
  },
  {
   "cell_type": "markdown",
   "metadata": {
    "slideshow": {
     "slide_type": "fragment"
    }
   },
   "source": [
    "### 슬라이싱은 원본에 대한 View \n",
    "- slicing한 결과는 새로운 배열을 생성하는 것이 아니라 기존 배열을 참조한다.\n",
    "- slicing한 배열의 원소를 변경하면 원본 배열의 것도 바뀐다.\n",
    "- 배열.copy()\n",
    "    - 배열을 복사한 새로운 배열 생성\n",
    "    - 복사후 처리하면 원본이 바뀌지 않는다."
   ]
  },
  {
   "cell_type": "code",
   "execution_count": 45,
   "metadata": {
    "ExecuteTime": {
     "end_time": "2023-01-20T01:27:00.521142Z",
     "start_time": "2023-01-20T01:27:00.513121Z"
    }
   },
   "outputs": [
    {
     "data": {
      "text/plain": [
       "array([ 0,  1,  2,  3,  4,  5,  6,  7,  8,  9, 10, 11, 12, 13, 14, 15, 16,\n",
       "       17, 18, 19, 20, 21, 22, 23, 24, 25, 26, 27, 28, 29])"
      ]
     },
     "execution_count": 45,
     "metadata": {},
     "output_type": "execute_result"
    }
   ],
   "source": [
    "a = np.arange(30)\n",
    "a"
   ]
  },
  {
   "cell_type": "code",
   "execution_count": 46,
   "metadata": {
    "ExecuteTime": {
     "end_time": "2023-01-20T01:27:17.014106Z",
     "start_time": "2023-01-20T01:27:16.994333Z"
    }
   },
   "outputs": [
    {
     "data": {
      "text/plain": [
       "array([0, 1, 2, 3, 4])"
      ]
     },
     "execution_count": 46,
     "metadata": {},
     "output_type": "execute_result"
    }
   ],
   "source": [
    "a[:5]  # 0 ~ 4 step - 1"
   ]
  },
  {
   "cell_type": "code",
   "execution_count": 47,
   "metadata": {
    "ExecuteTime": {
     "end_time": "2023-01-20T01:27:36.167922Z",
     "start_time": "2023-01-20T01:27:36.147407Z"
    }
   },
   "outputs": [
    {
     "data": {
      "text/plain": [
       "array([ 2,  5,  8, 11, 14])"
      ]
     },
     "execution_count": 47,
     "metadata": {},
     "output_type": "execute_result"
    }
   ],
   "source": [
    "a[2:15:3]"
   ]
  },
  {
   "cell_type": "code",
   "execution_count": 48,
   "metadata": {
    "ExecuteTime": {
     "end_time": "2023-01-20T01:28:31.155031Z",
     "start_time": "2023-01-20T01:28:31.146009Z"
    }
   },
   "outputs": [
    {
     "data": {
      "text/plain": [
       "array([20, 21, 22, 23, 24, 25, 26, 27, 28])"
      ]
     },
     "execution_count": 48,
     "metadata": {},
     "output_type": "execute_result"
    }
   ],
   "source": [
    "a[20:-1]  # 마지막은 빼고 조회 "
   ]
  },
  {
   "cell_type": "code",
   "execution_count": 50,
   "metadata": {
    "ExecuteTime": {
     "end_time": "2023-01-20T01:29:14.644377Z",
     "start_time": "2023-01-20T01:29:14.638258Z"
    }
   },
   "outputs": [
    {
     "data": {
      "text/plain": [
       "array([400, 400, 400, 400,   4,   5,   6,   7,   8,   9,  10,  11,  12,\n",
       "        13,  14,  15,  16,  17,  18,  19,  20,  21,  22,  23,  24,  25,\n",
       "        26,  27,  28,  29])"
      ]
     },
     "execution_count": 50,
     "metadata": {},
     "output_type": "execute_result"
    }
   ],
   "source": [
    "a[:4] = 400\n",
    "a"
   ]
  },
  {
   "cell_type": "code",
   "execution_count": 57,
   "metadata": {
    "ExecuteTime": {
     "end_time": "2023-01-20T01:31:59.682471Z",
     "start_time": "2023-01-20T01:31:59.676033Z"
    }
   },
   "outputs": [
    {
     "name": "stdout",
     "output_type": "stream",
     "text": [
      "[500 400 400 400]\n",
      "500\n"
     ]
    },
    {
     "data": {
      "text/plain": [
       "array([50000,   400,   400,   400])"
      ]
     },
     "execution_count": 57,
     "metadata": {},
     "output_type": "execute_result"
    }
   ],
   "source": [
    "b = a[:4].copy()\n",
    "print(b)\n",
    "print(b[0])\n",
    "b[0] = 50000\n",
    "b"
   ]
  },
  {
   "cell_type": "code",
   "execution_count": 58,
   "metadata": {
    "ExecuteTime": {
     "end_time": "2023-01-20T01:32:02.914412Z",
     "start_time": "2023-01-20T01:32:02.907357Z"
    },
    "collapsed": true
   },
   "outputs": [
    {
     "data": {
      "text/plain": [
       "array([500, 400, 400, 400,   4,   5,   6,   7,   8,   9,  10,  11,  12,\n",
       "        13,  14,  15,  16,  17,  18,  19,  20,  21,  22,  23,  24,  25,\n",
       "        26,  27,  28,  29])"
      ]
     },
     "execution_count": 58,
     "metadata": {},
     "output_type": "execute_result"
    }
   ],
   "source": [
    "a"
   ]
  },
  {
   "cell_type": "code",
   "execution_count": 59,
   "metadata": {
    "ExecuteTime": {
     "end_time": "2023-01-20T01:32:49.573802Z",
     "start_time": "2023-01-20T01:32:49.541992Z"
    }
   },
   "outputs": [
    {
     "data": {
      "text/plain": [
       "array([[ 0,  1,  2,  3,  4,  5],\n",
       "       [ 6,  7,  8,  9, 10, 11],\n",
       "       [12, 13, 14, 15, 16, 17],\n",
       "       [18, 19, 20, 21, 22, 23],\n",
       "       [24, 25, 26, 27, 28, 29]])"
      ]
     },
     "execution_count": 59,
     "metadata": {},
     "output_type": "execute_result"
    }
   ],
   "source": [
    "a2 = np.arange(30).reshape(5, 6)\n",
    "a2"
   ]
  },
  {
   "cell_type": "code",
   "execution_count": 65,
   "metadata": {
    "ExecuteTime": {
     "end_time": "2023-01-20T01:37:35.354377Z",
     "start_time": "2023-01-20T01:37:35.334682Z"
    }
   },
   "outputs": [
    {
     "data": {
      "text/plain": [
       "array([[ 7,  8,  9, 10],\n",
       "       [25, 26, 27, 28]])"
      ]
     },
     "execution_count": 65,
     "metadata": {},
     "output_type": "execute_result"
    }
   ],
   "source": [
    "a2[[1,-1], 1:5]"
   ]
  },
  {
   "cell_type": "code",
   "execution_count": 64,
   "metadata": {
    "ExecuteTime": {
     "end_time": "2023-01-20T01:37:05.917643Z",
     "start_time": "2023-01-20T01:37:05.911626Z"
    }
   },
   "outputs": [
    {
     "data": {
      "text/plain": [
       "array([ 7,  8,  9, 10])"
      ]
     },
     "execution_count": 64,
     "metadata": {},
     "output_type": "execute_result"
    }
   ],
   "source": [
    "a2[1, 1:5]"
   ]
  },
  {
   "cell_type": "code",
   "execution_count": 63,
   "metadata": {
    "ExecuteTime": {
     "end_time": "2023-01-20T01:36:15.332477Z",
     "start_time": "2023-01-20T01:36:15.296756Z"
    }
   },
   "outputs": [
    {
     "data": {
      "text/plain": [
       "array([[ 1,  4],\n",
       "       [ 7, 10],\n",
       "       [13, 16],\n",
       "       [19, 22],\n",
       "       [25, 28]])"
      ]
     },
     "execution_count": 63,
     "metadata": {},
     "output_type": "execute_result"
    }
   ],
   "source": [
    "a2[:, [1, 4]]"
   ]
  },
  {
   "cell_type": "code",
   "execution_count": 62,
   "metadata": {
    "ExecuteTime": {
     "end_time": "2023-01-20T01:35:18.372114Z",
     "start_time": "2023-01-20T01:35:18.358760Z"
    }
   },
   "outputs": [
    {
     "data": {
      "text/plain": [
       "array([ 1,  7, 13, 19, 25])"
      ]
     },
     "execution_count": 62,
     "metadata": {},
     "output_type": "execute_result"
    }
   ],
   "source": [
    "a2[:, 1]"
   ]
  },
  {
   "cell_type": "code",
   "execution_count": 61,
   "metadata": {
    "ExecuteTime": {
     "end_time": "2023-01-20T01:34:19.260739Z",
     "start_time": "2023-01-20T01:34:19.249606Z"
    }
   },
   "outputs": [
    {
     "data": {
      "text/plain": [
       "array([[ 1,  2,  3,  4],\n",
       "       [ 7,  8,  9, 10],\n",
       "       [13, 14, 15, 16]])"
      ]
     },
     "execution_count": 61,
     "metadata": {},
     "output_type": "execute_result"
    }
   ],
   "source": [
    "a2[:3, 1:5]"
   ]
  },
  {
   "cell_type": "markdown",
   "metadata": {
    "slideshow": {
     "slide_type": "subslide"
    }
   },
   "source": [
    "## boolean indexing\n",
    "- Index 연산자에 같은 형태(shape)의 Boolean 배열을 넣으면 True인 index의 값만 조회 (False가 있는 index는 조회하지 않는다.)\n",
    "- ndarray내의 원소 중에서 원하는 조건의 값들만 조회할 때 사용\n",
    "    - ndarray는 **element-wise 연산**을 지원한다. 이를 이용해 boolean indexing으로 원하는 조건의 값들을 조회할 수 있다.\n",
    "- boolean indexing을 masking이라고도 한다."
   ]
  },
  {
   "cell_type": "markdown",
   "metadata": {
    "slideshow": {
     "slide_type": "fragment"
    }
   },
   "source": [
    "## 넘파이 비교연산자\n",
    "- 파이썬의 and, or, not은 사용할 수 없다.\n",
    "- `&`: and연산\n",
    "- `|`: or 연산\n",
    "- `~`: not 연산\n",
    "- 피연산자는 `( )`로 묶어야 한다."
   ]
  },
  {
   "cell_type": "code",
   "execution_count": 66,
   "metadata": {
    "ExecuteTime": {
     "end_time": "2023-01-20T01:40:25.454986Z",
     "start_time": "2023-01-20T01:40:25.445685Z"
    }
   },
   "outputs": [
    {
     "data": {
      "text/plain": [
       "array([44, 47, 64, 67, 67,  9, 83, 21, 36, 87, 70, 88, 88, 12, 58, 65, 39,\n",
       "       87, 46, 88])"
      ]
     },
     "execution_count": 66,
     "metadata": {},
     "output_type": "execute_result"
    }
   ],
   "source": [
    "np.random.seed(0)\n",
    "a = np.random.randint(100, size=20) # 0 ~ 99 사이의 임의 정수 20개.\n",
    "a"
   ]
  },
  {
   "cell_type": "code",
   "execution_count": 68,
   "metadata": {
    "ExecuteTime": {
     "end_time": "2023-01-20T01:42:19.624170Z",
     "start_time": "2023-01-20T01:42:19.613789Z"
    }
   },
   "outputs": [
    {
     "data": {
      "text/plain": [
       "array([64, 67, 67, 83, 87, 70, 88, 88, 58, 65, 87, 88])"
      ]
     },
     "execution_count": 68,
     "metadata": {},
     "output_type": "execute_result"
    }
   ],
   "source": [
    "# a 에서 50 이상인 값들만 조회\n",
    "a[a > 50]   # 원소별로 연산"
   ]
  },
  {
   "cell_type": "code",
   "execution_count": 71,
   "metadata": {
    "ExecuteTime": {
     "end_time": "2023-01-20T01:43:36.187776Z",
     "start_time": "2023-01-20T01:43:36.180248Z"
    }
   },
   "outputs": [
    {
     "data": {
      "text/plain": [
       "array([44, 47, 36, 58, 39, 46])"
      ]
     },
     "execution_count": 71,
     "metadata": {},
     "output_type": "execute_result"
    }
   ],
   "source": [
    "# 30<a<60\n",
    "a[(a > 30) & (a < 60)]"
   ]
  },
  {
   "cell_type": "code",
   "execution_count": 72,
   "metadata": {
    "ExecuteTime": {
     "end_time": "2023-01-20T01:44:34.813386Z",
     "start_time": "2023-01-20T01:44:34.795379Z"
    }
   },
   "outputs": [
    {
     "data": {
      "text/plain": [
       "array([64, 67, 67,  9, 83, 21, 87, 70, 88, 88, 12, 65, 87, 88])"
      ]
     },
     "execution_count": 72,
     "metadata": {},
     "output_type": "execute_result"
    }
   ],
   "source": [
    "# 30 ~ 60 사이가 아닌것\n",
    "a[~((a > 30) & (a < 60))]"
   ]
  },
  {
   "cell_type": "code",
   "execution_count": 74,
   "metadata": {
    "ExecuteTime": {
     "end_time": "2023-01-20T01:45:17.481701Z",
     "start_time": "2023-01-20T01:45:17.467113Z"
    },
    "slideshow": {
     "slide_type": "fragment"
    }
   },
   "outputs": [
    {
     "data": {
      "text/plain": [
       "array([64, 67, 67,  9, 83, 21, 87, 70, 88, 88, 12, 65, 87, 88])"
      ]
     },
     "execution_count": 74,
     "metadata": {},
     "output_type": "execute_result"
    }
   ],
   "source": [
    "a[(a <= 30 ) | (a >= 60)]"
   ]
  },
  {
   "cell_type": "code",
   "execution_count": 76,
   "metadata": {
    "ExecuteTime": {
     "end_time": "2023-01-20T01:46:10.196678Z",
     "start_time": "2023-01-20T01:46:10.186375Z"
    }
   },
   "outputs": [
    {
     "data": {
      "text/plain": [
       "(7, 8)"
      ]
     },
     "execution_count": 76,
     "metadata": {},
     "output_type": "execute_result"
    }
   ],
   "source": [
    "a2 = np.random.randint(100, size=(7, 8))\n",
    "a2.shape"
   ]
  },
  {
   "cell_type": "code",
   "execution_count": 77,
   "metadata": {
    "ExecuteTime": {
     "end_time": "2023-01-20T01:46:40.784282Z",
     "start_time": "2023-01-20T01:46:40.765159Z"
    },
    "collapsed": true
   },
   "outputs": [
    {
     "data": {
      "text/plain": [
       "array([[14, 99, 53, 12, 42, 84, 75, 68],\n",
       "       [ 6, 68, 47,  3, 76, 52, 78, 15],\n",
       "       [20, 99, 58, 23, 79, 13, 85, 48],\n",
       "       [49, 69, 41, 35, 64, 95, 69, 94],\n",
       "       [ 0, 50, 36, 34, 48, 93,  3, 98],\n",
       "       [42, 77, 21, 73,  0, 10, 43, 58],\n",
       "       [23, 59,  2, 98, 62, 35, 94, 67]])"
      ]
     },
     "execution_count": 77,
     "metadata": {},
     "output_type": "execute_result"
    }
   ],
   "source": [
    "a2"
   ]
  },
  {
   "cell_type": "code",
   "execution_count": 79,
   "metadata": {
    "ExecuteTime": {
     "end_time": "2023-01-20T01:47:03.240831Z",
     "start_time": "2023-01-20T01:47:03.232217Z"
    }
   },
   "outputs": [
    {
     "data": {
      "text/plain": [
       "(7, 8)"
      ]
     },
     "execution_count": 79,
     "metadata": {},
     "output_type": "execute_result"
    }
   ],
   "source": [
    "(a2 > 50).shape"
   ]
  },
  {
   "cell_type": "code",
   "execution_count": 81,
   "metadata": {
    "ExecuteTime": {
     "end_time": "2023-01-20T01:47:54.132050Z",
     "start_time": "2023-01-20T01:47:54.115753Z"
    }
   },
   "outputs": [
    {
     "data": {
      "text/plain": [
       "array([99, 53, 84, 75, 68, 68, 76, 52, 78, 99, 58, 79, 85, 69, 64, 95, 69,\n",
       "       94, 93, 98, 77, 73, 58, 59, 98, 62, 94, 67])"
      ]
     },
     "execution_count": 81,
     "metadata": {},
     "output_type": "execute_result"
    }
   ],
   "source": [
    "a2[a2 > 50]  # 결과는 1차원으로 반환."
   ]
  },
  {
   "cell_type": "markdown",
   "metadata": {
    "slideshow": {
     "slide_type": "subslide"
    }
   },
   "source": [
    "### np.where()\n",
    "- **True의 index 조회**\n",
    "    - np.where(boolean 배열) - True인 index를 반환\n",
    "        - 반환타입: Tuple . True인 index들을 담은 ndarray를 축별로 Tuple에 묶어서 반환한다.\n",
    "    - boolean연산과 같이사용하여 배열내에 **특정 조건을 만족하는 값들을 index(위치)를 조회할 때** 사용한다. \n",
    "- **True와 False를 다른 값으로 변환**\n",
    "    - np.where(boolean 배열, True를 대체할 값, False를 대체할 값)\n",
    "        - 배열내의 True를 True를 대체할 값으로 False를 False를 대체할 값 으로 변환한다.\n"
   ]
  },
  {
   "cell_type": "code",
   "execution_count": 84,
   "metadata": {
    "ExecuteTime": {
     "end_time": "2023-01-20T02:09:44.019987Z",
     "start_time": "2023-01-20T02:09:44.007616Z"
    }
   },
   "outputs": [
    {
     "name": "stdout",
     "output_type": "stream",
     "text": [
      "<class 'tuple'> <class 'numpy.ndarray'>\n"
     ]
    },
    {
     "data": {
      "text/plain": [
       "(array([0, 2], dtype=int64),)"
      ]
     },
     "execution_count": 84,
     "metadata": {},
     "output_type": "execute_result"
    }
   ],
   "source": [
    "r = np.where([True, False, True])\n",
    "print(type(r), type(r[0]))\n",
    "r"
   ]
  },
  {
   "cell_type": "code",
   "execution_count": 86,
   "metadata": {
    "ExecuteTime": {
     "end_time": "2023-01-20T02:10:58.127055Z",
     "start_time": "2023-01-20T02:10:58.114929Z"
    }
   },
   "outputs": [
    {
     "data": {
      "text/plain": [
       "array(['참', '거짓', '참'], dtype='<U2')"
      ]
     },
     "execution_count": 86,
     "metadata": {},
     "output_type": "execute_result"
    }
   ],
   "source": [
    "r2 = np.where([True, False, True], \"참\", \"거짓\")\n",
    "r2"
   ]
  },
  {
   "cell_type": "code",
   "execution_count": 87,
   "metadata": {
    "ExecuteTime": {
     "end_time": "2023-01-20T02:13:38.349498Z",
     "start_time": "2023-01-20T02:13:38.343463Z"
    }
   },
   "outputs": [
    {
     "data": {
      "text/plain": [
       "(array([0, 0, 1], dtype=int64), array([0, 2, 2], dtype=int64))"
      ]
     },
     "execution_count": 87,
     "metadata": {},
     "output_type": "execute_result"
    }
   ],
   "source": [
    "l = [\n",
    "    [True, False, True], \n",
    "    [False, False, True]\n",
    "]\n",
    "r3 = np.where(l)\n",
    "r3"
   ]
  },
  {
   "cell_type": "code",
   "execution_count": 88,
   "metadata": {
    "ExecuteTime": {
     "end_time": "2023-01-20T02:15:35.084821Z",
     "start_time": "2023-01-20T02:15:35.073196Z"
    }
   },
   "outputs": [
    {
     "name": "stdout",
     "output_type": "stream",
     "text": [
      "0, 0\n",
      "0, 2\n",
      "1, 2\n"
     ]
    }
   ],
   "source": [
    "for a1, a2 in zip(r3[0], r3[1]):\n",
    "    print(a1, a2, sep=', ' )"
   ]
  },
  {
   "cell_type": "code",
   "execution_count": 103,
   "metadata": {
    "ExecuteTime": {
     "end_time": "2023-01-20T02:21:39.434008Z",
     "start_time": "2023-01-20T02:21:39.418378Z"
    }
   },
   "outputs": [
    {
     "data": {
      "text/plain": [
       "(5, 2, 3)"
      ]
     },
     "execution_count": 103,
     "metadata": {},
     "output_type": "execute_result"
    }
   ],
   "source": [
    "np.random.seed(0)\n",
    "a2 = np.random.randint(100, size=(5,2,3))\n",
    "a2.shape"
   ]
  },
  {
   "cell_type": "code",
   "execution_count": 104,
   "metadata": {
    "ExecuteTime": {
     "end_time": "2023-01-20T02:21:40.752611Z",
     "start_time": "2023-01-20T02:21:40.747592Z"
    }
   },
   "outputs": [
    {
     "data": {
      "text/plain": [
       "array([83, 87, 70, 88, 88, 87, 88, 81, 77, 72, 80, 79])"
      ]
     },
     "execution_count": 104,
     "metadata": {},
     "output_type": "execute_result"
    }
   ],
   "source": [
    "# 70이상인 값들 조회 ==> 조건이 True값들을 조회 ===> boolean indexing\n",
    "a2[a2 >= 70]"
   ]
  },
  {
   "cell_type": "code",
   "execution_count": 105,
   "metadata": {
    "ExecuteTime": {
     "end_time": "2023-01-20T02:21:56.591515Z",
     "start_time": "2023-01-20T02:21:56.578103Z"
    },
    "slideshow": {
     "slide_type": "fragment"
    }
   },
   "outputs": [
    {
     "name": "stdout",
     "output_type": "stream",
     "text": [
      "[1 1 1 1 2 2 3 3 3 4 4 4]\n",
      "[0 1 1 1 0 1 0 0 1 0 1 1]\n",
      "[0 0 1 2 0 2 1 2 2 0 0 2]\n"
     ]
    }
   ],
   "source": [
    "# 70이상인 값들의 위치 ==> 조건이 True 값들의 위치(index) ===> np.where()\n",
    "axis1, axis2, axis3 = np.where(a2 >= 70)\n",
    "print(axis1)\n",
    "print(axis2)\n",
    "print(axis3)"
   ]
  },
  {
   "cell_type": "code",
   "execution_count": 108,
   "metadata": {
    "ExecuteTime": {
     "end_time": "2023-01-20T02:22:29.926619Z",
     "start_time": "2023-01-20T02:22:29.912241Z"
    }
   },
   "outputs": [
    {
     "name": "stdout",
     "output_type": "stream",
     "text": [
      "83, 87, 70, 88, 88, 87, 88, 81, 77, 72, 80, 79, "
     ]
    }
   ],
   "source": [
    "for i, j, k in zip(axis1, axis2, axis3):\n",
    "#     print(i, j, k)\n",
    "    print(a2[i, j, k], end=', ')"
   ]
  },
  {
   "cell_type": "markdown",
   "metadata": {
    "slideshow": {
     "slide_type": "subslide"
    }
   },
   "source": [
    "### 기타\n",
    "- np.any(boolean 배열)\n",
    "    - 배열에 True가 하나라도 있으면 True 반환\n",
    "    - 배열내에 특정조건을 만족하는 값이 하나 이상 있는지 확인할 때 사용\n",
    "- np.all(boolean 배열)\n",
    "    - 배열의 모든 원소가 True이면 True 반환\n",
    "    - 배열내의 모든 원소가 특정 조건을 만족하는지 확인 할 때 사용"
   ]
  },
  {
   "cell_type": "code",
   "execution_count": 110,
   "metadata": {
    "ExecuteTime": {
     "end_time": "2023-01-20T02:24:37.590407Z",
     "start_time": "2023-01-20T02:24:37.578243Z"
    }
   },
   "outputs": [
    {
     "data": {
      "text/plain": [
       "False"
      ]
     },
     "execution_count": 110,
     "metadata": {},
     "output_type": "execute_result"
    }
   ],
   "source": [
    "np.any([True, False, False, False])\n",
    "np.any([False, False, False, False])"
   ]
  },
  {
   "cell_type": "code",
   "execution_count": 114,
   "metadata": {
    "ExecuteTime": {
     "end_time": "2023-01-20T02:25:51.312932Z",
     "start_time": "2023-01-20T02:25:51.292851Z"
    }
   },
   "outputs": [
    {
     "data": {
      "text/plain": [
       "True"
      ]
     },
     "execution_count": 114,
     "metadata": {},
     "output_type": "execute_result"
    }
   ],
   "source": [
    "np.any(a2==99)\n",
    "np.any(a2==83)\n",
    "# np.where(a2==99)"
   ]
  },
  {
   "cell_type": "code",
   "execution_count": 116,
   "metadata": {
    "ExecuteTime": {
     "end_time": "2023-01-20T02:26:25.592485Z",
     "start_time": "2023-01-20T02:26:25.573261Z"
    }
   },
   "outputs": [
    {
     "data": {
      "text/plain": [
       "True"
      ]
     },
     "execution_count": 116,
     "metadata": {},
     "output_type": "execute_result"
    }
   ],
   "source": [
    "np.all([True, True, False])\n",
    "np.all([True, True, True])"
   ]
  },
  {
   "cell_type": "code",
   "execution_count": 120,
   "metadata": {
    "ExecuteTime": {
     "end_time": "2023-01-20T02:27:28.816221Z",
     "start_time": "2023-01-20T02:27:28.810154Z"
    },
    "slideshow": {
     "slide_type": "fragment"
    }
   },
   "outputs": [
    {
     "data": {
      "text/plain": [
       "False"
      ]
     },
     "execution_count": 120,
     "metadata": {},
     "output_type": "execute_result"
    }
   ],
   "source": [
    "np.all(a2 > 0)\n",
    "np.all(a2 > 10)\n",
    "# np.where(a2 <= 10)"
   ]
  },
  {
   "cell_type": "markdown",
   "metadata": {
    "slideshow": {
     "slide_type": "slide"
    }
   },
   "source": [
    "# 배열의 형태(shape) 변경\n",
    "\n",
    "- 배열의 원소의 개수를 유지하는 상태에서 shape을 변경할 수있다.\n",
    "    - 예) (16, ) -> (4,4) -> (2,2,4) -> (2,2,2,2), -> (4,4,1) -> (1, 16)"
   ]
  },
  {
   "cell_type": "markdown",
   "metadata": {
    "slideshow": {
     "slide_type": "subslide"
    }
   },
   "source": [
    "## reshape()을 이용한 차원 변경\n",
    "- `numpy.reshape(a, newshape)` 또는 `ndarray.reshape(newshape)`\n",
    "    - a: 형태를 변경할 배열\n",
    "    - newshape : 변경할 형태 설정. \n",
    "        - 원소의 개수를 유지하는 shape으로만 변환 가능하다.\n",
    "        - 각 axis(축)의 size를 지정할 때 **하나의 축의 size를 -1**로 줄 수있다. 그러면 `전체 size / 다른 축의 size곱` 을 -1로 지정한 axis 의 size로 지정한다.\n",
    "\n",
    "    - 둘다 원본을 바꾸지 않고 reshape한 새로운 배열을 만들어 반환한다."
   ]
  },
  {
   "cell_type": "code",
   "execution_count": 123,
   "metadata": {
    "ExecuteTime": {
     "end_time": "2023-01-20T02:38:10.130993Z",
     "start_time": "2023-01-20T02:38:10.100343Z"
    },
    "slideshow": {
     "slide_type": "fragment"
    }
   },
   "outputs": [
    {
     "name": "stdout",
     "output_type": "stream",
     "text": [
      "(20,)\n"
     ]
    },
    {
     "data": {
      "text/plain": [
       "array([ 0,  1,  2,  3,  4,  5,  6,  7,  8,  9, 10, 11, 12, 13, 14, 15, 16,\n",
       "       17, 18, 19])"
      ]
     },
     "execution_count": 123,
     "metadata": {},
     "output_type": "execute_result"
    }
   ],
   "source": [
    "a = np.arange(20)\n",
    "print(a.shape)\n",
    "a"
   ]
  },
  {
   "cell_type": "code",
   "execution_count": 124,
   "metadata": {
    "ExecuteTime": {
     "end_time": "2023-01-20T02:38:51.533049Z",
     "start_time": "2023-01-20T02:38:51.523481Z"
    }
   },
   "outputs": [
    {
     "name": "stdout",
     "output_type": "stream",
     "text": [
      "(2, 10)\n"
     ]
    },
    {
     "data": {
      "text/plain": [
       "array([[ 0,  1,  2,  3,  4,  5,  6,  7,  8,  9],\n",
       "       [10, 11, 12, 13, 14, 15, 16, 17, 18, 19]])"
      ]
     },
     "execution_count": 124,
     "metadata": {},
     "output_type": "execute_result"
    }
   ],
   "source": [
    "r1 = np.reshape(a, (2, 10))\n",
    "print(r1.shape)\n",
    "r1"
   ]
  },
  {
   "cell_type": "code",
   "execution_count": 126,
   "metadata": {
    "ExecuteTime": {
     "end_time": "2023-01-20T02:39:55.700169Z",
     "start_time": "2023-01-20T02:39:55.695228Z"
    }
   },
   "outputs": [],
   "source": [
    "# np.reshape(a, (2,5))  # 20 -> 10  "
   ]
  },
  {
   "cell_type": "code",
   "execution_count": 129,
   "metadata": {
    "ExecuteTime": {
     "end_time": "2023-01-20T02:41:27.806579Z",
     "start_time": "2023-01-20T02:41:27.779338Z"
    }
   },
   "outputs": [
    {
     "name": "stdout",
     "output_type": "stream",
     "text": [
      "(4, 5)\n"
     ]
    },
    {
     "data": {
      "text/plain": [
       "array([[ 0,  1,  2,  3,  4],\n",
       "       [ 5,  6,  7,  8,  9],\n",
       "       [10, 11, 12, 13, 14],\n",
       "       [15, 16, 17, 18, 19]])"
      ]
     },
     "execution_count": 129,
     "metadata": {},
     "output_type": "execute_result"
    }
   ],
   "source": [
    "# r2 = a.reshape((4,5))\n",
    "r2 = a.reshape(4,5)\n",
    "print(r2.shape)\n",
    "r2"
   ]
  },
  {
   "cell_type": "code",
   "execution_count": 130,
   "metadata": {
    "ExecuteTime": {
     "end_time": "2023-01-20T02:42:23.147405Z",
     "start_time": "2023-01-20T02:42:23.139222Z"
    }
   },
   "outputs": [
    {
     "name": "stdout",
     "output_type": "stream",
     "text": [
      "(2, 2, 5)\n"
     ]
    },
    {
     "data": {
      "text/plain": [
       "array([[[ 0,  1,  2,  3,  4],\n",
       "        [ 5,  6,  7,  8,  9]],\n",
       "\n",
       "       [[10, 11, 12, 13, 14],\n",
       "        [15, 16, 17, 18, 19]]])"
      ]
     },
     "execution_count": 130,
     "metadata": {},
     "output_type": "execute_result"
    }
   ],
   "source": [
    "r3 = a.reshape(2, 2, -1)\n",
    "print(r3.shape)\n",
    "r3"
   ]
  },
  {
   "cell_type": "markdown",
   "metadata": {
    "slideshow": {
     "slide_type": "subslide"
    }
   },
   "source": [
    "## 차원 늘리기(확장)\n",
    "\n",
    "- Dummy axis(축)을 늘린다.\n",
    "   > - Dummy axis: size가 1인 axis 를 말한다.\n",
    "\n",
    "- **reshape() 을 이용해 늘릴 수 있다.**"
   ]
  },
  {
   "cell_type": "markdown",
   "metadata": {
    "slideshow": {
     "slide_type": "fragment"
    }
   },
   "source": [
    "- **indexer와 np.newaxis 변수를 이용해 늘린다.**\n",
    "    - ndarray\\[..., np.newaxis\\] 또는 ndarray\\[np.newaxis, ...\\]\n",
    "        - 맨앞 또는 맨 마지막에 dummy axis(축)을 늘릴때 사용한다.\n",
    "        - 축을 늘리려는 위치에 np.newaxis를 지정하고 `...` 으로 원본 배열의 shape을 유지함을 알려준다."
   ]
  },
  {
   "cell_type": "code",
   "execution_count": 138,
   "metadata": {
    "ExecuteTime": {
     "end_time": "2023-01-20T02:49:30.468652Z",
     "start_time": "2023-01-20T02:49:30.460659Z"
    }
   },
   "outputs": [
    {
     "data": {
      "text/plain": [
       "(1, 20)"
      ]
     },
     "execution_count": 138,
     "metadata": {},
     "output_type": "execute_result"
    }
   ],
   "source": [
    "a.shape\n",
    "# (20, 1)\n",
    "r1 = a.reshape(20, 1)\n",
    "r1 = a.reshape(-1, 1)\n",
    "# (1, 20)\n",
    "r1 = a.reshape(1, -1)\n",
    "r1.shape\n"
   ]
  },
  {
   "cell_type": "code",
   "execution_count": 143,
   "metadata": {
    "ExecuteTime": {
     "end_time": "2023-01-20T02:51:53.122929Z",
     "start_time": "2023-01-20T02:51:53.105901Z"
    }
   },
   "outputs": [
    {
     "data": {
      "text/plain": [
       "(5, 2, 3, 1)"
      ]
     },
     "execution_count": 143,
     "metadata": {},
     "output_type": "execute_result"
    }
   ],
   "source": [
    "a2.shape  #  다차원\n",
    "# (1, 5, 2, 3)\n",
    "r2 = a2.reshape(1, 5, 2, 3)\n",
    "# (5, 2, 3, 1)\n",
    "r2 = a2.reshape(5, 2, 3, 1)\n",
    "r2.shape"
   ]
  },
  {
   "cell_type": "code",
   "execution_count": 149,
   "metadata": {
    "ExecuteTime": {
     "end_time": "2023-01-20T03:11:23.732386Z",
     "start_time": "2023-01-20T03:11:23.720493Z"
    }
   },
   "outputs": [
    {
     "data": {
      "text/plain": [
       "(1, 20)"
      ]
     },
     "execution_count": 149,
     "metadata": {},
     "output_type": "execute_result"
    }
   ],
   "source": [
    "a.shape\n",
    "# (20, 1)\n",
    "a[... , np.newaxis].shape\n",
    "# (1, 20)\n",
    "a[np.newaxis, ...].shape"
   ]
  },
  {
   "cell_type": "code",
   "execution_count": null,
   "metadata": {
    "ExecuteTime": {
     "end_time": "2023-01-20T03:12:53.287804Z",
     "start_time": "2023-01-20T03:12:53.281611Z"
    }
   },
   "outputs": [],
   "source": [
    "# a2.shape\n",
    "# (1, 5, 2, 3)\n",
    "a2[np.newaxis, ...].shape\n",
    "# (5, 2, 3, 1)\n",
    "a2[..., np.newaxis].shape"
   ]
  },
  {
   "cell_type": "code",
   "execution_count": 158,
   "metadata": {
    "ExecuteTime": {
     "end_time": "2023-01-20T03:15:12.368008Z",
     "start_time": "2023-01-20T03:15:12.355553Z"
    }
   },
   "outputs": [
    {
     "data": {
      "text/plain": [
       "(5, 2, 3, 1)"
      ]
     },
     "execution_count": 158,
     "metadata": {},
     "output_type": "execute_result"
    }
   ],
   "source": [
    "r = np.expand_dims(a2, axis=2)  # a2의 2축에 dummy axis를 추가.\n",
    "r = np.expand_dims(a2, axis=0) \n",
    "r = np.expand_dims(a2, axis=-1) \n",
    "r.shape"
   ]
  },
  {
   "cell_type": "markdown",
   "metadata": {
    "slideshow": {
     "slide_type": "subslide"
    }
   },
   "source": [
    "## 차원 줄이기(축소)\n",
    "\n",
    "### numpy.squeeze(배열, axis=None), 배열객체.squeeze(axis=None)\n",
    "- 배열에서 지정한 축(axis)을 제거하여 차원(rank)를 줄인다.\n",
    "- 제거하려는 축의 size는 1이어야 한다.\n",
    "- 축을 지정하지 않으면 size가 1인 모든 축을 제거한다.\n",
    "    - (3,1,1,2) => (3,2)"
   ]
  },
  {
   "cell_type": "code",
   "execution_count": 159,
   "metadata": {
    "ExecuteTime": {
     "end_time": "2023-01-20T03:19:57.388092Z",
     "start_time": "2023-01-20T03:19:57.373052Z"
    }
   },
   "outputs": [
    {
     "data": {
      "text/plain": [
       "(1, 2, 1, 2, 3, 1)"
      ]
     },
     "execution_count": 159,
     "metadata": {},
     "output_type": "execute_result"
    }
   ],
   "source": [
    "a = np.arange(12).reshape(1, 2, 1, 2, 3, 1)\n",
    "a.shape"
   ]
  },
  {
   "cell_type": "code",
   "execution_count": 161,
   "metadata": {
    "ExecuteTime": {
     "end_time": "2023-01-20T03:20:30.294186Z",
     "start_time": "2023-01-20T03:20:30.275630Z"
    }
   },
   "outputs": [
    {
     "data": {
      "text/plain": [
       "(2, 2, 3)"
      ]
     },
     "execution_count": 161,
     "metadata": {},
     "output_type": "execute_result"
    }
   ],
   "source": [
    "r1 = a.reshape(2, 2, 3)\n",
    "r1.shape"
   ]
  },
  {
   "cell_type": "code",
   "execution_count": 162,
   "metadata": {
    "ExecuteTime": {
     "end_time": "2023-01-20T03:21:04.363178Z",
     "start_time": "2023-01-20T03:21:04.344513Z"
    }
   },
   "outputs": [
    {
     "data": {
      "text/plain": [
       "(2, 2, 3)"
      ]
     },
     "execution_count": 162,
     "metadata": {},
     "output_type": "execute_result"
    }
   ],
   "source": [
    "r2 = a.squeeze() # reshape한 새로운 배열을 생성해서 반환.\n",
    "r2.shape"
   ]
  },
  {
   "cell_type": "code",
   "execution_count": 164,
   "metadata": {
    "ExecuteTime": {
     "end_time": "2023-01-20T03:22:10.368010Z",
     "start_time": "2023-01-20T03:22:10.359557Z"
    }
   },
   "outputs": [
    {
     "data": {
      "text/plain": [
       "(1, 2, 2, 3, 1)"
      ]
     },
     "execution_count": 164,
     "metadata": {},
     "output_type": "execute_result"
    }
   ],
   "source": [
    "r3 = a.squeeze(axis=2)\n",
    "r3.shape"
   ]
  },
  {
   "cell_type": "code",
   "execution_count": 166,
   "metadata": {
    "ExecuteTime": {
     "end_time": "2023-01-20T03:23:44.393191Z",
     "start_time": "2023-01-20T03:23:44.376885Z"
    }
   },
   "outputs": [],
   "source": [
    "# r4 = a.squeeze(axis=[0, 2]) # 한번에 하나씩\n",
    "# r4.shape"
   ]
  },
  {
   "cell_type": "markdown",
   "metadata": {
    "slideshow": {
     "slide_type": "subslide"
    }
   },
   "source": [
    "### 배열객체.flatten()\n",
    "- 다차원 배열을 1차원으로 만든다."
   ]
  },
  {
   "cell_type": "code",
   "execution_count": 170,
   "metadata": {
    "ExecuteTime": {
     "end_time": "2023-01-20T03:25:20.227680Z",
     "start_time": "2023-01-20T03:25:20.219623Z"
    }
   },
   "outputs": [
    {
     "data": {
      "text/plain": [
       "array([ 0,  1,  2,  3,  4,  5,  6,  7,  8,  9, 10, 11])"
      ]
     },
     "execution_count": 170,
     "metadata": {},
     "output_type": "execute_result"
    }
   ],
   "source": [
    "a.shape\n",
    "# a.reshape(12)\n",
    "a.reshape(-1)"
   ]
  },
  {
   "cell_type": "code",
   "execution_count": 172,
   "metadata": {
    "ExecuteTime": {
     "end_time": "2023-01-20T03:26:04.217262Z",
     "start_time": "2023-01-20T03:26:04.211836Z"
    }
   },
   "outputs": [
    {
     "data": {
      "text/plain": [
       "array([ 0,  1,  2,  3,  4,  5,  6,  7,  8,  9, 10, 11])"
      ]
     },
     "execution_count": 172,
     "metadata": {},
     "output_type": "execute_result"
    }
   ],
   "source": [
    "r = a.flatten()\n",
    "r.shape\n",
    "r"
   ]
  },
  {
   "cell_type": "code",
   "execution_count": 173,
   "metadata": {
    "ExecuteTime": {
     "end_time": "2023-01-20T03:28:37.438232Z",
     "start_time": "2023-01-20T03:28:37.427928Z"
    }
   },
   "outputs": [
    {
     "data": {
      "text/plain": [
       "(3, 5)"
      ]
     },
     "execution_count": 173,
     "metadata": {},
     "output_type": "execute_result"
    }
   ],
   "source": [
    "a = np.arange(15).reshape(3,5)\n",
    "a.shape"
   ]
  },
  {
   "cell_type": "code",
   "execution_count": 174,
   "metadata": {
    "ExecuteTime": {
     "end_time": "2023-01-20T03:29:33.650510Z",
     "start_time": "2023-01-20T03:29:33.633979Z"
    }
   },
   "outputs": [
    {
     "data": {
      "text/plain": [
       "(5, 3)"
      ]
     },
     "execution_count": 174,
     "metadata": {},
     "output_type": "execute_result"
    }
   ],
   "source": [
    "#  2차원 배열 -> 0축 <-> 1축\n",
    "# (3, 5) -> (5, 3)\n",
    "r = a.T\n",
    "r.shape"
   ]
  },
  {
   "cell_type": "code",
   "execution_count": 177,
   "metadata": {
    "ExecuteTime": {
     "end_time": "2023-01-20T03:30:49.184878Z",
     "start_time": "2023-01-20T03:30:49.167368Z"
    }
   },
   "outputs": [
    {
     "data": {
      "text/plain": [
       "(3, 4, 5)"
      ]
     },
     "execution_count": 177,
     "metadata": {},
     "output_type": "execute_result"
    }
   ],
   "source": [
    "a2 = np.arange(60).reshape(3, 4, 5)\n",
    "a2.shape"
   ]
  },
  {
   "cell_type": "code",
   "execution_count": 178,
   "metadata": {
    "ExecuteTime": {
     "end_time": "2023-01-20T03:33:40.549677Z",
     "start_time": "2023-01-20T03:33:40.531912Z"
    }
   },
   "outputs": [
    {
     "data": {
      "text/plain": [
       "(5, 3, 4)"
      ]
     },
     "execution_count": 178,
     "metadata": {},
     "output_type": "execute_result"
    }
   ],
   "source": [
    "# (5, 3, 4)  # (2, 0, 1)  (0->1, 1->2, 2->0)\n",
    "r2 = np.transpose(a2, (2, 0, 1))  #  대상배열, 축을 어떻게 이동\n",
    "r2.shape"
   ]
  },
  {
   "cell_type": "markdown",
   "metadata": {
    "slideshow": {
     "slide_type": "slide"
    }
   },
   "source": [
    "# 배열 연산\n",
    "\n",
    "## 벡터화 - 벡터 연산\n",
    "- 배열과 scalar 간의 연산은 원소단위로 계산한다.\n",
    "- 배열간의 연산은 같은 index의 원소끼리 계산 한다. \n",
    "    - **Element-wise(원소별) 연산** 이라고도 한다.\n",
    "    - **배열간의 연산시 배열의 형태(shape)가 같아야 한다.**\n",
    "    - 배열의 형태가 다른 경우 Broadcast 조건을 만족하면 연산이 가능하다."
   ]
  },
  {
   "cell_type": "markdown",
   "metadata": {
    "slideshow": {
     "slide_type": "subslide"
    }
   },
   "source": [
    "### 배열과 스칼라간 연산\n",
    "\n",
    "$$\n",
    "\\begin{align}\n",
    "10 -\n",
    "\\begin{bmatrix}\n",
    "1 \\\\\n",
    "2 \\\\\n",
    "3 \\\\\n",
    "\\end{bmatrix}\n",
    "=\n",
    "\\begin{bmatrix}\n",
    "10 - 1 \\\\\n",
    "10 - 2 \\\\\n",
    "10 - 3 \\\\\n",
    "\\end{bmatrix}\n",
    "=\n",
    "\\begin{bmatrix}\n",
    "9 \\\\\n",
    "8 \\\\\n",
    "7 \\\\\n",
    "\\end{bmatrix}\n",
    "\\end{align}\n",
    "$$"
   ]
  },
  {
   "cell_type": "markdown",
   "metadata": {
    "slideshow": {
     "slide_type": "fragment"
    }
   },
   "source": [
    "$$\n",
    "\\begin{align}\n",
    "10 \\times\n",
    "\\begin{bmatrix}\n",
    "1 & 2 \\\\\n",
    "3 & 4\n",
    "\\end{bmatrix}\n",
    "=\n",
    "\\begin{bmatrix}\n",
    "10\\times1 & 10\\times2 \\\\\n",
    "10\\times3 & 10\\times4 \\\\\n",
    "\\end{bmatrix}\n",
    "=\n",
    "\\begin{bmatrix}\n",
    "10 & 20 \\\\\n",
    "30 & 40\n",
    "\\end{bmatrix}\n",
    "\\end{align}\n",
    "$$"
   ]
  },
  {
   "cell_type": "markdown",
   "metadata": {
    "slideshow": {
     "slide_type": "fragment"
    }
   },
   "source": [
    "### 배열 간의 연산\n",
    "$$\n",
    "\\begin{align}\n",
    "\\begin{bmatrix}\n",
    "1 \\\\\n",
    "2 \\\\\n",
    "3 \\\\\n",
    "\\end{bmatrix}\n",
    "+\n",
    "\\begin{bmatrix}\n",
    "10 \\\\\n",
    "20 \\\\\n",
    "30 \\\\\n",
    "\\end{bmatrix}\n",
    "=\n",
    "\\begin{bmatrix}\n",
    "1 + 10 \\\\\n",
    "2 + 20 \\\\\n",
    "3 + 30 \\\\\n",
    "\\end{bmatrix}\n",
    "=\n",
    "\\begin{bmatrix}\n",
    "11 \\\\\n",
    "22 \\\\\n",
    "33 \\\\\n",
    "\\end{bmatrix}\n",
    "\\end{align}\n",
    "$$\n"
   ]
  },
  {
   "cell_type": "markdown",
   "metadata": {
    "slideshow": {
     "slide_type": "fragment"
    }
   },
   "source": [
    "$$\n",
    "\\begin{align}\n",
    "\\begin{bmatrix}\n",
    "1 & 2 \\\\\n",
    "3 & 4\n",
    "\\end{bmatrix}\n",
    "+\n",
    "\\begin{bmatrix}\n",
    "10 & 20 \\\\\n",
    "30 & 40 \\\\\n",
    "\\end{bmatrix}\n",
    "=\n",
    "\\begin{bmatrix}\n",
    "1+10 & 2+20 \\\\\n",
    "3+30 & 4+40\n",
    "\\end{bmatrix}\n",
    "=\n",
    "\\begin{bmatrix}\n",
    "11 & 22 \\\\\n",
    "33 & 44\n",
    "\\end{bmatrix}\n",
    "\\end{align}\n",
    "$$\n"
   ]
  },
  {
   "cell_type": "markdown",
   "metadata": {
    "slideshow": {
     "slide_type": "subslide"
    }
   },
   "source": [
    "## 내적 (Dot product) 연산\n",
    "\n",
    "- `@` 연산자 또는 `numpy.dot(벡터/행렬, 벡터/행렬)`  함수 사용\n",
    "\n",
    "### 1차원 배열(벡터)간의 내적\n",
    "- 같은 index의 원소끼리 곱한뒤 결과를 모두 더한다.\n",
    "- 벡터간의 내적의 결과는 스칼라가 된다.\n",
    "- $ x \\cdot y $ 또는 $x^T y$로 표현\n",
    "- 조건\n",
    "    - 두 벡터의 차원(원소의개수)가 같아야 한다.\n",
    "    - 앞의 벡터는 행벡터 뒤의 벡터는 열벡터 이어야 한다.\n",
    "        - numpy 에서는 vector 끼리 연산시 앞의 벡터는 행벡터로 뒤의 벡터는 열벡터로 인식해 처리한다."
   ]
  },
  {
   "cell_type": "markdown",
   "metadata": {
    "slideshow": {
     "slide_type": "fragment"
    }
   },
   "source": [
    "$$\n",
    "\\begin{align}\n",
    "x =\n",
    "\\begin{bmatrix}\n",
    "1 \\\\ 2 \\\\ 3 \\\\\n",
    "\\end{bmatrix}\n",
    ",\\;\\;\\;\n",
    "y = \n",
    "\\begin{bmatrix}\n",
    "4 \\\\ 5 \\\\ 6 \\\\\n",
    "\\end{bmatrix} \n",
    "\\end{align}\n",
    "$$\n",
    "\n",
    "$$\n",
    "\\begin{align}\n",
    "x^T y = \n",
    "\\begin{bmatrix}\n",
    "1 & 2 & 3\n",
    "\\end{bmatrix}\n",
    "\\begin{bmatrix}\n",
    "4 \\\\ 5 \\\\ 6 \\\\\n",
    "\\end{bmatrix} \n",
    "= 1 \\times 4 + 2 \\times 5 + 3 \\times 6 = 32\n",
    "\\end{align}\n",
    "$$"
   ]
  },
  {
   "cell_type": "markdown",
   "metadata": {
    "slideshow": {
     "slide_type": "subslide"
    }
   },
   "source": [
    "### 행렬간의 내적 (행렬 곱)\n",
    "- 앞 행렬의 행과 뒤 행렬의 열간에 내적을 한다.\n",
    "- 행렬과 행렬을 내적하면 그 결과는 행렬이 된다.\n",
    "- 앞 행렬의 열수와 뒤 행렬의 행수가 같아야 한다.\n",
    "- 내적의 결과의 형태(shape)는 앞행렬의 행수와 뒤 행렬의 열의 형태를 가진다.\n",
    "    - (3 x 2)와 (2 x 5) = (3 x 5)\n",
    "    - (1 x 5)와 (5 x 1) = (1 x 1)    \n",
    " "
   ]
  },
  {
   "cell_type": "markdown",
   "metadata": {
    "slideshow": {
     "slide_type": "fragment"
    }
   },
   "source": [
    "   \n",
    "$$\n",
    "\\begin{align}\n",
    "A = \\begin{bmatrix} 1 & 2 & 3 \\\\ 4 & 5 & 6 \\end{bmatrix}\n",
    "\\end{align}\n",
    "$$\n",
    "\n",
    "$$\n",
    "\\begin{align}\n",
    "B = \\begin{bmatrix} 1 & 2 \\\\ 3 & 4 \\\\ 5 & 6 \\end{bmatrix}\n",
    "\\end{align}\n",
    "$$\n",
    "\n",
    "$$\n",
    "\\begin{align}\n",
    "A\\cdot B = \\begin{bmatrix} 1\\times 1 + 2\\times 3 + 3 \\times 5 & 1\\times 2 + 2\\times 4 + 3 \\times 6  \\\\ 4\\times 1 + 5\\times 3 + 6 \\times 5  & 4\\times 2 + 5\\times 4 + 6 \\times 6  \\end{bmatrix} = \n",
    "\\begin{bmatrix} 22 & 28 \\\\ 49 & 64 \\end{bmatrix}\n",
    "\\end{align}\n",
    "$$    "
   ]
  },
  {
   "cell_type": "code",
   "execution_count": 181,
   "metadata": {
    "ExecuteTime": {
     "end_time": "2023-01-20T05:29:08.104221Z",
     "start_time": "2023-01-20T05:29:08.089632Z"
    },
    "slideshow": {
     "slide_type": "fragment"
    }
   },
   "outputs": [
    {
     "data": {
      "text/plain": [
       "32"
      ]
     },
     "execution_count": 181,
     "metadata": {},
     "output_type": "execute_result"
    }
   ],
   "source": [
    "import numpy as np\n",
    "x = np.array([1, 2, 3])\n",
    "y = np.array([4, 5, 6])\n",
    "\n",
    "r1 = x * y\n",
    "result = np.sum(r1)\n",
    "result"
   ]
  },
  {
   "cell_type": "code",
   "execution_count": 183,
   "metadata": {
    "ExecuteTime": {
     "end_time": "2023-01-20T05:29:52.378545Z",
     "start_time": "2023-01-20T05:29:52.359658Z"
    }
   },
   "outputs": [
    {
     "data": {
      "text/plain": [
       "(32, 32)"
      ]
     },
     "execution_count": 183,
     "metadata": {},
     "output_type": "execute_result"
    }
   ],
   "source": [
    "x @ y,  np.dot(x, y)"
   ]
  },
  {
   "cell_type": "code",
   "execution_count": 184,
   "metadata": {
    "ExecuteTime": {
     "end_time": "2023-01-20T05:31:09.331985Z",
     "start_time": "2023-01-20T05:31:09.310822Z"
    }
   },
   "outputs": [
    {
     "data": {
      "text/plain": [
       "((2, 3), (3, 2))"
      ]
     },
     "execution_count": 184,
     "metadata": {},
     "output_type": "execute_result"
    }
   ],
   "source": [
    "A = np.arange(1, 7).reshape(2, 3)\n",
    "B = np.arange(1, 7).reshape(3, 2)\n",
    "A.shape, B.shape"
   ]
  },
  {
   "cell_type": "code",
   "execution_count": 187,
   "metadata": {
    "ExecuteTime": {
     "end_time": "2023-01-20T05:32:07.575220Z",
     "start_time": "2023-01-20T05:32:07.565785Z"
    }
   },
   "outputs": [
    {
     "data": {
      "text/plain": [
       "array([[22, 28],\n",
       "       [49, 64]])"
      ]
     },
     "execution_count": 187,
     "metadata": {},
     "output_type": "execute_result"
    }
   ],
   "source": [
    "# print(A)\n",
    "# print(B)\n",
    "A @ B"
   ]
  },
  {
   "cell_type": "code",
   "execution_count": 188,
   "metadata": {
    "ExecuteTime": {
     "end_time": "2023-01-20T05:32:47.524472Z",
     "start_time": "2023-01-20T05:32:47.504482Z"
    }
   },
   "outputs": [
    {
     "data": {
      "text/plain": [
       "((3, 2), (2, 3))"
      ]
     },
     "execution_count": 188,
     "metadata": {},
     "output_type": "execute_result"
    }
   ],
   "source": [
    "B.shape, A.shape"
   ]
  },
  {
   "cell_type": "code",
   "execution_count": 189,
   "metadata": {
    "ExecuteTime": {
     "end_time": "2023-01-20T05:32:58.683057Z",
     "start_time": "2023-01-20T05:32:58.674507Z"
    }
   },
   "outputs": [
    {
     "data": {
      "text/plain": [
       "array([[ 9, 12, 15],\n",
       "       [19, 26, 33],\n",
       "       [29, 40, 51]])"
      ]
     },
     "execution_count": 189,
     "metadata": {},
     "output_type": "execute_result"
    }
   ],
   "source": [
    "B @ A"
   ]
  },
  {
   "cell_type": "code",
   "execution_count": null,
   "metadata": {},
   "outputs": [],
   "source": []
  },
  {
   "cell_type": "markdown",
   "metadata": {
    "slideshow": {
     "slide_type": "subslide"
    }
   },
   "source": [
    "### 내적의 예\n",
    "#### 가중합 \n",
    "가격: 사과 2000, 귤 1000, 수박 10000    \n",
    "개수: 사과 10, 귤 20, 수박 2    \n",
    "총가격?    \n",
    "2000*10 + 1000 * 20 + 10000 * 2"
   ]
  },
  {
   "cell_type": "code",
   "execution_count": 198,
   "metadata": {
    "ExecuteTime": {
     "end_time": "2023-01-20T05:40:00.185535Z",
     "start_time": "2023-01-20T05:40:00.171951Z"
    }
   },
   "outputs": [
    {
     "name": "stdout",
     "output_type": "stream",
     "text": [
      "60000\n"
     ]
    }
   ],
   "source": [
    "f = np.array([2000, 1000, 10000])\n",
    "cnt = np.array([10, 20, 2])\n",
    "total = cnt @ f\n",
    "print(total)"
   ]
  },
  {
   "cell_type": "code",
   "execution_count": 203,
   "metadata": {
    "ExecuteTime": {
     "end_time": "2023-01-20T05:41:25.815171Z",
     "start_time": "2023-01-20T05:41:25.801970Z"
    }
   },
   "outputs": [
    {
     "data": {
      "text/plain": [
       "(5, 3)"
      ]
     },
     "execution_count": 203,
     "metadata": {},
     "output_type": "execute_result"
    }
   ],
   "source": [
    "cnt2 = np.array([[10, 20, 2],\n",
    "                [5, 15, 10],\n",
    "                [10, 10, 10],\n",
    "                [5, 6, 7],\n",
    "                [10, 1, 1]])\n",
    "cnt2.shape"
   ]
  },
  {
   "cell_type": "code",
   "execution_count": 204,
   "metadata": {
    "ExecuteTime": {
     "end_time": "2023-01-20T05:41:28.400122Z",
     "start_time": "2023-01-20T05:41:28.393173Z"
    },
    "slideshow": {
     "slide_type": "fragment"
    }
   },
   "outputs": [
    {
     "data": {
      "text/plain": [
       "array([[ 2000],\n",
       "       [ 1000],\n",
       "       [10000]])"
      ]
     },
     "execution_count": 204,
     "metadata": {},
     "output_type": "execute_result"
    }
   ],
   "source": [
    "f2 = f[..., np.newaxis]\n",
    "f2.shape\n",
    "f2"
   ]
  },
  {
   "cell_type": "code",
   "execution_count": 205,
   "metadata": {
    "ExecuteTime": {
     "end_time": "2023-01-20T05:41:36.434465Z",
     "start_time": "2023-01-20T05:41:36.421216Z"
    }
   },
   "outputs": [
    {
     "data": {
      "text/plain": [
       "array([[ 60000],\n",
       "       [125000],\n",
       "       [130000],\n",
       "       [ 86000],\n",
       "       [ 31000]])"
      ]
     },
     "execution_count": 205,
     "metadata": {},
     "output_type": "execute_result"
    }
   ],
   "source": [
    "cnt2 @ f2"
   ]
  },
  {
   "cell_type": "code",
   "execution_count": 206,
   "metadata": {
    "ExecuteTime": {
     "end_time": "2023-01-20T05:41:55.767768Z",
     "start_time": "2023-01-20T05:41:55.760112Z"
    }
   },
   "outputs": [
    {
     "data": {
      "text/plain": [
       "array([[ 60000],\n",
       "       [125000],\n",
       "       [130000],\n",
       "       [ 86000],\n",
       "       [ 31000]])"
      ]
     },
     "execution_count": 206,
     "metadata": {},
     "output_type": "execute_result"
    }
   ],
   "source": [
    "np.dot(cnt2, f2)"
   ]
  },
  {
   "cell_type": "markdown",
   "metadata": {
    "slideshow": {
     "slide_type": "slide"
    }
   },
   "source": [
    "## 기술통계함수\n",
    "\n",
    "- 통계 결과를 계산해 주는 함수들\n",
    "- 구문\n",
    "    1. `np.전용함수(배열)`\n",
    "        - np.sum(x)\n",
    "    2. 일부는 `배열.전용함수()` 구문 지원\n",
    "        - x.sum()\n",
    "    - 공통 매개변수\n",
    "        - axis=None: 다차원 배열일 때 통계값을 계산할 axis(축)을 지정한다. None(기본값)은 flatten후 계산한다.\n",
    "        \n",
    "- 배열의 원소 중 누락된 값(NaN - Not a Number) 있을 경우 연산의 결과는 NaN으로 나온다.        \n",
    "- **안전모드 함수**\n",
    "    - 배열내 누락된 값(NaN)을 무시하고 계산\n",
    "        \n",
    "- https://docs.scipy.org/doc/numpy-1.15.1/reference/routines.statistics.html"
   ]
  },
  {
   "attachments": {
    "b938bbb3-4460-4b70-b046-f27353384c8d.png": {
     "image/png": "[encoded data removed]"
    }
   },
   "cell_type": "markdown",
   "metadata": {
    "slideshow": {
     "slide_type": "fragment"
    }
   },
   "source": [
    "![image.png](attachment:b938bbb3-4460-4b70-b046-f27353384c8d.png)"
   ]
  },
  {
   "cell_type": "code",
   "execution_count": 207,
   "metadata": {
    "ExecuteTime": {
     "end_time": "2023-01-20T06:07:20.047643Z",
     "start_time": "2023-01-20T06:07:20.017516Z"
    },
    "slideshow": {
     "slide_type": "fragment"
    }
   },
   "outputs": [
    {
     "data": {
      "text/plain": [
       "array([44., 47., 64., 67., 67.,  9., 83., 21., 36., 87.], dtype=float32)"
      ]
     },
     "execution_count": 207,
     "metadata": {},
     "output_type": "execute_result"
    }
   ],
   "source": [
    "np.random.seed(0)\n",
    "a = np.random.choice(100, size=10)  # 0 ~ 99 정수\n",
    "a = a.astype('float32')\n",
    "a"
   ]
  },
  {
   "cell_type": "code",
   "execution_count": 209,
   "metadata": {
    "ExecuteTime": {
     "end_time": "2023-01-20T06:07:50.583205Z",
     "start_time": "2023-01-20T06:07:50.572852Z"
    }
   },
   "outputs": [
    {
     "data": {
      "text/plain": [
       "(525.0, 525.0)"
      ]
     },
     "execution_count": 209,
     "metadata": {},
     "output_type": "execute_result"
    }
   ],
   "source": [
    "np.sum(a), a.sum()"
   ]
  },
  {
   "cell_type": "code",
   "execution_count": 213,
   "metadata": {
    "ExecuteTime": {
     "end_time": "2023-01-20T06:08:49.597989Z",
     "start_time": "2023-01-20T06:08:49.591420Z"
    }
   },
   "outputs": [
    {
     "data": {
      "text/plain": [
       "(87.0, 9, 9.0, 5)"
      ]
     },
     "execution_count": 213,
     "metadata": {},
     "output_type": "execute_result"
    }
   ],
   "source": [
    "a.max(), a.argmax(), a.min(), a.argmin()"
   ]
  },
  {
   "cell_type": "code",
   "execution_count": 215,
   "metadata": {
    "ExecuteTime": {
     "end_time": "2023-01-20T06:09:10.090581Z",
     "start_time": "2023-01-20T06:09:10.077822Z"
    }
   },
   "outputs": [
    {
     "data": {
      "text/plain": [
       "(52.5, 52.5)"
      ]
     },
     "execution_count": 215,
     "metadata": {},
     "output_type": "execute_result"
    }
   ],
   "source": [
    "a.mean(), np.mean(a)"
   ]
  },
  {
   "cell_type": "code",
   "execution_count": 216,
   "metadata": {
    "ExecuteTime": {
     "end_time": "2023-01-20T06:09:57.183195Z",
     "start_time": "2023-01-20T06:09:57.172611Z"
    }
   },
   "outputs": [
    {
     "data": {
      "text/plain": [
       "90.0"
      ]
     },
     "execution_count": 216,
     "metadata": {},
     "output_type": "execute_result"
    }
   ],
   "source": [
    "np.mean([80, 90, 100])"
   ]
  },
  {
   "cell_type": "code",
   "execution_count": 217,
   "metadata": {
    "ExecuteTime": {
     "end_time": "2023-01-20T06:10:47.292936Z",
     "start_time": "2023-01-20T06:10:47.281278Z"
    }
   },
   "outputs": [
    {
     "data": {
      "text/plain": [
       "88.0"
      ]
     },
     "execution_count": 217,
     "metadata": {},
     "output_type": "execute_result"
    }
   ],
   "source": [
    "np.average([80, 90, 100], weights=[2, 2, 1])"
   ]
  },
  {
   "cell_type": "code",
   "execution_count": 219,
   "metadata": {
    "ExecuteTime": {
     "end_time": "2023-01-20T06:11:26.659805Z",
     "start_time": "2023-01-20T06:11:26.636137Z"
    }
   },
   "outputs": [
    {
     "data": {
      "text/plain": [
       "array([44., nan, 64., 67., 67.,  9., 83., 21., 36., 87.], dtype=float32)"
      ]
     },
     "execution_count": 219,
     "metadata": {},
     "output_type": "execute_result"
    }
   ],
   "source": [
    "a[1] = np.nan   # 결측치 대입\n",
    "a"
   ]
  },
  {
   "cell_type": "code",
   "execution_count": 226,
   "metadata": {
    "ExecuteTime": {
     "end_time": "2023-01-20T06:12:44.044364Z",
     "start_time": "2023-01-20T06:12:44.036670Z"
    }
   },
   "outputs": [
    {
     "data": {
      "text/plain": [
       "1"
      ]
     },
     "execution_count": 226,
     "metadata": {},
     "output_type": "execute_result"
    }
   ],
   "source": [
    "np.sum(np.isnan(a))"
   ]
  },
  {
   "cell_type": "code",
   "execution_count": 222,
   "metadata": {
    "ExecuteTime": {
     "end_time": "2023-01-20T06:11:53.077388Z",
     "start_time": "2023-01-20T06:11:53.061754Z"
    }
   },
   "outputs": [
    {
     "data": {
      "text/plain": [
       "(nan, nan, nan)"
      ]
     },
     "execution_count": 222,
     "metadata": {},
     "output_type": "execute_result"
    }
   ],
   "source": [
    "a.sum(), a.max(), a.mean()"
   ]
  },
  {
   "cell_type": "code",
   "execution_count": 229,
   "metadata": {
    "ExecuteTime": {
     "end_time": "2023-01-20T06:14:03.663133Z",
     "start_time": "2023-01-20T06:14:03.654991Z"
    }
   },
   "outputs": [
    {
     "data": {
      "text/plain": [
       "(478.0, 87.0, 53.11111)"
      ]
     },
     "execution_count": 229,
     "metadata": {},
     "output_type": "execute_result"
    }
   ],
   "source": [
    "# a.nansum()\n",
    "np.nansum(a), np.nanmax(a), np.nanmean(a)"
   ]
  },
  {
   "cell_type": "code",
   "execution_count": 231,
   "metadata": {
    "ExecuteTime": {
     "end_time": "2023-01-20T06:15:32.947392Z",
     "start_time": "2023-01-20T06:15:32.937467Z"
    }
   },
   "outputs": [
    {
     "name": "stdout",
     "output_type": "stream",
     "text": [
      "(3, 4)\n"
     ]
    },
    {
     "data": {
      "text/plain": [
       "array([[ 1,  2,  3,  4],\n",
       "       [ 5,  6,  7,  8],\n",
       "       [ 9, 10, 11, 12]])"
      ]
     },
     "execution_count": 231,
     "metadata": {},
     "output_type": "execute_result"
    }
   ],
   "source": [
    "b = np.arange(1, 13).reshape(3, 4)\n",
    "print(b.shape)\n",
    "b"
   ]
  },
  {
   "cell_type": "code",
   "execution_count": 234,
   "metadata": {
    "ExecuteTime": {
     "end_time": "2023-01-20T06:16:18.405137Z",
     "start_time": "2023-01-20T06:16:18.389091Z"
    }
   },
   "outputs": [
    {
     "data": {
      "text/plain": [
       "(78, 6.5, 12)"
      ]
     },
     "execution_count": 234,
     "metadata": {},
     "output_type": "execute_result"
    }
   ],
   "source": [
    "b.sum(), b.mean(), b.max() # axis를 지정 안하면 전체 기준 통계량을 계산."
   ]
  },
  {
   "cell_type": "code",
   "execution_count": 236,
   "metadata": {
    "ExecuteTime": {
     "end_time": "2023-01-20T06:17:26.418905Z",
     "start_time": "2023-01-20T06:17:26.409125Z"
    }
   },
   "outputs": [
    {
     "data": {
      "text/plain": [
       "array([15, 18, 21, 24])"
      ]
     },
     "execution_count": 236,
     "metadata": {},
     "output_type": "execute_result"
    }
   ],
   "source": [
    "b.sum(axis=0)  # axis=0   : axis 1은 같고 , axis 2의 index는 다른 값끼리 계산."
   ]
  },
  {
   "cell_type": "code",
   "execution_count": 237,
   "metadata": {
    "ExecuteTime": {
     "end_time": "2023-01-20T06:17:51.223875Z",
     "start_time": "2023-01-20T06:17:51.212608Z"
    }
   },
   "outputs": [
    {
     "data": {
      "text/plain": [
       "array([10, 26, 42])"
      ]
     },
     "execution_count": 237,
     "metadata": {},
     "output_type": "execute_result"
    }
   ],
   "source": [
    "b.sum(axis=1)"
   ]
  },
  {
   "cell_type": "code",
   "execution_count": 238,
   "metadata": {
    "ExecuteTime": {
     "end_time": "2023-01-20T06:22:36.373071Z",
     "start_time": "2023-01-20T06:22:36.366565Z"
    }
   },
   "outputs": [
    {
     "data": {
      "text/plain": [
       "array([[[ 1,  2,  3],\n",
       "        [ 4,  5,  6]],\n",
       "\n",
       "       [[ 7,  8,  9],\n",
       "        [10, 11, 12]]])"
      ]
     },
     "execution_count": 238,
     "metadata": {},
     "output_type": "execute_result"
    }
   ],
   "source": [
    "c = np.arange(1, 13).reshape(2, 2, 3)\n",
    "c"
   ]
  },
  {
   "cell_type": "code",
   "execution_count": 241,
   "metadata": {
    "ExecuteTime": {
     "end_time": "2023-01-20T06:25:21.637561Z",
     "start_time": "2023-01-20T06:25:21.619201Z"
    }
   },
   "outputs": [
    {
     "data": {
      "text/plain": [
       "array([[ 8, 10, 12],\n",
       "       [14, 16, 18]])"
      ]
     },
     "execution_count": 241,
     "metadata": {},
     "output_type": "execute_result"
    }
   ],
   "source": [
    "c.sum(axis=0)  # 지정한 axis의 index는 다르고 나머지 axis의 index는 같은 값들끼리 계산."
   ]
  },
  {
   "cell_type": "code",
   "execution_count": null,
   "metadata": {},
   "outputs": [],
   "source": [
    "c.sum(axis=1)"
   ]
  },
  {
   "cell_type": "markdown",
   "metadata": {
    "slideshow": {
     "slide_type": "slide"
    }
   },
   "source": [
    "# 브로드캐스팅\n",
    "- 사전적의미 : 퍼트린다. 전파한다. \n",
    "- 형태(shape)가 다른 배열 연산시 배열의 형태를 맞춰 연산이 가능하도록 한다.\n",
    "    - 모든 형태를 다 맞추는 것은 아니고 조건이 맞아야 한다.\n",
    "- 조건\n",
    "    1. 두 배열의 축의 개수가 다르면 작은 축의개수를 가진 배열의 형태(shape)의 앞쪽을 1로 채운다.\n",
    "        - (2, 3)  + (3, ) => (2, 3) + (1, 3)\n",
    "    2. 두 배열의 차원 수가 같지만 각 차원의 크기가 다른 경우 어느 한 쪽에 1이 있으면 그 1이 다른 배열의 크기와 일치하도록 늘어난다.\n",
    "         - 1 이외의 나머지 축의 크기는 같아야 한다.\n",
    "         - 늘리면서 원소는 복사한다.\n",
    "         - (2, 3) + (1, 3) => (2, 3)+(2, 3)"
   ]
  },
  {
   "attachments": {
    "f4ae146a-0b9b-4860-9c03-7b29e19b4052.png": {
     "image/png": "[encoded data removed]"
    }
   },
   "cell_type": "markdown",
   "metadata": {
    "slideshow": {
     "slide_type": "subslide"
    }
   },
   "source": [
    "![image.png](attachment:f4ae146a-0b9b-4860-9c03-7b29e19b4052.png)"
   ]
  },
  {
   "cell_type": "code",
   "execution_count": 247,
   "metadata": {
    "ExecuteTime": {
     "end_time": "2023-01-20T06:41:51.270042Z",
     "start_time": "2023-01-20T06:41:51.239524Z"
    }
   },
   "outputs": [
    {
     "data": {
      "text/plain": [
       "((3,), (2,))"
      ]
     },
     "execution_count": 247,
     "metadata": {},
     "output_type": "execute_result"
    }
   ],
   "source": [
    "x = np.array([1, 2, 3])\n",
    "y = np.array([2, 2])\n",
    "x.shape, y.shape"
   ]
  },
  {
   "cell_type": "code",
   "execution_count": 248,
   "metadata": {
    "ExecuteTime": {
     "end_time": "2023-01-20T06:41:51.934764Z",
     "start_time": "2023-01-20T06:41:51.904799Z"
    }
   },
   "outputs": [
    {
     "ename": "ValueError",
     "evalue": "operands could not be broadcast together with shapes (3,) (2,) ",
     "output_type": "error",
     "traceback": [
      "\u001b[1;31m----------------------------------\u001b[0m",
      "\u001b[1;31mValueError\u001b[0mTraceback (most recent call last)",
      "Cell \u001b[1;32mIn[248], line 1\u001b[0m\n\u001b[1;32m----> 1\u001b[0m \u001b[43mx\u001b[49m\u001b[43m \u001b[49m\u001b[38;5;241;43m+\u001b[39;49m\u001b[43m \u001b[49m\u001b[43my\u001b[49m\n",
      "\u001b[1;31mValueError\u001b[0m: operands could not be broadcast together with shapes (3,) (2,) "
     ]
    }
   ],
   "source": [
    "x + y"
   ]
  },
  {
   "cell_type": "code",
   "execution_count": null,
   "metadata": {},
   "outputs": [],
   "source": []
  },
  {
   "cell_type": "code",
   "execution_count": null,
   "metadata": {},
   "outputs": [],
   "source": []
  },
  {
   "cell_type": "code",
   "execution_count": null,
   "metadata": {},
   "outputs": [],
   "source": []
  },
  {
   "cell_type": "code",
   "execution_count": null,
   "metadata": {
    "slideshow": {
     "slide_type": "fragment"
    }
   },
   "outputs": [],
   "source": []
  }
 ],
 "metadata": {
  "kernelspec": {
   "display_name": "Python 3 (ipykernel)",
   "language": "python",
   "name": "python3"
  },
  "language_info": {
   "codemirror_mode": {
    "name": "ipython",
    "version": 3
   },
   "file_extension": ".py",
   "mimetype": "text/x-python",
   "name": "python",
   "nbconvert_exporter": "python",
   "pygments_lexer": "ipython3",
   "version": "3.9.15"
  },
  "toc": {
   "base_numbering": 1,
   "nav_menu": {},
   "number_sections": false,
   "sideBar": false,
   "skip_h1_title": false,
   "title_cell": "Table of Contents",
   "title_sidebar": "Contents",
   "toc_cell": false,
   "toc_position": {},
   "toc_section_display": true,
   "toc_window_display": false
  },
  "varInspector": {
   "cols": {
    "lenName": 16,
    "lenType": 16,
    "lenVar": 40
   },
   "kernels_config": {
    "python": {
     "delete_cmd_postfix": "",
     "delete_cmd_prefix": "del ",
     "library": "var_list.py",
     "varRefreshCmd": "print(var_dic_list())"
    },
    "r": {
     "delete_cmd_postfix": ") ",
     "delete_cmd_prefix": "rm(",
     "library": "var_list.r",
     "varRefreshCmd": "cat(var_dic_list()) "
    }
   },
   "types_to_exclude": [
    "module",
    "function",
    "builtin_function_or_method",
    "instance",
    "_Feature"
   ],
   "window_display": false
  }
 },
 "nbformat": 4,
 "nbformat_minor": 4
}
