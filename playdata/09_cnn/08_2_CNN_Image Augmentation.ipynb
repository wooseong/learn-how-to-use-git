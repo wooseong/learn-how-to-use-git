{
 "cells": [
  {
   "cell_type": "markdown",
   "metadata": {
    "id": "N7dzZc_rYrhN",
    "slideshow": {
     "slide_type": "slide"
    }
   },
   "source": [
    "# CNN   small datasets 학습\n"
   ]
  },
  {
   "cell_type": "markdown",
   "metadata": {
    "id": "IZSgQnWLYrhV",
    "slideshow": {
     "slide_type": "fragment"
    }
   },
   "source": [
    "- 학습할 Data의 개수가 많지 않을 때 CNN을 통한 모형 학습이 어려울 수 있음\n",
    "  - 딥러닝은 많은 수의 데이터를 통해 feature engineering 과정 없이 원하는 문제를 해결할 수 있다. => **Point: 많은 데이터 수**\n",
    "- Data가 많지 않아 CNN 학습에 어려움이 있을 때 사용 가능한 방법\n",
    "    - Data augmentation 활용\n",
    "        - 원본 이미지의 색깔, 각도 등을 약간씩 변형한 이미지들을 추가로 만들어 data의 수를 늘림 \n",
    "    - Pre-trained network의 활용\n",
    "        - 매우 큰 데이터셋으로 미리 Training한 모델의 파라미터(가중치)를 가져와서 풀려는 문제에 맞게 모델을 재보정해서 사용한다.\n",
    "        - 성능이 좋은 학습된 모델을 사용하므로 적은 데이터에도 좋은 성능을 낼 수있다."
   ]
  },
  {
   "cell_type": "markdown",
   "metadata": {
    "id": "b8vvonb2YrhW",
    "slideshow": {
     "slide_type": "fragment"
    }
   },
   "source": [
    "## Data for cats vs. dogs\n",
    "- 2013년 Kaggle의 computer vision competition data 활용 https://www.kaggle.com/c/dogs-vs-cats/data\n",
    "- 개와 고양이를 구분하기 위한 문제로 각 12,500개의 이미지를 포함\n",
    "- Medium-resolution color JPEGs\n",
    "- 25000장의 사진 중 4000장의 cats/dogs 사진(2000 cats, 2000 dogs) 만을 사용하여 학습하여 좋은 모형을 만들어 낼 수 있을까?\n",
    "    - 학습: 2000, 검증: 1000, 테스트: 1000\n",
    "    \n",
    "![cats_vs_dogs_samples](https://s3.amazonaws.com/book.keras.io/img/ch5/cats_vs_dogs_samples.jpg)"
   ]
  },
  {
   "cell_type": "markdown",
   "metadata": {
    "id": "Lz3IRzELYrhX",
    "slideshow": {
     "slide_type": "fragment"
    }
   },
   "source": [
    "##### 이미지 다운로드\n",
    "- gdown 패키지 : 구글 드라이브의 공유파일 다운로드 패키지    \n",
    "- `pip install gdown`\n",
    "- 코랩에는 설치 되어 있음."
   ]
  },
  {
   "cell_type": "code",
   "execution_count": null,
   "metadata": {},
   "outputs": [],
   "source": []
  },
  {
   "cell_type": "markdown",
   "metadata": {
    "id": "LwpGLGo1f9F-",
    "slideshow": {
     "slide_type": "slide"
    }
   },
   "source": [
    "# 하이퍼파라미터 정의"
   ]
  },
  {
   "cell_type": "code",
   "execution_count": null,
   "metadata": {},
   "outputs": [],
   "source": []
  },
  {
   "cell_type": "markdown",
   "metadata": {
    "id": "2zBEjjWgYrha",
    "slideshow": {
     "slide_type": "slide"
    }
   },
   "source": [
    "## 모델 구현 및 학습\n",
    "\n",
    "- Input: $224 \\times 224$ 픽셀의 RGB layer \n",
    "- Output: cat or dog (binary classification)  \n",
    "- ImageDataGenerator를 이용해 파일시스템에 저장된 이미지 데이터셋을 학습시킨다."
   ]
  },
  {
   "cell_type": "code",
   "execution_count": null,
   "metadata": {},
   "outputs": [],
   "source": []
  },
  {
   "cell_type": "markdown",
   "metadata": {
    "id": "gRGa9ay4eAx6",
    "slideshow": {
     "slide_type": "fragment"
    }
   },
   "source": [
    "# ImageDataGenerator 생성"
   ]
  },
  {
   "cell_type": "code",
   "execution_count": null,
   "metadata": {},
   "outputs": [],
   "source": []
  },
  {
   "cell_type": "markdown",
   "metadata": {
    "id": "AIfzRaBOYrhj",
    "slideshow": {
     "slide_type": "slide"
    }
   },
   "source": [
    "\n",
    "##  Model Training(학습)"
   ]
  },
  {
   "cell_type": "code",
   "execution_count": null,
   "metadata": {},
   "outputs": [],
   "source": []
  },
  {
   "cell_type": "markdown",
   "metadata": {
    "executionInfo": {
     "elapsed": 308,
     "status": "ok",
     "timestamp": 1631154596465,
     "user": {
      "displayName": "김성환",
      "photoUrl": "",
      "userId": "17974227978557155744"
     },
     "user_tz": -540
    },
    "id": "W7zoPdxDYw_D",
    "slideshow": {
     "slide_type": "slide"
    }
   },
   "source": [
    "##### 저장된 모델 조회"
   ]
  },
  {
   "cell_type": "code",
   "execution_count": null,
   "metadata": {},
   "outputs": [],
   "source": []
  },
  {
   "cell_type": "markdown",
   "metadata": {
    "id": "yPb0Ky5jZ9uU",
    "slideshow": {
     "slide_type": "slide"
    }
   },
   "source": [
    "# 새로운 데이터 추론"
   ]
  },
  {
   "cell_type": "code",
   "execution_count": null,
   "metadata": {},
   "outputs": [],
   "source": []
  },
  {
   "cell_type": "markdown",
   "metadata": {
    "id": "9fAwTvdIYrhm",
    "slideshow": {
     "slide_type": "slide"
    }
   },
   "source": [
    "# Image data augmentation 사용\n",
    "\n",
    "- 학습 이미지의 수가 적어서 overfitting이 발생할 가능성을 줄이기 위해 기존 훈련 데이터로부터 그럴듯하게 이미지 변환을 통해서 이미지(데이터)를 늘리는 작업을 Image augmentation\n",
    "- train_set에만 적용, validation, test set에는 적용하지 않는다. (rescaling만 한다.)"
   ]
  },
  {
   "cell_type": "markdown",
   "metadata": {
    "executionInfo": {
     "elapsed": 11,
     "status": "ok",
     "timestamp": 1631165833848,
     "user": {
      "displayName": "김성환",
      "photoUrl": "",
      "userId": "17974227978557155744"
     },
     "user_tz": -540
    },
    "id": "VLlmQOu7WqrP",
    "slideshow": {
     "slide_type": "fragment"
    }
   },
   "source": [
    "##### 하이퍼파라미터 정의"
   ]
  },
  {
   "cell_type": "code",
   "execution_count": null,
   "metadata": {},
   "outputs": [],
   "source": []
  },
  {
   "cell_type": "markdown",
   "metadata": {
    "slideshow": {
     "slide_type": "slide"
    }
   },
   "source": [
    "##### ImageDataGenerator 생성"
   ]
  },
  {
   "cell_type": "code",
   "execution_count": null,
   "metadata": {},
   "outputs": [],
   "source": []
  },
  {
   "cell_type": "markdown",
   "metadata": {
    "executionInfo": {
     "elapsed": 277,
     "status": "ok",
     "timestamp": 1631158426700,
     "user": {
      "displayName": "김성환",
      "photoUrl": "",
      "userId": "17974227978557155744"
     },
     "user_tz": -540
    },
    "id": "NI8tn-1cWqrR",
    "slideshow": {
     "slide_type": "slide"
    }
   },
   "source": [
    "##### 모델 생성, 컴파일, 학습"
   ]
  },
  {
   "cell_type": "code",
   "execution_count": null,
   "metadata": {},
   "outputs": [],
   "source": []
  },
  {
   "cell_type": "markdown",
   "metadata": {
    "slideshow": {
     "slide_type": "slide"
    }
   },
   "source": [
    "##### 저장된 모델 Loading 후 평가(사용)"
   ]
  },
  {
   "cell_type": "code",
   "execution_count": null,
   "metadata": {},
   "outputs": [],
   "source": []
  },
  {
   "cell_type": "markdown",
   "metadata": {
    "executionInfo": {
     "elapsed": 499,
     "status": "ok",
     "timestamp": 1631166141746,
     "user": {
      "displayName": "김성환",
      "photoUrl": "",
      "userId": "17974227978557155744"
     },
     "user_tz": -540
    },
    "id": "o4sSoGQXlJKX",
    "slideshow": {
     "slide_type": "slide"
    }
   },
   "source": [
    "##### 새로운데이터 추론"
   ]
  },
  {
   "cell_type": "code",
   "execution_count": null,
   "metadata": {},
   "outputs": [],
   "source": []
  }
 ],
 "metadata": {
  "accelerator": "GPU",
  "colab": {
   "collapsed_sections": [],
   "name": "08_2_CNN_Image Augmentation.ipynb",
   "provenance": []
  },
  "kernelspec": {
   "display_name": "Python 3 (ipykernel)",
   "language": "python",
   "name": "python3"
  },
  "language_info": {
   "codemirror_mode": {
    "name": "ipython",
    "version": 3
   },
   "file_extension": ".py",
   "mimetype": "text/x-python",
   "name": "python",
   "nbconvert_exporter": "python",
   "pygments_lexer": "ipython3",
   "version": "3.9.13"
  },
  "toc": {
   "base_numbering": 1,
   "nav_menu": {},
   "number_sections": false,
   "sideBar": true,
   "skip_h1_title": false,
   "title_cell": "Table of Contents",
   "title_sidebar": "Contents",
   "toc_cell": false,
   "toc_position": {},
   "toc_section_display": true,
   "toc_window_display": false
  },
  "varInspector": {
   "cols": {
    "lenName": 16,
    "lenType": 16,
    "lenVar": 40
   },
   "kernels_config": {
    "python": {
     "delete_cmd_postfix": "",
     "delete_cmd_prefix": "del ",
     "library": "var_list.py",
     "varRefreshCmd": "print(var_dic_list())"
    },
    "r": {
     "delete_cmd_postfix": ") ",
     "delete_cmd_prefix": "rm(",
     "library": "var_list.r",
     "varRefreshCmd": "cat(var_dic_list()) "
    }
   },
   "types_to_exclude": [
    "module",
    "function",
    "builtin_function_or_method",
    "instance",
    "_Feature"
   ],
   "window_display": false
  }
 },
 "nbformat": 4,
 "nbformat_minor": 1
}
