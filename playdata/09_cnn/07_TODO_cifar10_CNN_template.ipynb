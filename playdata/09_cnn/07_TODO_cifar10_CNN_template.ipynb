{
 "cells": [
  {
   "cell_type": "code",
   "execution_count": null,
   "metadata": {
    "colab": {
     "base_uri": "https://localhost:8080/"
    },
    "executionInfo": {
     "elapsed": 10238,
     "status": "ok",
     "timestamp": 1631073325584,
     "user": {
      "displayName": "김성환",
      "photoUrl": "",
      "userId": "17974227978557155744"
     },
     "user_tz": -540
    },
    "id": "Ka4eB_LfK5Ma",
    "outputId": "a9327e5c-af2a-44e5-9d7a-77921d20917b",
    "scrolled": true
   },
   "outputs": [],
   "source": [
    "# matplotlib 한글 폰트 적용\n",
    "# 다운로드\n",
    "!sudo apt-get install -y fonts-nanum\n",
    "!sudo fc-cache -fv\n",
    "!rm ~/.cache/matplotlib -rf\n",
    "\n",
    "# 설치 후 런타임 다시시작"
   ]
  },
  {
   "cell_type": "code",
   "execution_count": null,
   "metadata": {
    "executionInfo": {
     "elapsed": 2490,
     "status": "ok",
     "timestamp": 1631078066859,
     "user": {
      "displayName": "김성환",
      "photoUrl": "",
      "userId": "17974227978557155744"
     },
     "user_tz": -540
    },
    "id": "ebMhVMMYBVzR"
   },
   "outputs": [],
   "source": [
    "import numpy as np\n",
    "import tensorflow as tf\n",
    "from tensorflow import keras\n",
    "from tensorflow.keras import layers\n",
    "\n",
    "import matplotlib.pyplot as plt\n",
    "\n",
    "np.random.seed(0)\n",
    "tf.random.set_seed(0)\n"
   ]
  },
  {
   "cell_type": "code",
   "execution_count": null,
   "metadata": {
    "executionInfo": {
     "elapsed": 17,
     "status": "ok",
     "timestamp": 1631073325584,
     "user": {
      "displayName": "김성환",
      "photoUrl": "",
      "userId": "17974227978557155744"
     },
     "user_tz": -540
    },
    "id": "ztvg-cFhLXMo"
   },
   "outputs": [],
   "source": [
    "import matplotlib as mpl \n",
    "mpl.rcParams['font.family'] = 'NanumBarunGothic'\n",
    "mpl.rcParams['axes.unicode_minus'] = False"
   ]
  },
  {
   "cell_type": "markdown",
   "metadata": {
    "id": "RzXZNy2dDLo2"
   },
   "source": [
    "# 데이터 로딩"
   ]
  },
  {
   "cell_type": "code",
   "execution_count": null,
   "metadata": {
    "colab": {
     "base_uri": "https://localhost:8080/"
    },
    "executionInfo": {
     "elapsed": 10735,
     "status": "ok",
     "timestamp": 1631078081851,
     "user": {
      "displayName": "김성환",
      "photoUrl": "",
      "userId": "17974227978557155744"
     },
     "user_tz": -540
    },
    "id": "Fe02xzQfDCd1",
    "outputId": "3986cb73-f40b-4bf3-927c-891397d9a736"
   },
   "outputs": [],
   "source": [
    "(train_image, train_label), (test_image, test_label) = keras.datasets.cifar10.load_data()"
   ]
  },
  {
   "cell_type": "code",
   "execution_count": null,
   "metadata": {
    "executionInfo": {
     "elapsed": 10,
     "status": "ok",
     "timestamp": 1631078081855,
     "user": {
      "displayName": "김성환",
      "photoUrl": "",
      "userId": "17974227978557155744"
     },
     "user_tz": -540
    },
    "id": "4xCXERFLEdVV"
   },
   "outputs": [],
   "source": [
    "class_names = np.array(['비행기', '자동차', '새', '고양이', '사슴', '개', '개구리', '말', '배', '트럭'])"
   ]
  },
  {
   "cell_type": "markdown",
   "metadata": {},
   "source": [
    "# 이미지 확인\n",
    "- matplotlib을 이용해 N개의 이미지를 확인한다. \n",
    "    - 개수는 알아서 선택하세요."
   ]
  },
  {
   "cell_type": "code",
   "execution_count": null,
   "metadata": {},
   "outputs": [],
   "source": []
  },
  {
   "cell_type": "code",
   "execution_count": null,
   "metadata": {},
   "outputs": [],
   "source": []
  },
  {
   "cell_type": "markdown",
   "metadata": {
    "id": "cWUIcNbZGIlF"
   },
   "source": [
    "# 데이터 전처리\n",
    "- X: 0 ~ 1 scaling\n",
    "- y: onehot encoding"
   ]
  },
  {
   "cell_type": "code",
   "execution_count": null,
   "metadata": {},
   "outputs": [],
   "source": []
  },
  {
   "cell_type": "code",
   "execution_count": null,
   "metadata": {},
   "outputs": [],
   "source": []
  },
  {
   "cell_type": "markdown",
   "metadata": {
    "id": "LwoGiH1ybVLb"
   },
   "source": [
    "# 하이퍼파라미터, 변수 정의"
   ]
  },
  {
   "cell_type": "code",
   "execution_count": null,
   "metadata": {},
   "outputs": [],
   "source": []
  },
  {
   "cell_type": "code",
   "execution_count": null,
   "metadata": {},
   "outputs": [],
   "source": []
  },
  {
   "cell_type": "markdown",
   "metadata": {
    "id": "kcUC3KOIGa9z"
   },
   "source": [
    "# Dataset 생성\n",
    "- train/test set"
   ]
  },
  {
   "cell_type": "code",
   "execution_count": null,
   "metadata": {},
   "outputs": [],
   "source": []
  },
  {
   "cell_type": "code",
   "execution_count": null,
   "metadata": {},
   "outputs": [],
   "source": []
  },
  {
   "cell_type": "markdown",
   "metadata": {
    "id": "v2kVfzGkGRQy"
   },
   "source": [
    "# 모델 생성 및 컴파일\n",
    "- CNN 모델을 이용해 10개의 class를 분류하는 모델을 구현"
   ]
  },
  {
   "cell_type": "code",
   "execution_count": null,
   "metadata": {
    "id": "J8q4KXydcAD-"
   },
   "outputs": [],
   "source": []
  },
  {
   "cell_type": "code",
   "execution_count": null,
   "metadata": {
    "id": "lj4yKDTrcABb"
   },
   "outputs": [],
   "source": []
  },
  {
   "cell_type": "markdown",
   "metadata": {
    "id": "mFjspsc1GUxo"
   },
   "source": [
    "# 학습 및 평가\n",
    "- callback을 이용해 early stopping, 가장 성능 좋았을때 모델 저장 하세요.\n",
    "    - 모델은 자신의 google drive에 저장하세요.\n",
    "- 저장됬던 모델을 loading한 뒤 그 모델도 평가해보세요."
   ]
  },
  {
   "cell_type": "code",
   "execution_count": null,
   "metadata": {},
   "outputs": [],
   "source": []
  },
  {
   "cell_type": "code",
   "execution_count": null,
   "metadata": {},
   "outputs": [],
   "source": []
  }
 ],
 "metadata": {
  "accelerator": "GPU",
  "colab": {
   "authorship_tag": "ABX9TyOe42pxWCwk+nvJhOW32WwV",
   "collapsed_sections": [],
   "mount_file_id": "1CEmEj9GZeW9B00rXuEZdBW2HgYsyCOk5",
   "name": "07_cifar10_CNN.ipynb",
   "provenance": []
  },
  "kernelspec": {
   "display_name": "Python 3 (ipykernel)",
   "language": "python",
   "name": "python3"
  },
  "language_info": {
   "codemirror_mode": {
    "name": "ipython",
    "version": 3
   },
   "file_extension": ".py",
   "mimetype": "text/x-python",
   "name": "python",
   "nbconvert_exporter": "python",
   "pygments_lexer": "ipython3",
   "version": "3.9.13"
  },
  "toc": {
   "base_numbering": 1,
   "nav_menu": {},
   "number_sections": true,
   "sideBar": true,
   "skip_h1_title": false,
   "title_cell": "Table of Contents",
   "title_sidebar": "Contents",
   "toc_cell": false,
   "toc_position": {},
   "toc_section_display": true,
   "toc_window_display": false
  },
  "varInspector": {
   "cols": {
    "lenName": 16,
    "lenType": 16,
    "lenVar": 40
   },
   "kernels_config": {
    "python": {
     "delete_cmd_postfix": "",
     "delete_cmd_prefix": "del ",
     "library": "var_list.py",
     "varRefreshCmd": "print(var_dic_list())"
    },
    "r": {
     "delete_cmd_postfix": ") ",
     "delete_cmd_prefix": "rm(",
     "library": "var_list.r",
     "varRefreshCmd": "cat(var_dic_list()) "
    }
   },
   "types_to_exclude": [
    "module",
    "function",
    "builtin_function_or_method",
    "instance",
    "_Feature"
   ],
   "window_display": false
  }
 },
 "nbformat": 4,
 "nbformat_minor": 1
}
