{
 "cells": [
  {
   "cell_type": "code",
   "execution_count": null,
   "id": "e9524c74",
   "metadata": {
    "ExecuteTime": {
     "end_time": "2023-01-09T11:34:17.455944Z",
     "start_time": "2023-01-09T11:34:10.633184Z"
    }
   },
   "outputs": [],
   "source": [
    "#5988\n",
    "n=int(input())\n",
    "for i in range(n):\n",
    "    k=int(input())\n",
    "    if k%2==0:\n",
    "        print(\"even\")\n",
    "    else :\n",
    "        print(\"odd\")"
   ]
  },
  {
   "cell_type": "code",
   "execution_count": null,
   "id": "1e2f375f",
   "metadata": {
    "ExecuteTime": {
     "end_time": "2023-01-09T11:41:27.198585Z",
     "start_time": "2023-01-09T11:41:15.132794Z"
    }
   },
   "outputs": [],
   "source": [
    "#2490\n",
    "for i in range(3):\n",
    "    a = list(map(int, input().split()))\n",
    "    if a.count(0) == 1:\n",
    "        print(\"A\")\n",
    "    elif a.count(0) == 2:\n",
    "        print(\"B\")\n",
    "    elif a.count(0) == 3:\n",
    "        print(\"C\")   \n",
    "    elif a.count(0) == 4:\n",
    "        print(\"D\")\n",
    "    else:\n",
    "        print(\"E\") "
   ]
  },
  {
   "cell_type": "code",
   "execution_count": null,
   "id": "d7d77656",
   "metadata": {
    "ExecuteTime": {
     "end_time": "2023-01-10T01:01:08.151847Z",
     "start_time": "2023-01-10T01:01:07.101719Z"
    }
   },
   "outputs": [],
   "source": [
    "#2753\n",
    "n = int(input())\n",
    "if (n%4==0) and ((n%100!=0) or (n%400==0)):\n",
    "    print(\"1\")\n",
    "else :\n",
    "    print(\"0\")"
   ]
  },
  {
   "cell_type": "code",
   "execution_count": null,
   "id": "31ac66d0",
   "metadata": {
    "ExecuteTime": {
     "end_time": "2023-01-10T01:03:30.113688Z",
     "start_time": "2023-01-10T01:03:29.230628Z"
    }
   },
   "outputs": [],
   "source": [
    "#2742\n",
    "n=int(input())\n",
    "while n!=0 :  #for i in range(n, 0, -1):\n",
    "    print(n)\n",
    "    n-=1"
   ]
  },
  {
   "cell_type": "code",
   "execution_count": null,
   "id": "c60b354f",
   "metadata": {
    "ExecuteTime": {
     "end_time": "2023-01-10T01:20:14.061477Z",
     "start_time": "2023-01-10T01:20:12.772808Z"
    }
   },
   "outputs": [],
   "source": [
    "#2501\n",
    "a,b=map(int, input().split())\n",
    "count=0\n",
    "for i in range(1, a+1):\n",
    "    if a%i==0:\n",
    "        count+=1\n",
    "        if count==b:\n",
    "            print(i)\n",
    "if count<b :\n",
    "    print('0')"
   ]
  },
  {
   "cell_type": "code",
   "execution_count": null,
   "id": "5864371b",
   "metadata": {
    "ExecuteTime": {
     "start_time": "2023-01-12T05:46:03.487Z"
    }
   },
   "outputs": [],
   "source": [
    "#2576\n",
    "oddList=[]\n",
    "for i in range(7):\n",
    "    n = int(input())\n",
    "    if n%2==1:\n",
    "        oddList.append(n)\n",
    "\n",
    "if len(oddList)==0:\n",
    "    print(-1)\n",
    "else :\n",
    "    print(sum(oddList))\n",
    "    print(min(oddList))"
   ]
  },
  {
   "cell_type": "code",
   "execution_count": null,
   "id": "4b74a884",
   "metadata": {},
   "outputs": [],
   "source": [
    "num=[]\n",
    "for _ in range(7):\n",
    "    num.append(int(input()))\n",
    "numSum = sum([num[i] for i in range(7) if num[i]%2==1])\n",
    "if numSum != 0:\n",
    "    print(numSum)\n",
    "    print(min(numSum))"
   ]
  },
  {
   "cell_type": "code",
   "execution_count": null,
   "id": "3b8c5d74",
   "metadata": {
    "ExecuteTime": {
     "end_time": "2023-01-10T03:23:03.757235Z",
     "start_time": "2023-01-10T03:22:59.041536Z"
    }
   },
   "outputs": [],
   "source": [
    "#2577\n",
    "a=int(input())\n",
    "b=int(input())\n",
    "c=int(input())\n",
    "div=divt=a*b*c\n",
    "numList=[0,0,0,0,0,0,0,0,0,0]\n",
    "for i in range(len(str(div))) :\n",
    "    x=divt%10\n",
    "    numList[int(x)]+=1;\n",
    "    divt/=10\n",
    "for i in numList:\n",
    "    print(i)"
   ]
  },
  {
   "cell_type": "code",
   "execution_count": null,
   "id": "29b16458",
   "metadata": {
    "ExecuteTime": {
     "end_time": "2023-01-10T03:49:13.432328Z",
     "start_time": "2023-01-10T03:48:59.471174Z"
    }
   },
   "outputs": [],
   "source": [
    "#2578\n",
    "bingo=[[0 for i in range(5)] for i in range(5)]\n",
    "for i in range(5):\n",
    "    bingo[i][0],bingo[i][1],bingo[i][2],bingo[i][3],bingo[i][4]=map(int,input().split())\n",
    "#빙고판을 그리는 것이 과연 중요한가?\n",
    "#1이라는 숫자를 찾기 위헤 빙고판 전체를 탐색해야하나\n",
    "\n",
    "#bingo=[]\n",
    "#for i in range(5):\n",
    "#    bingo.append(list(map(int,input().split())))\n",
    "#bingo"
   ]
  },
  {
   "cell_type": "code",
   "execution_count": null,
   "id": "807dca5e",
   "metadata": {},
   "outputs": [],
   "source": [
    "location={}\n",
    "location.update(zip([1,2,3,4,5],((0,0),(0,1),(0,2),(0,3),(0,4))))\n",
    "location"
   ]
  },
  {
   "cell_type": "code",
   "execution_count": null,
   "id": "c89e335b",
   "metadata": {
    "ExecuteTime": {
     "end_time": "2023-01-10T06:02:09.631727Z",
     "start_time": "2023-01-10T06:01:37.228365Z"
    }
   },
   "outputs": [],
   "source": [
    "location = {}\n",
    "bingo=[[0 for i in range(5)] for j in range(5)]\n",
    "bingoCnt=0\n",
    "for i in range(5):\n",
    "    location.update(zip(list(map(int,input().split())),((i,0),(i,1),(i,2),(i,3),(i,4))))\n",
    "callCnt=0\n",
    "for _ in range(5):\n",
    "    n = list(map(int,input().split()))\n",
    "    for i in range(5):\n",
    "        x,y = location.get(n[i])\n",
    "        bingo[x][y]=1\n",
    "        callCnt+=1\n",
    "        if callCnt<12 : continue\n",
    "        else:\n",
    "            bingoCnt=0\n",
    "            #가로\n",
    "            for j in range(5):\n",
    "                if bingo[0][j]==1:\n",
    "                    cnt=1\n",
    "                    for k in range(1,5):\n",
    "                        if bingo[k][j]==1:\n",
    "                            cnt+=1\n",
    "                        else: break\n",
    "                    if cnt==5:\n",
    "                        bingoCnt+=1\n",
    "\n",
    "            #세로\n",
    "            for j in range(5):\n",
    "                if bingo[j][0]==1:\n",
    "                    cnt=1\n",
    "                    for k in range(1,5):\n",
    "                        if bingo[j][k]==1:\n",
    "                            cnt+=1\n",
    "                        else: break\n",
    "                    if cnt==5:\n",
    "                        bingoCnt+=1\n",
    "\n",
    "            #대각선\n",
    "            if (bingo[0][0]==1) and(bingo[1][1]==1) and(bingo[2][2]==1) and(bingo[3][3]==1) and(bingo[4][4]==1) :\n",
    "                bingoCnt+=1\n",
    "            if (bingo[0][4]==1) and(bingo[1][3]==1) and(bingo[2][2]==1) and(bingo[3][1]==1) and(bingo[4][0]==1) :\n",
    "                bingoCnt+=1\n",
    "            if bingoCnt>=3 :\n",
    "                break\n",
    "    if bingoCnt >= 3:\n",
    "        break\n",
    "print(callCnt)"
   ]
  },
  {
   "cell_type": "code",
   "execution_count": null,
   "id": "b100c2a9",
   "metadata": {
    "ExecuteTime": {
     "end_time": "2023-01-10T07:42:44.818363Z",
     "start_time": "2023-01-10T07:42:25.860453Z"
    }
   },
   "outputs": [],
   "source": [
    "location = {}\n",
    "bingoCnt=[0]*12\n",
    "callCnt=0\n",
    "for i in range(5):\n",
    "    location.update(zip(list(map(int,input().split())),((i,0),(i,1),(i,2),(i,3),(i,4))))\n",
    "callCnt=0\n",
    "for _ in range(5):\n",
    "    n = list(map(int,input().split()))\n",
    "    for i in range(5):\n",
    "        callCnt+=1\n",
    "        x,y = location.get(n[i])\n",
    "        bingoCnt[y]+=1   #숫자를 한번씩만 부르니까(곂치지 않으니까 가능) #세로줄\n",
    "        bingoCnt[x+5]+=1 #가로줄\n",
    "        if x==y : bingoCnt[10]+=1 #왼쪽에서 오른쪽 대각선\n",
    "        if x+y==4 : bingoCnt[11]+=1 #오른쪽에서 왼쪽아래 대각선\n",
    "        if bingoCnt.count(5) >=3 :\n",
    "            break\n",
    "    if bingoCnt.count(5)>=3:\n",
    "        break\n",
    "print(callCnt)"
   ]
  },
  {
   "cell_type": "code",
   "execution_count": 3,
   "id": "6b4ede48",
   "metadata": {
    "ExecuteTime": {
     "end_time": "2023-01-10T08:06:55.180271Z",
     "start_time": "2023-01-10T08:06:54.280339Z"
    }
   },
   "outputs": [
    {
     "name": "stdout",
     "output_type": "stream",
     "text": [
      "5\n",
      "*\n",
      "**\n",
      "***\n",
      "****\n",
      "*****\n"
     ]
    }
   ],
   "source": [
    "#2438\n",
    "n = int(input())\n",
    "for i in range(n):\n",
    "    for j in range(i+1):\n",
    "        print('*', end='')\n",
    "    print()"
   ]
  },
  {
   "cell_type": "code",
   "execution_count": 4,
   "id": "c44d4f21",
   "metadata": {
    "ExecuteTime": {
     "end_time": "2023-01-10T08:09:46.534706Z",
     "start_time": "2023-01-10T08:09:45.723771Z"
    }
   },
   "outputs": [
    {
     "name": "stdout",
     "output_type": "stream",
     "text": [
      "5\n",
      "    *\n",
      "   **\n",
      "  ***\n",
      " ****\n",
      "*****\n"
     ]
    }
   ],
   "source": [
    "#2439\n",
    "n = int(input())\n",
    "for i in range(n):  #0\n",
    "    for j in range(n-i-1): #0~(5-0)\n",
    "        print(' ', end='')\n",
    "    for j in range(i+1):\n",
    "        print('*', end='')\n",
    "    print()"
   ]
  },
  {
   "cell_type": "code",
   "execution_count": 5,
   "id": "48a73f44",
   "metadata": {
    "ExecuteTime": {
     "end_time": "2023-01-10T08:11:06.444805Z",
     "start_time": "2023-01-10T08:11:05.741645Z"
    }
   },
   "outputs": [
    {
     "name": "stdout",
     "output_type": "stream",
     "text": [
      "5\n",
      "*****\n",
      "****\n",
      "***\n",
      "**\n",
      "*\n"
     ]
    }
   ],
   "source": [
    "#2440\n",
    "n = int(input())\n",
    "for i in range(n):  #0\n",
    "    for j in range(n-i): #0~(5-0)\n",
    "        print('*', end='')\n",
    "    print()"
   ]
  },
  {
   "cell_type": "code",
   "execution_count": 6,
   "id": "e6f03ccf",
   "metadata": {
    "ExecuteTime": {
     "end_time": "2023-01-10T08:12:55.396071Z",
     "start_time": "2023-01-10T08:12:46.575866Z"
    }
   },
   "outputs": [
    {
     "name": "stdout",
     "output_type": "stream",
     "text": [
      "1 1\n",
      "2\n",
      "2 3\n",
      "5\n",
      "3 4\n",
      "7\n",
      "9 8\n",
      "17\n",
      "5 2\n",
      "7\n",
      "0 0\n",
      "0\n"
     ]
    }
   ],
   "source": [
    "#10952\n",
    "a,b=1,1\n",
    "while a!=0 and b!=0 :\n",
    "    a,b=map(int, input().split())\n",
    "    if(a==0 and b==0) : break\n",
    "    print(a+b)"
   ]
  },
  {
   "cell_type": "code",
   "execution_count": 7,
   "id": "e0a0da70",
   "metadata": {
    "ExecuteTime": {
     "end_time": "2023-01-10T08:16:15.068265Z",
     "start_time": "2023-01-10T08:16:06.046902Z"
    }
   },
   "outputs": [
    {
     "name": "stdout",
     "output_type": "stream",
     "text": [
      "5\n",
      "1,1\n",
      "2\n",
      "2,3\n",
      "5\n",
      "3,4\n",
      "7\n",
      "9,8\n",
      "17\n",
      "5,2\n",
      "7\n"
     ]
    }
   ],
   "source": [
    "#10953\n",
    "t=int(input())\n",
    "for _ in range(t):\n",
    "    a,b=map(int, input().split(','))\n",
    "    print(a+b)"
   ]
  },
  {
   "cell_type": "code",
   "execution_count": 8,
   "id": "d6cdb60c",
   "metadata": {
    "ExecuteTime": {
     "end_time": "2023-01-10T08:18:38.414450Z",
     "start_time": "2023-01-10T08:18:29.282911Z"
    }
   },
   "outputs": [
    {
     "name": "stdout",
     "output_type": "stream",
     "text": [
      "5\n",
      "1 1\n",
      "Case #1: 2\n",
      "2 3\n",
      "Case #2: 5\n",
      "3 4\n",
      "Case #3: 7\n",
      "9 8\n",
      "Case #4: 17\n",
      "5 2\n",
      "Case #5: 7\n"
     ]
    }
   ],
   "source": [
    "#11021\n",
    "t=int(input())\n",
    "for i in range(t):\n",
    "    a,b=map(int, input().split())\n",
    "    print(f\"Case #{i+1}: {a+b}\")"
   ]
  },
  {
   "cell_type": "code",
   "execution_count": 9,
   "id": "26e49fca",
   "metadata": {
    "ExecuteTime": {
     "end_time": "2023-01-10T08:19:43.650971Z",
     "start_time": "2023-01-10T08:19:34.578881Z"
    }
   },
   "outputs": [
    {
     "name": "stdout",
     "output_type": "stream",
     "text": [
      "5\n",
      "1 1\n",
      "Case #1: 1 + 1 = 2\n",
      "2 3\n",
      "Case #2: 2 + 3 = 5\n",
      "3 4\n",
      "Case #3: 3 + 4 = 7\n",
      "9 8\n",
      "Case #4: 9 + 8 = 17\n",
      "5 2\n",
      "Case #5: 5 + 2 = 7\n"
     ]
    }
   ],
   "source": [
    "#11022\n",
    "t=int(input())\n",
    "for i in range(t):\n",
    "    a,b=map(int, input().split())\n",
    "    print(f\"Case #{i+1}: {a} + {b} = {a+b}\")"
   ]
  },
  {
   "cell_type": "code",
   "execution_count": null,
   "id": "a23e3954",
   "metadata": {},
   "outputs": [],
   "source": []
  }
 ],
 "metadata": {
  "kernelspec": {
   "display_name": "Python 3 (ipykernel)",
   "language": "python",
   "name": "python3"
  },
  "language_info": {
   "codemirror_mode": {
    "name": "ipython",
    "version": 3
   },
   "file_extension": ".py",
   "mimetype": "text/x-python",
   "name": "python",
   "nbconvert_exporter": "python",
   "pygments_lexer": "ipython3",
   "version": "3.9.13"
  },
  "toc": {
   "base_numbering": 1,
   "nav_menu": {},
   "number_sections": true,
   "sideBar": true,
   "skip_h1_title": false,
   "title_cell": "Table of Contents",
   "title_sidebar": "Contents",
   "toc_cell": false,
   "toc_position": {},
   "toc_section_display": true,
   "toc_window_display": false
  },
  "varInspector": {
   "cols": {
    "lenName": 16,
    "lenType": 16,
    "lenVar": 40
   },
   "kernels_config": {
    "python": {
     "delete_cmd_postfix": "",
     "delete_cmd_prefix": "del ",
     "library": "var_list.py",
     "varRefreshCmd": "print(var_dic_list())"
    },
    "r": {
     "delete_cmd_postfix": ") ",
     "delete_cmd_prefix": "rm(",
     "library": "var_list.r",
     "varRefreshCmd": "cat(var_dic_list()) "
    }
   },
   "types_to_exclude": [
    "module",
    "function",
    "builtin_function_or_method",
    "instance",
    "_Feature"
   ],
   "window_display": false
  }
 },
 "nbformat": 4,
 "nbformat_minor": 5
}
