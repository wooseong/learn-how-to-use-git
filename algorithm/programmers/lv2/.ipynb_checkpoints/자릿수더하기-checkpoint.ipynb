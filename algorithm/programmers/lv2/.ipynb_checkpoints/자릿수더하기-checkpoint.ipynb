{
 "cells": [
  {
   "cell_type": "markdown",
   "id": "cfaac67d",
   "metadata": {},
   "source": [
    "# 자릿수 더하기\n",
    "* programmers https://school.programmers.co.kr/learn/courses/30/lessons/12931\n",
    "\n",
    "## 문제 설명\n",
    "자연수 N이 주어지면, N의 각 자릿수의 합을 구해서 return 하는 solution 함수를 만들어 주세요.\n",
    "예를들어 N = 123이면 1 + 2 + 3 = 6을 return 하면 됩니다.\n",
    "\n",
    "### 제한사항\n",
    "N의 범위 : 100,000,000 이하의 자연수\n",
    "### 입출력 예\n",
    "N\tanswer\n",
    "\n",
    "123\t6\n",
    "\n",
    "987\t24\n",
    "#### 입출력 예 설명\n",
    "입출력 예 #1\n",
    "문제의 예시와 같습니다.\n",
    "\n",
    "입출력 예 #2\n",
    "9 + 8 + 7 = 24이므로 24를 return 하면 됩니다."
   ]
  },
  {
   "cell_type": "code",
   "execution_count": 7,
   "id": "ad0b21ff",
   "metadata": {
    "ExecuteTime": {
     "end_time": "2023-01-19T01:07:59.998437Z",
     "start_time": "2023-01-19T01:07:59.994436Z"
    }
   },
   "outputs": [
    {
     "name": "stdout",
     "output_type": "stream",
     "text": [
      "987\n",
      "987\n",
      "98\n",
      "9\n",
      "24\n"
     ]
    }
   ],
   "source": [
    "n = 987\n",
    "sum = 0\n",
    "print(n)\n",
    "while True :\n",
    "    print(n)\n",
    "    sum+=n%10\n",
    "    n//=10\n",
    "    if n<=0:\n",
    "        break\n",
    "print(sum)"
   ]
  },
  {
   "cell_type": "code",
   "execution_count": 3,
   "id": "ccae4033",
   "metadata": {
    "ExecuteTime": {
     "end_time": "2023-01-19T05:58:53.659712Z",
     "start_time": "2023-01-19T05:58:53.654712Z"
    }
   },
   "outputs": [
    {
     "data": {
      "text/plain": [
       "12"
      ]
     },
     "execution_count": 3,
     "metadata": {},
     "output_type": "execute_result"
    }
   ],
   "source": [
    "def sum_digit(number):\n",
    "    if number < 10:\n",
    "        return number;\n",
    "    return (number % 10) + sum_digit(number // 10)\n",
    "sum_digit(123123)"
   ]
  },
  {
   "cell_type": "code",
   "execution_count": 2,
   "id": "a15e73d7",
   "metadata": {
    "ExecuteTime": {
     "end_time": "2023-01-19T05:58:42.790265Z",
     "start_time": "2023-01-19T05:58:42.782263Z"
    }
   },
   "outputs": [
    {
     "data": {
      "text/plain": [
       "12"
      ]
     },
     "execution_count": 2,
     "metadata": {},
     "output_type": "execute_result"
    }
   ],
   "source": [
    "sum([int(c) for c in str(123123)])"
   ]
  },
  {
   "cell_type": "code",
   "execution_count": null,
   "id": "c2701f67",
   "metadata": {},
   "outputs": [],
   "source": []
  }
 ],
 "metadata": {
  "kernelspec": {
   "display_name": "Python 3 (ipykernel)",
   "language": "python",
   "name": "python3"
  },
  "language_info": {
   "codemirror_mode": {
    "name": "ipython",
    "version": 3
   },
   "file_extension": ".py",
   "mimetype": "text/x-python",
   "name": "python",
   "nbconvert_exporter": "python",
   "pygments_lexer": "ipython3",
   "version": "3.9.13"
  },
  "toc": {
   "base_numbering": 1,
   "nav_menu": {},
   "number_sections": true,
   "sideBar": true,
   "skip_h1_title": false,
   "title_cell": "Table of Contents",
   "title_sidebar": "Contents",
   "toc_cell": false,
   "toc_position": {},
   "toc_section_display": true,
   "toc_window_display": false
  },
  "varInspector": {
   "cols": {
    "lenName": 16,
    "lenType": 16,
    "lenVar": 40
   },
   "kernels_config": {
    "python": {
     "delete_cmd_postfix": "",
     "delete_cmd_prefix": "del ",
     "library": "var_list.py",
     "varRefreshCmd": "print(var_dic_list())"
    },
    "r": {
     "delete_cmd_postfix": ") ",
     "delete_cmd_prefix": "rm(",
     "library": "var_list.r",
     "varRefreshCmd": "cat(var_dic_list()) "
    }
   },
   "types_to_exclude": [
    "module",
    "function",
    "builtin_function_or_method",
    "instance",
    "_Feature"
   ],
   "window_display": false
  }
 },
 "nbformat": 4,
 "nbformat_minor": 5
}
