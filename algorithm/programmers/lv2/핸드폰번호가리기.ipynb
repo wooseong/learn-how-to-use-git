{
 "cells": [
  {
   "cell_type": "markdown",
   "id": "f91ef4dc",
   "metadata": {},
   "source": [
    "# 핸드폰 번호 가리기\n",
    "* programmers https://school.programmers.co.kr/learn/courses/30/lessons/12948\n",
    "\n",
    "## 문제 설명\n",
    "프로그래머스 모바일은 개인정보 보호를 위해 고지서를 보낼 때 고객들의 전화번호의 일부를 가립니다.\n",
    "전화번호가 문자열 phone_number로 주어졌을 때, 전화번호의 뒷 4자리를 제외한 나머지 숫자를 전부 *으로 가린 문자열을 리턴하는 함수, solution을 완성해주세요.\n",
    "\n",
    "### 제한 조건\n",
    "phone_number는 길이 4 이상, 20이하인 문자열입니다.\n",
    "### 입출력 예\n",
    "phone_number\treturn\n",
    "\n",
    "\"01033334444\"\t\"*******4444\"\n",
    "\n",
    "\"027778888\"\t\"*****8888\""
   ]
  },
  {
   "cell_type": "code",
   "execution_count": 2,
   "id": "5b5dffa7",
   "metadata": {
    "ExecuteTime": {
     "end_time": "2023-01-19T02:45:33.123853Z",
     "start_time": "2023-01-19T02:45:33.115852Z"
    }
   },
   "outputs": [
    {
     "data": {
      "text/plain": [
       "'********4444'"
      ]
     },
     "execution_count": 2,
     "metadata": {},
     "output_type": "execute_result"
    }
   ],
   "source": [
    "phone_number=\"01033334444\"\n",
    "\"*\"*(len(\"phone_number\")-4)+phone_number[-4:]"
   ]
  },
  {
   "cell_type": "code",
   "execution_count": null,
   "id": "4f671eb9",
   "metadata": {},
   "outputs": [],
   "source": []
  }
 ],
 "metadata": {
  "kernelspec": {
   "display_name": "Python 3 (ipykernel)",
   "language": "python",
   "name": "python3"
  },
  "language_info": {
   "codemirror_mode": {
    "name": "ipython",
    "version": 3
   },
   "file_extension": ".py",
   "mimetype": "text/x-python",
   "name": "python",
   "nbconvert_exporter": "python",
   "pygments_lexer": "ipython3",
   "version": "3.9.13"
  },
  "toc": {
   "base_numbering": 1,
   "nav_menu": {},
   "number_sections": true,
   "sideBar": true,
   "skip_h1_title": false,
   "title_cell": "Table of Contents",
   "title_sidebar": "Contents",
   "toc_cell": false,
   "toc_position": {},
   "toc_section_display": true,
   "toc_window_display": false
  },
  "varInspector": {
   "cols": {
    "lenName": 16,
    "lenType": 16,
    "lenVar": 40
   },
   "kernels_config": {
    "python": {
     "delete_cmd_postfix": "",
     "delete_cmd_prefix": "del ",
     "library": "var_list.py",
     "varRefreshCmd": "print(var_dic_list())"
    },
    "r": {
     "delete_cmd_postfix": ") ",
     "delete_cmd_prefix": "rm(",
     "library": "var_list.r",
     "varRefreshCmd": "cat(var_dic_list()) "
    }
   },
   "types_to_exclude": [
    "module",
    "function",
    "builtin_function_or_method",
    "instance",
    "_Feature"
   ],
   "window_display": false
  }
 },
 "nbformat": 4,
 "nbformat_minor": 5
}
