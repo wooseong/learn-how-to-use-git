{
 "cells": [
  {
   "cell_type": "markdown",
   "id": "5da1b019",
   "metadata": {},
   "source": [
    "# 정수 내림차순으로 배치하기\n",
    "* progammers https://school.programmers.co.kr/learn/courses/30/lessons/12933\n",
    "\n",
    "## 문제 설명\n",
    "함수 solution은 정수 n을 매개변수로 입력받습니다. n의 각 자릿수를 큰것부터 작은 순으로 정렬한 새로운 정수를 리턴해주세요. 예를들어 n이 118372면 873211을 리턴하면 됩니다.\n",
    "\n",
    "### 제한 조건\n",
    "n은 1이상 8000000000 이하인 자연수입니다.\n",
    "### 입출력 예\n",
    "n\treturn\n",
    "\n",
    "118372\t873211"
   ]
  },
  {
   "cell_type": "code",
   "execution_count": 19,
   "id": "bfa4c32b",
   "metadata": {
    "ExecuteTime": {
     "end_time": "2023-01-19T02:30:11.688653Z",
     "start_time": "2023-01-19T02:30:11.680650Z"
    }
   },
   "outputs": [
    {
     "name": "stdout",
     "output_type": "stream",
     "text": [
      "[9, 8, 4, 4, 3, 3, 2, 1, 1, 0] <class 'list'>\n"
     ]
    },
    {
     "data": {
      "text/plain": [
       "9844332110"
      ]
     },
     "execution_count": 19,
     "metadata": {},
     "output_type": "execute_result"
    }
   ],
   "source": [
    "n=1398401234\n",
    "m=list(map(int, str(n)))\n",
    "m.sort(reverse=True)\n",
    "print(m,type(m))\n",
    "m=list(map(str,m))\n",
    "int(''.join(m))"
   ]
  },
  {
   "cell_type": "code",
   "execution_count": null,
   "id": "93db1e13",
   "metadata": {},
   "outputs": [],
   "source": []
  }
 ],
 "metadata": {
  "kernelspec": {
   "display_name": "Python 3 (ipykernel)",
   "language": "python",
   "name": "python3"
  },
  "language_info": {
   "codemirror_mode": {
    "name": "ipython",
    "version": 3
   },
   "file_extension": ".py",
   "mimetype": "text/x-python",
   "name": "python",
   "nbconvert_exporter": "python",
   "pygments_lexer": "ipython3",
   "version": "3.9.13"
  },
  "toc": {
   "base_numbering": 1,
   "nav_menu": {},
   "number_sections": true,
   "sideBar": true,
   "skip_h1_title": false,
   "title_cell": "Table of Contents",
   "title_sidebar": "Contents",
   "toc_cell": false,
   "toc_position": {},
   "toc_section_display": true,
   "toc_window_display": false
  },
  "varInspector": {
   "cols": {
    "lenName": 16,
    "lenType": 16,
    "lenVar": 40
   },
   "kernels_config": {
    "python": {
     "delete_cmd_postfix": "",
     "delete_cmd_prefix": "del ",
     "library": "var_list.py",
     "varRefreshCmd": "print(var_dic_list())"
    },
    "r": {
     "delete_cmd_postfix": ") ",
     "delete_cmd_prefix": "rm(",
     "library": "var_list.r",
     "varRefreshCmd": "cat(var_dic_list()) "
    }
   },
   "types_to_exclude": [
    "module",
    "function",
    "builtin_function_or_method",
    "instance",
    "_Feature"
   ],
   "window_display": false
  }
 },
 "nbformat": 4,
 "nbformat_minor": 5
}
