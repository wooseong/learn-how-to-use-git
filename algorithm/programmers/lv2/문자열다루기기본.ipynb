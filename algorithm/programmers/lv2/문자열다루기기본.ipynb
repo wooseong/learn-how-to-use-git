{
 "cells": [
  {
   "cell_type": "markdown",
   "id": "b89bf001",
   "metadata": {},
   "source": [
    "# 문자열 다루기 기본\n",
    "* programmers https://school.programmers.co.kr/learn/courses/30/lessons/12918\n",
    "\n",
    "## 문제 설명\n",
    "문자열 s의 길이가 4 혹은 6이고, 숫자로만 구성돼있는지 확인해주는 함수, solution을 완성하세요. 예를 들어 s가 \"a234\"이면 False를 리턴하고 \"1234\"라면 True를 리턴하면 됩니다.\n",
    "\n",
    "### 제한 사항\n",
    "s는 길이 1 이상, 길이 8 이하인 문자열입니다.\n",
    "s는 영문 알파벳 대소문자 또는 0부터 9까지 숫자로 이루어져 있습니다.\n",
    "### 입출력 예\n",
    "s\treturn\n",
    "\n",
    "\"a234\"\tfalse\n",
    "\n",
    "\"1234\"\ttrue"
   ]
  },
  {
   "cell_type": "code",
   "execution_count": 3,
   "id": "4fda2629",
   "metadata": {
    "ExecuteTime": {
     "end_time": "2023-01-19T02:09:36.923850Z",
     "start_time": "2023-01-19T02:09:36.913847Z"
    }
   },
   "outputs": [
    {
     "data": {
      "text/plain": [
       "False"
      ]
     },
     "execution_count": 3,
     "metadata": {},
     "output_type": "execute_result"
    }
   ],
   "source": [
    "s='a123'\n",
    "number = ['0','1','2','3','4','5','6','7','8','9']\n",
    "num=0\n",
    "for i in range(len(s)):\n",
    "    if s[i] in number :\n",
    "        num+=1\n",
    "(len(s) in (4,6)) and (len(s)==num)"
   ]
  },
  {
   "cell_type": "code",
   "execution_count": null,
   "id": "2e7b5468",
   "metadata": {},
   "outputs": [],
   "source": [
    "s.isdigit() and len(s) in (4, 6)"
   ]
  }
 ],
 "metadata": {
  "kernelspec": {
   "display_name": "Python 3 (ipykernel)",
   "language": "python",
   "name": "python3"
  },
  "language_info": {
   "codemirror_mode": {
    "name": "ipython",
    "version": 3
   },
   "file_extension": ".py",
   "mimetype": "text/x-python",
   "name": "python",
   "nbconvert_exporter": "python",
   "pygments_lexer": "ipython3",
   "version": "3.9.13"
  },
  "toc": {
   "base_numbering": 1,
   "nav_menu": {},
   "number_sections": true,
   "sideBar": true,
   "skip_h1_title": false,
   "title_cell": "Table of Contents",
   "title_sidebar": "Contents",
   "toc_cell": false,
   "toc_position": {},
   "toc_section_display": true,
   "toc_window_display": false
  },
  "varInspector": {
   "cols": {
    "lenName": 16,
    "lenType": 16,
    "lenVar": 40
   },
   "kernels_config": {
    "python": {
     "delete_cmd_postfix": "",
     "delete_cmd_prefix": "del ",
     "library": "var_list.py",
     "varRefreshCmd": "print(var_dic_list())"
    },
    "r": {
     "delete_cmd_postfix": ") ",
     "delete_cmd_prefix": "rm(",
     "library": "var_list.r",
     "varRefreshCmd": "cat(var_dic_list()) "
    }
   },
   "types_to_exclude": [
    "module",
    "function",
    "builtin_function_or_method",
    "instance",
    "_Feature"
   ],
   "window_display": false
  }
 },
 "nbformat": 4,
 "nbformat_minor": 5
}
