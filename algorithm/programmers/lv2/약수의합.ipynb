{
 "cells": [
  {
   "cell_type": "markdown",
   "id": "cf0aaf5e",
   "metadata": {},
   "source": [
    "# 약수의 합\n",
    "* programmers https://school.programmers.co.kr/learn/courses/30/lessons/12928\n",
    "\n",
    "## 문제 설명\n",
    "정수 n을 입력받아 n의 약수를 모두 더한 값을 리턴하는 함수, solution을 완성해주세요.\n",
    "\n",
    "### 제한 사항\n",
    "n은 0 이상 3000이하인 정수입니다.\n",
    "### 입출력 예\n",
    "n\treturn\n",
    "\n",
    "12\t28\n",
    "\n",
    "5\t6\n",
    "\n",
    "#### 입출력 예 설명\n",
    "입출력 예 #1\n",
    "12의 약수는 1, 2, 3, 4, 6, 12입니다. 이를 모두 더하면 28입니다.\n",
    "\n",
    "입출력 예 #2\n",
    "5의 약수는 1, 5입니다. 이를 모두 더하면 6입니다."
   ]
  },
  {
   "cell_type": "code",
   "execution_count": 16,
   "id": "642c55f9",
   "metadata": {
    "ExecuteTime": {
     "end_time": "2023-01-18T10:55:51.167707Z",
     "start_time": "2023-01-18T10:55:51.156704Z"
    }
   },
   "outputs": [
    {
     "name": "stdout",
     "output_type": "stream",
     "text": [
      "91.0\n"
     ]
    }
   ],
   "source": [
    "def solution(n):\n",
    "    answer = 0\n",
    "    for i in range(1,int(n**(1/2))+1):\n",
    "        if n%i == 0 :\n",
    "            answer += i\n",
    "            if not i**2 == n :\n",
    "                answer+= (n/i)\n",
    "    return answer\n",
    "print(solution(36))"
   ]
  },
  {
   "cell_type": "code",
   "execution_count": null,
   "id": "158bfe8d",
   "metadata": {},
   "outputs": [],
   "source": []
  }
 ],
 "metadata": {
  "kernelspec": {
   "display_name": "Python 3 (ipykernel)",
   "language": "python",
   "name": "python3"
  },
  "language_info": {
   "codemirror_mode": {
    "name": "ipython",
    "version": 3
   },
   "file_extension": ".py",
   "mimetype": "text/x-python",
   "name": "python",
   "nbconvert_exporter": "python",
   "pygments_lexer": "ipython3",
   "version": "3.9.13"
  },
  "toc": {
   "base_numbering": 1,
   "nav_menu": {},
   "number_sections": true,
   "sideBar": true,
   "skip_h1_title": false,
   "title_cell": "Table of Contents",
   "title_sidebar": "Contents",
   "toc_cell": false,
   "toc_position": {},
   "toc_section_display": true,
   "toc_window_display": false
  },
  "varInspector": {
   "cols": {
    "lenName": 16,
    "lenType": 16,
    "lenVar": 40
   },
   "kernels_config": {
    "python": {
     "delete_cmd_postfix": "",
     "delete_cmd_prefix": "del ",
     "library": "var_list.py",
     "varRefreshCmd": "print(var_dic_list())"
    },
    "r": {
     "delete_cmd_postfix": ") ",
     "delete_cmd_prefix": "rm(",
     "library": "var_list.r",
     "varRefreshCmd": "cat(var_dic_list()) "
    }
   },
   "types_to_exclude": [
    "module",
    "function",
    "builtin_function_or_method",
    "instance",
    "_Feature"
   ],
   "window_display": false
  }
 },
 "nbformat": 4,
 "nbformat_minor": 5
}
