{
 "cells": [
  {
   "cell_type": "markdown",
   "id": "495ffba2",
   "metadata": {},
   "source": [
    "# 행렬의 덧셈\n",
    "* programmers https://school.programmers.co.kr/learn/courses/30/lessons/12950\n",
    "\n",
    "## 문제 설명\n",
    "행렬의 덧셈은 행과 열의 크기가 같은 두 행렬의 같은 행, 같은 열의 값을 서로 더한 결과가 됩니다. 2개의 행렬 arr1과 arr2를 입력받아, 행렬 덧셈의 결과를 반환하는 함수, solution을 완성해주세요.\n",
    "\n",
    "### 제한 조건\n",
    "행렬 arr1, arr2의 행과 열의 길이는 500을 넘지 않습니다.\n",
    "### 입출력 예\n",
    "arr1\tarr2\treturn\n",
    "\n",
    "[[1,2],[2,3]]\t[[3,4],[5,6]]\t[[4,6],[7,9]]\n",
    "\n",
    "[[1],[2]]\t[[3],[4]]\t[[4],[6]]\n"
   ]
  },
  {
   "cell_type": "code",
   "execution_count": 25,
   "id": "cadd58c2",
   "metadata": {
    "ExecuteTime": {
     "end_time": "2023-01-19T00:46:24.953971Z",
     "start_time": "2023-01-19T00:46:24.933967Z"
    }
   },
   "outputs": [
    {
     "name": "stdout",
     "output_type": "stream",
     "text": [
      "[[4, 6], [7, 9]]\n"
     ]
    }
   ],
   "source": [
    "answer=[[0 for j in range(len(arr1[0]))] for i in range(len(arr1))]\n",
    "arr1 = [[1,2],[2,3]]\n",
    "arr2 = [[3,4],[5,6]]\n",
    "for i in range(len(arr1)) :\n",
    "    tmp = []\n",
    "    for j in range(len(arr1[i])):\n",
    "        answer[i][j]=(arr1[i][j]+arr2[i][j])\n",
    "print(answer)"
   ]
  },
  {
   "cell_type": "code",
   "execution_count": null,
   "id": "aa202360",
   "metadata": {},
   "outputs": [],
   "source": [
    "def sumMatrix(A,B):\n",
    "    answer = [[c + d for c, d in zip(a, b)] for a, b in zip(A,B)]\n",
    "    return answer"
   ]
  }
 ],
 "metadata": {
  "kernelspec": {
   "display_name": "Python 3 (ipykernel)",
   "language": "python",
   "name": "python3"
  },
  "language_info": {
   "codemirror_mode": {
    "name": "ipython",
    "version": 3
   },
   "file_extension": ".py",
   "mimetype": "text/x-python",
   "name": "python",
   "nbconvert_exporter": "python",
   "pygments_lexer": "ipython3",
   "version": "3.9.13"
  },
  "toc": {
   "base_numbering": 1,
   "nav_menu": {},
   "number_sections": true,
   "sideBar": true,
   "skip_h1_title": false,
   "title_cell": "Table of Contents",
   "title_sidebar": "Contents",
   "toc_cell": false,
   "toc_position": {},
   "toc_section_display": true,
   "toc_window_display": false
  },
  "varInspector": {
   "cols": {
    "lenName": 16,
    "lenType": 16,
    "lenVar": 40
   },
   "kernels_config": {
    "python": {
     "delete_cmd_postfix": "",
     "delete_cmd_prefix": "del ",
     "library": "var_list.py",
     "varRefreshCmd": "print(var_dic_list())"
    },
    "r": {
     "delete_cmd_postfix": ") ",
     "delete_cmd_prefix": "rm(",
     "library": "var_list.r",
     "varRefreshCmd": "cat(var_dic_list()) "
    }
   },
   "types_to_exclude": [
    "module",
    "function",
    "builtin_function_or_method",
    "instance",
    "_Feature"
   ],
   "window_display": false
  }
 },
 "nbformat": 4,
 "nbformat_minor": 5
}
