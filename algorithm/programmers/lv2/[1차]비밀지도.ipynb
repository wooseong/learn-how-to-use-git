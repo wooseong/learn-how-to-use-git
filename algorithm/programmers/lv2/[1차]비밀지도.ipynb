{
 "cells": [
  {
   "cell_type": "markdown",
   "id": "b03e643a",
   "metadata": {},
   "source": [
    "# [1차] 비밀지도\n",
    "* programmers https://school.programmers.co.kr/learn/courses/30/lessons/17681\n",
    "\n",
    "해설 : https://tech.kakao.com/2017/09/27/kakao-blind-recruitment-round-1/\n",
    "\n",
    "## 문제 설명\n",
    "비밀지도\n",
    "네오는 평소 프로도가 비상금을 숨겨놓는 장소를 알려줄 비밀지도를 손에 넣었다. 그런데 이 비밀지도는 숫자로 암호화되어 있어 위치를 확인하기 위해서는 암호를 해독해야 한다. 다행히 지도 암호를 해독할 방법을 적어놓은 메모도 함께 발견했다.\n",
    "\n",
    "지도는 한 변의 길이가 n인 정사각형 배열 형태로, 각 칸은 \"공백\"(\" \") 또는 \"벽\"(\"#\") 두 종류로 이루어져 있다.\n",
    "전체 지도는 두 장의 지도를 겹쳐서 얻을 수 있다. 각각 \"지도 1\"과 \"지도 2\"라고 하자. 지도 1 또는 지도 2 중 어느 하나라도 벽인 부분은 전체 지도에서도 벽이다. 지도 1과 지도 2에서 모두 공백인 부분은 전체 지도에서도 공백이다.\n",
    "\"지도 1\"과 \"지도 2\"는 각각 정수 배열로 암호화되어 있다.\n",
    "암호화된 배열은 지도의 각 가로줄에서 벽 부분을 1, 공백 부분을 0으로 부호화했을 때 얻어지는 이진수에 해당하는 값의 배열이다.\n",
    "secret map\n",
    "\n",
    "네오가 프로도의 비상금을 손에 넣을 수 있도록, 비밀지도의 암호를 해독하는 작업을 도와줄 프로그램을 작성하라.\n",
    "\n",
    "### 입력 형식\n",
    "입력으로 지도의 한 변 크기 n 과 2개의 정수 배열 arr1, arr2가 들어온다.\n",
    "\n",
    "1 ≦ n ≦ 16\n",
    "arr1, arr2는 길이 n인 정수 배열로 주어진다.\n",
    "정수 배열의 각 원소 x를 이진수로 변환했을 때의 길이는 n 이하이다. 즉, 0 ≦ x ≦ 2n - 1을 만족한다.\n",
    "### 출력 형식\n",
    "원래의 비밀지도를 해독하여 '#', 공백으로 구성된 문자열 배열로 출력하라.\n",
    "\n",
    "### 입출력 예제\n",
    "매개변수\t값\n",
    "\n",
    "n\t5\n",
    "\n",
    "arr1\t[9, 20, 28, 18, 11]\n",
    "\n",
    "arr2\t[30, 1, 21, 17, 28]\n",
    "\n",
    "출력\t[\"#####\",\"# # #\", \"### #\", \"# ##\", \"#####\"]\n",
    "\n",
    "매개변수\t값\n",
    "\n",
    "n\t6\n",
    "\n",
    "\n",
    "arr1\t[46, 33, 33 ,22, 31, 50]\n",
    "\n",
    "arr2\t[27 ,56, 19, 14, 14, 10]\n",
    "\n",
    "출력\t[\"######\", \"### #\", \"## ##\", \" #### \", \" #####\", \"### # \"]"
   ]
  },
  {
   "cell_type": "code",
   "execution_count": 10,
   "id": "cf1186bd",
   "metadata": {
    "ExecuteTime": {
     "end_time": "2023-01-20T05:45:51.598663Z",
     "start_time": "2023-01-20T05:45:51.591661Z"
    }
   },
   "outputs": [
    {
     "name": "stdout",
     "output_type": "stream",
     "text": [
      "#####\n",
      "['#####']\n",
      "---------------------------\n",
      "# # #\n",
      "['#####', '# # #']\n",
      "---------------------------\n",
      "### #\n",
      "['#####', '# # #', '### #']\n",
      "---------------------------\n",
      "#  ##\n",
      "['#####', '# # #', '### #', '#  ##']\n",
      "---------------------------\n",
      "#####\n",
      "['#####', '# # #', '### #', '#  ##', '#####']\n",
      "---------------------------\n"
     ]
    }
   ],
   "source": [
    "n = 5\n",
    "arr1 = [9, 20, 28, 18, 11]\n",
    "arr2 = [30, 1, 21, 17, 28]\n",
    "answer = []\n",
    "for i in range(n) :\n",
    "    line1=arr1[i]\n",
    "    line2=arr2[i]\n",
    "    wall =\"\"\n",
    "    for j in range(n) :\n",
    "        if (line1%2==1) or (line2%2==1):\n",
    "            wall= '#'+wall\n",
    "        else :\n",
    "            wall = ' '+wall\n",
    "            \n",
    "        line1=(line1 - (line1%2))//2\n",
    "        line2=(line2 - (line2%2))//2\n",
    "    answer.append(wall)\n",
    "    print(wall)\n",
    "    print(answer)\n",
    "    print('---------------------------')"
   ]
  },
  {
   "cell_type": "code",
   "execution_count": 1,
   "id": "b076b5ba",
   "metadata": {
    "ExecuteTime": {
     "end_time": "2023-01-26T08:18:17.111497Z",
     "start_time": "2023-01-26T08:18:17.105494Z"
    }
   },
   "outputs": [],
   "source": [
    "def solution(n, arr1, arr2):\n",
    "    answer = []\n",
    "    for i,j in zip(arr1,arr2):\n",
    "        a12 = str(bin(i|j)[2:]) #i와 j를 2진수로 변환 후 각 자리에서 둘 중 하나라도 1이면 1로 둘 다 아니면 0\n",
    "        #이후 '0bxxxx'로 된 문자열에서 앞에 '0b'를 자르기 위해서 [2:]\n",
    "        a12=a12.rjust(n,'0') #가지고 있는 문자 오른쪽 정렬 후 공백이 된 왼쪽은 '0'으로 채움\n",
    "        a12=a12.replace('1','#') # '1'을 '#'으로 변경\n",
    "        a12=a12.replace('0',' ')\n",
    "        answer.append(a12)\n",
    "    return answer"
   ]
  },
  {
   "cell_type": "code",
   "execution_count": 4,
   "id": "ad16aed2",
   "metadata": {
    "ExecuteTime": {
     "end_time": "2023-01-26T08:19:07.607119Z",
     "start_time": "2023-01-26T08:19:07.603118Z"
    }
   },
   "outputs": [
    {
     "data": {
      "text/plain": [
       "['#####', '# # #', '### #', '#  ##', '#####']"
      ]
     },
     "execution_count": 4,
     "metadata": {},
     "output_type": "execute_result"
    }
   ],
   "source": [
    "n = 5\n",
    "arr1 = [9, 20, 28, 18, 11]\n",
    "arr2 = [30, 1, 21, 17, 28]\n",
    "solution(n, arr1, arr2)"
   ]
  },
  {
   "cell_type": "code",
   "execution_count": 27,
   "id": "5c37f78d",
   "metadata": {
    "ExecuteTime": {
     "end_time": "2023-01-20T05:53:43.863956Z",
     "start_time": "2023-01-20T05:53:43.857954Z"
    }
   },
   "outputs": [
    {
     "data": {
      "text/plain": [
       "'0b11'"
      ]
     },
     "execution_count": 27,
     "metadata": {},
     "output_type": "execute_result"
    }
   ],
   "source": [
    "bin(3)"
   ]
  },
  {
   "cell_type": "code",
   "execution_count": 28,
   "id": "be01e6c9",
   "metadata": {
    "ExecuteTime": {
     "end_time": "2023-01-20T05:53:46.467542Z",
     "start_time": "2023-01-20T05:53:46.463543Z"
    }
   },
   "outputs": [
    {
     "data": {
      "text/plain": [
       "'0b11110'"
      ]
     },
     "execution_count": 28,
     "metadata": {},
     "output_type": "execute_result"
    }
   ],
   "source": [
    "bin(30)"
   ]
  },
  {
   "cell_type": "code",
   "execution_count": 29,
   "id": "176ccb6d",
   "metadata": {
    "ExecuteTime": {
     "end_time": "2023-01-20T05:53:51.227137Z",
     "start_time": "2023-01-20T05:53:51.223136Z"
    }
   },
   "outputs": [
    {
     "data": {
      "text/plain": [
       "'0b11111'"
      ]
     },
     "execution_count": 29,
     "metadata": {},
     "output_type": "execute_result"
    }
   ],
   "source": [
    "bin(3|31) #3과 30을 2진수로 바꾼 후 각 자리 수에서 둘 중 하나라도(|, or 조건을 썼기때문에) 1이면 1 둘다 아니면 0"
   ]
  }
 ],
 "metadata": {
  "kernelspec": {
   "display_name": "Python 3 (ipykernel)",
   "language": "python",
   "name": "python3"
  },
  "language_info": {
   "codemirror_mode": {
    "name": "ipython",
    "version": 3
   },
   "file_extension": ".py",
   "mimetype": "text/x-python",
   "name": "python",
   "nbconvert_exporter": "python",
   "pygments_lexer": "ipython3",
   "version": "3.9.13"
  },
  "toc": {
   "base_numbering": 1,
   "nav_menu": {},
   "number_sections": true,
   "sideBar": true,
   "skip_h1_title": false,
   "title_cell": "Table of Contents",
   "title_sidebar": "Contents",
   "toc_cell": false,
   "toc_position": {},
   "toc_section_display": true,
   "toc_window_display": false
  },
  "varInspector": {
   "cols": {
    "lenName": 16,
    "lenType": 16,
    "lenVar": 40
   },
   "kernels_config": {
    "python": {
     "delete_cmd_postfix": "",
     "delete_cmd_prefix": "del ",
     "library": "var_list.py",
     "varRefreshCmd": "print(var_dic_list())"
    },
    "r": {
     "delete_cmd_postfix": ") ",
     "delete_cmd_prefix": "rm(",
     "library": "var_list.r",
     "varRefreshCmd": "cat(var_dic_list()) "
    }
   },
   "types_to_exclude": [
    "module",
    "function",
    "builtin_function_or_method",
    "instance",
    "_Feature"
   ],
   "window_display": false
  }
 },
 "nbformat": 4,
 "nbformat_minor": 5
}
