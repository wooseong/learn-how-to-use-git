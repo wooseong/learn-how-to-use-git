{
 "cells": [
  {
   "cell_type": "markdown",
   "id": "ae7ba1e2",
   "metadata": {},
   "source": [
    "# 시저 암호\n",
    "* programmers https://school.programmers.co.kr/learn/courses/30/lessons/12926\n",
    "\n",
    "## 문제 설명\n",
    "어떤 문장의 각 알파벳을 일정한 거리만큼 밀어서 다른 알파벳으로 바꾸는 암호화 방식을 시저 암호라고 합니다. 예를 들어 \"AB\"는 1만큼 밀면 \"BC\"가 되고, 3만큼 밀면 \"DE\"가 됩니다. \"z\"는 1만큼 밀면 \"a\"가 됩니다. 문자열 s와 거리 n을 입력받아 s를 n만큼 민 암호문을 만드는 함수, solution을 완성해 보세요.\n",
    "\n",
    "### 제한 조건\n",
    "공백은 아무리 밀어도 공백입니다.\n",
    "\n",
    "s는 알파벳 소문자, 대문자, 공백으로만 이루어져 있습니다.\n",
    "\n",
    "s의 길이는 8000이하입니다.\n",
    "\n",
    "n은 1 이상, 25이하인 자연수입니다.\n",
    "### 입출력 예\n",
    "s\tn\tresult\n",
    "\n",
    "\"AB\"\t1\t\"BC\"\n",
    "\n",
    "\"z\"\t1\t\"a\"\n",
    "\n",
    "\"a B z\"\t4\t\"e F d\""
   ]
  },
  {
   "cell_type": "code",
   "execution_count": 45,
   "id": "15067e5e",
   "metadata": {
    "ExecuteTime": {
     "end_time": "2023-01-20T06:34:09.190450Z",
     "start_time": "2023-01-20T06:34:09.182447Z"
    }
   },
   "outputs": [
    {
     "name": "stdout",
     "output_type": "stream",
     "text": [
      "a** **B**여기 계산\n",
      " **z**e F d\n"
     ]
    }
   ],
   "source": [
    "s = \"a B z\"\n",
    "n = 4\n",
    "\n",
    "s = list(s)\n",
    "for i in range(len(s)):\n",
    "    print(s[i], end=\"**\")\n",
    "    if(s[i]==' '): continue\n",
    "    if s[i].isupper():\n",
    "        print(\"여기 계산\")\n",
    "        s[i]=chr((ord(s[i])+n if ord(s[i])+n <= ord('Z') else (ord(s[i])+n) - (ord('Z')-ord('A')+1) ))\n",
    "    else :\n",
    "#        print(s[i],ord(s[i])+n,end=\" \")\n",
    "        s[i]=chr((ord(s[i])+n if ord(s[i])+n<= ord('z') else (ord(s[i])+n) - (ord('z')-ord('a')+1) ))\n",
    "print(''.join(s))"
   ]
  },
  {
   "cell_type": "code",
   "execution_count": null,
   "id": "53c51dc8",
   "metadata": {},
   "outputs": [],
   "source": []
  }
 ],
 "metadata": {
  "kernelspec": {
   "display_name": "Python 3 (ipykernel)",
   "language": "python",
   "name": "python3"
  },
  "language_info": {
   "codemirror_mode": {
    "name": "ipython",
    "version": 3
   },
   "file_extension": ".py",
   "mimetype": "text/x-python",
   "name": "python",
   "nbconvert_exporter": "python",
   "pygments_lexer": "ipython3",
   "version": "3.9.13"
  },
  "toc": {
   "base_numbering": 1,
   "nav_menu": {},
   "number_sections": true,
   "sideBar": true,
   "skip_h1_title": false,
   "title_cell": "Table of Contents",
   "title_sidebar": "Contents",
   "toc_cell": false,
   "toc_position": {},
   "toc_section_display": true,
   "toc_window_display": false
  },
  "varInspector": {
   "cols": {
    "lenName": 16,
    "lenType": 16,
    "lenVar": 40
   },
   "kernels_config": {
    "python": {
     "delete_cmd_postfix": "",
     "delete_cmd_prefix": "del ",
     "library": "var_list.py",
     "varRefreshCmd": "print(var_dic_list())"
    },
    "r": {
     "delete_cmd_postfix": ") ",
     "delete_cmd_prefix": "rm(",
     "library": "var_list.r",
     "varRefreshCmd": "cat(var_dic_list()) "
    }
   },
   "types_to_exclude": [
    "module",
    "function",
    "builtin_function_or_method",
    "instance",
    "_Feature"
   ],
   "window_display": false
  }
 },
 "nbformat": 4,
 "nbformat_minor": 5
}
