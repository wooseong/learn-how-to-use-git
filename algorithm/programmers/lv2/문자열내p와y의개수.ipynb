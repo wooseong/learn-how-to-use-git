{
 "cells": [
  {
   "cell_type": "markdown",
   "id": "9399429a",
   "metadata": {},
   "source": [
    "# 문자열 내 p와 y의 개수\n",
    "* programmers https://school.programmers.co.kr/learn/courses/30/lessons/12916\n",
    "\n",
    "## 문제 설명\n",
    "대문자와 소문자가 섞여있는 문자열 s가 주어집니다. s에 'p'의 개수와 'y'의 개수를 비교해 같으면 True, 다르면 False를 return 하는 solution를 완성하세요. 'p', 'y' 모두 하나도 없는 경우는 항상 True를 리턴합니다. 단, 개수를 비교할 때 대문자와 소문자는 구별하지 않습니다.\n",
    "\n",
    "예를 들어 s가 \"pPoooyY\"면 true를 return하고 \"Pyy\"라면 false를 return합니다.\n",
    "\n",
    "### 제한사항\n",
    "문자열 s의 길이 : 50 이하의 자연수\n",
    "문자열 s는 알파벳으로만 이루어져 있습니다.\n",
    "### 입출력 예\n",
    "s\tanswer\n",
    "\n",
    "\"pPoooyY\"\ttrue\n",
    "\n",
    "\"Pyy\"\tfalse\n",
    "\n",
    "#### 입출력 예 설명\n",
    "입출력 예 #1\n",
    "'p'의 개수 2개, 'y'의 개수 2개로 같으므로 true를 return 합니다.\n",
    "\n",
    "입출력 예 #2\n",
    "'p'의 개수 1개, 'y'의 개수 2개로 다르므로 false를 return 합니다."
   ]
  },
  {
   "cell_type": "code",
   "execution_count": 4,
   "id": "c36cce12",
   "metadata": {
    "ExecuteTime": {
     "end_time": "2023-01-18T11:13:17.411527Z",
     "start_time": "2023-01-18T11:13:17.393526Z"
    }
   },
   "outputs": [
    {
     "name": "stdout",
     "output_type": "stream",
     "text": [
      "True\n"
     ]
    }
   ],
   "source": [
    "def solution(s):\n",
    "    answer = True\n",
    "    s=s.lower()\n",
    "    return True if s.count('p')==s.count('y') else False\n",
    "\n",
    "print(solution(\"PPPyyy\"))"
   ]
  },
  {
   "cell_type": "code",
   "execution_count": null,
   "id": "88f503d2",
   "metadata": {},
   "outputs": [],
   "source": []
  }
 ],
 "metadata": {
  "kernelspec": {
   "display_name": "Python 3 (ipykernel)",
   "language": "python",
   "name": "python3"
  },
  "language_info": {
   "codemirror_mode": {
    "name": "ipython",
    "version": 3
   },
   "file_extension": ".py",
   "mimetype": "text/x-python",
   "name": "python",
   "nbconvert_exporter": "python",
   "pygments_lexer": "ipython3",
   "version": "3.9.13"
  },
  "toc": {
   "base_numbering": 1,
   "nav_menu": {},
   "number_sections": true,
   "sideBar": true,
   "skip_h1_title": false,
   "title_cell": "Table of Contents",
   "title_sidebar": "Contents",
   "toc_cell": false,
   "toc_position": {},
   "toc_section_display": true,
   "toc_window_display": false
  },
  "varInspector": {
   "cols": {
    "lenName": 16,
    "lenType": 16,
    "lenVar": 40
   },
   "kernels_config": {
    "python": {
     "delete_cmd_postfix": "",
     "delete_cmd_prefix": "del ",
     "library": "var_list.py",
     "varRefreshCmd": "print(var_dic_list())"
    },
    "r": {
     "delete_cmd_postfix": ") ",
     "delete_cmd_prefix": "rm(",
     "library": "var_list.r",
     "varRefreshCmd": "cat(var_dic_list()) "
    }
   },
   "types_to_exclude": [
    "module",
    "function",
    "builtin_function_or_method",
    "instance",
    "_Feature"
   ],
   "window_display": false
  }
 },
 "nbformat": 4,
 "nbformat_minor": 5
}
