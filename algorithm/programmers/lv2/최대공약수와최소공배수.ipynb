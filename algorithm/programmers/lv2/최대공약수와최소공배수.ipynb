{
 "cells": [
  {
   "cell_type": "markdown",
   "id": "aca2ebc8",
   "metadata": {},
   "source": [
    "# 최대공약수와 최소공배수\n",
    "* programmers https://school.programmers.co.kr/learn/courses/30/lessons/12940\n",
    "\n",
    "## 문제 설명\n",
    "두 수를 입력받아 두 수의 최대공약수와 최소공배수를 반환하는 함수, solution을 완성해 보세요. 배열의 맨 앞에 최대공약수, 그다음 최소공배수를 넣어 반환하면 됩니다. 예를 들어 두 수 3, 12의 최대공약수는 3, 최소공배수는 12이므로 solution(3, 12)는 [3, 12]를 반환해야 합니다.\n",
    "\n",
    "### 제한 사항\n",
    "두 수는 1이상 1000000이하의 자연수입니다.\n",
    "### 입출력 예\n",
    "n\tm\treturn\n",
    "\n",
    "3\t12\t[3, 12]\n",
    "\n",
    "2\t5\t[1, 10]\n",
    "#### 입출력 예 설명\n",
    "입출력 예 #1\n",
    "위의 설명과 같습니다.\n",
    "\n",
    "입출력 예 #2\n",
    "자연수 2와 5의 최대공약수는 1, 최소공배수는 10이므로 [1, 10]을 리턴해야 합니다."
   ]
  },
  {
   "cell_type": "code",
   "execution_count": 10,
   "id": "2569f549",
   "metadata": {
    "ExecuteTime": {
     "end_time": "2023-01-19T01:34:23.030175Z",
     "start_time": "2023-01-19T01:34:23.023172Z"
    }
   },
   "outputs": [
    {
     "name": "stdout",
     "output_type": "stream",
     "text": [
      "2 5 0 0\n",
      "1\n",
      "2 5 0 1\n"
     ]
    },
    {
     "data": {
      "text/plain": [
       "[1, 10]"
      ]
     },
     "execution_count": 10,
     "metadata": {},
     "output_type": "execute_result"
    }
   ],
   "source": [
    "n, m = (2, 5)\n",
    "measure = 0\n",
    "if n>m:\n",
    "    n,m = m,n\n",
    "for i in range(1, n+1):\n",
    "    if (n%i ==0) and (m%i==0):\n",
    "        measure = i\n",
    "[measure, int(measure*(n/measure)*(m/measure))]"
   ]
  },
  {
   "cell_type": "markdown",
   "id": "4ba3c2f5",
   "metadata": {},
   "source": [
    "### 유클리드 호제법"
   ]
  },
  {
   "cell_type": "code",
   "execution_count": null,
   "id": "c5a6fd28",
   "metadata": {},
   "outputs": [],
   "source": [
    "def gcdlcm(a, b):\n",
    "    c, d = max(a, b), min(a, b)\n",
    "    t = 1\n",
    "    while t > 0:\n",
    "        t = c % d\n",
    "        c, d = d, t\n",
    "    answer = [c, int(a*b/c)]\n",
    "\n",
    "    return answer"
   ]
  }
 ],
 "metadata": {
  "kernelspec": {
   "display_name": "Python 3 (ipykernel)",
   "language": "python",
   "name": "python3"
  },
  "language_info": {
   "codemirror_mode": {
    "name": "ipython",
    "version": 3
   },
   "file_extension": ".py",
   "mimetype": "text/x-python",
   "name": "python",
   "nbconvert_exporter": "python",
   "pygments_lexer": "ipython3",
   "version": "3.9.13"
  },
  "toc": {
   "base_numbering": 1,
   "nav_menu": {},
   "number_sections": true,
   "sideBar": true,
   "skip_h1_title": false,
   "title_cell": "Table of Contents",
   "title_sidebar": "Contents",
   "toc_cell": false,
   "toc_position": {},
   "toc_section_display": true,
   "toc_window_display": false
  },
  "varInspector": {
   "cols": {
    "lenName": 16,
    "lenType": 16,
    "lenVar": 40
   },
   "kernels_config": {
    "python": {
     "delete_cmd_postfix": "",
     "delete_cmd_prefix": "del ",
     "library": "var_list.py",
     "varRefreshCmd": "print(var_dic_list())"
    },
    "r": {
     "delete_cmd_postfix": ") ",
     "delete_cmd_prefix": "rm(",
     "library": "var_list.r",
     "varRefreshCmd": "cat(var_dic_list()) "
    }
   },
   "types_to_exclude": [
    "module",
    "function",
    "builtin_function_or_method",
    "instance",
    "_Feature"
   ],
   "window_display": false
  }
 },
 "nbformat": 4,
 "nbformat_minor": 5
}
