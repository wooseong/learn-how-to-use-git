{
 "cells": [
  {
   "cell_type": "markdown",
   "id": "b1b00bab",
   "metadata": {},
   "source": [
    "# 하샤드 수\n",
    "* programmers https://school.programmers.co.kr/learn/courses/30/lessons/12947\n",
    "\n",
    "## 문제 설명\n",
    "양의 정수 x가 하샤드 수이려면 x의 자릿수의 합으로 x가 나누어져야 합니다. 예를 들어 18의 자릿수 합은 1+8=9이고, 18은 9로 나누어 떨어지므로 18은 하샤드 수입니다. 자연수 x를 입력받아 x가 하샤드 수인지 아닌지 검사하는 함수, solution을 완성해주세요.\n",
    "\n",
    "### 제한 조건\n",
    "x는 1 이상, 10000 이하인 정수입니다.\n",
    "### 입출력 예\n",
    "arr\treturn\n",
    "\n",
    "10\ttrue\n",
    "\n",
    "12\ttrue\n",
    "\n",
    "11\tfalse\n",
    "\n",
    "13\tfalse\n",
    "#### 입출력 예 설명\n",
    "입출력 예 #1\n",
    "\n",
    "10의 모든 자릿수의 합은 1입니다. 10은 1로 나누어 떨어지므로 10은 하샤드 수입니다.\n",
    "\n",
    "입출력 예 #2\n",
    "\n",
    "12의 모든 자릿수의 합은 3입니다. 12는 3으로 나누어 떨어지므로 12는 하샤드 수입니다.\n",
    "\n",
    "입출력 예 #3\n",
    "\n",
    "11의 모든 자릿수의 합은 2입니다. 11은 2로 나누어 떨어지지 않으므로 11는 하샤드 수가 아닙니다.\n",
    "\n",
    "입출력 예 #4\n",
    "\n",
    "13의 모든 자릿수의 합은 4입니다. 13은 4로 나누어 떨어지지 않으므로 13은 하샤드 수가 아닙니다."
   ]
  },
  {
   "cell_type": "code",
   "execution_count": null,
   "id": "16cef405",
   "metadata": {},
   "outputs": [],
   "source": [
    "def solution(x):\n",
    "    sum = sumDigit(x)\n",
    "    if x%sum==0:\n",
    "        return True\n",
    "    else :\n",
    "        return False\n",
    "\n",
    "def sumDigit(x):\n",
    "    if x < 10:\n",
    "        return x;\n",
    "    return (x % 10) + sumDigit(x // 10)"
   ]
  },
  {
   "cell_type": "code",
   "execution_count": null,
   "id": "47bfcc7e",
   "metadata": {},
   "outputs": [],
   "source": [
    "n % sum([int(c) for c in str(n)]) == 0"
   ]
  }
 ],
 "metadata": {
  "kernelspec": {
   "display_name": "Python 3 (ipykernel)",
   "language": "python",
   "name": "python3"
  },
  "language_info": {
   "codemirror_mode": {
    "name": "ipython",
    "version": 3
   },
   "file_extension": ".py",
   "mimetype": "text/x-python",
   "name": "python",
   "nbconvert_exporter": "python",
   "pygments_lexer": "ipython3",
   "version": "3.9.13"
  },
  "toc": {
   "base_numbering": 1,
   "nav_menu": {},
   "number_sections": true,
   "sideBar": true,
   "skip_h1_title": false,
   "title_cell": "Table of Contents",
   "title_sidebar": "Contents",
   "toc_cell": false,
   "toc_position": {},
   "toc_section_display": true,
   "toc_window_display": false
  },
  "varInspector": {
   "cols": {
    "lenName": 16,
    "lenType": 16,
    "lenVar": 40
   },
   "kernels_config": {
    "python": {
     "delete_cmd_postfix": "",
     "delete_cmd_prefix": "del ",
     "library": "var_list.py",
     "varRefreshCmd": "print(var_dic_list())"
    },
    "r": {
     "delete_cmd_postfix": ") ",
     "delete_cmd_prefix": "rm(",
     "library": "var_list.r",
     "varRefreshCmd": "cat(var_dic_list()) "
    }
   },
   "types_to_exclude": [
    "module",
    "function",
    "builtin_function_or_method",
    "instance",
    "_Feature"
   ],
   "window_display": false
  }
 },
 "nbformat": 4,
 "nbformat_minor": 5
}
