{
 "cells": [
  {
   "cell_type": "markdown",
   "id": "ee866eb3",
   "metadata": {},
   "source": [
    "# 체육복\n",
    "* programmers https://school.programmers.co.kr/learn/courses/30/lessons/42862\n",
    "\n",
    "## 문제 설명\n",
    "점심시간에 도둑이 들어, 일부 학생이 체육복을 도난당했습니다. 다행히 여벌 체육복이 있는 학생이 이들에게 체육복을 빌려주려 합니다. 학생들의 번호는 체격 순으로 매겨져 있어, 바로 앞번호의 학생이나 바로 뒷번호의 학생에게만 체육복을 빌려줄 수 있습니다. 예를 들어, 4번 학생은 3번 학생이나 5번 학생에게만 체육복을 빌려줄 수 있습니다. 체육복이 없으면 수업을 들을 수 없기 때문에 체육복을 적절히 빌려 최대한 많은 학생이 체육수업을 들어야 합니다.\n",
    "\n",
    "전체 학생의 수 n, 체육복을 도난당한 학생들의 번호가 담긴 배열 lost, 여벌의 체육복을 가져온 학생들의 번호가 담긴 배열 reserve가 매개변수로 주어질 때, 체육수업을 들을 수 있는 학생의 최댓값을 return 하도록 solution 함수를 작성해주세요.\n",
    "\n",
    "### 제한사항\n",
    "전체 학생의 수는 2명 이상 30명 이하입니다.\n",
    "\n",
    "체육복을 도난당한 학생의 수는 1명 이상 n명 이하이고 중복되는 번호는 없습니다.\n",
    "\n",
    "여벌의 체육복을 가져온 학생의 수는 1명 이상 n명 이하이고 중복되는 번호는 없습니다.\n",
    "\n",
    "여벌 체육복이 있는 학생만 다른 학생에게 체육복을 빌려줄 수 있습니다.\n",
    "\n",
    "여벌 체육복을 가져온 학생이 체육복을 도난당했을 수 있습니다. 이때 이 학생은 체육복을 하나만 도난당했다고 가정하며, 남은 체육복이 \n",
    "하나이기에 다른 학생에게는 체육복을 빌려줄 수 없습니다.\n",
    "\n",
    "### 입출력 예\n",
    "n\tlost\treserve\treturn\n",
    "\n",
    "5\t[2, 4]\t[1, 3, 5]\t5\n",
    "\n",
    "5\t[2, 4]\t[3]\t4\n",
    "\n",
    "3\t[3]\t[1]\t2\n",
    "#### 입출력 예 설명\n",
    "예제 #1\n",
    "1번 학생이 2번 학생에게 체육복을 빌려주고, 3번 학생이나 5번 학생이 4번 학생에게 체육복을 빌려주면 학생 5명이 체육수업을 들을 수 있습니다.\n",
    "\n",
    "예제 #2\n",
    "3번 학생이 2번 학생이나 4번 학생에게 체육복을 빌려주면 학생 4명이 체육수업을 들을 수 있습니다."
   ]
  },
  {
   "cell_type": "code",
   "execution_count": 1,
   "id": "4c8cabc0",
   "metadata": {
    "ExecuteTime": {
     "end_time": "2023-01-26T08:20:52.080594Z",
     "start_time": "2023-01-26T08:20:51.773741Z"
    }
   },
   "outputs": [
    {
     "name": "stdout",
     "output_type": "stream",
     "text": [
      "[3] [2, 4]\n",
      "[3] [2, 4]\n"
     ]
    },
    {
     "ename": "TypeError",
     "evalue": "'>' not supported between instances of 'NoneType' and 'int'",
     "output_type": "error",
     "traceback": [
      "\u001b[1;31m---------------------------------------------------------------------------\u001b[0m",
      "\u001b[1;31mTypeError\u001b[0m                                 Traceback (most recent call last)",
      "\u001b[1;32m~\\AppData\\Local\\Temp\\ipykernel_107400\\1331211713.py\u001b[0m in \u001b[0;36m<module>\u001b[1;34m\u001b[0m\n\u001b[0;32m     44\u001b[0m     \u001b[0mmaxCnt\u001b[0m \u001b[1;33m=\u001b[0m \u001b[0mcnt1\u001b[0m \u001b[1;32mif\u001b[0m \u001b[0mcnt1\u001b[0m \u001b[1;33m>\u001b[0m \u001b[0mcnt2\u001b[0m \u001b[1;32melse\u001b[0m \u001b[0mcnt2\u001b[0m\u001b[1;33m\u001b[0m\u001b[1;33m\u001b[0m\u001b[0m\n\u001b[0;32m     45\u001b[0m     \u001b[1;32mreturn\u001b[0m \u001b[0mmaxCnt\u001b[0m\u001b[1;33m+\u001b[0m\u001b[0mn\u001b[0m\u001b[1;33m\u001b[0m\u001b[1;33m\u001b[0m\u001b[0m\n\u001b[1;32m---> 46\u001b[1;33m \u001b[0mstartHer\u001b[0m\u001b[1;33m(\u001b[0m\u001b[1;33m)\u001b[0m\u001b[1;33m\u001b[0m\u001b[1;33m\u001b[0m\u001b[0m\n\u001b[0m",
      "\u001b[1;32m~\\AppData\\Local\\Temp\\ipykernel_107400\\1331211713.py\u001b[0m in \u001b[0;36mstartHer\u001b[1;34m()\u001b[0m\n\u001b[0;32m     42\u001b[0m     \u001b[0mcnt1\u001b[0m \u001b[1;33m=\u001b[0m \u001b[0mborrowFromSmallStudent\u001b[0m\u001b[1;33m(\u001b[0m\u001b[1;36m0\u001b[0m\u001b[1;33m,\u001b[0m \u001b[0mlostC\u001b[0m\u001b[1;33m,\u001b[0m \u001b[0mreserveC\u001b[0m\u001b[1;33m)\u001b[0m\u001b[1;33m\u001b[0m\u001b[1;33m\u001b[0m\u001b[0m\n\u001b[0;32m     43\u001b[0m     \u001b[0mcnt2\u001b[0m \u001b[1;33m=\u001b[0m \u001b[0mborrowFromBigStudent\u001b[0m\u001b[1;33m(\u001b[0m\u001b[1;36m0\u001b[0m\u001b[1;33m,\u001b[0m \u001b[0mlostC\u001b[0m\u001b[1;33m,\u001b[0m \u001b[0mreserveC\u001b[0m\u001b[1;33m)\u001b[0m\u001b[1;33m\u001b[0m\u001b[1;33m\u001b[0m\u001b[0m\n\u001b[1;32m---> 44\u001b[1;33m     \u001b[0mmaxCnt\u001b[0m \u001b[1;33m=\u001b[0m \u001b[0mcnt1\u001b[0m \u001b[1;32mif\u001b[0m \u001b[0mcnt1\u001b[0m \u001b[1;33m>\u001b[0m \u001b[0mcnt2\u001b[0m \u001b[1;32melse\u001b[0m \u001b[0mcnt2\u001b[0m\u001b[1;33m\u001b[0m\u001b[1;33m\u001b[0m\u001b[0m\n\u001b[0m\u001b[0;32m     45\u001b[0m     \u001b[1;32mreturn\u001b[0m \u001b[0mmaxCnt\u001b[0m\u001b[1;33m+\u001b[0m\u001b[0mn\u001b[0m\u001b[1;33m\u001b[0m\u001b[1;33m\u001b[0m\u001b[0m\n\u001b[0;32m     46\u001b[0m \u001b[0mstartHer\u001b[0m\u001b[1;33m(\u001b[0m\u001b[1;33m)\u001b[0m\u001b[1;33m\u001b[0m\u001b[1;33m\u001b[0m\u001b[0m\n",
      "\u001b[1;31mTypeError\u001b[0m: '>' not supported between instances of 'NoneType' and 'int'"
     ]
    }
   ],
   "source": [
    "def borrowFromSmallStudent(n, lost, reserve):\n",
    "    print(reserve, lost)\n",
    "    if len(lost)==0 or len(reserve)==0 : return n\n",
    "    if reserve[0] == (lost[0] - 1):\n",
    "        reserve.pop(0)\n",
    "        lost.pop(0)\n",
    "        n += 1\n",
    "        num1 = borrowFromSmallStudent(n, lost[:], reserve[:])\n",
    "        print('*******',reserve, lost, \" : \",'********')\n",
    "        num2 = borrowFromBigStudent(n, lost, reserve)\n",
    "        maxNum = num1 if num1 > num2 else num2\n",
    "        return maxNum\n",
    "    elif reserve[0] < (lost[0] - 1):\n",
    "        reserve.pop(0)\n",
    "        return borrowFromSmallStudent(n, lost, reserve)\n",
    "\n",
    "def borrowFromBigStudent(n, lost, reserve):\n",
    "    print(reserve, lost)\n",
    "    if len(lost)==0 or len(reserve)<=1 : return n\n",
    "    reserve.pop(0)\n",
    "    if reserve[0] == (lost[0] + 1):\n",
    "        reserve.pop(0)\n",
    "        lost.pop(0)\n",
    "        n += 1\n",
    "        num1 = borrowFromSmallStudent(n, lost, reserve)\n",
    "        print('*******',reserve, lost, \" : \",'********')\n",
    "        num2 = borrowFromBigStudent(n, lost, reserve)\n",
    "        maxNum = num1 if num1 > num2 else num2\n",
    "        return maxNum\n",
    "    elif reserve[0] < (lost[0] - 1):\n",
    "        reserve.pop(0)\n",
    "        return borrowFromSmallStudent(n, lost, reserve)\n",
    "\n",
    "def startHer() :\n",
    "    n = 5\n",
    "    lost = [2, 4]\n",
    "    reserve = [3]\n",
    "    answer = 0\n",
    "    lostC = [i for i in lost if (i not in reserve)]\n",
    "    reserveC = [i for i in reserve if (i not in lost)]\n",
    "    n -= len(lostC)\n",
    "    cnt1 = borrowFromSmallStudent(0, lostC, reserveC)\n",
    "    cnt2 = borrowFromBigStudent(0, lostC, reserveC)\n",
    "    maxCnt = cnt1 if cnt1 > cnt2 else cnt2\n",
    "    return maxCnt+n\n",
    "startHer()"
   ]
  },
  {
   "cell_type": "markdown",
   "id": "c0a529f6",
   "metadata": {},
   "source": [
    "# 2번째 트라이"
   ]
  },
  {
   "cell_type": "code",
   "execution_count": 22,
   "id": "8a9445b1",
   "metadata": {
    "ExecuteTime": {
     "end_time": "2023-01-26T08:58:12.943029Z",
     "start_time": "2023-01-26T08:58:12.930591Z"
    }
   },
   "outputs": [],
   "source": [
    "def startHer() :\n",
    "    n = 5\n",
    "    lost = [4,2]\n",
    "    reserve = [3,5]\n",
    "    answer = 0\n",
    "    lostC = sorted([i for i in lost if (i not in reserve)])  #자기꺼는 잃어버리고 여분은 가져온 사람 제외\n",
    "    reserveC = sorted([i for i in reserve if (i not in lost)]) #자기꺼는 잃어버리고 여분은 가져온 사람 제외\n",
    "    n -= len(lostC) #전체 인원에서 순수 안가져온 사람 수 빼기(자기 자신의 체육복 있는 사람 수)\n",
    "    reserveIndex=0\n",
    "    lostIndex=0\n",
    "    while True:\n",
    "        print(lostC, reserveC)\n",
    "        if(lostIndex==len(lostC)) or (reserveIndex==len(reserveC)) : break\n",
    "        num = lostC[lostIndex]\n",
    "        if(num-1) in reserveC :\n",
    "            lostC.remove(num)\n",
    "            reserveC.remove(num-1)\n",
    "            n+=1\n",
    "        elif (num+1) in reserveC:\n",
    "            lostC.remove(num)\n",
    "            reserveC.remove(num+1)\n",
    "            n+=1\n",
    "        else :\n",
    "            lostIndex+=1    \n",
    "    return n\n"
   ]
  },
  {
   "cell_type": "code",
   "execution_count": 23,
   "id": "05f51a46",
   "metadata": {
    "ExecuteTime": {
     "end_time": "2023-01-26T08:58:13.214944Z",
     "start_time": "2023-01-26T08:58:13.195509Z"
    }
   },
   "outputs": [
    {
     "ename": "TypeError",
     "evalue": "object of type 'NoneType' has no len()",
     "output_type": "error",
     "traceback": [
      "\u001b[1;31m---------------------------------------------------------------------------\u001b[0m",
      "\u001b[1;31mTypeError\u001b[0m                                 Traceback (most recent call last)",
      "\u001b[1;32m~\\AppData\\Local\\Temp\\ipykernel_107400\\1222834130.py\u001b[0m in \u001b[0;36m<module>\u001b[1;34m\u001b[0m\n\u001b[1;32m----> 1\u001b[1;33m \u001b[0mstartHer\u001b[0m\u001b[1;33m(\u001b[0m\u001b[1;33m)\u001b[0m\u001b[1;33m\u001b[0m\u001b[1;33m\u001b[0m\u001b[0m\n\u001b[0m",
      "\u001b[1;32m~\\AppData\\Local\\Temp\\ipykernel_107400\\2580918051.py\u001b[0m in \u001b[0;36mstartHer\u001b[1;34m()\u001b[0m\n\u001b[0;32m      6\u001b[0m     \u001b[0mlostC\u001b[0m \u001b[1;33m=\u001b[0m \u001b[1;33m[\u001b[0m\u001b[0mi\u001b[0m \u001b[1;32mfor\u001b[0m \u001b[0mi\u001b[0m \u001b[1;32min\u001b[0m \u001b[0mlost\u001b[0m \u001b[1;32mif\u001b[0m \u001b[1;33m(\u001b[0m\u001b[0mi\u001b[0m \u001b[1;32mnot\u001b[0m \u001b[1;32min\u001b[0m \u001b[0mreserve\u001b[0m\u001b[1;33m)\u001b[0m\u001b[1;33m]\u001b[0m\u001b[1;33m.\u001b[0m\u001b[0msort\u001b[0m\u001b[1;33m(\u001b[0m\u001b[1;33m)\u001b[0m  \u001b[1;31m#자기꺼는 잃어버리고 여분은 가져온 사람 제외\u001b[0m\u001b[1;33m\u001b[0m\u001b[1;33m\u001b[0m\u001b[0m\n\u001b[0;32m      7\u001b[0m     \u001b[0mreserveC\u001b[0m \u001b[1;33m=\u001b[0m \u001b[1;33m[\u001b[0m\u001b[0mi\u001b[0m \u001b[1;32mfor\u001b[0m \u001b[0mi\u001b[0m \u001b[1;32min\u001b[0m \u001b[0mreserve\u001b[0m \u001b[1;32mif\u001b[0m \u001b[1;33m(\u001b[0m\u001b[0mi\u001b[0m \u001b[1;32mnot\u001b[0m \u001b[1;32min\u001b[0m \u001b[0mlost\u001b[0m\u001b[1;33m)\u001b[0m\u001b[1;33m]\u001b[0m\u001b[1;33m.\u001b[0m\u001b[0msort\u001b[0m\u001b[1;33m(\u001b[0m\u001b[1;33m)\u001b[0m \u001b[1;31m#자기꺼는 잃어버리고 여분은 가져온 사람 제외\u001b[0m\u001b[1;33m\u001b[0m\u001b[1;33m\u001b[0m\u001b[0m\n\u001b[1;32m----> 8\u001b[1;33m     \u001b[0mn\u001b[0m \u001b[1;33m-=\u001b[0m \u001b[0mlen\u001b[0m\u001b[1;33m(\u001b[0m\u001b[0mlostC\u001b[0m\u001b[1;33m)\u001b[0m \u001b[1;31m#전체 인원에서 순수 안가져온 사람 수 빼기(자기 자신의 체육복 있는 사람 수)\u001b[0m\u001b[1;33m\u001b[0m\u001b[1;33m\u001b[0m\u001b[0m\n\u001b[0m\u001b[0;32m      9\u001b[0m     \u001b[0mreserveIndex\u001b[0m\u001b[1;33m=\u001b[0m\u001b[1;36m0\u001b[0m\u001b[1;33m\u001b[0m\u001b[1;33m\u001b[0m\u001b[0m\n\u001b[0;32m     10\u001b[0m     \u001b[0mlostIndex\u001b[0m\u001b[1;33m=\u001b[0m\u001b[1;36m0\u001b[0m\u001b[1;33m\u001b[0m\u001b[1;33m\u001b[0m\u001b[0m\n",
      "\u001b[1;31mTypeError\u001b[0m: object of type 'NoneType' has no len()"
     ]
    }
   ],
   "source": [
    "startHer()"
   ]
  },
  {
   "cell_type": "code",
   "execution_count": null,
   "id": "439dac79",
   "metadata": {},
   "outputs": [],
   "source": []
  }
 ],
 "metadata": {
  "kernelspec": {
   "display_name": "Python 3 (ipykernel)",
   "language": "python",
   "name": "python3"
  },
  "language_info": {
   "codemirror_mode": {
    "name": "ipython",
    "version": 3
   },
   "file_extension": ".py",
   "mimetype": "text/x-python",
   "name": "python",
   "nbconvert_exporter": "python",
   "pygments_lexer": "ipython3",
   "version": "3.9.13"
  },
  "toc": {
   "base_numbering": 1,
   "nav_menu": {},
   "number_sections": true,
   "sideBar": true,
   "skip_h1_title": false,
   "title_cell": "Table of Contents",
   "title_sidebar": "Contents",
   "toc_cell": false,
   "toc_position": {},
   "toc_section_display": true,
   "toc_window_display": false
  },
  "varInspector": {
   "cols": {
    "lenName": 16,
    "lenType": 16,
    "lenVar": 40
   },
   "kernels_config": {
    "python": {
     "delete_cmd_postfix": "",
     "delete_cmd_prefix": "del ",
     "library": "var_list.py",
     "varRefreshCmd": "print(var_dic_list())"
    },
    "r": {
     "delete_cmd_postfix": ") ",
     "delete_cmd_prefix": "rm(",
     "library": "var_list.r",
     "varRefreshCmd": "cat(var_dic_list()) "
    }
   },
   "types_to_exclude": [
    "module",
    "function",
    "builtin_function_or_method",
    "instance",
    "_Feature"
   ],
   "window_display": false
  }
 },
 "nbformat": 4,
 "nbformat_minor": 5
}
