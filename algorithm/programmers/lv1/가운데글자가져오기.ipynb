{
 "cells": [
  {
   "cell_type": "markdown",
   "id": "08611ebe",
   "metadata": {},
   "source": [
    "# 가운데 글자 가져오기\n",
    "* programmers https://school.programmers.co.kr/learn/courses/30/lessons/12903\n",
    "\n",
    "## 문제 설명\n",
    "단어 s의 가운데 글자를 반환하는 함수, solution을 만들어 보세요. 단어의 길이가 짝수라면 가운데 두글자를 반환하면 됩니다.\n",
    "### 재한사항\n",
    "s는 길이가 1 이상, 100이하인 스트링입니다.\n",
    "### 입출력 예\n",
    "s\treturn\n",
    "\n",
    "\"abcde\"\t\"c\"\n",
    "\n",
    "\"qwer\"\t\"we\""
   ]
  },
  {
   "cell_type": "code",
   "execution_count": 3,
   "id": "3c95eee1",
   "metadata": {
    "ExecuteTime": {
     "end_time": "2023-01-18T11:36:06.772206Z",
     "start_time": "2023-01-18T11:36:06.765205Z"
    }
   },
   "outputs": [],
   "source": [
    "def solution(s):\n",
    "    return  s[len(s)//2-1:len(s)//2+1] if len(s)%2==0 else s[len(s)//2]"
   ]
  },
  {
   "cell_type": "code",
   "execution_count": null,
   "id": "9a4d0ccc",
   "metadata": {},
   "outputs": [],
   "source": []
  }
 ],
 "metadata": {
  "kernelspec": {
   "display_name": "Python 3 (ipykernel)",
   "language": "python",
   "name": "python3"
  },
  "language_info": {
   "codemirror_mode": {
    "name": "ipython",
    "version": 3
   },
   "file_extension": ".py",
   "mimetype": "text/x-python",
   "name": "python",
   "nbconvert_exporter": "python",
   "pygments_lexer": "ipython3",
   "version": "3.9.13"
  },
  "toc": {
   "base_numbering": 1,
   "nav_menu": {},
   "number_sections": true,
   "sideBar": true,
   "skip_h1_title": false,
   "title_cell": "Table of Contents",
   "title_sidebar": "Contents",
   "toc_cell": false,
   "toc_position": {},
   "toc_section_display": true,
   "toc_window_display": false
  },
  "varInspector": {
   "cols": {
    "lenName": 16,
    "lenType": 16,
    "lenVar": 40
   },
   "kernels_config": {
    "python": {
     "delete_cmd_postfix": "",
     "delete_cmd_prefix": "del ",
     "library": "var_list.py",
     "varRefreshCmd": "print(var_dic_list())"
    },
    "r": {
     "delete_cmd_postfix": ") ",
     "delete_cmd_prefix": "rm(",
     "library": "var_list.r",
     "varRefreshCmd": "cat(var_dic_list()) "
    }
   },
   "types_to_exclude": [
    "module",
    "function",
    "builtin_function_or_method",
    "instance",
    "_Feature"
   ],
   "window_display": false
  }
 },
 "nbformat": 4,
 "nbformat_minor": 5
}
