{
 "cells": [
  {
   "cell_type": "markdown",
   "id": "ea270fcb",
   "metadata": {},
   "source": [
    "# 두 정수 사이 합\n",
    "* programmers https://school.programmers.co.kr/learn/courses/30/lessons/12912\n",
    "\n",
    "## 문제 설명\n",
    "두 정수 a, b가 주어졌을 때 a와 b 사이에 속한 모든 정수의 합을 리턴하는 함수, solution을 완성하세요.\n",
    "예를 들어 a = 3, b = 5인 경우, 3 + 4 + 5 = 12이므로 12를 리턴합니다.\n",
    "\n",
    "### 제한 조건\n",
    "a와 b가 같은 경우는 둘 중 아무 수나 리턴하세요.\n",
    "a와 b는 -10,000,000 이상 10,000,000 이하인 정수입니다.\n",
    "a와 b의 대소관계는 정해져있지 않습니다.\n",
    "### 입출력 예\n",
    "a\tb\treturn\n",
    "\n",
    "3\t5\t12\n",
    "\n",
    "3\t3\t3\n",
    "\n",
    "5\t3\t12"
   ]
  },
  {
   "cell_type": "code",
   "execution_count": 10,
   "id": "7b271790",
   "metadata": {
    "ExecuteTime": {
     "end_time": "2023-01-18T10:29:35.200623Z",
     "start_time": "2023-01-18T10:29:35.192621Z"
    }
   },
   "outputs": [],
   "source": [
    "def solution(a, b):\n",
    "    answer = 0\n",
    "    if a>b:\n",
    "        a , b = b , a\n",
    "    for i in range(a, b+1):\n",
    "        answer += i\n",
    "    return answer"
   ]
  },
  {
   "cell_type": "code",
   "execution_count": 11,
   "id": "dde5d79b",
   "metadata": {
    "ExecuteTime": {
     "end_time": "2023-01-18T10:30:09.262502Z",
     "start_time": "2023-01-18T10:30:08.026016Z"
    }
   },
   "outputs": [
    {
     "name": "stdout",
     "output_type": "stream",
     "text": [
      "1 4\n",
      "10\n"
     ]
    }
   ],
   "source": [
    "a, b = map(int, input().split())\n",
    "print(solution(a, b))"
   ]
  }
 ],
 "metadata": {
  "kernelspec": {
   "display_name": "Python 3 (ipykernel)",
   "language": "python",
   "name": "python3"
  },
  "language_info": {
   "codemirror_mode": {
    "name": "ipython",
    "version": 3
   },
   "file_extension": ".py",
   "mimetype": "text/x-python",
   "name": "python",
   "nbconvert_exporter": "python",
   "pygments_lexer": "ipython3",
   "version": "3.9.13"
  },
  "toc": {
   "base_numbering": 1,
   "nav_menu": {},
   "number_sections": true,
   "sideBar": true,
   "skip_h1_title": false,
   "title_cell": "Table of Contents",
   "title_sidebar": "Contents",
   "toc_cell": false,
   "toc_position": {},
   "toc_section_display": true,
   "toc_window_display": false
  },
  "varInspector": {
   "cols": {
    "lenName": 16,
    "lenType": 16,
    "lenVar": 40
   },
   "kernels_config": {
    "python": {
     "delete_cmd_postfix": "",
     "delete_cmd_prefix": "del ",
     "library": "var_list.py",
     "varRefreshCmd": "print(var_dic_list())"
    },
    "r": {
     "delete_cmd_postfix": ") ",
     "delete_cmd_prefix": "rm(",
     "library": "var_list.r",
     "varRefreshCmd": "cat(var_dic_list()) "
    }
   },
   "types_to_exclude": [
    "module",
    "function",
    "builtin_function_or_method",
    "instance",
    "_Feature"
   ],
   "window_display": false
  }
 },
 "nbformat": 4,
 "nbformat_minor": 5
}
