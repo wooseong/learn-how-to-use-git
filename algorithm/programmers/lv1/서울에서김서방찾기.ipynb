{
 "cells": [
  {
   "cell_type": "markdown",
   "id": "1b159c62",
   "metadata": {},
   "source": [
    "# 서울에서 김서방 찾기\n",
    "* programmers https://school.programmers.co.kr/learn/courses/30/lessons/12919\n",
    "\n",
    "## 문제 설명\n",
    "String형 배열 seoul의 element중 \"Kim\"의 위치 x를 찾아, \"김서방은 x에 있다\"는 String을 반환하는 함수, solution을 완성하세요. seoul에 \"Kim\"은 오직 한 번만 나타나며 잘못된 값이 입력되는 경우는 없습니다.\n",
    "\n",
    "### 제한 사항\n",
    "seoul은 길이 1 이상, 1000 이하인 배열입니다.\n",
    "seoul의 원소는 길이 1 이상, 20 이하인 문자열입니다.\n",
    "\"Kim\"은 반드시 seoul 안에 포함되어 있습니다.\n",
    "### 입출력 예\n",
    "seoul\treturn\n",
    "\n",
    "[\"Jane\", \"Kim\"]\t\"김서방은 1에 있다\""
   ]
  },
  {
   "cell_type": "code",
   "execution_count": 1,
   "id": "e649339d",
   "metadata": {
    "ExecuteTime": {
     "end_time": "2023-01-18T10:43:56.067107Z",
     "start_time": "2023-01-18T10:43:56.051103Z"
    }
   },
   "outputs": [],
   "source": [
    "def solution(seoul):\n",
    "    answer = ''\n",
    "    for i in range(len(seoul)):\n",
    "        if seoul[i] == \"Kim\" :\n",
    "            answer = f\"김서방은 {i}에 있다\"\n",
    "            break\n",
    "    return answer"
   ]
  },
  {
   "cell_type": "code",
   "execution_count": null,
   "id": "bdc9b287",
   "metadata": {},
   "outputs": [],
   "source": [
    "def solution(seoul):\n",
    "    return f\"김서방은 {seoul.index('Kim')}에 있다\""
   ]
  }
 ],
 "metadata": {
  "kernelspec": {
   "display_name": "Python 3 (ipykernel)",
   "language": "python",
   "name": "python3"
  },
  "language_info": {
   "codemirror_mode": {
    "name": "ipython",
    "version": 3
   },
   "file_extension": ".py",
   "mimetype": "text/x-python",
   "name": "python",
   "nbconvert_exporter": "python",
   "pygments_lexer": "ipython3",
   "version": "3.9.13"
  },
  "toc": {
   "base_numbering": 1,
   "nav_menu": {},
   "number_sections": true,
   "sideBar": true,
   "skip_h1_title": false,
   "title_cell": "Table of Contents",
   "title_sidebar": "Contents",
   "toc_cell": false,
   "toc_position": {},
   "toc_section_display": true,
   "toc_window_display": false
  },
  "varInspector": {
   "cols": {
    "lenName": 16,
    "lenType": 16,
    "lenVar": 40
   },
   "kernels_config": {
    "python": {
     "delete_cmd_postfix": "",
     "delete_cmd_prefix": "del ",
     "library": "var_list.py",
     "varRefreshCmd": "print(var_dic_list())"
    },
    "r": {
     "delete_cmd_postfix": ") ",
     "delete_cmd_prefix": "rm(",
     "library": "var_list.r",
     "varRefreshCmd": "cat(var_dic_list()) "
    }
   },
   "types_to_exclude": [
    "module",
    "function",
    "builtin_function_or_method",
    "instance",
    "_Feature"
   ],
   "window_display": false
  }
 },
 "nbformat": 4,
 "nbformat_minor": 5
}
