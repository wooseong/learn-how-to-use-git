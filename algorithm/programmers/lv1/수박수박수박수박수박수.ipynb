{
 "cells": [
  {
   "cell_type": "markdown",
   "id": "5cb7381c",
   "metadata": {},
   "source": [
    "# 수박수박수박수박수박수?\n",
    "* programmers https://school.programmers.co.kr/learn/courses/30/lessons/12922\n",
    "\n",
    "## 문제 설명\n",
    "길이가 n이고, \"수박수박수박수....\"와 같은 패턴을 유지하는 문자열을 리턴하는 함수, solution을 완성하세요. 예를들어 n이 4이면 \"수박수박\"을 리턴하고 3이라면 \"수박수\"를 리턴하면 됩니다.\n",
    "\n",
    "### 제한 조건\n",
    "n은 길이 10,000이하인 자연수입니다.\n",
    "### 입출력 예\n",
    "n\treturn\n",
    "\n",
    "3\t\"수박수\"\n",
    "\n",
    "4\t\"수박수박\""
   ]
  },
  {
   "cell_type": "code",
   "execution_count": 2,
   "id": "c3c8a5bc",
   "metadata": {
    "ExecuteTime": {
     "end_time": "2023-01-18T10:38:37.534890Z",
     "start_time": "2023-01-18T10:38:37.520887Z"
    }
   },
   "outputs": [],
   "source": [
    "def solution(n):\n",
    "    answer = ''\n",
    "    for i in range(n):\n",
    "        if i%2==0:\n",
    "            answer+=('수')\n",
    "        else :\n",
    "            answer+=('박')\n",
    "    return answer"
   ]
  },
  {
   "cell_type": "code",
   "execution_count": 3,
   "id": "cf2f65e6",
   "metadata": {
    "ExecuteTime": {
     "end_time": "2023-01-18T10:38:38.872443Z",
     "start_time": "2023-01-18T10:38:37.916410Z"
    }
   },
   "outputs": [
    {
     "name": "stdout",
     "output_type": "stream",
     "text": [
      "4\n",
      "수박수박\n"
     ]
    }
   ],
   "source": [
    "n = int(input())\n",
    "print(solution(n))"
   ]
  },
  {
   "cell_type": "code",
   "execution_count": null,
   "id": "6ca43705",
   "metadata": {},
   "outputs": [],
   "source": []
  }
 ],
 "metadata": {
  "kernelspec": {
   "display_name": "Python 3 (ipykernel)",
   "language": "python",
   "name": "python3"
  },
  "language_info": {
   "codemirror_mode": {
    "name": "ipython",
    "version": 3
   },
   "file_extension": ".py",
   "mimetype": "text/x-python",
   "name": "python",
   "nbconvert_exporter": "python",
   "pygments_lexer": "ipython3",
   "version": "3.9.13"
  },
  "toc": {
   "base_numbering": 1,
   "nav_menu": {},
   "number_sections": true,
   "sideBar": true,
   "skip_h1_title": false,
   "title_cell": "Table of Contents",
   "title_sidebar": "Contents",
   "toc_cell": false,
   "toc_position": {},
   "toc_section_display": true,
   "toc_window_display": false
  },
  "varInspector": {
   "cols": {
    "lenName": 16,
    "lenType": 16,
    "lenVar": 40
   },
   "kernels_config": {
    "python": {
     "delete_cmd_postfix": "",
     "delete_cmd_prefix": "del ",
     "library": "var_list.py",
     "varRefreshCmd": "print(var_dic_list())"
    },
    "r": {
     "delete_cmd_postfix": ") ",
     "delete_cmd_prefix": "rm(",
     "library": "var_list.r",
     "varRefreshCmd": "cat(var_dic_list()) "
    }
   },
   "types_to_exclude": [
    "module",
    "function",
    "builtin_function_or_method",
    "instance",
    "_Feature"
   ],
   "window_display": false
  }
 },
 "nbformat": 4,
 "nbformat_minor": 5
}
