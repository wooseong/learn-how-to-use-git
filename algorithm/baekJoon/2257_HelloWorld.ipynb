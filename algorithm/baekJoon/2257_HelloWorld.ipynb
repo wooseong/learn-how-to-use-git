{
 "cells": [
  {
   "cell_type": "markdown",
   "id": "afbce240",
   "metadata": {},
   "source": [
    "# Hello World\n",
    "* BaekJoon 2257 https://www.acmicpc.net/problem/2557\n",
    "\n",
    "## 문제\n",
    "Hello World!를 출력하시오.\n",
    "\n",
    "### 입력\n",
    "없음\n",
    "\n",
    "### 출력\n",
    "Hello World!를 출력하시오."
   ]
  },
  {
   "cell_type": "code",
   "execution_count": 1,
   "id": "2a393f0b",
   "metadata": {
    "ExecuteTime": {
     "end_time": "2023-01-18T08:31:23.800622Z",
     "start_time": "2023-01-18T08:31:23.793621Z"
    }
   },
   "outputs": [
    {
     "name": "stdout",
     "output_type": "stream",
     "text": [
      "Hello World!\n"
     ]
    }
   ],
   "source": [
    "print(\"Hello World!\")"
   ]
  }
 ],
 "metadata": {
  "kernelspec": {
   "display_name": "Python 3 (ipykernel)",
   "language": "python",
   "name": "python3"
  },
  "language_info": {
   "codemirror_mode": {
    "name": "ipython",
    "version": 3
   },
   "file_extension": ".py",
   "mimetype": "text/x-python",
   "name": "python",
   "nbconvert_exporter": "python",
   "pygments_lexer": "ipython3",
   "version": "3.9.13"
  },
  "toc": {
   "base_numbering": 1,
   "nav_menu": {},
   "number_sections": true,
   "sideBar": true,
   "skip_h1_title": false,
   "title_cell": "Table of Contents",
   "title_sidebar": "Contents",
   "toc_cell": false,
   "toc_position": {},
   "toc_section_display": true,
   "toc_window_display": false
  },
  "varInspector": {
   "cols": {
    "lenName": 16,
    "lenType": 16,
    "lenVar": 40
   },
   "kernels_config": {
    "python": {
     "delete_cmd_postfix": "",
     "delete_cmd_prefix": "del ",
     "library": "var_list.py",
     "varRefreshCmd": "print(var_dic_list())"
    },
    "r": {
     "delete_cmd_postfix": ") ",
     "delete_cmd_prefix": "rm(",
     "library": "var_list.r",
     "varRefreshCmd": "cat(var_dic_list()) "
    }
   },
   "types_to_exclude": [
    "module",
    "function",
    "builtin_function_or_method",
    "instance",
    "_Feature"
   ],
   "window_display": false
  }
 },
 "nbformat": 4,
 "nbformat_minor": 5
}
