{
 "cells": [
  {
   "cell_type": "code",
   "execution_count": 1,
   "id": "2e06dfb6",
   "metadata": {
    "ExecuteTime": {
     "end_time": "2023-02-09T06:41:21.335423Z",
     "start_time": "2023-02-09T06:41:21.328665Z"
    }
   },
   "outputs": [
    {
     "name": "stdout",
     "output_type": "stream",
     "text": [
      "['1', '2', '3', '4', '5', '6', '7', '8', '9', '10']\n"
     ]
    }
   ],
   "source": [
    "class Queue(list):\n",
    "    put = list.append\n",
    "    def peek(self):\n",
    "        return self[0]\n",
    "    def get(self):\n",
    "        return self.pop(0)\n",
    "\n",
    "queue = Queue([str(i+1) for i in range(10)])\n",
    "print(queue)"
   ]
  },
  {
   "cell_type": "code",
   "execution_count": 2,
   "id": "6c172759",
   "metadata": {
    "ExecuteTime": {
     "end_time": "2023-02-09T06:41:28.118237Z",
     "start_time": "2023-02-09T06:41:28.098505Z"
    }
   },
   "outputs": [
    {
     "data": {
      "text/plain": [
       "['1', '2', '3', '4', '5', '6', '7', '8', '9', '10']"
      ]
     },
     "execution_count": 2,
     "metadata": {},
     "output_type": "execute_result"
    }
   ],
   "source": [
    "queue"
   ]
  },
  {
   "cell_type": "code",
   "execution_count": 8,
   "id": "24a52632",
   "metadata": {
    "ExecuteTime": {
     "end_time": "2023-02-09T10:02:38.542047Z",
     "start_time": "2023-02-09T10:02:38.519531Z"
    }
   },
   "outputs": [
    {
     "ename": "NameError",
     "evalue": "name 'queu' is not defined",
     "output_type": "error",
     "traceback": [
      "\u001b[1;31m---------------------------------------------------------------------------\u001b[0m",
      "\u001b[1;31mNameError\u001b[0m                                 Traceback (most recent call last)",
      "\u001b[1;32m~\\AppData\\Local\\Temp\\ipykernel_72780\\394501795.py\u001b[0m in \u001b[0;36m<module>\u001b[1;34m\u001b[0m\n\u001b[1;32m----> 1\u001b[1;33m \u001b[0mtype\u001b[0m\u001b[1;33m(\u001b[0m\u001b[0mqueu\u001b[0m\u001b[1;33m)\u001b[0m\u001b[1;33m\u001b[0m\u001b[1;33m\u001b[0m\u001b[0m\n\u001b[0m",
      "\u001b[1;31mNameError\u001b[0m: name 'queu' is not defined"
     ]
    }
   ],
   "source": [
    "type(queu)"
   ]
  },
  {
   "cell_type": "code",
   "execution_count": 6,
   "id": "4dfc448d",
   "metadata": {
    "ExecuteTime": {
     "end_time": "2023-02-09T09:54:28.860552Z",
     "start_time": "2023-02-09T09:54:28.853554Z"
    }
   },
   "outputs": [],
   "source": [
    "?list"
   ]
  },
  {
   "cell_type": "code",
   "execution_count": 5,
   "id": "ec8a49c8",
   "metadata": {
    "ExecuteTime": {
     "end_time": "2023-02-09T06:42:23.335488Z",
     "start_time": "2023-02-09T06:42:23.330241Z"
    }
   },
   "outputs": [
    {
     "data": {
      "text/plain": [
       "['1', '2', '3', '4', '5', '6', '7', '8', '9', '10']"
      ]
     },
     "execution_count": 5,
     "metadata": {},
     "output_type": "execute_result"
    }
   ],
   "source": [
    "list([str(i+1) for i in range(10)])"
   ]
  },
  {
   "cell_type": "code",
   "execution_count": null,
   "id": "0a1ed4bc",
   "metadata": {},
   "outputs": [],
   "source": [
    "# Stack class를 선언한다.\n",
    "class Stack:\n",
    "    mylist=[]\n",
    "    def push(self):\n",
    "    \n",
    "    def peek(self):\n",
    "        return self[-1]"
   ]
  },
  {
   "cell_type": "code",
   "execution_count": null,
   "id": "0b69271c",
   "metadata": {},
   "outputs": [],
   "source": [
    "class deQueue:\n",
    "    myList=[]\n",
    "    front=0\n",
    "    rear=0\n",
    "    \n",
    "    def reverse():\n",
    "        front, rear= rear, front\n",
    "    \n",
    "    \n",
    "    [a :b :c ]\n",
    "    \n",
    "    \n",
    "    \n",
    "    def init_front(): #0~9\n",
    "        front%=10\n",
    "    def append():\n",
    "        rear+=1\n",
    "    def pop():\n",
    "        front+=1\n",
    "        \n",
    "    def peek(self):\n",
    "        return self[0]\n",
    "    def get(self):\n",
    "        return self.pop(0)"
   ]
  },
  {
   "cell_type": "code",
   "execution_count": null,
   "id": "8707d335",
   "metadata": {},
   "outputs": [],
   "source": [
    "# 전체 사람의 수 N을 입력받는다.\n",
    "N = int(input())\n",
    "\n",
    "# 사람의 몸무게와 키 정보를 입력할 list를 만든다.\n",
    "human = []\n",
    "\n",
    "# 등수를 담을 list를 만든다.\n",
    "rank = []\n",
    "\n",
    "# 각 사람의 몸무게와 키를 입력받는다.\n",
    "for _ in range(N):\n",
    "    human.append( list( map(int, input().split()) ) )\n",
    "\n",
    "# 몸무게가 가장 크면서 키가 가장 큰 사람은 등수가 1이다.\n",
    "for i in range(N):\n",
    "    # 자신보다 덩치가 크 사람의 수를 정의한다.\n",
    "    cnt = 0\n",
    "    for j in range(N):\n",
    "        # 자신보다 몸무게와 키가 모두 큰 사람의 수를 구한다.\n",
    "        if human[i][0] < human[j][0] and human[i][1] < human[j][1]:\n",
    "            cnt += 1\n",
    "    # 자신의 등수는 cnt + 1이다.\n",
    "    rank.append(cnt + 1)\n",
    "    \n",
    "for v in rank:\n",
    "    print(v, end = ' ')"
   ]
  }
 ],
 "metadata": {
  "kernelspec": {
   "display_name": "Python 3 (ipykernel)",
   "language": "python",
   "name": "python3"
  },
  "language_info": {
   "codemirror_mode": {
    "name": "ipython",
    "version": 3
   },
   "file_extension": ".py",
   "mimetype": "text/x-python",
   "name": "python",
   "nbconvert_exporter": "python",
   "pygments_lexer": "ipython3",
   "version": "3.9.13"
  },
  "toc": {
   "base_numbering": 1,
   "nav_menu": {},
   "number_sections": true,
   "sideBar": true,
   "skip_h1_title": false,
   "title_cell": "Table of Contents",
   "title_sidebar": "Contents",
   "toc_cell": false,
   "toc_position": {},
   "toc_section_display": true,
   "toc_window_display": false
  },
  "varInspector": {
   "cols": {
    "lenName": 16,
    "lenType": 16,
    "lenVar": 40
   },
   "kernels_config": {
    "python": {
     "delete_cmd_postfix": "",
     "delete_cmd_prefix": "del ",
     "library": "var_list.py",
     "varRefreshCmd": "print(var_dic_list())"
    },
    "r": {
     "delete_cmd_postfix": ") ",
     "delete_cmd_prefix": "rm(",
     "library": "var_list.r",
     "varRefreshCmd": "cat(var_dic_list()) "
    }
   },
   "types_to_exclude": [
    "module",
    "function",
    "builtin_function_or_method",
    "instance",
    "_Feature"
   ],
   "window_display": false
  }
 },
 "nbformat": 4,
 "nbformat_minor": 5
}
