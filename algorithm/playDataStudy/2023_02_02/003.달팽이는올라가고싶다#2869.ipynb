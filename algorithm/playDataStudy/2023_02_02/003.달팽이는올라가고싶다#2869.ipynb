{
 "cells": [
  {
   "cell_type": "markdown",
   "id": "9601234c",
   "metadata": {},
   "source": [
    "# 달팽이는 올라가고 싶다\n",
    "* BACKJOON 2869\n",
    "https://www.acmicpc.net/problem/2869\n",
    "\n",
    "## 문제\n",
    "땅 위에 달팽이가 있다. 이 달팽이는 높이가 V미터인 나무 막대를 올라갈 것이다.\n",
    "\n",
    "달팽이는 낮에 A미터 올라갈 수 있다. 하지만, 밤에 잠을 자는 동안 B미터 미끄러진다. 또, 정상에 올라간 후에는 미끄러지지 않는다.\n",
    "\n",
    "달팽이가 나무 막대를 모두 올라가려면, 며칠이 걸리는지 구하는 프로그램을 작성하시오.\n",
    "\n",
    "### 입력\n",
    "첫째 줄에 세 정수 A, B, V가 공백으로 구분되어서 주어진다. (1 ≤ B < A ≤ V ≤ 1,000,000,000)\n",
    "\n",
    "### 출력\n",
    "첫째 줄에 달팽이가 나무 막대를 모두 올라가는데 며칠이 걸리는지 출력한다."
   ]
  },
  {
   "cell_type": "code",
   "execution_count": 3,
   "id": "ce26571f",
   "metadata": {
    "ExecuteTime": {
     "end_time": "2023-02-02T08:01:58.298691Z",
     "start_time": "2023-02-02T08:01:57.790594Z"
    }
   },
   "outputs": [
    {
     "name": "stdout",
     "output_type": "stream",
     "text": [
      "100 99 1000000000\n",
      "999999901\n"
     ]
    }
   ],
   "source": [
    "a,b,v= map(int, input().split())\n",
    "day = ((v-a)/(a-b))+1\n",
    "print(int(day) if day==int(day) else int(day+1)) "
   ]
  },
  {
   "cell_type": "code",
   "execution_count": null,
   "id": "20a7583f",
   "metadata": {},
   "outputs": [],
   "source": []
  }
 ],
 "metadata": {
  "kernelspec": {
   "display_name": "Python 3 (ipykernel)",
   "language": "python",
   "name": "python3"
  },
  "language_info": {
   "codemirror_mode": {
    "name": "ipython",
    "version": 3
   },
   "file_extension": ".py",
   "mimetype": "text/x-python",
   "name": "python",
   "nbconvert_exporter": "python",
   "pygments_lexer": "ipython3",
   "version": "3.9.13"
  },
  "toc": {
   "base_numbering": 1,
   "nav_menu": {},
   "number_sections": true,
   "sideBar": true,
   "skip_h1_title": false,
   "title_cell": "Table of Contents",
   "title_sidebar": "Contents",
   "toc_cell": false,
   "toc_position": {},
   "toc_section_display": true,
   "toc_window_display": false
  },
  "varInspector": {
   "cols": {
    "lenName": 16,
    "lenType": 16,
    "lenVar": 40
   },
   "kernels_config": {
    "python": {
     "delete_cmd_postfix": "",
     "delete_cmd_prefix": "del ",
     "library": "var_list.py",
     "varRefreshCmd": "print(var_dic_list())"
    },
    "r": {
     "delete_cmd_postfix": ") ",
     "delete_cmd_prefix": "rm(",
     "library": "var_list.r",
     "varRefreshCmd": "cat(var_dic_list()) "
    }
   },
   "types_to_exclude": [
    "module",
    "function",
    "builtin_function_or_method",
    "instance",
    "_Feature"
   ],
   "window_display": false
  }
 },
 "nbformat": 4,
 "nbformat_minor": 5
}
