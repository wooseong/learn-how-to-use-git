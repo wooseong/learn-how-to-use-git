{
 "cells": [
  {
   "cell_type": "code",
   "execution_count": 26,
   "id": "06ee2032",
   "metadata": {
    "ExecuteTime": {
     "end_time": "2023-01-06T07:39:26.643041Z",
     "start_time": "2023-01-06T07:39:25.708126Z"
    }
   },
   "outputs": [
    {
     "name": "stdout",
     "output_type": "stream",
     "text": [
      "10\n",
      "10 9 8 7 6 5 4 3 2 1 0 "
     ]
    }
   ],
   "source": [
    "#2072\n",
    "\n",
    "a = int(input())\n",
    "b = list(range(a+1))\n",
    "b.sort(reverse=True)\n",
    "for i in b:\n",
    "    print(i, end = \" \")"
   ]
  },
  {
   "cell_type": "code",
   "execution_count": 46,
   "id": "1416d0d2",
   "metadata": {
    "ExecuteTime": {
     "end_time": "2023-01-06T08:10:06.262665Z",
     "start_time": "2023-01-06T08:09:49.377387Z"
    }
   },
   "outputs": [
    {
     "name": "stdout",
     "output_type": "stream",
     "text": [
      "3\n",
      "1 2 3 1 2 3 1 2 3 4\n",
      "#1 2\n",
      "1 2 3 1 2 3 1 2 3 4\n",
      "#2 2\n",
      "1 2 3 1 2 3 1 2 3 4\n",
      "#3 2\n"
     ]
    }
   ],
   "source": [
    "#2071\n",
    "\n",
    "T = int(input())\n",
    "for i in range(T):\n",
    "    case = map(int, input().split())\n",
    "    sum = 0\n",
    "    for j in case:\n",
    "        sum+=j\n",
    "    \n",
    "    print(f\"#{i+1} {round(sum/10)}\")"
   ]
  },
  {
   "cell_type": "code",
   "execution_count": 56,
   "id": "92ba803e",
   "metadata": {
    "ExecuteTime": {
     "end_time": "2023-01-06T08:15:53.147695Z",
     "start_time": "2023-01-06T08:15:50.742683Z"
    }
   },
   "outputs": [
    {
     "name": "stdout",
     "output_type": "stream",
     "text": [
      "1\n",
      "3 8\n",
      "#1 <\n"
     ]
    }
   ],
   "source": [
    "#2070\n",
    "\n",
    "T = int(input())\n",
    "for i in range(T):\n",
    "    case = list(map(int, input().split()))\n",
    "    print(f\"#{i+1} \",end=\"\")\n",
    "    if case[0]>case[1] :\n",
    "         print(\">\")\n",
    "    elif case[0]==case[1]:\n",
    "        print(\"=\")\n",
    "    else:\n",
    "        print(\"<\")\n"
   ]
  },
  {
   "cell_type": "code",
   "execution_count": 59,
   "id": "f220d6ce",
   "metadata": {
    "ExecuteTime": {
     "end_time": "2023-01-06T08:18:57.915032Z",
     "start_time": "2023-01-06T08:18:37.375382Z"
    }
   },
   "outputs": [
    {
     "name": "stdout",
     "output_type": "stream",
     "text": [
      "3\n",
      "3 17 1 39 8 41 2 32 99 2\n",
      "#1 99\n",
      "22 8 5 123 7 2 63 7 3 46\n",
      "#2 123\n",
      "6 63 2 3 58 76 21 33 8 1 \n",
      "#3 76\n"
     ]
    }
   ],
   "source": [
    "#2068\n",
    "\n",
    "T = int(input())\n",
    "for i in range(T):\n",
    "    case = map(int, input().split())\n",
    "    print(f\"#{i+1} {max(case)}\")"
   ]
  },
  {
   "cell_type": "code",
   "execution_count": 69,
   "id": "0da8e16a",
   "metadata": {
    "ExecuteTime": {
     "end_time": "2023-01-06T08:25:50.278639Z",
     "start_time": "2023-01-06T08:25:44.313988Z"
    }
   },
   "outputs": [
    {
     "name": "stdout",
     "output_type": "stream",
     "text": [
      "199\n",
      "85 72 38 80 69 65 68 96 22 49 67 51 61 63 87 66 24 80 83 71 60 64 52 90 60 49 31 23 99 94 11 25 24 51 15 13 39 67 97 19 76 12 33 99 18 92 35 74 0 95 71 39 33 39 32 37 45 57 71 95 5 71 24 86 8 51 54 74 24 75 70 33 63 29 99 59 94 52 13 35 99 46 57 71 23 17 3 94 48 77 18 83 11 83 25 59 62 2 78 86 7 94 65 80 32 39 84 60 65 72 61 58 84 8 72 12 19 47 49 49 59 71 52 34 22 21 20 92 33 80 39 74 9 28 97 100 93 29 25 4 66 79 81 98 21 91 62 82 4 59 100 34 1 51 80 92 69 77 39 38 97 51 34 35 19 22 1 67 9 90 31 82 11 51 84 78 70 74 42 100 88 53 80 57 62 32 51 48 63 92 46 4 61 31 98 69 52 88 20\n",
      "58\n"
     ]
    }
   ],
   "source": [
    "#2063\n",
    "\n",
    "T = int(input())\n",
    "case = list(map(int, input().split()))\n",
    "case.sort()\n",
    "\n",
    "print(case[T//2])\n"
   ]
  },
  {
   "cell_type": "code",
   "execution_count": 78,
   "id": "6983c8ca",
   "metadata": {
    "ExecuteTime": {
     "end_time": "2023-01-06T08:30:20.680380Z",
     "start_time": "2023-01-06T08:30:18.781004Z"
    }
   },
   "outputs": [
    {
     "name": "stdout",
     "output_type": "stream",
     "text": [
      "6789\n",
      "30\n"
     ]
    }
   ],
   "source": [
    "#2058\n",
    "\n",
    "n = list(input())\n",
    "sum=0\n",
    "for i in n :\n",
    "    sum+=int(i)\n",
    "print(sum)\n"
   ]
  },
  {
   "cell_type": "code",
   "execution_count": 106,
   "id": "d6dadf67",
   "metadata": {
    "ExecuteTime": {
     "end_time": "2023-01-06T09:04:48.163327Z",
     "start_time": "2023-01-06T09:04:43.822293Z"
    }
   },
   "outputs": [
    {
     "name": "stdout",
     "output_type": "stream",
     "text": [
      "1\n",
      "01010101\n",
      "#1 0101/01/01\n"
     ]
    }
   ],
   "source": [
    "#2056\n",
    "\n",
    "T=int(input())\n",
    "for i in range(T):\n",
    "    date = int(input())\n",
    "    year = date//10000\n",
    "    date%=10000\n",
    "    month = date//100\n",
    "    date%=100\n",
    "    day=date\n",
    "    \n",
    "    print(f\"#{i+1} \", end=\"\")\n",
    "#    print(year, month, date)\n",
    "\n",
    "    if (1<=day)and(((month in [1,3,5,7,9,11]) and (day<=31)) or\n",
    "    ((month in [4,6,8,10,12]) and (day<=30)) or\n",
    "    ((month==2) and (day<=28))) :\n",
    "#        for j in range(4-len(str(year))):\n",
    "#            print(\"0\", end=\"\")\n",
    "        print(f\"{str(year).zfill(4)}/{str(month).zfill(2)}/{str(day).zfill(2)}\")\n",
    "    else :\n",
    "        print(\"-1\")     "
   ]
  },
  {
   "cell_type": "code",
   "execution_count": 109,
   "id": "823a2948",
   "metadata": {
    "ExecuteTime": {
     "end_time": "2023-01-06T09:12:48.420303Z",
     "start_time": "2023-01-06T09:12:44.216609Z"
    }
   },
   "outputs": [
    {
     "name": "stdout",
     "output_type": "stream",
     "text": [
      "ABCD\n",
      "1 2 3 4 "
     ]
    }
   ],
   "source": [
    "#2050\n",
    "\n",
    "alp = map(str,input())\n",
    "for i in alp:\n",
    "    num = ord(i)-ord('A')+1\n",
    "    print(num, end=\" \")"
   ]
  },
  {
   "cell_type": "code",
   "execution_count": 112,
   "id": "7e7c5a99",
   "metadata": {
    "ExecuteTime": {
     "end_time": "2023-01-06T09:20:49.292390Z",
     "start_time": "2023-01-06T09:20:47.634303Z"
    }
   },
   "outputs": [
    {
     "name": "stdout",
     "output_type": "stream",
     "text": [
      "asd\n",
      "ASD\n"
     ]
    }
   ],
   "source": [
    "#2047\n",
    "\n",
    "print(str(input()).upper())"
   ]
  },
  {
   "cell_type": "code",
   "execution_count": 113,
   "id": "a5af3ff2",
   "metadata": {
    "ExecuteTime": {
     "end_time": "2023-01-06T09:21:55.649772Z",
     "start_time": "2023-01-06T09:21:54.862319Z"
    }
   },
   "outputs": [
    {
     "name": "stdout",
     "output_type": "stream",
     "text": [
      "3\n",
      "###\n"
     ]
    }
   ],
   "source": [
    "#2046\n",
    "\n",
    "n = int(input())\n",
    "print('#'*n)"
   ]
  },
  {
   "cell_type": "code",
   "execution_count": 13,
   "id": "b68df81c",
   "metadata": {
    "ExecuteTime": {
     "end_time": "2023-01-06T10:15:18.286980Z",
     "start_time": "2023-01-06T10:15:16.929859Z"
    }
   },
   "outputs": [
    {
     "name": "stdout",
     "output_type": "stream",
     "text": [
      "123 100\n",
      "24\n"
     ]
    }
   ],
   "source": [
    "#2043\n",
    "#P 000~999\n",
    "#K부터 P\n",
    "n=list(map(int,input().split()))\n",
    "print(n[0]-n[1]+1)"
   ]
  },
  {
   "cell_type": "code",
   "execution_count": 21,
   "id": "a89d1774",
   "metadata": {
    "ExecuteTime": {
     "end_time": "2023-01-06T11:38:41.151147Z",
     "start_time": "2023-01-06T11:38:32.751140Z"
    }
   },
   "outputs": [
    {
     "name": "stdout",
     "output_type": "stream",
     "text": [
      "3\n",
      "#1 9 2\n",
      "4 1\n",
      "#2 15 6\n",
      "2 3\n",
      "#3 369 15\n",
      "24 9\n"
     ]
    }
   ],
   "source": [
    "#2029\n",
    "\n",
    "T=int(input())\n",
    "for i in range(T):\n",
    "    print(f\"#{i+1} \", end=\"\")\n",
    "    a,b=list(map(int, input().split()))\n",
    "    print(f\"{a//b} {a%b}\")"
   ]
  },
  {
   "cell_type": "code",
   "execution_count": 24,
   "id": "8dbaecbf",
   "metadata": {
    "ExecuteTime": {
     "end_time": "2023-01-06T11:42:48.634885Z",
     "start_time": "2023-01-06T11:42:48.626883Z"
    }
   },
   "outputs": [
    {
     "name": "stdout",
     "output_type": "stream",
     "text": [
      "#++++\n",
      "+#+++\n",
      "++#++\n",
      "+++#+\n",
      "++++#\n"
     ]
    }
   ],
   "source": [
    "#2027\n",
    "\n",
    "print(\"#++++\\n+#+++\\n++#++\\n+++#+\\n++++#\")"
   ]
  },
  {
   "cell_type": "code",
   "execution_count": 25,
   "id": "61e762f3",
   "metadata": {
    "ExecuteTime": {
     "end_time": "2023-01-06T11:46:33.979107Z",
     "start_time": "2023-01-06T11:46:33.975108Z"
    }
   },
   "outputs": [],
   "source": [
    "#2025\n",
    "n=int(input())\n",
    "print(sum(range(n+1)))"
   ]
  },
  {
   "cell_type": "code",
   "execution_count": 6,
   "id": "49943d93",
   "metadata": {
    "ExecuteTime": {
     "end_time": "2023-01-09T07:16:05.560391Z",
     "start_time": "2023-01-09T07:16:03.865212Z"
    }
   },
   "outputs": [
    {
     "name": "stdout",
     "output_type": "stream",
     "text": [
      "8 3\n",
      "11\n",
      "5\n",
      "24\n",
      "2\n"
     ]
    }
   ],
   "source": [
    "#1938\n",
    "a,b = map(int,input().split())\n",
    "print(a+b)\n",
    "print(a-b)\n",
    "print(a*b)\n",
    "print(int(a/b))"
   ]
  },
  {
   "cell_type": "code",
   "execution_count": 7,
   "id": "2f57d86f",
   "metadata": {
    "ExecuteTime": {
     "end_time": "2023-01-09T08:56:45.698341Z",
     "start_time": "2023-01-09T08:56:43.937442Z"
    }
   },
   "outputs": [
    {
     "name": "stdout",
     "output_type": "stream",
     "text": [
      "10\n",
      "1 2 5 10 "
     ]
    }
   ],
   "source": [
    "#1933\n",
    "n=int(input())\n",
    "for i in range(1,n+1):\n",
    "    if n%i==0 :\n",
    "        print(i, end=' ')\n"
   ]
  },
  {
   "cell_type": "code",
   "execution_count": 11,
   "id": "289fa21c",
   "metadata": {
    "ExecuteTime": {
     "end_time": "2023-01-09T11:13:03.544394Z",
     "start_time": "2023-01-09T11:13:02.114596Z"
    }
   },
   "outputs": [
    {
     "name": "stdout",
     "output_type": "stream",
     "text": [
      "3 2\n",
      "A\n"
     ]
    }
   ],
   "source": [
    "#1936\n",
    "a,b = map(int,input().split())\n",
    "if a<b : \n",
    "    if a==1 & b==3 :\n",
    "        print(\"A\")\n",
    "    else :\n",
    "        print(\"B\")\n",
    "elif a==3 & b==1 :\n",
    "    print(\"B\")\n",
    "else :\n",
    "    print(\"A\")"
   ]
  },
  {
   "cell_type": "code",
   "execution_count": 14,
   "id": "beca889b",
   "metadata": {
    "ExecuteTime": {
     "end_time": "2023-01-09T11:24:27.161712Z",
     "start_time": "2023-01-09T11:24:25.027673Z"
    }
   },
   "outputs": [
    {
     "name": "stdout",
     "output_type": "stream",
     "text": [
      "8\n",
      "1 2 4 8 16 32 64 128 256 "
     ]
    }
   ],
   "source": [
    "#2019\n",
    "n=int(input())\n",
    "x=1;\n",
    "for i in range(1,n+1):\n",
    "    print(x, end=' ')\n",
    "    x*=2\n",
    "print(x, end=' ')"
   ]
  },
  {
   "cell_type": "code",
   "execution_count": null,
   "id": "a63c71c7",
   "metadata": {},
   "outputs": [],
   "source": []
  }
 ],
 "metadata": {
  "kernelspec": {
   "display_name": "Python 3 (ipykernel)",
   "language": "python",
   "name": "python3"
  },
  "language_info": {
   "codemirror_mode": {
    "name": "ipython",
    "version": 3
   },
   "file_extension": ".py",
   "mimetype": "text/x-python",
   "name": "python",
   "nbconvert_exporter": "python",
   "pygments_lexer": "ipython3",
   "version": "3.9.13"
  },
  "toc": {
   "base_numbering": 1,
   "nav_menu": {},
   "number_sections": true,
   "sideBar": true,
   "skip_h1_title": false,
   "title_cell": "Table of Contents",
   "title_sidebar": "Contents",
   "toc_cell": false,
   "toc_position": {},
   "toc_section_display": true,
   "toc_window_display": false
  },
  "varInspector": {
   "cols": {
    "lenName": 16,
    "lenType": 16,
    "lenVar": 40
   },
   "kernels_config": {
    "python": {
     "delete_cmd_postfix": "",
     "delete_cmd_prefix": "del ",
     "library": "var_list.py",
     "varRefreshCmd": "print(var_dic_list())"
    },
    "r": {
     "delete_cmd_postfix": ") ",
     "delete_cmd_prefix": "rm(",
     "library": "var_list.r",
     "varRefreshCmd": "cat(var_dic_list()) "
    }
   },
   "types_to_exclude": [
    "module",
    "function",
    "builtin_function_or_method",
    "instance",
    "_Feature"
   ],
   "window_display": false
  }
 },
 "nbformat": 4,
 "nbformat_minor": 5
}
