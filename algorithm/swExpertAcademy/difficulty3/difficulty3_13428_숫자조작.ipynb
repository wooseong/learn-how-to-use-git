{
 "cells": [
  {
   "cell_type": "markdown",
   "id": "34752966",
   "metadata": {},
   "source": [
    "# 13428. 숫자 조작\n",
    "* https://swexpertacademy.com/main/learn/course/lectureVideoPlayer.do"
   ]
  },
  {
   "cell_type": "code",
   "execution_count": 60,
   "id": "76a49119",
   "metadata": {
    "ExecuteTime": {
     "end_time": "2023-02-15T09:12:46.173798Z",
     "start_time": "2023-02-15T09:12:45.244311Z"
    }
   },
   "outputs": [
    {
     "name": "stdout",
     "output_type": "stream",
     "text": [
      "1\n",
      "11432997\n",
      "xsmallList : [1, 1, 4, 3, 2, 9, 9, 7]\n",
      "xsmallListSort : [1, 2, 3, 4, 7, 9]\n",
      "1 1\n",
      "1 2\n",
      "4 2\n",
      "4 2 2 4\n",
      "#1 11234997 91432917\n"
     ]
    }
   ],
   "source": [
    "t = int(input())\n",
    "for T in range(t):\n",
    "    check=False\n",
    "    x=input() #숫자를 문자열 형태로 입력 받음\n",
    "    xList=list(map(int,list(x))) #한 숫자씩 찢어진 리스트\n",
    "    xListSort=sorted(set(xList), reverse=True)#어떤 수들로 이루어졌는지 찾기 위헤 set 후 sort\n",
    "    \n",
    "    for bigNum in xListSort : #문자열에서 가장 큰 수 찾기\n",
    "        if bigNum==0:\n",
    "            break\n",
    "        else :\n",
    "            for i in reversed(range(len(x))): #큰 수가 중복인 경우 더 뒤에 있는 위치한 곳(인덱스을 찾는다\n",
    "                if xList[i]==bigNum:\n",
    "                    bigNumIndex=i\n",
    "                    break\n",
    "            for i in range(bigNumIndex):\n",
    "                if xList[i]<xList[bigNumIndex]:\n",
    "                    xList[i],xList[bigNumIndex]=xList[bigNumIndex],xList[i]\n",
    "                    check=True\n",
    "                    break\n",
    "        if check:\n",
    "            break\n",
    "    \n",
    "    # 5901 -> 5091 or 1905 즉 맨 앞자리가 변경될 여지가 있으면 0이 제일 작은수이나 변경 안됌\n",
    "    # 1590 -> 1095 맨 앞자리가 변경될 여지가 없으면 0이 제일 작은 수이다.\n",
    "    xsmallList=list(map(int,list(x)))\n",
    "    xsmallListSort=sorted(set(xsmallList))\n",
    "    print(f\"xsmallList : {xsmallList}\")\n",
    "    print(f\"xsmallListSort : {xsmallListSort}\")\n",
    "    \n",
    "    for i in range(len(xsmallList)-1) :\n",
    "    #가장 작은 수가 아니라면 가장 작은 수랑 바꾼다.\n",
    "        print(f\"{xsmallList[i]} {min(xsmallList[i+1::])}\")\n",
    "        if xsmallList[i]>min(xsmallList[i+1::]):\n",
    "            if i!=0 or xsmallListSort[0]!=0 :\n",
    "                print(xsmallList[i],i,xsmallList[xsmallList.index(min(xsmallList[i+1::]))], xsmallList.index(min(xsmallList[i+1::])))\n",
    "                minNumIndex=xsmallList.index(min(xsmallList[i+1::]))\n",
    "                xsmallList[i],xsmallList[minNumIndex]=xsmallList[minNumIndex], xsmallList[i]\n",
    "                break\n",
    "            else: #맨 앞자리이면서 0이 존재하는 경우\n",
    "                if xsmallList[i]==xsmallListSort[1] : #맨 앞이 2번째로 작은 수면 변경 여지 x\n",
    "                    continue\n",
    "                else : #0이 존재하면서 맨앞이 변경되어야함\n",
    "                    minNumIndex=xsmallList.index(xsmallListSort[1])\n",
    "                    xsmallList[i], xsmallList[minNumIndex]= xsmallListSort[1], xsmallList[i]\n",
    "                    break\n",
    "\n",
    "    print(f\"#{T+1} {''.join(str(s) for s in xsmallList)} {''.join(str(s) for s in xList)}\")\n",
    "                    \n"
   ]
  },
  {
   "cell_type": "code",
   "execution_count": 35,
   "id": "6b043e61",
   "metadata": {
    "ExecuteTime": {
     "end_time": "2023-02-15T07:56:08.833253Z",
     "start_time": "2023-02-15T07:56:08.827483Z"
    }
   },
   "outputs": [
    {
     "data": {
      "text/plain": [
       "10000"
      ]
     },
     "execution_count": 35,
     "metadata": {},
     "output_type": "execute_result"
    }
   ],
   "source": [
    "4\n",
    "12345\n",
    "54321\n",
    "142857\n",
    "10000"
   ]
  },
  {
   "cell_type": "code",
   "execution_count": null,
   "id": "884d7e54",
   "metadata": {},
   "outputs": [],
   "source": [
    "#1 12345 52341\n",
    "#2 14325 54321\n",
    "#3 124857 842157\n",
    "#4 10000 10000"
   ]
  },
  {
   "cell_type": "code",
   "execution_count": 5,
   "id": "8c0c5738",
   "metadata": {
    "ExecuteTime": {
     "end_time": "2023-02-16T00:36:31.788816Z",
     "start_time": "2023-02-16T00:36:30.090540Z"
    }
   },
   "outputs": [
    {
     "name": "stdout",
     "output_type": "stream",
     "text": [
      "1\n",
      "0\n",
      "#1 0 0\n"
     ]
    }
   ],
   "source": [
    "t = int(input())\n",
    "for T in range(t):\n",
    "    num=list(map(int,list(input())))\n",
    "    \n",
    "    changeMin = False\n",
    "    changeMax = False\n",
    "    minNumList = list(num)\n",
    "    maxNumList = list(num)\n",
    "    whatNumIHave=sorted(set(num))\n",
    "    \n",
    "    for i in range(len(num)-1):\n",
    "        if maxNumList[i]<max(maxNumList[i+1::]) and not changeMax:\n",
    "            for j in range(len(num)-1,i,-1):\n",
    "                if maxNumList[j]==max(maxNumList[i+1::]):\n",
    "                    biggestMaxNumIndex=j\n",
    "                    changeMax=True\n",
    "                    break\n",
    "            maxNumList[i], maxNumList[biggestMaxNumIndex]=maxNumList[biggestMaxNumIndex], maxNumList[i]\n",
    "        \n",
    "        #예외처리\n",
    "        #1. 0이 존재하면서 맨 앞자리가 변경되야하면\n",
    "        print(minNumList[i], min(minNumList[i+1::]), changeMin)\n",
    "        print(i,min(minNumList[i+1::]))\n",
    "        if minNumList[i]>min(minNumList[i+1::]) and not changeMin:\n",
    "            if i!=0 or min(minNumList[i+1::])!=0 :\n",
    "                for j in range(len(num)-1,i,-1):\n",
    "                    if minNumList[j]==min(minNumList[i+1::]):\n",
    "                        smallestMinNumIndex=j\n",
    "                        changeMin=True\n",
    "                        break\n",
    "                minNumList[i], minNumList[smallestMinNumIndex]=minNumList[smallestMinNumIndex], minNumList[i]\n",
    "            else : # 맨앞이 변경되는 줄 알았는데 알고보지 0제외 제일 작은 수\n",
    "                if minNumList[i]==whatNumIHave[1]:\n",
    "                    continue\n",
    "                else:\n",
    "                    smallestMinNumIndex = minNumList.index(whatNumIHave[1])\n",
    "                    minNumList[i], minNumList[smallestMinNumIndex]=minNumList[smallestMinNumIndex], minNumList[i]\n",
    "                    changeMin=True\n",
    "    \n",
    "    \n",
    "    print(f\"#{T+1} {''.join(str(s) for s in minNumList)} {''.join(str(s) for s in maxNumList)}\")\n",
    "    "
   ]
  },
  {
   "cell_type": "code",
   "execution_count": 7,
   "id": "802be95f",
   "metadata": {
    "ExecuteTime": {
     "end_time": "2023-02-16T00:46:59.588789Z",
     "start_time": "2023-02-16T00:46:58.176262Z"
    }
   },
   "outputs": [
    {
     "name": "stdout",
     "output_type": "stream",
     "text": [
      "1\n",
      "0\n",
      "#1 0 0\n"
     ]
    }
   ],
   "source": [
    "t = int(input())\n",
    "for T in range(t):\n",
    "    num= input()\n",
    "    maxNum=minNum=int(num)\n",
    "    num=list(num)\n",
    "    \n",
    "    for i in range(len(num)-1):\n",
    "        for j in range(i+1,len(num)):\n",
    "            makeNum=list(num)\n",
    "            makeNum[i],makeNum[j] = makeNum[j],makeNum[i]\n",
    "            if makeNum[0]=='0':\n",
    "                continue\n",
    "            if int(''.join(makeNum)) < minNum :\n",
    "                minNum = int(''.join(makeNum))\n",
    "            if int(''.join(makeNum)) > maxNum :\n",
    "                maxNum = int(''.join(makeNum))\n",
    "    \n",
    "    print(f'#{T+1} {minNum} {maxNum}')"
   ]
  },
  {
   "cell_type": "code",
   "execution_count": null,
   "id": "dea67ef1",
   "metadata": {},
   "outputs": [],
   "source": [
    "4\n",
    "12345\n",
    "54321\n",
    "142857\n",
    "10000"
   ]
  }
 ],
 "metadata": {
  "kernelspec": {
   "display_name": "Python 3 (ipykernel)",
   "language": "python",
   "name": "python3"
  },
  "language_info": {
   "codemirror_mode": {
    "name": "ipython",
    "version": 3
   },
   "file_extension": ".py",
   "mimetype": "text/x-python",
   "name": "python",
   "nbconvert_exporter": "python",
   "pygments_lexer": "ipython3",
   "version": "3.9.13"
  },
  "toc": {
   "base_numbering": 1,
   "nav_menu": {},
   "number_sections": true,
   "sideBar": true,
   "skip_h1_title": false,
   "title_cell": "Table of Contents",
   "title_sidebar": "Contents",
   "toc_cell": false,
   "toc_position": {},
   "toc_section_display": true,
   "toc_window_display": false
  },
  "varInspector": {
   "cols": {
    "lenName": 16,
    "lenType": 16,
    "lenVar": 40
   },
   "kernels_config": {
    "python": {
     "delete_cmd_postfix": "",
     "delete_cmd_prefix": "del ",
     "library": "var_list.py",
     "varRefreshCmd": "print(var_dic_list())"
    },
    "r": {
     "delete_cmd_postfix": ") ",
     "delete_cmd_prefix": "rm(",
     "library": "var_list.r",
     "varRefreshCmd": "cat(var_dic_list()) "
    }
   },
   "types_to_exclude": [
    "module",
    "function",
    "builtin_function_or_method",
    "instance",
    "_Feature"
   ],
   "window_display": false
  }
 },
 "nbformat": 4,
 "nbformat_minor": 5
}
