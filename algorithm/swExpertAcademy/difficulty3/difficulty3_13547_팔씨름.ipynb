{
 "cells": [
  {
   "cell_type": "markdown",
   "id": "6307d64c",
   "metadata": {},
   "source": [
    "# 13547. 팔씨름\n",
    "* https://swexpertacademy.com/main/code/problem/problemDetail.do?problemLevel=3&contestProbId=AX6PP9G6p1sDFAS9&categoryId=AX6PP9G6p1sDFAS9&categoryType=CODE&problemTitle=&orderBy=FIRST_REG_DATETIME&selectCodeLang=ALL&select-1=3&pageSize=10&pageIndex=2"
   ]
  },
  {
   "cell_type": "code",
   "execution_count": 2,
   "id": "f91ad662",
   "metadata": {
    "ExecuteTime": {
     "end_time": "2023-02-14T10:37:10.378437Z",
     "start_time": "2023-02-14T10:36:52.712944Z"
    }
   },
   "outputs": [
    {
     "name": "stdout",
     "output_type": "stream",
     "text": [
      "3\n",
      "oxoxoxoxoxoxoxo\n",
      "#1 YES\n",
      "x\n",
      "#2 YES\n",
      "xxxxxxxxxxxx\n",
      "#3 NO\n"
     ]
    }
   ],
   "source": [
    "t = int(input())\n",
    "for T in range(t):\n",
    "    x=input()\n",
    "    win=0\n",
    "    for state in x:\n",
    "        if state=='o':\n",
    "            win+=1\n",
    "    print(f\"#{T+1} {'YES' if ((15-len(x)+win))>=8 else 'NO'}\")"
   ]
  },
  {
   "cell_type": "code",
   "execution_count": null,
   "id": "0bde06af",
   "metadata": {},
   "outputs": [],
   "source": [
    "3\n",
    "oxoxoxoxoxoxoxo\n",
    "x\n",
    "xxxxxxxxxxxx"
   ]
  }
 ],
 "metadata": {
  "kernelspec": {
   "display_name": "Python 3 (ipykernel)",
   "language": "python",
   "name": "python3"
  },
  "language_info": {
   "codemirror_mode": {
    "name": "ipython",
    "version": 3
   },
   "file_extension": ".py",
   "mimetype": "text/x-python",
   "name": "python",
   "nbconvert_exporter": "python",
   "pygments_lexer": "ipython3",
   "version": "3.9.13"
  },
  "toc": {
   "base_numbering": 1,
   "nav_menu": {},
   "number_sections": true,
   "sideBar": true,
   "skip_h1_title": false,
   "title_cell": "Table of Contents",
   "title_sidebar": "Contents",
   "toc_cell": false,
   "toc_position": {},
   "toc_section_display": true,
   "toc_window_display": false
  },
  "varInspector": {
   "cols": {
    "lenName": 16,
    "lenType": 16,
    "lenVar": 40
   },
   "kernels_config": {
    "python": {
     "delete_cmd_postfix": "",
     "delete_cmd_prefix": "del ",
     "library": "var_list.py",
     "varRefreshCmd": "print(var_dic_list())"
    },
    "r": {
     "delete_cmd_postfix": ") ",
     "delete_cmd_prefix": "rm(",
     "library": "var_list.r",
     "varRefreshCmd": "cat(var_dic_list()) "
    }
   },
   "types_to_exclude": [
    "module",
    "function",
    "builtin_function_or_method",
    "instance",
    "_Feature"
   ],
   "window_display": false
  }
 },
 "nbformat": 4,
 "nbformat_minor": 5
}
