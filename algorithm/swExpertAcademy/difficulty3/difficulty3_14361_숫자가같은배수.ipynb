{
 "cells": [
  {
   "cell_type": "markdown",
   "id": "4e1bd0a4",
   "metadata": {},
   "source": [
    "# 14361. 숫자가 같은 배수\n",
    "* https://swexpertacademy.com/main/code/problem/problemDetail.do?problemLevel=3&contestProbId=AYCnY9Kqu6YDFARx&categoryId=AYCnY9Kqu6YDFARx&categoryType=CODE&problemTitle=&orderBy=FIRST_REG_DATETIME&selectCodeLang=ALL&select-1=3&pageSize=10&pageIndex=1"
   ]
  },
  {
   "cell_type": "code",
   "execution_count": 37,
   "id": "569839af",
   "metadata": {
    "ExecuteTime": {
     "end_time": "2023-02-14T07:33:40.958581Z",
     "start_time": "2023-02-14T07:33:38.862351Z"
    }
   },
   "outputs": [
    {
     "name": "stdout",
     "output_type": "stream",
     "text": [
      "1\n",
      "18\n",
      "#1 impossible\n"
     ]
    }
   ],
   "source": [
    "t = int(input())\n",
    "for T in range(t):\n",
    "    num=input()\n",
    "    numDict=dict.fromkeys(set(list(num)), 0)\n",
    "    check=False\n",
    "    for x in list(num):\n",
    "        numDict[x]+=1\n",
    "    for i in range(2,10):\n",
    "        compareNum=str(int(num)*i)\n",
    "        if len(compareNum)>len(num):\n",
    "            break\n",
    "        compareNumDict=dict.fromkeys(set(list(compareNum)), 0)\n",
    "        for x in list(compareNum):\n",
    "            compareNumDict[x]+=1\n",
    "        if numDict==compareNumDict:\n",
    "            check=True\n",
    "        else:\n",
    "            continue\n",
    "        print(compareNum)\n",
    "        print(compareNumDict)\n",
    "    \n",
    "    print(f\"#{T+1} {'possible' if check else 'impossible'}\")\n",
    "        "
   ]
  },
  {
   "cell_type": "code",
   "execution_count": 29,
   "id": "615a979e",
   "metadata": {
    "ExecuteTime": {
     "end_time": "2023-02-14T07:33:16.172015Z",
     "start_time": "2023-02-14T07:33:16.165926Z"
    }
   },
   "outputs": [
    {
     "data": {
      "text/plain": [
       "1035"
      ]
     },
     "execution_count": 29,
     "metadata": {},
     "output_type": "execute_result"
    }
   ],
   "source": [
    "3\n",
    "142857\n",
    "1\n",
    "1035"
   ]
  },
  {
   "cell_type": "code",
   "execution_count": null,
   "id": "f1d7d05d",
   "metadata": {},
   "outputs": [],
   "source": []
  }
 ],
 "metadata": {
  "kernelspec": {
   "display_name": "Python 3 (ipykernel)",
   "language": "python",
   "name": "python3"
  },
  "language_info": {
   "codemirror_mode": {
    "name": "ipython",
    "version": 3
   },
   "file_extension": ".py",
   "mimetype": "text/x-python",
   "name": "python",
   "nbconvert_exporter": "python",
   "pygments_lexer": "ipython3",
   "version": "3.9.13"
  },
  "toc": {
   "base_numbering": 1,
   "nav_menu": {},
   "number_sections": true,
   "sideBar": true,
   "skip_h1_title": false,
   "title_cell": "Table of Contents",
   "title_sidebar": "Contents",
   "toc_cell": false,
   "toc_position": {},
   "toc_section_display": true,
   "toc_window_display": false
  },
  "varInspector": {
   "cols": {
    "lenName": 16,
    "lenType": 16,
    "lenVar": 40
   },
   "kernels_config": {
    "python": {
     "delete_cmd_postfix": "",
     "delete_cmd_prefix": "del ",
     "library": "var_list.py",
     "varRefreshCmd": "print(var_dic_list())"
    },
    "r": {
     "delete_cmd_postfix": ") ",
     "delete_cmd_prefix": "rm(",
     "library": "var_list.r",
     "varRefreshCmd": "cat(var_dic_list()) "
    }
   },
   "types_to_exclude": [
    "module",
    "function",
    "builtin_function_or_method",
    "instance",
    "_Feature"
   ],
   "window_display": false
  }
 },
 "nbformat": 4,
 "nbformat_minor": 5
}
