{
 "cells": [
  {
   "cell_type": "markdown",
   "id": "44c92d81",
   "metadata": {},
   "source": [
    "# 14413. 격자판 칠하기\n",
    "* https://swexpertacademy.com/main/code/problem/problemDetail.do?problemLevel=3&contestProbId=AYEXgKnKKg0DFARx&categoryId=AYEXgKnKKg0DFARx&categoryType=CODE&problemTitle=&orderBy=FIRST_REG_DATETIME&selectCodeLang=ALL&select-1=3&pageSize=10&pageIndex=1"
   ]
  },
  {
   "cell_type": "code",
   "execution_count": 13,
   "id": "dcdd3993",
   "metadata": {
    "ExecuteTime": {
     "end_time": "2023-02-14T04:08:27.491191Z",
     "start_time": "2023-02-14T04:08:18.132015Z"
    },
    "scrolled": false
   },
   "outputs": [
    {
     "name": "stdout",
     "output_type": "stream",
     "text": [
      "1\n",
      "1 5\n",
      "?####?\n",
      "[(0, 1), (0, 2), (0, 3), (0, 4)]\n",
      "#1 impossible\n"
     ]
    }
   ],
   "source": [
    "t = int(input())\n",
    "for T in range(t):\n",
    "    n, m = map(int, input().split())\n",
    "    board=[0]*n\n",
    "    boardcheck=[[0 for i in range(m)]for j in range(n)]\n",
    "    check=True\n",
    "    checkBoard=[]\n",
    "    for i in range(n):\n",
    "        board[i]=list(input())\n",
    "    \n",
    "    for i in range(n):\n",
    "        for j in range(m):\n",
    "            if board[i][j]=='.' or board[i][j]=='#':\n",
    "                checkBoard.append((i,j))\n",
    "    while True :\n",
    "        if len(checkBoard)==0:\n",
    "            break\n",
    "        else :\n",
    "            print(checkBoard)\n",
    "            i,j=checkBoard.pop(0)\n",
    "            boardcheck[i][j]=1\n",
    "            #현 자리가 무슨 색인지\n",
    "                #주변 자리를 검색하되 맨위, 맨아래, 맨왼쪽, 맨오른쪽이면 그 옆은 검색하면 안되므로 예외처리\n",
    "                    #주변 자리 비교\n",
    "                        #1. 조건과 맞지 않으면 break\n",
    "                        #2. 조건에 성립하되 아직 추가 체크가 안된 자리면 체크하기 위해 큐에 추가\n",
    "                        #3. 지정 안되어 있던 자리가 칠해졌으므로 체크하기 위해 큐에 추가\n",
    "            if board[i][j]=='#': #검정\n",
    "                #현 자리 주변 색 확인\n",
    "                if i!=0 : # 맨 윗줄이 아닌 경우\n",
    "                    if board[i-1][j]=='#':\n",
    "                        check=False\n",
    "                        break\n",
    "                    elif board[i-1][j]=='.':\n",
    "                        if boardcheck[i-1][j]==0 and ((i-1,j) not in checkBoard):\n",
    "                                checkBoard.append((i-1,j))\n",
    "                    else :\n",
    "                        board[i-1][j]='.'\n",
    "                        checkBoard.append((i-1,j))\n",
    "\n",
    "                if j!=m-1: # 맨 오른쪽줄이 아닌 경우\n",
    "                    if board[i][j+1]=='#':\n",
    "                        check=False\n",
    "                        break\n",
    "                    elif board[i][j+1]=='.':\n",
    "                        if boardcheck[i][j+1]==0 and ((i,j+1) not in checkBoard):\n",
    "                            checkBoard.append((i,j+1))\n",
    "                    else :\n",
    "                        board[i][j+1]='.'\n",
    "                        checkBoard.append((i,j+1))\n",
    "\n",
    "                if i!=n-1: # 맨 아랫줄이 아닌 경우\n",
    "                    if board[i+1][j]=='#':\n",
    "                        check=False\n",
    "                        break\n",
    "                    elif board[i+1][j]=='.':\n",
    "                        if boardcheck[i+1][j]==0 and ((i+1,j) not in checkBoard):\n",
    "                            checkBoard.append((i+1,j))\n",
    "                    else :\n",
    "                        board[i+1][j]='.'\n",
    "                        checkBoard.append((i+1,j))\n",
    "\n",
    "                if j!=0: # 맨 왼쪽줄이 아닌 경우\n",
    "                    if board[i][j-1]=='#':\n",
    "                        check=False\n",
    "                        break\n",
    "                    elif board[i][j-1]=='.':\n",
    "                        if boardcheck[i][j-1]==0 and ((i,j-1) not in checkBoard):\n",
    "                            checkBoard.append((i,j-1))\n",
    "                    else :\n",
    "                        board[i][j-1]='.'\n",
    "                        checkBoard.append((i,j-1))\n",
    "\n",
    "\n",
    "            elif board[i][j]=='.': #흰색\n",
    "                #현 자리 주변 색 확인\n",
    "                if i!=0 : # 맨 윗줄이 아닌 경우\n",
    "                    if board[i-1][j]=='.':\n",
    "                        check=False\n",
    "                        break\n",
    "                    elif board[i-1][j]=='#':\n",
    "                        if boardcheck[i-1][j]==0 and ((i-1,j) not in checkBoard):\n",
    "                            checkBoard.append((i-1,j))\n",
    "                    else :\n",
    "                        board[i-1][j]='#'\n",
    "                        checkBoard.append((i-1,j))\n",
    "\n",
    "                if j!=m-1: # 맨 오른쪽줄이 아닌 경우\n",
    "                    if board[i][j+1]=='.':\n",
    "                        check=False\n",
    "                        break\n",
    "                    elif board[i][j+1]=='#':\n",
    "                        if boardcheck[i][j+1]==0 and ((i,j+1) not in checkBoard):\n",
    "                            checkBoard.append((i,j+1))\n",
    "                    else :\n",
    "                        board[i][j+1]='#'\n",
    "                        checkBoard.append((i,j+1))\n",
    "\n",
    "                if i!=n-1: # 맨 아랫줄이 아닌 경우\n",
    "                    if board[i+1][j]=='.':\n",
    "                        check=False\n",
    "                        break\n",
    "                    elif board[i+1][j]=='#':\n",
    "                        if boardcheck[i+1][j]==0 and ((i+1,j) not in checkBoard):\n",
    "                            checkBoard.append((i+1,j))\n",
    "                    else :\n",
    "                        board[i+1][j]='#'\n",
    "                        checkBoard.append((i+1,j))\n",
    "\n",
    "                if j!=0: # 맨 왼쪽줄이 아닌 경우\n",
    "                    if board[i][j-1]=='.':\n",
    "                        check=False\n",
    "                        break\n",
    "                    elif board[i][j-1]=='#':\n",
    "                        if boardcheck[i][j-1]==0 and ((i,j-1) not in checkBoard):\n",
    "                            checkBoard.append((i,j-1))\n",
    "                    else :\n",
    "                        board[i][j-1]='#'\n",
    "                        checkBoard.append((i,j-1))\n",
    "            else : # ?\n",
    "                continue\n",
    "    \n",
    "    \n",
    "    print(f\"#{T+1} {'possible' if check else 'impossible'}\")\n",
    "    "
   ]
  },
  {
   "cell_type": "code",
   "execution_count": null,
   "id": "92c6b871",
   "metadata": {},
   "outputs": [],
   "source": [
    "3\n",
    "3 6\n",
    "#.????\n",
    "?#????\n",
    "???.??\n",
    "1 6\n",
    "##????\n",
    "3 3\n",
    ".#.\n",
    "#?#\n",
    ".#."
   ]
  },
  {
   "cell_type": "code",
   "execution_count": null,
   "id": "e6e1a724",
   "metadata": {},
   "outputs": [],
   "source": [
    "#1 possible\n",
    "#2 impossible\n",
    "#3 possible"
   ]
  },
  {
   "cell_type": "code",
   "execution_count": 2,
   "id": "2d9f1ece",
   "metadata": {
    "ExecuteTime": {
     "end_time": "2023-02-14T03:45:13.020773Z",
     "start_time": "2023-02-14T03:45:13.008539Z"
    }
   },
   "outputs": [
    {
     "data": {
      "text/plain": [
       "[[2, 2], [2, 2], [2, 2], [2, 2], [2, 2]]"
      ]
     },
     "execution_count": 2,
     "metadata": {},
     "output_type": "execute_result"
    }
   ],
   "source": [
    "boardcheck=[[2 for i in range(2)]for j in range(5)]\n",
    "boardcheck"
   ]
  },
  {
   "cell_type": "code",
   "execution_count": null,
   "id": "929bda37",
   "metadata": {},
   "outputs": [],
   "source": []
  }
 ],
 "metadata": {
  "kernelspec": {
   "display_name": "Python 3 (ipykernel)",
   "language": "python",
   "name": "python3"
  },
  "language_info": {
   "codemirror_mode": {
    "name": "ipython",
    "version": 3
   },
   "file_extension": ".py",
   "mimetype": "text/x-python",
   "name": "python",
   "nbconvert_exporter": "python",
   "pygments_lexer": "ipython3",
   "version": "3.9.13"
  },
  "toc": {
   "base_numbering": 1,
   "nav_menu": {},
   "number_sections": true,
   "sideBar": true,
   "skip_h1_title": false,
   "title_cell": "Table of Contents",
   "title_sidebar": "Contents",
   "toc_cell": false,
   "toc_position": {},
   "toc_section_display": true,
   "toc_window_display": false
  },
  "varInspector": {
   "cols": {
    "lenName": 16,
    "lenType": 16,
    "lenVar": 40
   },
   "kernels_config": {
    "python": {
     "delete_cmd_postfix": "",
     "delete_cmd_prefix": "del ",
     "library": "var_list.py",
     "varRefreshCmd": "print(var_dic_list())"
    },
    "r": {
     "delete_cmd_postfix": ") ",
     "delete_cmd_prefix": "rm(",
     "library": "var_list.r",
     "varRefreshCmd": "cat(var_dic_list()) "
    }
   },
   "types_to_exclude": [
    "module",
    "function",
    "builtin_function_or_method",
    "instance",
    "_Feature"
   ],
   "window_display": false
  }
 },
 "nbformat": 4,
 "nbformat_minor": 5
}
