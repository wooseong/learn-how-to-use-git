{
 "cells": [
  {
   "cell_type": "markdown",
   "id": "1ea946f8",
   "metadata": {},
   "source": [
    "# 15612. 체스판 위의 룩 배치\n",
    "* https://swexpertacademy.com/main/code/problem/problemDetail.do?problemLevel=3&contestProbId=AYOBfxwaAXsDFATW&categoryId=AYOBfxwaAXsDFATW&categoryType=CODE&problemTitle=&orderBy=FIRST_REG_DATETIME&selectCodeLang=ALL&select-1=3&pageSize=10&pageIndex=1"
   ]
  },
  {
   "cell_type": "code",
   "execution_count": 4,
   "id": "3f6b524c",
   "metadata": {
    "ExecuteTime": {
     "end_time": "2023-02-13T07:01:25.170648Z",
     "start_time": "2023-02-13T07:01:03.169681Z"
    }
   },
   "outputs": [
    {
     "name": "stdout",
     "output_type": "stream",
     "text": [
      "1\n",
      "......O.\n",
      ".......O\n",
      "...O....\n",
      "O.......\n",
      "....O...\n",
      "..O.....\n",
      ".O......\n",
      ".....O..\n",
      "#1 yes\n"
     ]
    }
   ],
   "source": [
    "t = int(input())\n",
    "for T in range(t):\n",
    "    board=[0]*8\n",
    "    check=True\n",
    "    for i in range(8):\n",
    "        board[i]=input()\n",
    "    for i in range(8):\n",
    "        verticalBoard=board[0][i]+board[1][i]+board[2][i]+board[3][i]+board[4][i]+board[5][i]+board[6][i]+board[7][i]\n",
    "        if board[i].count('O')==1 and (verticalBoard.count('O')==1) :\n",
    "            continue\n",
    "        else :\n",
    "            print(i)\n",
    "            print(\"---------------------\")\n",
    "            check=False\n",
    "    print(f\"#{T+1} {'yes' if check else 'no'}\")"
   ]
  },
  {
   "cell_type": "code",
   "execution_count": null,
   "id": "14821522",
   "metadata": {},
   "outputs": [],
   "source": [
    "3\n",
    "......O.\n",
    ".......O\n",
    "...O....\n",
    "O.......\n",
    "....O...\n",
    "..O.....\n",
    ".O......\n",
    ".....O..\n",
    "OOOOOOOO\n",
    "OOOOOOOO\n",
    "OOOOOOOO\n",
    "OOOOOOOO\n",
    "OOOOOOOO\n",
    "OOOOOOOO\n",
    "OOOOOOOO\n",
    "OOOOOOOO\n",
    ".O.O.O.O\n",
    "O.O.O.O.\n",
    "........\n",
    "........\n",
    "........\n",
    "........\n",
    "........\n",
    "........"
   ]
  }
 ],
 "metadata": {
  "kernelspec": {
   "display_name": "Python 3 (ipykernel)",
   "language": "python",
   "name": "python3"
  },
  "language_info": {
   "codemirror_mode": {
    "name": "ipython",
    "version": 3
   },
   "file_extension": ".py",
   "mimetype": "text/x-python",
   "name": "python",
   "nbconvert_exporter": "python",
   "pygments_lexer": "ipython3",
   "version": "3.9.13"
  },
  "toc": {
   "base_numbering": 1,
   "nav_menu": {},
   "number_sections": true,
   "sideBar": true,
   "skip_h1_title": false,
   "title_cell": "Table of Contents",
   "title_sidebar": "Contents",
   "toc_cell": false,
   "toc_position": {},
   "toc_section_display": true,
   "toc_window_display": false
  },
  "varInspector": {
   "cols": {
    "lenName": 16,
    "lenType": 16,
    "lenVar": 40
   },
   "kernels_config": {
    "python": {
     "delete_cmd_postfix": "",
     "delete_cmd_prefix": "del ",
     "library": "var_list.py",
     "varRefreshCmd": "print(var_dic_list())"
    },
    "r": {
     "delete_cmd_postfix": ") ",
     "delete_cmd_prefix": "rm(",
     "library": "var_list.r",
     "varRefreshCmd": "cat(var_dic_list()) "
    }
   },
   "types_to_exclude": [
    "module",
    "function",
    "builtin_function_or_method",
    "instance",
    "_Feature"
   ],
   "window_display": false
  }
 },
 "nbformat": 4,
 "nbformat_minor": 5
}
