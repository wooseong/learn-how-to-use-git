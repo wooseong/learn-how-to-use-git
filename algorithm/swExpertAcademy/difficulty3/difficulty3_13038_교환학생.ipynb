{
 "cells": [
  {
   "cell_type": "markdown",
   "id": "cce4ca9f",
   "metadata": {},
   "source": [
    "# 13038. 교환학생\n",
    "* https://swexpertacademy.com/main/code/problem/problemDetail.do?problemLevel=3&contestProbId=AXxNn6GaPW4DFASZ&categoryId=AXxNn6GaPW4DFASZ&categoryType=CODE&problemTitle=&orderBy=FIRST_REG_DATETIME&selectCodeLang=ALL&select-1=3&pageSize=10&pageIndex=2"
   ]
  },
  {
   "cell_type": "code",
   "execution_count": 4,
   "id": "3dedae6a",
   "metadata": {
    "ExecuteTime": {
     "end_time": "2023-02-16T07:39:05.464083Z",
     "start_time": "2023-02-16T07:38:50.714727Z"
    }
   },
   "outputs": [
    {
     "name": "stdout",
     "output_type": "stream",
     "text": [
      "3\n",
      "2\n",
      "0 1 0 0 0 0 0\n",
      "#1 8\n",
      "100000\n",
      "1 0 0 0 1 0 1\n",
      "#2 233332\n",
      "1\n",
      "1 0 0 0 0 0 0\n",
      "#3 1\n"
     ]
    }
   ],
   "source": [
    "t = int(input())\n",
    "for T in range(t):\n",
    "    day = int(input())\n",
    "    schedule = list(map(int,input().split()))\n",
    "    scheduleList=[index for index in range(7) if schedule[index]==1]\n",
    "    minCntDay= ((day//schedule.count(1))+2)*7\n",
    "    \n",
    "    for startindex in scheduleList:\n",
    "        i=startindex\n",
    "        cntclass=0 # 몇일 수업 들었는지 count\n",
    "        cntday=0 #몇일 지냈는지 count\n",
    "        \n",
    "        while cntclass<=day :\n",
    "            if schedule[i]==1 :\n",
    "                cntclass+=1\n",
    "            cntday+=1\n",
    "            i=(i+1)%7\n",
    "\n",
    "            if cntclass==day :\n",
    "                break\n",
    "        \n",
    "        if minCntDay>cntday:\n",
    "            minCntDay=cntday\n",
    "\n",
    "    \n",
    "    print(f\"#{T+1} {minCntDay}\")\n",
    "    "
   ]
  },
  {
   "cell_type": "code",
   "execution_count": null,
   "id": "a301d2e2",
   "metadata": {},
   "outputs": [],
   "source": [
    "3\n",
    "2\n",
    "0 1 0 0 0 0 0\n",
    "100000\n",
    "1 0 0 0 1 0 1\n",
    "1\n",
    "1 0 0 0 0 0 0"
   ]
  }
 ],
 "metadata": {
  "kernelspec": {
   "display_name": "Python 3 (ipykernel)",
   "language": "python",
   "name": "python3"
  },
  "language_info": {
   "codemirror_mode": {
    "name": "ipython",
    "version": 3
   },
   "file_extension": ".py",
   "mimetype": "text/x-python",
   "name": "python",
   "nbconvert_exporter": "python",
   "pygments_lexer": "ipython3",
   "version": "3.9.13"
  },
  "toc": {
   "base_numbering": 1,
   "nav_menu": {},
   "number_sections": true,
   "sideBar": true,
   "skip_h1_title": false,
   "title_cell": "Table of Contents",
   "title_sidebar": "Contents",
   "toc_cell": false,
   "toc_position": {},
   "toc_section_display": true,
   "toc_window_display": false
  },
  "varInspector": {
   "cols": {
    "lenName": 16,
    "lenType": 16,
    "lenVar": 40
   },
   "kernels_config": {
    "python": {
     "delete_cmd_postfix": "",
     "delete_cmd_prefix": "del ",
     "library": "var_list.py",
     "varRefreshCmd": "print(var_dic_list())"
    },
    "r": {
     "delete_cmd_postfix": ") ",
     "delete_cmd_prefix": "rm(",
     "library": "var_list.r",
     "varRefreshCmd": "cat(var_dic_list()) "
    }
   },
   "types_to_exclude": [
    "module",
    "function",
    "builtin_function_or_method",
    "instance",
    "_Feature"
   ],
   "window_display": false
  }
 },
 "nbformat": 4,
 "nbformat_minor": 5
}
