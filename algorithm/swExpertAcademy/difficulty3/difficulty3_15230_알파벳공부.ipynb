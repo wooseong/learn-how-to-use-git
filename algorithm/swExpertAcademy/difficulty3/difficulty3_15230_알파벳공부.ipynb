{
 "cells": [
  {
   "cell_type": "markdown",
   "id": "3c9ea67d",
   "metadata": {},
   "source": [
    "# 15230. 알파벳 공부\n",
    "* https://swexpertacademy.com/main/code/problem/problemDetail.do?problemLevel=3&contestProbId=AYLnMQT6vPADFATf&categoryId=AYLnMQT6vPADFATf&categoryType=CODE&problemTitle=&orderBy=FIRST_REG_DATETIME&selectCodeLang=ALL&select-1=3&pageSize=10&pageIndex=1"
   ]
  },
  {
   "cell_type": "code",
   "execution_count": 16,
   "id": "43c06c49",
   "metadata": {
    "ExecuteTime": {
     "end_time": "2023-02-13T07:17:01.897692Z",
     "start_time": "2023-02-13T07:16:57.295325Z"
    }
   },
   "outputs": [
    {
     "name": "stdout",
     "output_type": "stream",
     "text": [
      "1\n",
      "absolute\n",
      "#1 2\n"
     ]
    }
   ],
   "source": [
    "t = int(input())\n",
    "for T in range(t):\n",
    "    x = input()\n",
    "    cnt=0\n",
    "    for i in range(len(x)):\n",
    "        if chr(ord('a')+i) == x[i] :\n",
    "            cnt+=1\n",
    "        else :\n",
    "            break\n",
    "    print(f\"#{T+1} {cnt}\")\n",
    "    "
   ]
  },
  {
   "cell_type": "code",
   "execution_count": 10,
   "id": "d57daa88",
   "metadata": {
    "ExecuteTime": {
     "end_time": "2023-02-13T07:15:43.176440Z",
     "start_time": "2023-02-13T07:15:43.170453Z"
    }
   },
   "outputs": [
    {
     "data": {
      "text/plain": [
       "'b'"
      ]
     },
     "execution_count": 10,
     "metadata": {},
     "output_type": "execute_result"
    }
   ],
   "source": [
    "chr(ord('a')+1)"
   ]
  },
  {
   "cell_type": "code",
   "execution_count": null,
   "id": "bca4c298",
   "metadata": {},
   "outputs": [],
   "source": [
    "5\n",
    "abcdefghijklmnopqrstu\n",
    "abcdefghijklmnopqrstuvwzyx\n",
    "abcefghijk\n",
    "xyz\n",
    "absolute"
   ]
  }
 ],
 "metadata": {
  "kernelspec": {
   "display_name": "Python 3 (ipykernel)",
   "language": "python",
   "name": "python3"
  },
  "language_info": {
   "codemirror_mode": {
    "name": "ipython",
    "version": 3
   },
   "file_extension": ".py",
   "mimetype": "text/x-python",
   "name": "python",
   "nbconvert_exporter": "python",
   "pygments_lexer": "ipython3",
   "version": "3.9.13"
  },
  "toc": {
   "base_numbering": 1,
   "nav_menu": {},
   "number_sections": true,
   "sideBar": true,
   "skip_h1_title": false,
   "title_cell": "Table of Contents",
   "title_sidebar": "Contents",
   "toc_cell": false,
   "toc_position": {},
   "toc_section_display": true,
   "toc_window_display": false
  },
  "varInspector": {
   "cols": {
    "lenName": 16,
    "lenType": 16,
    "lenVar": 40
   },
   "kernels_config": {
    "python": {
     "delete_cmd_postfix": "",
     "delete_cmd_prefix": "del ",
     "library": "var_list.py",
     "varRefreshCmd": "print(var_dic_list())"
    },
    "r": {
     "delete_cmd_postfix": ") ",
     "delete_cmd_prefix": "rm(",
     "library": "var_list.r",
     "varRefreshCmd": "cat(var_dic_list()) "
    }
   },
   "types_to_exclude": [
    "module",
    "function",
    "builtin_function_or_method",
    "instance",
    "_Feature"
   ],
   "window_display": false
  }
 },
 "nbformat": 4,
 "nbformat_minor": 5
}
