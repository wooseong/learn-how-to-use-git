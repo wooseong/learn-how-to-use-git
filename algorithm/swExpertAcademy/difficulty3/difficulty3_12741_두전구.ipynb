{
 "cells": [
  {
   "cell_type": "markdown",
   "id": "b2219df4",
   "metadata": {},
   "source": [
    "# 12741. 두 전구\n",
    "* https://swexpertacademy.com/main/code/problem/problemDetail.do?problemLevel=3&contestProbId=AXuUo_Tqs9kDFARa&categoryId=AXuUo_Tqs9kDFARa&categoryType=CODE&problemTitle=&orderBy=FIRST_REG_DATETIME&selectCodeLang=ALL&select-1=3&pageSize=10&pageIndex=2"
   ]
  },
  {
   "cell_type": "code",
   "execution_count": 2,
   "id": "afd310a4",
   "metadata": {
    "ExecuteTime": {
     "end_time": "2023-02-16T08:36:43.017529Z",
     "start_time": "2023-02-16T08:36:33.516294Z"
    }
   },
   "outputs": [
    {
     "name": "stdout",
     "output_type": "stream",
     "text": [
      "3\n",
      "1 3 5 7\n",
      "#1 0\n",
      "0 5 2 4\n",
      "#2 2\n",
      "0 5 1 6\n",
      "#3 4\n"
     ]
    }
   ],
   "source": [
    "t = int(input())\n",
    "for T in range(t):\n",
    "    a,b,c,d = map(int, input().split())\n",
    "#    startTime = a if a>c else c\n",
    "#    endTime = b if b<d else d\n",
    "    time = min(b,d)-max(a,c)\n",
    "    time = time if time>0 else 0\n",
    "    print(f\"#{T+1} {time}\")"
   ]
  },
  {
   "cell_type": "code",
   "execution_count": null,
   "id": "864802b6",
   "metadata": {},
   "outputs": [],
   "source": [
    "3\n",
    "1 3 5 7\n",
    "0 5 2 4\n",
    "0 5 1 6"
   ]
  }
 ],
 "metadata": {
  "kernelspec": {
   "display_name": "Python 3 (ipykernel)",
   "language": "python",
   "name": "python3"
  },
  "language_info": {
   "codemirror_mode": {
    "name": "ipython",
    "version": 3
   },
   "file_extension": ".py",
   "mimetype": "text/x-python",
   "name": "python",
   "nbconvert_exporter": "python",
   "pygments_lexer": "ipython3",
   "version": "3.9.13"
  },
  "toc": {
   "base_numbering": 1,
   "nav_menu": {},
   "number_sections": true,
   "sideBar": true,
   "skip_h1_title": false,
   "title_cell": "Table of Contents",
   "title_sidebar": "Contents",
   "toc_cell": false,
   "toc_position": {},
   "toc_section_display": true,
   "toc_window_display": false
  },
  "varInspector": {
   "cols": {
    "lenName": 16,
    "lenType": 16,
    "lenVar": 40
   },
   "kernels_config": {
    "python": {
     "delete_cmd_postfix": "",
     "delete_cmd_prefix": "del ",
     "library": "var_list.py",
     "varRefreshCmd": "print(var_dic_list())"
    },
    "r": {
     "delete_cmd_postfix": ") ",
     "delete_cmd_prefix": "rm(",
     "library": "var_list.r",
     "varRefreshCmd": "cat(var_dic_list()) "
    }
   },
   "types_to_exclude": [
    "module",
    "function",
    "builtin_function_or_method",
    "instance",
    "_Feature"
   ],
   "window_display": false
  }
 },
 "nbformat": 4,
 "nbformat_minor": 5
}
