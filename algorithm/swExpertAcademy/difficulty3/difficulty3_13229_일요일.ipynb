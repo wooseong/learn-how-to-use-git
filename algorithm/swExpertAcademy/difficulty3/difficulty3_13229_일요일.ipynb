{
 "cells": [
  {
   "cell_type": "markdown",
   "id": "bfbc7d42",
   "metadata": {},
   "source": [
    "# 13229. 일요일\n",
    "* https://swexpertacademy.com/main/code/problem/problemDetail.do?problemLevel=3&contestProbId=AX0SaDW6L2oDFASs&categoryId=AX0SaDW6L2oDFASs&categoryType=CODE&problemTitle=&orderBy=FIRST_REG_DATETIME&selectCodeLang=ALL&select-1=3&pageSize=10&pageIndex=2"
   ]
  },
  {
   "cell_type": "code",
   "execution_count": 3,
   "id": "da24e3d5",
   "metadata": {
    "ExecuteTime": {
     "end_time": "2023-02-16T01:11:30.818720Z",
     "start_time": "2023-02-16T01:11:23.675758Z"
    }
   },
   "outputs": [
    {
     "name": "stdout",
     "output_type": "stream",
     "text": [
      "3\n",
      "SUN\n",
      "#1 7\n",
      "SAT\n",
      "#2 1\n",
      "MON\n",
      "#3 6\n"
     ]
    }
   ],
   "source": [
    "t = int(input())\n",
    "for T in range(t):\n",
    "    day = ['',\"MON\", \"TUE\", \"WED\", \"THU\", \"FRI\", \"SAT\", \"SUN\"]\n",
    "    date = input()\n",
    "    num = day.index(date)\n",
    "    num = 7-num\n",
    "    if num == 0 :\n",
    "        num=7\n",
    "    print(f\"#{T+1} {num}\")"
   ]
  },
  {
   "cell_type": "code",
   "execution_count": null,
   "id": "df016299",
   "metadata": {},
   "outputs": [],
   "source": [
    "3\n",
    "SUN\n",
    "SAT\n",
    "MON"
   ]
  }
 ],
 "metadata": {
  "kernelspec": {
   "display_name": "Python 3 (ipykernel)",
   "language": "python",
   "name": "python3"
  },
  "language_info": {
   "codemirror_mode": {
    "name": "ipython",
    "version": 3
   },
   "file_extension": ".py",
   "mimetype": "text/x-python",
   "name": "python",
   "nbconvert_exporter": "python",
   "pygments_lexer": "ipython3",
   "version": "3.9.13"
  },
  "toc": {
   "base_numbering": 1,
   "nav_menu": {},
   "number_sections": true,
   "sideBar": true,
   "skip_h1_title": false,
   "title_cell": "Table of Contents",
   "title_sidebar": "Contents",
   "toc_cell": false,
   "toc_position": {},
   "toc_section_display": true,
   "toc_window_display": false
  },
  "varInspector": {
   "cols": {
    "lenName": 16,
    "lenType": 16,
    "lenVar": 40
   },
   "kernels_config": {
    "python": {
     "delete_cmd_postfix": "",
     "delete_cmd_prefix": "del ",
     "library": "var_list.py",
     "varRefreshCmd": "print(var_dic_list())"
    },
    "r": {
     "delete_cmd_postfix": ") ",
     "delete_cmd_prefix": "rm(",
     "library": "var_list.r",
     "varRefreshCmd": "cat(var_dic_list()) "
    }
   },
   "types_to_exclude": [
    "module",
    "function",
    "builtin_function_or_method",
    "instance",
    "_Feature"
   ],
   "window_display": false
  }
 },
 "nbformat": 4,
 "nbformat_minor": 5
}
