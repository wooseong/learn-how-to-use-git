{
 "cells": [
  {
   "cell_type": "markdown",
   "id": "22c6080c",
   "metadata": {},
   "source": [
    "# 13732. 정사각형 판정\n",
    "* https://swexpertacademy.com/main/code/problem/problemDetail.do?problemLevel=3&contestProbId=AX8BAN1qTwoDFARO&categoryId=AX8BAN1qTwoDFARO&categoryType=CODE&problemTitle=&orderBy=FIRST_REG_DATETIME&selectCodeLang=ALL&select-1=3&pageSize=10&pageIndex=2"
   ]
  },
  {
   "cell_type": "code",
   "execution_count": 29,
   "id": "c720f2a5",
   "metadata": {
    "ExecuteTime": {
     "end_time": "2023-02-14T09:51:59.698822Z",
     "start_time": "2023-02-14T09:51:47.032841Z"
    }
   },
   "outputs": [
    {
     "name": "stdout",
     "output_type": "stream",
     "text": [
      "1\n",
      "4\n",
      "##..\n",
      "##..\n",
      "..##\n",
      "..##\n",
      "#1 no\n"
     ]
    }
   ],
   "source": [
    "t = int(input())\n",
    "for T in range(t):\n",
    "    n=int(input())\n",
    "    check=False\n",
    "    board=[0]*n\n",
    "    for i in range(n):\n",
    "        board[i]=input()\n",
    "    row=col=0\n",
    "    while True :\n",
    "        if board[row][col]=='#':\n",
    "            findRow=row\n",
    "            findCol=col\n",
    "            break\n",
    "        else:\n",
    "            col+=1\n",
    "            if col==n:\n",
    "                col=0\n",
    "                row+=1\n",
    "                if row==n:\n",
    "                    break\n",
    "    length=0\n",
    "    check=True\n",
    "    #정사각형 한변 길이 제기\n",
    "    for j in range(findCol,n):\n",
    "        if board[findRow][j]=='#':\n",
    "            length+=1\n",
    "    \n",
    "    for i in range(findRow+1,findRow+length):\n",
    "        cnt=0\n",
    "        for j in range(findCol,findCol+length):\n",
    "            if board[i][j]=='#':\n",
    "                cnt+=1\n",
    "        if length != cnt :\n",
    "            check=False\n",
    "            break\n",
    "    num=0\n",
    "    for i in range(n):\n",
    "        num+=board[i].count('#')\n",
    "\n",
    "    print(f\"#{T+1} {'yes' if check and num==length**2 else 'no'}\")"
   ]
  },
  {
   "cell_type": "code",
   "execution_count": null,
   "id": "e10e5012",
   "metadata": {},
   "outputs": [],
   "source": [
    "3\n",
    "3\n",
    "...\n",
    ".##\n",
    ".##\n",
    "4\n",
    "#..#\n",
    "....\n",
    "....\n",
    "#..#\n",
    "5\n",
    ".....\n",
    ".###.\n",
    ".###.\n",
    ".###.\n",
    "....."
   ]
  }
 ],
 "metadata": {
  "kernelspec": {
   "display_name": "Python 3 (ipykernel)",
   "language": "python",
   "name": "python3"
  },
  "language_info": {
   "codemirror_mode": {
    "name": "ipython",
    "version": 3
   },
   "file_extension": ".py",
   "mimetype": "text/x-python",
   "name": "python",
   "nbconvert_exporter": "python",
   "pygments_lexer": "ipython3",
   "version": "3.9.13"
  },
  "toc": {
   "base_numbering": 1,
   "nav_menu": {},
   "number_sections": true,
   "sideBar": true,
   "skip_h1_title": false,
   "title_cell": "Table of Contents",
   "title_sidebar": "Contents",
   "toc_cell": false,
   "toc_position": {},
   "toc_section_display": true,
   "toc_window_display": false
  },
  "varInspector": {
   "cols": {
    "lenName": 16,
    "lenType": 16,
    "lenVar": 40
   },
   "kernels_config": {
    "python": {
     "delete_cmd_postfix": "",
     "delete_cmd_prefix": "del ",
     "library": "var_list.py",
     "varRefreshCmd": "print(var_dic_list())"
    },
    "r": {
     "delete_cmd_postfix": ") ",
     "delete_cmd_prefix": "rm(",
     "library": "var_list.r",
     "varRefreshCmd": "cat(var_dic_list()) "
    }
   },
   "types_to_exclude": [
    "module",
    "function",
    "builtin_function_or_method",
    "instance",
    "_Feature"
   ],
   "window_display": false
  }
 },
 "nbformat": 4,
 "nbformat_minor": 5
}
