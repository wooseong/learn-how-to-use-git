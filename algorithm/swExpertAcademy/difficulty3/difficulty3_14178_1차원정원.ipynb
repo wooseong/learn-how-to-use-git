{
 "cells": [
  {
   "cell_type": "markdown",
   "id": "ea77eeef",
   "metadata": {},
   "source": [
    "# 14178. 1차원 정원\n",
    "* https://swexpertacademy.com/main/code/problem/problemDetail.do?problemLevel=3&contestProbId=AX_N3oSqcyUDFARi&categoryId=AX_N3oSqcyUDFARi&categoryType=CODE&problemTitle=&orderBy=FIRST_REG_DATETIME&selectCodeLang=ALL&select-1=3&pageSize=10&pageIndex=1"
   ]
  },
  {
   "cell_type": "code",
   "execution_count": 9,
   "id": "6ae298a5",
   "metadata": {
    "ExecuteTime": {
     "end_time": "2023-02-14T08:31:49.737572Z",
     "start_time": "2023-02-14T08:31:44.925596Z"
    }
   },
   "outputs": [
    {
     "name": "stdout",
     "output_type": "stream",
     "text": [
      "1\n",
      "1 1\n",
      "#1 1\n"
     ]
    }
   ],
   "source": [
    "t= int(input())\n",
    "for T in range(t):\n",
    "    n, d = map(int, input().split())\n",
    "    cnt=0\n",
    "    x=n\n",
    "    while 0<x :\n",
    "        x-=d+d+1\n",
    "        cnt+=1\n",
    "    \n",
    "    print(f\"#{T+1} {cnt}\")"
   ]
  },
  {
   "cell_type": "code",
   "execution_count": 8,
   "id": "92197b3b",
   "metadata": {
    "ExecuteTime": {
     "end_time": "2023-02-14T08:31:43.362549Z",
     "start_time": "2023-02-14T08:31:43.356065Z"
    }
   },
   "outputs": [
    {
     "ename": "SyntaxError",
     "evalue": "invalid syntax (1917506956.py, line 2)",
     "output_type": "error",
     "traceback": [
      "\u001b[1;36m  File \u001b[1;32m\"C:\\Users\\lisa9\\AppData\\Local\\Temp\\ipykernel_75392\\1917506956.py\"\u001b[1;36m, line \u001b[1;32m2\u001b[0m\n\u001b[1;33m    5 1\u001b[0m\n\u001b[1;37m      ^\u001b[0m\n\u001b[1;31mSyntaxError\u001b[0m\u001b[1;31m:\u001b[0m invalid syntax\n"
     ]
    }
   ],
   "source": [
    "3\n",
    "5 1\n",
    "5 2\n",
    "100 3"
   ]
  },
  {
   "cell_type": "code",
   "execution_count": null,
   "id": "1e7a33d2",
   "metadata": {},
   "outputs": [],
   "source": [
    "#1 2\n",
    "#2 1\n",
    "#3 15"
   ]
  }
 ],
 "metadata": {
  "kernelspec": {
   "display_name": "Python 3 (ipykernel)",
   "language": "python",
   "name": "python3"
  },
  "language_info": {
   "codemirror_mode": {
    "name": "ipython",
    "version": 3
   },
   "file_extension": ".py",
   "mimetype": "text/x-python",
   "name": "python",
   "nbconvert_exporter": "python",
   "pygments_lexer": "ipython3",
   "version": "3.9.13"
  },
  "toc": {
   "base_numbering": 1,
   "nav_menu": {},
   "number_sections": true,
   "sideBar": true,
   "skip_h1_title": false,
   "title_cell": "Table of Contents",
   "title_sidebar": "Contents",
   "toc_cell": false,
   "toc_position": {},
   "toc_section_display": true,
   "toc_window_display": false
  },
  "varInspector": {
   "cols": {
    "lenName": 16,
    "lenType": 16,
    "lenVar": 40
   },
   "kernels_config": {
    "python": {
     "delete_cmd_postfix": "",
     "delete_cmd_prefix": "del ",
     "library": "var_list.py",
     "varRefreshCmd": "print(var_dic_list())"
    },
    "r": {
     "delete_cmd_postfix": ") ",
     "delete_cmd_prefix": "rm(",
     "library": "var_list.r",
     "varRefreshCmd": "cat(var_dic_list()) "
    }
   },
   "types_to_exclude": [
    "module",
    "function",
    "builtin_function_or_method",
    "instance",
    "_Feature"
   ],
   "window_display": false
  }
 },
 "nbformat": 4,
 "nbformat_minor": 5
}
