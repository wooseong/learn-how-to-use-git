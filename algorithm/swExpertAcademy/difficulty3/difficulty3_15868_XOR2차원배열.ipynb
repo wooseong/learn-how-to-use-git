{
 "cells": [
  {
   "cell_type": "markdown",
   "id": "65934afe",
   "metadata": {},
   "source": [
    "# 15868. XOR 2차원 배열\n",
    "* https://swexpertacademy.com/main/code/problem/problemDetail.do?problemLevel=3&contestProbId=AYTAurfKJDEDFARs&categoryId=AYTAurfKJDEDFARs&categoryType=CODE&problemTitle=&orderBy=FIRST_REG_DATETIME&selectCodeLang=ALL&select-1=3&pageSize=10&pageIndex=1"
   ]
  },
  {
   "cell_type": "code",
   "execution_count": 11,
   "id": "43af4f73",
   "metadata": {
    "ExecuteTime": {
     "end_time": "2023-02-10T08:44:29.840323Z",
     "start_time": "2023-02-10T08:44:19.541485Z"
    }
   },
   "outputs": [
    {
     "name": "stdout",
     "output_type": "stream",
     "text": [
      "1\n",
      "3 4\n",
      "0 1 0 0\n",
      "1 0 1 1\n",
      "0 1 1 0\n",
      "2 2\n",
      "#1 no\n"
     ]
    }
   ],
   "source": [
    "t = int(input())\n",
    "for T in range(t):\n",
    "    n,m=map(int, input().split())\n",
    "    array=[0]*n\n",
    "    check=True\n",
    "    \n",
    "    for i in range(n):\n",
    "        array[i]=list(map(int, input().split()))\n",
    "    \n",
    "    for i in range(1,n):\n",
    "        if array[0][0]==array[i][0]:\n",
    "            reverse=True\n",
    "        else:\n",
    "            reverse=False\n",
    "            \n",
    "        for j in range(1,m):\n",
    "            if reverse and (array[0][j]==array[i][j]):\n",
    "                continue\n",
    "            elif (not reverse) and (array[0][j]!=array[i][j]):\n",
    "                continue\n",
    "            else:\n",
    "                check=False\n",
    "                break\n",
    "    \n",
    "    \n",
    "    print(f\"#{T+1} {'yes' if check else 'no'}\")"
   ]
  },
  {
   "cell_type": "code",
   "execution_count": null,
   "id": "bd63405f",
   "metadata": {},
   "outputs": [],
   "source": []
  }
 ],
 "metadata": {
  "kernelspec": {
   "display_name": "Python 3 (ipykernel)",
   "language": "python",
   "name": "python3"
  },
  "language_info": {
   "codemirror_mode": {
    "name": "ipython",
    "version": 3
   },
   "file_extension": ".py",
   "mimetype": "text/x-python",
   "name": "python",
   "nbconvert_exporter": "python",
   "pygments_lexer": "ipython3",
   "version": "3.9.13"
  },
  "toc": {
   "base_numbering": 1,
   "nav_menu": {},
   "number_sections": true,
   "sideBar": true,
   "skip_h1_title": false,
   "title_cell": "Table of Contents",
   "title_sidebar": "Contents",
   "toc_cell": false,
   "toc_position": {},
   "toc_section_display": true,
   "toc_window_display": false
  },
  "varInspector": {
   "cols": {
    "lenName": 16,
    "lenType": 16,
    "lenVar": 40
   },
   "kernels_config": {
    "python": {
     "delete_cmd_postfix": "",
     "delete_cmd_prefix": "del ",
     "library": "var_list.py",
     "varRefreshCmd": "print(var_dic_list())"
    },
    "r": {
     "delete_cmd_postfix": ") ",
     "delete_cmd_prefix": "rm(",
     "library": "var_list.r",
     "varRefreshCmd": "cat(var_dic_list()) "
    }
   },
   "types_to_exclude": [
    "module",
    "function",
    "builtin_function_or_method",
    "instance",
    "_Feature"
   ],
   "window_display": false
  }
 },
 "nbformat": 4,
 "nbformat_minor": 5
}
