{
 "cells": [
  {
   "cell_type": "markdown",
   "id": "95d77ad0",
   "metadata": {},
   "source": [
    "# 1976. 시각 덧셈\n",
    "* https://swexpertacademy.com/main/code/problem/problemDetail.do?problemLevel=2&contestProbId=AV5PttaaAZIDFAUq&categoryId=AV5PttaaAZIDFAUq&categoryType=CODE&problemTitle=&orderBy=FIRST_REG_DATETIME&selectCodeLang=ALL&select-1=2&pageSize=10&pageIndex=2"
   ]
  },
  {
   "cell_type": "code",
   "execution_count": 3,
   "id": "b59382f3",
   "metadata": {
    "ExecuteTime": {
     "end_time": "2023-02-06T02:33:40.381403Z",
     "start_time": "2023-02-06T02:33:24.276583Z"
    }
   },
   "outputs": [
    {
     "name": "stdout",
     "output_type": "stream",
     "text": [
      "4\n",
      "3 17 1 39\n",
      "#1 4 56\n",
      "8 22 5 10\n",
      "#2 1 32\n",
      "6 53 2 12\n",
      "#3 9 5\n",
      "11 59 11 59\n",
      "#4 11 58\n"
     ]
    }
   ],
   "source": [
    "t = int(input())\n",
    "for T in range(t):\n",
    "    h1,m1,h2,m2 = map(int, input().split())\n",
    "    print(f\"#{T+1} {12 if (h1+h2+((m1+m2)//60))%12 == 0 else (h1+h2+((m1+m2)//60))%12} {(m1+m2)%60}\")"
   ]
  },
  {
   "cell_type": "code",
   "execution_count": null,
   "id": "f60800c9",
   "metadata": {},
   "outputs": [],
   "source": [
    "3 \n",
    "3 17 1 39\n",
    "8 22 5 10\n",
    "6 53 2 12   "
   ]
  }
 ],
 "metadata": {
  "kernelspec": {
   "display_name": "Python 3 (ipykernel)",
   "language": "python",
   "name": "python3"
  },
  "language_info": {
   "codemirror_mode": {
    "name": "ipython",
    "version": 3
   },
   "file_extension": ".py",
   "mimetype": "text/x-python",
   "name": "python",
   "nbconvert_exporter": "python",
   "pygments_lexer": "ipython3",
   "version": "3.9.13"
  },
  "toc": {
   "base_numbering": 1,
   "nav_menu": {},
   "number_sections": true,
   "sideBar": true,
   "skip_h1_title": false,
   "title_cell": "Table of Contents",
   "title_sidebar": "Contents",
   "toc_cell": false,
   "toc_position": {},
   "toc_section_display": true,
   "toc_window_display": false
  },
  "varInspector": {
   "cols": {
    "lenName": 16,
    "lenType": 16,
    "lenVar": 40
   },
   "kernels_config": {
    "python": {
     "delete_cmd_postfix": "",
     "delete_cmd_prefix": "del ",
     "library": "var_list.py",
     "varRefreshCmd": "print(var_dic_list())"
    },
    "r": {
     "delete_cmd_postfix": ") ",
     "delete_cmd_prefix": "rm(",
     "library": "var_list.r",
     "varRefreshCmd": "cat(var_dic_list()) "
    }
   },
   "types_to_exclude": [
    "module",
    "function",
    "builtin_function_or_method",
    "instance",
    "_Feature"
   ],
   "window_display": false
  }
 },
 "nbformat": 4,
 "nbformat_minor": 5
}
