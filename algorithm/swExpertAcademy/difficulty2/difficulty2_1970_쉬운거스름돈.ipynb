{
 "cells": [
  {
   "cell_type": "markdown",
   "id": "4753c315",
   "metadata": {},
   "source": [
    "# 1970. 쉬운 거스름돈\n",
    "* https://swexpertacademy.com/main/code/problem/problemDetail.do?problemLevel=2&contestProbId=AV5PsIl6AXIDFAUq&categoryId=AV5PsIl6AXIDFAUq&categoryType=CODE&problemTitle=&orderBy=FIRST_REG_DATETIME&selectCodeLang=ALL&select-1=2&pageSize=10&pageIndex=2"
   ]
  },
  {
   "cell_type": "code",
   "execution_count": 1,
   "id": "5e2c988e",
   "metadata": {
    "ExecuteTime": {
     "end_time": "2023-02-06T03:21:49.005231Z",
     "start_time": "2023-02-06T03:21:28.602195Z"
    }
   },
   "outputs": [
    {
     "name": "stdout",
     "output_type": "stream",
     "text": [
      "2\n",
      "32850\n",
      "#1\n",
      "0 3 0 2 1 3 1 0 160\n",
      "#2\n",
      "0 0 0 0 0 1 1 1 "
     ]
    }
   ],
   "source": [
    "t = int(input())\n",
    "for T in range(t):\n",
    "    change = int(input())\n",
    "    \n",
    "    print(f\"#{T+1}\")\n",
    "    print(f\"{change//50000}\", end=\" \")\n",
    "    change%=50000\n",
    "    print(f\"{change//10000}\", end=\" \")\n",
    "    change%=10000\n",
    "    print(f\"{change//5000}\", end=\" \")\n",
    "    change%=5000\n",
    "    print(f\"{change//1000}\", end=\" \")\n",
    "    change%=1000\n",
    "    print(f\"{change//500}\", end=\" \")\n",
    "    change%=500\n",
    "    print(f\"{change//100}\", end=\" \")\n",
    "    change%=100\n",
    "    print(f\"{change//50}\", end=\" \")\n",
    "    change%=50\n",
    "    print(f\"{change//10}\")\n",
    "    change%=10"
   ]
  },
  {
   "cell_type": "code",
   "execution_count": null,
   "id": "c7124f41",
   "metadata": {},
   "outputs": [],
   "source": []
  }
 ],
 "metadata": {
  "kernelspec": {
   "display_name": "Python 3 (ipykernel)",
   "language": "python",
   "name": "python3"
  },
  "language_info": {
   "codemirror_mode": {
    "name": "ipython",
    "version": 3
   },
   "file_extension": ".py",
   "mimetype": "text/x-python",
   "name": "python",
   "nbconvert_exporter": "python",
   "pygments_lexer": "ipython3",
   "version": "3.9.13"
  },
  "toc": {
   "base_numbering": 1,
   "nav_menu": {},
   "number_sections": true,
   "sideBar": true,
   "skip_h1_title": false,
   "title_cell": "Table of Contents",
   "title_sidebar": "Contents",
   "toc_cell": false,
   "toc_position": {},
   "toc_section_display": true,
   "toc_window_display": false
  },
  "varInspector": {
   "cols": {
    "lenName": 16,
    "lenType": 16,
    "lenVar": 40
   },
   "kernels_config": {
    "python": {
     "delete_cmd_postfix": "",
     "delete_cmd_prefix": "del ",
     "library": "var_list.py",
     "varRefreshCmd": "print(var_dic_list())"
    },
    "r": {
     "delete_cmd_postfix": ") ",
     "delete_cmd_prefix": "rm(",
     "library": "var_list.r",
     "varRefreshCmd": "cat(var_dic_list()) "
    }
   },
   "types_to_exclude": [
    "module",
    "function",
    "builtin_function_or_method",
    "instance",
    "_Feature"
   ],
   "window_display": false
  }
 },
 "nbformat": 4,
 "nbformat_minor": 5
}
