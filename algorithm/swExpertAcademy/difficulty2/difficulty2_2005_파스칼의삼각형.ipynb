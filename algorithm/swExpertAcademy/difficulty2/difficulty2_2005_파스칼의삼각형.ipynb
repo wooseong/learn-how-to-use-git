{
 "cells": [
  {
   "cell_type": "markdown",
   "id": "0b863f62",
   "metadata": {},
   "source": [
    "# 파스칼의 삼각형\n",
    "* https://swexpertacademy.com/main/code/problem/problemDetail.do?problemLevel=2&contestProbId=AV5P0-h6Ak4DFAUq&categoryId=AV5P0-h6Ak4DFAUq&categoryType=CODE&problemTitle=&orderBy=FIRST_REG_DATETIME&selectCodeLang=ALL&select-1=2&pageSize=10&pageIndex=1\n",
    "* 이항계수의 성질을 이용해야할듯?"
   ]
  },
  {
   "cell_type": "code",
   "execution_count": 7,
   "id": "8d8b3036",
   "metadata": {
    "ExecuteTime": {
     "end_time": "2023-02-01T01:21:29.338532Z",
     "start_time": "2023-02-01T01:21:25.510507Z"
    }
   },
   "outputs": [
    {
     "name": "stdout",
     "output_type": "stream",
     "text": [
      "5\n",
      "1\n",
      "#1\n",
      "1 \n",
      "2\n",
      "#2\n",
      "1 \n",
      "1 1 \n",
      "3\n",
      "#3\n",
      "1 \n",
      "1 1 \n",
      "1 2 1 \n",
      "4\n",
      "#4\n",
      "1 \n",
      "1 1 \n",
      "1 2 1 \n",
      "1 3 3 1 \n",
      "5\n",
      "#5\n",
      "1 \n",
      "1 1 \n",
      "1 2 1 \n",
      "1 3 3 1 \n",
      "1 4 6 4 1 \n"
     ]
    }
   ],
   "source": [
    "def factorial(n, k):\n",
    "    nfact=1\n",
    "    kfact=1\n",
    "    for i in range(1,n+1):\n",
    "        nfact*=i\n",
    "    for i in range(1,k+1):\n",
    "        kfact*=i\n",
    "    for i in range(1,n-k+1):\n",
    "        kfact*=i\n",
    "    return nfact/kfact\n",
    "\n",
    "t = int(input())\n",
    "for T in range(t):\n",
    "    n = int(input())\n",
    "    print(f\"#{T+1}\")\n",
    "    for i in range(n):\n",
    "        for j in range(i+1):\n",
    "\n",
    "            print(int(factorial(i,j)), end=\" \")\n",
    "        print()"
   ]
  },
  {
   "cell_type": "code",
   "execution_count": null,
   "id": "4ae373c5",
   "metadata": {},
   "outputs": [],
   "source": []
  }
 ],
 "metadata": {
  "kernelspec": {
   "display_name": "Python 3 (ipykernel)",
   "language": "python",
   "name": "python3"
  },
  "language_info": {
   "codemirror_mode": {
    "name": "ipython",
    "version": 3
   },
   "file_extension": ".py",
   "mimetype": "text/x-python",
   "name": "python",
   "nbconvert_exporter": "python",
   "pygments_lexer": "ipython3",
   "version": "3.9.13"
  },
  "toc": {
   "base_numbering": 1,
   "nav_menu": {},
   "number_sections": true,
   "sideBar": true,
   "skip_h1_title": false,
   "title_cell": "Table of Contents",
   "title_sidebar": "Contents",
   "toc_cell": false,
   "toc_position": {},
   "toc_section_display": true,
   "toc_window_display": false
  },
  "varInspector": {
   "cols": {
    "lenName": 16,
    "lenType": 16,
    "lenVar": 40
   },
   "kernels_config": {
    "python": {
     "delete_cmd_postfix": "",
     "delete_cmd_prefix": "del ",
     "library": "var_list.py",
     "varRefreshCmd": "print(var_dic_list())"
    },
    "r": {
     "delete_cmd_postfix": ") ",
     "delete_cmd_prefix": "rm(",
     "library": "var_list.r",
     "varRefreshCmd": "cat(var_dic_list()) "
    }
   },
   "types_to_exclude": [
    "module",
    "function",
    "builtin_function_or_method",
    "instance",
    "_Feature"
   ],
   "window_display": false
  }
 },
 "nbformat": 4,
 "nbformat_minor": 5
}
