{
 "cells": [
  {
   "cell_type": "markdown",
   "id": "26ac5741",
   "metadata": {},
   "source": [
    "# 패턴 마다의 길이\n",
    "* https://swexpertacademy.com/main/code/problem/problemDetail.do?problemLevel=2&contestProbId=AV5P1kNKAl8DFAUq&categoryId=AV5P1kNKAl8DFAUq&categoryType=CODE&problemTitle=&orderBy=FIRST_REG_DATETIME&selectCodeLang=ALL&select-1=2&pageSize=10&pageIndex=1"
   ]
  },
  {
   "cell_type": "code",
   "execution_count": 2,
   "id": "8d8bc761",
   "metadata": {
    "ExecuteTime": {
     "end_time": "2023-01-31T08:32:38.197789Z",
     "start_time": "2023-01-31T08:32:35.145694Z"
    }
   },
   "outputs": [
    {
     "name": "stdout",
     "output_type": "stream",
     "text": [
      "1\n",
      "sdfsdfsdf\n",
      "<class 'str'>\n"
     ]
    }
   ],
   "source": [
    "n = int(input()) #test case 수\n",
    "for t in range(n):\n",
    "    x=input()\n",
    "    count=31\n",
    "    for i in range(10):\n",
    "        if count>(x.count(x[:i+1])):\n",
    "            count = x.count(x[:i+1])\n",
    "    \n",
    "    print(f\"#{t+1} {count}\")"
   ]
  },
  {
   "cell_type": "code",
   "execution_count": 4,
   "id": "0c0eda47",
   "metadata": {
    "ExecuteTime": {
     "end_time": "2023-01-31T08:39:35.717379Z",
     "start_time": "2023-01-31T08:39:35.705378Z"
    }
   },
   "outputs": [
    {
     "data": {
      "text/plain": [
       "'2'"
      ]
     },
     "execution_count": 4,
     "metadata": {},
     "output_type": "execute_result"
    }
   ],
   "source": [
    "\"123456\"[1:2]"
   ]
  },
  {
   "cell_type": "code",
   "execution_count": null,
   "id": "49a146f7",
   "metadata": {},
   "outputs": [],
   "source": []
  }
 ],
 "metadata": {
  "kernelspec": {
   "display_name": "Python 3 (ipykernel)",
   "language": "python",
   "name": "python3"
  },
  "language_info": {
   "codemirror_mode": {
    "name": "ipython",
    "version": 3
   },
   "file_extension": ".py",
   "mimetype": "text/x-python",
   "name": "python",
   "nbconvert_exporter": "python",
   "pygments_lexer": "ipython3",
   "version": "3.9.13"
  },
  "toc": {
   "base_numbering": 1,
   "nav_menu": {},
   "number_sections": true,
   "sideBar": true,
   "skip_h1_title": false,
   "title_cell": "Table of Contents",
   "title_sidebar": "Contents",
   "toc_cell": false,
   "toc_position": {},
   "toc_section_display": true,
   "toc_window_display": false
  },
  "varInspector": {
   "cols": {
    "lenName": 16,
    "lenType": 16,
    "lenVar": 40
   },
   "kernels_config": {
    "python": {
     "delete_cmd_postfix": "",
     "delete_cmd_prefix": "del ",
     "library": "var_list.py",
     "varRefreshCmd": "print(var_dic_list())"
    },
    "r": {
     "delete_cmd_postfix": ") ",
     "delete_cmd_prefix": "rm(",
     "library": "var_list.r",
     "varRefreshCmd": "cat(var_dic_list()) "
    }
   },
   "types_to_exclude": [
    "module",
    "function",
    "builtin_function_or_method",
    "instance",
    "_Feature"
   ],
   "window_display": false
  }
 },
 "nbformat": 4,
 "nbformat_minor": 5
}
