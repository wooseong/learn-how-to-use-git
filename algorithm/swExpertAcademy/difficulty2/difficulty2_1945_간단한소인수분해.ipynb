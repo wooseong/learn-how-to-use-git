{
 "cells": [
  {
   "cell_type": "markdown",
   "id": "a44384ec",
   "metadata": {},
   "source": [
    "# 1945. 간단한 소인수분해\n",
    "* https://swexpertacademy.com/main/code/problem/problemDetail.do?problemLevel=2&contestProbId=AV5Pl0Q6ANQDFAUq&categoryId=AV5Pl0Q6ANQDFAUq&categoryType=CODE&problemTitle=&orderBy=FIRST_REG_DATETIME&selectCodeLang=ALL&select-1=2&pageSize=10&pageIndex=2"
   ]
  },
  {
   "cell_type": "code",
   "execution_count": 3,
   "id": "f1eed06c",
   "metadata": {
    "ExecuteTime": {
     "end_time": "2023-02-07T11:12:51.510515Z",
     "start_time": "2023-02-07T11:12:11.105993Z"
    }
   },
   "outputs": [
    {
     "name": "stdout",
     "output_type": "stream",
     "text": [
      "10\n",
      "6791400\n",
      "#1 3 2 2 3 1\n",
      "1646400\n",
      "#2 6 1 2 3 0\n",
      "1425600\n",
      "#3 6 4 2 0 1\n",
      "8575\n",
      "#4 0 0 2 3 0\n",
      "185625\n",
      "#5 0 3 4 0 1\n",
      "6480\n",
      "#6 4 4 1 0 0\n",
      "1185408\n",
      "#7 7 3 0 3 0\n",
      "6561\n",
      "#8 0 8 0 0 0\n",
      "25\n",
      "#9 0 0 2 0 0\n",
      "330750\n",
      "#10 1 3 3 2 0\n"
     ]
    }
   ],
   "source": [
    "t = int(input())\n",
    "for T in range(t):\n",
    "    n = int(input())\n",
    "    a=b=c=d=e=0\n",
    "    while n%2==0:\n",
    "        a+=1\n",
    "        n=n/2\n",
    "    while n%3==0:\n",
    "        b+=1\n",
    "        n=n/3    \n",
    "    while n%5==0:\n",
    "        c+=1\n",
    "        n=n/5\n",
    "    while n%7==0:\n",
    "        d+=1\n",
    "        n=n/7\n",
    "    while n%11==0:\n",
    "        e+=1\n",
    "        n=n/11\n",
    "    print(f\"#{T+1} {a} {b} {c} {d} {e}\")"
   ]
  },
  {
   "cell_type": "code",
   "execution_count": null,
   "id": "58e7bd14",
   "metadata": {},
   "outputs": [],
   "source": [
    "10  \n",
    "6791400\n",
    "1646400\n",
    "1425600\n",
    "8575\n",
    "185625\n",
    "6480\n",
    "1185408\n",
    "6561\n",
    "25\n",
    "330750"
   ]
  }
 ],
 "metadata": {
  "kernelspec": {
   "display_name": "Python 3 (ipykernel)",
   "language": "python",
   "name": "python3"
  },
  "language_info": {
   "codemirror_mode": {
    "name": "ipython",
    "version": 3
   },
   "file_extension": ".py",
   "mimetype": "text/x-python",
   "name": "python",
   "nbconvert_exporter": "python",
   "pygments_lexer": "ipython3",
   "version": "3.9.13"
  },
  "toc": {
   "base_numbering": 1,
   "nav_menu": {},
   "number_sections": true,
   "sideBar": true,
   "skip_h1_title": false,
   "title_cell": "Table of Contents",
   "title_sidebar": "Contents",
   "toc_cell": false,
   "toc_position": {},
   "toc_section_display": true,
   "toc_window_display": false
  },
  "varInspector": {
   "cols": {
    "lenName": 16,
    "lenType": 16,
    "lenVar": 40
   },
   "kernels_config": {
    "python": {
     "delete_cmd_postfix": "",
     "delete_cmd_prefix": "del ",
     "library": "var_list.py",
     "varRefreshCmd": "print(var_dic_list())"
    },
    "r": {
     "delete_cmd_postfix": ") ",
     "delete_cmd_prefix": "rm(",
     "library": "var_list.r",
     "varRefreshCmd": "cat(var_dic_list()) "
    }
   },
   "types_to_exclude": [
    "module",
    "function",
    "builtin_function_or_method",
    "instance",
    "_Feature"
   ],
   "window_display": false
  }
 },
 "nbformat": 4,
 "nbformat_minor": 5
}
