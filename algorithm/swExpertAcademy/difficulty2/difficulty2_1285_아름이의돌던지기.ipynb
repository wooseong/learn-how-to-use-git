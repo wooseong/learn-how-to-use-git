{
 "cells": [
  {
   "cell_type": "markdown",
   "id": "d6d4d243",
   "metadata": {},
   "source": [
    "# 1285. 아름이의 돌 던지기\n",
    "* https://swexpertacademy.com/main/code/problem/problemDetail.do?problemLevel=2&contestProbId=AV18-stqI8oCFAZN&categoryId=AV18-stqI8oCFAZN&categoryType=CODE&problemTitle=&orderBy=FIRST_REG_DATETIME&selectCodeLang=ALL&select-1=2&pageSize=10&pageIndex=3"
   ]
  },
  {
   "cell_type": "code",
   "execution_count": 1,
   "id": "7ec60959",
   "metadata": {
    "ExecuteTime": {
     "end_time": "2023-02-08T08:46:14.194430Z",
     "start_time": "2023-02-08T08:46:03.272582Z"
    }
   },
   "outputs": [
    {
     "name": "stdout",
     "output_type": "stream",
     "text": [
      "2\n",
      "2\n",
      "-100 100\n",
      "#1 100 2\n",
      "3\n",
      "-5 -1 3\n",
      "#2 1 1\n"
     ]
    }
   ],
   "source": [
    "t = int(input())\n",
    "for T in range(t):\n",
    "    n = int(input())\n",
    "    locationStoneFell = list(map(int, input().split()))\n",
    "    locationStoneFell.sort()\n",
    "    for i in range(len(locationStoneFell)):\n",
    "        if locationStoneFell[i]<0:\n",
    "            locationStoneFell[i]=-locationStoneFell[i]\n",
    "        else:\n",
    "            break\n",
    "    locationStoneFell.sort()\n",
    "    personNum=locationStoneFell.count(locationStoneFell[0])\n",
    "        \n",
    "    \n",
    "    print(f\"#{T+1} {locationStoneFell[0]} {personNum}\")"
   ]
  },
  {
   "cell_type": "code",
   "execution_count": null,
   "id": "a47a2d8c",
   "metadata": {},
   "outputs": [],
   "source": []
  }
 ],
 "metadata": {
  "kernelspec": {
   "display_name": "Python 3 (ipykernel)",
   "language": "python",
   "name": "python3"
  },
  "language_info": {
   "codemirror_mode": {
    "name": "ipython",
    "version": 3
   },
   "file_extension": ".py",
   "mimetype": "text/x-python",
   "name": "python",
   "nbconvert_exporter": "python",
   "pygments_lexer": "ipython3",
   "version": "3.9.13"
  },
  "toc": {
   "base_numbering": 1,
   "nav_menu": {},
   "number_sections": true,
   "sideBar": true,
   "skip_h1_title": false,
   "title_cell": "Table of Contents",
   "title_sidebar": "Contents",
   "toc_cell": false,
   "toc_position": {},
   "toc_section_display": true,
   "toc_window_display": false
  },
  "varInspector": {
   "cols": {
    "lenName": 16,
    "lenType": 16,
    "lenVar": 40
   },
   "kernels_config": {
    "python": {
     "delete_cmd_postfix": "",
     "delete_cmd_prefix": "del ",
     "library": "var_list.py",
     "varRefreshCmd": "print(var_dic_list())"
    },
    "r": {
     "delete_cmd_postfix": ") ",
     "delete_cmd_prefix": "rm(",
     "library": "var_list.r",
     "varRefreshCmd": "cat(var_dic_list()) "
    }
   },
   "types_to_exclude": [
    "module",
    "function",
    "builtin_function_or_method",
    "instance",
    "_Feature"
   ],
   "window_display": false
  }
 },
 "nbformat": 4,
 "nbformat_minor": 5
}
