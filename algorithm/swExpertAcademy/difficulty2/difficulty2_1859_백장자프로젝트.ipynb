{
 "cells": [
  {
   "cell_type": "markdown",
   "id": "46125ca5",
   "metadata": {},
   "source": [
    "# 1859. 백만 장자 프로젝트\n",
    "* https://swexpertacademy.com/main/code/problem/problemDetail.do?contestProbId=AV5LrsUaDxcDFAXc"
   ]
  },
  {
   "cell_type": "code",
   "execution_count": 5,
   "id": "9ec48a3d",
   "metadata": {
    "ExecuteTime": {
     "end_time": "2023-01-30T08:47:09.587541Z",
     "start_time": "2023-01-30T08:46:54.241651Z"
    }
   },
   "outputs": [
    {
     "name": "stdout",
     "output_type": "stream",
     "text": [
      "2\n",
      "5\n",
      "1 1 3 1 2\n",
      "#1 5\n",
      "4\n",
      "1 4 2 8\n",
      "#2 9\n"
     ]
    }
   ],
   "source": [
    "#1859\n",
    "T = int(input()) #test case 수\n",
    "for num in range(T) :\n",
    "    n = int(input()) # 2~1,000,000\n",
    "    cost = list(map(int, input().split())) #<=10,000\n",
    "    buy=0\n",
    "    buyCnt=0\n",
    "    sell=0\n",
    "    for i in range(n-1):\n",
    "        if cost[i] <= cost[i+1] :\n",
    "            buy += cost[i]\n",
    "            buyCnt += 1\n",
    "        elif cost[i] == cost[i+1] : continue\n",
    "        else :\n",
    "            sell += (cost[i]*buyCnt)-buy\n",
    "            buy=0\n",
    "            buyCnt=0\n",
    "    if cost[-2] < cost[-1] :\n",
    "        sell += (cost[-1]*buyCnt)-buy\n",
    "    print(f\"#{num+1} {sell}\")"
   ]
  },
  {
   "cell_type": "markdown",
   "id": "1ea955f4",
   "metadata": {
    "ExecuteTime": {
     "end_time": "2023-01-30T03:07:27.950002Z",
     "start_time": "2023-01-30T03:07:27.941200Z"
    }
   },
   "source": [
    "위의 방식으로 하면 가장 가까운 비싼 날 팔기는 하나 최대 이익은 아니다.\n",
    "\n",
    "어떻게 해야 최대 이익이 될까??"
   ]
  },
  {
   "cell_type": "code",
   "execution_count": 17,
   "id": "91ce2f77",
   "metadata": {
    "ExecuteTime": {
     "end_time": "2023-01-30T09:35:32.879751Z",
     "start_time": "2023-01-30T09:35:03.688580Z"
    }
   },
   "outputs": [
    {
     "name": "stdout",
     "output_type": "stream",
     "text": [
      "2\n",
      "9\n",
      "9 6 1 3 7 8 4 2 5\n",
      "#1 19\n",
      "10\n",
      "1 2 3 4 5 6 7 8 9 10\n",
      "#2 45\n"
     ]
    }
   ],
   "source": [
    "T = int(input()) #test case 수\n",
    "for num in range(T) :\n",
    "    n = int(input()) # 2~1,000,000\n",
    "    cost = list(map(int, input().split())) #<=10,000\n",
    "    profitSum=0 #최대이익 합\n",
    "    \n",
    "    for i in range(n-1):\n",
    "        biggestProfit = cost[i] #최대이익을 낼 수 있는 금액\n",
    "        for j in range(i+1,n):\n",
    "            if (cost[i]<cost[j]) and (biggestProfit<cost[j]) :\n",
    "                biggestProfit = cost[j]\n",
    "#                print(biggestProfit)\n",
    "                \n",
    "        profitSum+=biggestProfit - cost[i]\n",
    "#        print(profitSum, biggestProfit, cost[i])\n",
    "    print(f\"#{num+1} {profitSum}\")"
   ]
  },
  {
   "cell_type": "markdown",
   "id": "cd69d2ba",
   "metadata": {},
   "source": [
    "위의 방식대로 하면 값은 정상적으로 나오나 시간 초과 발생\n",
    "\n",
    "이중 for문을 줄여보자"
   ]
  },
  {
   "cell_type": "code",
   "execution_count": 25,
   "id": "41eb443b",
   "metadata": {
    "ExecuteTime": {
     "end_time": "2023-01-30T09:45:30.051736Z",
     "start_time": "2023-01-30T09:45:11.966328Z"
    }
   },
   "outputs": [
    {
     "name": "stdout",
     "output_type": "stream",
     "text": [
      "3\n",
      "3\n",
      "10 7 6\n",
      "#1 0\n",
      "3\n",
      "3 5 9\n",
      "#2 10\n",
      "5\n",
      "1 1 3 1 2\n",
      "#3 5\n"
     ]
    }
   ],
   "source": [
    "T = int(input()) #test case 수\n",
    "for num in range(T) :\n",
    "    n = int(input()) # 2~1,000,000\n",
    "    cost = list(map(int, input().split())) #<=10,000\n",
    "    profitSum=0 #최대이익 합\n",
    "    \n",
    "    biggestProfit = cost[n-1] #최대이익을 낼 수 있는 금액\n",
    "    for i in range(n-2,-1,-1):\n",
    "#최대이익이 나는 날을 뒤로 가면서 계속 더 큰 날이 없는지 비교해야한다\n",
    "#이것을 맨뒤부터 생각해보자\n",
    "        if cost[i]>biggestProfit: #더 큰 최대 값있으므로 이 앞은 이날 팔기 위해 변경\n",
    "            biggestProfit=cost[i]\n",
    "        else :\n",
    "            profitSum+=biggestProfit-cost[i]\n",
    "    print(f\"#{num+1} {profitSum}\")"
   ]
  },
  {
   "cell_type": "code",
   "execution_count": null,
   "id": "85b87905",
   "metadata": {},
   "outputs": [],
   "source": []
  }
 ],
 "metadata": {
  "kernelspec": {
   "display_name": "Python 3 (ipykernel)",
   "language": "python",
   "name": "python3"
  },
  "language_info": {
   "codemirror_mode": {
    "name": "ipython",
    "version": 3
   },
   "file_extension": ".py",
   "mimetype": "text/x-python",
   "name": "python",
   "nbconvert_exporter": "python",
   "pygments_lexer": "ipython3",
   "version": "3.9.13"
  },
  "toc": {
   "base_numbering": 1,
   "nav_menu": {},
   "number_sections": true,
   "sideBar": true,
   "skip_h1_title": false,
   "title_cell": "Table of Contents",
   "title_sidebar": "Contents",
   "toc_cell": false,
   "toc_position": {},
   "toc_section_display": true,
   "toc_window_display": false
  },
  "varInspector": {
   "cols": {
    "lenName": 16,
    "lenType": 16,
    "lenVar": 40
   },
   "kernels_config": {
    "python": {
     "delete_cmd_postfix": "",
     "delete_cmd_prefix": "del ",
     "library": "var_list.py",
     "varRefreshCmd": "print(var_dic_list())"
    },
    "r": {
     "delete_cmd_postfix": ") ",
     "delete_cmd_prefix": "rm(",
     "library": "var_list.r",
     "varRefreshCmd": "cat(var_dic_list()) "
    }
   },
   "types_to_exclude": [
    "module",
    "function",
    "builtin_function_or_method",
    "instance",
    "_Feature"
   ],
   "window_display": false
  }
 },
 "nbformat": 4,
 "nbformat_minor": 5
}
