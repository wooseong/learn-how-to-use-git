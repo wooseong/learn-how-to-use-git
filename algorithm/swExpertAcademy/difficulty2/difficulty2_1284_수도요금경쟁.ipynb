{
 "cells": [
  {
   "cell_type": "markdown",
   "id": "51a65427",
   "metadata": {},
   "source": [
    "# 1284. 수도 요금 경쟁\n",
    "* https://swexpertacademy.com/main/code/problem/problemDetail.do?problemLevel=2&contestProbId=AV189xUaI8UCFAZN&categoryId=AV189xUaI8UCFAZN&categoryType=CODE&problemTitle=&orderBy=FIRST_REG_DATETIME&selectCodeLang=ALL&select-1=2&pageSize=10&pageIndex=3"
   ]
  },
  {
   "cell_type": "code",
   "execution_count": 1,
   "id": "18af9551",
   "metadata": {
    "ExecuteTime": {
     "end_time": "2023-02-08T09:25:27.250015Z",
     "start_time": "2023-02-08T09:25:14.093241Z"
    }
   },
   "outputs": [
    {
     "name": "stdout",
     "output_type": "stream",
     "text": [
      "2\n",
      "9 100 20 3 10\n",
      "1 90\n",
      "8 300 100 10 250\n",
      "2 1800\n"
     ]
    }
   ],
   "source": [
    "t = int(input())\n",
    "for T in range(t):\n",
    "    p,q,r,s,w=map(int,input().split())\n",
    "    print(f\"#{T+1} {w*p if w*p < (q+(0 if w<=r else w-r)*s) else (q+(0 if w<=r else w-r)*s)}\")"
   ]
  },
  {
   "cell_type": "code",
   "execution_count": null,
   "id": "773cee1e",
   "metadata": {},
   "outputs": [],
   "source": [
    "2\n",
    "9 100 20 3 10\n",
    "8 300 100 10 250"
   ]
  }
 ],
 "metadata": {
  "kernelspec": {
   "display_name": "Python 3 (ipykernel)",
   "language": "python",
   "name": "python3"
  },
  "language_info": {
   "codemirror_mode": {
    "name": "ipython",
    "version": 3
   },
   "file_extension": ".py",
   "mimetype": "text/x-python",
   "name": "python",
   "nbconvert_exporter": "python",
   "pygments_lexer": "ipython3",
   "version": "3.9.13"
  },
  "toc": {
   "base_numbering": 1,
   "nav_menu": {},
   "number_sections": true,
   "sideBar": true,
   "skip_h1_title": false,
   "title_cell": "Table of Contents",
   "title_sidebar": "Contents",
   "toc_cell": false,
   "toc_position": {},
   "toc_section_display": true,
   "toc_window_display": false
  },
  "varInspector": {
   "cols": {
    "lenName": 16,
    "lenType": 16,
    "lenVar": 40
   },
   "kernels_config": {
    "python": {
     "delete_cmd_postfix": "",
     "delete_cmd_prefix": "del ",
     "library": "var_list.py",
     "varRefreshCmd": "print(var_dic_list())"
    },
    "r": {
     "delete_cmd_postfix": ") ",
     "delete_cmd_prefix": "rm(",
     "library": "var_list.r",
     "varRefreshCmd": "cat(var_dic_list()) "
    }
   },
   "types_to_exclude": [
    "module",
    "function",
    "builtin_function_or_method",
    "instance",
    "_Feature"
   ],
   "window_display": false
  }
 },
 "nbformat": 4,
 "nbformat_minor": 5
}
