{
 "cells": [
  {
   "cell_type": "markdown",
   "id": "526aafa1",
   "metadata": {},
   "source": [
    "# 1926. 간단한 369게임\n",
    "* https://swexpertacademy.com/main/code/problem/problemDetail.do?problemLevel=2&contestProbId=AV5PTeo6AHUDFAUq&categoryId=AV5PTeo6AHUDFAUq&categoryType=CODE&problemTitle=&orderBy=FIRST_REG_DATETIME&selectCodeLang=ALL&select-1=2&pageSize=10&pageIndex=1"
   ]
  },
  {
   "cell_type": "code",
   "execution_count": 16,
   "id": "e38aa023",
   "metadata": {
    "ExecuteTime": {
     "end_time": "2023-01-31T01:23:37.929172Z",
     "start_time": "2023-01-31T01:23:36.567617Z"
    }
   },
   "outputs": [
    {
     "name": "stdout",
     "output_type": "stream",
     "text": [
      "1000\n",
      "1 2 - 4 5 - 7 8 - 10 11 12 - 14 15 - 17 18 - 20 21 22 - 24 25 - 27 28 - - - - -- - - -- - - -- 40 41 42 - 44 45 - 47 48 - 50 51 52 - 54 55 - 57 58 - - - - -- - - -- - - -- 70 71 72 - 74 75 - 77 78 - 80 81 82 - 84 85 - 87 88 - - - - -- - - -- - - -- 100 101 102 - 104 105 - 107 108 - 110 111 112 - 114 115 - 117 118 - 120 121 122 - 124 125 - 127 128 - - - - -- - - -- - - -- 140 141 142 - 144 145 - 147 148 - 150 151 152 - 154 155 - 157 158 - - - - -- - - -- - - -- 170 171 172 - 174 175 - 177 178 - 180 181 182 - 184 185 - 187 188 - - - - -- - - -- - - -- 200 201 202 - 204 205 - 207 208 - 210 211 212 - 214 215 - 217 218 - 220 221 222 - 224 225 - 227 228 - - - - -- - - -- - - -- 240 241 242 - 244 245 - 247 248 - 250 251 252 - 254 255 - 257 258 - - - - -- - - -- - - -- 270 271 272 - 274 275 - 277 278 - 280 281 282 - 284 285 - 287 288 - - - - -- - - -- - - -- - - - -- - - -- - - -- - - - -- - - -- - - -- - - - -- - - -- - - -- -- -- -- --- -- -- --- -- -- --- - - - -- - - -- - - -- - - - -- - - -- - - -- -- -- -- --- -- -- --- -- -- --- - - - -- - - -- - - -- - - - -- - - -- - - -- -- -- -- --- -- -- --- -- -- --- 400 401 402 - 404 405 - 407 408 - 410 411 412 - 414 415 - 417 418 - 420 421 422 - 424 425 - 427 428 - - - - -- - - -- - - -- 440 441 442 - 444 445 - 447 448 - 450 451 452 - 454 455 - 457 458 - - - - -- - - -- - - -- 470 471 472 - 474 475 - 477 478 - 480 481 482 - 484 485 - 487 488 - - - - -- - - -- - - -- 500 501 502 - 504 505 - 507 508 - 510 511 512 - 514 515 - 517 518 - 520 521 522 - 524 525 - 527 528 - - - - -- - - -- - - -- 540 541 542 - 544 545 - 547 548 - 550 551 552 - 554 555 - 557 558 - - - - -- - - -- - - -- 570 571 572 - 574 575 - 577 578 - 580 581 582 - 584 585 - 587 588 - - - - -- - - -- - - -- - - - -- - - -- - - -- - - - -- - - -- - - -- - - - -- - - -- - - -- -- -- -- --- -- -- --- -- -- --- - - - -- - - -- - - -- - - - -- - - -- - - -- -- -- -- --- -- -- --- -- -- --- - - - -- - - -- - - -- - - - -- - - -- - - -- -- -- -- --- -- -- --- -- -- --- 700 701 702 - 704 705 - 707 708 - 710 711 712 - 714 715 - 717 718 - 720 721 722 - 724 725 - 727 728 - - - - -- - - -- - - -- 740 741 742 - 744 745 - 747 748 - 750 751 752 - 754 755 - 757 758 - - - - -- - - -- - - -- 770 771 772 - 774 775 - 777 778 - 780 781 782 - 784 785 - 787 788 - - - - -- - - -- - - -- 800 801 802 - 804 805 - 807 808 - 810 811 812 - 814 815 - 817 818 - 820 821 822 - 824 825 - 827 828 - - - - -- - - -- - - -- 840 841 842 - 844 845 - 847 848 - 850 851 852 - 854 855 - 857 858 - - - - -- - - -- - - -- 870 871 872 - 874 875 - 877 878 - 880 881 882 - 884 885 - 887 888 - - - - -- - - -- - - -- - - - -- - - -- - - -- - - - -- - - -- - - -- - - - -- - - -- - - -- -- -- -- --- -- -- --- -- -- --- - - - -- - - -- - - -- - - - -- - - -- - - -- -- -- -- --- -- -- --- -- -- --- - - - -- - - -- - - -- - - - -- - - -- - - -- -- -- -- --- -- -- --- -- -- --- 1000 "
     ]
    }
   ],
   "source": [
    "n = int(input()) #1~n까지 369게임을 진행\n",
    "for i in range(1,n+1) :\n",
    "    if ('3' in str(i)) or ('6' in str(i)) or ('9' in str(i)):\n",
    "#        print(f\"{i} 3:{str(i).count('3')}, 6:{str(i).count('6')}, 9:{str(i).count('9')}\",end=\" \")\n",
    "        print(\"-\"*(str(i).count('3')+str(i).count('6')+str(i).count('9')), end=\" \")\n",
    "    else:\n",
    "        print(i,end=\" \")"
   ]
  },
  {
   "cell_type": "code",
   "execution_count": null,
   "id": "6256c6b6",
   "metadata": {},
   "outputs": [],
   "source": []
  }
 ],
 "metadata": {
  "kernelspec": {
   "display_name": "Python 3 (ipykernel)",
   "language": "python",
   "name": "python3"
  },
  "language_info": {
   "codemirror_mode": {
    "name": "ipython",
    "version": 3
   },
   "file_extension": ".py",
   "mimetype": "text/x-python",
   "name": "python",
   "nbconvert_exporter": "python",
   "pygments_lexer": "ipython3",
   "version": "3.9.13"
  },
  "toc": {
   "base_numbering": 1,
   "nav_menu": {},
   "number_sections": true,
   "sideBar": true,
   "skip_h1_title": false,
   "title_cell": "Table of Contents",
   "title_sidebar": "Contents",
   "toc_cell": false,
   "toc_position": {},
   "toc_section_display": true,
   "toc_window_display": false
  },
  "varInspector": {
   "cols": {
    "lenName": 16,
    "lenType": 16,
    "lenVar": 40
   },
   "kernels_config": {
    "python": {
     "delete_cmd_postfix": "",
     "delete_cmd_prefix": "del ",
     "library": "var_list.py",
     "varRefreshCmd": "print(var_dic_list())"
    },
    "r": {
     "delete_cmd_postfix": ") ",
     "delete_cmd_prefix": "rm(",
     "library": "var_list.r",
     "varRefreshCmd": "cat(var_dic_list()) "
    }
   },
   "types_to_exclude": [
    "module",
    "function",
    "builtin_function_or_method",
    "instance",
    "_Feature"
   ],
   "window_display": false
  }
 },
 "nbformat": 4,
 "nbformat_minor": 5
}
