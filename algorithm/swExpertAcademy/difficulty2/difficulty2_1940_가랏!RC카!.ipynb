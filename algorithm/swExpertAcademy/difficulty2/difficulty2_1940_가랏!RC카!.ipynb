{
 "cells": [
  {
   "cell_type": "markdown",
   "id": "04661e98",
   "metadata": {},
   "source": [
    "# 1940. 가랏! RC카!\n",
    "* https://swexpertacademy.com/main/code/problem/problemDetail.do?problemLevel=2&contestProbId=AV5PjMgaALgDFAUq&categoryId=AV5PjMgaALgDFAUq&categoryType=CODE&problemTitle=&orderBy=FIRST_REG_DATETIME&selectCodeLang=ALL&select-1=2&pageSize=10&pageIndex=3"
   ]
  },
  {
   "cell_type": "code",
   "execution_count": 7,
   "id": "16ed294b",
   "metadata": {
    "ExecuteTime": {
     "end_time": "2023-02-07T11:33:57.935742Z",
     "start_time": "2023-02-07T11:33:50.327805Z"
    }
   },
   "outputs": [
    {
     "name": "stdout",
     "output_type": "stream",
     "text": [
      "1\n",
      "5\n",
      "1 2\n",
      "1 2\n",
      "2 1\n",
      "0\n",
      "0\n",
      "#1 15\n"
     ]
    }
   ],
   "source": [
    "t = int(input())\n",
    "for T in range(t):\n",
    "    distance=0\n",
    "    speed=0\n",
    "    n=int(input())\n",
    "    for i in range(n):\n",
    "        x = list(map(int,input().split()))\n",
    "        choice=x[0]\n",
    "        if choice==0:\n",
    "            distance+=speed*1\n",
    "        else :\n",
    "            accel=x[1]\n",
    "            if choice==1:\n",
    "                speed+=accel\n",
    "                distance+=speed\n",
    "            else :\n",
    "                speed-=accel\n",
    "                if speed<0:\n",
    "                    speed=0\n",
    "                distance+=speed\n",
    "    \n",
    "    print(f\"#{T+1} {distance}\")"
   ]
  },
  {
   "cell_type": "code",
   "execution_count": null,
   "id": "3787a368",
   "metadata": {},
   "outputs": [],
   "source": [
    "10\n",
    "2\n",
    "1 2\n",
    "2 1\n",
    "3\n",
    "1 1\n",
    "0\n",
    "1 1\n",
    "5\n",
    "1 2\n",
    "1 2\n",
    "2 1\n",
    "0\n",
    "0"
   ]
  }
 ],
 "metadata": {
  "kernelspec": {
   "display_name": "Python 3 (ipykernel)",
   "language": "python",
   "name": "python3"
  },
  "language_info": {
   "codemirror_mode": {
    "name": "ipython",
    "version": 3
   },
   "file_extension": ".py",
   "mimetype": "text/x-python",
   "name": "python",
   "nbconvert_exporter": "python",
   "pygments_lexer": "ipython3",
   "version": "3.9.13"
  },
  "toc": {
   "base_numbering": 1,
   "nav_menu": {},
   "number_sections": true,
   "sideBar": true,
   "skip_h1_title": false,
   "title_cell": "Table of Contents",
   "title_sidebar": "Contents",
   "toc_cell": false,
   "toc_position": {},
   "toc_section_display": true,
   "toc_window_display": false
  },
  "varInspector": {
   "cols": {
    "lenName": 16,
    "lenType": 16,
    "lenVar": 40
   },
   "kernels_config": {
    "python": {
     "delete_cmd_postfix": "",
     "delete_cmd_prefix": "del ",
     "library": "var_list.py",
     "varRefreshCmd": "print(var_dic_list())"
    },
    "r": {
     "delete_cmd_postfix": ") ",
     "delete_cmd_prefix": "rm(",
     "library": "var_list.r",
     "varRefreshCmd": "cat(var_dic_list()) "
    }
   },
   "types_to_exclude": [
    "module",
    "function",
    "builtin_function_or_method",
    "instance",
    "_Feature"
   ],
   "window_display": false
  }
 },
 "nbformat": 4,
 "nbformat_minor": 5
}
