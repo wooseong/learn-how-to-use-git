{
 "cells": [
  {
   "cell_type": "markdown",
   "id": "07b3dcc6",
   "metadata": {},
   "source": [
    "# 파리퇴치\n",
    "* https://swexpertacademy.com/main/code/problem/problemDetail.do?problemLevel=2&contestProbId=AV5PzOCKAigDFAUq&categoryId=AV5PzOCKAigDFAUq&categoryType=CODE&problemTitle=&orderBy=FIRST_REG_DATETIME&selectCodeLang=ALL&select-1=2&pageSize=10&pageIndex=1"
   ]
  },
  {
   "cell_type": "code",
   "execution_count": null,
   "id": "cde31dc5",
   "metadata": {
    "ExecuteTime": {
     "start_time": "2023-02-01T02:19:39.432Z"
    },
    "scrolled": false
   },
   "outputs": [
    {
     "name": "stdout",
     "output_type": "stream",
     "text": [
      "10\n",
      "5 2\n",
      "1 3 3 6 7\n",
      "8 13 9 12 8\n",
      "4 16 11 12 6\n",
      "2 4 1 23 2\n",
      "9 13 4 7 3\n",
      "#1 49\n",
      "6 3\n",
      "29 21 26 9 5 8\n",
      "21 19 8 0 21 19\n",
      "9 24 2 11 4 24\n",
      "19 29 1 0 21 19\n",
      "10 29 6 18 4 3\n",
      "29 11 15 3 3 29\n",
      "#2 159\n"
     ]
    }
   ],
   "source": [
    "t= int(input())\n",
    "for T in range(t):\n",
    "    n,m = map(int,input().split()) #n x n 판  5<=n<=15  /  m x m 파리채 2<=m<=n\n",
    "    x=[0 for row in range(n)]\n",
    "    for i in range(n):\n",
    "        x[i]=list(map(int,input().split()))\n",
    "        maxSum=0\n",
    "    for startX in range(n-(m-1)) :\n",
    "        for startY in range(n-(m-1)):\n",
    "            flySum=0\n",
    "            for i in range(startX,startX+m) :\n",
    "                for j in range(startY, startY+m):\n",
    "                    flySum+=x[i][j]\n",
    "            if flySum>maxSum :\n",
    "                maxSum = flySum\n",
    "    print(f\"#{T+1} {maxSum}\")"
   ]
  }
 ],
 "metadata": {
  "kernelspec": {
   "display_name": "Python 3 (ipykernel)",
   "language": "python",
   "name": "python3"
  },
  "language_info": {
   "codemirror_mode": {
    "name": "ipython",
    "version": 3
   },
   "file_extension": ".py",
   "mimetype": "text/x-python",
   "name": "python",
   "nbconvert_exporter": "python",
   "pygments_lexer": "ipython3",
   "version": "3.9.13"
  },
  "toc": {
   "base_numbering": 1,
   "nav_menu": {},
   "number_sections": true,
   "sideBar": true,
   "skip_h1_title": false,
   "title_cell": "Table of Contents",
   "title_sidebar": "Contents",
   "toc_cell": false,
   "toc_position": {},
   "toc_section_display": true,
   "toc_window_display": false
  },
  "varInspector": {
   "cols": {
    "lenName": 16,
    "lenType": 16,
    "lenVar": 40
   },
   "kernels_config": {
    "python": {
     "delete_cmd_postfix": "",
     "delete_cmd_prefix": "del ",
     "library": "var_list.py",
     "varRefreshCmd": "print(var_dic_list())"
    },
    "r": {
     "delete_cmd_postfix": ") ",
     "delete_cmd_prefix": "rm(",
     "library": "var_list.r",
     "varRefreshCmd": "cat(var_dic_list()) "
    }
   },
   "types_to_exclude": [
    "module",
    "function",
    "builtin_function_or_method",
    "instance",
    "_Feature"
   ],
   "window_display": false
  }
 },
 "nbformat": 4,
 "nbformat_minor": 5
}
