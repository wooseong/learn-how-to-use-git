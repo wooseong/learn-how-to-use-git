{
 "cells": [
  {
   "cell_type": "markdown",
   "id": "aa673dd2",
   "metadata": {},
   "source": [
    "# 1974. 스도쿠 검증\n",
    "* https://swexpertacademy.com/main/code/problem/problemDetail.do?problemLevel=2&contestProbId=AV5Psz16AYEDFAUq&categoryId=AV5Psz16AYEDFAUq&categoryType=CODE&problemTitle=&orderBy=FIRST_REG_DATETIME&selectCodeLang=ALL&select-1=2&pageSize=10&pageIndex=2"
   ]
  },
  {
   "cell_type": "code",
   "execution_count": 3,
   "id": "b81c8701",
   "metadata": {
    "ExecuteTime": {
     "end_time": "2023-02-06T03:04:19.504466Z",
     "start_time": "2023-02-06T03:03:58.112488Z"
    }
   },
   "outputs": [
    {
     "name": "stdout",
     "output_type": "stream",
     "text": [
      "1\n",
      "7 3 6 4 2 9 5 8 1\n",
      "5 8 9 1 6 7 3 2 4\n",
      "2 1 4 5 8 3 6 9 7\n",
      "8 4 7 9 3 6 1 5 2\n",
      "1 5 3 8 4 2 9 7 6\n",
      "9 6 2 7 5 1 8 4 3\n",
      "4 2 1 3 9 8 7 6 5\n",
      "3 9 5 6 7 4 2 1 8\n",
      "6 7 8 2 1 5 4 3 9\n",
      "[7, 3, 6, 4, 2, 9, 5, 8, 1]\n",
      "[5, 8, 9, 1, 6, 7, 3, 2, 4]\n",
      "[2, 1, 4, 5, 8, 3, 6, 9, 7]\n",
      "[8, 4, 7, 9, 3, 6, 1, 5, 2]\n",
      "[1, 5, 3, 8, 4, 2, 9, 7, 6]\n",
      "[9, 6, 2, 7, 5, 1, 8, 4, 3]\n",
      "[4, 2, 1, 3, 9, 8, 7, 6, 5]\n",
      "[3, 9, 5, 6, 7, 4, 2, 1, 8]\n",
      "[6, 7, 8, 2, 1, 5, 4, 3, 9]\n",
      "[7, 5, 2, 8, 1, 9, 4, 3, 6]\n",
      "[3, 8, 1, 4, 5, 6, 2, 9, 7]\n",
      "[6, 9, 4, 7, 3, 2, 1, 5, 8]\n",
      "[4, 1, 5, 9, 8, 7, 3, 6, 2]\n",
      "[2, 6, 8, 3, 4, 5, 9, 7, 1]\n",
      "[9, 7, 3, 6, 2, 1, 8, 4, 5]\n",
      "[5, 3, 6, 1, 9, 8, 7, 2, 4]\n",
      "[8, 2, 9, 5, 7, 4, 6, 1, 3]\n",
      "[1, 4, 7, 2, 6, 3, 5, 8, 9]\n",
      "[7, 3, 6, 5, 8, 9, 2, 1, 4]\n",
      "[4, 2, 9, 1, 6, 7, 5, 8, 3]\n",
      "[5, 8, 1, 3, 2, 4, 6, 9, 7]\n",
      "[8, 4, 7, 1, 5, 3, 9, 6, 2]\n",
      "[9, 3, 6, 8, 4, 2, 7, 5, 1]\n",
      "[1, 5, 2, 9, 7, 6, 8, 4, 3]\n",
      "[4, 2, 1, 3, 9, 5, 6, 7, 8]\n",
      "[3, 9, 8, 6, 7, 4, 2, 1, 5]\n",
      "[7, 6, 5, 2, 1, 8, 4, 3, 9]\n",
      "#1 1\n"
     ]
    }
   ],
   "source": [
    "def checksudoku(num):\n",
    "    cnt=0\n",
    "    print(num)\n",
    "    for i in range(1,10):\n",
    "        if num.count(i)==1:\n",
    "            cnt+=1\n",
    "    if cnt==9:\n",
    "        return True\n",
    "    else :\n",
    "        return False\n",
    "\n",
    "t = int(input())\n",
    "for T in range(t):\n",
    "    board=[0]*9\n",
    "    ox=True\n",
    "    for i in range(9):\n",
    "        board[i]=list(map(int,input().split()))\n",
    "    \n",
    "    for i in range(9):\n",
    "        if not checksudoku(board[i]) :\n",
    "            ox=False\n",
    "            break\n",
    "    if ox :\n",
    "        for i in range(9):\n",
    "            if not checksudoku([board[0][i],board[1][i],board[2][i],\n",
    "                                board[3][i],board[4][i],board[5][i],\n",
    "                                board[6][i],board[7][i],board[8][i]]) :\n",
    "                ox=False\n",
    "                break\n",
    "    if ox :\n",
    "        for i in range(0,9,3):\n",
    "            for j in range(0,9,3):\n",
    "                if not checksudoku([board[i][j],board[i][j+1],board[i][j+2],\n",
    "                                    board[i+1][j],board[i+1][j+1],board[i+1][j+2],\n",
    "                                    board[i+2][j],board[i+2][j+1],board[i+2][j+2]]) :\n",
    "                    ox=False\n",
    "                    break\n",
    "    \n",
    "    \n",
    "    print(f\"#{T+1} {1 if ox else 0}\")"
   ]
  },
  {
   "cell_type": "code",
   "execution_count": null,
   "id": "6e3d67bf",
   "metadata": {},
   "outputs": [],
   "source": [
    "10\n",
    "7 3 6 4 2 9 5 8 1\n",
    "5 8 9 1 6 7 3 2 4\n",
    "2 1 4 5 8 3 6 9 7\n",
    "8 4 7 9 3 6 1 5 2\n",
    "1 5 3 8 4 2 9 7 6\n",
    "9 6 2 7 5 1 8 4 3\n",
    "4 2 1 3 9 8 7 6 5\n",
    "3 9 5 6 7 4 2 1 8\n",
    "6 7 8 2 1 5 4 3 9"
   ]
  }
 ],
 "metadata": {
  "kernelspec": {
   "display_name": "Python 3 (ipykernel)",
   "language": "python",
   "name": "python3"
  },
  "language_info": {
   "codemirror_mode": {
    "name": "ipython",
    "version": 3
   },
   "file_extension": ".py",
   "mimetype": "text/x-python",
   "name": "python",
   "nbconvert_exporter": "python",
   "pygments_lexer": "ipython3",
   "version": "3.9.13"
  },
  "toc": {
   "base_numbering": 1,
   "nav_menu": {},
   "number_sections": true,
   "sideBar": true,
   "skip_h1_title": false,
   "title_cell": "Table of Contents",
   "title_sidebar": "Contents",
   "toc_cell": false,
   "toc_position": {},
   "toc_section_display": true,
   "toc_window_display": false
  },
  "varInspector": {
   "cols": {
    "lenName": 16,
    "lenType": 16,
    "lenVar": 40
   },
   "kernels_config": {
    "python": {
     "delete_cmd_postfix": "",
     "delete_cmd_prefix": "del ",
     "library": "var_list.py",
     "varRefreshCmd": "print(var_dic_list())"
    },
    "r": {
     "delete_cmd_postfix": ") ",
     "delete_cmd_prefix": "rm(",
     "library": "var_list.r",
     "varRefreshCmd": "cat(var_dic_list()) "
    }
   },
   "types_to_exclude": [
    "module",
    "function",
    "builtin_function_or_method",
    "instance",
    "_Feature"
   ],
   "window_display": false
  }
 },
 "nbformat": 4,
 "nbformat_minor": 5
}
