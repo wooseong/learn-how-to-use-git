{
 "cells": [
  {
   "cell_type": "markdown",
   "id": "8be2fad2",
   "metadata": {},
   "source": [
    "# 1948. 날짜 계산기\n",
    "* https://swexpertacademy.com/main/code/problem/problemDetail.do?problemLevel=2&contestProbId=AV5PnnU6AOsDFAUq&categoryId=AV5PnnU6AOsDFAUq&categoryType=CODE&problemTitle=&orderBy=FIRST_REG_DATETIME&selectCodeLang=ALL&select-1=2&pageSize=10&pageIndex=2"
   ]
  },
  {
   "cell_type": "code",
   "execution_count": 4,
   "id": "ddc7b83c",
   "metadata": {
    "ExecuteTime": {
     "end_time": "2023-02-07T10:49:25.553255Z",
     "start_time": "2023-02-07T10:49:14.447687Z"
    }
   },
   "outputs": [
    {
     "name": "stdout",
     "output_type": "stream",
     "text": [
      "3\n",
      "3 1 3 31\n",
      "#1 30\n",
      "5 5 8 15\n",
      "#2 102\n",
      "7 17 12 24\n",
      "#3 160\n"
     ]
    }
   ],
   "source": [
    "t = int(input())\n",
    "day=[0,31,28,31,30,31,30,31,31,30,31,30,31]\n",
    "for T in range(t):\n",
    "    m1,d1,m2,d2=map(int, input().split())\n",
    "    sumDay=day[m1]-d1+1\n",
    "    for i in range(m1+1,m2):\n",
    "        sumDay+=day[i]\n",
    "    if m1!=m2: sumDay+=d2\n",
    "    print(f\"#{T+1} {sumDay}\")"
   ]
  },
  {
   "cell_type": "code",
   "execution_count": null,
   "id": "4ce2a446",
   "metadata": {},
   "outputs": [],
   "source": [
    "3 \n",
    "3 1 3 31\n",
    "5 5 8 15\n",
    "7 17 12 24  \n",
    " "
   ]
  }
 ],
 "metadata": {
  "kernelspec": {
   "display_name": "Python 3 (ipykernel)",
   "language": "python",
   "name": "python3"
  },
  "language_info": {
   "codemirror_mode": {
    "name": "ipython",
    "version": 3
   },
   "file_extension": ".py",
   "mimetype": "text/x-python",
   "name": "python",
   "nbconvert_exporter": "python",
   "pygments_lexer": "ipython3",
   "version": "3.9.13"
  },
  "toc": {
   "base_numbering": 1,
   "nav_menu": {},
   "number_sections": true,
   "sideBar": true,
   "skip_h1_title": false,
   "title_cell": "Table of Contents",
   "title_sidebar": "Contents",
   "toc_cell": false,
   "toc_position": {},
   "toc_section_display": true,
   "toc_window_display": false
  },
  "varInspector": {
   "cols": {
    "lenName": 16,
    "lenType": 16,
    "lenVar": 40
   },
   "kernels_config": {
    "python": {
     "delete_cmd_postfix": "",
     "delete_cmd_prefix": "del ",
     "library": "var_list.py",
     "varRefreshCmd": "print(var_dic_list())"
    },
    "r": {
     "delete_cmd_postfix": ") ",
     "delete_cmd_prefix": "rm(",
     "library": "var_list.r",
     "varRefreshCmd": "cat(var_dic_list()) "
    }
   },
   "types_to_exclude": [
    "module",
    "function",
    "builtin_function_or_method",
    "instance",
    "_Feature"
   ],
   "window_display": false
  }
 },
 "nbformat": 4,
 "nbformat_minor": 5
}
