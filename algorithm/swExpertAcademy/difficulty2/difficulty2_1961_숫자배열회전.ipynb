{
 "cells": [
  {
   "cell_type": "markdown",
   "id": "2aeaf067",
   "metadata": {},
   "source": [
    "# 1961. 숫자 배열 회전\n",
    "* https://swexpertacademy.com/main/code/problem/problemDetail.do?problemLevel=2&contestProbId=AV5Pq-OKAVYDFAUq&categoryId=AV5Pq-OKAVYDFAUq&categoryType=CODE&problemTitle=&orderBy=FIRST_REG_DATETIME&selectCodeLang=ALL&select-1=2&pageSize=10&pageIndex=2"
   ]
  },
  {
   "cell_type": "code",
   "execution_count": 27,
   "id": "a7fbd696",
   "metadata": {
    "ExecuteTime": {
     "end_time": "2023-02-06T10:22:40.472380Z",
     "start_time": "2023-02-06T10:22:09.459654Z"
    }
   },
   "outputs": [
    {
     "name": "stdout",
     "output_type": "stream",
     "text": [
      "2\n",
      "3\n",
      "1 2 3\n",
      "4 5 6\n",
      "7 8 9\n",
      "#1\n",
      "741 987 369\n",
      "852 654 258\n",
      "963 321 147\n",
      "6\n",
      "6 9 4 7 0 5\n",
      "8 9 9 2 6 5\n",
      "6 8 5 4 9 8\n",
      "2 2 7 7 8 4\n",
      "7 5 1 9 7 9\n",
      "8 9 3 9 7 6\n",
      "#2\n",
      "872686 679398 558496\n",
      "952899 979157 069877\n",
      "317594 487722 724799\n",
      "997427 894586 495713\n",
      "778960 562998 998259\n",
      "694855 507496 686278\n"
     ]
    }
   ],
   "source": [
    "from pprint import pprint\n",
    "t = int(input())\n",
    "for T in range(t):\n",
    "    n = int(input())\n",
    "    board=[0]*n\n",
    "    boardtmp1= [[0 for col in range(n)] for row in range(n)]\n",
    "    for i in range(n):\n",
    "        board[i]=list(map(int, input().split()))\n",
    "    \n",
    "    for i in range(n//2):\n",
    "        for j in range(i,n-i):\n",
    "            boardtmp1[j][n-i-1]=board[i][j]\n",
    "        for j in range(i,n-i):\n",
    "            boardtmp1[n-i-1][n-j-1]=board[j][n-i-1]\n",
    "        for j in range(i,n-i):\n",
    "            boardtmp1[n-j-1][i]=board[n-i-1][n-j-1]            \n",
    "        for j in range(i,n-i):\n",
    "            boardtmp1[i][j]=board[n-j-1][i]\n",
    "    if n%2==1:\n",
    "        boardtmp1[n//2][n//2]=board[n//2][n//2]\n",
    "    \n",
    "    boardtmp2= [[0 for col in range(n)] for row in range(n)]\n",
    "    for i in range(n):\n",
    "        for j in range(n):\n",
    "            boardtmp2[n-1-i][n-1-j]=board[i][j]\n",
    "    \n",
    "    \n",
    "    boardtmp3= [[0 for col in range(n)] for row in range(n)]\n",
    "    for i in range(n//2):\n",
    "        for j in range(i,n-i):\n",
    "            boardtmp3[n-j-1][i]=board[i][j]\n",
    "        for j in range(i,n-i):\n",
    "            boardtmp3[n-i-1][n-j-1]=board[n-j-1][i]  \n",
    "        for j in range(i,n-i):\n",
    "            boardtmp3[j][n-i-1]=board[n-i-1][n-j-1]            \n",
    "        for j in range(i,n-i):\n",
    "            boardtmp3[i][j]=board[j][n-i-1]\n",
    "    if n%2==1:\n",
    "        boardtmp3[n//2][n//2]=board[n//2][n//2]    \n",
    "\n",
    "    print(f\"#{T+1}\")\n",
    "    for i in range(n):\n",
    "        for j in range(n):\n",
    "            print(boardtmp1[i][j], end=\"\")\n",
    "        print(\" \",end=\"\")\n",
    "        for j in range(n):\n",
    "            print(boardtmp2[i][j], end=\"\")\n",
    "        print(\" \",end=\"\")\n",
    "        for j in range(n):\n",
    "            print(boardtmp3[i][j], end=\"\")\n",
    "        print()"
   ]
  },
  {
   "cell_type": "code",
   "execution_count": 24,
   "id": "deb9da55",
   "metadata": {
    "ExecuteTime": {
     "end_time": "2023-02-06T10:18:42.124893Z",
     "start_time": "2023-02-06T10:18:42.106460Z"
    }
   },
   "outputs": [
    {
     "ename": "SyntaxError",
     "evalue": "invalid syntax (1214156442.py, line 3)",
     "output_type": "error",
     "traceback": [
      "\u001b[1;36m  File \u001b[1;32m\"C:\\Users\\lisa9\\AppData\\Local\\Temp\\ipykernel_28568\\1214156442.py\"\u001b[1;36m, line \u001b[1;32m3\u001b[0m\n\u001b[1;33m    1 2 3 4 5 6\u001b[0m\n\u001b[1;37m      ^\u001b[0m\n\u001b[1;31mSyntaxError\u001b[0m\u001b[1;31m:\u001b[0m invalid syntax\n"
     ]
    }
   ],
   "source": [
    "1\n",
    "6\n",
    "1 2 3 4 5 6\n",
    "7 8 9 10 11 12\n",
    "13 14 15 16 17 18\n",
    "19 20 21 22 23 24\n",
    "25 26 27 28 29 30\n",
    "31 32 33 34 35 36"
   ]
  },
  {
   "cell_type": "code",
   "execution_count": null,
   "id": "b5f22be3",
   "metadata": {},
   "outputs": [],
   "source": []
  }
 ],
 "metadata": {
  "kernelspec": {
   "display_name": "Python 3 (ipykernel)",
   "language": "python",
   "name": "python3"
  },
  "language_info": {
   "codemirror_mode": {
    "name": "ipython",
    "version": 3
   },
   "file_extension": ".py",
   "mimetype": "text/x-python",
   "name": "python",
   "nbconvert_exporter": "python",
   "pygments_lexer": "ipython3",
   "version": "3.9.13"
  },
  "toc": {
   "base_numbering": 1,
   "nav_menu": {},
   "number_sections": true,
   "sideBar": true,
   "skip_h1_title": false,
   "title_cell": "Table of Contents",
   "title_sidebar": "Contents",
   "toc_cell": false,
   "toc_position": {},
   "toc_section_display": true,
   "toc_window_display": false
  },
  "varInspector": {
   "cols": {
    "lenName": 16,
    "lenType": 16,
    "lenVar": 40
   },
   "kernels_config": {
    "python": {
     "delete_cmd_postfix": "",
     "delete_cmd_prefix": "del ",
     "library": "var_list.py",
     "varRefreshCmd": "print(var_dic_list())"
    },
    "r": {
     "delete_cmd_postfix": ") ",
     "delete_cmd_prefix": "rm(",
     "library": "var_list.r",
     "varRefreshCmd": "cat(var_dic_list()) "
    }
   },
   "types_to_exclude": [
    "module",
    "function",
    "builtin_function_or_method",
    "instance",
    "_Feature"
   ],
   "window_display": false
  }
 },
 "nbformat": 4,
 "nbformat_minor": 5
}
