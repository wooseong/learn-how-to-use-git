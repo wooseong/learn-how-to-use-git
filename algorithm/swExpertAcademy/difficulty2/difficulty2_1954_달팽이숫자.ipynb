{
 "cells": [
  {
   "cell_type": "markdown",
   "id": "933b5f25",
   "metadata": {},
   "source": [
    "# 1954. 달팽이 숫자\n",
    "* https://swexpertacademy.com/main/code/problem/problemDetail.do?problemLevel=2&contestProbId=AV5PobmqAPoDFAUq&categoryId=AV5PobmqAPoDFAUq&categoryType=CODE&problemTitle=&orderBy=FIRST_REG_DATETIME&selectCodeLang=ALL&select-1=2&pageSize=10&pageIndex=2"
   ]
  },
  {
   "cell_type": "code",
   "execution_count": 19,
   "id": "d5540718",
   "metadata": {
    "ExecuteTime": {
     "end_time": "2023-02-07T10:36:21.191686Z",
     "start_time": "2023-02-07T10:36:19.862076Z"
    }
   },
   "outputs": [
    {
     "name": "stdout",
     "output_type": "stream",
     "text": [
      "1\n",
      "7\n",
      "[[1, 2, 3, 4, 5, 6, 0], [0, 0, 0, 0, 0, 0, 0], [0, 0, 0, 0, 0, 0, 0], [0, 0, 0, 0, 0, 0, 0], [0, 0, 0, 0, 0, 0, 0], [0, 0, 0, 0, 0, 0, 0], [0, 0, 0, 0, 0, 0, 0]]\n",
      "************\n",
      "[[1, 2, 3, 4, 5, 6, 7], [0, 0, 0, 0, 0, 0, 8], [0, 0, 0, 0, 0, 0, 9], [0, 0, 0, 0, 0, 0, 10], [0, 0, 0, 0, 0, 0, 11], [0, 0, 0, 0, 0, 0, 12], [0, 0, 0, 0, 0, 0, 0]]\n",
      "************\n",
      "[[1, 2, 3, 4, 5, 6, 7], [0, 0, 0, 0, 0, 0, 8], [0, 0, 0, 0, 0, 0, 9], [0, 0, 0, 0, 0, 0, 10], [0, 0, 0, 0, 0, 0, 11], [0, 0, 0, 0, 0, 0, 12], [0, 18, 17, 16, 15, 14, 13]]\n",
      "************\n",
      "[[1, 2, 3, 4, 5, 6, 7], [24, 0, 0, 0, 0, 0, 8], [23, 0, 0, 0, 0, 0, 9], [22, 0, 0, 0, 0, 0, 10], [21, 0, 0, 0, 0, 0, 11], [20, 0, 0, 0, 0, 0, 12], [19, 18, 17, 16, 15, 14, 13]]\n",
      "************----\n",
      "25 7\n",
      "[[1, 2, 3, 4, 5, 6, 7], [24, 25, 26, 27, 28, 0, 8], [23, 0, 0, 0, 0, 0, 9], [22, 0, 0, 0, 0, 0, 10], [21, 0, 0, 0, 0, 0, 11], [20, 0, 0, 0, 0, 0, 12], [19, 18, 17, 16, 15, 14, 13]]\n",
      "************\n",
      "[[1, 2, 3, 4, 5, 6, 7], [24, 25, 26, 27, 28, 29, 8], [23, 0, 0, 0, 0, 30, 9], [22, 0, 0, 0, 0, 31, 10], [21, 0, 0, 0, 0, 32, 11], [20, 0, 0, 0, 0, 0, 12], [19, 18, 17, 16, 15, 14, 13]]\n",
      "************\n",
      "[[1, 2, 3, 4, 5, 6, 7], [24, 25, 26, 27, 28, 29, 8], [23, 0, 0, 0, 0, 30, 9], [22, 0, 0, 0, 0, 31, 10], [21, 0, 0, 0, 0, 32, 11], [20, 0, 36, 35, 34, 33, 12], [19, 18, 17, 16, 15, 14, 13]]\n",
      "************\n",
      "[[1, 2, 3, 4, 5, 6, 7], [24, 25, 26, 27, 28, 29, 8], [23, 40, 0, 0, 0, 30, 9], [22, 39, 0, 0, 0, 31, 10], [21, 38, 0, 0, 0, 32, 11], [20, 37, 36, 35, 34, 33, 12], [19, 18, 17, 16, 15, 14, 13]]\n",
      "************----\n",
      "41 7\n",
      "[[1, 2, 3, 4, 5, 6, 7], [24, 25, 26, 27, 28, 29, 8], [23, 40, 41, 42, 0, 30, 9], [22, 39, 0, 0, 0, 31, 10], [21, 38, 0, 0, 0, 32, 11], [20, 37, 36, 35, 34, 33, 12], [19, 18, 17, 16, 15, 14, 13]]\n",
      "************\n",
      "[[1, 2, 3, 4, 5, 6, 7], [24, 25, 26, 27, 28, 29, 8], [23, 40, 41, 42, 43, 30, 9], [22, 39, 0, 0, 44, 31, 10], [21, 38, 0, 0, 0, 32, 11], [20, 37, 36, 35, 34, 33, 12], [19, 18, 17, 16, 15, 14, 13]]\n",
      "************\n",
      "[[1, 2, 3, 4, 5, 6, 7], [24, 25, 26, 27, 28, 29, 8], [23, 40, 41, 42, 43, 30, 9], [22, 39, 0, 0, 44, 31, 10], [21, 38, 0, 46, 45, 32, 11], [20, 37, 36, 35, 34, 33, 12], [19, 18, 17, 16, 15, 14, 13]]\n",
      "************\n",
      "[[1, 2, 3, 4, 5, 6, 7], [24, 25, 26, 27, 28, 29, 8], [23, 40, 41, 42, 43, 30, 9], [22, 39, 48, 0, 44, 31, 10], [21, 38, 47, 46, 45, 32, 11], [20, 37, 36, 35, 34, 33, 12], [19, 18, 17, 16, 15, 14, 13]]\n",
      "************----\n",
      "49 7\n",
      "#1\n",
      "1 2 3 4 5 6 7 \n",
      "24 25 26 27 28 29 8 \n",
      "23 40 41 42 43 30 9 \n",
      "22 39 48 49 44 31 10 \n",
      "21 38 47 46 45 32 11 \n",
      "20 37 36 35 34 33 12 \n",
      "19 18 17 16 15 14 13 \n"
     ]
    }
   ],
   "source": [
    "t = int(input())\n",
    "for T in range(t):\n",
    "    n = int(input())\n",
    "    board = [[0 for i in range(n)] for j in range(n)]\n",
    "    row=0\n",
    "    col=0\n",
    "    num=1\n",
    "    roundcnt=1\n",
    "    rowcolnum=n-1\n",
    "    while roundcnt<=n/2:\n",
    "        for i in range(rowcolnum):\n",
    "            board[row][col]=num\n",
    "            num+=1\n",
    "            col+=1\n",
    "        print(board)\n",
    "        print(\"************\")\n",
    "        for i in range(rowcolnum):\n",
    "            board[row][col]=num\n",
    "            num+=1\n",
    "            row+=1\n",
    "        print(board)\n",
    "        print(\"************\")           \n",
    "        for i in range(rowcolnum):\n",
    "            board[row][col]=num\n",
    "            num+=1\n",
    "            col-=1\n",
    "        print(board)\n",
    "        print(\"************\")\n",
    "        for i in range(rowcolnum):\n",
    "            board[row][col]=num\n",
    "            num+=1\n",
    "            row-=1\n",
    "        print(board)\n",
    "        print(\"************----\")\n",
    "        print(num,n)\n",
    "        col+=1\n",
    "        row+=1\n",
    "        rowcolnum-=2\n",
    "        roundcnt+=1\n",
    "    if n%2==1:\n",
    "        board[n//2][n//2]=num\n",
    "    \n",
    "    print(f\"#{T+1}\")\n",
    "    for i in range(n):\n",
    "        for j in range(n):\n",
    "            print(board[i][j],end=\" \")\n",
    "        print()"
   ]
  }
 ],
 "metadata": {
  "kernelspec": {
   "display_name": "Python 3 (ipykernel)",
   "language": "python",
   "name": "python3"
  },
  "language_info": {
   "codemirror_mode": {
    "name": "ipython",
    "version": 3
   },
   "file_extension": ".py",
   "mimetype": "text/x-python",
   "name": "python",
   "nbconvert_exporter": "python",
   "pygments_lexer": "ipython3",
   "version": "3.9.13"
  },
  "toc": {
   "base_numbering": 1,
   "nav_menu": {},
   "number_sections": true,
   "sideBar": true,
   "skip_h1_title": false,
   "title_cell": "Table of Contents",
   "title_sidebar": "Contents",
   "toc_cell": false,
   "toc_position": {},
   "toc_section_display": true,
   "toc_window_display": false
  },
  "varInspector": {
   "cols": {
    "lenName": 16,
    "lenType": 16,
    "lenVar": 40
   },
   "kernels_config": {
    "python": {
     "delete_cmd_postfix": "",
     "delete_cmd_prefix": "del ",
     "library": "var_list.py",
     "varRefreshCmd": "print(var_dic_list())"
    },
    "r": {
     "delete_cmd_postfix": ") ",
     "delete_cmd_prefix": "rm(",
     "library": "var_list.r",
     "varRefreshCmd": "cat(var_dic_list()) "
    }
   },
   "types_to_exclude": [
    "module",
    "function",
    "builtin_function_or_method",
    "instance",
    "_Feature"
   ],
   "window_display": false
  }
 },
 "nbformat": 4,
 "nbformat_minor": 5
}
