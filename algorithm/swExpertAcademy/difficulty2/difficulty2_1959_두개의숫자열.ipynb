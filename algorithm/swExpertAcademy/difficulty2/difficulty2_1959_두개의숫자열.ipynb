{
 "cells": [
  {
   "cell_type": "markdown",
   "id": "0c2befdf",
   "metadata": {},
   "source": [
    "# 1959. 두 개의 숫자열\n",
    "* https://swexpertacademy.com/main/code/problem/problemDetail.do?problemLevel=2&contestProbId=AV5PpoFaAS4DFAUq&categoryId=AV5PpoFaAS4DFAUq&categoryType=CODE&problemTitle=&orderBy=FIRST_REG_DATETIME&selectCodeLang=ALL&select-1=2&pageSize=10&pageIndex=2"
   ]
  },
  {
   "cell_type": "code",
   "execution_count": 5,
   "id": "236ef082",
   "metadata": {
    "ExecuteTime": {
     "end_time": "2023-02-07T09:25:12.556835Z",
     "start_time": "2023-02-07T09:25:02.717015Z"
    }
   },
   "outputs": [
    {
     "name": "stdout",
     "output_type": "stream",
     "text": [
      "1\n",
      "7 6\n",
      "6 0 5 5 -1 1 6\n",
      "-4 1 8 7 -9 3\n",
      "63\n",
      "63\n",
      "---------------\n",
      "#1 63\n"
     ]
    }
   ],
   "source": [
    "t = int(input())\n",
    "for T in range(t):\n",
    "    n,m=map(int, input().split())\n",
    "    a = list(map(int, input().split()))\n",
    "    b = list(map(int, input().split()))\n",
    "    \n",
    "    if len(a)>len(b):\n",
    "        long=a\n",
    "        short=b\n",
    "    else:\n",
    "        long=b\n",
    "        short=a\n",
    "    for i in range(len(long)-(len(short)-1)):\n",
    "        sumlist=0\n",
    "        for j in range(len(short)):\n",
    "            sumlist+= long[i+j]*short[j]\n",
    "        if i==0 :\n",
    "            max=sumlist\n",
    "        else :\n",
    "            if max<sumlist:\n",
    "                max=sumlist\n",
    "        print(max)\n",
    "    print(\"---------------\")\n",
    "    print(f\"#{T+1} {max}\")"
   ]
  },
  {
   "cell_type": "code",
   "execution_count": null,
   "id": "eade57b6",
   "metadata": {},
   "outputs": [],
   "source": [
    "10\n",
    "3 5\n",
    "1 5 3\n",
    "3 6 -7 5 4\n",
    "7 6\n",
    "6 0 5 5 -1 1 6\n",
    "-4 1 8 7 -9 3"
   ]
  }
 ],
 "metadata": {
  "kernelspec": {
   "display_name": "Python 3 (ipykernel)",
   "language": "python",
   "name": "python3"
  },
  "language_info": {
   "codemirror_mode": {
    "name": "ipython",
    "version": 3
   },
   "file_extension": ".py",
   "mimetype": "text/x-python",
   "name": "python",
   "nbconvert_exporter": "python",
   "pygments_lexer": "ipython3",
   "version": "3.9.13"
  },
  "toc": {
   "base_numbering": 1,
   "nav_menu": {},
   "number_sections": true,
   "sideBar": true,
   "skip_h1_title": false,
   "title_cell": "Table of Contents",
   "title_sidebar": "Contents",
   "toc_cell": false,
   "toc_position": {},
   "toc_section_display": true,
   "toc_window_display": false
  },
  "varInspector": {
   "cols": {
    "lenName": 16,
    "lenType": 16,
    "lenVar": 40
   },
   "kernels_config": {
    "python": {
     "delete_cmd_postfix": "",
     "delete_cmd_prefix": "del ",
     "library": "var_list.py",
     "varRefreshCmd": "print(var_dic_list())"
    },
    "r": {
     "delete_cmd_postfix": ") ",
     "delete_cmd_prefix": "rm(",
     "library": "var_list.r",
     "varRefreshCmd": "cat(var_dic_list()) "
    }
   },
   "types_to_exclude": [
    "module",
    "function",
    "builtin_function_or_method",
    "instance",
    "_Feature"
   ],
   "window_display": false
  }
 },
 "nbformat": 4,
 "nbformat_minor": 5
}
