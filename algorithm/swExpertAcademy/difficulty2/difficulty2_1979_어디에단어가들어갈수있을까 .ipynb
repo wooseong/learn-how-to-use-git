{
 "cells": [
  {
   "cell_type": "markdown",
   "id": "0923cb55",
   "metadata": {},
   "source": [
    "# 어디에 단어가 들어갈 수 있을까 \n",
    "* https://swexpertacademy.com/main/code/problem/problemDetail.do?problemLevel=2&contestProbId=AV5PuPq6AaQDFAUq&categoryId=AV5PuPq6AaQDFAUq&categoryType=CODE&problemTitle=&orderBy=FIRST_REG_DATETIME&selectCodeLang=ALL&select-1=2&pageSize=10&pageIndex=1"
   ]
  },
  {
   "cell_type": "code",
   "execution_count": 8,
   "id": "66d54a1e",
   "metadata": {
    "ExecuteTime": {
     "end_time": "2023-02-06T02:14:35.164165Z",
     "start_time": "2023-02-06T02:14:16.481365Z"
    }
   },
   "outputs": [
    {
     "name": "stdout",
     "output_type": "stream",
     "text": [
      "1\n",
      "5 3\n",
      "1 0 0 1 0\n",
      "1 1 0 1 1 \n",
      "1 0 1 1 1\n",
      "0 1 1 0 1\n",
      "0 1 1 1 0\n",
      "#1 6\n"
     ]
    }
   ],
   "source": [
    "t = int(input())\n",
    "for T in range(t):\n",
    "    n,k=map(int, input().split())\n",
    "    board = [0]*n\n",
    "    for i in range(n):\n",
    "        board[i]=list(map(int, input().split()))\n",
    "\n",
    "    row=0\n",
    "    col=0\n",
    "    num=0 #들어갈 수 있는 공간 수\n",
    "\n",
    "    while row<n:\n",
    "        col=0\n",
    "        while col<n-k+1:\n",
    "            if board[row][col]==0: #벽\n",
    "                col+=1\n",
    "            else : #빈 공간 발견\n",
    "                space=0\n",
    "                while board[row][col]==1: #빈 공간이 몇개까지 연속되는지 count\n",
    " #                   print(row,col,board[row][col])\n",
    "                    space+=1\n",
    "                    col+=1\n",
    "                    if(col>=n): break\n",
    "                if space==k:\n",
    "                    num+=1\n",
    "        row+=1\n",
    "        \n",
    "    row=0\n",
    "    col=0\n",
    "    while col<n:\n",
    "        row=0\n",
    "        while row<n-k+1:\n",
    "            if board[row][col]==0: #벽\n",
    "                row+=1\n",
    "            else : #빈 공간 발견\n",
    "                space=0\n",
    "                while board[row][col]==1 : #빈 공간이 몇개까지 연속되는지 count\n",
    "                    space+=1\n",
    "                    row+=1\n",
    "                    if(row>=n): break\n",
    "                if space==k:\n",
    "                    num+=1\n",
    "        col+=1\n",
    "        \n",
    "    print(f\"#{T+1} {num}\")"
   ]
  },
  {
   "cell_type": "code",
   "execution_count": null,
   "id": "8eb2d2aa",
   "metadata": {},
   "outputs": [],
   "source": [
    "10\n",
    "5 3\n",
    "0 0 1 1 1\n",
    "1 1 1 1 0\n",
    "0 0 1 0 0\n",
    "0 1 1 1 1\n",
    "1 1 1 0 1\n",
    "5 3\n",
    "1 0 0 1 0\n",
    "1 1 0 1 1\n",
    "1 0 1 1 1\n",
    "0 1 1 0 1\n",
    "0 1 1 1 0"
   ]
  }
 ],
 "metadata": {
  "kernelspec": {
   "display_name": "Python 3 (ipykernel)",
   "language": "python",
   "name": "python3"
  },
  "language_info": {
   "codemirror_mode": {
    "name": "ipython",
    "version": 3
   },
   "file_extension": ".py",
   "mimetype": "text/x-python",
   "name": "python",
   "nbconvert_exporter": "python",
   "pygments_lexer": "ipython3",
   "version": "3.9.13"
  },
  "toc": {
   "base_numbering": 1,
   "nav_menu": {},
   "number_sections": true,
   "sideBar": true,
   "skip_h1_title": false,
   "title_cell": "Table of Contents",
   "title_sidebar": "Contents",
   "toc_cell": false,
   "toc_position": {},
   "toc_section_display": true,
   "toc_window_display": false
  },
  "varInspector": {
   "cols": {
    "lenName": 16,
    "lenType": 16,
    "lenVar": 40
   },
   "kernels_config": {
    "python": {
     "delete_cmd_postfix": "",
     "delete_cmd_prefix": "del ",
     "library": "var_list.py",
     "varRefreshCmd": "print(var_dic_list())"
    },
    "r": {
     "delete_cmd_postfix": ") ",
     "delete_cmd_prefix": "rm(",
     "library": "var_list.r",
     "varRefreshCmd": "cat(var_dic_list()) "
    }
   },
   "types_to_exclude": [
    "module",
    "function",
    "builtin_function_or_method",
    "instance",
    "_Feature"
   ],
   "window_display": false
  }
 },
 "nbformat": 4,
 "nbformat_minor": 5
}
