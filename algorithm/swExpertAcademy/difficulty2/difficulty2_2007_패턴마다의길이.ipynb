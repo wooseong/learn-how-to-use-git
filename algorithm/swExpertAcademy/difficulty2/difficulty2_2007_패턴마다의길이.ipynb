{
 "cells": [
  {
   "cell_type": "markdown",
   "id": "ed42aefc",
   "metadata": {},
   "source": [
    "# 패턴 마다의 길이\n",
    "* https://swexpertacademy.com/main/code/problem/problemDetail.do?problemLevel=2&contestProbId=AV5P1kNKAl8DFAUq&categoryId=AV5P1kNKAl8DFAUq&categoryType=CODE&problemTitle=&orderBy=FIRST_REG_DATETIME&selectCodeLang=ALL&select-1=2&pageSize=10&pageIndex=1"
   ]
  },
  {
   "cell_type": "code",
   "execution_count": null,
   "id": "66bbbc0e",
   "metadata": {
    "ExecuteTime": {
     "end_time": "2023-01-31T09:19:16.780964Z",
     "start_time": "2023-01-31T09:19:16.780964Z"
    }
   },
   "outputs": [],
   "source": [
    "n = int(input()) #test case 수\n",
    "for t in range(n):\n",
    "    x=input()\n",
    "    count=31\n",
    "    xLen=0\n",
    "    for i in range(10):\n",
    "        if count>=(x.count(x[:i+1])):\n",
    "            count = x.count(x[:i+1])\n",
    "            xLen=i+1\n",
    "            print(x, x[:i+1], count)\n",
    "            if (i+1)*count==30 :\n",
    "                break\n",
    "    \n",
    "    print(f\"#{t+1} {xLen}\")"
   ]
  },
  {
   "cell_type": "markdown",
   "id": "26446ad8",
   "metadata": {},
   "source": [
    "위에 방식은 개수는 counting되나 마디가 바로바로 연결되는지 확인이 되지 않는다\n",
    "이를 해결해보자"
   ]
  },
  {
   "cell_type": "code",
   "execution_count": 26,
   "id": "c033302c",
   "metadata": {
    "ExecuteTime": {
     "end_time": "2023-01-31T09:55:34.175332Z",
     "start_time": "2023-01-31T09:55:13.209442Z"
    }
   },
   "outputs": [
    {
     "name": "stdout",
     "output_type": "stream",
     "text": [
      "3\n",
      "KOREAKOREAKOREAKOREAKOREAKOREA\n",
      "#1 5\n",
      "SAMSUNGSAMSUNGSAMSUNGSAMSUNGSA\n",
      "#2 7\n",
      "GALAXYGALAXYGALAXYGALAXYGALAXY\n",
      "#3 6\n"
     ]
    }
   ],
   "source": [
    "n = int(input())\n",
    "for t in range(n):\n",
    "    x=input()\n",
    "    xLen = 0\n",
    "    for i in range(1,11): #마디의 길이를 계속 늘려보자\n",
    "        wrong=True\n",
    "        cnt=0\n",
    "        for j in range(1,30//i) :\n",
    "#            print(x,i,j,x[:i],x[j*i:(j*i)+i], cnt, xLen)\n",
    "            if x[:i]==x[j*i:(j*i)+i]:\n",
    "                cnt+=1\n",
    "                continue\n",
    "            else :\n",
    "#                print(\"wrong\")\n",
    "                wrong=False\n",
    "                break\n",
    "        if cnt == (30//i)-1 :\n",
    "            xLen = i\n",
    "            break\n",
    "            \n",
    "        \n",
    "    print(f\"#{t+1} {xLen}\")"
   ]
  },
  {
   "cell_type": "code",
   "execution_count": null,
   "id": "eeed773f",
   "metadata": {},
   "outputs": [],
   "source": []
  },
  {
   "cell_type": "code",
   "execution_count": null,
   "id": "c9803a58",
   "metadata": {},
   "outputs": [],
   "source": []
  }
 ],
 "metadata": {
  "kernelspec": {
   "display_name": "Python 3 (ipykernel)",
   "language": "python",
   "name": "python3"
  },
  "language_info": {
   "codemirror_mode": {
    "name": "ipython",
    "version": 3
   },
   "file_extension": ".py",
   "mimetype": "text/x-python",
   "name": "python",
   "nbconvert_exporter": "python",
   "pygments_lexer": "ipython3",
   "version": "3.9.13"
  },
  "toc": {
   "base_numbering": 1,
   "nav_menu": {},
   "number_sections": true,
   "sideBar": true,
   "skip_h1_title": false,
   "title_cell": "Table of Contents",
   "title_sidebar": "Contents",
   "toc_cell": false,
   "toc_position": {},
   "toc_section_display": true,
   "toc_window_display": false
  },
  "varInspector": {
   "cols": {
    "lenName": 16,
    "lenType": 16,
    "lenVar": 40
   },
   "kernels_config": {
    "python": {
     "delete_cmd_postfix": "",
     "delete_cmd_prefix": "del ",
     "library": "var_list.py",
     "varRefreshCmd": "print(var_dic_list())"
    },
    "r": {
     "delete_cmd_postfix": ") ",
     "delete_cmd_prefix": "rm(",
     "library": "var_list.r",
     "varRefreshCmd": "cat(var_dic_list()) "
    }
   },
   "types_to_exclude": [
    "module",
    "function",
    "builtin_function_or_method",
    "instance",
    "_Feature"
   ],
   "window_display": false
  }
 },
 "nbformat": 4,
 "nbformat_minor": 5
}
