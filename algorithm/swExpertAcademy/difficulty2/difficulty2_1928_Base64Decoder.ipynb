{
 "cells": [
  {
   "cell_type": "markdown",
   "id": "d34bda13",
   "metadata": {},
   "source": [
    "# 1928. Base64 Decoder\n",
    "* https://swexpertacademy.com/main/code/problem/problemDetail.do?problemLevel=2&contestProbId=AV5PR4DKAG0DFAUq&categoryId=AV5PR4DKAG0DFAUq&categoryType=CODE&problemTitle=&orderBy=FIRST_REG_DATETIME&selectCodeLang=ALL&select-1=2&pageSize=10&pageIndex=3"
   ]
  },
  {
   "cell_type": "code",
   "execution_count": 32,
   "id": "c884782a",
   "metadata": {
    "ExecuteTime": {
     "end_time": "2023-02-08T06:45:10.363361Z",
     "start_time": "2023-02-08T06:44:44.127827Z"
    }
   },
   "outputs": [
    {
     "name": "stdout",
     "output_type": "stream",
     "text": [
      "5\n",
      "U3VzcGljaW9uIGZvbGxvd3MgY2xvc2Ugb24gbWlzdHJ1c3Qu\n",
      "#1 Suspicion follows close on mistrust.TGlmZSBpdHNlbGYgaXMgYSBxdW90YXRpb24u\n",
      "#2 Life itself is a quotation.VG8gZG91YnQgaXMgc2FmZXIgdGhhbiB0byBiZSBzZWN1cmUu\n",
      "#3 To doubt is safer than to be secure.T25seSB0aGUganVzdCBtYW4gZW5qb3lzIHBlYWNlIG9mIG1pbmQu\n",
      "#4 Only the just man enjoys peace of mind.QSBmdWxsIGJlbGx5IGlzIHRoZSBtb3RoZXIgb2YgYWxsIGV2aWwu\n",
      "#5 A full belly is the mother of all evil."
     ]
    }
   ],
   "source": [
    "t = int(input())\n",
    "decode = ['A','B','C','D','E','F','G','H','I','J','K','L','M','N','O','P','Q','R','S','T','U','V','W','X','Y','Z',\n",
    "          'a','b','c','d','e','f','g','h','i','j','k','l','m','n','o','p','q','r','s','t','u','v','w','x','y','z',\n",
    "          '0','1','2','3','4','5','6','7','8','9','+','/']\n",
    "for T in range(t):\n",
    "    sentence = input()\n",
    "    decodeSentence=''\n",
    "    \n",
    "    for word in sentence:\n",
    "        #decode할 단어의 decode된 값을 조회\n",
    "        decodeWord=decode.index(word)\n",
    "        \n",
    "        #decode된 값을 2진으로 변경\n",
    "        #decode된 값의 자릿수가 6이하면 6자리로 맞추기\n",
    "        decodeBinWord=str(bin(decodeWord)[2:])\n",
    "        while not(len(decodeBinWord)==6) :\n",
    "            decodeBinWord='0'+decodeBinWord\n",
    "    \n",
    "        decodeSentence+=decodeBinWord\n",
    "    \n",
    "    print(f\"#{T+1} \", end=\"\")\n",
    "    for i in range(len(decodeSentence)//8):\n",
    "        print(chr(int(decodeSentence[i*8:(i+1)*8],2)),end=\"\")\n",
    "        \n",
    "    "
   ]
  },
  {
   "cell_type": "code",
   "execution_count": null,
   "id": "ec2f6867",
   "metadata": {},
   "outputs": [],
   "source": [
    "5\n",
    "TGlmZSBpdHNlbGYgaXMgYSBxdW90YXRpb24u\n",
    "U3VzcGljaW9uIGZvbGxvd3MgY2xvc2Ugb24gbWlzdHJ1c3Qu\n",
    "VG8gZG91YnQgaXMgc2FmZXIgdGhhbiB0byBiZSBzZWN1cmUu\n",
    "T25seSB0aGUganVzdCBtYW4gZW5qb3lzIHBlYWNlIG9mIG1pbmQu\n",
    "QSBmdWxsIGJlbGx5IGlzIHRoZSBtb3RoZXIgb2YgYWxsIGV2aWwu"
   ]
  },
  {
   "cell_type": "markdown",
   "id": "e4204c1e",
   "metadata": {},
   "source": [
    "## solution2"
   ]
  },
  {
   "cell_type": "code",
   "execution_count": null,
   "id": "dc339a90",
   "metadata": {},
   "outputs": [],
   "source": [
    "from base64 import b64decode\n",
    "\n",
    "T = int(input())\n",
    "for t in range(1, T+1):\n",
    "    print(f'#{t} {b64decode(input()).decode(\"UTF-8\")}')"
   ]
  }
 ],
 "metadata": {
  "kernelspec": {
   "display_name": "Python 3 (ipykernel)",
   "language": "python",
   "name": "python3"
  },
  "language_info": {
   "codemirror_mode": {
    "name": "ipython",
    "version": 3
   },
   "file_extension": ".py",
   "mimetype": "text/x-python",
   "name": "python",
   "nbconvert_exporter": "python",
   "pygments_lexer": "ipython3",
   "version": "3.9.13"
  },
  "toc": {
   "base_numbering": 1,
   "nav_menu": {},
   "number_sections": true,
   "sideBar": true,
   "skip_h1_title": false,
   "title_cell": "Table of Contents",
   "title_sidebar": "Contents",
   "toc_cell": false,
   "toc_position": {},
   "toc_section_display": true,
   "toc_window_display": false
  },
  "varInspector": {
   "cols": {
    "lenName": 16,
    "lenType": 16,
    "lenVar": 40
   },
   "kernels_config": {
    "python": {
     "delete_cmd_postfix": "",
     "delete_cmd_prefix": "del ",
     "library": "var_list.py",
     "varRefreshCmd": "print(var_dic_list())"
    },
    "r": {
     "delete_cmd_postfix": ") ",
     "delete_cmd_prefix": "rm(",
     "library": "var_list.r",
     "varRefreshCmd": "cat(var_dic_list()) "
    }
   },
   "types_to_exclude": [
    "module",
    "function",
    "builtin_function_or_method",
    "instance",
    "_Feature"
   ],
   "window_display": false
  }
 },
 "nbformat": 4,
 "nbformat_minor": 5
}
